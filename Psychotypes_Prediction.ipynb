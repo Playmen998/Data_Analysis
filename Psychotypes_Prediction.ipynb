{
 "cells": [
  {
   "cell_type": "markdown",
   "id": "683873d3",
   "metadata": {
    "toc": true
   },
   "source": [
    "<h1>Table of Contents<span class=\"tocSkip\"></span></h1>\n",
    "<div class=\"toc\"><ul class=\"toc-item\"><li><span><a href=\"#Подготовим-данные\" data-toc-modified-id=\"Подготовим-данные-1\"><span class=\"toc-item-num\">1&nbsp;&nbsp;</span>Подготовим данные</a></span></li><li><span><a href=\"#Разведовательный-анализ-данных\" data-toc-modified-id=\"Разведовательный-анализ-данных-2\"><span class=\"toc-item-num\">2&nbsp;&nbsp;</span>Разведовательный анализ данных</a></span><ul class=\"toc-item\"><li><span><a href=\"#Психотипы\" data-toc-modified-id=\"Психотипы-2.1\"><span class=\"toc-item-num\">2.1&nbsp;&nbsp;</span>Психотипы</a></span></li><li><span><a href=\"#Должности\" data-toc-modified-id=\"Должности-2.2\"><span class=\"toc-item-num\">2.2&nbsp;&nbsp;</span>Должности</a></span></li><li><span><a href=\"#Сферы-профессий\" data-toc-modified-id=\"Сферы-профессий-2.3\"><span class=\"toc-item-num\">2.3&nbsp;&nbsp;</span>Сферы профессий</a></span></li></ul></li><li><span><a href=\"#Построение-модели-машинного-обучения\" data-toc-modified-id=\"Построение-модели-машинного-обучения-3\"><span class=\"toc-item-num\">3&nbsp;&nbsp;</span>Построение модели машинного обучения</a></span><ul class=\"toc-item\"><li><span><a href=\"#Baseline\" data-toc-modified-id=\"Baseline-3.1\"><span class=\"toc-item-num\">3.1&nbsp;&nbsp;</span>Baseline</a></span></li><li><span><a href=\"#Подбираем-гиперпараметры\" data-toc-modified-id=\"Подбираем-гиперпараметры-3.2\"><span class=\"toc-item-num\">3.2&nbsp;&nbsp;</span>Подбираем гиперпараметры</a></span><ul class=\"toc-item\"><li><span><a href=\"#Строим-модель-с-подобранными-гиперпараметрами\" data-toc-modified-id=\"Строим-модель-с-подобранными-гиперпараметрами-3.2.1\"><span class=\"toc-item-num\">3.2.1&nbsp;&nbsp;</span>Строим модель с подобранными гиперпараметрами</a></span></li></ul></li><li><span><a href=\"#Подбираем-гиперпараметр-iterations\" data-toc-modified-id=\"Подбираем-гиперпараметр-iterations-3.3\"><span class=\"toc-item-num\">3.3&nbsp;&nbsp;</span>Подбираем гиперпараметр iterations</a></span></li></ul></li><li><span><a href=\"#Построим-финальную-модель\" data-toc-modified-id=\"Построим-финальную-модель-4\"><span class=\"toc-item-num\">4&nbsp;&nbsp;</span>Построим финальную модель</a></span></li><li><span><a href=\"#Анализ-полученных-результатов\" data-toc-modified-id=\"Анализ-полученных-результатов-5\"><span class=\"toc-item-num\">5&nbsp;&nbsp;</span>Анализ полученных результатов</a></span></li></ul></div>"
   ]
  },
  {
   "cell_type": "markdown",
   "id": "cc0a64c6",
   "metadata": {},
   "source": [
    "# Подготовим данные"
   ]
  },
  {
   "cell_type": "code",
   "execution_count": 156,
   "id": "812661c4",
   "metadata": {},
   "outputs": [],
   "source": [
    "import pandas as pd\n",
    "import numpy as np\n",
    "import seaborn as sns\n",
    "import matplotlib.pyplot as plt\n",
    "#from sklearn import metrics\n",
    "import itertools\n",
    "from sklearn.model_selection import train_test_split\n",
    "from catboost import CatBoostClassifier\n",
    "from sklearn.metrics import average_precision_score, classification_report, precision_recall_curve, confusion_matrix \n",
    "from sklearn.preprocessing import MultiLabelBinarizer\n",
    "from hyperopt import hp, fmin, tpe\n",
    "from catboost import cv\n",
    "import hvplot.pandas\n",
    "\n",
    "from astropy.visualization import astropy_mpl_style\n",
    "astropy_mpl_style['axes.grid'] = False\n",
    "plt.style.use(astropy_mpl_style)"
   ]
  },
  {
   "cell_type": "code",
   "execution_count": 157,
   "id": "45d5ae01",
   "metadata": {},
   "outputs": [],
   "source": [
    "pd.set_option('display.max_rows', 500)\n",
    "pd.set_option('display.max_columns', 500)\n",
    "pd.set_option('display.width', 1000)"
   ]
  },
  {
   "cell_type": "markdown",
   "id": "a5e1beb3",
   "metadata": {},
   "source": [
    "Датасет был взят с сайта [www.kaggle.com](https://www.kaggle.com/datasets/pmenshih/kpmiru-questionnaires-data) в которых респонденты отвечали на 142, по которым был вычислен психотип по методики KPMI ([Википедия](https://en.wikipedia.org/wiki/Myers%E2%80%93Briggs_Type_Indicator))  \n",
    "https://drive.google.com/file/d/1U6X4t-1w9khsYlq4HUtAGpT1qWeVJMgp/view?usp=share_link"
   ]
  },
  {
   "cell_type": "code",
   "execution_count": 231,
   "id": "a5db6bcf",
   "metadata": {},
   "outputs": [
    {
     "name": "stderr",
     "output_type": "stream",
     "text": [
      "Downloading...\n",
      "From: https://drive.google.com/uc?id=1U6X4t-1w9khsYlq4HUtAGpT1qWeVJMgp\n",
      "To: C:\\Users\\lavru\\juoyter_notebook\\Computed_Psychotype\\kpmi_data.csv\n",
      "\n",
      "  0%|          | 0.00/7.32M [00:00<?, ?B/s]\n",
      " 14%|#4        | 1.05M/7.32M [00:00<00:00, 7.46MB/s]\n",
      " 36%|###5      | 2.62M/7.32M [00:00<00:00, 9.65MB/s]\n",
      " 57%|#####7    | 4.19M/7.32M [00:00<00:00, 9.87MB/s]\n",
      " 79%|#######8  | 5.77M/7.32M [00:00<00:00, 10.3MB/s]\n",
      " 93%|#########3| 6.82M/7.32M [00:00<00:00, 9.92MB/s]\n",
      "100%|##########| 7.32M/7.32M [00:00<00:00, 10.3MB/s]\n"
     ]
    }
   ],
   "source": [
    "#Скачиваем таблицу\n",
    "!gdown 1U6X4t-1w9khsYlq4HUtAGpT1qWeVJMgp"
   ]
  },
  {
   "cell_type": "code",
   "execution_count": 232,
   "id": "a0398fd1",
   "metadata": {},
   "outputs": [],
   "source": [
    "df = pd.read_csv('kpmi_data.csv',low_memory=False)"
   ]
  },
  {
   "cell_type": "code",
   "execution_count": 233,
   "id": "938bdb12",
   "metadata": {},
   "outputs": [
    {
     "data": {
      "text/html": [
       "<div>\n",
       "<style scoped>\n",
       "    .dataframe tbody tr th:only-of-type {\n",
       "        vertical-align: middle;\n",
       "    }\n",
       "\n",
       "    .dataframe tbody tr th {\n",
       "        vertical-align: top;\n",
       "    }\n",
       "\n",
       "    .dataframe thead th {\n",
       "        text-align: right;\n",
       "    }\n",
       "</style>\n",
       "<table border=\"1\" class=\"dataframe\">\n",
       "  <thead>\n",
       "    <tr style=\"text-align: right;\">\n",
       "      <th></th>\n",
       "      <th>jobtitle</th>\n",
       "      <th>jobfield</th>\n",
       "      <th>q1</th>\n",
       "      <th>q2</th>\n",
       "      <th>q3</th>\n",
       "      <th>q4</th>\n",
       "      <th>q5</th>\n",
       "      <th>q6</th>\n",
       "      <th>q7</th>\n",
       "      <th>q8</th>\n",
       "      <th>q9</th>\n",
       "      <th>q10</th>\n",
       "      <th>q11</th>\n",
       "      <th>q12</th>\n",
       "      <th>q13</th>\n",
       "      <th>q14</th>\n",
       "      <th>q15</th>\n",
       "      <th>q16</th>\n",
       "      <th>q17</th>\n",
       "      <th>q18</th>\n",
       "      <th>q19</th>\n",
       "      <th>q20</th>\n",
       "      <th>q21</th>\n",
       "      <th>q22</th>\n",
       "      <th>q23</th>\n",
       "      <th>q24</th>\n",
       "      <th>q25</th>\n",
       "      <th>q26</th>\n",
       "      <th>q27</th>\n",
       "      <th>q28</th>\n",
       "      <th>q29</th>\n",
       "      <th>q30</th>\n",
       "      <th>q31</th>\n",
       "      <th>q32</th>\n",
       "      <th>q33</th>\n",
       "      <th>q34</th>\n",
       "      <th>q35</th>\n",
       "      <th>q36</th>\n",
       "      <th>q37</th>\n",
       "      <th>q38</th>\n",
       "      <th>q39</th>\n",
       "      <th>q40</th>\n",
       "      <th>q41</th>\n",
       "      <th>q42</th>\n",
       "      <th>q43</th>\n",
       "      <th>q44</th>\n",
       "      <th>q45</th>\n",
       "      <th>q46</th>\n",
       "      <th>q47</th>\n",
       "      <th>q48</th>\n",
       "      <th>q49</th>\n",
       "      <th>q50</th>\n",
       "      <th>q51</th>\n",
       "      <th>q52</th>\n",
       "      <th>q53</th>\n",
       "      <th>q54</th>\n",
       "      <th>q55</th>\n",
       "      <th>q56</th>\n",
       "      <th>q57</th>\n",
       "      <th>q58</th>\n",
       "      <th>q59</th>\n",
       "      <th>q60</th>\n",
       "      <th>q61</th>\n",
       "      <th>q62</th>\n",
       "      <th>q63</th>\n",
       "      <th>q64</th>\n",
       "      <th>q65</th>\n",
       "      <th>q66</th>\n",
       "      <th>q67</th>\n",
       "      <th>q68</th>\n",
       "      <th>q69</th>\n",
       "      <th>q70</th>\n",
       "      <th>q71</th>\n",
       "      <th>q72</th>\n",
       "      <th>q73</th>\n",
       "      <th>q74</th>\n",
       "      <th>q75</th>\n",
       "      <th>q76</th>\n",
       "      <th>q77</th>\n",
       "      <th>q78</th>\n",
       "      <th>q79</th>\n",
       "      <th>q80</th>\n",
       "      <th>q81</th>\n",
       "      <th>q82</th>\n",
       "      <th>q83</th>\n",
       "      <th>q84</th>\n",
       "      <th>q85</th>\n",
       "      <th>q86</th>\n",
       "      <th>q87</th>\n",
       "      <th>q88</th>\n",
       "      <th>q89</th>\n",
       "      <th>q90</th>\n",
       "      <th>q91</th>\n",
       "      <th>q92</th>\n",
       "      <th>q93</th>\n",
       "      <th>q94</th>\n",
       "      <th>q95</th>\n",
       "      <th>q96</th>\n",
       "      <th>q97</th>\n",
       "      <th>q98</th>\n",
       "      <th>q99</th>\n",
       "      <th>q100</th>\n",
       "      <th>q101</th>\n",
       "      <th>q102</th>\n",
       "      <th>q103</th>\n",
       "      <th>q104</th>\n",
       "      <th>q105</th>\n",
       "      <th>q106</th>\n",
       "      <th>q107</th>\n",
       "      <th>q108</th>\n",
       "      <th>q109</th>\n",
       "      <th>q110</th>\n",
       "      <th>q111</th>\n",
       "      <th>q112</th>\n",
       "      <th>q113</th>\n",
       "      <th>q114</th>\n",
       "      <th>q115</th>\n",
       "      <th>q116</th>\n",
       "      <th>q117</th>\n",
       "      <th>q118</th>\n",
       "      <th>q119</th>\n",
       "      <th>q120</th>\n",
       "      <th>q121</th>\n",
       "      <th>q122</th>\n",
       "      <th>q123</th>\n",
       "      <th>q124</th>\n",
       "      <th>q125</th>\n",
       "      <th>q126</th>\n",
       "      <th>q127</th>\n",
       "      <th>q128</th>\n",
       "      <th>q129</th>\n",
       "      <th>q130</th>\n",
       "      <th>q131</th>\n",
       "      <th>q132</th>\n",
       "      <th>q133</th>\n",
       "      <th>q134</th>\n",
       "      <th>q135</th>\n",
       "      <th>q136</th>\n",
       "      <th>q137</th>\n",
       "      <th>q138</th>\n",
       "      <th>q139</th>\n",
       "      <th>q140</th>\n",
       "      <th>q141</th>\n",
       "      <th>q142</th>\n",
       "      <th>scale_e</th>\n",
       "      <th>scale_i</th>\n",
       "      <th>scale_s</th>\n",
       "      <th>scale_n</th>\n",
       "      <th>scale_t</th>\n",
       "      <th>scale_f</th>\n",
       "      <th>scale_j</th>\n",
       "      <th>scale_p</th>\n",
       "      <th>psychotype</th>\n",
       "      <th>satisfied</th>\n",
       "    </tr>\n",
       "  </thead>\n",
       "  <tbody>\n",
       "    <tr>\n",
       "      <th>0</th>\n",
       "      <td>NaN</td>\n",
       "      <td>NaN</td>\n",
       "      <td>1</td>\n",
       "      <td>0</td>\n",
       "      <td>0</td>\n",
       "      <td>0</td>\n",
       "      <td>0</td>\n",
       "      <td>1</td>\n",
       "      <td>1</td>\n",
       "      <td>0</td>\n",
       "      <td>1</td>\n",
       "      <td>0</td>\n",
       "      <td>1</td>\n",
       "      <td>0</td>\n",
       "      <td>1</td>\n",
       "      <td>0</td>\n",
       "      <td>0</td>\n",
       "      <td>0</td>\n",
       "      <td>0</td>\n",
       "      <td>0</td>\n",
       "      <td>1</td>\n",
       "      <td>1</td>\n",
       "      <td>1</td>\n",
       "      <td>1</td>\n",
       "      <td>0</td>\n",
       "      <td>1</td>\n",
       "      <td>1</td>\n",
       "      <td>0</td>\n",
       "      <td>0</td>\n",
       "      <td>0</td>\n",
       "      <td>1</td>\n",
       "      <td>0</td>\n",
       "      <td>0</td>\n",
       "      <td>1</td>\n",
       "      <td>0</td>\n",
       "      <td>0</td>\n",
       "      <td>0</td>\n",
       "      <td>0</td>\n",
       "      <td>0</td>\n",
       "      <td>0</td>\n",
       "      <td>0</td>\n",
       "      <td>0</td>\n",
       "      <td>0</td>\n",
       "      <td>0</td>\n",
       "      <td>0</td>\n",
       "      <td>0</td>\n",
       "      <td>0</td>\n",
       "      <td>1</td>\n",
       "      <td>0</td>\n",
       "      <td>1</td>\n",
       "      <td>1</td>\n",
       "      <td>1</td>\n",
       "      <td>0</td>\n",
       "      <td>0</td>\n",
       "      <td>1</td>\n",
       "      <td>0</td>\n",
       "      <td>0</td>\n",
       "      <td>1</td>\n",
       "      <td>1</td>\n",
       "      <td>1</td>\n",
       "      <td>0</td>\n",
       "      <td>0</td>\n",
       "      <td>0</td>\n",
       "      <td>0</td>\n",
       "      <td>1</td>\n",
       "      <td>1</td>\n",
       "      <td>1</td>\n",
       "      <td>0</td>\n",
       "      <td>1</td>\n",
       "      <td>0</td>\n",
       "      <td>1</td>\n",
       "      <td>0</td>\n",
       "      <td>0</td>\n",
       "      <td>0</td>\n",
       "      <td>1</td>\n",
       "      <td>0</td>\n",
       "      <td>1</td>\n",
       "      <td>1</td>\n",
       "      <td>0</td>\n",
       "      <td>0</td>\n",
       "      <td>1</td>\n",
       "      <td>1</td>\n",
       "      <td>1</td>\n",
       "      <td>0</td>\n",
       "      <td>0</td>\n",
       "      <td>1</td>\n",
       "      <td>1</td>\n",
       "      <td>0</td>\n",
       "      <td>0</td>\n",
       "      <td>0</td>\n",
       "      <td>1</td>\n",
       "      <td>1</td>\n",
       "      <td>0</td>\n",
       "      <td>1</td>\n",
       "      <td>1</td>\n",
       "      <td>1</td>\n",
       "      <td>1</td>\n",
       "      <td>1</td>\n",
       "      <td>1</td>\n",
       "      <td>1</td>\n",
       "      <td>1</td>\n",
       "      <td>0</td>\n",
       "      <td>1</td>\n",
       "      <td>1</td>\n",
       "      <td>0</td>\n",
       "      <td>0</td>\n",
       "      <td>1</td>\n",
       "      <td>0</td>\n",
       "      <td>0</td>\n",
       "      <td>0</td>\n",
       "      <td>1</td>\n",
       "      <td>0</td>\n",
       "      <td>0</td>\n",
       "      <td>0</td>\n",
       "      <td>1</td>\n",
       "      <td>1</td>\n",
       "      <td>0</td>\n",
       "      <td>1</td>\n",
       "      <td>0</td>\n",
       "      <td>1</td>\n",
       "      <td>0</td>\n",
       "      <td>0</td>\n",
       "      <td>1</td>\n",
       "      <td>1</td>\n",
       "      <td>1</td>\n",
       "      <td>1</td>\n",
       "      <td>1</td>\n",
       "      <td>0</td>\n",
       "      <td>0</td>\n",
       "      <td>0</td>\n",
       "      <td>1</td>\n",
       "      <td>1</td>\n",
       "      <td>1</td>\n",
       "      <td>0</td>\n",
       "      <td>0</td>\n",
       "      <td>0</td>\n",
       "      <td>0</td>\n",
       "      <td>1</td>\n",
       "      <td>0</td>\n",
       "      <td>0</td>\n",
       "      <td>1</td>\n",
       "      <td>0</td>\n",
       "      <td>0</td>\n",
       "      <td>0</td>\n",
       "      <td>5</td>\n",
       "      <td>26</td>\n",
       "      <td>25</td>\n",
       "      <td>12</td>\n",
       "      <td>24</td>\n",
       "      <td>8</td>\n",
       "      <td>27</td>\n",
       "      <td>10</td>\n",
       "      <td>ISTJ</td>\n",
       "      <td>0</td>\n",
       "    </tr>\n",
       "    <tr>\n",
       "      <th>1</th>\n",
       "      <td>HR manager</td>\n",
       "      <td>Staff and training</td>\n",
       "      <td>1</td>\n",
       "      <td>0</td>\n",
       "      <td>0</td>\n",
       "      <td>1</td>\n",
       "      <td>1</td>\n",
       "      <td>1</td>\n",
       "      <td>1</td>\n",
       "      <td>0</td>\n",
       "      <td>1</td>\n",
       "      <td>0</td>\n",
       "      <td>1</td>\n",
       "      <td>0</td>\n",
       "      <td>0</td>\n",
       "      <td>0</td>\n",
       "      <td>1</td>\n",
       "      <td>1</td>\n",
       "      <td>1</td>\n",
       "      <td>1</td>\n",
       "      <td>1</td>\n",
       "      <td>0</td>\n",
       "      <td>0</td>\n",
       "      <td>1</td>\n",
       "      <td>0</td>\n",
       "      <td>1</td>\n",
       "      <td>1</td>\n",
       "      <td>1</td>\n",
       "      <td>1</td>\n",
       "      <td>0</td>\n",
       "      <td>0</td>\n",
       "      <td>1</td>\n",
       "      <td>0</td>\n",
       "      <td>0</td>\n",
       "      <td>0</td>\n",
       "      <td>1</td>\n",
       "      <td>0</td>\n",
       "      <td>1</td>\n",
       "      <td>1</td>\n",
       "      <td>0</td>\n",
       "      <td>0</td>\n",
       "      <td>0</td>\n",
       "      <td>0</td>\n",
       "      <td>1</td>\n",
       "      <td>1</td>\n",
       "      <td>0</td>\n",
       "      <td>0</td>\n",
       "      <td>1</td>\n",
       "      <td>1</td>\n",
       "      <td>1</td>\n",
       "      <td>0</td>\n",
       "      <td>1</td>\n",
       "      <td>0</td>\n",
       "      <td>1</td>\n",
       "      <td>0</td>\n",
       "      <td>0</td>\n",
       "      <td>1</td>\n",
       "      <td>1</td>\n",
       "      <td>1</td>\n",
       "      <td>1</td>\n",
       "      <td>0</td>\n",
       "      <td>0</td>\n",
       "      <td>0</td>\n",
       "      <td>1</td>\n",
       "      <td>0</td>\n",
       "      <td>0</td>\n",
       "      <td>1</td>\n",
       "      <td>1</td>\n",
       "      <td>1</td>\n",
       "      <td>1</td>\n",
       "      <td>1</td>\n",
       "      <td>0</td>\n",
       "      <td>0</td>\n",
       "      <td>1</td>\n",
       "      <td>0</td>\n",
       "      <td>0</td>\n",
       "      <td>0</td>\n",
       "      <td>0</td>\n",
       "      <td>1</td>\n",
       "      <td>1</td>\n",
       "      <td>0</td>\n",
       "      <td>1</td>\n",
       "      <td>1</td>\n",
       "      <td>1</td>\n",
       "      <td>0</td>\n",
       "      <td>0</td>\n",
       "      <td>1</td>\n",
       "      <td>0</td>\n",
       "      <td>0</td>\n",
       "      <td>0</td>\n",
       "      <td>1</td>\n",
       "      <td>0</td>\n",
       "      <td>1</td>\n",
       "      <td>0</td>\n",
       "      <td>0</td>\n",
       "      <td>1</td>\n",
       "      <td>1</td>\n",
       "      <td>0</td>\n",
       "      <td>0</td>\n",
       "      <td>0</td>\n",
       "      <td>0</td>\n",
       "      <td>1</td>\n",
       "      <td>0</td>\n",
       "      <td>1</td>\n",
       "      <td>0</td>\n",
       "      <td>1</td>\n",
       "      <td>0</td>\n",
       "      <td>0</td>\n",
       "      <td>0</td>\n",
       "      <td>0</td>\n",
       "      <td>1</td>\n",
       "      <td>1</td>\n",
       "      <td>0</td>\n",
       "      <td>0</td>\n",
       "      <td>0</td>\n",
       "      <td>0</td>\n",
       "      <td>1</td>\n",
       "      <td>1</td>\n",
       "      <td>0</td>\n",
       "      <td>0</td>\n",
       "      <td>0</td>\n",
       "      <td>0</td>\n",
       "      <td>0</td>\n",
       "      <td>1</td>\n",
       "      <td>0</td>\n",
       "      <td>0</td>\n",
       "      <td>0</td>\n",
       "      <td>1</td>\n",
       "      <td>1</td>\n",
       "      <td>1</td>\n",
       "      <td>0</td>\n",
       "      <td>1</td>\n",
       "      <td>1</td>\n",
       "      <td>0</td>\n",
       "      <td>0</td>\n",
       "      <td>0</td>\n",
       "      <td>1</td>\n",
       "      <td>1</td>\n",
       "      <td>1</td>\n",
       "      <td>1</td>\n",
       "      <td>0</td>\n",
       "      <td>0</td>\n",
       "      <td>1</td>\n",
       "      <td>1</td>\n",
       "      <td>16</td>\n",
       "      <td>22</td>\n",
       "      <td>17</td>\n",
       "      <td>16</td>\n",
       "      <td>23</td>\n",
       "      <td>11</td>\n",
       "      <td>22</td>\n",
       "      <td>15</td>\n",
       "      <td>ISTJ</td>\n",
       "      <td>1</td>\n",
       "    </tr>\n",
       "    <tr>\n",
       "      <th>2</th>\n",
       "      <td>HR manager</td>\n",
       "      <td>Staff and training</td>\n",
       "      <td>0</td>\n",
       "      <td>0</td>\n",
       "      <td>1</td>\n",
       "      <td>0</td>\n",
       "      <td>0</td>\n",
       "      <td>1</td>\n",
       "      <td>1</td>\n",
       "      <td>0</td>\n",
       "      <td>0</td>\n",
       "      <td>1</td>\n",
       "      <td>1</td>\n",
       "      <td>0</td>\n",
       "      <td>0</td>\n",
       "      <td>1</td>\n",
       "      <td>1</td>\n",
       "      <td>0</td>\n",
       "      <td>1</td>\n",
       "      <td>0</td>\n",
       "      <td>1</td>\n",
       "      <td>0</td>\n",
       "      <td>0</td>\n",
       "      <td>0</td>\n",
       "      <td>0</td>\n",
       "      <td>0</td>\n",
       "      <td>1</td>\n",
       "      <td>1</td>\n",
       "      <td>0</td>\n",
       "      <td>1</td>\n",
       "      <td>0</td>\n",
       "      <td>1</td>\n",
       "      <td>0</td>\n",
       "      <td>0</td>\n",
       "      <td>0</td>\n",
       "      <td>1</td>\n",
       "      <td>0</td>\n",
       "      <td>0</td>\n",
       "      <td>1</td>\n",
       "      <td>1</td>\n",
       "      <td>0</td>\n",
       "      <td>0</td>\n",
       "      <td>1</td>\n",
       "      <td>0</td>\n",
       "      <td>1</td>\n",
       "      <td>0</td>\n",
       "      <td>0</td>\n",
       "      <td>0</td>\n",
       "      <td>0</td>\n",
       "      <td>0</td>\n",
       "      <td>0</td>\n",
       "      <td>1</td>\n",
       "      <td>1</td>\n",
       "      <td>0</td>\n",
       "      <td>0</td>\n",
       "      <td>0</td>\n",
       "      <td>1</td>\n",
       "      <td>1</td>\n",
       "      <td>0</td>\n",
       "      <td>0</td>\n",
       "      <td>0</td>\n",
       "      <td>1</td>\n",
       "      <td>1</td>\n",
       "      <td>0</td>\n",
       "      <td>0</td>\n",
       "      <td>0</td>\n",
       "      <td>0</td>\n",
       "      <td>1</td>\n",
       "      <td>1</td>\n",
       "      <td>0</td>\n",
       "      <td>0</td>\n",
       "      <td>1</td>\n",
       "      <td>0</td>\n",
       "      <td>0</td>\n",
       "      <td>0</td>\n",
       "      <td>1</td>\n",
       "      <td>0</td>\n",
       "      <td>0</td>\n",
       "      <td>1</td>\n",
       "      <td>0</td>\n",
       "      <td>1</td>\n",
       "      <td>1</td>\n",
       "      <td>1</td>\n",
       "      <td>1</td>\n",
       "      <td>0</td>\n",
       "      <td>1</td>\n",
       "      <td>0</td>\n",
       "      <td>0</td>\n",
       "      <td>1</td>\n",
       "      <td>0</td>\n",
       "      <td>0</td>\n",
       "      <td>0</td>\n",
       "      <td>1</td>\n",
       "      <td>0</td>\n",
       "      <td>0</td>\n",
       "      <td>1</td>\n",
       "      <td>0</td>\n",
       "      <td>1</td>\n",
       "      <td>0</td>\n",
       "      <td>0</td>\n",
       "      <td>1</td>\n",
       "      <td>1</td>\n",
       "      <td>0</td>\n",
       "      <td>1</td>\n",
       "      <td>0</td>\n",
       "      <td>1</td>\n",
       "      <td>1</td>\n",
       "      <td>1</td>\n",
       "      <td>1</td>\n",
       "      <td>1</td>\n",
       "      <td>1</td>\n",
       "      <td>0</td>\n",
       "      <td>1</td>\n",
       "      <td>1</td>\n",
       "      <td>0</td>\n",
       "      <td>0</td>\n",
       "      <td>1</td>\n",
       "      <td>0</td>\n",
       "      <td>1</td>\n",
       "      <td>0</td>\n",
       "      <td>0</td>\n",
       "      <td>0</td>\n",
       "      <td>0</td>\n",
       "      <td>1</td>\n",
       "      <td>0</td>\n",
       "      <td>0</td>\n",
       "      <td>1</td>\n",
       "      <td>1</td>\n",
       "      <td>0</td>\n",
       "      <td>0</td>\n",
       "      <td>0</td>\n",
       "      <td>1</td>\n",
       "      <td>1</td>\n",
       "      <td>0</td>\n",
       "      <td>1</td>\n",
       "      <td>1</td>\n",
       "      <td>0</td>\n",
       "      <td>0</td>\n",
       "      <td>1</td>\n",
       "      <td>1</td>\n",
       "      <td>0</td>\n",
       "      <td>0</td>\n",
       "      <td>0</td>\n",
       "      <td>1</td>\n",
       "      <td>28</td>\n",
       "      <td>6</td>\n",
       "      <td>14</td>\n",
       "      <td>18</td>\n",
       "      <td>20</td>\n",
       "      <td>16</td>\n",
       "      <td>20</td>\n",
       "      <td>15</td>\n",
       "      <td>ENTJ</td>\n",
       "      <td>0</td>\n",
       "    </tr>\n",
       "    <tr>\n",
       "      <th>3</th>\n",
       "      <td>HR manager</td>\n",
       "      <td>Staff and training</td>\n",
       "      <td>0</td>\n",
       "      <td>0</td>\n",
       "      <td>1</td>\n",
       "      <td>1</td>\n",
       "      <td>0</td>\n",
       "      <td>1</td>\n",
       "      <td>1</td>\n",
       "      <td>0</td>\n",
       "      <td>0</td>\n",
       "      <td>0</td>\n",
       "      <td>0</td>\n",
       "      <td>1</td>\n",
       "      <td>0</td>\n",
       "      <td>0</td>\n",
       "      <td>1</td>\n",
       "      <td>0</td>\n",
       "      <td>1</td>\n",
       "      <td>0</td>\n",
       "      <td>1</td>\n",
       "      <td>1</td>\n",
       "      <td>0</td>\n",
       "      <td>1</td>\n",
       "      <td>0</td>\n",
       "      <td>0</td>\n",
       "      <td>1</td>\n",
       "      <td>0</td>\n",
       "      <td>0</td>\n",
       "      <td>0</td>\n",
       "      <td>0</td>\n",
       "      <td>0</td>\n",
       "      <td>1</td>\n",
       "      <td>0</td>\n",
       "      <td>0</td>\n",
       "      <td>1</td>\n",
       "      <td>0</td>\n",
       "      <td>1</td>\n",
       "      <td>1</td>\n",
       "      <td>1</td>\n",
       "      <td>0</td>\n",
       "      <td>0</td>\n",
       "      <td>1</td>\n",
       "      <td>0</td>\n",
       "      <td>0</td>\n",
       "      <td>0</td>\n",
       "      <td>0</td>\n",
       "      <td>0</td>\n",
       "      <td>1</td>\n",
       "      <td>1</td>\n",
       "      <td>0</td>\n",
       "      <td>0</td>\n",
       "      <td>0</td>\n",
       "      <td>0</td>\n",
       "      <td>1</td>\n",
       "      <td>1</td>\n",
       "      <td>0</td>\n",
       "      <td>0</td>\n",
       "      <td>0</td>\n",
       "      <td>1</td>\n",
       "      <td>0</td>\n",
       "      <td>1</td>\n",
       "      <td>1</td>\n",
       "      <td>0</td>\n",
       "      <td>0</td>\n",
       "      <td>0</td>\n",
       "      <td>1</td>\n",
       "      <td>0</td>\n",
       "      <td>0</td>\n",
       "      <td>1</td>\n",
       "      <td>1</td>\n",
       "      <td>0</td>\n",
       "      <td>0</td>\n",
       "      <td>0</td>\n",
       "      <td>0</td>\n",
       "      <td>0</td>\n",
       "      <td>0</td>\n",
       "      <td>1</td>\n",
       "      <td>0</td>\n",
       "      <td>0</td>\n",
       "      <td>0</td>\n",
       "      <td>0</td>\n",
       "      <td>0</td>\n",
       "      <td>1</td>\n",
       "      <td>1</td>\n",
       "      <td>0</td>\n",
       "      <td>0</td>\n",
       "      <td>1</td>\n",
       "      <td>1</td>\n",
       "      <td>0</td>\n",
       "      <td>0</td>\n",
       "      <td>0</td>\n",
       "      <td>1</td>\n",
       "      <td>0</td>\n",
       "      <td>0</td>\n",
       "      <td>0</td>\n",
       "      <td>0</td>\n",
       "      <td>1</td>\n",
       "      <td>0</td>\n",
       "      <td>0</td>\n",
       "      <td>1</td>\n",
       "      <td>1</td>\n",
       "      <td>1</td>\n",
       "      <td>0</td>\n",
       "      <td>1</td>\n",
       "      <td>0</td>\n",
       "      <td>0</td>\n",
       "      <td>1</td>\n",
       "      <td>0</td>\n",
       "      <td>1</td>\n",
       "      <td>0</td>\n",
       "      <td>1</td>\n",
       "      <td>1</td>\n",
       "      <td>0</td>\n",
       "      <td>0</td>\n",
       "      <td>0</td>\n",
       "      <td>1</td>\n",
       "      <td>0</td>\n",
       "      <td>1</td>\n",
       "      <td>0</td>\n",
       "      <td>0</td>\n",
       "      <td>0</td>\n",
       "      <td>1</td>\n",
       "      <td>0</td>\n",
       "      <td>0</td>\n",
       "      <td>1</td>\n",
       "      <td>0</td>\n",
       "      <td>1</td>\n",
       "      <td>0</td>\n",
       "      <td>0</td>\n",
       "      <td>0</td>\n",
       "      <td>0</td>\n",
       "      <td>1</td>\n",
       "      <td>1</td>\n",
       "      <td>1</td>\n",
       "      <td>0</td>\n",
       "      <td>1</td>\n",
       "      <td>0</td>\n",
       "      <td>0</td>\n",
       "      <td>0</td>\n",
       "      <td>1</td>\n",
       "      <td>1</td>\n",
       "      <td>0</td>\n",
       "      <td>1</td>\n",
       "      <td>28</td>\n",
       "      <td>10</td>\n",
       "      <td>22</td>\n",
       "      <td>10</td>\n",
       "      <td>16</td>\n",
       "      <td>14</td>\n",
       "      <td>22</td>\n",
       "      <td>12</td>\n",
       "      <td>ESTJ</td>\n",
       "      <td>1</td>\n",
       "    </tr>\n",
       "    <tr>\n",
       "      <th>4</th>\n",
       "      <td>HR manager</td>\n",
       "      <td>Staff and training</td>\n",
       "      <td>0</td>\n",
       "      <td>0</td>\n",
       "      <td>0</td>\n",
       "      <td>0</td>\n",
       "      <td>0</td>\n",
       "      <td>1</td>\n",
       "      <td>1</td>\n",
       "      <td>0</td>\n",
       "      <td>0</td>\n",
       "      <td>1</td>\n",
       "      <td>0</td>\n",
       "      <td>1</td>\n",
       "      <td>0</td>\n",
       "      <td>1</td>\n",
       "      <td>0</td>\n",
       "      <td>0</td>\n",
       "      <td>1</td>\n",
       "      <td>0</td>\n",
       "      <td>1</td>\n",
       "      <td>0</td>\n",
       "      <td>0</td>\n",
       "      <td>0</td>\n",
       "      <td>0</td>\n",
       "      <td>1</td>\n",
       "      <td>1</td>\n",
       "      <td>0</td>\n",
       "      <td>0</td>\n",
       "      <td>0</td>\n",
       "      <td>0</td>\n",
       "      <td>0</td>\n",
       "      <td>1</td>\n",
       "      <td>0</td>\n",
       "      <td>0</td>\n",
       "      <td>1</td>\n",
       "      <td>1</td>\n",
       "      <td>0</td>\n",
       "      <td>1</td>\n",
       "      <td>1</td>\n",
       "      <td>0</td>\n",
       "      <td>0</td>\n",
       "      <td>0</td>\n",
       "      <td>0</td>\n",
       "      <td>0</td>\n",
       "      <td>0</td>\n",
       "      <td>0</td>\n",
       "      <td>0</td>\n",
       "      <td>1</td>\n",
       "      <td>1</td>\n",
       "      <td>0</td>\n",
       "      <td>1</td>\n",
       "      <td>0</td>\n",
       "      <td>0</td>\n",
       "      <td>1</td>\n",
       "      <td>1</td>\n",
       "      <td>1</td>\n",
       "      <td>1</td>\n",
       "      <td>0</td>\n",
       "      <td>1</td>\n",
       "      <td>1</td>\n",
       "      <td>0</td>\n",
       "      <td>1</td>\n",
       "      <td>0</td>\n",
       "      <td>0</td>\n",
       "      <td>1</td>\n",
       "      <td>1</td>\n",
       "      <td>0</td>\n",
       "      <td>0</td>\n",
       "      <td>1</td>\n",
       "      <td>1</td>\n",
       "      <td>0</td>\n",
       "      <td>1</td>\n",
       "      <td>0</td>\n",
       "      <td>0</td>\n",
       "      <td>0</td>\n",
       "      <td>0</td>\n",
       "      <td>1</td>\n",
       "      <td>0</td>\n",
       "      <td>1</td>\n",
       "      <td>0</td>\n",
       "      <td>1</td>\n",
       "      <td>1</td>\n",
       "      <td>0</td>\n",
       "      <td>1</td>\n",
       "      <td>1</td>\n",
       "      <td>1</td>\n",
       "      <td>1</td>\n",
       "      <td>0</td>\n",
       "      <td>0</td>\n",
       "      <td>1</td>\n",
       "      <td>1</td>\n",
       "      <td>1</td>\n",
       "      <td>0</td>\n",
       "      <td>0</td>\n",
       "      <td>0</td>\n",
       "      <td>0</td>\n",
       "      <td>0</td>\n",
       "      <td>0</td>\n",
       "      <td>0</td>\n",
       "      <td>0</td>\n",
       "      <td>1</td>\n",
       "      <td>0</td>\n",
       "      <td>1</td>\n",
       "      <td>1</td>\n",
       "      <td>1</td>\n",
       "      <td>0</td>\n",
       "      <td>1</td>\n",
       "      <td>1</td>\n",
       "      <td>0</td>\n",
       "      <td>1</td>\n",
       "      <td>0</td>\n",
       "      <td>1</td>\n",
       "      <td>0</td>\n",
       "      <td>0</td>\n",
       "      <td>0</td>\n",
       "      <td>1</td>\n",
       "      <td>0</td>\n",
       "      <td>1</td>\n",
       "      <td>0</td>\n",
       "      <td>1</td>\n",
       "      <td>0</td>\n",
       "      <td>0</td>\n",
       "      <td>1</td>\n",
       "      <td>0</td>\n",
       "      <td>1</td>\n",
       "      <td>0</td>\n",
       "      <td>1</td>\n",
       "      <td>0</td>\n",
       "      <td>1</td>\n",
       "      <td>1</td>\n",
       "      <td>0</td>\n",
       "      <td>0</td>\n",
       "      <td>0</td>\n",
       "      <td>1</td>\n",
       "      <td>0</td>\n",
       "      <td>0</td>\n",
       "      <td>1</td>\n",
       "      <td>1</td>\n",
       "      <td>1</td>\n",
       "      <td>1</td>\n",
       "      <td>0</td>\n",
       "      <td>0</td>\n",
       "      <td>0</td>\n",
       "      <td>24</td>\n",
       "      <td>10</td>\n",
       "      <td>16</td>\n",
       "      <td>17</td>\n",
       "      <td>13</td>\n",
       "      <td>23</td>\n",
       "      <td>31</td>\n",
       "      <td>3</td>\n",
       "      <td>ENFJ</td>\n",
       "      <td>0</td>\n",
       "    </tr>\n",
       "  </tbody>\n",
       "</table>\n",
       "</div>"
      ],
      "text/plain": [
       "     jobtitle            jobfield  q1  q2  q3  q4  q5  q6  q7  q8  q9  q10  q11  q12  q13  q14  q15  q16  q17  q18  q19  q20  q21  q22  q23  q24  q25  q26  q27  q28  q29  q30  q31  q32  q33  q34  q35  q36  q37  q38  q39  q40  q41  q42  q43  q44  q45  q46  q47  q48  q49  q50  q51  q52  q53  q54  q55  q56  q57  q58  q59  q60  q61  q62  q63  q64  q65  q66  q67  q68  q69  q70  q71  q72  q73  q74  q75  q76  q77  q78  q79  q80  q81  q82  q83  q84  q85  q86  q87  q88  q89  q90  q91  q92  q93  q94  q95  q96  q97  q98  q99  q100  q101  q102  q103  q104  q105  q106  q107  q108  q109  q110  q111  q112  q113  q114  q115  q116  q117  q118  q119  q120  q121  q122  q123  q124  q125  q126  q127  q128  q129  q130  q131  q132  q133  q134  q135  q136  q137  q138  q139  q140  q141  q142  scale_e  scale_i  scale_s  scale_n  scale_t  scale_f  scale_j  scale_p psychotype  satisfied\n",
       "0         NaN                 NaN   1   0   0   0   0   1   1   0   1    0    1    0    1    0    0    0    0    0    1    1    1    1    0    1    1    0    0    0    1    0    0    1    0    0    0    0    0    0    0    0    0    0    0    0    0    1    0    1    1    1    0    0    1    0    0    1    1    1    0    0    0    0    1    1    1    0    1    0    1    0    0    0    1    0    1    1    0    0    1    1    1    0    0    1    1    0    0    0    1    1    0    1    1    1    1    1    1    1    1     0     1     1     0     0     1     0     0     0     1     0     0     0     1     1     0     1     0     1     0     0     1     1     1     1     1     0     0     0     1     1     1     0     0     0     0     1     0     0     1     0     0     0        5       26       25       12       24        8       27       10       ISTJ          0\n",
       "1  HR manager  Staff and training   1   0   0   1   1   1   1   0   1    0    1    0    0    0    1    1    1    1    1    0    0    1    0    1    1    1    1    0    0    1    0    0    0    1    0    1    1    0    0    0    0    1    1    0    0    1    1    1    0    1    0    1    0    0    1    1    1    1    0    0    0    1    0    0    1    1    1    1    1    0    0    1    0    0    0    0    1    1    0    1    1    1    0    0    1    0    0    0    1    0    1    0    0    1    1    0    0    0    0     1     0     1     0     1     0     0     0     0     1     1     0     0     0     0     1     1     0     0     0     0     0     1     0     0     0     1     1     1     0     1     1     0     0     0     1     1     1     1     0     0     1     1       16       22       17       16       23       11       22       15       ISTJ          1\n",
       "2  HR manager  Staff and training   0   0   1   0   0   1   1   0   0    1    1    0    0    1    1    0    1    0    1    0    0    0    0    0    1    1    0    1    0    1    0    0    0    1    0    0    1    1    0    0    1    0    1    0    0    0    0    0    0    1    1    0    0    0    1    1    0    0    0    1    1    0    0    0    0    1    1    0    0    1    0    0    0    1    0    0    1    0    1    1    1    1    0    1    0    0    1    0    0    0    1    0    0    1    0    1    0    0    1     1     0     1     0     1     1     1     1     1     1     0     1     1     0     0     1     0     1     0     0     0     0     1     0     0     1     1     0     0     0     1     1     0     1     1     0     0     1     1     0     0     0     1       28        6       14       18       20       16       20       15       ENTJ          0\n",
       "3  HR manager  Staff and training   0   0   1   1   0   1   1   0   0    0    0    1    0    0    1    0    1    0    1    1    0    1    0    0    1    0    0    0    0    0    1    0    0    1    0    1    1    1    0    0    1    0    0    0    0    0    1    1    0    0    0    0    1    1    0    0    0    1    0    1    1    0    0    0    1    0    0    1    1    0    0    0    0    0    0    1    0    0    0    0    0    1    1    0    0    1    1    0    0    0    1    0    0    0    0    1    0    0    1     1     1     0     1     0     0     1     0     1     0     1     1     0     0     0     1     0     1     0     0     0     1     0     0     1     0     1     0     0     0     0     1     1     1     0     1     0     0     0     1     1     0     1       28       10       22       10       16       14       22       12       ESTJ          1\n",
       "4  HR manager  Staff and training   0   0   0   0   0   1   1   0   0    1    0    1    0    1    0    0    1    0    1    0    0    0    0    1    1    0    0    0    0    0    1    0    0    1    1    0    1    1    0    0    0    0    0    0    0    0    1    1    0    1    0    0    1    1    1    1    0    1    1    0    1    0    0    1    1    0    0    1    1    0    1    0    0    0    0    1    0    1    0    1    1    0    1    1    1    1    0    0    1    1    1    0    0    0    0    0    0    0    0     1     0     1     1     1     0     1     1     0     1     0     1     0     0     0     1     0     1     0     1     0     0     1     0     1     0     1     0     1     1     0     0     0     1     0     0     1     1     1     1     0     0     0       24       10       16       17       13       23       31        3       ENFJ          0"
      ]
     },
     "execution_count": 233,
     "metadata": {},
     "output_type": "execute_result"
    }
   ],
   "source": [
    "df.head(5)"
   ]
  },
  {
   "cell_type": "markdown",
   "id": "f151c26e",
   "metadata": {},
   "source": [
    "# Разведовательный анализ данных"
   ]
  },
  {
   "cell_type": "code",
   "execution_count": 160,
   "id": "7ff34500",
   "metadata": {},
   "outputs": [
    {
     "data": {
      "text/plain": [
       "(21846, 154)"
      ]
     },
     "execution_count": 160,
     "metadata": {},
     "output_type": "execute_result"
    }
   ],
   "source": [
    "df.shape"
   ]
  },
  {
   "cell_type": "markdown",
   "id": "dae393fa",
   "metadata": {},
   "source": [
    "В таблице 154 столбца и 21846 строк"
   ]
  },
  {
   "cell_type": "code",
   "execution_count": 161,
   "id": "f9f62877",
   "metadata": {},
   "outputs": [
    {
     "data": {
      "text/plain": [
       "jobtitle    0.422274\n",
       "jobfield    0.382084\n",
       "q78         0.000000\n",
       "q97         0.000000\n",
       "q99         0.000000\n",
       "dtype: float64"
      ]
     },
     "execution_count": 161,
     "metadata": {},
     "output_type": "execute_result"
    }
   ],
   "source": [
    "df.isna().mean().sort_values(ascending = False).head(5)"
   ]
  },
  {
   "cell_type": "markdown",
   "id": "0686dc98",
   "metadata": {},
   "source": [
    "Данные пропущены только в столбцах jobtitle и jobfield"
   ]
  },
  {
   "cell_type": "markdown",
   "id": "1ce93446",
   "metadata": {},
   "source": [
    "Посмотрим на кол-во человек, которые удовлетворены своей работой "
   ]
  },
  {
   "cell_type": "code",
   "execution_count": 162,
   "id": "8f3ba45f",
   "metadata": {},
   "outputs": [
    {
     "data": {
      "text/plain": [
       "1    14683\n",
       "0     7163\n",
       "Name: satisfied, dtype: int64"
      ]
     },
     "execution_count": 162,
     "metadata": {},
     "output_type": "execute_result"
    }
   ],
   "source": [
    "df['satisfied'].value_counts()"
   ]
  },
  {
   "cell_type": "markdown",
   "id": "537bf9e4",
   "metadata": {},
   "source": [
    "Большое кол-во репондентов удовлетворены своей работой (14683). Посмотрим на психотипы для каждой подвыборки"
   ]
  },
  {
   "cell_type": "markdown",
   "id": "d17e0940",
   "metadata": {},
   "source": [
    "## Психотипы"
   ]
  },
  {
   "cell_type": "code",
   "execution_count": 163,
   "id": "1551e986",
   "metadata": {},
   "outputs": [],
   "source": [
    "good_job = df[df['satisfied'] == 1]['psychotype'].value_counts().reset_index()"
   ]
  },
  {
   "cell_type": "code",
   "execution_count": 164,
   "id": "4679d9e4",
   "metadata": {},
   "outputs": [],
   "source": [
    "good_job['all_count'] = np.sum(good_job['psychotype'])"
   ]
  },
  {
   "cell_type": "code",
   "execution_count": 165,
   "id": "11a5547d",
   "metadata": {},
   "outputs": [],
   "source": [
    "good_job['pct_psychotype'] = good_job['psychotype'] /  good_job['all_count']"
   ]
  },
  {
   "cell_type": "code",
   "execution_count": 166,
   "id": "4026fa65",
   "metadata": {},
   "outputs": [
    {
     "data": {
      "text/html": [
       "<div>\n",
       "<style scoped>\n",
       "    .dataframe tbody tr th:only-of-type {\n",
       "        vertical-align: middle;\n",
       "    }\n",
       "\n",
       "    .dataframe tbody tr th {\n",
       "        vertical-align: top;\n",
       "    }\n",
       "\n",
       "    .dataframe thead th {\n",
       "        text-align: right;\n",
       "    }\n",
       "</style>\n",
       "<table border=\"1\" class=\"dataframe\">\n",
       "  <thead>\n",
       "    <tr style=\"text-align: right;\">\n",
       "      <th></th>\n",
       "      <th>index</th>\n",
       "      <th>psychotype</th>\n",
       "      <th>all_count</th>\n",
       "      <th>pct_psychotype</th>\n",
       "    </tr>\n",
       "  </thead>\n",
       "  <tbody>\n",
       "    <tr>\n",
       "      <th>0</th>\n",
       "      <td>ESTJ</td>\n",
       "      <td>5161</td>\n",
       "      <td>14683</td>\n",
       "      <td>0.351495</td>\n",
       "    </tr>\n",
       "    <tr>\n",
       "      <th>1</th>\n",
       "      <td>ISTJ</td>\n",
       "      <td>2189</td>\n",
       "      <td>14683</td>\n",
       "      <td>0.149084</td>\n",
       "    </tr>\n",
       "    <tr>\n",
       "      <th>2</th>\n",
       "      <td>ENTJ</td>\n",
       "      <td>1305</td>\n",
       "      <td>14683</td>\n",
       "      <td>0.088878</td>\n",
       "    </tr>\n",
       "    <tr>\n",
       "      <th>3</th>\n",
       "      <td>ESFJ</td>\n",
       "      <td>1090</td>\n",
       "      <td>14683</td>\n",
       "      <td>0.074236</td>\n",
       "    </tr>\n",
       "    <tr>\n",
       "      <th>4</th>\n",
       "      <td>ENTP</td>\n",
       "      <td>768</td>\n",
       "      <td>14683</td>\n",
       "      <td>0.052305</td>\n",
       "    </tr>\n",
       "  </tbody>\n",
       "</table>\n",
       "</div>"
      ],
      "text/plain": [
       "  index  psychotype  all_count  pct_psychotype\n",
       "0  ESTJ        5161      14683        0.351495\n",
       "1  ISTJ        2189      14683        0.149084\n",
       "2  ENTJ        1305      14683        0.088878\n",
       "3  ESFJ        1090      14683        0.074236\n",
       "4  ENTP         768      14683        0.052305"
      ]
     },
     "execution_count": 166,
     "metadata": {},
     "output_type": "execute_result"
    }
   ],
   "source": [
    "good_job.head(5)"
   ]
  },
  {
   "cell_type": "code",
   "execution_count": 167,
   "id": "6a578242",
   "metadata": {},
   "outputs": [
    {
     "data": {
      "image/png": "[encoded data removed]",
      "text/plain": [
       "<Figure size 1008x504 with 1 Axes>"
      ]
     },
     "metadata": {},
     "output_type": "display_data"
    }
   ],
   "source": [
    "fig, axs = plt.subplots()\n",
    "fig.set_figheight(7)\n",
    "fig.set_figwidth(14)\n",
    "colors = ['navy', 'darkblue','mediumblue','blue','slateblue',\"mediumslateblue\",\n",
    "          \"mediumpurple\", \"blueviolet\", 'darkorchid','mediumorchid','plum','violet',\n",
    "         'orchid','hotpink','thistle','lavenderblush']\n",
    "axs.bar(good_job['index'], good_job['pct_psychotype'], color = colors)\n",
    "\n",
    "plt.show()"
   ]
  },
  {
   "cell_type": "markdown",
   "id": "d966ce2a",
   "metadata": {},
   "source": [
    "На графике видно, что у людей удовлетворенных своей работой в топ 5 входят следующие психотипы: ESTJ, ISTJ, ENTJ, ESFJ, ENTP"
   ]
  },
  {
   "cell_type": "code",
   "execution_count": 168,
   "id": "074b781d",
   "metadata": {},
   "outputs": [],
   "source": [
    "bad_job = df[df['satisfied'] == 0]['psychotype'].value_counts().reset_index()"
   ]
  },
  {
   "cell_type": "code",
   "execution_count": 169,
   "id": "b6bdde3d",
   "metadata": {},
   "outputs": [],
   "source": [
    "bad_job['all_count'] = np.sum(bad_job['psychotype'])"
   ]
  },
  {
   "cell_type": "code",
   "execution_count": 170,
   "id": "5ff32ff8",
   "metadata": {},
   "outputs": [],
   "source": [
    "bad_job['pct_psychotype'] = bad_job['psychotype'] /  bad_job['all_count']"
   ]
  },
  {
   "cell_type": "code",
   "execution_count": 171,
   "id": "b6d1054c",
   "metadata": {},
   "outputs": [
    {
     "data": {
      "text/html": [
       "<div>\n",
       "<style scoped>\n",
       "    .dataframe tbody tr th:only-of-type {\n",
       "        vertical-align: middle;\n",
       "    }\n",
       "\n",
       "    .dataframe tbody tr th {\n",
       "        vertical-align: top;\n",
       "    }\n",
       "\n",
       "    .dataframe thead th {\n",
       "        text-align: right;\n",
       "    }\n",
       "</style>\n",
       "<table border=\"1\" class=\"dataframe\">\n",
       "  <thead>\n",
       "    <tr style=\"text-align: right;\">\n",
       "      <th></th>\n",
       "      <th>index</th>\n",
       "      <th>psychotype</th>\n",
       "      <th>all_count</th>\n",
       "      <th>pct_psychotype</th>\n",
       "    </tr>\n",
       "  </thead>\n",
       "  <tbody>\n",
       "    <tr>\n",
       "      <th>0</th>\n",
       "      <td>ESTJ</td>\n",
       "      <td>1303</td>\n",
       "      <td>7163</td>\n",
       "      <td>0.181907</td>\n",
       "    </tr>\n",
       "    <tr>\n",
       "      <th>1</th>\n",
       "      <td>ISTJ</td>\n",
       "      <td>1188</td>\n",
       "      <td>7163</td>\n",
       "      <td>0.165852</td>\n",
       "    </tr>\n",
       "    <tr>\n",
       "      <th>2</th>\n",
       "      <td>ENTJ</td>\n",
       "      <td>493</td>\n",
       "      <td>7163</td>\n",
       "      <td>0.068826</td>\n",
       "    </tr>\n",
       "    <tr>\n",
       "      <th>3</th>\n",
       "      <td>ENTP</td>\n",
       "      <td>461</td>\n",
       "      <td>7163</td>\n",
       "      <td>0.064359</td>\n",
       "    </tr>\n",
       "    <tr>\n",
       "      <th>4</th>\n",
       "      <td>ESFJ</td>\n",
       "      <td>458</td>\n",
       "      <td>7163</td>\n",
       "      <td>0.063940</td>\n",
       "    </tr>\n",
       "  </tbody>\n",
       "</table>\n",
       "</div>"
      ],
      "text/plain": [
       "  index  psychotype  all_count  pct_psychotype\n",
       "0  ESTJ        1303       7163        0.181907\n",
       "1  ISTJ        1188       7163        0.165852\n",
       "2  ENTJ         493       7163        0.068826\n",
       "3  ENTP         461       7163        0.064359\n",
       "4  ESFJ         458       7163        0.063940"
      ]
     },
     "execution_count": 171,
     "metadata": {},
     "output_type": "execute_result"
    }
   ],
   "source": [
    "bad_job.head(5)"
   ]
  },
  {
   "cell_type": "code",
   "execution_count": 172,
   "id": "7d5f64d3",
   "metadata": {},
   "outputs": [
    {
     "data": {
      "image/png": "[encoded data removed]",
      "text/plain": [
       "<Figure size 1008x504 with 1 Axes>"
      ]
     },
     "metadata": {},
     "output_type": "display_data"
    }
   ],
   "source": [
    "fig, axs = plt.subplots()\n",
    "fig.set_figheight(7)\n",
    "fig.set_figwidth(14)\n",
    "colors = ['navy', 'darkblue','mediumblue','blue','slateblue',\"mediumslateblue\",\n",
    "          \"mediumpurple\", \"blueviolet\", 'darkorchid','mediumorchid','plum','violet',\n",
    "         'orchid','hotpink','thistle','lavenderblush']\n",
    "axs.bar(bad_job['index'], bad_job['pct_psychotype'], color = colors)\n",
    "\n",
    "plt.show()"
   ]
  },
  {
   "cell_type": "markdown",
   "id": "dc2377c2",
   "metadata": {},
   "source": [
    "У людей, которые **не** удовлетворенны своей работой, есть различия. Психотип ISTJ почти сравнялся с ESTJ, также на четвертом месте стоит психотип ENTP, вместо ESFJ. Топ 5 психотипов: ESTJ, ISTJ, ENTJ, ENTP, ESFJ"
   ]
  },
  {
   "cell_type": "markdown",
   "id": "58f6ab0c",
   "metadata": {},
   "source": [
    "## Должности"
   ]
  },
  {
   "cell_type": "markdown",
   "id": "1e1c1d4b",
   "metadata": {},
   "source": [
    "Посмотрим на должности занимаемыми респондентами"
   ]
  },
  {
   "cell_type": "code",
   "execution_count": 173,
   "id": "84e34125",
   "metadata": {
    "scrolled": false
   },
   "outputs": [
    {
     "data": {
      "text/plain": [
       "<AxesSubplot:xlabel='count', ylabel='jobtitle'>"
      ]
     },
     "execution_count": 173,
     "metadata": {},
     "output_type": "execute_result"
    },
    {
     "data": {
      "image/png": "[encoded data removed]",
      "text/plain": [
       "<Figure size 1008x1080 with 1 Axes>"
      ]
     },
     "metadata": {},
     "output_type": "display_data"
    }
   ],
   "source": [
    "figure(figsize=(14, 15))\n",
    "sns.countplot(y= 'jobtitle',\n",
    "              data=df,\n",
    "              order = df['jobtitle'].value_counts().index)"
   ]
  },
  {
   "cell_type": "code",
   "execution_count": 174,
   "id": "c66a89bd",
   "metadata": {},
   "outputs": [
    {
     "data": {
      "text/plain": [
       "Student                   1428\n",
       "Head (trade mediation)    1296\n",
       "Account Manager            693\n",
       "Sales Manager              588\n",
       "HR manager                 480\n",
       "Name: jobtitle, dtype: int64"
      ]
     },
     "execution_count": 174,
     "metadata": {},
     "output_type": "execute_result"
    }
   ],
   "source": [
    "df['jobtitle'].value_counts().head(5)"
   ]
  },
  {
   "cell_type": "markdown",
   "id": "4d102087",
   "metadata": {},
   "source": [
    "В данном датасете представлено большое разнообразия различных должностей. Посмотрим на удовлетворенность работой в зависимости от должности"
   ]
  },
  {
   "cell_type": "code",
   "execution_count": 175,
   "id": "5abb0033",
   "metadata": {},
   "outputs": [],
   "source": [
    "all_job = df['jobtitle'].value_counts().reset_index()"
   ]
  },
  {
   "cell_type": "code",
   "execution_count": 176,
   "id": "1370a64b",
   "metadata": {},
   "outputs": [],
   "source": [
    "all_job['qcut'] = pd.qcut(all_job['jobtitle'], q = 3, labels = ['Bottom', 'Median', 'Top'])"
   ]
  },
  {
   "cell_type": "code",
   "execution_count": 177,
   "id": "4d21dd04",
   "metadata": {},
   "outputs": [],
   "source": [
    "job_gb = df.groupby(['jobtitle','satisfied'])['satisfied'].agg(['count']).reset_index()"
   ]
  },
  {
   "cell_type": "code",
   "execution_count": 178,
   "id": "d7661c18",
   "metadata": {},
   "outputs": [],
   "source": [
    "job_gb = job_gb.reset_index()"
   ]
  },
  {
   "cell_type": "code",
   "execution_count": 179,
   "id": "b89744b9",
   "metadata": {},
   "outputs": [],
   "source": [
    "all_job = all_job.merge(job_gb[['satisfied','jobtitle','count']], how = 'left', left_on = 'index', right_on = 'jobtitle')"
   ]
  },
  {
   "cell_type": "code",
   "execution_count": 180,
   "id": "8ee08e47",
   "metadata": {},
   "outputs": [],
   "source": [
    "all_job['pct'] = all_job['count'] / all_job['jobtitle_x']"
   ]
  },
  {
   "cell_type": "code",
   "execution_count": 181,
   "id": "91f56aed",
   "metadata": {},
   "outputs": [
    {
     "data": {
      "text/html": [
       "<div>\n",
       "<style scoped>\n",
       "    .dataframe tbody tr th:only-of-type {\n",
       "        vertical-align: middle;\n",
       "    }\n",
       "\n",
       "    .dataframe tbody tr th {\n",
       "        vertical-align: top;\n",
       "    }\n",
       "\n",
       "    .dataframe thead th {\n",
       "        text-align: right;\n",
       "    }\n",
       "</style>\n",
       "<table border=\"1\" class=\"dataframe\">\n",
       "  <thead>\n",
       "    <tr style=\"text-align: right;\">\n",
       "      <th></th>\n",
       "      <th>index</th>\n",
       "      <th>jobtitle_x</th>\n",
       "      <th>qcut</th>\n",
       "      <th>satisfied</th>\n",
       "      <th>jobtitle_y</th>\n",
       "      <th>count</th>\n",
       "      <th>pct</th>\n",
       "    </tr>\n",
       "  </thead>\n",
       "  <tbody>\n",
       "    <tr>\n",
       "      <th>0</th>\n",
       "      <td>Student</td>\n",
       "      <td>1428</td>\n",
       "      <td>Top</td>\n",
       "      <td>0</td>\n",
       "      <td>Student</td>\n",
       "      <td>766</td>\n",
       "      <td>0.536415</td>\n",
       "    </tr>\n",
       "    <tr>\n",
       "      <th>1</th>\n",
       "      <td>Student</td>\n",
       "      <td>1428</td>\n",
       "      <td>Top</td>\n",
       "      <td>1</td>\n",
       "      <td>Student</td>\n",
       "      <td>662</td>\n",
       "      <td>0.463585</td>\n",
       "    </tr>\n",
       "    <tr>\n",
       "      <th>2</th>\n",
       "      <td>Head (trade mediation)</td>\n",
       "      <td>1296</td>\n",
       "      <td>Top</td>\n",
       "      <td>0</td>\n",
       "      <td>Head (trade mediation)</td>\n",
       "      <td>215</td>\n",
       "      <td>0.165895</td>\n",
       "    </tr>\n",
       "    <tr>\n",
       "      <th>3</th>\n",
       "      <td>Head (trade mediation)</td>\n",
       "      <td>1296</td>\n",
       "      <td>Top</td>\n",
       "      <td>1</td>\n",
       "      <td>Head (trade mediation)</td>\n",
       "      <td>1081</td>\n",
       "      <td>0.834105</td>\n",
       "    </tr>\n",
       "    <tr>\n",
       "      <th>4</th>\n",
       "      <td>Account Manager</td>\n",
       "      <td>693</td>\n",
       "      <td>Top</td>\n",
       "      <td>0</td>\n",
       "      <td>Account Manager</td>\n",
       "      <td>260</td>\n",
       "      <td>0.375180</td>\n",
       "    </tr>\n",
       "    <tr>\n",
       "      <th>5</th>\n",
       "      <td>Account Manager</td>\n",
       "      <td>693</td>\n",
       "      <td>Top</td>\n",
       "      <td>1</td>\n",
       "      <td>Account Manager</td>\n",
       "      <td>433</td>\n",
       "      <td>0.624820</td>\n",
       "    </tr>\n",
       "    <tr>\n",
       "      <th>6</th>\n",
       "      <td>Sales Manager</td>\n",
       "      <td>588</td>\n",
       "      <td>Top</td>\n",
       "      <td>0</td>\n",
       "      <td>Sales Manager</td>\n",
       "      <td>183</td>\n",
       "      <td>0.311224</td>\n",
       "    </tr>\n",
       "    <tr>\n",
       "      <th>7</th>\n",
       "      <td>Sales Manager</td>\n",
       "      <td>588</td>\n",
       "      <td>Top</td>\n",
       "      <td>1</td>\n",
       "      <td>Sales Manager</td>\n",
       "      <td>405</td>\n",
       "      <td>0.688776</td>\n",
       "    </tr>\n",
       "    <tr>\n",
       "      <th>8</th>\n",
       "      <td>HR manager</td>\n",
       "      <td>480</td>\n",
       "      <td>Top</td>\n",
       "      <td>0</td>\n",
       "      <td>HR manager</td>\n",
       "      <td>149</td>\n",
       "      <td>0.310417</td>\n",
       "    </tr>\n",
       "    <tr>\n",
       "      <th>9</th>\n",
       "      <td>HR manager</td>\n",
       "      <td>480</td>\n",
       "      <td>Top</td>\n",
       "      <td>1</td>\n",
       "      <td>HR manager</td>\n",
       "      <td>331</td>\n",
       "      <td>0.689583</td>\n",
       "    </tr>\n",
       "  </tbody>\n",
       "</table>\n",
       "</div>"
      ],
      "text/plain": [
       "                    index  jobtitle_x qcut  satisfied              jobtitle_y  count       pct\n",
       "0                 Student        1428  Top          0                 Student    766  0.536415\n",
       "1                 Student        1428  Top          1                 Student    662  0.463585\n",
       "2  Head (trade mediation)        1296  Top          0  Head (trade mediation)    215  0.165895\n",
       "3  Head (trade mediation)        1296  Top          1  Head (trade mediation)   1081  0.834105\n",
       "4         Account Manager         693  Top          0         Account Manager    260  0.375180\n",
       "5         Account Manager         693  Top          1         Account Manager    433  0.624820\n",
       "6           Sales Manager         588  Top          0           Sales Manager    183  0.311224\n",
       "7           Sales Manager         588  Top          1           Sales Manager    405  0.688776\n",
       "8              HR manager         480  Top          0              HR manager    149  0.310417\n",
       "9              HR manager         480  Top          1              HR manager    331  0.689583"
      ]
     },
     "execution_count": 181,
     "metadata": {},
     "output_type": "execute_result"
    }
   ],
   "source": [
    "all_job.head(10)"
   ]
  },
  {
   "cell_type": "code",
   "execution_count": 182,
   "id": "d9160741",
   "metadata": {},
   "outputs": [
    {
     "data": {
      "text/html": [
       "<div>\n",
       "<style scoped>\n",
       "    .dataframe tbody tr th:only-of-type {\n",
       "        vertical-align: middle;\n",
       "    }\n",
       "\n",
       "    .dataframe tbody tr th {\n",
       "        vertical-align: top;\n",
       "    }\n",
       "\n",
       "    .dataframe thead th {\n",
       "        text-align: right;\n",
       "    }\n",
       "</style>\n",
       "<table border=\"1\" class=\"dataframe\">\n",
       "  <thead>\n",
       "    <tr style=\"text-align: right;\">\n",
       "      <th></th>\n",
       "      <th>index</th>\n",
       "      <th>pct</th>\n",
       "      <th>count</th>\n",
       "    </tr>\n",
       "  </thead>\n",
       "  <tbody>\n",
       "    <tr>\n",
       "      <th>59</th>\n",
       "      <td>Head (medicine education)</td>\n",
       "      <td>0.889764</td>\n",
       "      <td>113</td>\n",
       "    </tr>\n",
       "    <tr>\n",
       "      <th>55</th>\n",
       "      <td>HR Director</td>\n",
       "      <td>0.884892</td>\n",
       "      <td>123</td>\n",
       "    </tr>\n",
       "    <tr>\n",
       "      <th>77</th>\n",
       "      <td>Commercial Director</td>\n",
       "      <td>0.875000</td>\n",
       "      <td>84</td>\n",
       "    </tr>\n",
       "    <tr>\n",
       "      <th>29</th>\n",
       "      <td>Head (marketing advertising)</td>\n",
       "      <td>0.844340</td>\n",
       "      <td>179</td>\n",
       "    </tr>\n",
       "    <tr>\n",
       "      <th>25</th>\n",
       "      <td>Head of the organization</td>\n",
       "      <td>0.837500</td>\n",
       "      <td>201</td>\n",
       "    </tr>\n",
       "    <tr>\n",
       "      <th>3</th>\n",
       "      <td>Head (trade mediation)</td>\n",
       "      <td>0.834105</td>\n",
       "      <td>1081</td>\n",
       "    </tr>\n",
       "    <tr>\n",
       "      <th>79</th>\n",
       "      <td>Training manager</td>\n",
       "      <td>0.827957</td>\n",
       "      <td>77</td>\n",
       "    </tr>\n",
       "    <tr>\n",
       "      <th>75</th>\n",
       "      <td>Head (personnel public administration)</td>\n",
       "      <td>0.826531</td>\n",
       "      <td>81</td>\n",
       "    </tr>\n",
       "    <tr>\n",
       "      <th>83</th>\n",
       "      <td>Director of Development</td>\n",
       "      <td>0.822222</td>\n",
       "      <td>74</td>\n",
       "    </tr>\n",
       "    <tr>\n",
       "      <th>43</th>\n",
       "      <td>General director</td>\n",
       "      <td>0.816216</td>\n",
       "      <td>151</td>\n",
       "    </tr>\n",
       "  </tbody>\n",
       "</table>\n",
       "</div>"
      ],
      "text/plain": [
       "                                     index       pct  count\n",
       "59               Head (medicine education)  0.889764    113\n",
       "55                             HR Director  0.884892    123\n",
       "77                     Commercial Director  0.875000     84\n",
       "29            Head (marketing advertising)  0.844340    179\n",
       "25                Head of the organization  0.837500    201\n",
       "3                   Head (trade mediation)  0.834105   1081\n",
       "79                        Training manager  0.827957     77\n",
       "75  Head (personnel public administration)  0.826531     81\n",
       "83                 Director of Development  0.822222     74\n",
       "43                        General director  0.816216    151"
      ]
     },
     "execution_count": 182,
     "metadata": {},
     "output_type": "execute_result"
    }
   ],
   "source": [
    "all_job[(all_job['satisfied'] == 1) & (all_job['count'] > 50)][['index','pct','count']]\\\n",
    ".sort_values(by = 'pct', ascending = False).head(10)"
   ]
  },
  {
   "cell_type": "markdown",
   "id": "4c1e38a2",
   "metadata": {},
   "source": [
    "Получили должности с самым большим соотношением удовлетворенности, в  основном это руководящие должности. Также я сделал фильтр по кол-во наблюдений для получения более уверенных выводов"
   ]
  },
  {
   "cell_type": "code",
   "execution_count": 183,
   "id": "2643762f",
   "metadata": {},
   "outputs": [
    {
     "data": {
      "text/html": [
       "<div>\n",
       "<style scoped>\n",
       "    .dataframe tbody tr th:only-of-type {\n",
       "        vertical-align: middle;\n",
       "    }\n",
       "\n",
       "    .dataframe tbody tr th {\n",
       "        vertical-align: top;\n",
       "    }\n",
       "\n",
       "    .dataframe thead th {\n",
       "        text-align: right;\n",
       "    }\n",
       "</style>\n",
       "<table border=\"1\" class=\"dataframe\">\n",
       "  <thead>\n",
       "    <tr style=\"text-align: right;\">\n",
       "      <th></th>\n",
       "      <th>index</th>\n",
       "      <th>pct</th>\n",
       "      <th>count</th>\n",
       "    </tr>\n",
       "  </thead>\n",
       "  <tbody>\n",
       "    <tr>\n",
       "      <th>0</th>\n",
       "      <td>Student</td>\n",
       "      <td>0.536415</td>\n",
       "      <td>766</td>\n",
       "    </tr>\n",
       "    <tr>\n",
       "      <th>40</th>\n",
       "      <td>Operator (electrical appliances mechanisms)</td>\n",
       "      <td>0.534392</td>\n",
       "      <td>101</td>\n",
       "    </tr>\n",
       "    <tr>\n",
       "      <th>50</th>\n",
       "      <td>Shop seller</td>\n",
       "      <td>0.496689</td>\n",
       "      <td>75</td>\n",
       "    </tr>\n",
       "    <tr>\n",
       "      <th>20</th>\n",
       "      <td>Office Manager</td>\n",
       "      <td>0.496429</td>\n",
       "      <td>139</td>\n",
       "    </tr>\n",
       "    <tr>\n",
       "      <th>12</th>\n",
       "      <td>Economist</td>\n",
       "      <td>0.481481</td>\n",
       "      <td>208</td>\n",
       "    </tr>\n",
       "    <tr>\n",
       "      <th>64</th>\n",
       "      <td>Wholesale Manager</td>\n",
       "      <td>0.428571</td>\n",
       "      <td>51</td>\n",
       "    </tr>\n",
       "    <tr>\n",
       "      <th>44</th>\n",
       "      <td>Assistant Secretary</td>\n",
       "      <td>0.409639</td>\n",
       "      <td>68</td>\n",
       "    </tr>\n",
       "    <tr>\n",
       "      <th>56</th>\n",
       "      <td>System administrator</td>\n",
       "      <td>0.403101</td>\n",
       "      <td>52</td>\n",
       "    </tr>\n",
       "    <tr>\n",
       "      <th>26</th>\n",
       "      <td>Lawyer</td>\n",
       "      <td>0.396552</td>\n",
       "      <td>92</td>\n",
       "    </tr>\n",
       "    <tr>\n",
       "      <th>4</th>\n",
       "      <td>Account Manager</td>\n",
       "      <td>0.375180</td>\n",
       "      <td>260</td>\n",
       "    </tr>\n",
       "  </tbody>\n",
       "</table>\n",
       "</div>"
      ],
      "text/plain": [
       "                                          index       pct  count\n",
       "0                                       Student  0.536415    766\n",
       "40  Operator (electrical appliances mechanisms)  0.534392    101\n",
       "50                                  Shop seller  0.496689     75\n",
       "20                               Office Manager  0.496429    139\n",
       "12                                    Economist  0.481481    208\n",
       "64                            Wholesale Manager  0.428571     51\n",
       "44                          Assistant Secretary  0.409639     68\n",
       "56                         System administrator  0.403101     52\n",
       "26                                       Lawyer  0.396552     92\n",
       "4                               Account Manager  0.375180    260"
      ]
     },
     "execution_count": 183,
     "metadata": {},
     "output_type": "execute_result"
    }
   ],
   "source": [
    "all_job[(all_job['satisfied'] == 0) & (all_job['count'] > 50)][['index','pct','count']]\\\n",
    ".sort_values(by = 'pct', ascending = False).head(10)"
   ]
  },
  {
   "cell_type": "markdown",
   "id": "764a7cb3",
   "metadata": {},
   "source": [
    "Должности с самым маленьким процентом удовлетворенности в основном это менеджеры, также на первом месте стоят студенты"
   ]
  },
  {
   "cell_type": "markdown",
   "id": "f5ed14c9",
   "metadata": {},
   "source": [
    "Посмотрим среднюю удовлетворенность по процентилям по кол-во наблюдений"
   ]
  },
  {
   "cell_type": "code",
   "execution_count": 184,
   "id": "fc3f1c1e",
   "metadata": {},
   "outputs": [
    {
     "data": {
      "text/html": [
       "<div>\n",
       "<style scoped>\n",
       "    .dataframe tbody tr th:only-of-type {\n",
       "        vertical-align: middle;\n",
       "    }\n",
       "\n",
       "    .dataframe tbody tr th {\n",
       "        vertical-align: top;\n",
       "    }\n",
       "\n",
       "    .dataframe thead th {\n",
       "        text-align: right;\n",
       "    }\n",
       "</style>\n",
       "<table border=\"1\" class=\"dataframe\">\n",
       "  <thead>\n",
       "    <tr style=\"text-align: right;\">\n",
       "      <th></th>\n",
       "      <th>satisfied</th>\n",
       "      <th>pct</th>\n",
       "    </tr>\n",
       "  </thead>\n",
       "  <tbody>\n",
       "    <tr>\n",
       "      <th>0</th>\n",
       "      <td>0</td>\n",
       "      <td>0.346668</td>\n",
       "    </tr>\n",
       "    <tr>\n",
       "      <th>1</th>\n",
       "      <td>1</td>\n",
       "      <td>0.681897</td>\n",
       "    </tr>\n",
       "  </tbody>\n",
       "</table>\n",
       "</div>"
      ],
      "text/plain": [
       "   satisfied       pct\n",
       "0          0  0.346668\n",
       "1          1  0.681897"
      ]
     },
     "execution_count": 184,
     "metadata": {},
     "output_type": "execute_result"
    }
   ],
   "source": [
    "all_job[(all_job['qcut'] == 'Top') & (all_job['count'] > 50)].groupby('satisfied', as_index = False)['pct'].mean()"
   ]
  },
  {
   "cell_type": "code",
   "execution_count": 185,
   "id": "b08b4e76",
   "metadata": {},
   "outputs": [
    {
     "data": {
      "text/html": [
       "<div>\n",
       "<style scoped>\n",
       "    .dataframe tbody tr th:only-of-type {\n",
       "        vertical-align: middle;\n",
       "    }\n",
       "\n",
       "    .dataframe tbody tr th {\n",
       "        vertical-align: top;\n",
       "    }\n",
       "\n",
       "    .dataframe thead th {\n",
       "        text-align: right;\n",
       "    }\n",
       "</style>\n",
       "<table border=\"1\" class=\"dataframe\">\n",
       "  <thead>\n",
       "    <tr style=\"text-align: right;\">\n",
       "      <th></th>\n",
       "      <th>satisfied</th>\n",
       "      <th>pct</th>\n",
       "    </tr>\n",
       "  </thead>\n",
       "  <tbody>\n",
       "    <tr>\n",
       "      <th>0</th>\n",
       "      <td>0</td>\n",
       "      <td>0.412883</td>\n",
       "    </tr>\n",
       "    <tr>\n",
       "      <th>1</th>\n",
       "      <td>1</td>\n",
       "      <td>0.736213</td>\n",
       "    </tr>\n",
       "  </tbody>\n",
       "</table>\n",
       "</div>"
      ],
      "text/plain": [
       "   satisfied       pct\n",
       "0          0  0.412883\n",
       "1          1  0.736213"
      ]
     },
     "execution_count": 185,
     "metadata": {},
     "output_type": "execute_result"
    }
   ],
   "source": [
    "all_job[(all_job['qcut'] == 'Median') & (all_job['count'] > 50)].groupby('satisfied', as_index = False)['pct'].mean()"
   ]
  },
  {
   "cell_type": "code",
   "execution_count": 186,
   "id": "c30d096b",
   "metadata": {},
   "outputs": [
    {
     "data": {
      "text/html": [
       "<div>\n",
       "<style scoped>\n",
       "    .dataframe tbody tr th:only-of-type {\n",
       "        vertical-align: middle;\n",
       "    }\n",
       "\n",
       "    .dataframe tbody tr th {\n",
       "        vertical-align: top;\n",
       "    }\n",
       "\n",
       "    .dataframe thead th {\n",
       "        text-align: right;\n",
       "    }\n",
       "</style>\n",
       "<table border=\"1\" class=\"dataframe\">\n",
       "  <thead>\n",
       "    <tr style=\"text-align: right;\">\n",
       "      <th></th>\n",
       "      <th>satisfied</th>\n",
       "      <th>pct</th>\n",
       "    </tr>\n",
       "  </thead>\n",
       "  <tbody>\n",
       "    <tr>\n",
       "      <th>0</th>\n",
       "      <td>1</td>\n",
       "      <td>0.731582</td>\n",
       "    </tr>\n",
       "  </tbody>\n",
       "</table>\n",
       "</div>"
      ],
      "text/plain": [
       "   satisfied       pct\n",
       "0          1  0.731582"
      ]
     },
     "execution_count": 186,
     "metadata": {},
     "output_type": "execute_result"
    }
   ],
   "source": [
    "all_job[(all_job['qcut'] == 'Bottom') & (all_job['count'] > 50)].groupby('satisfied', as_index = False)['pct'].mean()"
   ]
  },
  {
   "cell_type": "markdown",
   "id": "7240e71e",
   "metadata": {},
   "source": [
    "Здесь, я разделил професси на 3 категории по кол-во наблюдений (Top, Median, Bottom), как мы видим удовлетворенность своей работой меньше у категорий, где больше всего наблюдений, это связано с тем, что кол-во людей в должностях менеджеров, студентов и других проффессий, в которых удовлетворенность не такая большая, гораздо больше, чем людей, которые знаимают руководящие должности"
   ]
  },
  {
   "cell_type": "markdown",
   "id": "4524566c",
   "metadata": {},
   "source": [
    "## Сферы профессий"
   ]
  },
  {
   "cell_type": "markdown",
   "id": "82907deb",
   "metadata": {},
   "source": [
    "Посмотрим на каждую сферу профессий, которые представлены в датасете"
   ]
  },
  {
   "cell_type": "code",
   "execution_count": 187,
   "id": "0c611e71",
   "metadata": {
    "scrolled": false
   },
   "outputs": [
    {
     "data": {
      "text/plain": [
       "<AxesSubplot:xlabel='count', ylabel='jobfield'>"
      ]
     },
     "execution_count": 187,
     "metadata": {},
     "output_type": "execute_result"
    },
    {
     "data": {
      "image/png": "[encoded data removed]",
      "text/plain": [
       "<Figure size 1008x576 with 1 Axes>"
      ]
     },
     "metadata": {},
     "output_type": "display_data"
    }
   ],
   "source": [
    "figure(figsize=(14, 8))\n",
    "sns.countplot(y= 'jobfield',\n",
    "              data=df,\n",
    "              order = df['jobfield'].value_counts().index)"
   ]
  },
  {
   "cell_type": "markdown",
   "id": "34aa30b5",
   "metadata": {},
   "source": [
    "Самые распространенные сферы"
   ]
  },
  {
   "cell_type": "code",
   "execution_count": 188,
   "id": "595ae6b2",
   "metadata": {},
   "outputs": [],
   "source": [
    "branch = df.groupby('jobfield')['satisfied'].mean().sort_values(ascending = False).reset_index()"
   ]
  },
  {
   "cell_type": "code",
   "execution_count": 189,
   "id": "b7721f6a",
   "metadata": {},
   "outputs": [
    {
     "data": {
      "image/png": "[encoded data removed]",
      "text/plain": [
       "<Figure size 1008x504 with 1 Axes>"
      ]
     },
     "metadata": {},
     "output_type": "display_data"
    }
   ],
   "source": [
    "fig, axs = plt.subplots()\n",
    "fig.set_figheight(7)\n",
    "fig.set_figwidth(14)\n",
    "colors = ['navy', 'darkblue','mediumblue','blue','slateblue',\"mediumslateblue\",\n",
    "          \"mediumpurple\", \"blueviolet\", 'darkorchid','mediumorchid','plum','violet',\n",
    "         'orchid','hotpink','thistle','lavenderblush']\n",
    "axs.bar(branch['jobfield'], branch['satisfied'], color = colors)\n",
    "plt.xticks(rotation=30)\n",
    "plt.show()"
   ]
  },
  {
   "cell_type": "markdown",
   "id": "58a89852",
   "metadata": {},
   "source": [
    "Топ менеджмент и руководящие позиции имеют самую большую удовлетворенность работой. На последних местах стоят студенты и администрирование"
   ]
  },
  {
   "cell_type": "markdown",
   "id": "6ad9d5c1",
   "metadata": {},
   "source": [
    "# Построение модели машинного обучения"
   ]
  },
  {
   "cell_type": "markdown",
   "id": "e51d38dc",
   "metadata": {},
   "source": [
    "## Baseline"
   ]
  },
  {
   "cell_type": "markdown",
   "id": "9045aa00",
   "metadata": {},
   "source": [
    "Для нашей модели мы уберем параметры jobtitle, jobfield, все scale_  т.к.\n",
    "1. Данные заполнены не полностью \n",
    "2. Данные вопросы не входят в наш психологический тест"
   ]
  },
  {
   "cell_type": "code",
   "execution_count": 190,
   "id": "ff88d781",
   "metadata": {},
   "outputs": [],
   "source": [
    "df_pred = df.iloc[:,2:]"
   ]
  },
  {
   "cell_type": "code",
   "execution_count": 191,
   "id": "95d6fbc9",
   "metadata": {},
   "outputs": [],
   "source": [
    "df_pred = df_pred.drop(['scale_e','scale_i', 'scale_s', 'scale_n', 'scale_t', 'scale_f', 'scale_j', 'scale_p','satisfied'], axis = 1)"
   ]
  },
  {
   "cell_type": "code",
   "execution_count": 192,
   "id": "e3d45450",
   "metadata": {},
   "outputs": [],
   "source": [
    "X_train, X_test, y_train, y_test = train_test_split(df_pred.iloc[:,:-1], df_pred.iloc[:,-1], \n",
    "                                                    test_size=0.2,random_state=42, stratify = df['psychotype'])\n",
    "X_test, X_val, y_test, y_val = train_test_split(X_test, y_test, train_size=0.5, \n",
    "                                                random_state=42, stratify = y_test)"
   ]
  },
  {
   "cell_type": "code",
   "execution_count": 193,
   "id": "73528dcc",
   "metadata": {},
   "outputs": [],
   "source": [
    "X = list(df_pred.iloc[:,:-1].columns)\n",
    "y = 'psychotype'"
   ]
  },
  {
   "cell_type": "code",
   "execution_count": 194,
   "id": "0b3d9f7d",
   "metadata": {},
   "outputs": [],
   "source": [
    "from catboost import Pool\n",
    "\n",
    "train_data = Pool(data=X_train,\n",
    "                  label=y_train\n",
    "                 )\n",
    "val_data = Pool(data = X_val,\n",
    "               label = y_val)\n"
   ]
  },
  {
   "cell_type": "code",
   "execution_count": 195,
   "id": "faddfd68",
   "metadata": {},
   "outputs": [],
   "source": [
    "params = {'verbose' : 100,\n",
    "          'random_seed':42,\n",
    "          \"loss_function\" : 'MultiClass'}"
   ]
  },
  {
   "cell_type": "code",
   "execution_count": 196,
   "id": "378f5af0",
   "metadata": {},
   "outputs": [],
   "source": [
    "model = CatBoostClassifier(**params)"
   ]
  },
  {
   "cell_type": "code",
   "execution_count": 197,
   "id": "acbfd241",
   "metadata": {},
   "outputs": [
    {
     "name": "stdout",
     "output_type": "stream",
     "text": [
      "Learning rate set to 0.114334\n",
      "0:\tlearn: 2.4385515\ttest: 2.4459179\tbest: 2.4459179 (0)\ttotal: 115ms\tremaining: 1m 54s\n",
      "100:\tlearn: 0.5654285\ttest: 0.7651063\tbest: 0.7651063 (100)\ttotal: 12.2s\tremaining: 1m 48s\n",
      "200:\tlearn: 0.3144555\ttest: 0.6040217\tbest: 0.6040217 (200)\ttotal: 23.9s\tremaining: 1m 35s\n",
      "300:\tlearn: 0.2009148\ttest: 0.5366292\tbest: 0.5366292 (300)\ttotal: 35.6s\tremaining: 1m 22s\n",
      "400:\tlearn: 0.1388391\ttest: 0.4995225\tbest: 0.4995225 (400)\ttotal: 47.3s\tremaining: 1m 10s\n",
      "500:\tlearn: 0.1014145\ttest: 0.4763464\tbest: 0.4762563 (499)\ttotal: 1m\tremaining: 1m\n",
      "600:\tlearn: 0.0775247\ttest: 0.4600090\tbest: 0.4600090 (600)\ttotal: 1m 13s\tremaining: 48.5s\n",
      "700:\tlearn: 0.0611191\ttest: 0.4485247\tbest: 0.4485247 (700)\ttotal: 1m 24s\tremaining: 36.2s\n",
      "800:\tlearn: 0.0493705\ttest: 0.4386409\tbest: 0.4386409 (800)\ttotal: 1m 37s\tremaining: 24.2s\n",
      "900:\tlearn: 0.0408594\ttest: 0.4316270\tbest: 0.4316270 (900)\ttotal: 1m 53s\tremaining: 12.4s\n",
      "999:\tlearn: 0.0344848\ttest: 0.4267941\tbest: 0.4267941 (999)\ttotal: 2m 5s\tremaining: 0us\n",
      "\n",
      "bestTest = 0.426794093\n",
      "bestIteration = 999\n",
      "\n"
     ]
    },
    {
     "data": {
      "text/plain": [
       "<catboost.core.CatBoostClassifier at 0x14faa1bdac0>"
      ]
     },
     "execution_count": 197,
     "metadata": {},
     "output_type": "execute_result"
    }
   ],
   "source": [
    "model.fit(train_data, eval_set = val_data)"
   ]
  },
  {
   "cell_type": "code",
   "execution_count": 198,
   "id": "a89ebe7d",
   "metadata": {},
   "outputs": [],
   "source": [
    "\"\"\"\n",
    "Данная функция высчитывает метрику average_precision_score\n",
    "по методу One vs Rest (OvR)\n",
    "\"\"\"\n",
    "def average_precision_score_multiclass(actual_class, pred_class, average = \"macro\"):\n",
    "    \n",
    "    unique_class = set(actual_class)\n",
    "    avg_precision_score_dict = {}\n",
    "    for per_class in unique_class:\n",
    "     \n",
    "        other_class = [x for x in unique_class if x != per_class]\n",
    "\n",
    "\n",
    "        new_actual_class = [0 if x in other_class else 1 for x in actual_class]\n",
    "        new_pred_class = [0 if x in other_class else 1 for x in pred_class]\n",
    "\n",
    "    \n",
    "        avg_precision_score = average_precision_score(new_actual_class, new_pred_class, average = average)\n",
    "        avg_precision_score_dict[per_class] = avg_precision_score\n",
    "    return avg_precision_score_dict"
   ]
  },
  {
   "cell_type": "code",
   "execution_count": 199,
   "id": "e74e35b8",
   "metadata": {},
   "outputs": [],
   "source": [
    "test_pred = model.predict(X_test)"
   ]
  },
  {
   "cell_type": "code",
   "execution_count": 200,
   "id": "18325099",
   "metadata": {},
   "outputs": [
    {
     "name": "stdout",
     "output_type": "stream",
     "text": [
      "              precision    recall  f1-score   support\n",
      "\n",
      "        ENFJ       0.75      0.63      0.69        78\n",
      "        ENFP       0.83      0.89      0.86       113\n",
      "        ENTJ       0.83      0.80      0.82       180\n",
      "        ENTP       0.86      0.87      0.87       123\n",
      "        ESFJ       0.80      0.85      0.82       155\n",
      "        ESFP       0.77      0.57      0.66        40\n",
      "        ESTJ       0.89      0.96      0.92       646\n",
      "        ESTP       0.87      0.75      0.80       112\n",
      "        INFJ       0.77      0.61      0.68        38\n",
      "        INFP       0.80      0.80      0.80        51\n",
      "        INTJ       0.82      0.76      0.79        79\n",
      "        INTP       0.85      0.85      0.85        66\n",
      "        ISFJ       0.83      0.68      0.75        78\n",
      "        ISFP       0.76      0.64      0.70        25\n",
      "        ISTJ       0.87      0.93      0.90       338\n",
      "        ISTP       0.85      0.65      0.74        63\n",
      "\n",
      "    accuracy                           0.85      2185\n",
      "   macro avg       0.82      0.76      0.79      2185\n",
      "weighted avg       0.85      0.85      0.85      2185\n",
      "\n"
     ]
    }
   ],
   "source": [
    "print(classification_report(y_test, test_pred))"
   ]
  },
  {
   "cell_type": "markdown",
   "id": "3b35cbc3",
   "metadata": {},
   "source": [
    "Метрика Accuracy показывает общий процент правильных предсказаний (TP и TN) в нашем случаем модель правильно предсказывает классы в 85% (однако данная метрика не учитывает несбалансированность классов)  \n",
    "Метрика precision (macro) показывает процент правильных предсказаний класса среди всех предсказанных классов в среднем по всем классам. Она равна 82%. Для моей модели *важно*, что были *верно* предсказаны классы, поэтому для нас это метрика ключевая  \n",
    "Метрика f1 (macro avg) показывает гармоническое среднее между precision и recall. На эту метрику будем обращать внимание"
   ]
  },
  {
   "cell_type": "code",
   "execution_count": 201,
   "id": "6b2dd3f6",
   "metadata": {},
   "outputs": [
    {
     "data": {
      "text/plain": [
       "{'ESFP': 0.4486136536994661,\n",
       " 'INFJ': 0.4709000762776506,\n",
       " 'ENFJ': 0.4868423309366805,\n",
       " 'ISFP': 0.4917380407540591,\n",
       " 'ISTP': 0.5659548932718269,\n",
       " 'ISFJ': 0.5741419681100745,\n",
       " 'INTJ': 0.6329370255049344,\n",
       " 'INFP': 0.650866547543323,\n",
       " 'ESTP': 0.6622991813913988,\n",
       " 'ENTJ': 0.6823719262972713,\n",
       " 'ESFJ': 0.69022403710599,\n",
       " 'INTP': 0.724503197147258,\n",
       " 'ENFP': 0.7515608857490442,\n",
       " 'ENTP': 0.75797830618005,\n",
       " 'ISTJ': 0.8145766594119157,\n",
       " 'ESTJ': 0.864553075629368}"
      ]
     },
     "execution_count": 201,
     "metadata": {},
     "output_type": "execute_result"
    }
   ],
   "source": [
    "dict(sorted(average_precision_score_multiclass(y_test, test_pred).items(), key=lambda item: item[1]))"
   ]
  },
  {
   "cell_type": "markdown",
   "id": "2ac14fef",
   "metadata": {},
   "source": [
    "Показывает предсказание метрики average_precision_score для каждого класса против всех остальных (OvR)  \n",
    "Худшие значения видим для классов ESFP, INFJ, ENFJ, ISFP"
   ]
  },
  {
   "cell_type": "code",
   "execution_count": 202,
   "id": "16a6d8e6",
   "metadata": {},
   "outputs": [
    {
     "data": {
      "text/plain": [
       "0.6418788628131444"
      ]
     },
     "execution_count": 202,
     "metadata": {},
     "output_type": "execute_result"
    }
   ],
   "source": [
    "np.mean(list(average_precision_score_multiclass(y_test, test_pred).values()))"
   ]
  },
  {
   "cell_type": "markdown",
   "id": "4a91a04a",
   "metadata": {},
   "source": [
    "Среднее значение average_precision_score по всем классам = 0.641"
   ]
  },
  {
   "cell_type": "markdown",
   "id": "d5e5fdba",
   "metadata": {},
   "source": [
    "## Подбираем гиперпараметры"
   ]
  },
  {
   "cell_type": "markdown",
   "id": "6ea0bcb5",
   "metadata": {},
   "source": [
    "Будем настраивать только основные гиперпараметры и обрабатывать их кросс-валидацией с 5 folds (можно было бы протестировать больше кол-во параметров и использовать большее кол-во фолдов от 5 - 10 для более точной оценки нашей метрики, однако вычислительные способности компьютера этого не позволяют)  \n",
    "Следующие вычисления проводятся очень долго:"
   ]
  },
  {
   "cell_type": "code",
   "execution_count": 89,
   "id": "72a36f04",
   "metadata": {},
   "outputs": [],
   "source": [
    "space = {\n",
    "    \"iterations\": 300,\n",
    "    \"loss_function\": \"MultiClass\",\n",
    "    'learning_rate': hp.uniform('learning_rate', 0.01, 0.5),\n",
    "    'depth': hp.randint('depth', 3, 15),\n",
    "    'l2_leaf_reg': hp.randint('l2_leaf_reg', 1, 15),\n",
    "    'boosting_type': 'Plain'\n",
    "}"
   ]
  },
  {
   "cell_type": "code",
   "execution_count": 595,
   "id": "b93d6c4a",
   "metadata": {},
   "outputs": [],
   "source": [
    "X_train_val = pd.concat([X_train,X_val],axis = 0)"
   ]
  },
  {
   "cell_type": "code",
   "execution_count": 596,
   "id": "a85f7ee6",
   "metadata": {},
   "outputs": [],
   "source": [
    "y_train_val = pd.concat([y_train,y_val],axis = 0)"
   ]
  },
  {
   "cell_type": "code",
   "execution_count": 597,
   "id": "87183563",
   "metadata": {},
   "outputs": [],
   "source": [
    "train_val_data = Pool(data=X_train_val,\n",
    "                  label=y_train_val\n",
    "                 )"
   ]
  },
  {
   "cell_type": "code",
   "execution_count": 86,
   "id": "7a0a74c8",
   "metadata": {},
   "outputs": [],
   "source": [
    "def hyperopt_objective(params):\n",
    "    cv_data = cv(\n",
    "    params = params,\n",
    "    pool = train_val_data,\n",
    "    fold_count=5,\n",
    "    shuffle=True,\n",
    "    partition_random_seed=0,\n",
    "    stratified= True, # мб из за этого так долго\n",
    "    verbose= False,\n",
    "    early_stopping_rounds=10\n",
    "    )\n",
    "    \n",
    "    loss = cv_data['test-MultiClass-mean'].min()\n",
    "    return loss"
   ]
  },
  {
   "cell_type": "code",
   "execution_count": 90,
   "id": "5cb8bbae",
   "metadata": {
    "scrolled": true
   },
   "outputs": [
    {
     "name": "stdout",
     "output_type": "stream",
     "text": [
      "  0%|          | 0/25 [00:00<?, ?trial/s, best loss=?]Training on fold [0/5]\n",
      "\n",
      "bestTest = 0.7432208237\n",
      "bestIteration = 299\n",
      "\n",
      "Training on fold [1/5]\n",
      "\n",
      "bestTest = 0.7265813542\n",
      "bestIteration = 299\n",
      "\n",
      "Training on fold [2/5]\n",
      "\n",
      "bestTest = 0.6967202564\n",
      "bestIteration = 299\n",
      "\n",
      "Training on fold [3/5]\n",
      "\n",
      "bestTest = 0.7311595251\n",
      "bestIteration = 299\n",
      "\n",
      "Training on fold [4/5]\n",
      "\n",
      "bestTest = 0.7167413141\n",
      "bestIteration = 299\n",
      "\n",
      "  4%|▍         | 1/25 [34:18<13:43:22, 2058.43s/trial, best loss: 0.7228846546933776]Training on fold [0/5]\n",
      "\n",
      "bestTest = 0.4452952165\n",
      "bestIteration = 299\n",
      "\n",
      "Training on fold [1/5]\n",
      "\n",
      "bestTest = 0.4306178179\n",
      "bestIteration = 299\n",
      "\n",
      "Training on fold [2/5]\n",
      "\n",
      "bestTest = 0.4284821099\n",
      "bestIteration = 299\n",
      "\n",
      "Training on fold [3/5]\n",
      "\n",
      "bestTest = 0.4397629472\n",
      "bestIteration = 299\n",
      "\n",
      "Training on fold [4/5]\n",
      "\n",
      "bestTest = 0.4307830853\n",
      "bestIteration = 299\n",
      "\n",
      "  8%|▊         | 2/25 [35:27<5:40:31, 888.35s/trial, best loss: 0.4349882353749348]  Training on fold [0/5]\n",
      "\n",
      "bestTest = 0.5450836712\n",
      "bestIteration = 299\n",
      "\n",
      "Training on fold [1/5]\n",
      "\n",
      "bestTest = 0.530299501\n",
      "bestIteration = 299\n",
      "\n",
      "Training on fold [2/5]\n",
      "\n",
      "bestTest = 0.5248390643\n",
      "bestIteration = 297\n",
      "\n",
      "Training on fold [3/5]\n",
      "\n",
      "bestTest = 0.5347517699\n",
      "bestIteration = 299\n",
      "\n",
      "Training on fold [4/5]\n",
      "\n",
      "bestTest = 0.5190302844\n",
      "bestIteration = 299\n",
      "\n",
      " 12%|█▏        | 3/25 [40:37<3:48:54, 624.31s/trial, best loss: 0.4349882353749348]Training on fold [0/5]\n",
      "\n",
      "bestTest = 0.6029315752\n",
      "bestIteration = 299\n",
      "\n",
      "Training on fold [1/5]\n",
      "\n",
      "bestTest = 0.5964196468\n",
      "bestIteration = 299\n",
      "\n",
      "Training on fold [2/5]\n",
      "\n",
      "bestTest = 0.5731362065\n",
      "bestIteration = 299\n",
      "\n",
      "Training on fold [3/5]\n",
      "\n",
      "bestTest = 0.5966052837\n",
      "bestIteration = 299\n",
      "\n",
      "Training on fold [4/5]\n",
      "\n",
      "bestTest = 0.5897739832\n",
      "bestIteration = 299\n",
      "\n",
      " 16%|█▌        | 4/25 [50:24<3:33:18, 609.45s/trial, best loss: 0.4349882353749348]Training on fold [0/5]\n",
      "\n",
      "bestTest = 0.9174505835\n",
      "bestIteration = 299\n",
      "\n",
      "Training on fold [1/5]\n",
      "\n",
      "bestTest = 0.9031261161\n",
      "bestIteration = 299\n",
      "\n",
      "Training on fold [2/5]\n",
      "\n",
      "bestTest = 0.877116688\n",
      "bestIteration = 299\n",
      "\n",
      "Training on fold [3/5]\n",
      "\n",
      "bestTest = 0.9098278998\n",
      "bestIteration = 299\n",
      "\n",
      "Training on fold [4/5]\n",
      "\n",
      "bestTest = 0.8895856294\n",
      "bestIteration = 299\n",
      "\n",
      " 20%|██        | 5/25 [2:47:41<16:15:45, 2927.25s/trial, best loss: 0.4349882353749348]Training on fold [0/5]\n",
      "\n",
      "bestTest = 1.131886859\n",
      "bestIteration = 299\n",
      "\n",
      "Training on fold [1/5]\n",
      "\n",
      "bestTest = 1.112939193\n",
      "bestIteration = 299\n",
      "\n",
      "Training on fold [2/5]\n",
      "\n",
      "bestTest = 1.097062738\n",
      "bestIteration = 299\n",
      "\n",
      "Training on fold [3/5]\n",
      "\n",
      "bestTest = 1.120547314\n",
      "bestIteration = 299\n",
      "\n",
      "Training on fold [4/5]\n",
      "\n",
      "bestTest = 1.101262823\n",
      "bestIteration = 299\n",
      "\n",
      " 24%|██▍       | 6/25 [6:22:20<33:18:28, 6310.97s/trial, best loss: 0.4349882353749348]Training on fold [0/5]\n",
      "\n",
      "bestTest = 0.4161076939\n",
      "bestIteration = 299\n",
      "\n",
      "Training on fold [1/5]\n",
      "\n",
      "bestTest = 0.4132426401\n",
      "bestIteration = 299\n",
      "\n",
      "Training on fold [2/5]\n",
      "\n",
      "bestTest = 0.4081946899\n",
      "bestIteration = 299\n",
      "\n",
      "Training on fold [3/5]\n",
      "\n",
      "bestTest = 0.4201368927\n",
      "bestIteration = 299\n",
      "\n",
      "Training on fold [4/5]\n",
      "\n",
      "bestTest = 0.4113399223\n",
      "bestIteration = 299\n",
      "\n",
      " 28%|██▊       | 7/25 [6:23:28<21:20:56, 4269.83s/trial, best loss: 0.4138043677917276]Training on fold [0/5]\n",
      "\n",
      "bestTest = 1.305820474\n",
      "bestIteration = 299\n",
      "\n",
      "Training on fold [1/5]\n",
      "\n",
      "bestTest = 1.294824378\n",
      "bestIteration = 299\n",
      "\n",
      "Training on fold [2/5]\n",
      "\n",
      "bestTest = 1.268478811\n",
      "bestIteration = 299\n",
      "\n",
      "Training on fold [3/5]\n",
      "\n",
      "bestTest = 1.308600118\n",
      "bestIteration = 299\n",
      "\n",
      "Training on fold [4/5]\n",
      "\n",
      "bestTest = 1.281880996\n",
      "bestIteration = 299\n",
      "\n",
      " 32%|███▏      | 8/25 [14:15:29<56:19:11, 11926.58s/trial, best loss: 0.4138043677917276]Training on fold [0/5]\n",
      "\n",
      "bestTest = 0.7093510302\n",
      "bestIteration = 299\n",
      "\n",
      "Training on fold [1/5]\n",
      "\n",
      "bestTest = 0.7044746921\n",
      "bestIteration = 299\n",
      "\n",
      "Training on fold [2/5]\n",
      "\n",
      "bestTest = 0.6898421205\n",
      "bestIteration = 299\n",
      "\n",
      "Training on fold [3/5]\n",
      "\n",
      "bestTest = 0.7053984837\n",
      "bestIteration = 299\n",
      "\n",
      "Training on fold [4/5]\n",
      "\n",
      "bestTest = 0.6948945169\n",
      "bestIteration = 299\n",
      "\n",
      " 36%|███▌      | 9/25 [14:23:22<37:05:39, 8346.21s/trial, best loss: 0.4138043677917276] Training on fold [0/5]\n",
      "\n",
      "bestTest = 0.6593765944\n",
      "bestIteration = 299\n",
      "\n",
      "Training on fold [1/5]\n",
      "\n",
      "bestTest = 0.6515101645\n",
      "bestIteration = 299\n",
      "\n",
      "Training on fold [2/5]\n",
      "\n",
      "bestTest = 0.6275365192\n",
      "bestIteration = 299\n",
      "\n",
      "Training on fold [3/5]\n",
      "\n",
      "bestTest = 0.6515198786\n",
      "bestIteration = 299\n",
      "\n",
      "Training on fold [4/5]\n",
      "\n",
      "bestTest = 0.6424631344\n",
      "bestIteration = 299\n",
      "\n",
      " 40%|████      | 10/25 [14:37:25<25:07:24, 6029.64s/trial, best loss: 0.4138043677917276]Training on fold [0/5]\n",
      "\n",
      "bestTest = 1.293291752\n",
      "bestIteration = 299\n",
      "\n",
      "Training on fold [1/5]\n",
      "\n",
      "bestTest = 1.272673361\n",
      "bestIteration = 299\n",
      "\n",
      "Training on fold [2/5]\n",
      "\n",
      "bestTest = 1.253117902\n",
      "bestIteration = 299\n",
      "\n",
      "Training on fold [3/5]\n",
      "\n",
      "bestTest = 1.279484338\n",
      "bestIteration = 299\n",
      "\n",
      "Training on fold [4/5]\n",
      "\n",
      "bestTest = 1.259802286\n",
      "bestIteration = 299\n",
      "\n",
      " 44%|████▍     | 11/25 [21:18:05<44:53:06, 11541.88s/trial, best loss: 0.4138043677917276]Training on fold [0/5]\n",
      "\n",
      "bestTest = 0.5362089305\n",
      "bestIteration = 299\n",
      "\n",
      "Training on fold [1/5]\n",
      "\n",
      "bestTest = 0.5401596154\n",
      "bestIteration = 299\n",
      "\n",
      "Training on fold [2/5]\n",
      "\n",
      "bestTest = 0.5161185532\n",
      "bestIteration = 299\n",
      "\n",
      "Training on fold [3/5]\n",
      "\n",
      "bestTest = 0.5333033427\n",
      "bestIteration = 299\n",
      "\n",
      "Training on fold [4/5]\n",
      "\n",
      "bestTest = 0.5253786097\n",
      "bestIteration = 299\n",
      "\n",
      " 48%|████▊     | 12/25 [21:22:38<29:17:58, 8113.71s/trial, best loss: 0.4138043677917276] Training on fold [0/5]\n",
      "\n",
      "bestTest = 0.5463046961\n",
      "bestIteration = 299\n",
      "\n",
      "Training on fold [1/5]\n",
      "\n",
      "bestTest = 0.5469880065\n",
      "bestIteration = 299\n",
      "\n",
      "Training on fold [2/5]\n",
      "\n",
      "bestTest = 0.5373558327\n",
      "bestIteration = 299\n",
      "\n",
      "Training on fold [3/5]\n",
      "\n",
      "bestTest = 0.5446558682\n",
      "bestIteration = 299\n",
      "\n",
      "Training on fold [4/5]\n",
      "\n",
      "bestTest = 0.5422253233\n",
      "bestIteration = 299\n",
      "\n",
      " 52%|█████▏    | 13/25 [21:23:20<18:53:43, 5668.60s/trial, best loss: 0.4138043677917276]Training on fold [0/5]\n",
      "\n",
      "bestTest = 0.7202279264\n",
      "bestIteration = 299\n",
      "\n",
      "Training on fold [1/5]\n",
      "\n",
      "bestTest = 0.7135355109\n",
      "bestIteration = 299\n",
      "\n",
      "Training on fold [2/5]\n",
      "\n",
      "bestTest = 0.6917008162\n",
      "bestIteration = 299\n",
      "\n",
      "Training on fold [3/5]\n",
      "\n",
      "bestTest = 0.7227113396\n",
      "bestIteration = 299\n",
      "\n",
      "Training on fold [4/5]\n",
      "\n",
      "bestTest = 0.7100967129\n",
      "bestIteration = 299\n",
      "\n",
      " 56%|█████▌    | 14/25 [21:49:26<13:32:01, 4429.21s/trial, best loss: 0.4138043677917276]Training on fold [0/5]\n",
      "\n",
      "bestTest = 0.4629251028\n",
      "bestIteration = 299\n",
      "\n",
      "Training on fold [1/5]\n",
      "\n",
      "bestTest = 0.4549719436\n",
      "bestIteration = 299\n",
      "\n",
      "Training on fold [2/5]\n",
      "\n",
      "bestTest = 0.4486011348\n",
      "bestIteration = 299\n",
      "\n",
      "Training on fold [3/5]\n",
      "\n",
      "bestTest = 0.453433658\n",
      "bestIteration = 299\n",
      "\n",
      "Training on fold [4/5]\n",
      "\n",
      "bestTest = 0.4503246926\n",
      "bestIteration = 299\n",
      "\n",
      " 60%|██████    | 15/25 [21:50:08<8:37:48, 3106.81s/trial, best loss: 0.4138043677917276] Training on fold [0/5]\n",
      "\n",
      "bestTest = 0.5982159039\n",
      "bestIteration = 299\n",
      "\n",
      "Training on fold [1/5]\n",
      "\n",
      "bestTest = 0.5867342082\n",
      "bestIteration = 299\n",
      "\n",
      "Training on fold [2/5]\n",
      "\n",
      "bestTest = 0.5619626406\n",
      "bestIteration = 299\n",
      "\n",
      "Training on fold [3/5]\n",
      "\n",
      "bestTest = 0.5846611969\n",
      "bestIteration = 299\n",
      "\n",
      "Training on fold [4/5]\n",
      "\n",
      "bestTest = 0.5788422335\n",
      "bestIteration = 298\n",
      "\n",
      " 64%|██████▍   | 16/25 [21:58:00<5:47:05, 2313.91s/trial, best loss: 0.4138043677917276]Training on fold [0/5]\n",
      "\n",
      "bestTest = 1.2633918\n",
      "bestIteration = 299\n",
      "\n",
      "Training on fold [1/5]\n",
      "\n",
      "bestTest = 1.248988198\n",
      "bestIteration = 299\n",
      "\n",
      "Training on fold [2/5]\n",
      "\n",
      "bestTest = 1.231692225\n",
      "bestIteration = 299\n",
      "\n",
      "Training on fold [3/5]\n",
      "\n",
      "bestTest = 1.26073729\n",
      "bestIteration = 299\n",
      "\n",
      "Training on fold [4/5]\n",
      "\n",
      "bestTest = 1.246896787\n",
      "bestIteration = 299\n",
      "\n",
      " 68%|██████▊   | 17/25 [29:45:49<22:21:05, 10058.19s/trial, best loss: 0.4138043677917276]Training on fold [0/5]\n",
      "\n",
      "bestTest = 0.4651241459\n",
      "bestIteration = 299\n",
      "\n",
      "Training on fold [1/5]\n",
      "\n",
      "bestTest = 0.4623401655\n",
      "bestIteration = 299\n",
      "\n",
      "Training on fold [2/5]\n",
      "\n",
      "bestTest = 0.4549367573\n",
      "bestIteration = 299\n",
      "\n",
      "Training on fold [3/5]\n",
      "\n",
      "bestTest = 0.4638152438\n",
      "bestIteration = 299\n",
      "\n",
      "Training on fold [4/5]\n",
      "\n",
      "bestTest = 0.4579630463\n",
      "bestIteration = 299\n",
      "\n",
      " 72%|███████▏  | 18/25 [29:46:33<13:42:23, 7049.08s/trial, best loss: 0.4138043677917276] Training on fold [0/5]\n",
      "\n",
      "bestTest = 0.3635160155\n",
      "bestIteration = 299\n",
      "\n",
      "Training on fold [1/5]\n",
      "\n",
      "bestTest = 0.3660799891\n",
      "bestIteration = 299\n",
      "\n",
      "Training on fold [2/5]\n",
      "\n",
      "bestTest = 0.3471553924\n",
      "bestIteration = 299\n",
      "\n",
      "Training on fold [3/5]\n",
      "\n",
      "bestTest = 0.3600136395\n",
      "bestIteration = 299\n",
      "\n",
      "Training on fold [4/5]\n",
      "\n",
      "bestTest = 0.3603419259\n",
      "bestIteration = 299\n",
      "\n",
      " 76%|███████▌  | 19/25 [29:47:14<8:14:26, 4944.36s/trial, best loss: 0.35942139247466787]Training on fold [0/5]\n",
      "\n",
      "bestTest = 1.868491193\n",
      "bestIteration = 299\n",
      "\n",
      "Training on fold [1/5]\n",
      "\n",
      "bestTest = 1.861445917\n",
      "bestIteration = 299\n",
      "\n",
      "Training on fold [2/5]\n",
      "\n",
      "bestTest = 1.846933417\n",
      "bestIteration = 299\n",
      "\n",
      "Training on fold [3/5]\n",
      "\n",
      "bestTest = 1.863527217\n",
      "bestIteration = 299\n",
      "\n",
      "Training on fold [4/5]\n",
      "\n",
      "bestTest = 1.855966686\n",
      "bestIteration = 299\n",
      "\n",
      " 80%|████████  | 20/25 [36:29:12<14:51:44, 10700.98s/trial, best loss: 0.35942139247466787]Training on fold [0/5]\n",
      "\n",
      "bestTest = 0.3974593758\n",
      "bestIteration = 280\n",
      "\n",
      "Training on fold [1/5]\n",
      "\n",
      "bestTest = 0.3964272435\n",
      "bestIteration = 299\n",
      "\n",
      "Training on fold [2/5]\n",
      "\n",
      "bestTest = 0.3898598091\n",
      "bestIteration = 277\n",
      "\n",
      "Training on fold [3/5]\n",
      "\n",
      "bestTest = 0.3904193654\n",
      "bestIteration = 282\n",
      "\n",
      "Training on fold [4/5]\n",
      "\n",
      "bestTest = 0.3986790746\n",
      "bestIteration = 291\n",
      "\n",
      " 84%|████████▍ | 21/25 [36:30:12<8:20:28, 7507.03s/trial, best loss: 0.35942139247466787]  Training on fold [0/5]\n",
      "\n",
      "bestTest = 0.5061097543\n",
      "bestIteration = 269\n",
      "\n",
      "Training on fold [1/5]\n",
      "\n",
      "bestTest = 0.4994205687\n",
      "bestIteration = 255\n",
      "\n",
      "Training on fold [2/5]\n",
      "\n",
      "bestTest = 0.473729605\n",
      "bestIteration = 299\n",
      "\n",
      "Training on fold [3/5]\n",
      "\n",
      "bestTest = 0.5037164699\n",
      "bestIteration = 254\n",
      "\n",
      "Training on fold [4/5]\n",
      "\n",
      "bestTest = 0.5025984515\n",
      "bestIteration = 299\n",
      "\n",
      " 88%|████████▊ | 22/25 [36:32:48<4:25:02, 5300.68s/trial, best loss: 0.35942139247466787]Training on fold [0/5]\n",
      "\n",
      "bestTest = 0.4881949936\n",
      "bestIteration = 146\n",
      "\n",
      "Training on fold [1/5]\n",
      "\n",
      "bestTest = 0.4350802177\n",
      "bestIteration = 299\n",
      "\n",
      "Training on fold [2/5]\n",
      "\n",
      "bestTest = 0.4375257122\n",
      "bestIteration = 299\n",
      "\n",
      "Training on fold [3/5]\n",
      "\n",
      "bestTest = 0.4750102594\n",
      "bestIteration = 194\n",
      "\n",
      "Training on fold [4/5]\n",
      "\n",
      "bestTest = 0.4472581158\n",
      "bestIteration = 269\n",
      "\n",
      " 92%|█████████▏| 23/25 [36:34:01<2:04:23, 3731.93s/trial, best loss: 0.35942139247466787]Training on fold [0/5]\n",
      "\n",
      "bestTest = 0.8778101666\n",
      "bestIteration = 299\n",
      "\n",
      "Training on fold [1/5]\n",
      "\n",
      "bestTest = 0.854455001\n",
      "bestIteration = 299\n",
      "\n",
      "Training on fold [2/5]\n",
      "\n",
      "bestTest = 0.8246187743\n",
      "bestIteration = 299\n",
      "\n",
      "Training on fold [3/5]\n",
      "\n",
      "bestTest = 0.8594049788\n",
      "bestIteration = 299\n",
      "\n",
      "Training on fold [4/5]\n",
      "\n",
      "bestTest = 0.837142826\n",
      "bestIteration = 299\n",
      "\n",
      " 96%|█████████▌| 24/25 [37:23:42<58:26, 3506.60s/trial, best loss: 0.35942139247466787]  Training on fold [0/5]\n",
      "\n",
      "bestTest = 0.5012544726\n",
      "bestIteration = 299\n",
      "\n",
      "Training on fold [1/5]\n",
      "\n",
      "bestTest = 0.4970819169\n",
      "bestIteration = 299\n",
      "\n",
      "Training on fold [2/5]\n",
      "\n",
      "bestTest = 0.4911312663\n",
      "bestIteration = 299\n",
      "\n",
      "Training on fold [3/5]\n",
      "\n",
      "bestTest = 0.4996607204\n",
      "bestIteration = 299\n",
      "\n",
      "Training on fold [4/5]\n",
      "\n",
      "bestTest = 0.4991982009\n",
      "bestIteration = 299\n",
      "\n",
      "100%|██████████| 25/25 [37:24:41<00:00, 5387.28s/trial, best loss: 0.35942139247466787]\n"
     ]
    }
   ],
   "source": [
    "best = fmin(hyperopt_objective,\n",
    "    space=space,\n",
    "    algo=tpe.suggest,\n",
    "    max_evals=25)"
   ]
  },
  {
   "cell_type": "markdown",
   "id": "4aa245c0",
   "metadata": {},
   "source": [
    "Получили лучше гиперпараметры"
   ]
  },
  {
   "cell_type": "code",
   "execution_count": 91,
   "id": "78ede2b5",
   "metadata": {},
   "outputs": [
    {
     "data": {
      "text/plain": [
       "{'depth': 3, 'l2_leaf_reg': 1, 'learning_rate': 0.4629992499592749}"
      ]
     },
     "execution_count": 91,
     "metadata": {},
     "output_type": "execute_result"
    }
   ],
   "source": [
    "best"
   ]
  },
  {
   "cell_type": "markdown",
   "id": "b29a438d",
   "metadata": {},
   "source": [
    "### Строим модель с подобранными гиперпараметрами"
   ]
  },
  {
   "cell_type": "code",
   "execution_count": 203,
   "id": "6761009e",
   "metadata": {},
   "outputs": [],
   "source": [
    "params = {'verbose' : 100,\n",
    "          'random_seed':42,\n",
    "          'depth': 3, \n",
    "          'l2_leaf_reg': 1, \n",
    "          'learning_rate': 0.4629992499592749,\n",
    "          \"loss_function\" : 'MultiClass'}"
   ]
  },
  {
   "cell_type": "code",
   "execution_count": 204,
   "id": "a494739b",
   "metadata": {},
   "outputs": [],
   "source": [
    "model = CatBoostClassifier(**params)"
   ]
  },
  {
   "cell_type": "code",
   "execution_count": 205,
   "id": "3e14654d",
   "metadata": {},
   "outputs": [
    {
     "name": "stdout",
     "output_type": "stream",
     "text": [
      "0:\tlearn: 2.1384663\ttest: 2.1589716\tbest: 2.1589716 (0)\ttotal: 39.1ms\tremaining: 39s\n",
      "100:\tlearn: 0.3701751\ttest: 0.5016964\tbest: 0.5016964 (100)\ttotal: 2.92s\tremaining: 26s\n",
      "200:\tlearn: 0.2116894\ttest: 0.3934646\tbest: 0.3934646 (200)\ttotal: 5.7s\tremaining: 22.6s\n",
      "300:\tlearn: 0.1375768\ttest: 0.3586977\tbest: 0.3586977 (300)\ttotal: 8.8s\tremaining: 20.4s\n",
      "400:\tlearn: 0.0943483\ttest: 0.3403919\tbest: 0.3393836 (397)\ttotal: 12.2s\tremaining: 18.2s\n",
      "500:\tlearn: 0.0675135\ttest: 0.3301319\tbest: 0.3290468 (482)\ttotal: 15.4s\tremaining: 15.3s\n",
      "600:\tlearn: 0.0496027\ttest: 0.3218238\tbest: 0.3209959 (587)\ttotal: 18.3s\tremaining: 12.1s\n",
      "700:\tlearn: 0.0374086\ttest: 0.3171738\tbest: 0.3165601 (695)\ttotal: 21.2s\tremaining: 9.05s\n",
      "800:\tlearn: 0.0286979\ttest: 0.3131929\tbest: 0.3125423 (777)\ttotal: 24.9s\tremaining: 6.19s\n",
      "900:\tlearn: 0.0222833\ttest: 0.3122034\tbest: 0.3119133 (897)\ttotal: 28.3s\tremaining: 3.11s\n",
      "999:\tlearn: 0.0176233\ttest: 0.3121466\tbest: 0.3099025 (955)\ttotal: 31.2s\tremaining: 0us\n",
      "\n",
      "bestTest = 0.3099025107\n",
      "bestIteration = 955\n",
      "\n",
      "Shrink model to first 956 iterations.\n"
     ]
    },
    {
     "data": {
      "text/plain": [
       "<catboost.core.CatBoostClassifier at 0x14faa1bdcd0>"
      ]
     },
     "execution_count": 205,
     "metadata": {},
     "output_type": "execute_result"
    }
   ],
   "source": [
    "model.fit(train_data, eval_set = val_data)"
   ]
  },
  {
   "cell_type": "code",
   "execution_count": 206,
   "id": "772ca2fc",
   "metadata": {},
   "outputs": [],
   "source": [
    "test_pred = model.predict(X_test)"
   ]
  },
  {
   "cell_type": "code",
   "execution_count": 207,
   "id": "9feae027",
   "metadata": {},
   "outputs": [
    {
     "name": "stdout",
     "output_type": "stream",
     "text": [
      "              precision    recall  f1-score   support\n",
      "\n",
      "        ENFJ       0.83      0.74      0.78        78\n",
      "        ENFP       0.88      0.88      0.88       113\n",
      "        ENTJ       0.89      0.86      0.87       180\n",
      "        ENTP       0.91      0.92      0.91       123\n",
      "        ESFJ       0.87      0.91      0.89       155\n",
      "        ESFP       0.89      0.82      0.86        40\n",
      "        ESTJ       0.92      0.96      0.94       646\n",
      "        ESTP       0.90      0.86      0.88       112\n",
      "        INFJ       0.78      0.74      0.76        38\n",
      "        INFP       0.79      0.82      0.81        51\n",
      "        INTJ       0.74      0.77      0.76        79\n",
      "        INTP       0.92      0.85      0.88        66\n",
      "        ISFJ       0.87      0.79      0.83        78\n",
      "        ISFP       0.68      0.68      0.68        25\n",
      "        ISTJ       0.91      0.92      0.92       338\n",
      "        ISTP       0.86      0.78      0.82        63\n",
      "\n",
      "    accuracy                           0.89      2185\n",
      "   macro avg       0.85      0.83      0.84      2185\n",
      "weighted avg       0.89      0.89      0.89      2185\n",
      "\n"
     ]
    }
   ],
   "source": [
    "print(classification_report(y_test, test_pred))"
   ]
  },
  {
   "cell_type": "markdown",
   "id": "30285a32",
   "metadata": {},
   "source": [
    "Метрика accuracy увеличилась на 4%  \n",
    "Метрика f1 увеличилась на 5%  \n",
    "Метрика precision увеличилась на 3%  "
   ]
  },
  {
   "cell_type": "code",
   "execution_count": 208,
   "id": "a0a03988",
   "metadata": {},
   "outputs": [
    {
     "data": {
      "text/plain": [
       "{'ISFP': 0.46606132723112137,\n",
       " 'INFJ': 0.5776760742435799,\n",
       " 'INTJ': 0.5826436670356914,\n",
       " 'ENFJ': 0.6252705341950193,\n",
       " 'INFP': 0.6567272062315708,\n",
       " 'ISTP': 0.6750233070599203,\n",
       " 'ISFJ': 0.701436052800993,\n",
       " 'ESFP': 0.739014472138042,\n",
       " 'ENTJ': 0.7741400602956667,\n",
       " 'ESTP': 0.7763480216184507,\n",
       " 'ENFP': 0.7808226197467505,\n",
       " 'INTP': 0.7835135691233527,\n",
       " 'ESFJ': 0.7981635950558958,\n",
       " 'ENTP': 0.8417783375072991,\n",
       " 'ISTJ': 0.8540045766590388,\n",
       " 'ESTJ': 0.8987047376866627}"
      ]
     },
     "execution_count": 208,
     "metadata": {},
     "output_type": "execute_result"
    }
   ],
   "source": [
    "dict(sorted(average_precision_score_multiclass(y_test, test_pred).items(), key=lambda item: item[1]))"
   ]
  },
  {
   "cell_type": "code",
   "execution_count": 209,
   "id": "f213b899",
   "metadata": {},
   "outputs": [
    {
     "data": {
      "text/plain": [
       "0.7207080099143159"
      ]
     },
     "execution_count": 209,
     "metadata": {},
     "output_type": "execute_result"
    }
   ],
   "source": [
    "np.mean(list(average_precision_score_multiclass(y_test, test_pred).values()))"
   ]
  },
  {
   "cell_type": "markdown",
   "id": "51d32dd1",
   "metadata": {},
   "source": [
    "Получили увеличение метрики average_precision_score на 8%"
   ]
  },
  {
   "cell_type": "markdown",
   "id": "b28c5833",
   "metadata": {},
   "source": [
    "## Подбираем гиперпараметр iterations"
   ]
  },
  {
   "cell_type": "code",
   "execution_count": 63,
   "id": "5c13bc76",
   "metadata": {},
   "outputs": [],
   "source": [
    "from sklearn.metrics import f1_score"
   ]
  },
  {
   "cell_type": "code",
   "execution_count": 85,
   "id": "05617b86",
   "metadata": {},
   "outputs": [],
   "source": [
    "def best_iterations(iter, n):   \n",
    "    params = {'verbose' : False,\n",
    "              'random_seed':42,\n",
    "              'depth': 3, \n",
    "              'l2_leaf_reg': 1, \n",
    "              'learning_rate': 0.4629992499592749,\n",
    "              \"loss_function\" : 'MultiClass'}\n",
    "    model = CatBoostClassifier(**params, iterations = iter)\n",
    "    model.fit(train_data, eval_set = val_data)\n",
    "    test_pred = model.predict(X_test)\n",
    "    f1 = f1_score(y_test, test_pred, average='macro')\n",
    "    avg_prec_score = np.mean(list(average_precision_score_multiclass(y_test, test_pred).values()))\n",
    "    print(f'Модель номер: {n}')\n",
    "    print(f'Результаты метрики f1: {round(f1,5)} при {iter} итераций')\n",
    "    print(f'Результаты метрики average_precision_score: {round(avg_prec_score,5)} при {iter} итераций')\n",
    "    print()"
   ]
  },
  {
   "cell_type": "code",
   "execution_count": 88,
   "id": "eef079bc",
   "metadata": {},
   "outputs": [],
   "source": [
    "from tqdm import tqdm"
   ]
  },
  {
   "cell_type": "code",
   "execution_count": 90,
   "id": "bcd8d80e",
   "metadata": {},
   "outputs": [
    {
     "name": "stderr",
     "output_type": "stream",
     "text": [
      " 11%|█         | 1/9 [00:49<06:38, 49.79s/it]"
     ]
    },
    {
     "name": "stdout",
     "output_type": "stream",
     "text": [
      "Модель номер: 1\n",
      "Результаты метрики f1: 0.84173 при 1000 итераций\n",
      "Результаты метрики average_precision_score: 0.72071 при 1000 итераций\n",
      "\n"
     ]
    },
    {
     "name": "stderr",
     "output_type": "stream",
     "text": [
      "\r",
      " 22%|██▏       | 2/9 [01:50<06:31, 55.98s/it]"
     ]
    },
    {
     "name": "stdout",
     "output_type": "stream",
     "text": [
      "Модель номер: 2\n",
      "Результаты метрики f1: 0.84173 при 1250 итераций\n",
      "Результаты метрики average_precision_score: 0.72071 при 1250 итераций\n",
      "\n"
     ]
    },
    {
     "name": "stderr",
     "output_type": "stream",
     "text": [
      "\r",
      " 33%|███▎      | 3/9 [03:05<06:28, 64.72s/it]"
     ]
    },
    {
     "name": "stdout",
     "output_type": "stream",
     "text": [
      "Модель номер: 3\n",
      "Результаты метрики f1: 0.84173 при 1500 итераций\n",
      "Результаты метрики average_precision_score: 0.72071 при 1500 итераций\n",
      "\n"
     ]
    },
    {
     "name": "stderr",
     "output_type": "stream",
     "text": [
      "\r",
      " 44%|████▍     | 4/9 [04:16<05:37, 67.43s/it]"
     ]
    },
    {
     "name": "stdout",
     "output_type": "stream",
     "text": [
      "Модель номер: 4\n",
      "Результаты метрики f1: 0.84173 при 1750 итераций\n",
      "Результаты метрики average_precision_score: 0.72071 при 1750 итераций\n",
      "\n"
     ]
    },
    {
     "name": "stderr",
     "output_type": "stream",
     "text": [
      "\r",
      " 56%|█████▌    | 5/9 [05:18<04:22, 65.50s/it]"
     ]
    },
    {
     "name": "stdout",
     "output_type": "stream",
     "text": [
      "Модель номер: 5\n",
      "Результаты метрики f1: 0.84173 при 2000 итераций\n",
      "Результаты метрики average_precision_score: 0.72071 при 2000 итераций\n",
      "\n"
     ]
    },
    {
     "name": "stderr",
     "output_type": "stream",
     "text": [
      "\r",
      " 67%|██████▋   | 6/9 [06:26<03:18, 66.16s/it]"
     ]
    },
    {
     "name": "stdout",
     "output_type": "stream",
     "text": [
      "Модель номер: 6\n",
      "Результаты метрики f1: 0.84173 при 2250 итераций\n",
      "Результаты метрики average_precision_score: 0.72071 при 2250 итераций\n",
      "\n"
     ]
    },
    {
     "name": "stderr",
     "output_type": "stream",
     "text": [
      "\r",
      " 78%|███████▊  | 7/9 [07:40<02:17, 68.77s/it]"
     ]
    },
    {
     "name": "stdout",
     "output_type": "stream",
     "text": [
      "Модель номер: 7\n",
      "Результаты метрики f1: 0.84173 при 2500 итераций\n",
      "Результаты метрики average_precision_score: 0.72071 при 2500 итераций\n",
      "\n"
     ]
    },
    {
     "name": "stderr",
     "output_type": "stream",
     "text": [
      "\r",
      " 89%|████████▉ | 8/9 [09:07<01:14, 74.57s/it]"
     ]
    },
    {
     "name": "stdout",
     "output_type": "stream",
     "text": [
      "Модель номер: 8\n",
      "Результаты метрики f1: 0.84173 при 2750 итераций\n",
      "Результаты метрики average_precision_score: 0.72071 при 2750 итераций\n",
      "\n"
     ]
    },
    {
     "name": "stderr",
     "output_type": "stream",
     "text": [
      "100%|██████████| 9/9 [10:51<00:00, 72.41s/it]"
     ]
    },
    {
     "name": "stdout",
     "output_type": "stream",
     "text": [
      "Модель номер: 9\n",
      "Результаты метрики f1: 0.84173 при 3000 итераций\n",
      "Результаты метрики average_precision_score: 0.72071 при 3000 итераций\n",
      "\n"
     ]
    },
    {
     "name": "stderr",
     "output_type": "stream",
     "text": [
      "\n"
     ]
    }
   ],
   "source": [
    "n = 1\n",
    "for i in tqdm(range(1000,3001,250)):\n",
    "    best_iterations(i, n)\n",
    "    n += 1"
   ]
  },
  {
   "cell_type": "markdown",
   "id": "a5fbcb47",
   "metadata": {},
   "source": [
    "Наша модель не становится лучше от увеличения кол-во итераций. Оставим iterations = 1000"
   ]
  },
  {
   "cell_type": "markdown",
   "id": "4ae003b9",
   "metadata": {},
   "source": [
    "Также мы не будем проводить кросс-валидацию отдельно, т.к. сделали это во время нахождения гиперпараметров"
   ]
  },
  {
   "cell_type": "markdown",
   "id": "faa60df9",
   "metadata": {},
   "source": [
    "# Построим финальную модель"
   ]
  },
  {
   "cell_type": "markdown",
   "id": "09fe92c1",
   "metadata": {},
   "source": [
    "Обучим модель на большей выборки train_val_data"
   ]
  },
  {
   "cell_type": "code",
   "execution_count": 210,
   "id": "241edf68",
   "metadata": {},
   "outputs": [],
   "source": [
    "params = {'verbose' : 200,\n",
    "              'random_seed':42,\n",
    "              'depth': 3, \n",
    "              'l2_leaf_reg': 1, \n",
    "              'learning_rate': 0.4629992499592749,\n",
    "              \"loss_function\" : 'MultiClass'}"
   ]
  },
  {
   "cell_type": "code",
   "execution_count": 211,
   "id": "98424d28",
   "metadata": {},
   "outputs": [],
   "source": [
    "model = CatBoostClassifier(**params)"
   ]
  },
  {
   "cell_type": "code",
   "execution_count": 212,
   "id": "4ee2604d",
   "metadata": {},
   "outputs": [],
   "source": [
    "X_train_val = pd.concat([X_train,X_val],axis = 0)"
   ]
  },
  {
   "cell_type": "code",
   "execution_count": 213,
   "id": "8f53197f",
   "metadata": {},
   "outputs": [],
   "source": [
    "y_train_val = pd.concat([y_train,y_val],axis = 0)"
   ]
  },
  {
   "cell_type": "code",
   "execution_count": 214,
   "id": "77c4be42",
   "metadata": {},
   "outputs": [],
   "source": [
    "train_val_data = Pool(data=X_train_val,\n",
    "                  label=y_train_val\n",
    "                 )"
   ]
  },
  {
   "cell_type": "code",
   "execution_count": 215,
   "id": "41206ab8",
   "metadata": {},
   "outputs": [
    {
     "name": "stdout",
     "output_type": "stream",
     "text": [
      "0:\tlearn: 2.1411788\ttest: 2.1567353\tbest: 2.1567353 (0)\ttotal: 40.8ms\tremaining: 40.7s\n",
      "200:\tlearn: 0.2208666\ttest: 0.2216639\tbest: 0.2216639 (200)\ttotal: 6.8s\tremaining: 27s\n",
      "400:\tlearn: 0.1017922\ttest: 0.1025565\tbest: 0.1025565 (400)\ttotal: 13.1s\tremaining: 19.5s\n",
      "600:\tlearn: 0.0548451\ttest: 0.0542609\tbest: 0.0542609 (600)\ttotal: 19.5s\tremaining: 13s\n",
      "800:\tlearn: 0.0324638\ttest: 0.0325135\tbest: 0.0325135 (800)\ttotal: 25.6s\tremaining: 6.35s\n",
      "999:\tlearn: 0.0202728\ttest: 0.0201324\tbest: 0.0201324 (999)\ttotal: 32.2s\tremaining: 0us\n",
      "\n",
      "bestTest = 0.02013239\n",
      "bestIteration = 999\n",
      "\n"
     ]
    },
    {
     "data": {
      "text/plain": [
       "<catboost.core.CatBoostClassifier at 0x14fc12593d0>"
      ]
     },
     "execution_count": 215,
     "metadata": {},
     "output_type": "execute_result"
    }
   ],
   "source": [
    "model.fit(train_val_data, eval_set = val_data)"
   ]
  },
  {
   "cell_type": "code",
   "execution_count": 216,
   "id": "075cc302",
   "metadata": {},
   "outputs": [],
   "source": [
    "test_pred = model.predict(X_test)"
   ]
  },
  {
   "cell_type": "code",
   "execution_count": 217,
   "id": "834db5e4",
   "metadata": {},
   "outputs": [
    {
     "name": "stdout",
     "output_type": "stream",
     "text": [
      "              precision    recall  f1-score   support\n",
      "\n",
      "        ENFJ       0.85      0.81      0.83        78\n",
      "        ENFP       0.90      0.90      0.90       113\n",
      "        ENTJ       0.89      0.88      0.89       180\n",
      "        ENTP       0.91      0.93      0.92       123\n",
      "        ESFJ       0.87      0.86      0.87       155\n",
      "        ESFP       0.89      0.82      0.86        40\n",
      "        ESTJ       0.93      0.97      0.95       646\n",
      "        ESTP       0.96      0.84      0.90       112\n",
      "        INFJ       0.75      0.63      0.69        38\n",
      "        INFP       0.85      0.86      0.85        51\n",
      "        INTJ       0.79      0.81      0.80        79\n",
      "        INTP       0.92      0.86      0.89        66\n",
      "        ISFJ       0.86      0.81      0.83        78\n",
      "        ISFP       0.78      0.84      0.81        25\n",
      "        ISTJ       0.92      0.94      0.93       338\n",
      "        ISTP       0.85      0.83      0.84        63\n",
      "\n",
      "    accuracy                           0.90      2185\n",
      "   macro avg       0.87      0.85      0.86      2185\n",
      "weighted avg       0.90      0.90      0.90      2185\n",
      "\n"
     ]
    }
   ],
   "source": [
    "print(classification_report(y_test, test_pred))"
   ]
  },
  {
   "cell_type": "markdown",
   "id": "c15917ba",
   "metadata": {},
   "source": [
    " accuracy увеличилась на 1%  \n",
    " f1 на 2%  \n",
    " precision на 2%"
   ]
  },
  {
   "cell_type": "code",
   "execution_count": 218,
   "id": "5bc74ef0",
   "metadata": {},
   "outputs": [
    {
     "data": {
      "text/plain": [
       "{'INFJ': 0.480091533180778,\n",
       " 'INTJ': 0.6469650041857942,\n",
       " 'ISFP': 0.6551639969488939,\n",
       " 'ENFJ': 0.69449492618829,\n",
       " 'ISFJ': 0.7039145143750015,\n",
       " 'ISTP': 0.7086512908548396,\n",
       " 'INFP': 0.7332187442834907,\n",
       " 'ESFP': 0.739014472138042,\n",
       " 'ESFJ': 0.76185229106171,\n",
       " 'ENTJ': 0.7936216944555773,\n",
       " 'INTP': 0.7981072629297328,\n",
       " 'ESTP': 0.8132671407889733,\n",
       " 'ENFP': 0.819820134324889,\n",
       " 'ENTP': 0.8502780611149955,\n",
       " 'ISTJ': 0.8713638353666517,\n",
       " 'ESTJ': 0.9070169028709884}"
      ]
     },
     "execution_count": 218,
     "metadata": {},
     "output_type": "execute_result"
    }
   ],
   "source": [
    "dict(sorted(average_precision_score_multiclass(y_test, test_pred).items(), key=lambda item: item[1]))"
   ]
  },
  {
   "cell_type": "code",
   "execution_count": 219,
   "id": "8d500db4",
   "metadata": {},
   "outputs": [
    {
     "data": {
      "text/plain": [
       "0.7485526128167905"
      ]
     },
     "execution_count": 219,
     "metadata": {},
     "output_type": "execute_result"
    }
   ],
   "source": [
    "np.mean(list(average_precision_score_multiclass(y_test, test_pred).values()))"
   ]
  },
  {
   "cell_type": "markdown",
   "id": "b18fa894",
   "metadata": {},
   "source": [
    "average_precision_score увеличился на 2%"
   ]
  },
  {
   "cell_type": "markdown",
   "id": "60df22b1",
   "metadata": {},
   "source": [
    "# Анализ полученных результатов"
   ]
  },
  {
   "cell_type": "code",
   "execution_count": 220,
   "id": "958eb77d",
   "metadata": {},
   "outputs": [],
   "source": [
    "test_pred = model.predict(X_test)"
   ]
  },
  {
   "cell_type": "code",
   "execution_count": 221,
   "id": "f378bdc7",
   "metadata": {},
   "outputs": [],
   "source": [
    "test_proba = model.predict_proba(X_test)"
   ]
  },
  {
   "cell_type": "code",
   "execution_count": 222,
   "id": "70419ea3",
   "metadata": {},
   "outputs": [],
   "source": [
    "\"\"\"\n",
    "Находим precision для каждого порога recall\n",
    "и сохраняем в словарь metrics_class_dict\n",
    "\"\"\"\n",
    "one_hot = MultiLabelBinarizer()\n",
    "One_Hot_labels = pd.DataFrame(one_hot.fit_transform(test_pred), columns = one_hot.classes_)\n",
    "#кодируем переменные по One_Hot_Encoding\n",
    "\n",
    "precision = dict()\n",
    "recall = dict()\n",
    "i = 0\n",
    "\n",
    "metrics_class_dict = {}\n",
    "for class_per in one_hot.classes_:\n",
    "    \n",
    "    class_test = np.array(One_Hot_labels[class_per])\n",
    "    \n",
    "    prob_array = np.array([])\n",
    "    for k in range(len(test_proba)):\n",
    "        prob_array = np.append(prob_array, test_proba[k][i])\n",
    "    \n",
    "    precision, recall, _ = precision_recall_curve(class_test, prob_array)\n",
    "    metrics_class_dict[class_per] = precision, recall\n",
    "    i += 1"
   ]
  },
  {
   "cell_type": "code",
   "execution_count": 223,
   "id": "4a9e7210",
   "metadata": {},
   "outputs": [],
   "source": [
    "\"\"\"\n",
    "обработаем полученный словарь metrics_class_dict\n",
    "создадим таблицу, где в колонках будут отображаться метрики precision и recall для каждого класса\n",
    "\"\"\"\n",
    "data_metrics = pd.DataFrame(columns=['name_class','precision', 'recall'])\n",
    "for key, value in metrics_class_dict.items():\n",
    "    precision = value[0]\n",
    "    recall = value[1]\n",
    "    df = pd.DataFrame({'name_class': key, 'precision' : precision, 'recall' : recall})\n",
    "    data_metrics = pd.concat([data_metrics,df])"
   ]
  },
  {
   "cell_type": "code",
   "execution_count": 224,
   "id": "10140c75",
   "metadata": {},
   "outputs": [
    {
     "data": {},
     "metadata": {},
     "output_type": "display_data"
    },
    {
     "data": {
      "application/vnd.holoviews_exec.v0+json": "",
      "text/html": [
       "<div id='4539'>\n",
       "\n",
       "\n",
       "\n",
       "\n",
       "\n",
       "  <div class=\"bk-root\" id=\"b7600ff2-8d1c-4766-8d31-610ae531fd3a\" data-root-id=\"4539\"></div>\n",
       "</div>\n",
       "<script type=\"application/javascript\">(function(root) {\n",
       "  function embed_document(root) {\n",
       "    var docs_json = {\"4a21836b-f5b2-4097-82fa-e2a1238defb2\":{\"defs\":[{\"extends\":null,\"module\":null,\"name\":\"ReactiveHTML1\",\"overrides\":[],\"properties\":[]},{\"extends\":null,\"module\":null,\"name\":\"FlexBox1\",\"overrides\":[],\"properties\":[{\"default\":\"flex-start\",\"kind\":null,\"name\":\"align_content\"},{\"default\":\"flex-start\",\"kind\":null,\"name\":\"align_items\"},{\"default\":\"row\",\"kind\":null,\"name\":\"flex_direction\"},{\"default\":\"wrap\",\"kind\":null,\"name\":\"flex_wrap\"},{\"default\":\"flex-start\",\"kind\":null,\"name\":\"justify_content\"}]},{\"extends\":null,\"module\":null,\"name\":\"GridStack1\",\"overrides\":[],\"properties\":[{\"default\":\"warn\",\"kind\":null,\"name\":\"mode\"},{\"default\":null,\"kind\":null,\"name\":\"ncols\"},{\"default\":null,\"kind\":null,\"name\":\"nrows\"},{\"default\":true,\"kind\":null,\"name\":\"allow_resize\"},{\"default\":true,\"kind\":null,\"name\":\"allow_drag\"},{\"default\":[],\"kind\":null,\"name\":\"state\"}]},{\"extends\":null,\"module\":null,\"name\":\"click1\",\"overrides\":[],\"properties\":[{\"default\":\"\",\"kind\":null,\"name\":\"terminal_output\"},{\"default\":\"\",\"kind\":null,\"name\":\"debug_name\"},{\"default\":0,\"kind\":null,\"name\":\"clears\"}]},{\"extends\":null,\"module\":null,\"name\":\"TemplateActions1\",\"overrides\":[],\"properties\":[{\"default\":0,\"kind\":null,\"name\":\"open_modal\"},{\"default\":0,\"kind\":null,\"name\":\"close_modal\"}]},{\"extends\":null,\"module\":null,\"name\":\"MaterialTemplateActions1\",\"overrides\":[],\"properties\":[{\"default\":0,\"kind\":null,\"name\":\"open_modal\"},{\"default\":0,\"kind\":null,\"name\":\"close_modal\"}]}],\"roots\":{\"references\":[{\"attributes\":{\"margin\":[5,5,5,5],\"name\":\"HSpacer10699\",\"sizing_mode\":\"stretch_width\"},\"id\":\"5516\",\"type\":\"Spacer\"},{\"attributes\":{\"coordinates\":null,\"data_source\":{\"id\":\"4716\"},\"glyph\":{\"id\":\"4719\"},\"group\":null,\"hover_glyph\":null,\"muted_glyph\":{\"id\":\"4721\"},\"nonselection_glyph\":{\"id\":\"4720\"},\"selection_glyph\":{\"id\":\"4745\"},\"view\":{\"id\":\"4723\"}},\"id\":\"4722\",\"type\":\"GlyphRenderer\"},{\"attributes\":{\"line_alpha\":0.2,\"line_color\":\"#d62728\",\"line_width\":2,\"x\":{\"field\":\"recall\"},\"y\":{\"field\":\"precision\"}},\"id\":\"4783\",\"type\":\"Line\"},{\"attributes\":{\"children\":[{\"id\":\"4540\"},{\"id\":\"4559\"},{\"id\":\"5516\"}],\"margin\":[0,0,0,0],\"name\":\"Row10694\",\"tags\":[\"embedded\"]},\"id\":\"4539\",\"type\":\"Row\"},{\"attributes\":{\"margin\":[5,5,5,5],\"name\":\"HSpacer10698\",\"sizing_mode\":\"stretch_width\"},\"id\":\"4540\",\"type\":\"Spacer\"},{\"attributes\":{\"line_alpha\":0.2,\"line_color\":\"#30a2da\",\"line_width\":2,\"x\":{\"field\":\"recall\"},\"y\":{\"field\":\"precision\"}},\"id\":\"4600\",\"type\":\"Line\"},{\"attributes\":{\"line_color\":\"#d62728\",\"line_width\":2,\"x\":{\"field\":\"recall\"},\"y\":{\"field\":\"precision\"}},\"id\":\"4781\",\"type\":\"Line\"},{\"attributes\":{\"line_alpha\":0.1,\"line_color\":\"#fc4f30\",\"line_width\":2,\"x\":{\"field\":\"recall\"},\"y\":{\"field\":\"precision\"}},\"id\":\"4620\",\"type\":\"Line\"},{\"attributes\":{},\"id\":\"4617\",\"type\":\"Selection\"},{\"attributes\":{},\"id\":\"4741\",\"type\":\"UnionRenderers\"},{\"attributes\":{\"source\":{\"id\":\"4778\"}},\"id\":\"4785\",\"type\":\"CDSView\"},{\"attributes\":{},\"id\":\"5101\",\"type\":\"UnionRenderers\"},{\"attributes\":{\"data\":{\"name_class\":[\"ESTP\",\"ESTP\",\"ESTP\",\"ESTP\",\"ESTP\",\"ESTP\",\"ESTP\",\"ESTP\",\"ESTP\",\"ESTP\",\"ESTP\",\"ESTP\",\"ESTP\",\"ESTP\",\"ESTP\",\"ESTP\",\"ESTP\",\"ESTP\",\"ESTP\",\"ESTP\",\"ESTP\",\"ESTP\",\"ESTP\",\"ESTP\",\"ESTP\",\"ESTP\",\"ESTP\",\"ESTP\",\"ESTP\",\"ESTP\",\"ESTP\",\"ESTP\",\"ESTP\",\"ESTP\",\"ESTP\",\"ESTP\",\"ESTP\",\"ESTP\",\"ESTP\",\"ESTP\",\"ESTP\",\"ESTP\",\"ESTP\",\"ESTP\",\"ESTP\",\"ESTP\",\"ESTP\",\"ESTP\",\"ESTP\",\"ESTP\",\"ESTP\",\"ESTP\",\"ESTP\",\"ESTP\",\"ESTP\",\"ESTP\",\"ESTP\",\"ESTP\",\"ESTP\",\"ESTP\",\"ESTP\",\"ESTP\",\"ESTP\",\"ESTP\",\"ESTP\",\"ESTP\",\"ESTP\",\"ESTP\",\"ESTP\",\"ESTP\",\"ESTP\",\"ESTP\",\"ESTP\",\"ESTP\",\"ESTP\",\"ESTP\",\"ESTP\",\"ESTP\",\"ESTP\",\"ESTP\",\"ESTP\",\"ESTP\",\"ESTP\",\"ESTP\",\"ESTP\",\"ESTP\",\"ESTP\",\"ESTP\",\"ESTP\",\"ESTP\",\"ESTP\",\"ESTP\",\"ESTP\",\"ESTP\",\"ESTP\",\"ESTP\",\"ESTP\",\"ESTP\",\"ESTP\",\"ESTP\",\"ESTP\",\"ESTP\",\"ESTP\",\"ESTP\",\"ESTP\",\"ESTP\",\"ESTP\",\"ESTP\",\"ESTP\",\"ESTP\",\"ESTP\",\"ESTP\",\"ESTP\",\"ESTP\",\"ESTP\",\"ESTP\",\"ESTP\",\"ESTP\",\"ESTP\",\"ESTP\",\"ESTP\",\"ESTP\",\"ESTP\",\"ESTP\",\"ESTP\",\"ESTP\",\"ESTP\",\"ESTP\",\"ESTP\",\"ESTP\",\"ESTP\",\"ESTP\",\"ESTP\",\"ESTP\",\"ESTP\",\"ESTP\",\"ESTP\",\"ESTP\",\"ESTP\",\"ESTP\",\"ESTP\",\"ESTP\",\"ESTP\",\"ESTP\",\"ESTP\",\"ESTP\",\"ESTP\",\"ESTP\",\"ESTP\",\"ESTP\",\"ESTP\",\"ESTP\",\"ESTP\",\"ESTP\",\"ESTP\",\"ESTP\",\"ESTP\",\"ESTP\",\"ESTP\",\"ESTP\",\"ESTP\",\"ESTP\",\"ESTP\",\"ESTP\",\"ESTP\",\"ESTP\",\"ESTP\",\"ESTP\",\"ESTP\",\"ESTP\",\"ESTP\",\"ESTP\",\"ESTP\",\"ESTP\",\"ESTP\",\"ESTP\",\"ESTP\",\"ESTP\",\"ESTP\",\"ESTP\",\"ESTP\",\"ESTP\",\"ESTP\",\"ESTP\",\"ESTP\",\"ESTP\",\"ESTP\",\"ESTP\",\"ESTP\",\"ESTP\",\"ESTP\",\"ESTP\",\"ESTP\",\"ESTP\",\"ESTP\",\"ESTP\",\"ESTP\",\"ESTP\",\"ESTP\",\"ESTP\",\"ESTP\",\"ESTP\",\"ESTP\",\"ESTP\",\"ESTP\",\"ESTP\",\"ESTP\",\"ESTP\"],\"precision\":{\"__ndarray__\":\"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\",\"dtype\":\"float64\",\"order\":\"little\",\"shape\":[208]},\"recall\":{\"__ndarray__\":\"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\",\"dtype\":\"float64\",\"order\":\"little\",\"shape\":[208]}},\"selected\":{\"id\":\"4779\"},\"selection_policy\":{\"id\":\"4807\"}},\"id\":\"4778\",\"type\":\"ColumnDataSource\"},{\"attributes\":{\"line_color\":\"#fc4f30\",\"line_width\":2,\"x\":{\"field\":\"recall\"},\"y\":{\"field\":\"precision\"}},\"id\":\"4619\",\"type\":\"Line\"},{\"attributes\":{\"line_alpha\":0.1,\"line_color\":\"#e377c2\",\"line_width\":2,\"x\":{\"field\":\"recall\"},\"y\":{\"field\":\"precision\"}},\"id\":\"4852\",\"type\":\"Line\"},{\"attributes\":{\"line_alpha\":0.2,\"line_color\":\"#8c564b\",\"line_width\":2,\"x\":{\"field\":\"recall\"},\"y\":{\"field\":\"precision\"}},\"id\":\"4891\",\"type\":\"Line\"},{\"attributes\":{\"coordinates\":null,\"data_source\":{\"id\":\"4778\"},\"glyph\":{\"id\":\"4781\"},\"group\":null,\"hover_glyph\":null,\"muted_glyph\":{\"id\":\"4783\"},\"nonselection_glyph\":{\"id\":\"4782\"},\"selection_glyph\":{\"id\":\"4811\"},\"view\":{\"id\":\"4785\"}},\"id\":\"4784\",\"type\":\"GlyphRenderer\"},{\"attributes\":{\"data\":{\"name_class\":[\"INFJ\",\"INFJ\",\"INFJ\",\"INFJ\",\"INFJ\",\"INFJ\",\"INFJ\",\"INFJ\",\"INFJ\",\"INFJ\",\"INFJ\",\"INFJ\",\"INFJ\",\"INFJ\",\"INFJ\",\"INFJ\",\"INFJ\",\"INFJ\",\"INFJ\",\"INFJ\",\"INFJ\",\"INFJ\",\"INFJ\",\"INFJ\",\"INFJ\",\"INFJ\",\"INFJ\",\"INFJ\",\"INFJ\",\"INFJ\",\"INFJ\",\"INFJ\",\"INFJ\",\"INFJ\",\"INFJ\",\"INFJ\",\"INFJ\",\"INFJ\",\"INFJ\",\"INFJ\",\"INFJ\",\"INFJ\",\"INFJ\",\"INFJ\",\"INFJ\",\"INFJ\",\"INFJ\",\"INFJ\",\"INFJ\",\"INFJ\",\"INFJ\",\"INFJ\",\"INFJ\",\"INFJ\",\"INFJ\",\"INFJ\",\"INFJ\",\"INFJ\",\"INFJ\",\"INFJ\",\"INFJ\",\"INFJ\",\"INFJ\",\"INFJ\",\"INFJ\",\"INFJ\",\"INFJ\",\"INFJ\",\"INFJ\",\"INFJ\",\"INFJ\",\"INFJ\",\"INFJ\",\"INFJ\"],\"precision\":{\"__ndarray__\":\"HMdxHMdx7D8cx3Ecx3HsP3zFV3zFV+w/fMVXfMVX7D88PDw8PDzsPzw8PDw8POw/F1100UUX7T8XXXTRRRftPwAAAAAAAO4/AAAAAAAA7j/43nvvvffuP/jee++99+4/AAAAAAAA8D8AAAAAAADwPwAAAAAAAPA/AAAAAAAA8D8AAAAAAADwPwAAAAAAAPA/AAAAAAAA8D8AAAAAAADwPwAAAAAAAPA/AAAAAAAA8D8AAAAAAADwPwAAAAAAAPA/AAAAAAAA8D8AAAAAAADwPwAAAAAAAPA/AAAAAAAA8D8AAAAAAADwPwAAAAAAAPA/AAAAAAAA8D8AAAAAAADwPwAAAAAAAPA/AAAAAAAA8D8AAAAAAADwPwAAAAAAAPA/AAAAAAAA8D8AAAAAAADwPwAAAAAAAPA/AAAAAAAA8D8AAAAAAADwPwAAAAAAAPA/AAAAAAAA8D8AAAAAAADwPwAAAAAAAPA/AAAAAAAA8D8AAAAAAADwPwAAAAAAAPA/AAAAAAAA8D8AAAAAAADwPwAAAAAAAPA/AAAAAAAA8D8AAAAAAADwPwAAAAAAAPA/AAAAAAAA8D8AAAAAAADwPwAAAAAAAPA/AAAAAAAA8D8AAAAAAADwPwAAAAAAAPA/AAAAAAAA8D8AAAAAAADwPwAAAAAAAPA/AAAAAAAA8D8AAAAAAADwPwAAAAAAAPA/AAAAAAAA8D8AAAAAAADwPwAAAAAAAPA/AAAAAAAA8D8AAAAAAADwPwAAAAAAAPA/AAAAAAAA8D8AAAAAAADwPw==\",\"dtype\":\"float64\",\"order\":\"little\",\"shape\":[74]},\"recall\":{\"__ndarray__\":\"AAAAAAAA8D8AAAAAAIDvPwAAAAAAgO8/AAAAAACA7j8AAAAAAIDuPwAAAAAAAO4/AAAAAAAA7j8AAAAAAADuPwAAAAAAAO4/AAAAAAAA7j8AAAAAAADuPwAAAAAAAO4/AAAAAAAA7j8AAAAAAIDtPwAAAAAAgO0/AAAAAACA7D8AAAAAAIDsPwAAAAAAgOs/AAAAAACA6z8AAAAAAIDqPwAAAAAAgOo/AAAAAACA6T8AAAAAAIDpPwAAAAAAgOg/AAAAAACA6D8AAAAAAIDnPwAAAAAAgOc/AAAAAACA5j8AAAAAAIDmPwAAAAAAgOU/AAAAAACA5T8AAAAAAIDkPwAAAAAAgOQ/AAAAAACA4z8AAAAAAIDjPwAAAAAAgOI/AAAAAACA4j8AAAAAAIDhPwAAAAAAgOE/AAAAAACA4D8AAAAAAIDgPwAAAAAAAN8/AAAAAAAA3z8AAAAAAADdPwAAAAAAAN0/AAAAAAAA2z8AAAAAAADbPwAAAAAAANk/AAAAAAAA2T8AAAAAAADXPwAAAAAAANc/AAAAAAAA1T8AAAAAAADVPwAAAAAAANM/AAAAAAAA0z8AAAAAAADRPwAAAAAAANE/AAAAAAAAzj8AAAAAAADOPwAAAAAAAMo/AAAAAAAAyj8AAAAAAADGPwAAAAAAAMY/AAAAAAAAwj8AAAAAAADCPwAAAAAAALw/AAAAAAAAvD8AAAAAAAC0PwAAAAAAALQ/AAAAAAAAqD8AAAAAAACoPwAAAAAAAJA/AAAAAAAAkD8AAAAAAAAAAA==\",\"dtype\":\"float64\",\"order\":\"little\",\"shape\":[74]}},\"selected\":{\"id\":\"4813\"},\"selection_policy\":{\"id\":\"4843\"}},\"id\":\"4812\",\"type\":\"ColumnDataSource\"},{\"attributes\":{\"coordinates\":null,\"data_source\":{\"id\":\"4886\"},\"glyph\":{\"id\":\"4889\"},\"group\":null,\"hover_glyph\":null,\"muted_glyph\":{\"id\":\"4891\"},\"nonselection_glyph\":{\"id\":\"4890\"},\"selection_glyph\":{\"id\":\"4925\"},\"view\":{\"id\":\"4893\"}},\"id\":\"4892\",\"type\":\"GlyphRenderer\"},{\"attributes\":{\"source\":{\"id\":\"4716\"}},\"id\":\"4723\",\"type\":\"CDSView\"},{\"attributes\":{\"label\":{\"value\":\"ISTJ\"},\"renderers\":[{\"id\":\"5064\"}]},\"id\":\"5104\",\"type\":\"LegendItem\"},{\"attributes\":{\"label\":{\"value\":\"INFP\"},\"renderers\":[{\"id\":\"4854\"}]},\"id\":\"4884\",\"type\":\"LegendItem\"},{\"attributes\":{\"source\":{\"id\":\"4968\"}},\"id\":\"4975\",\"type\":\"CDSView\"},{\"attributes\":{\"line_alpha\":0.2,\"line_color\":\"#30a2da\",\"line_width\":2,\"x\":{\"field\":\"recall\"},\"y\":{\"field\":\"precision\"}},\"id\":\"4973\",\"type\":\"Line\"},{\"attributes\":{},\"id\":\"4683\",\"type\":\"UnionRenderers\"},{\"attributes\":{},\"id\":\"5007\",\"type\":\"UnionRenderers\"},{\"attributes\":{\"coordinates\":null,\"data_source\":{\"id\":\"4968\"},\"glyph\":{\"id\":\"4971\"},\"group\":null,\"hover_glyph\":null,\"muted_glyph\":{\"id\":\"4973\"},\"nonselection_glyph\":{\"id\":\"4972\"},\"selection_glyph\":{\"id\":\"5011\"},\"view\":{\"id\":\"4975\"}},\"id\":\"4974\",\"type\":\"GlyphRenderer\"},{\"attributes\":{},\"id\":\"4564\",\"type\":\"LinearScale\"},{\"attributes\":{\"data\":{\"name_class\":[\"ISTP\",\"ISTP\",\"ISTP\",\"ISTP\",\"ISTP\",\"ISTP\",\"ISTP\",\"ISTP\",\"ISTP\",\"ISTP\",\"ISTP\",\"ISTP\",\"ISTP\",\"ISTP\",\"ISTP\",\"ISTP\",\"ISTP\",\"ISTP\",\"ISTP\",\"ISTP\",\"ISTP\",\"ISTP\",\"ISTP\",\"ISTP\",\"ISTP\",\"ISTP\",\"ISTP\",\"ISTP\",\"ISTP\",\"ISTP\",\"ISTP\",\"ISTP\",\"ISTP\",\"ISTP\",\"ISTP\",\"ISTP\",\"ISTP\",\"ISTP\",\"ISTP\",\"ISTP\",\"ISTP\",\"ISTP\",\"ISTP\",\"ISTP\",\"ISTP\",\"ISTP\",\"ISTP\",\"ISTP\",\"ISTP\",\"ISTP\",\"ISTP\",\"ISTP\",\"ISTP\",\"ISTP\",\"ISTP\",\"ISTP\",\"ISTP\",\"ISTP\",\"ISTP\",\"ISTP\",\"ISTP\",\"ISTP\",\"ISTP\",\"ISTP\",\"ISTP\",\"ISTP\",\"ISTP\",\"ISTP\",\"ISTP\",\"ISTP\",\"ISTP\",\"ISTP\",\"ISTP\",\"ISTP\",\"ISTP\",\"ISTP\",\"ISTP\",\"ISTP\",\"ISTP\",\"ISTP\",\"ISTP\",\"ISTP\",\"ISTP\",\"ISTP\",\"ISTP\",\"ISTP\",\"ISTP\",\"ISTP\",\"ISTP\",\"ISTP\",\"ISTP\",\"ISTP\",\"ISTP\",\"ISTP\",\"ISTP\",\"ISTP\",\"ISTP\",\"ISTP\",\"ISTP\",\"ISTP\",\"ISTP\",\"ISTP\",\"ISTP\",\"ISTP\",\"ISTP\",\"ISTP\",\"ISTP\",\"ISTP\",\"ISTP\",\"ISTP\",\"ISTP\",\"ISTP\",\"ISTP\",\"ISTP\",\"ISTP\",\"ISTP\",\"ISTP\",\"ISTP\",\"ISTP\",\"ISTP\",\"ISTP\",\"ISTP\",\"ISTP\",\"ISTP\",\"ISTP\",\"ISTP\",\"ISTP\",\"ISTP\",\"ISTP\",\"ISTP\",\"ISTP\",\"ISTP\",\"ISTP\",\"ISTP\",\"ISTP\",\"ISTP\"],\"precision\":{\"__ndarray__\":\"zm7hV2Mi7T/ObuFXYyLtPxdddNFFF+0/F1100UUX7T+e2Imd2IntP57YiZ3Yie0/AAAAAAAA7j8AAAAAAADuP57neZ7nee4/nud5nud57j/43nvvvffuP/jee++99+4/LhmCdbR57z8uGYJ1tHnvP3d3d3d3d+8/d3d3d3d37z8AAAAAAADwPwAAAAAAAPA/AAAAAAAA8D8AAAAAAADwPwAAAAAAAPA/AAAAAAAA8D8AAAAAAADwPwAAAAAAAPA/AAAAAAAA8D8AAAAAAADwPwAAAAAAAPA/AAAAAAAA8D8AAAAAAADwPwAAAAAAAPA/AAAAAAAA8D8AAAAAAADwPwAAAAAAAPA/AAAAAAAA8D8AAAAAAADwPwAAAAAAAPA/AAAAAAAA8D8AAAAAAADwPwAAAAAAAPA/AAAAAAAA8D8AAAAAAADwPwAAAAAAAPA/AAAAAAAA8D8AAAAAAADwPwAAAAAAAPA/AAAAAAAA8D8AAAAAAADwPwAAAAAAAPA/AAAAAAAA8D8AAAAAAADwPwAAAAAAAPA/AAAAAAAA8D8AAAAAAADwPwAAAAAAAPA/AAAAAAAA8D8AAAAAAADwPwAAAAAAAPA/AAAAAAAA8D8AAAAAAADwPwAAAAAAAPA/AAAAAAAA8D8AAAAAAADwPwAAAAAAAPA/AAAAAAAA8D8AAAAAAADwPwAAAAAAAPA/AAAAAAAA8D8AAAAAAADwPwAAAAAAAPA/AAAAAAAA8D8AAAAAAADwPwAAAAAAAPA/AAAAAAAA8D8AAAAAAADwPwAAAAAAAPA/AAAAAAAA8D8AAAAAAADwPwAAAAAAAPA/AAAAAAAA8D8AAAAAAADwPwAAAAAAAPA/AAAAAAAA8D8AAAAAAADwPwAAAAAAAPA/AAAAAAAA8D8AAAAAAADwPwAAAAAAAPA/AAAAAAAA8D8AAAAAAADwPwAAAAAAAPA/AAAAAAAA8D8AAAAAAADwPwAAAAAAAPA/AAAAAAAA8D8AAAAAAADwPwAAAAAAAPA/AAAAAAAA8D8AAAAAAADwPwAAAAAAAPA/AAAAAAAA8D8AAAAAAADwPwAAAAAAAPA/AAAAAAAA8D8AAAAAAADwPwAAAAAAAPA/AAAAAAAA8D8AAAAAAADwPwAAAAAAAPA/AAAAAAAA8D8AAAAAAADwPwAAAAAAAPA/AAAAAAAA8D8AAAAAAADwPwAAAAAAAPA/AAAAAAAA8D8AAAAAAADwPwAAAAAAAPA/AAAAAAAA8D8AAAAAAADwPwAAAAAAAPA/AAAAAAAA8D8AAAAAAADwPwAAAAAAAPA/AAAAAAAA8D8AAAAAAADwPwAAAAAAAPA/AAAAAAAA8D8AAAAAAADwPwAAAAAAAPA/AAAAAAAA8D8AAAAAAADwPwAAAAAAAPA/AAAAAAAA8D8AAAAAAADwPwAAAAAAAPA/AAAAAAAA8D8=\",\"dtype\":\"float64\",\"order\":\"little\",\"shape\":[136]},\"recall\":{\"__ndarray__\":\"AAAAAAAA8D+XDME62rzvP5cMwTravO8/LhmCdbR57z8uGYJ1tHnvPy4ZgnW0ee8/LhmCdbR57z8uGYJ1tHnvPy4ZgnW0ee8/LhmCdbR57z8uGYJ1tHnvPy4ZgnW0ee8/LhmCdbR57z/FJUOwjjbvP8UlQ7CONu8/XDIE62jz7j9cMgTraPPuP/M+xSVDsO4/8z7FJUOw7j8iWEeb9ynuPyJYR5v3Ke4/UHHJEKyj7T9QcckQrKPtP36KS4ZgHe0/fopLhmAd7T+so837FJfsP6yjzfsUl+w/2rxPcckQ7D/avE9xyRDsPwjW0eZ9ius/CNbR5n2K6z8271NcMgTrPzbvU1wyBOs/ZQjW0eZ96j9lCNbR5n3qP5MhWEeb9+k/kyFYR5v36T/BOtq8T3HpP8E62rxPcek/71NcMgTr6D/vU1wyBOvoPx1t3qe4ZOg/HW3ep7hk6D9MhmAdbd7nP0yGYB1t3uc/ep/ikiFY5z96n+KSIVjnP6i4ZAjW0eY/qLhkCNbR5j/W0eZ9ikvmP9bR5n2KS+Y/BOto8z7F5T8E62jzPsXlPzIE62jzPuU/MgTraPM+5T9gHW3ep7jkP2Adbd6nuOQ/jzbvU1wy5D+PNu9TXDLkP71PcckQrOM/vU9xyRCs4z/raPM+xSXjP+to8z7FJeM/GYJ1tHmf4j8ZgnW0eZ/iP0eb9ykuGeI/R5v3KS4Z4j92tHmf4pLhP3a0eZ/ikuE/pM37FJcM4T+kzfsUlwzhP9LmfYpLhuA/0uZ9ikuG4D8AAAAAAADgPwAAAAAAAOA/XDIE62jz3j9cMgTraPPeP7hkCNbR5t0/uGQI1tHm3T8VlwzBOtrcPxWXDME62tw/cckQrKPN2z9xyRCso83bP877FJcMwdo/zvsUlwzB2j8qLhmCdbTZPyouGYJ1tNk/hmAdbd6n2D+GYB1t3qfYP+KSIVhHm9c/4pIhWEeb1z8/xSVDsI7WPz/FJUOwjtY/m/cpLhmC1T+b9ykuGYLVP/gpLhmCddQ/+CkuGYJ11D9UXDIE62jTP1RcMgTraNM/sI4271Nc0j+wjjbvU1zSPwzBOtq8T9E/DME62rxP0T9p8z7FJUPQP2nzPsUlQ9A/ikuGYB1tzj+KS4ZgHW3OP0OwjjbvU8w/Q7CONu9TzD/8FJcMwTrKP/wUlwzBOso/tHmf4pIhyD+0eZ/ikiHIP23ep7hkCMY/bd6nuGQIxj8mQ7CONu/DPyZDsI4278M/3qe4ZAjWwT/ep7hkCNbBPy4ZgnW0eb8/LhmCdbR5vz+g4pIhWEe7P6DikiFYR7s/EKyjzfsUtz8QrKPN+xS3P4J1tHmf4rI/gnW0eZ/isj/nfYpLhmCtP+d9ikuGYK0/yhCso837pD/KEKyjzfukP1hHm/cpLpk/WEeb9ykumT872rxPccmAPzvavE9xyYA/AAAAAAAAAAA=\",\"dtype\":\"float64\",\"order\":\"little\",\"shape\":[136]}},\"selected\":{\"id\":\"5107\"},\"selection_policy\":{\"id\":\"5151\"}},\"id\":\"5106\",\"type\":\"ColumnDataSource\"},{\"attributes\":{\"source\":{\"id\":\"4848\"}},\"id\":\"4855\",\"type\":\"CDSView\"},{\"attributes\":{},\"id\":\"4807\",\"type\":\"UnionRenderers\"},{\"attributes\":{},\"id\":\"4881\",\"type\":\"UnionRenderers\"},{\"attributes\":{\"label\":{\"value\":\"ISFJ\"},\"renderers\":[{\"id\":\"4974\"}]},\"id\":\"5010\",\"type\":\"LegendItem\"},{\"attributes\":{\"line_color\":\"#d62728\",\"line_width\":2,\"x\":{\"field\":\"recall\"},\"y\":{\"field\":\"precision\"}},\"id\":\"4811\",\"type\":\"Line\"},{\"attributes\":{\"label\":{\"value\":\"INTJ\"},\"renderers\":[{\"id\":\"4892\"}]},\"id\":\"4924\",\"type\":\"LegendItem\"},{\"attributes\":{\"label\":{\"value\":\"ENFP\"},\"renderers\":[{\"id\":\"4622\"}]},\"id\":\"4636\",\"type\":\"LegendItem\"},{\"attributes\":{\"coordinates\":null,\"data_source\":{\"id\":\"4746\"},\"glyph\":{\"id\":\"4749\"},\"group\":null,\"hover_glyph\":null,\"muted_glyph\":{\"id\":\"4751\"},\"nonselection_glyph\":{\"id\":\"4750\"},\"selection_glyph\":{\"id\":\"4777\"},\"view\":{\"id\":\"4753\"}},\"id\":\"4752\",\"type\":\"GlyphRenderer\"},{\"attributes\":{\"source\":{\"id\":\"4595\"}},\"id\":\"4602\",\"type\":\"CDSView\"},{\"attributes\":{\"source\":{\"id\":\"4616\"}},\"id\":\"4623\",\"type\":\"CDSView\"},{\"attributes\":{\"line_color\":\"#9467bd\",\"line_width\":2,\"x\":{\"field\":\"recall\"},\"y\":{\"field\":\"precision\"}},\"id\":\"4777\",\"type\":\"Line\"},{\"attributes\":{\"line_alpha\":0.2,\"line_color\":\"#9467bd\",\"line_width\":2,\"x\":{\"field\":\"recall\"},\"y\":{\"field\":\"precision\"}},\"id\":\"4751\",\"type\":\"Line\"},{\"attributes\":{\"coordinates\":null,\"data_source\":{\"id\":\"4595\"},\"glyph\":{\"id\":\"4598\"},\"group\":null,\"hover_glyph\":null,\"muted_glyph\":{\"id\":\"4600\"},\"nonselection_glyph\":{\"id\":\"4599\"},\"selection_glyph\":{\"id\":\"4615\"},\"view\":{\"id\":\"4602\"}},\"id\":\"4601\",\"type\":\"GlyphRenderer\"},{\"attributes\":{\"source\":{\"id\":\"4746\"}},\"id\":\"4753\",\"type\":\"CDSView\"},{\"attributes\":{\"line_color\":\"#e377c2\",\"line_width\":2,\"x\":{\"field\":\"recall\"},\"y\":{\"field\":\"precision\"}},\"id\":\"4851\",\"type\":\"Line\"},{\"attributes\":{\"line_alpha\":0.2,\"line_color\":\"#fc4f30\",\"line_width\":2,\"x\":{\"field\":\"recall\"},\"y\":{\"field\":\"precision\"}},\"id\":\"4621\",\"type\":\"Line\"},{\"attributes\":{\"label\":{\"value\":\"ESTP\"},\"renderers\":[{\"id\":\"4784\"}]},\"id\":\"4810\",\"type\":\"LegendItem\"},{\"attributes\":{},\"id\":\"4747\",\"type\":\"Selection\"},{\"attributes\":{\"coordinates\":null,\"data_source\":{\"id\":\"4848\"},\"glyph\":{\"id\":\"4851\"},\"group\":null,\"hover_glyph\":null,\"muted_glyph\":{\"id\":\"4853\"},\"nonselection_glyph\":{\"id\":\"4852\"},\"selection_glyph\":{\"id\":\"4885\"},\"view\":{\"id\":\"4855\"}},\"id\":\"4854\",\"type\":\"GlyphRenderer\"},{\"attributes\":{\"line_alpha\":0.1,\"line_color\":\"#8c564b\",\"line_width\":2,\"x\":{\"field\":\"recall\"},\"y\":{\"field\":\"precision\"}},\"id\":\"4890\",\"type\":\"Line\"},{\"attributes\":{},\"id\":\"4633\",\"type\":\"UnionRenderers\"},{\"attributes\":{\"line_alpha\":0.1,\"line_color\":\"#9467bd\",\"line_width\":2,\"x\":{\"field\":\"recall\"},\"y\":{\"field\":\"precision\"}},\"id\":\"4750\",\"type\":\"Line\"},{\"attributes\":{\"source\":{\"id\":\"4886\"}},\"id\":\"4893\",\"type\":\"CDSView\"},{\"attributes\":{\"line_color\":\"#17becf\",\"line_width\":2,\"x\":{\"field\":\"recall\"},\"y\":{\"field\":\"precision\"}},\"id\":\"4745\",\"type\":\"Line\"},{\"attributes\":{},\"id\":\"4610\",\"type\":\"UnionRenderers\"},{\"attributes\":{\"line_alpha\":0.2,\"line_color\":\"#e377c2\",\"line_width\":2,\"x\":{\"field\":\"recall\"},\"y\":{\"field\":\"precision\"}},\"id\":\"4853\",\"type\":\"Line\"},{\"attributes\":{\"label\":{\"value\":\"ENFJ\"},\"renderers\":[{\"id\":\"4601\"}]},\"id\":\"4614\",\"type\":\"LegendItem\"},{\"attributes\":{},\"id\":\"4887\",\"type\":\"Selection\"},{\"attributes\":{\"label\":{\"value\":\"ESFP\"},\"renderers\":[{\"id\":\"4722\"}]},\"id\":\"4744\",\"type\":\"LegendItem\"},{\"attributes\":{\"line_color\":\"#e377c2\",\"line_width\":2,\"x\":{\"field\":\"recall\"},\"y\":{\"field\":\"precision\"}},\"id\":\"4885\",\"type\":\"Line\"},{\"attributes\":{\"data\":{\"name_class\":[\"ESTJ\",\"ESTJ\",\"ESTJ\",\"ESTJ\",\"ESTJ\",\"ESTJ\",\"ESTJ\",\"ESTJ\",\"ESTJ\",\"ESTJ\",\"ESTJ\",\"ESTJ\",\"ESTJ\",\"ESTJ\",\"ESTJ\",\"ESTJ\",\"ESTJ\",\"ESTJ\",\"ESTJ\",\"ESTJ\",\"ESTJ\",\"ESTJ\",\"ESTJ\",\"ESTJ\",\"ESTJ\",\"ESTJ\",\"ESTJ\",\"ESTJ\",\"ESTJ\",\"ESTJ\",\"ESTJ\",\"ESTJ\",\"ESTJ\",\"ESTJ\",\"ESTJ\",\"ESTJ\",\"ESTJ\",\"ESTJ\",\"ESTJ\",\"ESTJ\",\"ESTJ\",\"ESTJ\",\"ESTJ\",\"ESTJ\",\"ESTJ\",\"ESTJ\",\"ESTJ\",\"ESTJ\",\"ESTJ\",\"ESTJ\",\"ESTJ\",\"ESTJ\",\"ESTJ\",\"ESTJ\",\"ESTJ\",\"ESTJ\",\"ESTJ\",\"ESTJ\",\"ESTJ\",\"ESTJ\",\"ESTJ\",\"ESTJ\",\"ESTJ\",\"ESTJ\",\"ESTJ\",\"ESTJ\",\"ESTJ\",\"ESTJ\",\"ESTJ\",\"ESTJ\",\"ESTJ\",\"ESTJ\",\"ESTJ\",\"ESTJ\",\"ESTJ\",\"ESTJ\",\"ESTJ\",\"ESTJ\",\"ESTJ\",\"ESTJ\",\"ESTJ\",\"ESTJ\",\"ESTJ\",\"ESTJ\",\"ESTJ\",\"ESTJ\",\"ESTJ\",\"ESTJ\",\"ESTJ\",\"ESTJ\",\"ESTJ\",\"ESTJ\",\"ESTJ\",\"ESTJ\",\"ESTJ\",\"ESTJ\",\"ESTJ\",\"ESTJ\",\"ESTJ\",\"ESTJ\",\"ESTJ\",\"ESTJ\",\"ESTJ\",\"ESTJ\",\"ESTJ\",\"ESTJ\",\"ESTJ\",\"ESTJ\",\"ESTJ\",\"ESTJ\",\"ESTJ\",\"ESTJ\",\"ESTJ\",\"ESTJ\",\"ESTJ\",\"ESTJ\",\"ESTJ\",\"ESTJ\",\"ESTJ\",\"ESTJ\",\"ESTJ\",\"ESTJ\",\"ESTJ\",\"ESTJ\",\"ESTJ\",\"ESTJ\",\"ESTJ\",\"ESTJ\",\"ESTJ\",\"ESTJ\",\"ESTJ\",\"ESTJ\",\"ESTJ\",\"ESTJ\",\"ESTJ\",\"ESTJ\",\"ESTJ\",\"ESTJ\",\"ESTJ\",\"ESTJ\",\"ESTJ\",\"ESTJ\",\"ESTJ\",\"ESTJ\",\"ESTJ\",\"ESTJ\",\"ESTJ\",\"ESTJ\",\"ESTJ\",\"ESTJ\",\"ESTJ\",\"ESTJ\",\"ESTJ\",\"ESTJ\",\"ESTJ\",\"ESTJ\",\"ESTJ\",\"ESTJ\",\"ESTJ\",\"ESTJ\",\"ESTJ\",\"ESTJ\",\"ESTJ\",\"ESTJ\",\"ESTJ\",\"ESTJ\",\"ESTJ\",\"ESTJ\",\"ESTJ\",\"ESTJ\",\"ESTJ\",\"ESTJ\",\"ESTJ\",\"ESTJ\",\"ESTJ\",\"ESTJ\",\"ESTJ\",\"ESTJ\",\"ESTJ\",\"ESTJ\",\"ESTJ\",\"ESTJ\",\"ESTJ\",\"ESTJ\",\"ESTJ\",\"ESTJ\",\"ESTJ\",\"ESTJ\",\"ESTJ\",\"ESTJ\",\"ESTJ\",\"ESTJ\",\"ESTJ\",\"ESTJ\",\"ESTJ\",\"ESTJ\",\"ESTJ\",\"ESTJ\",\"ESTJ\",\"ESTJ\",\"ESTJ\",\"ESTJ\",\"ESTJ\",\"ESTJ\",\"ESTJ\",\"ESTJ\",\"ESTJ\",\"ESTJ\",\"ESTJ\",\"ESTJ\",\"ESTJ\",\"ESTJ\",\"ESTJ\",\"ESTJ\",\"ESTJ\",\"ESTJ\",\"ESTJ\",\"ESTJ\",\"ESTJ\",\"ESTJ\",\"ESTJ\",\"ESTJ\",\"ESTJ\",\"ESTJ\",\"ESTJ\",\"ESTJ\",\"ESTJ\",\"ESTJ\",\"ESTJ\",\"ESTJ\",\"ESTJ\",\"ESTJ\",\"ESTJ\",\"ESTJ\",\"ESTJ\",\"ESTJ\",\"ESTJ\",\"ESTJ\",\"ESTJ\",\"ESTJ\",\"ESTJ\",\"ESTJ\",\"ESTJ\",\"ESTJ\",\"ESTJ\",\"ESTJ\",\"ESTJ\",\"ESTJ\",\"ESTJ\",\"ESTJ\",\"ESTJ\",\"ESTJ\",\"ESTJ\",\"ESTJ\",\"ESTJ\",\"ESTJ\",\"ESTJ\",\"ESTJ\",\"ESTJ\",\"ESTJ\",\"ESTJ\",\"ESTJ\",\"ESTJ\",\"ESTJ\",\"ESTJ\",\"ESTJ\",\"ESTJ\",\"ESTJ\",\"ESTJ\",\"ESTJ\",\"ESTJ\",\"ESTJ\",\"ESTJ\",\"ESTJ\",\"ESTJ\",\"ESTJ\",\"ESTJ\",\"ESTJ\",\"ESTJ\",\"ESTJ\",\"ESTJ\",\"ESTJ\",\"ESTJ\",\"ESTJ\",\"ESTJ\",\"ESTJ\",\"ESTJ\",\"ESTJ\",\"ESTJ\",\"ESTJ\",\"ESTJ\",\"ESTJ\",\"ESTJ\",\"ESTJ\",\"ESTJ\",\"ESTJ\",\"ESTJ\",\"ESTJ\",\"ESTJ\",\"ESTJ\",\"ESTJ\",\"ESTJ\",\"ESTJ\",\"ESTJ\",\"ESTJ\",\"ESTJ\",\"ESTJ\",\"ESTJ\",\"ESTJ\",\"ESTJ\",\"ESTJ\",\"ESTJ\",\"ESTJ\",\"ESTJ\",\"ESTJ\",\"ESTJ\",\"ESTJ\",\"ESTJ\",\"ESTJ\",\"ESTJ\",\"ESTJ\",\"ESTJ\",\"ESTJ\",\"ESTJ\",\"ESTJ\",\"ESTJ\",\"ESTJ\",\"ESTJ\",\"ESTJ\",\"ESTJ\",\"ESTJ\",\"ESTJ\",\"ESTJ\",\"ESTJ\",\"ESTJ\",\"ESTJ\",\"ESTJ\",\"ESTJ\",\"ESTJ\",\"ESTJ\",\"ESTJ\",\"ESTJ\",\"ESTJ\",\"ESTJ\",\"ESTJ\",\"ESTJ\",\"ESTJ\",\"ESTJ\",\"ESTJ\",\"ESTJ\",\"ESTJ\",\"ESTJ\",\"ESTJ\",\"ESTJ\",\"ESTJ\",\"ESTJ\",\"ESTJ\",\"ESTJ\",\"ESTJ\",\"ESTJ\",\"ESTJ\",\"ESTJ\",\"ESTJ\",\"ESTJ\",\"ESTJ\",\"ESTJ\",\"ESTJ\",\"ESTJ\",\"ESTJ\",\"ESTJ\",\"ESTJ\",\"ESTJ\",\"ESTJ\",\"ESTJ\",\"ESTJ\",\"ESTJ\",\"ESTJ\",\"ESTJ\",\"ESTJ\",\"ESTJ\",\"ESTJ\",\"ESTJ\",\"ESTJ\",\"ESTJ\",\"ESTJ\",\"ESTJ\",\"ESTJ\",\"ESTJ\",\"ESTJ\",\"ESTJ\",\"ESTJ\",\"ESTJ\",\"ESTJ\",\"ESTJ\",\"ESTJ\",\"ESTJ\",\"ESTJ\",\"ESTJ\",\"ESTJ\",\"ESTJ\",\"ESTJ\",\"ESTJ\",\"ESTJ\",\"ESTJ\",\"ESTJ\",\"ESTJ\",\"ESTJ\",\"ESTJ\",\"ESTJ\",\"ESTJ\",\"ESTJ\",\"ESTJ\",\"ESTJ\",\"ESTJ\",\"ESTJ\",\"ESTJ\",\"ESTJ\",\"ESTJ\",\"ESTJ\",\"ESTJ\",\"ESTJ\",\"ESTJ\",\"ESTJ\",\"ESTJ\",\"ESTJ\",\"ESTJ\",\"ESTJ\",\"ESTJ\",\"ESTJ\",\"ESTJ\",\"ESTJ\",\"ESTJ\",\"ESTJ\",\"ESTJ\",\"ESTJ\",\"ESTJ\",\"ESTJ\",\"ESTJ\",\"ESTJ\",\"ESTJ\",\"ESTJ\",\"ESTJ\",\"ESTJ\",\"ESTJ\",\"ESTJ\",\"ESTJ\",\"ESTJ\",\"ESTJ\",\"ESTJ\",\"ESTJ\",\"ESTJ\",\"ESTJ\",\"ESTJ\",\"ESTJ\",\"ESTJ\",\"ESTJ\",\"ESTJ\",\"ESTJ\",\"ESTJ\",\"ESTJ\",\"ESTJ\",\"ESTJ\",\"ESTJ\",\"ESTJ\",\"ESTJ\",\"ESTJ\",\"ESTJ\",\"ESTJ\",\"ESTJ\",\"ESTJ\",\"ESTJ\",\"ESTJ\",\"ESTJ\",\"ESTJ\",\"ESTJ\",\"ESTJ\",\"ESTJ\",\"ESTJ\",\"ESTJ\",\"ESTJ\",\"ESTJ\",\"ESTJ\",\"ESTJ\",\"ESTJ\",\"ESTJ\",\"ESTJ\",\"ESTJ\",\"ESTJ\",\"ESTJ\",\"ESTJ\",\"ESTJ\",\"ESTJ\",\"ESTJ\",\"ESTJ\",\"ESTJ\",\"ESTJ\",\"ESTJ\",\"ESTJ\",\"ESTJ\",\"ESTJ\",\"ESTJ\",\"ESTJ\",\"ESTJ\",\"ESTJ\",\"ESTJ\",\"ESTJ\",\"ESTJ\",\"ESTJ\",\"ESTJ\",\"ESTJ\",\"ESTJ\",\"ESTJ\",\"ESTJ\",\"ESTJ\",\"ESTJ\",\"ESTJ\",\"ESTJ\",\"ESTJ\",\"ESTJ\",\"ESTJ\",\"ESTJ\",\"ESTJ\",\"ESTJ\",\"ESTJ\",\"ESTJ\",\"ESTJ\",\"ESTJ\",\"ESTJ\",\"ESTJ\",\"ESTJ\",\"ESTJ\",\"ESTJ\",\"ESTJ\",\"ESTJ\",\"ESTJ\",\"ESTJ\",\"ESTJ\",\"ESTJ\",\"ESTJ\",\"ESTJ\",\"ESTJ\",\"ESTJ\",\"ESTJ\",\"ESTJ\",\"ESTJ\",\"ESTJ\",\"ESTJ\",\"ESTJ\",\"ESTJ\",\"ESTJ\",\"ESTJ\",\"ESTJ\",\"ESTJ\",\"ESTJ\",\"ESTJ\",\"ESTJ\",\"ESTJ\",\"ESTJ\",\"ESTJ\",\"ESTJ\",\"ESTJ\",\"ESTJ\",\"ESTJ\",\"ESTJ\",\"ESTJ\",\"ESTJ\",\"ESTJ\",\"ESTJ\",\"ESTJ\",\"ESTJ\",\"ESTJ\",\"ESTJ\",\"ESTJ\",\"ESTJ\",\"ESTJ\",\"ESTJ\",\"ESTJ\",\"ESTJ\",\"ESTJ\",\"ESTJ\",\"ESTJ\",\"ESTJ\",\"ESTJ\",\"ESTJ\",\"ESTJ\",\"ESTJ\",\"ESTJ\",\"ESTJ\",\"ESTJ\",\"ESTJ\",\"ESTJ\",\"ESTJ\",\"ESTJ\",\"ESTJ\",\"ESTJ\",\"ESTJ\",\"ESTJ\",\"ESTJ\",\"ESTJ\",\"ESTJ\",\"ESTJ\",\"ESTJ\",\"ESTJ\",\"ESTJ\",\"ESTJ\",\"ESTJ\",\"ESTJ\",\"ESTJ\",\"ESTJ\",\"ESTJ\",\"ESTJ\",\"ESTJ\",\"ESTJ\",\"ESTJ\",\"ESTJ\",\"ESTJ\",\"ESTJ\",\"ESTJ\",\"ESTJ\",\"ESTJ\",\"ESTJ\",\"ESTJ\",\"ESTJ\",\"ESTJ\",\"ESTJ\",\"ESTJ\",\"ESTJ\",\"ESTJ\",\"ESTJ\",\"ESTJ\",\"ESTJ\",\"ESTJ\",\"ESTJ\",\"ESTJ\",\"ESTJ\",\"ESTJ\",\"ESTJ\",\"ESTJ\",\"ESTJ\",\"ESTJ\",\"ESTJ\",\"ESTJ\",\"ESTJ\",\"ESTJ\",\"ESTJ\",\"ESTJ\",\"ESTJ\",\"ESTJ\",\"ESTJ\",\"ESTJ\",\"ESTJ\",\"ESTJ\",\"ESTJ\",\"ESTJ\",\"ESTJ\",\"ESTJ\",\"ESTJ\",\"ESTJ\",\"ESTJ\",\"ESTJ\",\"ESTJ\",\"ESTJ\",\"ESTJ\",\"ESTJ\",\"ESTJ\",\"ESTJ\",\"ESTJ\",\"ESTJ\",\"ESTJ\",\"ESTJ\",\"ESTJ\",\"ESTJ\",\"ESTJ\",\"ESTJ\",\"ESTJ\",\"ESTJ\",\"ESTJ\",\"ESTJ\",\"ESTJ\",\"ESTJ\",\"ESTJ\",\"ESTJ\",\"ESTJ\",\"ESTJ\",\"ESTJ\",\"ESTJ\",\"ESTJ\",\"ESTJ\",\"ESTJ\",\"ESTJ\",\"ESTJ\",\"ESTJ\",\"ESTJ\",\"ESTJ\",\"ESTJ\",\"ESTJ\",\"ESTJ\",\"ESTJ\",\"ESTJ\",\"ESTJ\",\"ESTJ\",\"ESTJ\",\"ESTJ\",\"ESTJ\",\"ESTJ\",\"ESTJ\",\"ESTJ\",\"ESTJ\",\"ESTJ\",\"ESTJ\",\"ESTJ\",\"ESTJ\",\"ESTJ\",\"ESTJ\",\"ESTJ\",\"ESTJ\",\"ESTJ\",\"ESTJ\",\"ESTJ\",\"ESTJ\",\"ESTJ\",\"ESTJ\",\"ESTJ\",\"ESTJ\",\"ESTJ\",\"ESTJ\",\"ESTJ\",\"ESTJ\",\"ESTJ\",\"ESTJ\",\"ESTJ\",\"ESTJ\",\"ESTJ\",\"ESTJ\",\"ESTJ\",\"ESTJ\",\"ESTJ\",\"ESTJ\",\"ESTJ\",\"ESTJ\",\"ESTJ\",\"ESTJ\",\"ESTJ\",\"ESTJ\",\"ESTJ\",\"ESTJ\",\"ESTJ\",\"ESTJ\",\"ESTJ\",\"ESTJ\",\"ESTJ\",\"ESTJ\",\"ESTJ\",\"ESTJ\",\"ESTJ\",\"ESTJ\",\"ESTJ\",\"ESTJ\",\"ESTJ\",\"ESTJ\",\"ESTJ\",\"ESTJ\",\"ESTJ\",\"ESTJ\",\"ESTJ\",\"ESTJ\",\"ESTJ\",\"ESTJ\",\"ESTJ\",\"ESTJ\",\"ESTJ\",\"ESTJ\",\"ESTJ\",\"ESTJ\",\"ESTJ\",\"ESTJ\",\"ESTJ\",\"ESTJ\",\"ESTJ\",\"ESTJ\",\"ESTJ\",\"ESTJ\",\"ESTJ\",\"ESTJ\",\"ESTJ\",\"ESTJ\",\"ESTJ\",\"ESTJ\",\"ESTJ\",\"ESTJ\",\"ESTJ\",\"ESTJ\",\"ESTJ\",\"ESTJ\",\"ESTJ\",\"ESTJ\",\"ESTJ\",\"ESTJ\",\"ESTJ\",\"ESTJ\",\"ESTJ\",\"ESTJ\",\"ESTJ\",\"ESTJ\",\"ESTJ\",\"ESTJ\",\"ESTJ\",\"ESTJ\",\"ESTJ\",\"ESTJ\",\"ESTJ\",\"ESTJ\",\"ESTJ\",\"ESTJ\",\"ESTJ\",\"ESTJ\",\"ESTJ\",\"ESTJ\",\"ESTJ\",\"ESTJ\",\"ESTJ\",\"ESTJ\",\"ESTJ\",\"ESTJ\",\"ESTJ\",\"ESTJ\",\"ESTJ\",\"ESTJ\",\"ESTJ\",\"ESTJ\",\"ESTJ\",\"ESTJ\",\"ESTJ\",\"ESTJ\",\"ESTJ\",\"ESTJ\",\"ESTJ\",\"ESTJ\",\"ESTJ\",\"ESTJ\",\"ESTJ\",\"ESTJ\",\"ESTJ\",\"ESTJ\",\"ESTJ\",\"ESTJ\",\"ESTJ\",\"ESTJ\",\"ESTJ\",\"ESTJ\",\"ESTJ\",\"ESTJ\",\"ESTJ\",\"ESTJ\",\"ESTJ\",\"ESTJ\",\"ESTJ\",\"ESTJ\",\"ESTJ\",\"ESTJ\",\"ESTJ\",\"ESTJ\",\"ESTJ\",\"ESTJ\",\"ESTJ\",\"ESTJ\",\"ESTJ\",\"ESTJ\",\"ESTJ\",\"ESTJ\",\"ESTJ\",\"ESTJ\",\"ESTJ\",\"ESTJ\",\"ESTJ\",\"ESTJ\",\"ESTJ\",\"ESTJ\",\"ESTJ\",\"ESTJ\",\"ESTJ\",\"ESTJ\",\"ESTJ\",\"ESTJ\",\"ESTJ\",\"ESTJ\",\"ESTJ\",\"ESTJ\",\"ESTJ\",\"ESTJ\",\"ESTJ\",\"ESTJ\",\"ESTJ\",\"ESTJ\",\"ESTJ\",\"ESTJ\",\"ESTJ\",\"ESTJ\",\"ESTJ\",\"ESTJ\",\"ESTJ\",\"ESTJ\",\"ESTJ\",\"ESTJ\",\"ESTJ\",\"ESTJ\",\"ESTJ\",\"ESTJ\",\"ESTJ\",\"ESTJ\",\"ESTJ\",\"ESTJ\",\"ESTJ\",\"ESTJ\",\"ESTJ\",\"ESTJ\",\"ESTJ\",\"ESTJ\",\"ESTJ\",\"ESTJ\",\"ESTJ\",\"ESTJ\",\"ESTJ\",\"ESTJ\",\"ESTJ\",\"ESTJ\",\"ESTJ\",\"ESTJ\",\"ESTJ\",\"ESTJ\",\"ESTJ\",\"ESTJ\",\"ESTJ\",\"ESTJ\",\"ESTJ\",\"ESTJ\",\"ESTJ\",\"ESTJ\",\"ESTJ\",\"ESTJ\",\"ESTJ\",\"ESTJ\",\"ESTJ\",\"ESTJ\",\"ESTJ\",\"ESTJ\",\"ESTJ\",\"ESTJ\",\"ESTJ\",\"ESTJ\",\"ESTJ\",\"ESTJ\",\"ESTJ\",\"ESTJ\",\"ESTJ\",\"ESTJ\",\"ESTJ\",\"ESTJ\",\"ESTJ\",\"ESTJ\",\"ESTJ\",\"ESTJ\",\"ESTJ\",\"ESTJ\",\"ESTJ\",\"ESTJ\",\"ESTJ\",\"ESTJ\",\"ESTJ\",\"ESTJ\",\"ESTJ\",\"ESTJ\",\"ESTJ\",\"ESTJ\",\"ESTJ\",\"ESTJ\",\"ESTJ\",\"ESTJ\",\"ESTJ\",\"ESTJ\",\"ESTJ\",\"ESTJ\",\"ESTJ\",\"ESTJ\",\"ESTJ\",\"ESTJ\",\"ESTJ\",\"ESTJ\",\"ESTJ\",\"ESTJ\",\"ESTJ\",\"ESTJ\",\"ESTJ\",\"ESTJ\",\"ESTJ\",\"ESTJ\",\"ESTJ\",\"ESTJ\",\"ESTJ\",\"ESTJ\",\"ESTJ\",\"ESTJ\",\"ESTJ\",\"ESTJ\",\"ESTJ\",\"ESTJ\",\"ESTJ\",\"ESTJ\",\"ESTJ\",\"ESTJ\",\"ESTJ\",\"ESTJ\",\"ESTJ\",\"ESTJ\",\"ESTJ\",\"ESTJ\",\"ESTJ\",\"ESTJ\",\"ESTJ\",\"ESTJ\",\"ESTJ\",\"ESTJ\",\"ESTJ\",\"ESTJ\",\"ESTJ\",\"ESTJ\",\"ESTJ\",\"ESTJ\",\"ESTJ\",\"ESTJ\",\"ESTJ\",\"ESTJ\",\"ESTJ\",\"ESTJ\",\"ESTJ\",\"ESTJ\",\"ESTJ\",\"ESTJ\",\"ESTJ\",\"ESTJ\",\"ESTJ\",\"ESTJ\",\"ESTJ\",\"ESTJ\",\"ESTJ\",\"ESTJ\",\"ESTJ\",\"ESTJ\",\"ESTJ\",\"ESTJ\",\"ESTJ\",\"ESTJ\",\"ESTJ\",\"ESTJ\",\"ESTJ\",\"ESTJ\",\"ESTJ\",\"ESTJ\",\"ESTJ\",\"ESTJ\",\"ESTJ\",\"ESTJ\",\"ESTJ\",\"ESTJ\",\"ESTJ\",\"ESTJ\",\"ESTJ\",\"ESTJ\",\"ESTJ\",\"ESTJ\",\"ESTJ\",\"ESTJ\",\"ESTJ\",\"ESTJ\",\"ESTJ\",\"ESTJ\",\"ESTJ\",\"ESTJ\",\"ESTJ\",\"ESTJ\",\"ESTJ\",\"ESTJ\",\"ESTJ\",\"ESTJ\",\"ESTJ\",\"ESTJ\",\"ESTJ\",\"ESTJ\",\"ESTJ\",\"ESTJ\",\"ESTJ\",\"ESTJ\",\"ESTJ\",\"ESTJ\",\"ESTJ\",\"ESTJ\",\"ESTJ\",\"ESTJ\",\"ESTJ\",\"ESTJ\",\"ESTJ\",\"ESTJ\",\"ESTJ\",\"ESTJ\",\"ESTJ\",\"ESTJ\",\"ESTJ\",\"ESTJ\",\"ESTJ\",\"ESTJ\",\"ESTJ\",\"ESTJ\",\"ESTJ\",\"ESTJ\",\"ESTJ\",\"ESTJ\",\"ESTJ\",\"ESTJ\",\"ESTJ\",\"ESTJ\",\"ESTJ\",\"ESTJ\",\"ESTJ\",\"ESTJ\",\"ESTJ\",\"ESTJ\",\"ESTJ\",\"ESTJ\",\"ESTJ\",\"ESTJ\",\"ESTJ\",\"ESTJ\",\"ESTJ\",\"ESTJ\",\"ESTJ\",\"ESTJ\",\"ESTJ\",\"ESTJ\",\"ESTJ\",\"ESTJ\",\"ESTJ\",\"ESTJ\",\"ESTJ\",\"ESTJ\",\"ESTJ\",\"ESTJ\",\"ESTJ\",\"ESTJ\",\"ESTJ\",\"ESTJ\",\"ESTJ\",\"ESTJ\",\"ESTJ\",\"ESTJ\",\"ESTJ\",\"ESTJ\",\"ESTJ\",\"ESTJ\",\"ESTJ\",\"ESTJ\",\"ESTJ\",\"ESTJ\",\"ESTJ\",\"ESTJ\",\"ESTJ\",\"ESTJ\",\"ESTJ\",\"ESTJ\",\"ESTJ\",\"ESTJ\",\"ESTJ\",\"ESTJ\",\"ESTJ\",\"ESTJ\",\"ESTJ\",\"ESTJ\",\"ESTJ\",\"ESTJ\",\"ESTJ\",\"ESTJ\",\"ESTJ\",\"ESTJ\",\"ESTJ\",\"ESTJ\",\"ESTJ\",\"ESTJ\",\"ESTJ\",\"ESTJ\",\"ESTJ\",\"ESTJ\",\"ESTJ\",\"ESTJ\",\"ESTJ\",\"ESTJ\",\"ESTJ\",\"ESTJ\",\"ESTJ\",\"ESTJ\",\"ESTJ\",\"ESTJ\",\"ESTJ\",\"ESTJ\",\"ESTJ\",\"ESTJ\",\"ESTJ\",\"ESTJ\",\"ESTJ\",\"ESTJ\",\"ESTJ\",\"ESTJ\",\"ESTJ\",\"ESTJ\",\"ESTJ\",\"ESTJ\",\"ESTJ\",\"ESTJ\",\"ESTJ\",\"ESTJ\",\"ESTJ\",\"ESTJ\",\"ESTJ\",\"ESTJ\",\"ESTJ\",\"ESTJ\",\"ESTJ\",\"ESTJ\",\"ESTJ\",\"ESTJ\",\"ESTJ\",\"ESTJ\",\"ESTJ\",\"ESTJ\",\"ESTJ\",\"ESTJ\",\"ESTJ\",\"ESTJ\",\"ESTJ\",\"ESTJ\",\"ESTJ\",\"ESTJ\",\"ESTJ\",\"ESTJ\",\"ESTJ\",\"ESTJ\",\"ESTJ\",\"ESTJ\",\"ESTJ\",\"ESTJ\",\"ESTJ\",\"ESTJ\",\"ESTJ\",\"ESTJ\",\"ESTJ\",\"ESTJ\",\"ESTJ\",\"ESTJ\",\"ESTJ\",\"ESTJ\",\"ESTJ\",\"ESTJ\",\"ESTJ\",\"ESTJ\",\"ESTJ\",\"ESTJ\",\"ESTJ\",\"ESTJ\",\"ESTJ\",\"ESTJ\",\"ESTJ\",\"ESTJ\",\"ESTJ\",\"ESTJ\",\"ESTJ\",\"ESTJ\",\"ESTJ\",\"ESTJ\",\"ESTJ\",\"ESTJ\",\"ESTJ\",\"ESTJ\",\"ESTJ\",\"ESTJ\",\"ESTJ\",\"ESTJ\",\"ESTJ\",\"ESTJ\",\"ESTJ\",\"ESTJ\",\"ESTJ\",\"ESTJ\",\"ESTJ\",\"ESTJ\",\"ESTJ\",\"ESTJ\",\"ESTJ\",\"ESTJ\",\"ESTJ\",\"ESTJ\",\"ESTJ\",\"ESTJ\",\"ESTJ\",\"ESTJ\",\"ESTJ\",\"ESTJ\",\"ESTJ\",\"ESTJ\",\"ESTJ\",\"ESTJ\",\"ESTJ\",\"ESTJ\",\"ESTJ\",\"ESTJ\",\"ESTJ\",\"ESTJ\",\"ESTJ\",\"ESTJ\",\"ESTJ\",\"ESTJ\",\"ESTJ\",\"ESTJ\",\"ESTJ\",\"ESTJ\",\"ESTJ\",\"ESTJ\",\"ESTJ\",\"ESTJ\",\"ESTJ\",\"ESTJ\",\"ESTJ\",\"ESTJ\",\"ESTJ\",\"ESTJ\",\"ESTJ\",\"ESTJ\",\"ESTJ\",\"ESTJ\",\"ESTJ\",\"ESTJ\",\"ESTJ\",\"ESTJ\",\"ESTJ\",\"ESTJ\",\"ESTJ\",\"ESTJ\",\"ESTJ\",\"ESTJ\",\"ESTJ\",\"ESTJ\",\"ESTJ\",\"ESTJ\",\"ESTJ\",\"ESTJ\",\"ESTJ\",\"ESTJ\",\"ESTJ\",\"ESTJ\",\"ESTJ\",\"ESTJ\",\"ESTJ\",\"ESTJ\",\"ESTJ\",\"ESTJ\",\"ESTJ\",\"ESTJ\",\"ESTJ\",\"ESTJ\",\"ESTJ\",\"ESTJ\",\"ESTJ\",\"ESTJ\",\"ESTJ\",\"ESTJ\",\"ESTJ\",\"ESTJ\",\"ESTJ\",\"ESTJ\",\"ESTJ\",\"ESTJ\",\"ESTJ\",\"ESTJ\",\"ESTJ\",\"ESTJ\",\"ESTJ\",\"ESTJ\",\"ESTJ\",\"ESTJ\",\"ESTJ\",\"ESTJ\",\"ESTJ\",\"ESTJ\",\"ESTJ\",\"ESTJ\",\"ESTJ\",\"ESTJ\",\"ESTJ\",\"ESTJ\",\"ESTJ\",\"ESTJ\",\"ESTJ\",\"ESTJ\",\"ESTJ\",\"ESTJ\",\"ESTJ\",\"ESTJ\",\"ESTJ\",\"ESTJ\",\"ESTJ\",\"ESTJ\",\"ESTJ\",\"ESTJ\",\"ESTJ\",\"ESTJ\",\"ESTJ\",\"ESTJ\",\"ESTJ\",\"ESTJ\"],\"precision\":{\"__ndarray__\":\"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\",\"dtype\":\"float64\",\"order\":\"little\",\"shape\":[1416]},\"recall\":{\"__ndarray__\":\"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\",\"dtype\":\"float64\",\"order\":\"little\",\"shape\":[1416]}},\"selected\":{\"id\":\"4747\"},\"selection_policy\":{\"id\":\"4773\"}},\"id\":\"4746\",\"type\":\"ColumnDataSource\"},{\"attributes\":{\"line_color\":\"#1f77b4\",\"line_width\":2,\"x\":{\"field\":\"recall\"},\"y\":{\"field\":\"precision\"}},\"id\":\"4847\",\"type\":\"Line\"},{\"attributes\":{},\"id\":\"4773\",\"type\":\"UnionRenderers\"},{\"attributes\":{\"line_color\":\"#9467bd\",\"line_width\":2,\"x\":{\"field\":\"recall\"},\"y\":{\"field\":\"precision\"}},\"id\":\"4749\",\"type\":\"Line\"},{\"attributes\":{},\"id\":\"4591\",\"type\":\"AllLabels\"},{\"attributes\":{},\"id\":\"4594\",\"type\":\"AllLabels\"},{\"attributes\":{\"coordinates\":null,\"data_source\":{\"id\":\"4616\"},\"glyph\":{\"id\":\"4619\"},\"group\":null,\"hover_glyph\":null,\"muted_glyph\":{\"id\":\"4621\"},\"nonselection_glyph\":{\"id\":\"4620\"},\"selection_glyph\":{\"id\":\"4637\"},\"view\":{\"id\":\"4623\"}},\"id\":\"4622\",\"type\":\"GlyphRenderer\"},{\"attributes\":{\"line_alpha\":0.1,\"line_color\":\"#d62728\",\"line_width\":2,\"x\":{\"field\":\"recall\"},\"y\":{\"field\":\"precision\"}},\"id\":\"4782\",\"type\":\"Line\"},{\"attributes\":{},\"id\":\"4593\",\"type\":\"BasicTickFormatter\"},{\"attributes\":{},\"id\":\"4921\",\"type\":\"UnionRenderers\"},{\"attributes\":{\"click_policy\":\"mute\",\"coordinates\":null,\"group\":null,\"items\":[{\"id\":\"4614\"},{\"id\":\"4636\"},{\"id\":\"4660\"},{\"id\":\"4686\"},{\"id\":\"4714\"},{\"id\":\"4744\"},{\"id\":\"4776\"},{\"id\":\"4810\"},{\"id\":\"4846\"},{\"id\":\"4884\"},{\"id\":\"4924\"},{\"id\":\"4966\"},{\"id\":\"5010\"},{\"id\":\"5056\"},{\"id\":\"5104\"},{\"id\":\"5154\"}],\"location\":[0,0],\"title\":\"name_class\"},\"id\":\"4613\",\"type\":\"Legend\"},{\"attributes\":{\"line_color\":\"#30a2da\",\"line_width\":2,\"x\":{\"field\":\"recall\"},\"y\":{\"field\":\"precision\"}},\"id\":\"4615\",\"type\":\"Line\"},{\"attributes\":{\"data\":{\"name_class\":[\"ENFP\",\"ENFP\",\"ENFP\",\"ENFP\",\"ENFP\",\"ENFP\",\"ENFP\",\"ENFP\",\"ENFP\",\"ENFP\",\"ENFP\",\"ENFP\",\"ENFP\",\"ENFP\",\"ENFP\",\"ENFP\",\"ENFP\",\"ENFP\",\"ENFP\",\"ENFP\",\"ENFP\",\"ENFP\",\"ENFP\",\"ENFP\",\"ENFP\",\"ENFP\",\"ENFP\",\"ENFP\",\"ENFP\",\"ENFP\",\"ENFP\",\"ENFP\",\"ENFP\",\"ENFP\",\"ENFP\",\"ENFP\",\"ENFP\",\"ENFP\",\"ENFP\",\"ENFP\",\"ENFP\",\"ENFP\",\"ENFP\",\"ENFP\",\"ENFP\",\"ENFP\",\"ENFP\",\"ENFP\",\"ENFP\",\"ENFP\",\"ENFP\",\"ENFP\",\"ENFP\",\"ENFP\",\"ENFP\",\"ENFP\",\"ENFP\",\"ENFP\",\"ENFP\",\"ENFP\",\"ENFP\",\"ENFP\",\"ENFP\",\"ENFP\",\"ENFP\",\"ENFP\",\"ENFP\",\"ENFP\",\"ENFP\",\"ENFP\",\"ENFP\",\"ENFP\",\"ENFP\",\"ENFP\",\"ENFP\",\"ENFP\",\"ENFP\",\"ENFP\",\"ENFP\",\"ENFP\",\"ENFP\",\"ENFP\",\"ENFP\",\"ENFP\",\"ENFP\",\"ENFP\",\"ENFP\",\"ENFP\",\"ENFP\",\"ENFP\",\"ENFP\",\"ENFP\",\"ENFP\",\"ENFP\",\"ENFP\",\"ENFP\",\"ENFP\",\"ENFP\",\"ENFP\",\"ENFP\",\"ENFP\",\"ENFP\",\"ENFP\",\"ENFP\",\"ENFP\",\"ENFP\",\"ENFP\",\"ENFP\",\"ENFP\",\"ENFP\",\"ENFP\",\"ENFP\",\"ENFP\",\"ENFP\",\"ENFP\",\"ENFP\",\"ENFP\",\"ENFP\",\"ENFP\",\"ENFP\",\"ENFP\",\"ENFP\",\"ENFP\",\"ENFP\",\"ENFP\",\"ENFP\",\"ENFP\",\"ENFP\",\"ENFP\",\"ENFP\",\"ENFP\",\"ENFP\",\"ENFP\",\"ENFP\",\"ENFP\",\"ENFP\",\"ENFP\",\"ENFP\",\"ENFP\",\"ENFP\",\"ENFP\",\"ENFP\",\"ENFP\",\"ENFP\",\"ENFP\",\"ENFP\",\"ENFP\",\"ENFP\",\"ENFP\",\"ENFP\",\"ENFP\",\"ENFP\",\"ENFP\",\"ENFP\",\"ENFP\",\"ENFP\",\"ENFP\",\"ENFP\",\"ENFP\",\"ENFP\",\"ENFP\",\"ENFP\",\"ENFP\",\"ENFP\",\"ENFP\",\"ENFP\",\"ENFP\",\"ENFP\",\"ENFP\",\"ENFP\",\"ENFP\",\"ENFP\",\"ENFP\",\"ENFP\",\"ENFP\",\"ENFP\",\"ENFP\",\"ENFP\",\"ENFP\",\"ENFP\",\"ENFP\",\"ENFP\",\"ENFP\",\"ENFP\",\"ENFP\",\"ENFP\",\"ENFP\",\"ENFP\",\"ENFP\",\"ENFP\",\"ENFP\",\"ENFP\",\"ENFP\",\"ENFP\",\"ENFP\",\"ENFP\",\"ENFP\",\"ENFP\",\"ENFP\",\"ENFP\",\"ENFP\",\"ENFP\",\"ENFP\",\"ENFP\",\"ENFP\",\"ENFP\",\"ENFP\",\"ENFP\",\"ENFP\",\"ENFP\",\"ENFP\",\"ENFP\",\"ENFP\",\"ENFP\",\"ENFP\",\"ENFP\",\"ENFP\",\"ENFP\",\"ENFP\",\"ENFP\",\"ENFP\",\"ENFP\",\"ENFP\",\"ENFP\",\"ENFP\",\"ENFP\",\"ENFP\",\"ENFP\"],\"precision\":{\"__ndarray__\":\"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\",\"dtype\":\"float64\",\"order\":\"little\",\"shape\":[228]},\"recall\":{\"__ndarray__\":\"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\",\"dtype\":\"float64\",\"order\":\"little\",\"shape\":[228]}},\"selected\":{\"id\":\"4617\"},\"selection_policy\":{\"id\":\"4633\"}},\"id\":\"4616\",\"type\":\"ColumnDataSource\"},{\"attributes\":{\"label\":{\"value\":\"ESTJ\"},\"renderers\":[{\"id\":\"4752\"}]},\"id\":\"4776\",\"type\":\"LegendItem\"},{\"attributes\":{\"line_alpha\":0.1,\"line_color\":\"#30a2da\",\"line_width\":2,\"x\":{\"field\":\"recall\"},\"y\":{\"field\":\"precision\"}},\"id\":\"4599\",\"type\":\"Line\"},{\"attributes\":{\"line_color\":\"#30a2da\",\"line_width\":2,\"x\":{\"field\":\"recall\"},\"y\":{\"field\":\"precision\"}},\"id\":\"5011\",\"type\":\"Line\"},{\"attributes\":{\"label\":{\"value\":\"INTP\"},\"renderers\":[{\"id\":\"4932\"}]},\"id\":\"4966\",\"type\":\"LegendItem\"},{\"attributes\":{\"coordinates\":null,\"data_source\":{\"id\":\"4812\"},\"glyph\":{\"id\":\"4815\"},\"group\":null,\"hover_glyph\":null,\"muted_glyph\":{\"id\":\"4817\"},\"nonselection_glyph\":{\"id\":\"4816\"},\"selection_glyph\":{\"id\":\"4847\"},\"view\":{\"id\":\"4819\"}},\"id\":\"4818\",\"type\":\"GlyphRenderer\"},{\"attributes\":{\"data\":{\"name_class\":[\"ENTJ\",\"ENTJ\",\"ENTJ\",\"ENTJ\",\"ENTJ\",\"ENTJ\",\"ENTJ\",\"ENTJ\",\"ENTJ\",\"ENTJ\",\"ENTJ\",\"ENTJ\",\"ENTJ\",\"ENTJ\",\"ENTJ\",\"ENTJ\",\"ENTJ\",\"ENTJ\",\"ENTJ\",\"ENTJ\",\"ENTJ\",\"ENTJ\",\"ENTJ\",\"ENTJ\",\"ENTJ\",\"ENTJ\",\"ENTJ\",\"ENTJ\",\"ENTJ\",\"ENTJ\",\"ENTJ\",\"ENTJ\",\"ENTJ\",\"ENTJ\",\"ENTJ\",\"ENTJ\",\"ENTJ\",\"ENTJ\",\"ENTJ\",\"ENTJ\",\"ENTJ\",\"ENTJ\",\"ENTJ\",\"ENTJ\",\"ENTJ\",\"ENTJ\",\"ENTJ\",\"ENTJ\",\"ENTJ\",\"ENTJ\",\"ENTJ\",\"ENTJ\",\"ENTJ\",\"ENTJ\",\"ENTJ\",\"ENTJ\",\"ENTJ\",\"ENTJ\",\"ENTJ\",\"ENTJ\",\"ENTJ\",\"ENTJ\",\"ENTJ\",\"ENTJ\",\"ENTJ\",\"ENTJ\",\"ENTJ\",\"ENTJ\",\"ENTJ\",\"ENTJ\",\"ENTJ\",\"ENTJ\",\"ENTJ\",\"ENTJ\",\"ENTJ\",\"ENTJ\",\"ENTJ\",\"ENTJ\",\"ENTJ\",\"ENTJ\",\"ENTJ\",\"ENTJ\",\"ENTJ\",\"ENTJ\",\"ENTJ\",\"ENTJ\",\"ENTJ\",\"ENTJ\",\"ENTJ\",\"ENTJ\",\"ENTJ\",\"ENTJ\",\"ENTJ\",\"ENTJ\",\"ENTJ\",\"ENTJ\",\"ENTJ\",\"ENTJ\",\"ENTJ\",\"ENTJ\",\"ENTJ\",\"ENTJ\",\"ENTJ\",\"ENTJ\",\"ENTJ\",\"ENTJ\",\"ENTJ\",\"ENTJ\",\"ENTJ\",\"ENTJ\",\"ENTJ\",\"ENTJ\",\"ENTJ\",\"ENTJ\",\"ENTJ\",\"ENTJ\",\"ENTJ\",\"ENTJ\",\"ENTJ\",\"ENTJ\",\"ENTJ\",\"ENTJ\",\"ENTJ\",\"ENTJ\",\"ENTJ\",\"ENTJ\",\"ENTJ\",\"ENTJ\",\"ENTJ\",\"ENTJ\",\"ENTJ\",\"ENTJ\",\"ENTJ\",\"ENTJ\",\"ENTJ\",\"ENTJ\",\"ENTJ\",\"ENTJ\",\"ENTJ\",\"ENTJ\",\"ENTJ\",\"ENTJ\",\"ENTJ\",\"ENTJ\",\"ENTJ\",\"ENTJ\",\"ENTJ\",\"ENTJ\",\"ENTJ\",\"ENTJ\",\"ENTJ\",\"ENTJ\",\"ENTJ\",\"ENTJ\",\"ENTJ\",\"ENTJ\",\"ENTJ\",\"ENTJ\",\"ENTJ\",\"ENTJ\",\"ENTJ\",\"ENTJ\",\"ENTJ\",\"ENTJ\",\"ENTJ\",\"ENTJ\",\"ENTJ\",\"ENTJ\",\"ENTJ\",\"ENTJ\",\"ENTJ\",\"ENTJ\",\"ENTJ\",\"ENTJ\",\"ENTJ\",\"ENTJ\",\"ENTJ\",\"ENTJ\",\"ENTJ\",\"ENTJ\",\"ENTJ\",\"ENTJ\",\"ENTJ\",\"ENTJ\",\"ENTJ\",\"ENTJ\",\"ENTJ\",\"ENTJ\",\"ENTJ\",\"ENTJ\",\"ENTJ\",\"ENTJ\",\"ENTJ\",\"ENTJ\",\"ENTJ\",\"ENTJ\",\"ENTJ\",\"ENTJ\",\"ENTJ\",\"ENTJ\",\"ENTJ\",\"ENTJ\",\"ENTJ\",\"ENTJ\",\"ENTJ\",\"ENTJ\",\"ENTJ\",\"ENTJ\",\"ENTJ\",\"ENTJ\",\"ENTJ\",\"ENTJ\",\"ENTJ\",\"ENTJ\",\"ENTJ\",\"ENTJ\",\"ENTJ\",\"ENTJ\",\"ENTJ\",\"ENTJ\",\"ENTJ\",\"ENTJ\",\"ENTJ\",\"ENTJ\",\"ENTJ\",\"ENTJ\",\"ENTJ\",\"ENTJ\",\"ENTJ\",\"ENTJ\",\"ENTJ\",\"ENTJ\",\"ENTJ\",\"ENTJ\",\"ENTJ\",\"ENTJ\",\"ENTJ\",\"ENTJ\",\"ENTJ\",\"ENTJ\",\"ENTJ\",\"ENTJ\",\"ENTJ\",\"ENTJ\",\"ENTJ\",\"ENTJ\",\"ENTJ\",\"ENTJ\",\"ENTJ\",\"ENTJ\",\"ENTJ\",\"ENTJ\",\"ENTJ\",\"ENTJ\",\"ENTJ\",\"ENTJ\",\"ENTJ\",\"ENTJ\",\"ENTJ\",\"ENTJ\",\"ENTJ\",\"ENTJ\",\"ENTJ\",\"ENTJ\",\"ENTJ\",\"ENTJ\",\"ENTJ\",\"ENTJ\",\"ENTJ\",\"ENTJ\",\"ENTJ\",\"ENTJ\",\"ENTJ\",\"ENTJ\",\"ENTJ\",\"ENTJ\",\"ENTJ\",\"ENTJ\",\"ENTJ\",\"ENTJ\",\"ENTJ\",\"ENTJ\",\"ENTJ\",\"ENTJ\",\"ENTJ\",\"ENTJ\",\"ENTJ\",\"ENTJ\",\"ENTJ\",\"ENTJ\",\"ENTJ\",\"ENTJ\",\"ENTJ\",\"ENTJ\",\"ENTJ\",\"ENTJ\",\"ENTJ\",\"ENTJ\",\"ENTJ\",\"ENTJ\",\"ENTJ\",\"ENTJ\",\"ENTJ\",\"ENTJ\",\"ENTJ\",\"ENTJ\",\"ENTJ\",\"ENTJ\",\"ENTJ\",\"ENTJ\",\"ENTJ\",\"ENTJ\",\"ENTJ\",\"ENTJ\",\"ENTJ\",\"ENTJ\",\"ENTJ\",\"ENTJ\",\"ENTJ\",\"ENTJ\",\"ENTJ\",\"ENTJ\",\"ENTJ\",\"ENTJ\",\"ENTJ\",\"ENTJ\",\"ENTJ\",\"ENTJ\",\"ENTJ\",\"ENTJ\",\"ENTJ\",\"ENTJ\",\"ENTJ\",\"ENTJ\",\"ENTJ\",\"ENTJ\",\"ENTJ\",\"ENTJ\",\"ENTJ\",\"ENTJ\",\"ENTJ\",\"ENTJ\",\"ENTJ\",\"ENTJ\",\"ENTJ\",\"ENTJ\",\"ENTJ\",\"ENTJ\",\"ENTJ\",\"ENTJ\",\"ENTJ\",\"ENTJ\",\"ENTJ\",\"ENTJ\",\"ENTJ\",\"ENTJ\",\"ENTJ\",\"ENTJ\",\"ENTJ\",\"ENTJ\",\"ENTJ\",\"ENTJ\",\"ENTJ\",\"ENTJ\",\"ENTJ\",\"ENTJ\",\"ENTJ\",\"ENTJ\",\"ENTJ\",\"ENTJ\",\"ENTJ\",\"ENTJ\",\"ENTJ\",\"ENTJ\",\"ENTJ\",\"ENTJ\",\"ENTJ\",\"ENTJ\",\"ENTJ\",\"ENTJ\",\"ENTJ\",\"ENTJ\",\"ENTJ\",\"ENTJ\",\"ENTJ\",\"ENTJ\",\"ENTJ\",\"ENTJ\",\"ENTJ\",\"ENTJ\",\"ENTJ\",\"ENTJ\"],\"precision\":{\"__ndarray__\":\"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\",\"dtype\":\"float64\",\"order\":\"little\",\"shape\":[392]},\"recall\":{\"__ndarray__\":\"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\",\"dtype\":\"float64\",\"order\":\"little\",\"shape\":[392]}},\"selected\":{\"id\":\"4639\"},\"selection_policy\":{\"id\":\"4657\"}},\"id\":\"4638\",\"type\":\"ColumnDataSource\"},{\"attributes\":{\"source\":{\"id\":\"4638\"}},\"id\":\"4645\",\"type\":\"CDSView\"},{\"attributes\":{\"line_alpha\":0.2,\"line_color\":\"#8b8b8b\",\"line_width\":2,\"x\":{\"field\":\"recall\"},\"y\":{\"field\":\"precision\"}},\"id\":\"4693\",\"type\":\"Line\"},{\"attributes\":{\"line_alpha\":0.1,\"line_color\":\"#1f77b4\",\"line_width\":2,\"x\":{\"field\":\"recall\"},\"y\":{\"field\":\"precision\"}},\"id\":\"4816\",\"type\":\"Line\"},{\"attributes\":{\"source\":{\"id\":\"4926\"}},\"id\":\"4933\",\"type\":\"CDSView\"},{\"attributes\":{\"label\":{\"value\":\"ENTJ\"},\"renderers\":[{\"id\":\"4644\"}]},\"id\":\"4660\",\"type\":\"LegendItem\"},{\"attributes\":{},\"id\":\"4596\",\"type\":\"Selection\"},{\"attributes\":{\"end\":1.0154696132596686,\"reset_end\":1.0154696132596686,\"reset_start\":0.8298342541436463,\"start\":0.8298342541436463,\"tags\":[[[\"precision\",\"precision\",null]]]},\"id\":\"4542\",\"type\":\"Range1d\"},{\"attributes\":{\"line_alpha\":0.1,\"line_color\":\"#6d904f\",\"line_width\":2,\"x\":{\"field\":\"recall\"},\"y\":{\"field\":\"precision\"}},\"id\":\"4666\",\"type\":\"Line\"},{\"attributes\":{\"data\":{\"name_class\":[\"INFP\",\"INFP\",\"INFP\",\"INFP\",\"INFP\",\"INFP\",\"INFP\",\"INFP\",\"INFP\",\"INFP\",\"INFP\",\"INFP\",\"INFP\",\"INFP\",\"INFP\",\"INFP\",\"INFP\",\"INFP\",\"INFP\",\"INFP\",\"INFP\",\"INFP\",\"INFP\",\"INFP\",\"INFP\",\"INFP\",\"INFP\",\"INFP\",\"INFP\",\"INFP\",\"INFP\",\"INFP\",\"INFP\",\"INFP\",\"INFP\",\"INFP\",\"INFP\",\"INFP\",\"INFP\",\"INFP\",\"INFP\",\"INFP\",\"INFP\",\"INFP\",\"INFP\",\"INFP\",\"INFP\",\"INFP\",\"INFP\",\"INFP\",\"INFP\",\"INFP\",\"INFP\",\"INFP\",\"INFP\",\"INFP\",\"INFP\",\"INFP\",\"INFP\",\"INFP\",\"INFP\",\"INFP\",\"INFP\",\"INFP\",\"INFP\",\"INFP\",\"INFP\",\"INFP\",\"INFP\",\"INFP\",\"INFP\",\"INFP\",\"INFP\",\"INFP\",\"INFP\",\"INFP\",\"INFP\",\"INFP\",\"INFP\",\"INFP\",\"INFP\",\"INFP\",\"INFP\",\"INFP\",\"INFP\",\"INFP\",\"INFP\",\"INFP\",\"INFP\",\"INFP\",\"INFP\",\"INFP\",\"INFP\",\"INFP\",\"INFP\",\"INFP\",\"INFP\",\"INFP\",\"INFP\",\"INFP\",\"INFP\",\"INFP\",\"INFP\",\"INFP\",\"INFP\",\"INFP\",\"INFP\",\"INFP\",\"INFP\",\"INFP\",\"INFP\",\"INFP\",\"INFP\",\"INFP\"],\"precision\":{\"__ndarray__\":\"btu2bdu27T9u27Zt27btP6x9w9o3rO0/rH3D2jes7T+O4ziO4zjuP47jOI7jOO4/ruxzSE0w7j+u7HNITTDuP0/sxE7sxO4/T+zETuzE7j9fX19fX1/vP19fX19fX+8/AAAAAAAA8D8AAAAAAADwPwAAAAAAAPA/AAAAAAAA8D8AAAAAAADwPwAAAAAAAPA/AAAAAAAA8D8AAAAAAADwPwAAAAAAAPA/AAAAAAAA8D8AAAAAAADwPwAAAAAAAPA/AAAAAAAA8D8AAAAAAADwPwAAAAAAAPA/AAAAAAAA8D8AAAAAAADwPwAAAAAAAPA/AAAAAAAA8D8AAAAAAADwPwAAAAAAAPA/AAAAAAAA8D8AAAAAAADwPwAAAAAAAPA/AAAAAAAA8D8AAAAAAADwPwAAAAAAAPA/AAAAAAAA8D8AAAAAAADwPwAAAAAAAPA/AAAAAAAA8D8AAAAAAADwPwAAAAAAAPA/AAAAAAAA8D8AAAAAAADwPwAAAAAAAPA/AAAAAAAA8D8AAAAAAADwPwAAAAAAAPA/AAAAAAAA8D8AAAAAAADwPwAAAAAAAPA/AAAAAAAA8D8AAAAAAADwPwAAAAAAAPA/AAAAAAAA8D8AAAAAAADwPwAAAAAAAPA/AAAAAAAA8D8AAAAAAADwPwAAAAAAAPA/AAAAAAAA8D8AAAAAAADwPwAAAAAAAPA/AAAAAAAA8D8AAAAAAADwPwAAAAAAAPA/AAAAAAAA8D8AAAAAAADwPwAAAAAAAPA/AAAAAAAA8D8AAAAAAADwPwAAAAAAAPA/AAAAAAAA8D8AAAAAAADwPwAAAAAAAPA/AAAAAAAA8D8AAAAAAADwPwAAAAAAAPA/AAAAAAAA8D8AAAAAAADwPwAAAAAAAPA/AAAAAAAA8D8AAAAAAADwPwAAAAAAAPA/AAAAAAAA8D8AAAAAAADwPwAAAAAAAPA/AAAAAAAA8D8AAAAAAADwPwAAAAAAAPA/AAAAAAAA8D8AAAAAAADwPwAAAAAAAPA/AAAAAAAA8D8AAAAAAADwPwAAAAAAAPA/AAAAAAAA8D8AAAAAAADwPwAAAAAAAPA/AAAAAAAA8D8AAAAAAADwPwAAAAAAAPA/AAAAAAAA8D8AAAAAAADwPwAAAAAAAPA/AAAAAAAA8D8AAAAAAADwPwAAAAAAAPA/AAAAAAAA8D8AAAAAAADwPwAAAAAAAPA/\",\"dtype\":\"float64\",\"order\":\"little\",\"shape\":[114]},\"recall\":{\"__ndarray__\":\"AAAAAAAA8D8UO7ETO7HvPxQ7sRM7se8/J3ZiJ3Zi7z8ndmIndmLvPzuxEzuxE+8/O7ETO7ET7z9P7MRO7MTuP0/sxE7sxO4/T+zETuzE7j9P7MRO7MTuP0/sxE7sxO4/T+zETuzE7j9iJ3ZiJ3buP2IndmIndu4/ip3YiZ3Y7T+KndiJndjtP7ITO7ETO+0/shM7sRM77T/YiZ3YiZ3sP9iJndiJnew/AAAAAAAA7D8AAAAAAADsPyh2Yid2Yus/KHZiJ3Zi6z9O7MRO7MTqP07sxE7sxOo/dmIndmIn6j92Yid2YifqP57YiZ3Yiek/ntiJndiJ6T/FTuzETuzoP8VO7MRO7Og/7MRO7MRO6D/sxE7sxE7oPxQ7sRM7sec/FDuxEzux5z87sRM7sRPnPzuxEzuxE+c/Yid2Yid25j9iJ3ZiJ3bmP4qd2Imd2OU/ip3YiZ3Y5T+yEzuxEzvlP7ITO7ETO+U/2Imd2Imd5D/YiZ3YiZ3kPwAAAAAAAOQ/AAAAAAAA5D8odmIndmLjPyh2Yid2YuM/TuzETuzE4j9O7MRO7MTiP3ZiJ3ZiJ+I/dmIndmIn4j+e2Imd2InhP57YiZ3YieE/xU7sxE7s4D/FTuzETuzgP+zETuzETuA/7MRO7MRO4D8odmIndmLfPyh2Yid2Yt8/dmIndmIn3j92Yid2YifeP8VO7MRO7Nw/xU7sxE7s3D8UO7ETO7HbPxQ7sRM7sds/Yid2Yid22j9iJ3ZiJ3baP7ITO7ETO9k/shM7sRM72T8AAAAAAADYPwAAAAAAANg/TuzETuzE1j9O7MRO7MTWP57YiZ3YidU/ntiJndiJ1T/sxE7sxE7UP+zETuzETtQ/O7ETO7ET0z87sRM7sRPTP4qd2Imd2NE/ip3YiZ3Y0T/YiZ3YiZ3QP9iJndiJndA/T+zETuzEzj9P7MRO7MTOP+zETuzETsw/7MRO7MROzD+KndiJndjJP4qd2Imd2Mk/KHZiJ3Zixz8odmIndmLHP8VO7MRO7MQ/xU7sxE7sxD9iJ3ZiJ3bCP2IndmIndsI/AAAAAAAAwD8AAAAAAADAPzyxEzuxE7s/PLETO7ETuz92Yid2Yie2P3ZiJ3ZiJ7Y/shM7sRM7sT+yEzuxEzuxP9mJndiJnag/2Ymd2ImdqD+e2Imd2ImdP57YiZ3YiZ0/FDuxEzuxgz8UO7ETO7GDPwAAAAAAAAAA\",\"dtype\":\"float64\",\"order\":\"little\",\"shape\":[114]}},\"selected\":{\"id\":\"4849\"},\"selection_policy\":{\"id\":\"4881\"}},\"id\":\"4848\",\"type\":\"ColumnDataSource\"},{\"attributes\":{\"line_color\":\"#e5ae38\",\"line_width\":2,\"x\":{\"field\":\"recall\"},\"y\":{\"field\":\"precision\"}},\"id\":\"4641\",\"type\":\"Line\"},{\"attributes\":{\"data\":{\"name_class\":[\"ISFP\",\"ISFP\",\"ISFP\",\"ISFP\",\"ISFP\",\"ISFP\",\"ISFP\",\"ISFP\",\"ISFP\",\"ISFP\",\"ISFP\",\"ISFP\",\"ISFP\",\"ISFP\",\"ISFP\",\"ISFP\",\"ISFP\",\"ISFP\",\"ISFP\",\"ISFP\",\"ISFP\",\"ISFP\",\"ISFP\",\"ISFP\",\"ISFP\",\"ISFP\",\"ISFP\",\"ISFP\",\"ISFP\",\"ISFP\",\"ISFP\",\"ISFP\",\"ISFP\",\"ISFP\",\"ISFP\",\"ISFP\",\"ISFP\",\"ISFP\",\"ISFP\",\"ISFP\",\"ISFP\",\"ISFP\",\"ISFP\",\"ISFP\",\"ISFP\",\"ISFP\",\"ISFP\",\"ISFP\",\"ISFP\",\"ISFP\",\"ISFP\",\"ISFP\",\"ISFP\",\"ISFP\",\"ISFP\",\"ISFP\",\"ISFP\",\"ISFP\"],\"precision\":{\"__ndarray__\":\"t23btm3b7j+3bdu2bdvuPwntJbSX0O4/Ce0ltJfQ7j9P7MRO7MTuP0/sxE7sxO4/AAAAAAAA8D8AAAAAAADwPwAAAAAAAPA/AAAAAAAA8D8AAAAAAADwPwAAAAAAAPA/AAAAAAAA8D8AAAAAAADwPwAAAAAAAPA/AAAAAAAA8D8AAAAAAADwPwAAAAAAAPA/AAAAAAAA8D8AAAAAAADwPwAAAAAAAPA/AAAAAAAA8D8AAAAAAADwPwAAAAAAAPA/AAAAAAAA8D8AAAAAAADwPwAAAAAAAPA/AAAAAAAA8D8AAAAAAADwPwAAAAAAAPA/AAAAAAAA8D8AAAAAAADwPwAAAAAAAPA/AAAAAAAA8D8AAAAAAADwPwAAAAAAAPA/AAAAAAAA8D8AAAAAAADwPwAAAAAAAPA/AAAAAAAA8D8AAAAAAADwPwAAAAAAAPA/AAAAAAAA8D8AAAAAAADwPwAAAAAAAPA/AAAAAAAA8D8AAAAAAADwPwAAAAAAAPA/AAAAAAAA8D8AAAAAAADwPwAAAAAAAPA/AAAAAAAA8D8AAAAAAADwPwAAAAAAAPA/AAAAAAAA8D8AAAAAAADwPwAAAAAAAPA/AAAAAAAA8D8=\",\"dtype\":\"float64\",\"order\":\"little\",\"shape\":[58]},\"recall\":{\"__ndarray__\":\"AAAAAAAA8D+E9hLaS2jvP4T2EtpLaO8/juM4juM47j+O4ziO4zjuPxPaS2gvoe0/E9pLaC+h7T+Y0F5CewntP5jQXkJ7Ce0/ob2E9hLa6z+hvYT2EtrrP6qqqqqqquo/qqqqqqqq6j+0l9BeQnvpP7SX0F5Ce+k/voT2EtpL6D++hPYS2kvoP8dxHMdxHOc/x3Ecx3Ec5z/QXkJ7Ce3lP9BeQnsJ7eU/2ktoL6G95D/aS2gvob3kP+Q4juM4juM/5DiO4ziO4z/tJbSX0F7iP+0ltJfQXuI/9hLaS2gv4T/2EtpLaC/hPwAAAAAAAOA/AAAAAAAA4D8S2ktoL6HdPxLaS2gvod0/JrSX0F5C2z8mtJfQXkLbPziO4ziO49g/OI7jOI7j2D9MaC+hvYTWP0xoL6G9hNY/XkJ7Ce0l1D9eQnsJ7SXUP3Icx3Ecx9E/chzHcRzH0T8J7SW0l9DOPwntJbSX0M4/L6G9hPYSyj8vob2E9hLKP1VVVVVVVcU/VVVVVVVVxT97Ce0ltJfAP3sJ7SW0l8A/QnsJ7SW0tz9CewntJbS3PxzHcRzHcaw/HMdxHMdxrD9oL6G9hPaSP2gvob2E9pI/AAAAAAAAAAA=\",\"dtype\":\"float64\",\"order\":\"little\",\"shape\":[58]}},\"selected\":{\"id\":\"5013\"},\"selection_policy\":{\"id\":\"5053\"}},\"id\":\"5012\",\"type\":\"ColumnDataSource\"},{\"attributes\":{},\"id\":\"4689\",\"type\":\"Selection\"},{\"attributes\":{},\"id\":\"4813\",\"type\":\"Selection\"},{\"attributes\":{\"tools\":[{\"id\":\"4543\"},{\"id\":\"4576\"},{\"id\":\"4577\"},{\"id\":\"4578\"},{\"id\":\"4579\"},{\"id\":\"4580\"}]},\"id\":\"4582\",\"type\":\"Toolbar\"},{\"attributes\":{\"line_alpha\":0.2,\"line_color\":\"#6d904f\",\"line_width\":2,\"x\":{\"field\":\"recall\"},\"y\":{\"field\":\"precision\"}},\"id\":\"4667\",\"type\":\"Line\"},{\"attributes\":{\"line_alpha\":0.2,\"line_color\":\"#fc4f30\",\"line_width\":2,\"x\":{\"field\":\"recall\"},\"y\":{\"field\":\"precision\"}},\"id\":\"5017\",\"type\":\"Line\"},{\"attributes\":{\"line_alpha\":0.2,\"line_color\":\"#e5ae38\",\"line_width\":2,\"x\":{\"field\":\"recall\"},\"y\":{\"field\":\"precision\"}},\"id\":\"5063\",\"type\":\"Line\"},{\"attributes\":{\"data\":{\"name_class\":[\"ESFJ\",\"ESFJ\",\"ESFJ\",\"ESFJ\",\"ESFJ\",\"ESFJ\",\"ESFJ\",\"ESFJ\",\"ESFJ\",\"ESFJ\",\"ESFJ\",\"ESFJ\",\"ESFJ\",\"ESFJ\",\"ESFJ\",\"ESFJ\",\"ESFJ\",\"ESFJ\",\"ESFJ\",\"ESFJ\",\"ESFJ\",\"ESFJ\",\"ESFJ\",\"ESFJ\",\"ESFJ\",\"ESFJ\",\"ESFJ\",\"ESFJ\",\"ESFJ\",\"ESFJ\",\"ESFJ\",\"ESFJ\",\"ESFJ\",\"ESFJ\",\"ESFJ\",\"ESFJ\",\"ESFJ\",\"ESFJ\",\"ESFJ\",\"ESFJ\",\"ESFJ\",\"ESFJ\",\"ESFJ\",\"ESFJ\",\"ESFJ\",\"ESFJ\",\"ESFJ\",\"ESFJ\",\"ESFJ\",\"ESFJ\",\"ESFJ\",\"ESFJ\",\"ESFJ\",\"ESFJ\",\"ESFJ\",\"ESFJ\",\"ESFJ\",\"ESFJ\",\"ESFJ\",\"ESFJ\",\"ESFJ\",\"ESFJ\",\"ESFJ\",\"ESFJ\",\"ESFJ\",\"ESFJ\",\"ESFJ\",\"ESFJ\",\"ESFJ\",\"ESFJ\",\"ESFJ\",\"ESFJ\",\"ESFJ\",\"ESFJ\",\"ESFJ\",\"ESFJ\",\"ESFJ\",\"ESFJ\",\"ESFJ\",\"ESFJ\",\"ESFJ\",\"ESFJ\",\"ESFJ\",\"ESFJ\",\"ESFJ\",\"ESFJ\",\"ESFJ\",\"ESFJ\",\"ESFJ\",\"ESFJ\",\"ESFJ\",\"ESFJ\",\"ESFJ\",\"ESFJ\",\"ESFJ\",\"ESFJ\",\"ESFJ\",\"ESFJ\",\"ESFJ\",\"ESFJ\",\"ESFJ\",\"ESFJ\",\"ESFJ\",\"ESFJ\",\"ESFJ\",\"ESFJ\",\"ESFJ\",\"ESFJ\",\"ESFJ\",\"ESFJ\",\"ESFJ\",\"ESFJ\",\"ESFJ\",\"ESFJ\",\"ESFJ\",\"ESFJ\",\"ESFJ\",\"ESFJ\",\"ESFJ\",\"ESFJ\",\"ESFJ\",\"ESFJ\",\"ESFJ\",\"ESFJ\",\"ESFJ\",\"ESFJ\",\"ESFJ\",\"ESFJ\",\"ESFJ\",\"ESFJ\",\"ESFJ\",\"ESFJ\",\"ESFJ\",\"ESFJ\",\"ESFJ\",\"ESFJ\",\"ESFJ\",\"ESFJ\",\"ESFJ\",\"ESFJ\",\"ESFJ\",\"ESFJ\",\"ESFJ\",\"ESFJ\",\"ESFJ\",\"ESFJ\",\"ESFJ\",\"ESFJ\",\"ESFJ\",\"ESFJ\",\"ESFJ\",\"ESFJ\",\"ESFJ\",\"ESFJ\",\"ESFJ\",\"ESFJ\",\"ESFJ\",\"ESFJ\",\"ESFJ\",\"ESFJ\",\"ESFJ\",\"ESFJ\",\"ESFJ\",\"ESFJ\",\"ESFJ\",\"ESFJ\",\"ESFJ\",\"ESFJ\",\"ESFJ\",\"ESFJ\",\"ESFJ\",\"ESFJ\",\"ESFJ\",\"ESFJ\",\"ESFJ\",\"ESFJ\",\"ESFJ\",\"ESFJ\",\"ESFJ\",\"ESFJ\",\"ESFJ\",\"ESFJ\",\"ESFJ\",\"ESFJ\",\"ESFJ\",\"ESFJ\",\"ESFJ\",\"ESFJ\",\"ESFJ\",\"ESFJ\",\"ESFJ\",\"ESFJ\",\"ESFJ\",\"ESFJ\",\"ESFJ\",\"ESFJ\",\"ESFJ\",\"ESFJ\",\"ESFJ\",\"ESFJ\",\"ESFJ\",\"ESFJ\",\"ESFJ\",\"ESFJ\",\"ESFJ\",\"ESFJ\",\"ESFJ\",\"ESFJ\",\"ESFJ\",\"ESFJ\",\"ESFJ\",\"ESFJ\",\"ESFJ\",\"ESFJ\",\"ESFJ\",\"ESFJ\",\"ESFJ\",\"ESFJ\",\"ESFJ\",\"ESFJ\",\"ESFJ\",\"ESFJ\",\"ESFJ\",\"ESFJ\",\"ESFJ\",\"ESFJ\",\"ESFJ\",\"ESFJ\",\"ESFJ\",\"ESFJ\",\"ESFJ\",\"ESFJ\",\"ESFJ\",\"ESFJ\",\"ESFJ\",\"ESFJ\",\"ESFJ\",\"ESFJ\",\"ESFJ\",\"ESFJ\",\"ESFJ\",\"ESFJ\",\"ESFJ\",\"ESFJ\",\"ESFJ\",\"ESFJ\",\"ESFJ\",\"ESFJ\",\"ESFJ\",\"ESFJ\",\"ESFJ\",\"ESFJ\",\"ESFJ\",\"ESFJ\",\"ESFJ\",\"ESFJ\",\"ESFJ\",\"ESFJ\",\"ESFJ\",\"ESFJ\",\"ESFJ\",\"ESFJ\",\"ESFJ\",\"ESFJ\",\"ESFJ\",\"ESFJ\",\"ESFJ\",\"ESFJ\",\"ESFJ\",\"ESFJ\",\"ESFJ\",\"ESFJ\",\"ESFJ\",\"ESFJ\",\"ESFJ\",\"ESFJ\",\"ESFJ\",\"ESFJ\",\"ESFJ\",\"ESFJ\",\"ESFJ\",\"ESFJ\",\"ESFJ\",\"ESFJ\",\"ESFJ\",\"ESFJ\",\"ESFJ\",\"ESFJ\",\"ESFJ\",\"ESFJ\",\"ESFJ\",\"ESFJ\",\"ESFJ\",\"ESFJ\",\"ESFJ\",\"ESFJ\",\"ESFJ\",\"ESFJ\",\"ESFJ\",\"ESFJ\",\"ESFJ\",\"ESFJ\",\"ESFJ\",\"ESFJ\",\"ESFJ\",\"ESFJ\",\"ESFJ\",\"ESFJ\",\"ESFJ\",\"ESFJ\",\"ESFJ\",\"ESFJ\",\"ESFJ\",\"ESFJ\",\"ESFJ\",\"ESFJ\",\"ESFJ\",\"ESFJ\",\"ESFJ\",\"ESFJ\",\"ESFJ\",\"ESFJ\",\"ESFJ\",\"ESFJ\",\"ESFJ\",\"ESFJ\",\"ESFJ\",\"ESFJ\",\"ESFJ\",\"ESFJ\",\"ESFJ\",\"ESFJ\",\"ESFJ\",\"ESFJ\",\"ESFJ\",\"ESFJ\",\"ESFJ\",\"ESFJ\",\"ESFJ\",\"ESFJ\",\"ESFJ\",\"ESFJ\",\"ESFJ\",\"ESFJ\",\"ESFJ\",\"ESFJ\",\"ESFJ\",\"ESFJ\",\"ESFJ\",\"ESFJ\",\"ESFJ\",\"ESFJ\",\"ESFJ\",\"ESFJ\",\"ESFJ\",\"ESFJ\",\"ESFJ\",\"ESFJ\",\"ESFJ\",\"ESFJ\",\"ESFJ\",\"ESFJ\",\"ESFJ\",\"ESFJ\",\"ESFJ\",\"ESFJ\"],\"precision\":{\"__ndarray__\":\"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\",\"dtype\":\"float64\",\"order\":\"little\",\"shape\":[366]},\"recall\":{\"__ndarray__\":\"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\",\"dtype\":\"float64\",\"order\":\"little\",\"shape\":[366]}},\"selected\":{\"id\":\"4689\"},\"selection_policy\":{\"id\":\"4711\"}},\"id\":\"4688\",\"type\":\"ColumnDataSource\"},{\"attributes\":{\"coordinates\":null,\"data_source\":{\"id\":\"5058\"},\"glyph\":{\"id\":\"5061\"},\"group\":null,\"hover_glyph\":null,\"muted_glyph\":{\"id\":\"5063\"},\"nonselection_glyph\":{\"id\":\"5062\"},\"selection_glyph\":{\"id\":\"5105\"},\"view\":{\"id\":\"5065\"}},\"id\":\"5064\",\"type\":\"GlyphRenderer\"},{\"attributes\":{\"reset_end\":1.0,\"reset_start\":0.0,\"tags\":[[[\"recall\",\"recall\",null]]]},\"id\":\"4541\",\"type\":\"Range1d\"},{\"attributes\":{\"line_alpha\":0.1,\"line_color\":\"#e5ae38\",\"line_width\":2,\"x\":{\"field\":\"recall\"},\"y\":{\"field\":\"precision\"}},\"id\":\"4642\",\"type\":\"Line\"},{\"attributes\":{\"coordinates\":null,\"data_source\":{\"id\":\"5106\"},\"glyph\":{\"id\":\"5109\"},\"group\":null,\"hover_glyph\":null,\"muted_glyph\":{\"id\":\"5111\"},\"nonselection_glyph\":{\"id\":\"5110\"},\"selection_glyph\":{\"id\":\"5155\"},\"view\":{\"id\":\"5113\"}},\"id\":\"5112\",\"type\":\"GlyphRenderer\"},{\"attributes\":{\"line_color\":\"#8c564b\",\"line_width\":2,\"x\":{\"field\":\"recall\"},\"y\":{\"field\":\"precision\"}},\"id\":\"4925\",\"type\":\"Line\"},{\"attributes\":{\"line_color\":\"#30a2da\",\"line_width\":2,\"x\":{\"field\":\"recall\"},\"y\":{\"field\":\"precision\"}},\"id\":\"4598\",\"type\":\"Line\"},{\"attributes\":{\"label\":{\"value\":\"ISFP\"},\"renderers\":[{\"id\":\"5018\"}]},\"id\":\"5056\",\"type\":\"LegendItem\"},{\"attributes\":{\"line_color\":\"#fc4f30\",\"line_width\":2,\"x\":{\"field\":\"recall\"},\"y\":{\"field\":\"precision\"}},\"id\":\"5015\",\"type\":\"Line\"},{\"attributes\":{\"line_alpha\":0.2,\"line_color\":\"#6d904f\",\"line_width\":2,\"x\":{\"field\":\"recall\"},\"y\":{\"field\":\"precision\"}},\"id\":\"5111\",\"type\":\"Line\"},{\"attributes\":{},\"id\":\"4639\",\"type\":\"Selection\"},{\"attributes\":{\"line_alpha\":0.2,\"line_color\":\"#bcbd22\",\"line_width\":2,\"x\":{\"field\":\"recall\"},\"y\":{\"field\":\"precision\"}},\"id\":\"4931\",\"type\":\"Line\"},{\"attributes\":{\"coordinates\":null,\"data_source\":{\"id\":\"4638\"},\"glyph\":{\"id\":\"4641\"},\"group\":null,\"hover_glyph\":null,\"muted_glyph\":{\"id\":\"4643\"},\"nonselection_glyph\":{\"id\":\"4642\"},\"selection_glyph\":{\"id\":\"4661\"},\"view\":{\"id\":\"4645\"}},\"id\":\"4644\",\"type\":\"GlyphRenderer\"},{\"attributes\":{\"line_color\":\"#e5ae38\",\"line_width\":2,\"x\":{\"field\":\"recall\"},\"y\":{\"field\":\"precision\"}},\"id\":\"5061\",\"type\":\"Line\"},{\"attributes\":{\"data\":{\"name_class\":[\"INTP\",\"INTP\",\"INTP\",\"INTP\",\"INTP\",\"INTP\",\"INTP\",\"INTP\",\"INTP\",\"INTP\",\"INTP\",\"INTP\",\"INTP\",\"INTP\",\"INTP\",\"INTP\",\"INTP\",\"INTP\",\"INTP\",\"INTP\",\"INTP\",\"INTP\",\"INTP\",\"INTP\",\"INTP\",\"INTP\",\"INTP\",\"INTP\",\"INTP\",\"INTP\",\"INTP\",\"INTP\",\"INTP\",\"INTP\",\"INTP\",\"INTP\",\"INTP\",\"INTP\",\"INTP\",\"INTP\",\"INTP\",\"INTP\",\"INTP\",\"INTP\",\"INTP\",\"INTP\",\"INTP\",\"INTP\",\"INTP\",\"INTP\",\"INTP\",\"INTP\",\"INTP\",\"INTP\",\"INTP\",\"INTP\",\"INTP\",\"INTP\",\"INTP\",\"INTP\",\"INTP\",\"INTP\",\"INTP\",\"INTP\",\"INTP\",\"INTP\",\"INTP\",\"INTP\",\"INTP\",\"INTP\",\"INTP\",\"INTP\",\"INTP\",\"INTP\",\"INTP\",\"INTP\",\"INTP\",\"INTP\",\"INTP\",\"INTP\",\"INTP\",\"INTP\",\"INTP\",\"INTP\",\"INTP\",\"INTP\",\"INTP\",\"INTP\",\"INTP\",\"INTP\",\"INTP\",\"INTP\",\"INTP\",\"INTP\",\"INTP\",\"INTP\",\"INTP\",\"INTP\",\"INTP\",\"INTP\",\"INTP\",\"INTP\",\"INTP\",\"INTP\",\"INTP\",\"INTP\",\"INTP\",\"INTP\",\"INTP\",\"INTP\",\"INTP\",\"INTP\",\"INTP\",\"INTP\",\"INTP\",\"INTP\",\"INTP\",\"INTP\",\"INTP\",\"INTP\",\"INTP\",\"INTP\",\"INTP\",\"INTP\",\"INTP\",\"INTP\",\"INTP\",\"INTP\",\"INTP\",\"INTP\",\"INTP\",\"INTP\",\"INTP\",\"INTP\",\"INTP\",\"INTP\",\"INTP\",\"INTP\"],\"precision\":{\"__ndarray__\":\"LS0tLS0t7T8tLS0tLS3tP85u4VdjIu0/zm7hV2Mi7T+TTTbZZJPtP5NNNtlkk+0/fuAHfuAH7j9+4Ad+4AfuPwAAAAAAgO4/AAAAAACA7j+/7/u+7/vuP7/v+77v++4/fO+999577z9877333nvvPwAAAAAAAPA/AAAAAAAA8D8AAAAAAADwPwAAAAAAAPA/AAAAAAAA8D8AAAAAAADwPwAAAAAAAPA/AAAAAAAA8D8AAAAAAADwPwAAAAAAAPA/AAAAAAAA8D8AAAAAAADwPwAAAAAAAPA/AAAAAAAA8D8AAAAAAADwPwAAAAAAAPA/AAAAAAAA8D8AAAAAAADwPwAAAAAAAPA/AAAAAAAA8D8AAAAAAADwPwAAAAAAAPA/AAAAAAAA8D8AAAAAAADwPwAAAAAAAPA/AAAAAAAA8D8AAAAAAADwPwAAAAAAAPA/AAAAAAAA8D8AAAAAAADwPwAAAAAAAPA/AAAAAAAA8D8AAAAAAADwPwAAAAAAAPA/AAAAAAAA8D8AAAAAAADwPwAAAAAAAPA/AAAAAAAA8D8AAAAAAADwPwAAAAAAAPA/AAAAAAAA8D8AAAAAAADwPwAAAAAAAPA/AAAAAAAA8D8AAAAAAADwPwAAAAAAAPA/AAAAAAAA8D8AAAAAAADwPwAAAAAAAPA/AAAAAAAA8D8AAAAAAADwPwAAAAAAAPA/AAAAAAAA8D8AAAAAAADwPwAAAAAAAPA/AAAAAAAA8D8AAAAAAADwPwAAAAAAAPA/AAAAAAAA8D8AAAAAAADwPwAAAAAAAPA/AAAAAAAA8D8AAAAAAADwPwAAAAAAAPA/AAAAAAAA8D8AAAAAAADwPwAAAAAAAPA/AAAAAAAA8D8AAAAAAADwPwAAAAAAAPA/AAAAAAAA8D8AAAAAAADwPwAAAAAAAPA/AAAAAAAA8D8AAAAAAADwPwAAAAAAAPA/AAAAAAAA8D8AAAAAAADwPwAAAAAAAPA/AAAAAAAA8D8AAAAAAADwPwAAAAAAAPA/AAAAAAAA8D8AAAAAAADwPwAAAAAAAPA/AAAAAAAA8D8AAAAAAADwPwAAAAAAAPA/AAAAAAAA8D8AAAAAAADwPwAAAAAAAPA/AAAAAAAA8D8AAAAAAADwPwAAAAAAAPA/AAAAAAAA8D8AAAAAAADwPwAAAAAAAPA/AAAAAAAA8D8AAAAAAADwPwAAAAAAAPA/AAAAAAAA8D8AAAAAAADwPwAAAAAAAPA/AAAAAAAA8D8AAAAAAADwPwAAAAAAAPA/AAAAAAAA8D8AAAAAAADwPwAAAAAAAPA/AAAAAAAA8D8AAAAAAADwPwAAAAAAAPA/AAAAAAAA8D8AAAAAAADwPwAAAAAAAPA/AAAAAAAA8D8AAAAAAADwPwAAAAAAAPA/AAAAAAAA8D8AAAAAAADwPwAAAAAAAPA/AAAAAAAA8D8AAAAAAADwPwAAAAAAAPA/\",\"dtype\":\"float64\",\"order\":\"little\",\"shape\":[138]},\"recall\":{\"__ndarray__\":\"AAAAAAAA8D++9957773vP7733nvvve8/fO+999577z9877333nvvP3zvvffee+8/fO+999577z9877333nvvP3zvvffee+8/fO+999577z9877333nvvP3zvvffee+8/fO+999577z9877333nvvP3zvvffee+8/Ouecc8457z8655xzzjnvP7bWWmutte4/ttZaa6217j8yxhhjjDHuPzLGGGOMMe4/rbXWWmut7T+ttdZaa63tPymllFJKKe0/KaWUUkop7T+llFJKKaXsP6WUUkoppew/IYQQQggh7D8hhBBCCCHsP51zzjnnnOs/nXPOOeec6z8ZY4wxxhjrPxljjDHGGOs/lVJKKaWU6j+VUkoppZTqPxBCCCGEEOo/EEIIIYQQ6j+MMcYYY4zpP4wxxhhjjOk/CCGEEEII6T8IIYQQQgjpP4QQQgghhOg/hBBCCCGE6D8AAAAAAADoPwAAAAAAAOg/fO+999575z9877333nvnP/jee++99+Y/+N5777335j90zjnnnHPmP3TOOeecc+Y/8L333nvv5T/wvffee+/lP2uttdZaa+U/a6211lpr5T/nnHPOOefkP+ecc8455+Q/Y4wxxhhj5D9jjDHGGGPkP99777333uM/33vvvffe4z9ba6211lrjP1trrbXWWuM/11prrbXW4j/XWmuttdbiP1NKKaWUUuI/U0oppZRS4j/OOeecc87hP84555xzzuE/SimllFJK4T9KKaWUUkrhP8YYY4wxxuA/xhhjjDHG4D9CCCGEEELgP0IIIYQQQuA/fO+999573z9877333nvfP3TOOeecc94/dM4555xz3j9rrbXWWmvdP2uttdZaa90/Y4wxxhhj3D9jjDHGGGPcP1trrbXWWts/W2uttdZa2z9SSimllFLaP1JKKaWUUto/SimllFJK2T9KKaWUUkrZP0IIIYQQQtg/QgghhBBC2D8655xzzjnXPzrnnHPOOdc/MsYYY4wx1j8yxhhjjDHWPymllFJKKdU/KaWUUkop1T8hhBBCCCHUPyGEEEIIIdQ/GWOMMcYY0z8ZY4wxxhjTPxBCCCGEENI/EEIIIYQQ0j8IIYQQQgjRPwghhBBCCNE/AAAAAAAA0D8AAAAAAADQP/C99957780/8L333nvvzT/fe++9997LP99777333ss/zjnnnHPOyT/OOeecc87JP7733nvvvcc/vvfee++9xz+utdZaa63FP6611lprrcU/nXPOOeecwz+dc84555zDP4wxxhhjjME/jDHGGGOMwT/43nvvvfe+P/jee++9974/1lprrbXWuj/WWmuttda6P7bWWmuttbY/ttZaa621tj+UUkoppZSyP5RSSimllLI/55xzzjnnrD/nnHPOOeesP6WUUkoppaQ/pZRSSimlpD/GGGOMMcaYP8YYY4wxxpg/hBBCCCGEgD+EEEIIIYSAPwAAAAAAAAAA\",\"dtype\":\"float64\",\"order\":\"little\",\"shape\":[138]}},\"selected\":{\"id\":\"4927\"},\"selection_policy\":{\"id\":\"4963\"}},\"id\":\"4926\",\"type\":\"ColumnDataSource\"},{\"attributes\":{\"label\":{\"value\":\"ISTP\"},\"renderers\":[{\"id\":\"5112\"}]},\"id\":\"5154\",\"type\":\"LegendItem\"},{\"attributes\":{},\"id\":\"5053\",\"type\":\"UnionRenderers\"},{\"attributes\":{},\"id\":\"5151\",\"type\":\"UnionRenderers\"},{\"attributes\":{\"line_color\":\"#6d904f\",\"line_width\":2,\"x\":{\"field\":\"recall\"},\"y\":{\"field\":\"precision\"}},\"id\":\"4687\",\"type\":\"Line\"},{\"attributes\":{\"label\":{\"value\":\"ESFJ\"},\"renderers\":[{\"id\":\"4694\"}]},\"id\":\"4714\",\"type\":\"LegendItem\"},{\"attributes\":{\"line_color\":\"#e5ae38\",\"line_width\":2,\"x\":{\"field\":\"recall\"},\"y\":{\"field\":\"precision\"}},\"id\":\"4661\",\"type\":\"Line\"},{\"attributes\":{\"line_alpha\":0.1,\"line_color\":\"#fc4f30\",\"line_width\":2,\"x\":{\"field\":\"recall\"},\"y\":{\"field\":\"precision\"}},\"id\":\"5016\",\"type\":\"Line\"},{\"attributes\":{\"callback\":null,\"renderers\":[{\"id\":\"4601\"},{\"id\":\"4622\"},{\"id\":\"4644\"},{\"id\":\"4668\"},{\"id\":\"4694\"},{\"id\":\"4722\"},{\"id\":\"4752\"},{\"id\":\"4784\"},{\"id\":\"4818\"},{\"id\":\"4854\"},{\"id\":\"4892\"},{\"id\":\"4932\"},{\"id\":\"4974\"},{\"id\":\"5018\"},{\"id\":\"5064\"},{\"id\":\"5112\"}],\"tags\":[\"hv_created\"],\"tooltips\":[[\"name_class\",\"@{name_class}\"],[\"recall\",\"@{recall}\"],[\"precision\",\"@{precision}\"]]},\"id\":\"4543\",\"type\":\"HoverTool\"},{\"attributes\":{\"data\":{\"name_class\":[\"ESFP\",\"ESFP\",\"ESFP\",\"ESFP\",\"ESFP\",\"ESFP\",\"ESFP\",\"ESFP\",\"ESFP\",\"ESFP\",\"ESFP\",\"ESFP\",\"ESFP\",\"ESFP\",\"ESFP\",\"ESFP\",\"ESFP\",\"ESFP\",\"ESFP\",\"ESFP\",\"ESFP\",\"ESFP\",\"ESFP\",\"ESFP\",\"ESFP\",\"ESFP\",\"ESFP\",\"ESFP\",\"ESFP\",\"ESFP\",\"ESFP\",\"ESFP\",\"ESFP\",\"ESFP\",\"ESFP\",\"ESFP\",\"ESFP\",\"ESFP\",\"ESFP\",\"ESFP\",\"ESFP\",\"ESFP\",\"ESFP\",\"ESFP\",\"ESFP\",\"ESFP\",\"ESFP\",\"ESFP\",\"ESFP\",\"ESFP\",\"ESFP\",\"ESFP\",\"ESFP\",\"ESFP\",\"ESFP\",\"ESFP\",\"ESFP\",\"ESFP\",\"ESFP\",\"ESFP\",\"ESFP\",\"ESFP\",\"ESFP\",\"ESFP\",\"ESFP\",\"ESFP\",\"ESFP\",\"ESFP\",\"ESFP\",\"ESFP\",\"ESFP\",\"ESFP\",\"ESFP\",\"ESFP\",\"ESFP\",\"ESFP\",\"ESFP\",\"ESFP\",\"ESFP\",\"ESFP\"],\"precision\":{\"__ndarray__\":\"vuVbvuVb7j++5Vu+5VvuPw3lNZTXUO4/DeU1lNdQ7j8q8lk3mCLvPyryWTeYIu8/AAAAAAAA8D8AAAAAAADwPwAAAAAAAPA/AAAAAAAA8D8AAAAAAADwPwAAAAAAAPA/AAAAAAAA8D8AAAAAAADwPwAAAAAAAPA/AAAAAAAA8D8AAAAAAADwPwAAAAAAAPA/AAAAAAAA8D8AAAAAAADwPwAAAAAAAPA/AAAAAAAA8D8AAAAAAADwPwAAAAAAAPA/AAAAAAAA8D8AAAAAAADwPwAAAAAAAPA/AAAAAAAA8D8AAAAAAADwPwAAAAAAAPA/AAAAAAAA8D8AAAAAAADwPwAAAAAAAPA/AAAAAAAA8D8AAAAAAADwPwAAAAAAAPA/AAAAAAAA8D8AAAAAAADwPwAAAAAAAPA/AAAAAAAA8D8AAAAAAADwPwAAAAAAAPA/AAAAAAAA8D8AAAAAAADwPwAAAAAAAPA/AAAAAAAA8D8AAAAAAADwPwAAAAAAAPA/AAAAAAAA8D8AAAAAAADwPwAAAAAAAPA/AAAAAAAA8D8AAAAAAADwPwAAAAAAAPA/AAAAAAAA8D8AAAAAAADwPwAAAAAAAPA/AAAAAAAA8D8AAAAAAADwPwAAAAAAAPA/AAAAAAAA8D8AAAAAAADwPwAAAAAAAPA/AAAAAAAA8D8AAAAAAADwPwAAAAAAAPA/AAAAAAAA8D8AAAAAAADwPwAAAAAAAPA/AAAAAAAA8D8AAAAAAADwPwAAAAAAAPA/AAAAAAAA8D8AAAAAAADwPwAAAAAAAPA/AAAAAAAA8D8AAAAAAADwPwAAAAAAAPA/AAAAAAAA8D8AAAAAAADwPw==\",\"dtype\":\"float64\",\"order\":\"little\",\"shape\":[80]},\"recall\":{\"__ndarray__\":\"AAAAAAAA8D8V+awbTJHvPxX5rBtMke8/KvJZN5gi7z8q8lk3mCLvPyryWTeYIu8/KvJZN5gi7z8+6wZT5LPuPz7rBlPks+4/aN1ginzW7T9o3WCKfNbtP5LPusEU+ew/ks+6wRT57D+7wRT5rBvsP7vBFPmsG+w/5LNuMEU+6z/ks24wRT7rPw6myGfdYOo/DqbIZ91g6j84mCKfdYPpPziYIp91g+k/YYp81g2m6D9hinzWDaboP4p81g2myOc/inzWDabI5z+0bjBFPuvmP7RuMEU+6+Y/3mCKfNYN5j/eYIp81g3mPwdT5LNuMOU/B1Pks24w5T8wRT7rBlPkPzBFPusGU+Q/WjeYIp914z9aN5gin3XjP4Qp8lk3mOI/hCnyWTeY4j+tG0yRz7rhP60bTJHPuuE/1g2myGfd4D/WDabIZ93gPwAAAAAAAOA/AAAAAAAA4D9U5LNuMEXeP1Tks24wRd4/pshn3WCK3D+myGfdYIrcP/qsG0yRz9o/+qwbTJHP2j9Mkc+6wRTZP0yRz7rBFNk/oHWDKfJZ1z+gdYMp8lnXP/JZN5gin9U/8lk3mCKf1T9GPusGU+TTP0Y+6wZT5NM/mCKfdYMp0j+YIp91gynSP+wGU+SzbtA/7AZT5LNu0D991g2myGfNP33WDabIZ80/I591gynyyT8jn3WDKfLJP8ln3WCKfMY/yWfdYIp8xj9vMEU+6wbDP28wRT7rBsM/KvJZN5givz8q8lk3mCK/P3aDKfJZN7g/doMp8lk3uD/CFPmsG0yxP8IU+awbTLE/HEyRz7rBpD8cTJHPusGkP9C6wRT5rIs/0LrBFPmsiz8AAAAAAAAAAA==\",\"dtype\":\"float64\",\"order\":\"little\",\"shape\":[80]}},\"selected\":{\"id\":\"4717\"},\"selection_policy\":{\"id\":\"4741\"}},\"id\":\"4716\",\"type\":\"ColumnDataSource\"},{\"attributes\":{\"line_color\":\"#1f77b4\",\"line_width\":2,\"x\":{\"field\":\"recall\"},\"y\":{\"field\":\"precision\"}},\"id\":\"4815\",\"type\":\"Line\"},{\"attributes\":{\"line_color\":\"#fc4f30\",\"line_width\":2,\"x\":{\"field\":\"recall\"},\"y\":{\"field\":\"precision\"}},\"id\":\"5057\",\"type\":\"Line\"},{\"attributes\":{\"line_alpha\":0.1,\"line_color\":\"#e5ae38\",\"line_width\":2,\"x\":{\"field\":\"recall\"},\"y\":{\"field\":\"precision\"}},\"id\":\"5062\",\"type\":\"Line\"},{\"attributes\":{\"line_alpha\":0.2,\"line_color\":\"#e5ae38\",\"line_width\":2,\"x\":{\"field\":\"recall\"},\"y\":{\"field\":\"precision\"}},\"id\":\"4643\",\"type\":\"Line\"},{\"attributes\":{\"line_alpha\":0.1,\"line_color\":\"#30a2da\",\"line_width\":2,\"x\":{\"field\":\"recall\"},\"y\":{\"field\":\"precision\"}},\"id\":\"4972\",\"type\":\"Line\"},{\"attributes\":{\"line_color\":\"#6d904f\",\"line_width\":2,\"x\":{\"field\":\"recall\"},\"y\":{\"field\":\"precision\"}},\"id\":\"5155\",\"type\":\"Line\"},{\"attributes\":{\"line_alpha\":0.2,\"line_color\":\"#1f77b4\",\"line_width\":2,\"x\":{\"field\":\"recall\"},\"y\":{\"field\":\"precision\"}},\"id\":\"4817\",\"type\":\"Line\"},{\"attributes\":{\"source\":{\"id\":\"5058\"}},\"id\":\"5065\",\"type\":\"CDSView\"},{\"attributes\":{},\"id\":\"4969\",\"type\":\"Selection\"},{\"attributes\":{},\"id\":\"5107\",\"type\":\"Selection\"},{\"attributes\":{\"source\":{\"id\":\"4688\"}},\"id\":\"4695\",\"type\":\"CDSView\"},{\"attributes\":{\"label\":{\"value\":\"INFJ\"},\"renderers\":[{\"id\":\"4818\"}]},\"id\":\"4846\",\"type\":\"LegendItem\"},{\"attributes\":{\"source\":{\"id\":\"4812\"}},\"id\":\"4819\",\"type\":\"CDSView\"},{\"attributes\":{\"line_color\":\"#8c564b\",\"line_width\":2,\"x\":{\"field\":\"recall\"},\"y\":{\"field\":\"precision\"}},\"id\":\"4889\",\"type\":\"Line\"},{\"attributes\":{\"data\":{\"name_class\":[\"ISTJ\",\"ISTJ\",\"ISTJ\",\"ISTJ\",\"ISTJ\",\"ISTJ\",\"ISTJ\",\"ISTJ\",\"ISTJ\",\"ISTJ\",\"ISTJ\",\"ISTJ\",\"ISTJ\",\"ISTJ\",\"ISTJ\",\"ISTJ\",\"ISTJ\",\"ISTJ\",\"ISTJ\",\"ISTJ\",\"ISTJ\",\"ISTJ\",\"ISTJ\",\"ISTJ\",\"ISTJ\",\"ISTJ\",\"ISTJ\",\"ISTJ\",\"ISTJ\",\"ISTJ\",\"ISTJ\",\"ISTJ\",\"ISTJ\",\"ISTJ\",\"ISTJ\",\"ISTJ\",\"ISTJ\",\"ISTJ\",\"ISTJ\",\"ISTJ\",\"ISTJ\",\"ISTJ\",\"ISTJ\",\"ISTJ\",\"ISTJ\",\"ISTJ\",\"ISTJ\",\"ISTJ\",\"ISTJ\",\"ISTJ\",\"ISTJ\",\"ISTJ\",\"ISTJ\",\"ISTJ\",\"ISTJ\",\"ISTJ\",\"ISTJ\",\"ISTJ\",\"ISTJ\",\"ISTJ\",\"ISTJ\",\"ISTJ\",\"ISTJ\",\"ISTJ\",\"ISTJ\",\"ISTJ\",\"ISTJ\",\"ISTJ\",\"ISTJ\",\"ISTJ\",\"ISTJ\",\"ISTJ\",\"ISTJ\",\"ISTJ\",\"ISTJ\",\"ISTJ\",\"ISTJ\",\"ISTJ\",\"ISTJ\",\"ISTJ\",\"ISTJ\",\"ISTJ\",\"ISTJ\",\"ISTJ\",\"ISTJ\",\"ISTJ\",\"ISTJ\",\"ISTJ\",\"ISTJ\",\"ISTJ\",\"ISTJ\",\"ISTJ\",\"ISTJ\",\"ISTJ\",\"ISTJ\",\"ISTJ\",\"ISTJ\",\"ISTJ\",\"ISTJ\",\"ISTJ\",\"ISTJ\",\"ISTJ\",\"ISTJ\",\"ISTJ\",\"ISTJ\",\"ISTJ\",\"ISTJ\",\"ISTJ\",\"ISTJ\",\"ISTJ\",\"ISTJ\",\"ISTJ\",\"ISTJ\",\"ISTJ\",\"ISTJ\",\"ISTJ\",\"ISTJ\",\"ISTJ\",\"ISTJ\",\"ISTJ\",\"ISTJ\",\"ISTJ\",\"ISTJ\",\"ISTJ\",\"ISTJ\",\"ISTJ\",\"ISTJ\",\"ISTJ\",\"ISTJ\",\"ISTJ\",\"ISTJ\",\"ISTJ\",\"ISTJ\",\"ISTJ\",\"ISTJ\",\"ISTJ\",\"ISTJ\",\"ISTJ\",\"ISTJ\",\"ISTJ\",\"ISTJ\",\"ISTJ\",\"ISTJ\",\"ISTJ\",\"ISTJ\",\"ISTJ\",\"ISTJ\",\"ISTJ\",\"ISTJ\",\"ISTJ\",\"ISTJ\",\"ISTJ\",\"ISTJ\",\"ISTJ\",\"ISTJ\",\"ISTJ\",\"ISTJ\",\"ISTJ\",\"ISTJ\",\"ISTJ\",\"ISTJ\",\"ISTJ\",\"ISTJ\",\"ISTJ\",\"ISTJ\",\"ISTJ\",\"ISTJ\",\"ISTJ\",\"ISTJ\",\"ISTJ\",\"ISTJ\",\"ISTJ\",\"ISTJ\",\"ISTJ\",\"ISTJ\",\"ISTJ\",\"ISTJ\",\"ISTJ\",\"ISTJ\",\"ISTJ\",\"ISTJ\",\"ISTJ\",\"ISTJ\",\"ISTJ\",\"ISTJ\",\"ISTJ\",\"ISTJ\",\"ISTJ\",\"ISTJ\",\"ISTJ\",\"ISTJ\",\"ISTJ\",\"ISTJ\",\"ISTJ\",\"ISTJ\",\"ISTJ\",\"ISTJ\",\"ISTJ\",\"ISTJ\",\"ISTJ\",\"ISTJ\",\"ISTJ\",\"ISTJ\",\"ISTJ\",\"ISTJ\",\"ISTJ\",\"ISTJ\",\"ISTJ\",\"ISTJ\",\"ISTJ\",\"ISTJ\",\"ISTJ\",\"ISTJ\",\"ISTJ\",\"ISTJ\",\"ISTJ\",\"ISTJ\",\"ISTJ\",\"ISTJ\",\"ISTJ\",\"ISTJ\",\"ISTJ\",\"ISTJ\",\"ISTJ\",\"ISTJ\",\"ISTJ\",\"ISTJ\",\"ISTJ\",\"ISTJ\",\"ISTJ\",\"ISTJ\",\"ISTJ\",\"ISTJ\",\"ISTJ\",\"ISTJ\",\"ISTJ\",\"ISTJ\",\"ISTJ\",\"ISTJ\",\"ISTJ\",\"ISTJ\",\"ISTJ\",\"ISTJ\",\"ISTJ\",\"ISTJ\",\"ISTJ\",\"ISTJ\",\"ISTJ\",\"ISTJ\",\"ISTJ\",\"ISTJ\",\"ISTJ\",\"ISTJ\",\"ISTJ\",\"ISTJ\",\"ISTJ\",\"ISTJ\",\"ISTJ\",\"ISTJ\",\"ISTJ\",\"ISTJ\",\"ISTJ\",\"ISTJ\",\"ISTJ\",\"ISTJ\",\"ISTJ\",\"ISTJ\",\"ISTJ\",\"ISTJ\",\"ISTJ\",\"ISTJ\",\"ISTJ\",\"ISTJ\",\"ISTJ\",\"ISTJ\",\"ISTJ\",\"ISTJ\",\"ISTJ\",\"ISTJ\",\"ISTJ\",\"ISTJ\",\"ISTJ\",\"ISTJ\",\"ISTJ\",\"ISTJ\",\"ISTJ\",\"ISTJ\",\"ISTJ\",\"ISTJ\",\"ISTJ\",\"ISTJ\",\"ISTJ\",\"ISTJ\",\"ISTJ\",\"ISTJ\",\"ISTJ\",\"ISTJ\",\"ISTJ\",\"ISTJ\",\"ISTJ\",\"ISTJ\",\"ISTJ\",\"ISTJ\",\"ISTJ\",\"ISTJ\",\"ISTJ\",\"ISTJ\",\"ISTJ\",\"ISTJ\",\"ISTJ\",\"ISTJ\",\"ISTJ\",\"ISTJ\",\"ISTJ\",\"ISTJ\",\"ISTJ\",\"ISTJ\",\"ISTJ\",\"ISTJ\",\"ISTJ\",\"ISTJ\",\"ISTJ\",\"ISTJ\",\"ISTJ\",\"ISTJ\",\"ISTJ\",\"ISTJ\",\"ISTJ\",\"ISTJ\",\"ISTJ\",\"ISTJ\",\"ISTJ\",\"ISTJ\",\"ISTJ\",\"ISTJ\",\"ISTJ\",\"ISTJ\",\"ISTJ\",\"ISTJ\",\"ISTJ\",\"ISTJ\",\"ISTJ\",\"ISTJ\",\"ISTJ\",\"ISTJ\",\"ISTJ\",\"ISTJ\",\"ISTJ\",\"ISTJ\",\"ISTJ\",\"ISTJ\",\"ISTJ\",\"ISTJ\",\"ISTJ\",\"ISTJ\",\"ISTJ\",\"ISTJ\",\"ISTJ\",\"ISTJ\",\"ISTJ\",\"ISTJ\",\"ISTJ\",\"ISTJ\",\"ISTJ\",\"ISTJ\",\"ISTJ\",\"ISTJ\",\"ISTJ\",\"ISTJ\",\"ISTJ\",\"ISTJ\",\"ISTJ\",\"ISTJ\",\"ISTJ\",\"ISTJ\",\"ISTJ\",\"ISTJ\",\"ISTJ\",\"ISTJ\",\"ISTJ\",\"ISTJ\",\"ISTJ\",\"ISTJ\",\"ISTJ\",\"ISTJ\",\"ISTJ\",\"ISTJ\",\"ISTJ\",\"ISTJ\",\"ISTJ\",\"ISTJ\",\"ISTJ\",\"ISTJ\",\"ISTJ\",\"ISTJ\",\"ISTJ\",\"ISTJ\",\"ISTJ\",\"ISTJ\",\"ISTJ\",\"ISTJ\",\"ISTJ\",\"ISTJ\",\"ISTJ\",\"ISTJ\",\"ISTJ\",\"ISTJ\",\"ISTJ\",\"ISTJ\",\"ISTJ\",\"ISTJ\",\"ISTJ\",\"ISTJ\",\"ISTJ\",\"ISTJ\",\"ISTJ\",\"ISTJ\",\"ISTJ\",\"ISTJ\",\"ISTJ\",\"ISTJ\",\"ISTJ\",\"ISTJ\",\"ISTJ\",\"ISTJ\",\"ISTJ\",\"ISTJ\",\"ISTJ\",\"ISTJ\",\"ISTJ\",\"ISTJ\",\"ISTJ\",\"ISTJ\",\"ISTJ\",\"ISTJ\",\"ISTJ\",\"ISTJ\",\"ISTJ\",\"ISTJ\",\"ISTJ\",\"ISTJ\",\"ISTJ\",\"ISTJ\",\"ISTJ\",\"ISTJ\",\"ISTJ\",\"ISTJ\",\"ISTJ\",\"ISTJ\",\"ISTJ\",\"ISTJ\",\"ISTJ\",\"ISTJ\",\"ISTJ\",\"ISTJ\",\"ISTJ\",\"ISTJ\",\"ISTJ\",\"ISTJ\",\"ISTJ\",\"ISTJ\",\"ISTJ\",\"ISTJ\",\"ISTJ\",\"ISTJ\",\"ISTJ\",\"ISTJ\",\"ISTJ\",\"ISTJ\",\"ISTJ\",\"ISTJ\",\"ISTJ\",\"ISTJ\",\"ISTJ\",\"ISTJ\",\"ISTJ\",\"ISTJ\",\"ISTJ\",\"ISTJ\",\"ISTJ\",\"ISTJ\",\"ISTJ\",\"ISTJ\",\"ISTJ\",\"ISTJ\",\"ISTJ\",\"ISTJ\",\"ISTJ\",\"ISTJ\",\"ISTJ\",\"ISTJ\",\"ISTJ\",\"ISTJ\",\"ISTJ\",\"ISTJ\",\"ISTJ\",\"ISTJ\",\"ISTJ\",\"ISTJ\",\"ISTJ\",\"ISTJ\",\"ISTJ\",\"ISTJ\",\"ISTJ\",\"ISTJ\",\"ISTJ\",\"ISTJ\",\"ISTJ\",\"ISTJ\",\"ISTJ\",\"ISTJ\",\"ISTJ\",\"ISTJ\",\"ISTJ\",\"ISTJ\",\"ISTJ\",\"ISTJ\",\"ISTJ\",\"ISTJ\",\"ISTJ\",\"ISTJ\",\"ISTJ\",\"ISTJ\",\"ISTJ\",\"ISTJ\",\"ISTJ\",\"ISTJ\",\"ISTJ\",\"ISTJ\",\"ISTJ\",\"ISTJ\",\"ISTJ\",\"ISTJ\",\"ISTJ\",\"ISTJ\",\"ISTJ\",\"ISTJ\",\"ISTJ\",\"ISTJ\",\"ISTJ\",\"ISTJ\",\"ISTJ\",\"ISTJ\",\"ISTJ\",\"ISTJ\",\"ISTJ\",\"ISTJ\",\"ISTJ\",\"ISTJ\",\"ISTJ\",\"ISTJ\",\"ISTJ\",\"ISTJ\",\"ISTJ\",\"ISTJ\",\"ISTJ\",\"ISTJ\",\"ISTJ\",\"ISTJ\",\"ISTJ\",\"ISTJ\",\"ISTJ\",\"ISTJ\",\"ISTJ\",\"ISTJ\",\"ISTJ\",\"ISTJ\",\"ISTJ\",\"ISTJ\",\"ISTJ\",\"ISTJ\",\"ISTJ\",\"ISTJ\",\"ISTJ\",\"ISTJ\",\"ISTJ\",\"ISTJ\",\"ISTJ\",\"ISTJ\",\"ISTJ\",\"ISTJ\",\"ISTJ\",\"ISTJ\",\"ISTJ\",\"ISTJ\",\"ISTJ\",\"ISTJ\",\"ISTJ\",\"ISTJ\",\"ISTJ\",\"ISTJ\",\"ISTJ\",\"ISTJ\",\"ISTJ\",\"ISTJ\",\"ISTJ\",\"ISTJ\",\"ISTJ\",\"ISTJ\",\"ISTJ\",\"ISTJ\",\"ISTJ\",\"ISTJ\",\"ISTJ\",\"ISTJ\",\"ISTJ\",\"ISTJ\",\"ISTJ\",\"ISTJ\",\"ISTJ\",\"ISTJ\",\"ISTJ\",\"ISTJ\",\"ISTJ\",\"ISTJ\",\"ISTJ\",\"ISTJ\",\"ISTJ\",\"ISTJ\",\"ISTJ\",\"ISTJ\",\"ISTJ\",\"ISTJ\",\"ISTJ\",\"ISTJ\",\"ISTJ\",\"ISTJ\",\"ISTJ\",\"ISTJ\",\"ISTJ\",\"ISTJ\",\"ISTJ\",\"ISTJ\",\"ISTJ\",\"ISTJ\",\"ISTJ\",\"ISTJ\",\"ISTJ\",\"ISTJ\",\"ISTJ\",\"ISTJ\",\"ISTJ\",\"ISTJ\",\"ISTJ\",\"ISTJ\",\"ISTJ\",\"ISTJ\",\"ISTJ\",\"ISTJ\",\"ISTJ\",\"ISTJ\",\"ISTJ\",\"ISTJ\",\"ISTJ\",\"ISTJ\",\"ISTJ\",\"ISTJ\",\"ISTJ\",\"ISTJ\",\"ISTJ\",\"ISTJ\",\"ISTJ\",\"ISTJ\",\"ISTJ\",\"ISTJ\",\"ISTJ\",\"ISTJ\",\"ISTJ\",\"ISTJ\",\"ISTJ\",\"ISTJ\",\"ISTJ\",\"ISTJ\",\"ISTJ\",\"ISTJ\",\"ISTJ\",\"ISTJ\",\"ISTJ\",\"ISTJ\",\"ISTJ\",\"ISTJ\",\"ISTJ\",\"ISTJ\",\"ISTJ\",\"ISTJ\",\"ISTJ\",\"ISTJ\",\"ISTJ\",\"ISTJ\",\"ISTJ\",\"ISTJ\",\"ISTJ\",\"ISTJ\",\"ISTJ\",\"ISTJ\",\"ISTJ\",\"ISTJ\",\"ISTJ\",\"ISTJ\",\"ISTJ\",\"ISTJ\",\"ISTJ\",\"ISTJ\",\"ISTJ\",\"ISTJ\",\"ISTJ\",\"ISTJ\",\"ISTJ\",\"ISTJ\",\"ISTJ\",\"ISTJ\",\"ISTJ\",\"ISTJ\",\"ISTJ\",\"ISTJ\",\"ISTJ\",\"ISTJ\",\"ISTJ\",\"ISTJ\",\"ISTJ\",\"ISTJ\",\"ISTJ\",\"ISTJ\",\"ISTJ\",\"ISTJ\",\"ISTJ\",\"ISTJ\",\"ISTJ\",\"ISTJ\",\"ISTJ\",\"ISTJ\",\"ISTJ\",\"ISTJ\",\"ISTJ\",\"ISTJ\",\"ISTJ\",\"ISTJ\",\"ISTJ\",\"ISTJ\",\"ISTJ\",\"ISTJ\",\"ISTJ\",\"ISTJ\",\"ISTJ\",\"ISTJ\",\"ISTJ\",\"ISTJ\",\"ISTJ\",\"ISTJ\",\"ISTJ\",\"ISTJ\",\"ISTJ\",\"ISTJ\",\"ISTJ\",\"ISTJ\",\"ISTJ\",\"ISTJ\",\"ISTJ\",\"ISTJ\",\"ISTJ\",\"ISTJ\",\"ISTJ\",\"ISTJ\",\"ISTJ\",\"ISTJ\",\"ISTJ\",\"ISTJ\",\"ISTJ\",\"ISTJ\",\"ISTJ\",\"ISTJ\",\"ISTJ\",\"ISTJ\",\"ISTJ\",\"ISTJ\",\"ISTJ\"],\"precision\":{\"__ndarray__\":\"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\",\"dtype\":\"float64\",\"order\":\"little\",\"shape\":[776]},\"recall\":{\"__ndarray__\":\"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\",\"dtype\":\"float64\",\"order\":\"little\",\"shape\":[776]}},\"selected\":{\"id\":\"5059\"},\"selection_policy\":{\"id\":\"5101\"}},\"id\":\"5058\",\"type\":\"ColumnDataSource\"},{\"attributes\":{},\"id\":\"4963\",\"type\":\"UnionRenderers\"},{\"attributes\":{\"line_alpha\":0.1,\"line_color\":\"#17becf\",\"line_width\":2,\"x\":{\"field\":\"recall\"},\"y\":{\"field\":\"precision\"}},\"id\":\"4720\",\"type\":\"Line\"},{\"attributes\":{\"data\":{\"name_class\":[\"ISFJ\",\"ISFJ\",\"ISFJ\",\"ISFJ\",\"ISFJ\",\"ISFJ\",\"ISFJ\",\"ISFJ\",\"ISFJ\",\"ISFJ\",\"ISFJ\",\"ISFJ\",\"ISFJ\",\"ISFJ\",\"ISFJ\",\"ISFJ\",\"ISFJ\",\"ISFJ\",\"ISFJ\",\"ISFJ\",\"ISFJ\",\"ISFJ\",\"ISFJ\",\"ISFJ\",\"ISFJ\",\"ISFJ\",\"ISFJ\",\"ISFJ\",\"ISFJ\",\"ISFJ\",\"ISFJ\",\"ISFJ\",\"ISFJ\",\"ISFJ\",\"ISFJ\",\"ISFJ\",\"ISFJ\",\"ISFJ\",\"ISFJ\",\"ISFJ\",\"ISFJ\",\"ISFJ\",\"ISFJ\",\"ISFJ\",\"ISFJ\",\"ISFJ\",\"ISFJ\",\"ISFJ\",\"ISFJ\",\"ISFJ\",\"ISFJ\",\"ISFJ\",\"ISFJ\",\"ISFJ\",\"ISFJ\",\"ISFJ\",\"ISFJ\",\"ISFJ\",\"ISFJ\",\"ISFJ\",\"ISFJ\",\"ISFJ\",\"ISFJ\",\"ISFJ\",\"ISFJ\",\"ISFJ\",\"ISFJ\",\"ISFJ\",\"ISFJ\",\"ISFJ\",\"ISFJ\",\"ISFJ\",\"ISFJ\",\"ISFJ\",\"ISFJ\",\"ISFJ\",\"ISFJ\",\"ISFJ\",\"ISFJ\",\"ISFJ\",\"ISFJ\",\"ISFJ\",\"ISFJ\",\"ISFJ\",\"ISFJ\",\"ISFJ\",\"ISFJ\",\"ISFJ\",\"ISFJ\",\"ISFJ\",\"ISFJ\",\"ISFJ\",\"ISFJ\",\"ISFJ\",\"ISFJ\",\"ISFJ\",\"ISFJ\",\"ISFJ\",\"ISFJ\",\"ISFJ\",\"ISFJ\",\"ISFJ\",\"ISFJ\",\"ISFJ\",\"ISFJ\",\"ISFJ\",\"ISFJ\",\"ISFJ\",\"ISFJ\",\"ISFJ\",\"ISFJ\",\"ISFJ\",\"ISFJ\",\"ISFJ\",\"ISFJ\",\"ISFJ\",\"ISFJ\",\"ISFJ\",\"ISFJ\",\"ISFJ\",\"ISFJ\",\"ISFJ\",\"ISFJ\",\"ISFJ\",\"ISFJ\",\"ISFJ\",\"ISFJ\",\"ISFJ\",\"ISFJ\",\"ISFJ\",\"ISFJ\",\"ISFJ\",\"ISFJ\",\"ISFJ\",\"ISFJ\",\"ISFJ\",\"ISFJ\",\"ISFJ\",\"ISFJ\",\"ISFJ\",\"ISFJ\",\"ISFJ\",\"ISFJ\",\"ISFJ\",\"ISFJ\",\"ISFJ\",\"ISFJ\",\"ISFJ\",\"ISFJ\",\"ISFJ\"],\"precision\":{\"__ndarray__\":\"FfmsG0yR7z8V+awbTJHvP/z48ePHj+8//Pjx48eP7z8AAAAAAADwPwAAAAAAAPA/AAAAAAAA8D8AAAAAAADwPwAAAAAAAPA/AAAAAAAA8D8AAAAAAADwPwAAAAAAAPA/AAAAAAAA8D8AAAAAAADwPwAAAAAAAPA/AAAAAAAA8D8AAAAAAADwPwAAAAAAAPA/AAAAAAAA8D8AAAAAAADwPwAAAAAAAPA/AAAAAAAA8D8AAAAAAADwPwAAAAAAAPA/AAAAAAAA8D8AAAAAAADwPwAAAAAAAPA/AAAAAAAA8D8AAAAAAADwPwAAAAAAAPA/AAAAAAAA8D8AAAAAAADwPwAAAAAAAPA/AAAAAAAA8D8AAAAAAADwPwAAAAAAAPA/AAAAAAAA8D8AAAAAAADwPwAAAAAAAPA/AAAAAAAA8D8AAAAAAADwPwAAAAAAAPA/AAAAAAAA8D8AAAAAAADwPwAAAAAAAPA/AAAAAAAA8D8AAAAAAADwPwAAAAAAAPA/AAAAAAAA8D8AAAAAAADwPwAAAAAAAPA/AAAAAAAA8D8AAAAAAADwPwAAAAAAAPA/AAAAAAAA8D8AAAAAAADwPwAAAAAAAPA/AAAAAAAA8D8AAAAAAADwPwAAAAAAAPA/AAAAAAAA8D8AAAAAAADwPwAAAAAAAPA/AAAAAAAA8D8AAAAAAADwPwAAAAAAAPA/AAAAAAAA8D8AAAAAAADwPwAAAAAAAPA/AAAAAAAA8D8AAAAAAADwPwAAAAAAAPA/AAAAAAAA8D8AAAAAAADwPwAAAAAAAPA/AAAAAAAA8D8AAAAAAADwPwAAAAAAAPA/AAAAAAAA8D8AAAAAAADwPwAAAAAAAPA/AAAAAAAA8D8AAAAAAADwPwAAAAAAAPA/AAAAAAAA8D8AAAAAAADwPwAAAAAAAPA/AAAAAAAA8D8AAAAAAADwPwAAAAAAAPA/AAAAAAAA8D8AAAAAAADwPwAAAAAAAPA/AAAAAAAA8D8AAAAAAADwPwAAAAAAAPA/AAAAAAAA8D8AAAAAAADwPwAAAAAAAPA/AAAAAAAA8D8AAAAAAADwPwAAAAAAAPA/AAAAAAAA8D8AAAAAAADwPwAAAAAAAPA/AAAAAAAA8D8AAAAAAADwPwAAAAAAAPA/AAAAAAAA8D8AAAAAAADwPwAAAAAAAPA/AAAAAAAA8D8AAAAAAADwPwAAAAAAAPA/AAAAAAAA8D8AAAAAAADwPwAAAAAAAPA/AAAAAAAA8D8AAAAAAADwPwAAAAAAAPA/AAAAAAAA8D8AAAAAAADwPwAAAAAAAPA/AAAAAAAA8D8AAAAAAADwPwAAAAAAAPA/AAAAAAAA8D8AAAAAAADwPwAAAAAAAPA/AAAAAAAA8D8AAAAAAADwPwAAAAAAAPA/AAAAAAAA8D8AAAAAAADwPwAAAAAAAPA/AAAAAAAA8D8AAAAAAADwPwAAAAAAAPA/AAAAAAAA8D8AAAAAAADwPwAAAAAAAPA/AAAAAAAA8D8AAAAAAADwPwAAAAAAAPA/AAAAAAAA8D8AAAAAAADwPwAAAAAAAPA/AAAAAAAA8D8AAAAAAADwPwAAAAAAAPA/\",\"dtype\":\"float64\",\"order\":\"little\",\"shape\":[150]},\"recall\":{\"__ndarray__\":\"AAAAAAAA8D9+/Pjx48fvP378+PHjx+8//Pjx48eP7z/8+PHjx4/vP3r16tWrV+8/evXq1atX7z937ty5c+fuP3fu3Llz5+4/dOfOnTt37j90586dO3fuP3DgwIEDB+4/cODAgQMH7j9s2bJly5btP2zZsmXLlu0/adKkSZMm7T9p0qRJkybtP2bLli1btuw/ZsuWLVu27D9ixIgRI0bsP2LEiBEjRuw/Xr169erV6z9evXr16tXrP1u2bNmyZes/W7Zs2bJl6z9Yr169evXqP1ivXr169eo/VKhQoUKF6j9UqFChQoXqP1ChQoUKFeo/UKFChQoV6j9NmjRp0qTpP02aNGnSpOk/SpMmTZo06T9KkyZNmjTpP0aMGDFixOg/RowYMWLE6D9ChQoVKlToP0KFChUqVOg/P378+PHj5z8/fvz48ePnPzx37ty5c+c/PHfu3Llz5z84cODAgQPnPzhw4MCBA+c/NGnSpEmT5j80adKkSZPmPzFixIgRI+Y/MWLEiBEj5j8uW7Zs2bLlPy5btmzZsuU/KlSoUKFC5T8qVKhQoULlPyZNmjRp0uQ/Jk2aNGnS5D8jRowYMWLkPyNGjBgxYuQ/ID9+/Pjx4z8gP378+PHjPxw4cODAgeM/HDhw4MCB4z8YMWLEiBHjPxgxYsSIEeM/FSpUqFCh4j8VKlSoUKHiPxIjRowYMeI/EiNGjBgx4j8OHDhw4MDhPw4cOHDgwOE/ChUqVKhQ4T8KFSpUqFDhPwcOHDhw4OA/Bw4cOHDg4D8EBw4cOHDgPwQHDhw4cOA/AAAAAAAA4D8AAAAAAADgP/jx48ePH98/+PHjx48f3z/y48ePHz/eP/Ljx48fP94/6tWrV69e3T/q1atXr17dP+THjx8/ftw/5MePHz9+3D/cuXPnzp3bP9y5c+fOnds/1qtXr1692j/Wq1evXr3aP86dO3fu3Nk/zp07d+7c2T/Ijx8/fvzYP8iPHz9+/Ng/wIEDBw4c2D/AgQMHDhzYP7pz586dO9c/unPnzp071z+yZcuWLVvWP7Jly5YtW9Y/rFevXr161T+sV69evXrVP6RJkyZNmtQ/pEmTJk2a1D+eO3fu3LnTP547d+7cudM/li1btmzZ0j+WLVu2bNnSP5AfP378+NE/kB8/fvz40T+IESNGjBjRP4gRI0aMGNE/ggMHDhw40D+CAwcOHDjQP/Xq1atXr84/9erVq1evzj/nzp07d+7MP+fOnTt37sw/2bJly5Ytyz/ZsmXLli3LP8uWLVu2bMk/y5YtW7ZsyT+9evXq1avHP7169erVq8c/r169evXqxT+vXr169erFP6FChQoVKsQ/oUKFChUqxD+TJk2aNGnCP5MmTZo0acI/hQoVKlSowD+FChUqVKjAP+7cuXPnzr0/7ty5c+fOvT/SpEmTJk26P9KkSZMmTbo/tmzZsmXLtj+2bNmyZcu2P5o0adKkSbM/mjRp0qRJsz/8+PHjx4+vP/z48ePHj68/xIgRI0aMqD/EiBEjRoyoP4wYMWLEiKE/jBgxYsSIoT+oUKFChQqVP6hQoUKFCpU/4MCBAwcOfD/gwIEDBw58PwAAAAAAAAAA\",\"dtype\":\"float64\",\"order\":\"little\",\"shape\":[150]}},\"selected\":{\"id\":\"4969\"},\"selection_policy\":{\"id\":\"5007\"}},\"id\":\"4968\",\"type\":\"ColumnDataSource\"},{\"attributes\":{},\"id\":\"4663\",\"type\":\"Selection\"},{\"attributes\":{},\"id\":\"5059\",\"type\":\"Selection\"},{\"attributes\":{\"line_color\":\"#e5ae38\",\"line_width\":2,\"x\":{\"field\":\"recall\"},\"y\":{\"field\":\"precision\"}},\"id\":\"5105\",\"type\":\"Line\"},{\"attributes\":{\"axis_label\":\"precision\",\"coordinates\":null,\"formatter\":{\"id\":\"4593\"},\"group\":null,\"major_label_policy\":{\"id\":\"4594\"},\"ticker\":{\"id\":\"4573\"}},\"id\":\"4572\",\"type\":\"LinearAxis\"},{\"attributes\":{},\"id\":\"4717\",\"type\":\"Selection\"},{\"attributes\":{\"line_alpha\":0.1,\"line_color\":\"#8b8b8b\",\"line_width\":2,\"x\":{\"field\":\"recall\"},\"y\":{\"field\":\"precision\"}},\"id\":\"4692\",\"type\":\"Line\"},{\"attributes\":{\"line_alpha\":0.2,\"line_color\":\"#17becf\",\"line_width\":2,\"x\":{\"field\":\"recall\"},\"y\":{\"field\":\"precision\"}},\"id\":\"4721\",\"type\":\"Line\"},{\"attributes\":{},\"id\":\"4569\",\"type\":\"BasicTicker\"},{\"attributes\":{\"axis\":{\"id\":\"4572\"},\"coordinates\":null,\"dimension\":1,\"grid_line_color\":null,\"group\":null,\"ticker\":null},\"id\":\"4575\",\"type\":\"Grid\"},{\"attributes\":{},\"id\":\"4779\",\"type\":\"Selection\"},{\"attributes\":{\"line_color\":\"#bcbd22\",\"line_width\":2,\"x\":{\"field\":\"recall\"},\"y\":{\"field\":\"precision\"}},\"id\":\"4967\",\"type\":\"Line\"},{\"attributes\":{\"axis_label\":\"recall\",\"coordinates\":null,\"formatter\":{\"id\":\"4590\"},\"group\":null,\"major_label_policy\":{\"id\":\"4591\"},\"ticker\":{\"id\":\"4569\"}},\"id\":\"4568\",\"type\":\"LinearAxis\"},{\"attributes\":{},\"id\":\"4566\",\"type\":\"LinearScale\"},{\"attributes\":{\"line_color\":\"#17becf\",\"line_width\":2,\"x\":{\"field\":\"recall\"},\"y\":{\"field\":\"precision\"}},\"id\":\"4719\",\"type\":\"Line\"},{\"attributes\":{},\"id\":\"4843\",\"type\":\"UnionRenderers\"},{\"attributes\":{},\"id\":\"4577\",\"type\":\"PanTool\"},{\"attributes\":{},\"id\":\"4573\",\"type\":\"BasicTicker\"},{\"attributes\":{\"coordinates\":null,\"data_source\":{\"id\":\"4926\"},\"glyph\":{\"id\":\"4929\"},\"group\":null,\"hover_glyph\":null,\"muted_glyph\":{\"id\":\"4931\"},\"nonselection_glyph\":{\"id\":\"4930\"},\"selection_glyph\":{\"id\":\"4967\"},\"view\":{\"id\":\"4933\"}},\"id\":\"4932\",\"type\":\"GlyphRenderer\"},{\"attributes\":{\"axis\":{\"id\":\"4568\"},\"coordinates\":null,\"grid_line_color\":null,\"group\":null,\"ticker\":null},\"id\":\"4571\",\"type\":\"Grid\"},{\"attributes\":{\"coordinates\":null,\"group\":null,\"text_color\":\"black\",\"text_font_size\":\"12pt\"},\"id\":\"4560\",\"type\":\"Title\"},{\"attributes\":{\"line_color\":\"#30a2da\",\"line_width\":2,\"x\":{\"field\":\"recall\"},\"y\":{\"field\":\"precision\"}},\"id\":\"4971\",\"type\":\"Line\"},{\"attributes\":{},\"id\":\"4657\",\"type\":\"UnionRenderers\"},{\"attributes\":{},\"id\":\"4711\",\"type\":\"UnionRenderers\"},{\"attributes\":{\"source\":{\"id\":\"4662\"}},\"id\":\"4669\",\"type\":\"CDSView\"},{\"attributes\":{\"data\":{\"name_class\":[\"ENFJ\",\"ENFJ\",\"ENFJ\",\"ENFJ\",\"ENFJ\",\"ENFJ\",\"ENFJ\",\"ENFJ\",\"ENFJ\",\"ENFJ\",\"ENFJ\",\"ENFJ\",\"ENFJ\",\"ENFJ\",\"ENFJ\",\"ENFJ\",\"ENFJ\",\"ENFJ\",\"ENFJ\",\"ENFJ\",\"ENFJ\",\"ENFJ\",\"ENFJ\",\"ENFJ\",\"ENFJ\",\"ENFJ\",\"ENFJ\",\"ENFJ\",\"ENFJ\",\"ENFJ\",\"ENFJ\",\"ENFJ\",\"ENFJ\",\"ENFJ\",\"ENFJ\",\"ENFJ\",\"ENFJ\",\"ENFJ\",\"ENFJ\",\"ENFJ\",\"ENFJ\",\"ENFJ\",\"ENFJ\",\"ENFJ\",\"ENFJ\",\"ENFJ\",\"ENFJ\",\"ENFJ\",\"ENFJ\",\"ENFJ\",\"ENFJ\",\"ENFJ\",\"ENFJ\",\"ENFJ\",\"ENFJ\",\"ENFJ\",\"ENFJ\",\"ENFJ\",\"ENFJ\",\"ENFJ\",\"ENFJ\",\"ENFJ\",\"ENFJ\",\"ENFJ\",\"ENFJ\",\"ENFJ\",\"ENFJ\",\"ENFJ\",\"ENFJ\",\"ENFJ\",\"ENFJ\",\"ENFJ\",\"ENFJ\",\"ENFJ\",\"ENFJ\",\"ENFJ\",\"ENFJ\",\"ENFJ\",\"ENFJ\",\"ENFJ\",\"ENFJ\",\"ENFJ\",\"ENFJ\",\"ENFJ\",\"ENFJ\",\"ENFJ\",\"ENFJ\",\"ENFJ\",\"ENFJ\",\"ENFJ\",\"ENFJ\",\"ENFJ\",\"ENFJ\",\"ENFJ\",\"ENFJ\",\"ENFJ\",\"ENFJ\",\"ENFJ\",\"ENFJ\",\"ENFJ\",\"ENFJ\",\"ENFJ\",\"ENFJ\",\"ENFJ\",\"ENFJ\",\"ENFJ\",\"ENFJ\",\"ENFJ\",\"ENFJ\",\"ENFJ\",\"ENFJ\",\"ENFJ\",\"ENFJ\",\"ENFJ\",\"ENFJ\",\"ENFJ\",\"ENFJ\",\"ENFJ\",\"ENFJ\",\"ENFJ\",\"ENFJ\",\"ENFJ\",\"ENFJ\",\"ENFJ\",\"ENFJ\",\"ENFJ\",\"ENFJ\",\"ENFJ\",\"ENFJ\",\"ENFJ\",\"ENFJ\",\"ENFJ\",\"ENFJ\",\"ENFJ\",\"ENFJ\",\"ENFJ\",\"ENFJ\",\"ENFJ\",\"ENFJ\",\"ENFJ\",\"ENFJ\",\"ENFJ\",\"ENFJ\",\"ENFJ\",\"ENFJ\",\"ENFJ\",\"ENFJ\",\"ENFJ\",\"ENFJ\",\"ENFJ\",\"ENFJ\",\"ENFJ\",\"ENFJ\",\"ENFJ\",\"ENFJ\",\"ENFJ\",\"ENFJ\",\"ENFJ\",\"ENFJ\",\"ENFJ\",\"ENFJ\",\"ENFJ\",\"ENFJ\",\"ENFJ\",\"ENFJ\",\"ENFJ\"],\"precision\":{\"__ndarray__\":\"4XwMzsfg7D/hfAzOx+DsP8QiZeDp1uw/xCJl4OnW7D8zMzMzMzPtPzMzMzMzM+0/JHsGotKR7T8kewai0pHtPy7f8i3f8u0/Lt/yLd/y7T81sHdMDeztPzWwd0wN7O0/DeU1lNdQ7j8N5TWU11DuP7gehetRuO4/uB6F61G47j8q8lk3mCLvPyryWTeYIu8//Pjx48eP7z/8+PHjx4/vPwAAAAAAAPA/AAAAAAAA8D8AAAAAAADwPwAAAAAAAPA/AAAAAAAA8D8AAAAAAADwPwAAAAAAAPA/AAAAAAAA8D8AAAAAAADwPwAAAAAAAPA/AAAAAAAA8D8AAAAAAADwPwAAAAAAAPA/AAAAAAAA8D8AAAAAAADwPwAAAAAAAPA/AAAAAAAA8D8AAAAAAADwPwAAAAAAAPA/AAAAAAAA8D8AAAAAAADwPwAAAAAAAPA/AAAAAAAA8D8AAAAAAADwPwAAAAAAAPA/AAAAAAAA8D8AAAAAAADwPwAAAAAAAPA/AAAAAAAA8D8AAAAAAADwPwAAAAAAAPA/AAAAAAAA8D8AAAAAAADwPwAAAAAAAPA/AAAAAAAA8D8AAAAAAADwPwAAAAAAAPA/AAAAAAAA8D8AAAAAAADwPwAAAAAAAPA/AAAAAAAA8D8AAAAAAADwPwAAAAAAAPA/AAAAAAAA8D8AAAAAAADwPwAAAAAAAPA/AAAAAAAA8D8AAAAAAADwPwAAAAAAAPA/AAAAAAAA8D8AAAAAAADwPwAAAAAAAPA/AAAAAAAA8D8AAAAAAADwPwAAAAAAAPA/AAAAAAAA8D8AAAAAAADwPwAAAAAAAPA/AAAAAAAA8D8AAAAAAADwPwAAAAAAAPA/AAAAAAAA8D8AAAAAAADwPwAAAAAAAPA/AAAAAAAA8D8AAAAAAADwPwAAAAAAAPA/AAAAAAAA8D8AAAAAAADwPwAAAAAAAPA/AAAAAAAA8D8AAAAAAADwPwAAAAAAAPA/AAAAAAAA8D8AAAAAAADwPwAAAAAAAPA/AAAAAAAA8D8AAAAAAADwPwAAAAAAAPA/AAAAAAAA8D8AAAAAAADwPwAAAAAAAPA/AAAAAAAA8D8AAAAAAADwPwAAAAAAAPA/AAAAAAAA8D8AAAAAAADwPwAAAAAAAPA/AAAAAAAA8D8AAAAAAADwPwAAAAAAAPA/AAAAAAAA8D8AAAAAAADwPwAAAAAAAPA/AAAAAAAA8D8AAAAAAADwPwAAAAAAAPA/AAAAAAAA8D8AAAAAAADwPwAAAAAAAPA/AAAAAAAA8D8AAAAAAADwPwAAAAAAAPA/AAAAAAAA8D8AAAAAAADwPwAAAAAAAPA/AAAAAAAA8D8AAAAAAADwPwAAAAAAAPA/AAAAAAAA8D8AAAAAAADwPwAAAAAAAPA/AAAAAAAA8D8AAAAAAADwPwAAAAAAAPA/AAAAAAAA8D8AAAAAAADwPwAAAAAAAPA/AAAAAAAA8D8AAAAAAADwPwAAAAAAAPA/AAAAAAAA8D8AAAAAAADwPwAAAAAAAPA/AAAAAAAA8D8AAAAAAADwPwAAAAAAAPA/AAAAAAAA8D8AAAAAAADwPwAAAAAAAPA/AAAAAAAA8D8AAAAAAADwPwAAAAAAAPA/AAAAAAAA8D8AAAAAAADwPwAAAAAAAPA/AAAAAAAA8D8AAAAAAADwPwAAAAAAAPA/AAAAAAAA8D8AAAAAAADwPwAAAAAAAPA/AAAAAAAA8D8AAAAAAADwPwAAAAAAAPA/AAAAAAAA8D8=\",\"dtype\":\"float64\",\"order\":\"little\",\"shape\":[166]},\"recall\":{\"__ndarray__\":\"AAAAAAAA8D+KfNYNpsjvP4p81g2myO8/FfmsG0yR7z8V+awbTJHvPxX5rBtMke8/FfmsG0yR7z8V+awbTJHvPxX5rBtMke8/oHWDKfJZ7z+gdYMp8lnvPyryWTeYIu8/KvJZN5gi7z8q8lk3mCLvPyryWTeYIu8/KvJZN5gi7z8q8lk3mCLvPyryWTeYIu8/KvJZN5gi7z8q8lk3mCLvPyryWTeYIu8/tG4wRT7r7j+0bjBFPuvuP8hn3WCKfO4/yGfdYIp87j/eYIp81g3uP95ginzWDe4/8lk3mCKf7T/yWTeYIp/tPwdT5LNuMO0/B1Pks24w7T8cTJHPusHsPxxMkc+6wew/MEU+6wZT7D8wRT7rBlPsP0Y+6wZT5Os/Rj7rBlPk6z9aN5gin3XrP1o3mCKfdes/bjBFPusG6z9uMEU+6wbrP4Qp8lk3mOo/hCnyWTeY6j+YIp91gynqP5gin3WDKeo/rRtMkc+66T+tG0yRz7rpP8IU+awbTOk/whT5rBtM6T/WDabIZ93oP9YNpshn3eg/7AZT5LNu6D/sBlPks27oPwAAAAAAAOg/AAAAAAAA6D8U+awbTJHnPxT5rBtMkec/KvJZN5gi5z8q8lk3mCLnPz7rBlPks+Y/PusGU+Sz5j9T5LNuMEXmP1Pks24wReY/aN1ginzW5T9o3WCKfNblP3zWDabIZ+U/fNYNpshn5T+Sz7rBFPnkP5LPusEU+eQ/pshn3WCK5D+myGfdYIrkP7rBFPmsG+Q/usEU+awb5D/QusEU+azjP9C6wRT5rOM/5LNuMEU+4z/ks24wRT7jP/msG0yRz+I/+awbTJHP4j8Opshn3WDiPw6myGfdYOI/Ip91gyny4T8in3WDKfLhPziYIp91g+E/OJgin3WD4T9Mkc+6wRThP0yRz7rBFOE/YIp81g2m4D9ginzWDabgP3aDKfJZN+A/doMp8lk34D8V+awbTJHfPxX5rBtMkd8/PusGU+Sz3j8+6wZT5LPeP2jdYIp81t0/aN1ginzW3T+Sz7rBFPncP5LPusEU+dw/u8EU+awb3D+7wRT5rBvcP+SzbjBFPts/5LNuMEU+2z8Opshn3WDaPw6myGfdYNo/OJgin3WD2T84mCKfdYPZP2GKfNYNptg/YYp81g2m2D+KfNYNpsjXP4p81g2myNc/tG4wRT7r1j+0bjBFPuvWP95ginzWDdY/3mCKfNYN1j8HU+SzbjDVPwdT5LNuMNU/MEU+6wZT1D8wRT7rBlPUP1o3mCKfddM/WjeYIp910z+EKfJZN5jSP4Qp8lk3mNI/rRtMkc+60T+tG0yRz7rRP9YNpshn3dA/1g2myGfd0D8AAAAAAADQPwAAAAAAANA/VOSzbjBFzj9U5LNuMEXOP6bIZ91gisw/pshn3WCKzD/6rBtMkc/KP/qsG0yRz8o/TJHPusEUyT9Mkc+6wRTJP6B1gynyWcc/oHWDKfJZxz/yWTeYIp/FP/JZN5gin8U/Rj7rBlPkwz9GPusGU+TDP5gin3WDKcI/mCKfdYMpwj/sBlPks27AP+wGU+SzbsA/fdYNpshnvT991g2myGe9PyOfdYMp8rk/I591gynyuT/JZ91giny2P8ln3WCKfLY/bzBFPusGsz9vMEU+6wazPyryWTeYIq8/KvJZN5girz92gynyWTeoP3aDKfJZN6g/whT5rBtMoT/CFPmsG0yhPxxMkc+6wZQ/HEyRz7rBlD/QusEU+ax7P9C6wRT5rHs/AAAAAAAAAAA=\",\"dtype\":\"float64\",\"order\":\"little\",\"shape\":[166]}},\"selected\":{\"id\":\"4596\"},\"selection_policy\":{\"id\":\"4610\"}},\"id\":\"4595\",\"type\":\"ColumnDataSource\"},{\"attributes\":{},\"id\":\"5013\",\"type\":\"Selection\"},{\"attributes\":{\"line_color\":\"#fc4f30\",\"line_width\":2,\"x\":{\"field\":\"recall\"},\"y\":{\"field\":\"precision\"}},\"id\":\"4637\",\"type\":\"Line\"},{\"attributes\":{\"line_alpha\":0.1,\"line_color\":\"#bcbd22\",\"line_width\":2,\"x\":{\"field\":\"recall\"},\"y\":{\"field\":\"precision\"}},\"id\":\"4930\",\"type\":\"Line\"},{\"attributes\":{\"source\":{\"id\":\"5012\"}},\"id\":\"5019\",\"type\":\"CDSView\"},{\"attributes\":{\"below\":[{\"id\":\"4568\"}],\"center\":[{\"id\":\"4571\"},{\"id\":\"4575\"}],\"height\":500,\"left\":[{\"id\":\"4572\"}],\"margin\":[5,5,5,5],\"min_border_bottom\":10,\"min_border_left\":10,\"min_border_right\":10,\"min_border_top\":10,\"renderers\":[{\"id\":\"4601\"},{\"id\":\"4622\"},{\"id\":\"4644\"},{\"id\":\"4668\"},{\"id\":\"4694\"},{\"id\":\"4722\"},{\"id\":\"4752\"},{\"id\":\"4784\"},{\"id\":\"4818\"},{\"id\":\"4854\"},{\"id\":\"4892\"},{\"id\":\"4932\"},{\"id\":\"4974\"},{\"id\":\"5018\"},{\"id\":\"5064\"},{\"id\":\"5112\"}],\"right\":[{\"id\":\"4613\"}],\"sizing_mode\":\"fixed\",\"title\":{\"id\":\"4560\"},\"toolbar\":{\"id\":\"4582\"},\"width\":900,\"x_range\":{\"id\":\"4541\"},\"x_scale\":{\"id\":\"4564\"},\"y_range\":{\"id\":\"4542\"},\"y_scale\":{\"id\":\"4566\"}},\"id\":\"4559\",\"subtype\":\"Figure\",\"type\":\"Plot\"},{\"attributes\":{\"line_color\":\"#bcbd22\",\"line_width\":2,\"x\":{\"field\":\"recall\"},\"y\":{\"field\":\"precision\"}},\"id\":\"4929\",\"type\":\"Line\"},{\"attributes\":{\"coordinates\":null,\"data_source\":{\"id\":\"4688\"},\"glyph\":{\"id\":\"4691\"},\"group\":null,\"hover_glyph\":null,\"muted_glyph\":{\"id\":\"4693\"},\"nonselection_glyph\":{\"id\":\"4692\"},\"selection_glyph\":{\"id\":\"4715\"},\"view\":{\"id\":\"4695\"}},\"id\":\"4694\",\"type\":\"GlyphRenderer\"},{\"attributes\":{\"data\":{\"name_class\":[\"ENTP\",\"ENTP\",\"ENTP\",\"ENTP\",\"ENTP\",\"ENTP\",\"ENTP\",\"ENTP\",\"ENTP\",\"ENTP\",\"ENTP\",\"ENTP\",\"ENTP\",\"ENTP\",\"ENTP\",\"ENTP\",\"ENTP\",\"ENTP\",\"ENTP\",\"ENTP\",\"ENTP\",\"ENTP\",\"ENTP\",\"ENTP\",\"ENTP\",\"ENTP\",\"ENTP\",\"ENTP\",\"ENTP\",\"ENTP\",\"ENTP\",\"ENTP\",\"ENTP\",\"ENTP\",\"ENTP\",\"ENTP\",\"ENTP\",\"ENTP\",\"ENTP\",\"ENTP\",\"ENTP\",\"ENTP\",\"ENTP\",\"ENTP\",\"ENTP\",\"ENTP\",\"ENTP\",\"ENTP\",\"ENTP\",\"ENTP\",\"ENTP\",\"ENTP\",\"ENTP\",\"ENTP\",\"ENTP\",\"ENTP\",\"ENTP\",\"ENTP\",\"ENTP\",\"ENTP\",\"ENTP\",\"ENTP\",\"ENTP\",\"ENTP\",\"ENTP\",\"ENTP\",\"ENTP\",\"ENTP\",\"ENTP\",\"ENTP\",\"ENTP\",\"ENTP\",\"ENTP\",\"ENTP\",\"ENTP\",\"ENTP\",\"ENTP\",\"ENTP\",\"ENTP\",\"ENTP\",\"ENTP\",\"ENTP\",\"ENTP\",\"ENTP\",\"ENTP\",\"ENTP\",\"ENTP\",\"ENTP\",\"ENTP\",\"ENTP\",\"ENTP\",\"ENTP\",\"ENTP\",\"ENTP\",\"ENTP\",\"ENTP\",\"ENTP\",\"ENTP\",\"ENTP\",\"ENTP\",\"ENTP\",\"ENTP\",\"ENTP\",\"ENTP\",\"ENTP\",\"ENTP\",\"ENTP\",\"ENTP\",\"ENTP\",\"ENTP\",\"ENTP\",\"ENTP\",\"ENTP\",\"ENTP\",\"ENTP\",\"ENTP\",\"ENTP\",\"ENTP\",\"ENTP\",\"ENTP\",\"ENTP\",\"ENTP\",\"ENTP\",\"ENTP\",\"ENTP\",\"ENTP\",\"ENTP\",\"ENTP\",\"ENTP\",\"ENTP\",\"ENTP\",\"ENTP\",\"ENTP\",\"ENTP\",\"ENTP\",\"ENTP\",\"ENTP\",\"ENTP\",\"ENTP\",\"ENTP\",\"ENTP\",\"ENTP\",\"ENTP\",\"ENTP\",\"ENTP\",\"ENTP\",\"ENTP\",\"ENTP\",\"ENTP\",\"ENTP\",\"ENTP\",\"ENTP\",\"ENTP\",\"ENTP\",\"ENTP\",\"ENTP\",\"ENTP\",\"ENTP\",\"ENTP\",\"ENTP\",\"ENTP\",\"ENTP\",\"ENTP\",\"ENTP\",\"ENTP\",\"ENTP\",\"ENTP\",\"ENTP\",\"ENTP\",\"ENTP\",\"ENTP\",\"ENTP\",\"ENTP\",\"ENTP\",\"ENTP\",\"ENTP\",\"ENTP\",\"ENTP\",\"ENTP\",\"ENTP\",\"ENTP\",\"ENTP\",\"ENTP\",\"ENTP\",\"ENTP\",\"ENTP\",\"ENTP\",\"ENTP\",\"ENTP\",\"ENTP\",\"ENTP\",\"ENTP\",\"ENTP\",\"ENTP\",\"ENTP\",\"ENTP\",\"ENTP\",\"ENTP\",\"ENTP\",\"ENTP\",\"ENTP\",\"ENTP\",\"ENTP\",\"ENTP\",\"ENTP\",\"ENTP\",\"ENTP\",\"ENTP\",\"ENTP\",\"ENTP\",\"ENTP\",\"ENTP\",\"ENTP\",\"ENTP\",\"ENTP\",\"ENTP\",\"ENTP\",\"ENTP\",\"ENTP\",\"ENTP\",\"ENTP\",\"ENTP\",\"ENTP\",\"ENTP\",\"ENTP\",\"ENTP\",\"ENTP\",\"ENTP\",\"ENTP\",\"ENTP\",\"ENTP\",\"ENTP\",\"ENTP\",\"ENTP\",\"ENTP\",\"ENTP\",\"ENTP\",\"ENTP\",\"ENTP\",\"ENTP\",\"ENTP\",\"ENTP\",\"ENTP\",\"ENTP\",\"ENTP\",\"ENTP\",\"ENTP\",\"ENTP\",\"ENTP\",\"ENTP\",\"ENTP\",\"ENTP\",\"ENTP\",\"ENTP\",\"ENTP\",\"ENTP\",\"ENTP\",\"ENTP\",\"ENTP\",\"ENTP\"],\"precision\":{\"__ndarray__\":\"4A/4A/6A7z/gD/gD/oDvPwAAAAAAgO8/AAAAAACA7z/w9/v9fr/vP/D3+/1+v+8/AAAAAAAA8D8AAAAAAADwPwAAAAAAAPA/AAAAAAAA8D8AAAAAAADwPwAAAAAAAPA/AAAAAAAA8D8AAAAAAADwPwAAAAAAAPA/AAAAAAAA8D8AAAAAAADwPwAAAAAAAPA/AAAAAAAA8D8AAAAAAADwPwAAAAAAAPA/AAAAAAAA8D8AAAAAAADwPwAAAAAAAPA/AAAAAAAA8D8AAAAAAADwPwAAAAAAAPA/AAAAAAAA8D8AAAAAAADwPwAAAAAAAPA/AAAAAAAA8D8AAAAAAADwPwAAAAAAAPA/AAAAAAAA8D8AAAAAAADwPwAAAAAAAPA/AAAAAAAA8D8AAAAAAADwPwAAAAAAAPA/AAAAAAAA8D8AAAAAAADwPwAAAAAAAPA/AAAAAAAA8D8AAAAAAADwPwAAAAAAAPA/AAAAAAAA8D8AAAAAAADwPwAAAAAAAPA/AAAAAAAA8D8AAAAAAADwPwAAAAAAAPA/AAAAAAAA8D8AAAAAAADwPwAAAAAAAPA/AAAAAAAA8D8AAAAAAADwPwAAAAAAAPA/AAAAAAAA8D8AAAAAAADwPwAAAAAAAPA/AAAAAAAA8D8AAAAAAADwPwAAAAAAAPA/AAAAAAAA8D8AAAAAAADwPwAAAAAAAPA/AAAAAAAA8D8AAAAAAADwPwAAAAAAAPA/AAAAAAAA8D8AAAAAAADwPwAAAAAAAPA/AAAAAAAA8D8AAAAAAADwPwAAAAAAAPA/AAAAAAAA8D8AAAAAAADwPwAAAAAAAPA/AAAAAAAA8D8AAAAAAADwPwAAAAAAAPA/AAAAAAAA8D8AAAAAAADwPwAAAAAAAPA/AAAAAAAA8D8AAAAAAADwPwAAAAAAAPA/AAAAAAAA8D8AAAAAAADwPwAAAAAAAPA/AAAAAAAA8D8AAAAAAADwPwAAAAAAAPA/AAAAAAAA8D8AAAAAAADwPwAAAAAAAPA/AAAAAAAA8D8AAAAAAADwPwAAAAAAAPA/AAAAAAAA8D8AAAAAAADwPwAAAAAAAPA/AAAAAAAA8D8AAAAAAADwPwAAAAAAAPA/AAAAAAAA8D8AAAAAAADwPwAAAAAAAPA/AAAAAAAA8D8AAAAAAADwPwAAAAAAAPA/AAAAAAAA8D8AAAAAAADwPwAAAAAAAPA/AAAAAAAA8D8AAAAAAADwPwAAAAAAAPA/AAAAAAAA8D8AAAAAAADwPwAAAAAAAPA/AAAAAAAA8D8AAAAAAADwPwAAAAAAAPA/AAAAAAAA8D8AAAAAAADwPwAAAAAAAPA/AAAAAAAA8D8AAAAAAADwPwAAAAAAAPA/AAAAAAAA8D8AAAAAAADwPwAAAAAAAPA/AAAAAAAA8D8AAAAAAADwPwAAAAAAAPA/AAAAAAAA8D8AAAAAAADwPwAAAAAAAPA/AAAAAAAA8D8AAAAAAADwPwAAAAAAAPA/AAAAAAAA8D8AAAAAAADwPwAAAAAAAPA/AAAAAAAA8D8AAAAAAADwPwAAAAAAAPA/AAAAAAAA8D8AAAAAAADwPwAAAAAAAPA/AAAAAAAA8D8AAAAAAADwPwAAAAAAAPA/AAAAAAAA8D8AAAAAAADwPwAAAAAAAPA/AAAAAAAA8D8AAAAAAADwPwAAAAAAAPA/AAAAAAAA8D8AAAAAAADwPwAAAAAAAPA/AAAAAAAA8D8AAAAAAADwPwAAAAAAAPA/AAAAAAAA8D8AAAAAAADwPwAAAAAAAPA/AAAAAAAA8D8AAAAAAADwPwAAAAAAAPA/AAAAAAAA8D8AAAAAAADwPwAAAAAAAPA/AAAAAAAA8D8AAAAAAADwPwAAAAAAAPA/AAAAAAAA8D8AAAAAAADwPwAAAAAAAPA/AAAAAAAA8D8AAAAAAADwPwAAAAAAAPA/AAAAAAAA8D8AAAAAAADwPwAAAAAAAPA/AAAAAAAA8D8AAAAAAADwPwAAAAAAAPA/AAAAAAAA8D8AAAAAAADwPwAAAAAAAPA/AAAAAAAA8D8AAAAAAADwPwAAAAAAAPA/AAAAAAAA8D8AAAAAAADwPwAAAAAAAPA/AAAAAAAA8D8AAAAAAADwPwAAAAAAAPA/AAAAAAAA8D8AAAAAAADwPwAAAAAAAPA/AAAAAAAA8D8AAAAAAADwPwAAAAAAAPA/AAAAAAAA8D8AAAAAAADwPwAAAAAAAPA/AAAAAAAA8D8AAAAAAADwPwAAAAAAAPA/AAAAAAAA8D8AAAAAAADwPwAAAAAAAPA/AAAAAAAA8D8AAAAAAADwPwAAAAAAAPA/AAAAAAAA8D8AAAAAAADwPwAAAAAAAPA/AAAAAAAA8D8AAAAAAADwPwAAAAAAAPA/AAAAAAAA8D8AAAAAAADwPwAAAAAAAPA/AAAAAAAA8D8AAAAAAADwPwAAAAAAAPA/AAAAAAAA8D8AAAAAAADwPwAAAAAAAPA/AAAAAAAA8D8AAAAAAADwPwAAAAAAAPA/AAAAAAAA8D8AAAAAAADwPwAAAAAAAPA/AAAAAAAA8D8AAAAAAADwPwAAAAAAAPA/AAAAAAAA8D8AAAAAAADwPwAAAAAAAPA/AAAAAAAA8D8AAAAAAADwPwAAAAAAAPA/AAAAAAAA8D8AAAAAAADwPwAAAAAAAPA/AAAAAAAA8D8AAAAAAADwPwAAAAAAAPA/AAAAAAAA8D8AAAAAAADwPwAAAAAAAPA/AAAAAAAA8D8AAAAAAADwPw==\",\"dtype\":\"float64\",\"order\":\"little\",\"shape\":[260]},\"recall\":{\"__ndarray__\":\"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\",\"dtype\":\"float64\",\"order\":\"little\",\"shape\":[260]}},\"selected\":{\"id\":\"4663\"},\"selection_policy\":{\"id\":\"4683\"}},\"id\":\"4662\",\"type\":\"ColumnDataSource\"},{\"attributes\":{\"source\":{\"id\":\"5106\"}},\"id\":\"5113\",\"type\":\"CDSView\"},{\"attributes\":{},\"id\":\"4590\",\"type\":\"BasicTickFormatter\"},{\"attributes\":{\"data\":{\"name_class\":[\"INTJ\",\"INTJ\",\"INTJ\",\"INTJ\",\"INTJ\",\"INTJ\",\"INTJ\",\"INTJ\",\"INTJ\",\"INTJ\",\"INTJ\",\"INTJ\",\"INTJ\",\"INTJ\",\"INTJ\",\"INTJ\",\"INTJ\",\"INTJ\",\"INTJ\",\"INTJ\",\"INTJ\",\"INTJ\",\"INTJ\",\"INTJ\",\"INTJ\",\"INTJ\",\"INTJ\",\"INTJ\",\"INTJ\",\"INTJ\",\"INTJ\",\"INTJ\",\"INTJ\",\"INTJ\",\"INTJ\",\"INTJ\",\"INTJ\",\"INTJ\",\"INTJ\",\"INTJ\",\"INTJ\",\"INTJ\",\"INTJ\",\"INTJ\",\"INTJ\",\"INTJ\",\"INTJ\",\"INTJ\",\"INTJ\",\"INTJ\",\"INTJ\",\"INTJ\",\"INTJ\",\"INTJ\",\"INTJ\",\"INTJ\",\"INTJ\",\"INTJ\",\"INTJ\",\"INTJ\",\"INTJ\",\"INTJ\",\"INTJ\",\"INTJ\",\"INTJ\",\"INTJ\",\"INTJ\",\"INTJ\",\"INTJ\",\"INTJ\",\"INTJ\",\"INTJ\",\"INTJ\",\"INTJ\",\"INTJ\",\"INTJ\",\"INTJ\",\"INTJ\",\"INTJ\",\"INTJ\",\"INTJ\",\"INTJ\",\"INTJ\",\"INTJ\",\"INTJ\",\"INTJ\",\"INTJ\",\"INTJ\",\"INTJ\",\"INTJ\",\"INTJ\",\"INTJ\",\"INTJ\",\"INTJ\",\"INTJ\",\"INTJ\",\"INTJ\",\"INTJ\",\"INTJ\",\"INTJ\",\"INTJ\",\"INTJ\",\"INTJ\",\"INTJ\",\"INTJ\",\"INTJ\",\"INTJ\",\"INTJ\",\"INTJ\",\"INTJ\",\"INTJ\",\"INTJ\",\"INTJ\",\"INTJ\",\"INTJ\",\"INTJ\",\"INTJ\",\"INTJ\",\"INTJ\",\"INTJ\",\"INTJ\",\"INTJ\",\"INTJ\",\"INTJ\",\"INTJ\",\"INTJ\",\"INTJ\",\"INTJ\",\"INTJ\",\"INTJ\",\"INTJ\",\"INTJ\",\"INTJ\",\"INTJ\",\"INTJ\",\"INTJ\",\"INTJ\",\"INTJ\",\"INTJ\",\"INTJ\",\"INTJ\",\"INTJ\",\"INTJ\",\"INTJ\",\"INTJ\",\"INTJ\",\"INTJ\",\"INTJ\",\"INTJ\",\"INTJ\",\"INTJ\",\"INTJ\",\"INTJ\",\"INTJ\",\"INTJ\",\"INTJ\",\"INTJ\",\"INTJ\",\"INTJ\",\"INTJ\",\"INTJ\",\"INTJ\",\"INTJ\",\"INTJ\"],\"precision\":{\"__ndarray__\":\"AAAAAAAA8D8AAAAAAADwPwAAAAAAAPA/AAAAAAAA8D8AAAAAAADwPwAAAAAAAPA/AAAAAAAA8D8AAAAAAADwPwAAAAAAAPA/AAAAAAAA8D8AAAAAAADwPwAAAAAAAPA/AAAAAAAA8D8AAAAAAADwPwAAAAAAAPA/AAAAAAAA8D8AAAAAAADwPwAAAAAAAPA/AAAAAAAA8D8AAAAAAADwPwAAAAAAAPA/AAAAAAAA8D8AAAAAAADwPwAAAAAAAPA/AAAAAAAA8D8AAAAAAADwPwAAAAAAAPA/AAAAAAAA8D8AAAAAAADwPwAAAAAAAPA/AAAAAAAA8D8AAAAAAADwPwAAAAAAAPA/AAAAAAAA8D8AAAAAAADwPwAAAAAAAPA/AAAAAAAA8D8AAAAAAADwPwAAAAAAAPA/AAAAAAAA8D8AAAAAAADwPwAAAAAAAPA/AAAAAAAA8D8AAAAAAADwPwAAAAAAAPA/AAAAAAAA8D8AAAAAAADwPwAAAAAAAPA/AAAAAAAA8D8AAAAAAADwPwAAAAAAAPA/AAAAAAAA8D8AAAAAAADwPwAAAAAAAPA/AAAAAAAA8D8AAAAAAADwPwAAAAAAAPA/AAAAAAAA8D8AAAAAAADwPwAAAAAAAPA/AAAAAAAA8D8AAAAAAADwPwAAAAAAAPA/AAAAAAAA8D8AAAAAAADwPwAAAAAAAPA/AAAAAAAA8D8AAAAAAADwPwAAAAAAAPA/AAAAAAAA8D8AAAAAAADwPwAAAAAAAPA/AAAAAAAA8D8AAAAAAADwPwAAAAAAAPA/AAAAAAAA8D8AAAAAAADwPwAAAAAAAPA/AAAAAAAA8D8AAAAAAADwPwAAAAAAAPA/AAAAAAAA8D8AAAAAAADwPwAAAAAAAPA/AAAAAAAA8D8AAAAAAADwPwAAAAAAAPA/AAAAAAAA8D8AAAAAAADwPwAAAAAAAPA/AAAAAAAA8D8AAAAAAADwPwAAAAAAAPA/AAAAAAAA8D8AAAAAAADwPwAAAAAAAPA/AAAAAAAA8D8AAAAAAADwPwAAAAAAAPA/AAAAAAAA8D8AAAAAAADwPwAAAAAAAPA/AAAAAAAA8D8AAAAAAADwPwAAAAAAAPA/AAAAAAAA8D8AAAAAAADwPwAAAAAAAPA/AAAAAAAA8D8AAAAAAADwPwAAAAAAAPA/AAAAAAAA8D8AAAAAAADwPwAAAAAAAPA/AAAAAAAA8D8AAAAAAADwPwAAAAAAAPA/AAAAAAAA8D8AAAAAAADwPwAAAAAAAPA/AAAAAAAA8D8AAAAAAADwPwAAAAAAAPA/AAAAAAAA8D8AAAAAAADwPwAAAAAAAPA/AAAAAAAA8D8AAAAAAADwPwAAAAAAAPA/AAAAAAAA8D8AAAAAAADwPwAAAAAAAPA/AAAAAAAA8D8AAAAAAADwPwAAAAAAAPA/AAAAAAAA8D8AAAAAAADwPwAAAAAAAPA/AAAAAAAA8D8AAAAAAADwPwAAAAAAAPA/AAAAAAAA8D8AAAAAAADwPwAAAAAAAPA/AAAAAAAA8D8AAAAAAADwPwAAAAAAAPA/AAAAAAAA8D8AAAAAAADwPwAAAAAAAPA/AAAAAAAA8D8AAAAAAADwPwAAAAAAAPA/AAAAAAAA8D8AAAAAAADwPwAAAAAAAPA/AAAAAAAA8D8AAAAAAADwPwAAAAAAAPA/AAAAAAAA8D8AAAAAAADwPwAAAAAAAPA/AAAAAAAA8D8AAAAAAADwPw==\",\"dtype\":\"float64\",\"order\":\"little\",\"shape\":[164]},\"recall\":{\"__ndarray__\":\"AAAAAAAA8D8sUgaebs3vPyxSBp5uze8/hPYS2kto7z+E9hLaS2jvP92aHxYpA+8/3ZofFikD7z82PyxSBp7uPzY/LFIGnu4/juM4juM47j+O4ziO4zjuP+aHRcrA0+0/5odFysDT7T8/LFIGnm7tPz8sUgaebu0/mNBeQnsJ7T+Y0F5CewntP/B0a35YpOw/8HRrflik7D9IGXi6NT/sP0gZeLo1P+w/ob2E9hLa6z+hvYT2EtrrP/phkTLwdOs/+mGRMvB06z9SBp5uzQ/rP1IGnm7ND+s/qqqqqqqq6j+qqqqqqqrqPwNPt+aHReo/A0+35odF6j9c88MiZeDpP1zzwyJl4Ok/tJfQXkJ76T+0l9BeQnvpPww83ZofFuk/DDzdmh8W6T9l4OnW/LDoP2Xg6db8sOg/voT2EtpL6D++hPYS2kvoPxYpA0+35uc/FikDT7fm5z9uzQ+LlIHnP27ND4uUgec/x3Ecx3Ec5z/HcRzHcRznPyAWKQNPt+Y/IBYpA0+35j94ujU/LFLmP3i6NT8sUuY/0F5Cewnt5T/QXkJ7Ce3lPykDT7fmh+U/KQNPt+aH5T+Cp1vzwyLlP4KnW/PDIuU/2ktoL6G95D/aS2gvob3kPzLwdGt+WOQ/MvB0a35Y5D+LlIGnW/PjP4uUgadb8+M/5DiO4ziO4z/kOI7jOI7jPzzdmh8WKeM/PN2aHxYp4z+Ugadb88PiP5SBp1vzw+I/7SW0l9Be4j/tJbSX0F7iP0bKwNOt+eE/RsrA06354T+ebs0Pi5ThP55uzQ+LlOE/9hLaS2gv4T/2EtpLaC/hP0+35odFyuA/T7fmh0XK4D+oW/PDImXgP6hb88MiZeA/AAAAAAAA4D8AAAAAAADgP7BIGXi6Nd8/sEgZeLo13z9ikTLwdGveP2KRMvB0a94/EtpLaC+h3T8S2ktoL6HdP8QiZeDp1tw/xCJl4OnW3D90a35YpAzcP3RrflikDNw/JrSX0F5C2z8mtJfQXkLbP9b8sEgZeNo/1vywSBl42j+IRcrA063ZP4hFysDTrdk/OI7jOI7j2D84juM4juPYP+rW/LBIGdg/6tb8sEgZ2D+aHxYpA0/XP5ofFikDT9c/TGgvob2E1j9MaC+hvYTWP/ywSBl4utU//LBIGXi61T+u+WGRMvDUP675YZEy8NQ/XkJ7Ce0l1D9eQnsJ7SXUPxCLlIGnW9M/EIuUgadb0z/A0635YZHSP8DTrflhkdI/chzHcRzH0T9yHMdxHMfRPyJl4OnW/NA/ImXg6db80D/UrflhkTLQP9St+WGRMtA/Ce0ltJfQzj8J7SW0l9DOP2t+WKQMPM0/a35YpAw8zT/ND4uUgafLP80Pi5SBp8s/L6G9hPYSyj8vob2E9hLKP5Ey8HRrfsg/kTLwdGt+yD/zwyJl4OnGP/PDImXg6cY/VVVVVVVVxT9VVVVVVVXFP7fmh0XKwMM/t+aHRcrAwz8ZeLo1PyzCPxl4ujU/LMI/ewntJbSXwD97Ce0ltJfAP7o1PyxSBr4/ujU/LFIGvj9+WKQMPN26P35YpAw83bo/QnsJ7SW0tz9CewntJbS3Pwaebs0Pi7Q/Bp5uzQ+LtD/KwNOt+WGxP8rA0635YbE/HMdxHMdxrD8cx3Ecx3GsP6QMPN2aH6Y/pAw83Zofpj9YpAw83ZqfP1ikDDzdmp8/aC+hvYT2kj9oL6G9hPaSP+Dp1vywSHk/4OnW/LBIeT8AAAAAAAAAAA==\",\"dtype\":\"float64\",\"order\":\"little\",\"shape\":[164]}},\"selected\":{\"id\":\"4887\"},\"selection_policy\":{\"id\":\"4921\"}},\"id\":\"4886\",\"type\":\"ColumnDataSource\"},{\"attributes\":{\"label\":{\"value\":\"ENTP\"},\"renderers\":[{\"id\":\"4668\"}]},\"id\":\"4686\",\"type\":\"LegendItem\"},{\"attributes\":{\"bottom_units\":\"screen\",\"coordinates\":null,\"fill_alpha\":0.5,\"fill_color\":\"lightgrey\",\"group\":null,\"left_units\":\"screen\",\"level\":\"overlay\",\"line_alpha\":1.0,\"line_color\":\"black\",\"line_dash\":[4,4],\"line_width\":2,\"right_units\":\"screen\",\"syncable\":false,\"top_units\":\"screen\"},\"id\":\"4581\",\"type\":\"BoxAnnotation\"},{\"attributes\":{\"overlay\":{\"id\":\"4581\"}},\"id\":\"4579\",\"type\":\"BoxZoomTool\"},{\"attributes\":{},\"id\":\"4927\",\"type\":\"Selection\"},{\"attributes\":{\"coordinates\":null,\"data_source\":{\"id\":\"4662\"},\"glyph\":{\"id\":\"4665\"},\"group\":null,\"hover_glyph\":null,\"muted_glyph\":{\"id\":\"4667\"},\"nonselection_glyph\":{\"id\":\"4666\"},\"selection_glyph\":{\"id\":\"4687\"},\"view\":{\"id\":\"4669\"}},\"id\":\"4668\",\"type\":\"GlyphRenderer\"},{\"attributes\":{\"line_color\":\"#8b8b8b\",\"line_width\":2,\"x\":{\"field\":\"recall\"},\"y\":{\"field\":\"precision\"}},\"id\":\"4715\",\"type\":\"Line\"},{\"attributes\":{},\"id\":\"4580\",\"type\":\"ResetTool\"},{\"attributes\":{\"line_color\":\"#8b8b8b\",\"line_width\":2,\"x\":{\"field\":\"recall\"},\"y\":{\"field\":\"precision\"}},\"id\":\"4691\",\"type\":\"Line\"},{\"attributes\":{\"line_color\":\"#6d904f\",\"line_width\":2,\"x\":{\"field\":\"recall\"},\"y\":{\"field\":\"precision\"}},\"id\":\"5109\",\"type\":\"Line\"},{\"attributes\":{\"line_alpha\":0.1,\"line_color\":\"#6d904f\",\"line_width\":2,\"x\":{\"field\":\"recall\"},\"y\":{\"field\":\"precision\"}},\"id\":\"5110\",\"type\":\"Line\"},{\"attributes\":{},\"id\":\"4576\",\"type\":\"SaveTool\"},{\"attributes\":{},\"id\":\"4578\",\"type\":\"WheelZoomTool\"},{\"attributes\":{\"line_color\":\"#6d904f\",\"line_width\":2,\"x\":{\"field\":\"recall\"},\"y\":{\"field\":\"precision\"}},\"id\":\"4665\",\"type\":\"Line\"},{\"attributes\":{\"coordinates\":null,\"data_source\":{\"id\":\"5012\"},\"glyph\":{\"id\":\"5015\"},\"group\":null,\"hover_glyph\":null,\"muted_glyph\":{\"id\":\"5017\"},\"nonselection_glyph\":{\"id\":\"5016\"},\"selection_glyph\":{\"id\":\"5057\"},\"view\":{\"id\":\"5019\"}},\"id\":\"5018\",\"type\":\"GlyphRenderer\"},{\"attributes\":{},\"id\":\"4849\",\"type\":\"Selection\"}],\"root_ids\":[\"4539\"]},\"title\":\"Bokeh Application\",\"version\":\"2.4.2\"}};\n",
       "    var render_items = [{\"docid\":\"4a21836b-f5b2-4097-82fa-e2a1238defb2\",\"root_ids\":[\"4539\"],\"roots\":{\"4539\":\"b7600ff2-8d1c-4766-8d31-610ae531fd3a\"}}];\n",
       "    root.Bokeh.embed.embed_items_notebook(docs_json, render_items);\n",
       "  }\n",
       "  if (root.Bokeh !== undefined && root.Bokeh.Panel !== undefined) {\n",
       "    embed_document(root);\n",
       "  } else {\n",
       "    var attempts = 0;\n",
       "    var timer = setInterval(function(root) {\n",
       "      if (root.Bokeh !== undefined && root.Bokeh.Panel !== undefined) {\n",
       "        clearInterval(timer);\n",
       "        embed_document(root);\n",
       "      } else if (document.readyState == \"complete\") {\n",
       "        attempts++;\n",
       "        if (attempts > 200) {\n",
       "          clearInterval(timer);\n",
       "          console.log(\"Bokeh: ERROR: Unable to run BokehJS code because BokehJS library is missing\");\n",
       "        }\n",
       "      }\n",
       "    }, 25, root)\n",
       "  }\n",
       "})(window);</script>"
      ],
      "text/plain": [
       ":NdOverlay   [name_class]\n",
       "   :Curve   [recall]   (precision)"
      ]
     },
     "execution_count": 224,
     "metadata": {
      "application/vnd.holoviews_exec.v0+json": {
       "id": "4539"
      }
     },
     "output_type": "execute_result"
    }
   ],
   "source": [
    "data_metrics.hvplot.step(x='recall', y='precision', by = 'name_class', width=900, height=500)"
   ]
  },
  {
   "cell_type": "markdown",
   "id": "a25ec0c5",
   "metadata": {},
   "source": [
    "График precision_recall_curve показывает изменение значения precision от порога recall  \n",
    "На графике видно, что площадь под графиком меньше всего у классов INFJ, ISFP данные классы сильно отбиваются от остальной группы. В данных классах небольшое кол-во наблюдений (самое наименьшее) из-за чего снижается показатель метрики average_precision_score (площадь под графиком)"
   ]
  },
  {
   "cell_type": "code",
   "execution_count": 225,
   "id": "a9adf1c2",
   "metadata": {},
   "outputs": [],
   "source": [
    "def plot_confusion_matrix(cm, classes,\n",
    "                          normalize=False,\n",
    "                          title='Confusion matrix',\n",
    "                          cmap=plt.cm.Blues):\n",
    "    plt.figure(figsize=(12,12))\n",
    "    plt.imshow(cm, interpolation='nearest', cmap=cmap)\n",
    "    plt.title(title)\n",
    "    plt.colorbar()\n",
    "    tick_marks = np.arange(len(classes))\n",
    "    plt.xticks(tick_marks, classes, rotation=45)\n",
    "    plt.yticks(tick_marks, classes)\n",
    "\n",
    "    if normalize:\n",
    "        cm = cm.astype('float') / cm.sum(axis=1)[:, np.newaxis]\n",
    "        print(\"Normalized confusion matrix\")\n",
    "    else:\n",
    "        print('Confusion matrix, without normalization')\n",
    "\n",
    "    thresh = cm.max() / 2.\n",
    "    for i, j in itertools.product(range(cm.shape[0]), range(cm.shape[1])):\n",
    "        plt.text(j, i, cm[i, j],\n",
    "                 horizontalalignment=\"center\",\n",
    "                 color=\"white\" if cm[i, j] > thresh else \"black\")\n",
    "\n",
    "    plt.tight_layout()\n",
    "    plt.ylabel('True label')\n",
    "    plt.xlabel('Predicted label')"
   ]
  },
  {
   "cell_type": "code",
   "execution_count": 226,
   "id": "fd836137",
   "metadata": {
    "scrolled": false
   },
   "outputs": [
    {
     "name": "stdout",
     "output_type": "stream",
     "text": [
      "accuracy:   0.899\n",
      "Confusion matrix, without normalization\n"
     ]
    },
    {
     "data": {
      "image/png": "[encoded data removed]",
      "text/plain": [
       "<Figure size 864x864 with 2 Axes>"
      ]
     },
     "metadata": {},
     "output_type": "display_data"
    }
   ],
   "source": [
    "score = metrics.accuracy_score(y_test, test_pred)\n",
    "print(\"accuracy:   %0.3f\" % score)\n",
    "\n",
    "cm = metrics.confusion_matrix(y_test, test_pred, labels = list(y_test.unique()))\n",
    "plot_confusion_matrix(cm, classes= list(y_test.unique()))"
   ]
  },
  {
   "cell_type": "markdown",
   "id": "92431be9",
   "metadata": {},
   "source": [
    "Построили матрицу ошибок, на которой можно увидить значения TP, FP, FN, TN для каждого класса  \n",
    "Также для каждого класса можно сказать, как предсказала значения классов наша модель"
   ]
  },
  {
   "cell_type": "code",
   "execution_count": 227,
   "id": "0013b4dd",
   "metadata": {},
   "outputs": [
    {
     "name": "stdout",
     "output_type": "stream",
     "text": [
      "              precision    recall  f1-score   support\n",
      "\n",
      "        ENFJ       0.85      0.81      0.83        78\n",
      "        ENFP       0.90      0.90      0.90       113\n",
      "        ENTJ       0.89      0.88      0.89       180\n",
      "        ENTP       0.91      0.93      0.92       123\n",
      "        ESFJ       0.87      0.86      0.87       155\n",
      "        ESFP       0.89      0.82      0.86        40\n",
      "        ESTJ       0.93      0.97      0.95       646\n",
      "        ESTP       0.96      0.84      0.90       112\n",
      "        INFJ       0.75      0.63      0.69        38\n",
      "        INFP       0.85      0.86      0.85        51\n",
      "        INTJ       0.79      0.81      0.80        79\n",
      "        INTP       0.92      0.86      0.89        66\n",
      "        ISFJ       0.86      0.81      0.83        78\n",
      "        ISFP       0.78      0.84      0.81        25\n",
      "        ISTJ       0.92      0.94      0.93       338\n",
      "        ISTP       0.85      0.83      0.84        63\n",
      "\n",
      "    accuracy                           0.90      2185\n",
      "   macro avg       0.87      0.85      0.86      2185\n",
      "weighted avg       0.90      0.90      0.90      2185\n",
      "\n"
     ]
    }
   ],
   "source": [
    "print(classification_report(y_test, test_pred))"
   ]
  },
  {
   "cell_type": "markdown",
   "id": "1fee5862",
   "metadata": {},
   "source": [
    "В итоге получаем среднее значение для нашей ключевой метрики precision = 0.87 (процент правильных предсказанных 1 среди всех предсказанных единичек)"
   ]
  }
 ],
 "metadata": {
  "kernelspec": {
   "display_name": "Python 3 (ipykernel)",
   "language": "python",
   "name": "python3"
  },
  "language_info": {
   "codemirror_mode": {
    "name": "ipython",
    "version": 3
   },
   "file_extension": ".py",
   "mimetype": "text/x-python",
   "name": "python",
   "nbconvert_exporter": "python",
   "pygments_lexer": "ipython3",
   "version": "3.9.12"
  },
  "toc": {
   "base_numbering": 1,
   "nav_menu": {},
   "number_sections": true,
   "sideBar": true,
   "skip_h1_title": false,
   "title_cell": "Table of Contents",
   "title_sidebar": "Contents",
   "toc_cell": true,
   "toc_position": {
    "height": "calc(100% - 180px)",
    "left": "10px",
    "top": "150px",
    "width": "418px"
   },
   "toc_section_display": true,
   "toc_window_display": true
  }
 },
 "nbformat": 4,
 "nbformat_minor": 5
}
