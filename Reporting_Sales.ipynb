{
  "cells": [
    {
      "cell_type": "markdown",
      "metadata": {
        "id": "view-in-github",
        "colab_type": "text"
      },
      "source": [
        "<a href=\"https://colab.research.google.com/github/Playmen998/Data-Analysis/blob/master/Reporting_Sales.ipynb\" target=\"_parent\"><img src=\"https://colab.research.google.com/assets/colab-badge.svg\" alt=\"Open In Colab\"/></a>"
      ]
    },
    {
      "cell_type": "markdown",
      "source": [
        "# Описание и цели работы"
      ],
      "metadata": {
        "id": "XCLvFKX66aKw"
      },
      "id": "XCLvFKX66aKw"
    },
    {
      "cell_type": "markdown",
      "source": [
        "Вы работаете в бухгалтерии компании, занимающейся продажей запчастей для мотоциклов. Компания управляет тремя складами в большом мегаполисе.\n",
        "\n",
        "Недавно вы научились манипулировать данными и строить графики и предлагаете помочь своему коллеге проанализировать данные о прошлых продажах. Ваш коллега хочет зафиксировать продажи по способу оплаты. Ей также необходимо знать среднюю цену за единицу каждой линейки продуктов."
      ],
      "metadata": {
        "id": "2QdXF9bh6dFP"
      },
      "id": "2QdXF9bh6dFP"
    },
    {
      "cell_type": "markdown",
      "source": [
        "Данные о продажах имеют следующие поля:  \n",
        "- \"date\" - дата с июня по август 2021 года.\n",
        "- \"warehouse\" - компания управляет тремя складами: North, Central, and West.\n",
        "- \"client_type\" - есть два типа клиентов: Retail and Wholesale.\n",
        "- \"product_line\" - тип приобретаемых товаров.\n",
        "- \"quantity\" - сколько товаров было куплено.\n",
        "- \"unit_price\" - цена проданного товара.\n",
        "- \"total\" - общий объем продаж = quantity * unit_price.\n",
        "- \"payment\" - способ оплаты клиентом:: Cash, Credit card, Transfer."
      ],
      "metadata": {
        "id": "smx5eyfG6mrX"
      },
      "id": "smx5eyfG6mrX"
    },
    {
      "cell_type": "markdown",
      "source": [
        "Создайте отчет, чтобы ответить на вопросы вашего коллеги. Включают:\n",
        "\n",
        "1. Каков общий объем продаж для каждого способа оплаты? + визуализация \n",
        "2. Какова средняя цена за единицу каждой линейки продуктов? + визуализация \n",
        "3. Дальнейшее исследование (например, средняя стоимость покупки по типу клиента, общая стоимость покупки по продуктовой линейке и т. д.)\n",
        "4. Подведите итоги."
      ],
      "metadata": {
        "id": "M7LqEDP57Xnu"
      },
      "id": "M7LqEDP57Xnu"
    },
    {
      "cell_type": "markdown",
      "source": [
        "Ссылка на таблицу https://drive.google.com/file/d/1Mb9DH4tjfWK5Cb4-G3le4zly1HyCk4YM/view?usp=share_link"
      ],
      "metadata": {
        "id": "L7RkvUa88hwI"
      },
      "id": "L7RkvUa88hwI"
    },
    {
      "cell_type": "code",
      "source": [
        "!gdown 1Mb9DH4tjfWK5Cb4-G3le4zly1HyCk4YM"
      ],
      "metadata": {
        "colab": {
          "base_uri": "https://localhost:8080/"
        },
        "id": "i1ToFGKF8j5e",
        "outputId": "997d4aa8-8d36-4428-ec4e-079fbf99de1a"
      },
      "id": "i1ToFGKF8j5e",
      "execution_count": 1,
      "outputs": [
        {
          "output_type": "stream",
          "name": "stdout",
          "text": [
            "Downloading...\n",
            "From: https://drive.google.com/uc?id=1Mb9DH4tjfWK5Cb4-G3le4zly1HyCk4YM\n",
            "To: /content/sales_data.csv\n",
            "\r  0% 0.00/67.3k [00:00<?, ?B/s]\r100% 67.3k/67.3k [00:00<00:00, 14.5MB/s]\n"
          ]
        }
      ]
    },
    {
      "cell_type": "markdown",
      "source": [
        "#Разведывательный анализ данных"
      ],
      "metadata": {
        "id": "WzUEviEW8_T3"
      },
      "id": "WzUEviEW8_T3"
    },
    {
      "source": [
        "import pandas as pd\n",
        "import numpy as np\n",
        "import matplotlib.pyplot as plt\n",
        "import seaborn as sns"
      ],
      "metadata": {
        "id": "2af88bc7"
      },
      "id": "2af88bc7",
      "cell_type": "code",
      "execution_count": 2,
      "outputs": []
    },
    {
      "cell_type": "code",
      "source": [
        "df = pd.read_csv('/content/sales_data.csv')"
      ],
      "metadata": {
        "id": "GmciVVnj8863"
      },
      "id": "GmciVVnj8863",
      "execution_count": 3,
      "outputs": []
    },
    {
      "cell_type": "code",
      "source": [
        "df.head()"
      ],
      "metadata": {
        "colab": {
          "base_uri": "https://localhost:8080/",
          "height": 206
        },
        "id": "zhXWIMby91dG",
        "outputId": "fa2982d5-ede2-4f58-c3a8-98424a6e85c1"
      },
      "id": "zhXWIMby91dG",
      "execution_count": 4,
      "outputs": [
        {
          "output_type": "execute_result",
          "data": {
            "text/plain": [
              "         date warehouse client_type           product_line  quantity  \\\n",
              "0  2021-06-01   Central      Retail          Miscellaneous         8   \n",
              "1  2021-06-01     North      Retail        Breaking system         9   \n",
              "2  2021-06-01     North      Retail  Suspension & traction         8   \n",
              "3  2021-06-01     North   Wholesale           Frame & body        16   \n",
              "4  2021-06-01   Central      Retail                 Engine         2   \n",
              "\n",
              "   unit_price   total      payment  \n",
              "0       16.85  134.83  Credit card  \n",
              "1       19.29  173.61         Cash  \n",
              "2       32.93  263.45  Credit card  \n",
              "3       37.84  605.44     Transfer  \n",
              "4       60.48  120.96  Credit card  "
            ],
            "text/html": [
              "\n",
              "  <div id=\"df-21b9e3c3-fd7e-420a-8f8e-fd7ab795b28c\">\n",
              "    <div class=\"colab-df-container\">\n",
              "      <div>\n",
              "<style scoped>\n",
              "    .dataframe tbody tr th:only-of-type {\n",
              "        vertical-align: middle;\n",
              "    }\n",
              "\n",
              "    .dataframe tbody tr th {\n",
              "        vertical-align: top;\n",
              "    }\n",
              "\n",
              "    .dataframe thead th {\n",
              "        text-align: right;\n",
              "    }\n",
              "</style>\n",
              "<table border=\"1\" class=\"dataframe\">\n",
              "  <thead>\n",
              "    <tr style=\"text-align: right;\">\n",
              "      <th></th>\n",
              "      <th>date</th>\n",
              "      <th>warehouse</th>\n",
              "      <th>client_type</th>\n",
              "      <th>product_line</th>\n",
              "      <th>quantity</th>\n",
              "      <th>unit_price</th>\n",
              "      <th>total</th>\n",
              "      <th>payment</th>\n",
              "    </tr>\n",
              "  </thead>\n",
              "  <tbody>\n",
              "    <tr>\n",
              "      <th>0</th>\n",
              "      <td>2021-06-01</td>\n",
              "      <td>Central</td>\n",
              "      <td>Retail</td>\n",
              "      <td>Miscellaneous</td>\n",
              "      <td>8</td>\n",
              "      <td>16.85</td>\n",
              "      <td>134.83</td>\n",
              "      <td>Credit card</td>\n",
              "    </tr>\n",
              "    <tr>\n",
              "      <th>1</th>\n",
              "      <td>2021-06-01</td>\n",
              "      <td>North</td>\n",
              "      <td>Retail</td>\n",
              "      <td>Breaking system</td>\n",
              "      <td>9</td>\n",
              "      <td>19.29</td>\n",
              "      <td>173.61</td>\n",
              "      <td>Cash</td>\n",
              "    </tr>\n",
              "    <tr>\n",
              "      <th>2</th>\n",
              "      <td>2021-06-01</td>\n",
              "      <td>North</td>\n",
              "      <td>Retail</td>\n",
              "      <td>Suspension &amp; traction</td>\n",
              "      <td>8</td>\n",
              "      <td>32.93</td>\n",
              "      <td>263.45</td>\n",
              "      <td>Credit card</td>\n",
              "    </tr>\n",
              "    <tr>\n",
              "      <th>3</th>\n",
              "      <td>2021-06-01</td>\n",
              "      <td>North</td>\n",
              "      <td>Wholesale</td>\n",
              "      <td>Frame &amp; body</td>\n",
              "      <td>16</td>\n",
              "      <td>37.84</td>\n",
              "      <td>605.44</td>\n",
              "      <td>Transfer</td>\n",
              "    </tr>\n",
              "    <tr>\n",
              "      <th>4</th>\n",
              "      <td>2021-06-01</td>\n",
              "      <td>Central</td>\n",
              "      <td>Retail</td>\n",
              "      <td>Engine</td>\n",
              "      <td>2</td>\n",
              "      <td>60.48</td>\n",
              "      <td>120.96</td>\n",
              "      <td>Credit card</td>\n",
              "    </tr>\n",
              "  </tbody>\n",
              "</table>\n",
              "</div>\n",
              "      <button class=\"colab-df-convert\" onclick=\"convertToInteractive('df-21b9e3c3-fd7e-420a-8f8e-fd7ab795b28c')\"\n",
              "              title=\"Convert this dataframe to an interactive table.\"\n",
              "              style=\"display:none;\">\n",
              "        \n",
              "  <svg xmlns=\"http://www.w3.org/2000/svg\" height=\"24px\"viewBox=\"0 0 24 24\"\n",
              "       width=\"24px\">\n",
              "    <path d=\"M0 0h24v24H0V0z\" fill=\"none\"/>\n",
              "    <path d=\"M18.56 5.44l.94 2.06.94-2.06 2.06-.94-2.06-.94-.94-2.06-.94 2.06-2.06.94zm-11 1L8.5 8.5l.94-2.06 2.06-.94-2.06-.94L8.5 2.5l-.94 2.06-2.06.94zm10 10l.94 2.06.94-2.06 2.06-.94-2.06-.94-.94-2.06-.94 2.06-2.06.94z\"/><path d=\"M17.41 7.96l-1.37-1.37c-.4-.4-.92-.59-1.43-.59-.52 0-1.04.2-1.43.59L10.3 9.45l-7.72 7.72c-.78.78-.78 2.05 0 2.83L4 21.41c.39.39.9.59 1.41.59.51 0 1.02-.2 1.41-.59l7.78-7.78 2.81-2.81c.8-.78.8-2.07 0-2.86zM5.41 20L4 18.59l7.72-7.72 1.47 1.35L5.41 20z\"/>\n",
              "  </svg>\n",
              "      </button>\n",
              "      \n",
              "  <style>\n",
              "    .colab-df-container {\n",
              "      display:flex;\n",
              "      flex-wrap:wrap;\n",
              "      gap: 12px;\n",
              "    }\n",
              "\n",
              "    .colab-df-convert {\n",
              "      background-color: #E8F0FE;\n",
              "      border: none;\n",
              "      border-radius: 50%;\n",
              "      cursor: pointer;\n",
              "      display: none;\n",
              "      fill: #1967D2;\n",
              "      height: 32px;\n",
              "      padding: 0 0 0 0;\n",
              "      width: 32px;\n",
              "    }\n",
              "\n",
              "    .colab-df-convert:hover {\n",
              "      background-color: #E2EBFA;\n",
              "      box-shadow: 0px 1px 2px rgba(60, 64, 67, 0.3), 0px 1px 3px 1px rgba(60, 64, 67, 0.15);\n",
              "      fill: #174EA6;\n",
              "    }\n",
              "\n",
              "    [theme=dark] .colab-df-convert {\n",
              "      background-color: #3B4455;\n",
              "      fill: #D2E3FC;\n",
              "    }\n",
              "\n",
              "    [theme=dark] .colab-df-convert:hover {\n",
              "      background-color: #434B5C;\n",
              "      box-shadow: 0px 1px 3px 1px rgba(0, 0, 0, 0.15);\n",
              "      filter: drop-shadow(0px 1px 2px rgba(0, 0, 0, 0.3));\n",
              "      fill: #FFFFFF;\n",
              "    }\n",
              "  </style>\n",
              "\n",
              "      <script>\n",
              "        const buttonEl =\n",
              "          document.querySelector('#df-21b9e3c3-fd7e-420a-8f8e-fd7ab795b28c button.colab-df-convert');\n",
              "        buttonEl.style.display =\n",
              "          google.colab.kernel.accessAllowed ? 'block' : 'none';\n",
              "\n",
              "        async function convertToInteractive(key) {\n",
              "          const element = document.querySelector('#df-21b9e3c3-fd7e-420a-8f8e-fd7ab795b28c');\n",
              "          const dataTable =\n",
              "            await google.colab.kernel.invokeFunction('convertToInteractive',\n",
              "                                                     [key], {});\n",
              "          if (!dataTable) return;\n",
              "\n",
              "          const docLinkHtml = 'Like what you see? Visit the ' +\n",
              "            '<a target=\"_blank\" href=https://colab.research.google.com/notebooks/data_table.ipynb>data table notebook</a>'\n",
              "            + ' to learn more about interactive tables.';\n",
              "          element.innerHTML = '';\n",
              "          dataTable['output_type'] = 'display_data';\n",
              "          await google.colab.output.renderOutput(dataTable, element);\n",
              "          const docLink = document.createElement('div');\n",
              "          docLink.innerHTML = docLinkHtml;\n",
              "          element.appendChild(docLink);\n",
              "        }\n",
              "      </script>\n",
              "    </div>\n",
              "  </div>\n",
              "  "
            ]
          },
          "metadata": {},
          "execution_count": 4
        }
      ]
    },
    {
      "cell_type": "code",
      "source": [
        "df.shape"
      ],
      "metadata": {
        "colab": {
          "base_uri": "https://localhost:8080/"
        },
        "id": "QvKShmVd9SKW",
        "outputId": "58dab25e-2597-4aae-dc5a-de168df70595"
      },
      "id": "QvKShmVd9SKW",
      "execution_count": 5,
      "outputs": [
        {
          "output_type": "execute_result",
          "data": {
            "text/plain": [
              "(1000, 8)"
            ]
          },
          "metadata": {},
          "execution_count": 5
        }
      ]
    },
    {
      "cell_type": "markdown",
      "source": [
        "В таблице 1000 строк и 8 столбцов"
      ],
      "metadata": {
        "id": "2g3nmLnU9Yz1"
      },
      "id": "2g3nmLnU9Yz1"
    },
    {
      "cell_type": "code",
      "source": [
        "df.dtypes"
      ],
      "metadata": {
        "colab": {
          "base_uri": "https://localhost:8080/"
        },
        "id": "SkIXpG5s9bj2",
        "outputId": "5b52bb73-f2f8-4195-f204-163a2cac58a8"
      },
      "id": "SkIXpG5s9bj2",
      "execution_count": 6,
      "outputs": [
        {
          "output_type": "execute_result",
          "data": {
            "text/plain": [
              "date             object\n",
              "warehouse        object\n",
              "client_type      object\n",
              "product_line     object\n",
              "quantity          int64\n",
              "unit_price      float64\n",
              "total           float64\n",
              "payment          object\n",
              "dtype: object"
            ]
          },
          "metadata": {},
          "execution_count": 6
        }
      ]
    },
    {
      "cell_type": "markdown",
      "source": [
        "Колонка с датами представлена в типе данных object переведем в timestamp. Остальные колонки имеют правильный тип данных"
      ],
      "metadata": {
        "id": "59pkPuxa95eR"
      },
      "id": "59pkPuxa95eR"
    },
    {
      "cell_type": "code",
      "source": [
        "df['date'] = pd.to_datetime(df['date'], format = '%Y-%m-%d')"
      ],
      "metadata": {
        "id": "1zL4959t-TIG"
      },
      "id": "1zL4959t-TIG",
      "execution_count": 7,
      "outputs": []
    },
    {
      "cell_type": "code",
      "source": [
        "df.isna().mean()"
      ],
      "metadata": {
        "colab": {
          "base_uri": "https://localhost:8080/"
        },
        "id": "b9QDlGN7-lHO",
        "outputId": "bcd218a4-c0de-4e20-9ac5-8982b4c874cb"
      },
      "id": "b9QDlGN7-lHO",
      "execution_count": 8,
      "outputs": [
        {
          "output_type": "execute_result",
          "data": {
            "text/plain": [
              "date            0.0\n",
              "warehouse       0.0\n",
              "client_type     0.0\n",
              "product_line    0.0\n",
              "quantity        0.0\n",
              "unit_price      0.0\n",
              "total           0.0\n",
              "payment         0.0\n",
              "dtype: float64"
            ]
          },
          "metadata": {},
          "execution_count": 8
        }
      ]
    },
    {
      "cell_type": "markdown",
      "source": [
        "В данных нет пропусков, отлично!"
      ],
      "metadata": {
        "id": "iTGudm7-_Xz1"
      },
      "id": "iTGudm7-_Xz1"
    },
    {
      "cell_type": "code",
      "source": [
        "df.describe()"
      ],
      "metadata": {
        "colab": {
          "base_uri": "https://localhost:8080/",
          "height": 300
        },
        "id": "dQqm0SVt_al2",
        "outputId": "4234936e-b874-48ba-cc04-53e84cf467fe"
      },
      "id": "dQqm0SVt_al2",
      "execution_count": 9,
      "outputs": [
        {
          "output_type": "execute_result",
          "data": {
            "text/plain": [
              "          quantity   unit_price        total\n",
              "count  1000.000000  1000.000000  1000.000000\n",
              "mean      9.395000    30.322040   289.113000\n",
              "std       9.659207    12.256488   345.227596\n",
              "min       1.000000    10.030000    10.350000\n",
              "25%       4.000000    21.085000    93.687500\n",
              "50%       6.500000    28.570000   178.360000\n",
              "75%      10.000000    37.917500   321.690000\n",
              "max      40.000000    66.620000  2546.330000"
            ],
            "text/html": [
              "\n",
              "  <div id=\"df-c101ea33-c1da-447c-91b2-ec5ab2614335\">\n",
              "    <div class=\"colab-df-container\">\n",
              "      <div>\n",
              "<style scoped>\n",
              "    .dataframe tbody tr th:only-of-type {\n",
              "        vertical-align: middle;\n",
              "    }\n",
              "\n",
              "    .dataframe tbody tr th {\n",
              "        vertical-align: top;\n",
              "    }\n",
              "\n",
              "    .dataframe thead th {\n",
              "        text-align: right;\n",
              "    }\n",
              "</style>\n",
              "<table border=\"1\" class=\"dataframe\">\n",
              "  <thead>\n",
              "    <tr style=\"text-align: right;\">\n",
              "      <th></th>\n",
              "      <th>quantity</th>\n",
              "      <th>unit_price</th>\n",
              "      <th>total</th>\n",
              "    </tr>\n",
              "  </thead>\n",
              "  <tbody>\n",
              "    <tr>\n",
              "      <th>count</th>\n",
              "      <td>1000.000000</td>\n",
              "      <td>1000.000000</td>\n",
              "      <td>1000.000000</td>\n",
              "    </tr>\n",
              "    <tr>\n",
              "      <th>mean</th>\n",
              "      <td>9.395000</td>\n",
              "      <td>30.322040</td>\n",
              "      <td>289.113000</td>\n",
              "    </tr>\n",
              "    <tr>\n",
              "      <th>std</th>\n",
              "      <td>9.659207</td>\n",
              "      <td>12.256488</td>\n",
              "      <td>345.227596</td>\n",
              "    </tr>\n",
              "    <tr>\n",
              "      <th>min</th>\n",
              "      <td>1.000000</td>\n",
              "      <td>10.030000</td>\n",
              "      <td>10.350000</td>\n",
              "    </tr>\n",
              "    <tr>\n",
              "      <th>25%</th>\n",
              "      <td>4.000000</td>\n",
              "      <td>21.085000</td>\n",
              "      <td>93.687500</td>\n",
              "    </tr>\n",
              "    <tr>\n",
              "      <th>50%</th>\n",
              "      <td>6.500000</td>\n",
              "      <td>28.570000</td>\n",
              "      <td>178.360000</td>\n",
              "    </tr>\n",
              "    <tr>\n",
              "      <th>75%</th>\n",
              "      <td>10.000000</td>\n",
              "      <td>37.917500</td>\n",
              "      <td>321.690000</td>\n",
              "    </tr>\n",
              "    <tr>\n",
              "      <th>max</th>\n",
              "      <td>40.000000</td>\n",
              "      <td>66.620000</td>\n",
              "      <td>2546.330000</td>\n",
              "    </tr>\n",
              "  </tbody>\n",
              "</table>\n",
              "</div>\n",
              "      <button class=\"colab-df-convert\" onclick=\"convertToInteractive('df-c101ea33-c1da-447c-91b2-ec5ab2614335')\"\n",
              "              title=\"Convert this dataframe to an interactive table.\"\n",
              "              style=\"display:none;\">\n",
              "        \n",
              "  <svg xmlns=\"http://www.w3.org/2000/svg\" height=\"24px\"viewBox=\"0 0 24 24\"\n",
              "       width=\"24px\">\n",
              "    <path d=\"M0 0h24v24H0V0z\" fill=\"none\"/>\n",
              "    <path d=\"M18.56 5.44l.94 2.06.94-2.06 2.06-.94-2.06-.94-.94-2.06-.94 2.06-2.06.94zm-11 1L8.5 8.5l.94-2.06 2.06-.94-2.06-.94L8.5 2.5l-.94 2.06-2.06.94zm10 10l.94 2.06.94-2.06 2.06-.94-2.06-.94-.94-2.06-.94 2.06-2.06.94z\"/><path d=\"M17.41 7.96l-1.37-1.37c-.4-.4-.92-.59-1.43-.59-.52 0-1.04.2-1.43.59L10.3 9.45l-7.72 7.72c-.78.78-.78 2.05 0 2.83L4 21.41c.39.39.9.59 1.41.59.51 0 1.02-.2 1.41-.59l7.78-7.78 2.81-2.81c.8-.78.8-2.07 0-2.86zM5.41 20L4 18.59l7.72-7.72 1.47 1.35L5.41 20z\"/>\n",
              "  </svg>\n",
              "      </button>\n",
              "      \n",
              "  <style>\n",
              "    .colab-df-container {\n",
              "      display:flex;\n",
              "      flex-wrap:wrap;\n",
              "      gap: 12px;\n",
              "    }\n",
              "\n",
              "    .colab-df-convert {\n",
              "      background-color: #E8F0FE;\n",
              "      border: none;\n",
              "      border-radius: 50%;\n",
              "      cursor: pointer;\n",
              "      display: none;\n",
              "      fill: #1967D2;\n",
              "      height: 32px;\n",
              "      padding: 0 0 0 0;\n",
              "      width: 32px;\n",
              "    }\n",
              "\n",
              "    .colab-df-convert:hover {\n",
              "      background-color: #E2EBFA;\n",
              "      box-shadow: 0px 1px 2px rgba(60, 64, 67, 0.3), 0px 1px 3px 1px rgba(60, 64, 67, 0.15);\n",
              "      fill: #174EA6;\n",
              "    }\n",
              "\n",
              "    [theme=dark] .colab-df-convert {\n",
              "      background-color: #3B4455;\n",
              "      fill: #D2E3FC;\n",
              "    }\n",
              "\n",
              "    [theme=dark] .colab-df-convert:hover {\n",
              "      background-color: #434B5C;\n",
              "      box-shadow: 0px 1px 3px 1px rgba(0, 0, 0, 0.15);\n",
              "      filter: drop-shadow(0px 1px 2px rgba(0, 0, 0, 0.3));\n",
              "      fill: #FFFFFF;\n",
              "    }\n",
              "  </style>\n",
              "\n",
              "      <script>\n",
              "        const buttonEl =\n",
              "          document.querySelector('#df-c101ea33-c1da-447c-91b2-ec5ab2614335 button.colab-df-convert');\n",
              "        buttonEl.style.display =\n",
              "          google.colab.kernel.accessAllowed ? 'block' : 'none';\n",
              "\n",
              "        async function convertToInteractive(key) {\n",
              "          const element = document.querySelector('#df-c101ea33-c1da-447c-91b2-ec5ab2614335');\n",
              "          const dataTable =\n",
              "            await google.colab.kernel.invokeFunction('convertToInteractive',\n",
              "                                                     [key], {});\n",
              "          if (!dataTable) return;\n",
              "\n",
              "          const docLinkHtml = 'Like what you see? Visit the ' +\n",
              "            '<a target=\"_blank\" href=https://colab.research.google.com/notebooks/data_table.ipynb>data table notebook</a>'\n",
              "            + ' to learn more about interactive tables.';\n",
              "          element.innerHTML = '';\n",
              "          dataTable['output_type'] = 'display_data';\n",
              "          await google.colab.output.renderOutput(dataTable, element);\n",
              "          const docLink = document.createElement('div');\n",
              "          docLink.innerHTML = docLinkHtml;\n",
              "          element.appendChild(docLink);\n",
              "        }\n",
              "      </script>\n",
              "    </div>\n",
              "  </div>\n",
              "  "
            ]
          },
          "metadata": {},
          "execution_count": 9
        }
      ]
    },
    {
      "cell_type": "markdown",
      "source": [
        "Достаточно большие отклонения в столбце \"total\" max значения от 75% процентиля, скорее всего это из-за выбросов"
      ],
      "metadata": {
        "id": "YJWRkK_N_wwG"
      },
      "id": "YJWRkK_N_wwG"
    },
    {
      "cell_type": "code",
      "source": [
        "fig, axes = plt.subplots(2, 4)\n",
        "\n",
        "fig.set_figheight(8)\n",
        "fig.set_figwidth(15)\n",
        "\n",
        "x = 0\n",
        "y = 0\n",
        "for i in range(df.shape[1]):\n",
        "  if i < 4:\n",
        "    if (i == 0) | (i == 3):\n",
        "      axes[x][y].get_xaxis ().set_visible( False )\n",
        "    axes[x][y].hist(df.iloc[: , i], bins = 5, rwidth = 0.6)\n",
        "    axes[x][y].set_title(df.columns[i])\n",
        "    y += 1\n",
        "  else:\n",
        "    y -= 1\n",
        "    x = 1\n",
        "    axes[x][y].hist(df.iloc[: , i], bins = 5, rwidth = 0.6)\n",
        "    axes[x][y].set_title(df.columns[i])\n",
        "    \n",
        "plt.show()"
      ],
      "metadata": {
        "colab": {
          "base_uri": "https://localhost:8080/",
          "height": 499
        },
        "id": "j_yqIOBNlVz2",
        "outputId": "cf5dbc0d-a406-4b38-90ea-88a98e81b799"
      },
      "id": "j_yqIOBNlVz2",
      "execution_count": 10,
      "outputs": [
        {
          "output_type": "display_data",
          "data": {
            "text/plain": [
              "<Figure size 1080x576 with 8 Axes>"
            ],
            "image/png": "[encoded data removed]"
          },
          "metadata": {
            "needs_background": "light"
          }
        }
      ]
    },
    {
      "cell_type": "markdown",
      "source": [
        "Проанализируем распределения каждого столбца:\n",
        "+ В \"date\" распределение напоминает равномерное, тем неменее некоторые bins отклоняются\n",
        "+ В \"warehouse\" присутствует больше всего значений \"Central\" дальше идут \"North\" и \"West\" соответственно\n",
        "+ В \"client_type\" значение \"Retail\" имеет гораздо больше наблюдений, чем в \"Wholesale\" \n",
        "+ В \"payment\" значение \"Credit card\" имеет больше наблюдений, чем \"Cash\" и \"transfer\"\n",
        "+ Столбцы \"total\" , \"unit_price\", \"quantity\" имеют распределения с жирным хвостом"
      ],
      "metadata": {
        "id": "7FzytcA5yO86"
      },
      "id": "7FzytcA5yO86"
    },
    {
      "cell_type": "code",
      "source": [
        "df['product_line'].value_counts()"
      ],
      "metadata": {
        "colab": {
          "base_uri": "https://localhost:8080/"
        },
        "id": "Z1Y0pSAqyMs0",
        "outputId": "b61cd157-71fe-48c8-e652-5c13bdd5ec98"
      },
      "id": "Z1Y0pSAqyMs0",
      "execution_count": 11,
      "outputs": [
        {
          "output_type": "execute_result",
          "data": {
            "text/plain": [
              "Breaking system          230\n",
              "Suspension & traction    228\n",
              "Electrical system        193\n",
              "Frame & body             166\n",
              "Miscellaneous            122\n",
              "Engine                    61\n",
              "Name: product_line, dtype: int64"
            ]
          },
          "metadata": {},
          "execution_count": 11
        }
      ]
    },
    {
      "cell_type": "markdown",
      "source": [
        "Самые большие значения в столбце \"product_line\": \"Breaking system\", \"Suspension & traction\", \"Electrical system\""
      ],
      "metadata": {
        "id": "YvV2iYcJ0JGi"
      },
      "id": "YvV2iYcJ0JGi"
    },
    {
      "cell_type": "markdown",
      "source": [
        "# Анализ данных"
      ],
      "metadata": {
        "id": "KZbInQ780ihC"
      },
      "id": "KZbInQ780ihC"
    },
    {
      "cell_type": "markdown",
      "source": [
        "## Общий объем продаж для каждого способа оплаты"
      ],
      "metadata": {
        "id": "6ri7HdAQ0r8a"
      },
      "id": "6ri7HdAQ0r8a"
    },
    {
      "cell_type": "code",
      "source": [
        "df.head()"
      ],
      "metadata": {
        "colab": {
          "base_uri": "https://localhost:8080/",
          "height": 206
        },
        "id": "L0EVfFVr0xF6",
        "outputId": "8db27add-bd1f-4cf9-893b-3cc2ee43203a"
      },
      "id": "L0EVfFVr0xF6",
      "execution_count": 12,
      "outputs": [
        {
          "output_type": "execute_result",
          "data": {
            "text/plain": [
              "        date warehouse client_type           product_line  quantity  \\\n",
              "0 2021-06-01   Central      Retail          Miscellaneous         8   \n",
              "1 2021-06-01     North      Retail        Breaking system         9   \n",
              "2 2021-06-01     North      Retail  Suspension & traction         8   \n",
              "3 2021-06-01     North   Wholesale           Frame & body        16   \n",
              "4 2021-06-01   Central      Retail                 Engine         2   \n",
              "\n",
              "   unit_price   total      payment  \n",
              "0       16.85  134.83  Credit card  \n",
              "1       19.29  173.61         Cash  \n",
              "2       32.93  263.45  Credit card  \n",
              "3       37.84  605.44     Transfer  \n",
              "4       60.48  120.96  Credit card  "
            ],
            "text/html": [
              "\n",
              "  <div id=\"df-b2345731-aa86-47c1-9a81-928e321f930c\">\n",
              "    <div class=\"colab-df-container\">\n",
              "      <div>\n",
              "<style scoped>\n",
              "    .dataframe tbody tr th:only-of-type {\n",
              "        vertical-align: middle;\n",
              "    }\n",
              "\n",
              "    .dataframe tbody tr th {\n",
              "        vertical-align: top;\n",
              "    }\n",
              "\n",
              "    .dataframe thead th {\n",
              "        text-align: right;\n",
              "    }\n",
              "</style>\n",
              "<table border=\"1\" class=\"dataframe\">\n",
              "  <thead>\n",
              "    <tr style=\"text-align: right;\">\n",
              "      <th></th>\n",
              "      <th>date</th>\n",
              "      <th>warehouse</th>\n",
              "      <th>client_type</th>\n",
              "      <th>product_line</th>\n",
              "      <th>quantity</th>\n",
              "      <th>unit_price</th>\n",
              "      <th>total</th>\n",
              "      <th>payment</th>\n",
              "    </tr>\n",
              "  </thead>\n",
              "  <tbody>\n",
              "    <tr>\n",
              "      <th>0</th>\n",
              "      <td>2021-06-01</td>\n",
              "      <td>Central</td>\n",
              "      <td>Retail</td>\n",
              "      <td>Miscellaneous</td>\n",
              "      <td>8</td>\n",
              "      <td>16.85</td>\n",
              "      <td>134.83</td>\n",
              "      <td>Credit card</td>\n",
              "    </tr>\n",
              "    <tr>\n",
              "      <th>1</th>\n",
              "      <td>2021-06-01</td>\n",
              "      <td>North</td>\n",
              "      <td>Retail</td>\n",
              "      <td>Breaking system</td>\n",
              "      <td>9</td>\n",
              "      <td>19.29</td>\n",
              "      <td>173.61</td>\n",
              "      <td>Cash</td>\n",
              "    </tr>\n",
              "    <tr>\n",
              "      <th>2</th>\n",
              "      <td>2021-06-01</td>\n",
              "      <td>North</td>\n",
              "      <td>Retail</td>\n",
              "      <td>Suspension &amp; traction</td>\n",
              "      <td>8</td>\n",
              "      <td>32.93</td>\n",
              "      <td>263.45</td>\n",
              "      <td>Credit card</td>\n",
              "    </tr>\n",
              "    <tr>\n",
              "      <th>3</th>\n",
              "      <td>2021-06-01</td>\n",
              "      <td>North</td>\n",
              "      <td>Wholesale</td>\n",
              "      <td>Frame &amp; body</td>\n",
              "      <td>16</td>\n",
              "      <td>37.84</td>\n",
              "      <td>605.44</td>\n",
              "      <td>Transfer</td>\n",
              "    </tr>\n",
              "    <tr>\n",
              "      <th>4</th>\n",
              "      <td>2021-06-01</td>\n",
              "      <td>Central</td>\n",
              "      <td>Retail</td>\n",
              "      <td>Engine</td>\n",
              "      <td>2</td>\n",
              "      <td>60.48</td>\n",
              "      <td>120.96</td>\n",
              "      <td>Credit card</td>\n",
              "    </tr>\n",
              "  </tbody>\n",
              "</table>\n",
              "</div>\n",
              "      <button class=\"colab-df-convert\" onclick=\"convertToInteractive('df-b2345731-aa86-47c1-9a81-928e321f930c')\"\n",
              "              title=\"Convert this dataframe to an interactive table.\"\n",
              "              style=\"display:none;\">\n",
              "        \n",
              "  <svg xmlns=\"http://www.w3.org/2000/svg\" height=\"24px\"viewBox=\"0 0 24 24\"\n",
              "       width=\"24px\">\n",
              "    <path d=\"M0 0h24v24H0V0z\" fill=\"none\"/>\n",
              "    <path d=\"M18.56 5.44l.94 2.06.94-2.06 2.06-.94-2.06-.94-.94-2.06-.94 2.06-2.06.94zm-11 1L8.5 8.5l.94-2.06 2.06-.94-2.06-.94L8.5 2.5l-.94 2.06-2.06.94zm10 10l.94 2.06.94-2.06 2.06-.94-2.06-.94-.94-2.06-.94 2.06-2.06.94z\"/><path d=\"M17.41 7.96l-1.37-1.37c-.4-.4-.92-.59-1.43-.59-.52 0-1.04.2-1.43.59L10.3 9.45l-7.72 7.72c-.78.78-.78 2.05 0 2.83L4 21.41c.39.39.9.59 1.41.59.51 0 1.02-.2 1.41-.59l7.78-7.78 2.81-2.81c.8-.78.8-2.07 0-2.86zM5.41 20L4 18.59l7.72-7.72 1.47 1.35L5.41 20z\"/>\n",
              "  </svg>\n",
              "      </button>\n",
              "      \n",
              "  <style>\n",
              "    .colab-df-container {\n",
              "      display:flex;\n",
              "      flex-wrap:wrap;\n",
              "      gap: 12px;\n",
              "    }\n",
              "\n",
              "    .colab-df-convert {\n",
              "      background-color: #E8F0FE;\n",
              "      border: none;\n",
              "      border-radius: 50%;\n",
              "      cursor: pointer;\n",
              "      display: none;\n",
              "      fill: #1967D2;\n",
              "      height: 32px;\n",
              "      padding: 0 0 0 0;\n",
              "      width: 32px;\n",
              "    }\n",
              "\n",
              "    .colab-df-convert:hover {\n",
              "      background-color: #E2EBFA;\n",
              "      box-shadow: 0px 1px 2px rgba(60, 64, 67, 0.3), 0px 1px 3px 1px rgba(60, 64, 67, 0.15);\n",
              "      fill: #174EA6;\n",
              "    }\n",
              "\n",
              "    [theme=dark] .colab-df-convert {\n",
              "      background-color: #3B4455;\n",
              "      fill: #D2E3FC;\n",
              "    }\n",
              "\n",
              "    [theme=dark] .colab-df-convert:hover {\n",
              "      background-color: #434B5C;\n",
              "      box-shadow: 0px 1px 3px 1px rgba(0, 0, 0, 0.15);\n",
              "      filter: drop-shadow(0px 1px 2px rgba(0, 0, 0, 0.3));\n",
              "      fill: #FFFFFF;\n",
              "    }\n",
              "  </style>\n",
              "\n",
              "      <script>\n",
              "        const buttonEl =\n",
              "          document.querySelector('#df-b2345731-aa86-47c1-9a81-928e321f930c button.colab-df-convert');\n",
              "        buttonEl.style.display =\n",
              "          google.colab.kernel.accessAllowed ? 'block' : 'none';\n",
              "\n",
              "        async function convertToInteractive(key) {\n",
              "          const element = document.querySelector('#df-b2345731-aa86-47c1-9a81-928e321f930c');\n",
              "          const dataTable =\n",
              "            await google.colab.kernel.invokeFunction('convertToInteractive',\n",
              "                                                     [key], {});\n",
              "          if (!dataTable) return;\n",
              "\n",
              "          const docLinkHtml = 'Like what you see? Visit the ' +\n",
              "            '<a target=\"_blank\" href=https://colab.research.google.com/notebooks/data_table.ipynb>data table notebook</a>'\n",
              "            + ' to learn more about interactive tables.';\n",
              "          element.innerHTML = '';\n",
              "          dataTable['output_type'] = 'display_data';\n",
              "          await google.colab.output.renderOutput(dataTable, element);\n",
              "          const docLink = document.createElement('div');\n",
              "          docLink.innerHTML = docLinkHtml;\n",
              "          element.appendChild(docLink);\n",
              "        }\n",
              "      </script>\n",
              "    </div>\n",
              "  </div>\n",
              "  "
            ]
          },
          "metadata": {},
          "execution_count": 12
        }
      ]
    },
    {
      "cell_type": "code",
      "source": [
        "df.groupby('payment')['total'].agg(['sum','count','median'])"
      ],
      "metadata": {
        "colab": {
          "base_uri": "https://localhost:8080/",
          "height": 175
        },
        "id": "Kb5j79eA1Lth",
        "outputId": "3c2d7947-f287-484a-ff88-732f42d00917"
      },
      "id": "Kb5j79eA1Lth",
      "execution_count": 13,
      "outputs": [
        {
          "output_type": "execute_result",
          "data": {
            "text/plain": [
              "                   sum  count   median\n",
              "payment                               \n",
              "Cash          19199.10    116  139.135\n",
              "Credit card  110271.57    659  143.580\n",
              "Transfer     159642.33    225  599.270"
            ],
            "text/html": [
              "\n",
              "  <div id=\"df-2fa13fcb-96cc-4aff-922c-3bc3fe86b1b8\">\n",
              "    <div class=\"colab-df-container\">\n",
              "      <div>\n",
              "<style scoped>\n",
              "    .dataframe tbody tr th:only-of-type {\n",
              "        vertical-align: middle;\n",
              "    }\n",
              "\n",
              "    .dataframe tbody tr th {\n",
              "        vertical-align: top;\n",
              "    }\n",
              "\n",
              "    .dataframe thead th {\n",
              "        text-align: right;\n",
              "    }\n",
              "</style>\n",
              "<table border=\"1\" class=\"dataframe\">\n",
              "  <thead>\n",
              "    <tr style=\"text-align: right;\">\n",
              "      <th></th>\n",
              "      <th>sum</th>\n",
              "      <th>count</th>\n",
              "      <th>median</th>\n",
              "    </tr>\n",
              "    <tr>\n",
              "      <th>payment</th>\n",
              "      <th></th>\n",
              "      <th></th>\n",
              "      <th></th>\n",
              "    </tr>\n",
              "  </thead>\n",
              "  <tbody>\n",
              "    <tr>\n",
              "      <th>Cash</th>\n",
              "      <td>19199.10</td>\n",
              "      <td>116</td>\n",
              "      <td>139.135</td>\n",
              "    </tr>\n",
              "    <tr>\n",
              "      <th>Credit card</th>\n",
              "      <td>110271.57</td>\n",
              "      <td>659</td>\n",
              "      <td>143.580</td>\n",
              "    </tr>\n",
              "    <tr>\n",
              "      <th>Transfer</th>\n",
              "      <td>159642.33</td>\n",
              "      <td>225</td>\n",
              "      <td>599.270</td>\n",
              "    </tr>\n",
              "  </tbody>\n",
              "</table>\n",
              "</div>\n",
              "      <button class=\"colab-df-convert\" onclick=\"convertToInteractive('df-2fa13fcb-96cc-4aff-922c-3bc3fe86b1b8')\"\n",
              "              title=\"Convert this dataframe to an interactive table.\"\n",
              "              style=\"display:none;\">\n",
              "        \n",
              "  <svg xmlns=\"http://www.w3.org/2000/svg\" height=\"24px\"viewBox=\"0 0 24 24\"\n",
              "       width=\"24px\">\n",
              "    <path d=\"M0 0h24v24H0V0z\" fill=\"none\"/>\n",
              "    <path d=\"M18.56 5.44l.94 2.06.94-2.06 2.06-.94-2.06-.94-.94-2.06-.94 2.06-2.06.94zm-11 1L8.5 8.5l.94-2.06 2.06-.94-2.06-.94L8.5 2.5l-.94 2.06-2.06.94zm10 10l.94 2.06.94-2.06 2.06-.94-2.06-.94-.94-2.06-.94 2.06-2.06.94z\"/><path d=\"M17.41 7.96l-1.37-1.37c-.4-.4-.92-.59-1.43-.59-.52 0-1.04.2-1.43.59L10.3 9.45l-7.72 7.72c-.78.78-.78 2.05 0 2.83L4 21.41c.39.39.9.59 1.41.59.51 0 1.02-.2 1.41-.59l7.78-7.78 2.81-2.81c.8-.78.8-2.07 0-2.86zM5.41 20L4 18.59l7.72-7.72 1.47 1.35L5.41 20z\"/>\n",
              "  </svg>\n",
              "      </button>\n",
              "      \n",
              "  <style>\n",
              "    .colab-df-container {\n",
              "      display:flex;\n",
              "      flex-wrap:wrap;\n",
              "      gap: 12px;\n",
              "    }\n",
              "\n",
              "    .colab-df-convert {\n",
              "      background-color: #E8F0FE;\n",
              "      border: none;\n",
              "      border-radius: 50%;\n",
              "      cursor: pointer;\n",
              "      display: none;\n",
              "      fill: #1967D2;\n",
              "      height: 32px;\n",
              "      padding: 0 0 0 0;\n",
              "      width: 32px;\n",
              "    }\n",
              "\n",
              "    .colab-df-convert:hover {\n",
              "      background-color: #E2EBFA;\n",
              "      box-shadow: 0px 1px 2px rgba(60, 64, 67, 0.3), 0px 1px 3px 1px rgba(60, 64, 67, 0.15);\n",
              "      fill: #174EA6;\n",
              "    }\n",
              "\n",
              "    [theme=dark] .colab-df-convert {\n",
              "      background-color: #3B4455;\n",
              "      fill: #D2E3FC;\n",
              "    }\n",
              "\n",
              "    [theme=dark] .colab-df-convert:hover {\n",
              "      background-color: #434B5C;\n",
              "      box-shadow: 0px 1px 3px 1px rgba(0, 0, 0, 0.15);\n",
              "      filter: drop-shadow(0px 1px 2px rgba(0, 0, 0, 0.3));\n",
              "      fill: #FFFFFF;\n",
              "    }\n",
              "  </style>\n",
              "\n",
              "      <script>\n",
              "        const buttonEl =\n",
              "          document.querySelector('#df-2fa13fcb-96cc-4aff-922c-3bc3fe86b1b8 button.colab-df-convert');\n",
              "        buttonEl.style.display =\n",
              "          google.colab.kernel.accessAllowed ? 'block' : 'none';\n",
              "\n",
              "        async function convertToInteractive(key) {\n",
              "          const element = document.querySelector('#df-2fa13fcb-96cc-4aff-922c-3bc3fe86b1b8');\n",
              "          const dataTable =\n",
              "            await google.colab.kernel.invokeFunction('convertToInteractive',\n",
              "                                                     [key], {});\n",
              "          if (!dataTable) return;\n",
              "\n",
              "          const docLinkHtml = 'Like what you see? Visit the ' +\n",
              "            '<a target=\"_blank\" href=https://colab.research.google.com/notebooks/data_table.ipynb>data table notebook</a>'\n",
              "            + ' to learn more about interactive tables.';\n",
              "          element.innerHTML = '';\n",
              "          dataTable['output_type'] = 'display_data';\n",
              "          await google.colab.output.renderOutput(dataTable, element);\n",
              "          const docLink = document.createElement('div');\n",
              "          docLink.innerHTML = docLinkHtml;\n",
              "          element.appendChild(docLink);\n",
              "        }\n",
              "      </script>\n",
              "    </div>\n",
              "  </div>\n",
              "  "
            ]
          },
          "metadata": {},
          "execution_count": 13
        }
      ]
    },
    {
      "cell_type": "markdown",
      "source": [
        "Больше всего получено дохода через Transfer, медианное значение оплаты в несколько раз выше, чем через оплату Credit card и Cash, однако кол-во переводов небольшое, возможно это коммерческие компании, которые совершают оптовые покупки  \n",
        "Платежи через Cash имеют самое маленькое число по доходу, кол-во сделок,медианного значения оплаты и сильно отстает от Credit card и Transfer"
      ],
      "metadata": {
        "id": "fxv5Q1i52LYb"
      },
      "id": "fxv5Q1i52LYb"
    },
    {
      "cell_type": "code",
      "source": [
        "df.groupby(['payment','client_type'])['total'].agg(['sum','count','median'])"
      ],
      "metadata": {
        "colab": {
          "base_uri": "https://localhost:8080/",
          "height": 175
        },
        "id": "-hf7Iw714O0Q",
        "outputId": "0c9ccae1-1292-4ded-e279-1221eb59e5ad"
      },
      "id": "-hf7Iw714O0Q",
      "execution_count": 14,
      "outputs": [
        {
          "output_type": "execute_result",
          "data": {
            "text/plain": [
              "                               sum  count   median\n",
              "payment     client_type                           \n",
              "Cash        Retail        19199.10    116  139.135\n",
              "Credit card Retail       110271.57    659  143.580\n",
              "Transfer    Wholesale    159642.33    225  599.270"
            ],
            "text/html": [
              "\n",
              "  <div id=\"df-d5517f35-f4dc-474b-9a75-5b0b14b4593a\">\n",
              "    <div class=\"colab-df-container\">\n",
              "      <div>\n",
              "<style scoped>\n",
              "    .dataframe tbody tr th:only-of-type {\n",
              "        vertical-align: middle;\n",
              "    }\n",
              "\n",
              "    .dataframe tbody tr th {\n",
              "        vertical-align: top;\n",
              "    }\n",
              "\n",
              "    .dataframe thead th {\n",
              "        text-align: right;\n",
              "    }\n",
              "</style>\n",
              "<table border=\"1\" class=\"dataframe\">\n",
              "  <thead>\n",
              "    <tr style=\"text-align: right;\">\n",
              "      <th></th>\n",
              "      <th></th>\n",
              "      <th>sum</th>\n",
              "      <th>count</th>\n",
              "      <th>median</th>\n",
              "    </tr>\n",
              "    <tr>\n",
              "      <th>payment</th>\n",
              "      <th>client_type</th>\n",
              "      <th></th>\n",
              "      <th></th>\n",
              "      <th></th>\n",
              "    </tr>\n",
              "  </thead>\n",
              "  <tbody>\n",
              "    <tr>\n",
              "      <th>Cash</th>\n",
              "      <th>Retail</th>\n",
              "      <td>19199.10</td>\n",
              "      <td>116</td>\n",
              "      <td>139.135</td>\n",
              "    </tr>\n",
              "    <tr>\n",
              "      <th>Credit card</th>\n",
              "      <th>Retail</th>\n",
              "      <td>110271.57</td>\n",
              "      <td>659</td>\n",
              "      <td>143.580</td>\n",
              "    </tr>\n",
              "    <tr>\n",
              "      <th>Transfer</th>\n",
              "      <th>Wholesale</th>\n",
              "      <td>159642.33</td>\n",
              "      <td>225</td>\n",
              "      <td>599.270</td>\n",
              "    </tr>\n",
              "  </tbody>\n",
              "</table>\n",
              "</div>\n",
              "      <button class=\"colab-df-convert\" onclick=\"convertToInteractive('df-d5517f35-f4dc-474b-9a75-5b0b14b4593a')\"\n",
              "              title=\"Convert this dataframe to an interactive table.\"\n",
              "              style=\"display:none;\">\n",
              "        \n",
              "  <svg xmlns=\"http://www.w3.org/2000/svg\" height=\"24px\"viewBox=\"0 0 24 24\"\n",
              "       width=\"24px\">\n",
              "    <path d=\"M0 0h24v24H0V0z\" fill=\"none\"/>\n",
              "    <path d=\"M18.56 5.44l.94 2.06.94-2.06 2.06-.94-2.06-.94-.94-2.06-.94 2.06-2.06.94zm-11 1L8.5 8.5l.94-2.06 2.06-.94-2.06-.94L8.5 2.5l-.94 2.06-2.06.94zm10 10l.94 2.06.94-2.06 2.06-.94-2.06-.94-.94-2.06-.94 2.06-2.06.94z\"/><path d=\"M17.41 7.96l-1.37-1.37c-.4-.4-.92-.59-1.43-.59-.52 0-1.04.2-1.43.59L10.3 9.45l-7.72 7.72c-.78.78-.78 2.05 0 2.83L4 21.41c.39.39.9.59 1.41.59.51 0 1.02-.2 1.41-.59l7.78-7.78 2.81-2.81c.8-.78.8-2.07 0-2.86zM5.41 20L4 18.59l7.72-7.72 1.47 1.35L5.41 20z\"/>\n",
              "  </svg>\n",
              "      </button>\n",
              "      \n",
              "  <style>\n",
              "    .colab-df-container {\n",
              "      display:flex;\n",
              "      flex-wrap:wrap;\n",
              "      gap: 12px;\n",
              "    }\n",
              "\n",
              "    .colab-df-convert {\n",
              "      background-color: #E8F0FE;\n",
              "      border: none;\n",
              "      border-radius: 50%;\n",
              "      cursor: pointer;\n",
              "      display: none;\n",
              "      fill: #1967D2;\n",
              "      height: 32px;\n",
              "      padding: 0 0 0 0;\n",
              "      width: 32px;\n",
              "    }\n",
              "\n",
              "    .colab-df-convert:hover {\n",
              "      background-color: #E2EBFA;\n",
              "      box-shadow: 0px 1px 2px rgba(60, 64, 67, 0.3), 0px 1px 3px 1px rgba(60, 64, 67, 0.15);\n",
              "      fill: #174EA6;\n",
              "    }\n",
              "\n",
              "    [theme=dark] .colab-df-convert {\n",
              "      background-color: #3B4455;\n",
              "      fill: #D2E3FC;\n",
              "    }\n",
              "\n",
              "    [theme=dark] .colab-df-convert:hover {\n",
              "      background-color: #434B5C;\n",
              "      box-shadow: 0px 1px 3px 1px rgba(0, 0, 0, 0.15);\n",
              "      filter: drop-shadow(0px 1px 2px rgba(0, 0, 0, 0.3));\n",
              "      fill: #FFFFFF;\n",
              "    }\n",
              "  </style>\n",
              "\n",
              "      <script>\n",
              "        const buttonEl =\n",
              "          document.querySelector('#df-d5517f35-f4dc-474b-9a75-5b0b14b4593a button.colab-df-convert');\n",
              "        buttonEl.style.display =\n",
              "          google.colab.kernel.accessAllowed ? 'block' : 'none';\n",
              "\n",
              "        async function convertToInteractive(key) {\n",
              "          const element = document.querySelector('#df-d5517f35-f4dc-474b-9a75-5b0b14b4593a');\n",
              "          const dataTable =\n",
              "            await google.colab.kernel.invokeFunction('convertToInteractive',\n",
              "                                                     [key], {});\n",
              "          if (!dataTable) return;\n",
              "\n",
              "          const docLinkHtml = 'Like what you see? Visit the ' +\n",
              "            '<a target=\"_blank\" href=https://colab.research.google.com/notebooks/data_table.ipynb>data table notebook</a>'\n",
              "            + ' to learn more about interactive tables.';\n",
              "          element.innerHTML = '';\n",
              "          dataTable['output_type'] = 'display_data';\n",
              "          await google.colab.output.renderOutput(dataTable, element);\n",
              "          const docLink = document.createElement('div');\n",
              "          docLink.innerHTML = docLinkHtml;\n",
              "          element.appendChild(docLink);\n",
              "        }\n",
              "      </script>\n",
              "    </div>\n",
              "  </div>\n",
              "  "
            ]
          },
          "metadata": {},
          "execution_count": 14
        }
      ]
    },
    {
      "cell_type": "markdown",
      "source": [
        "Наша гипотеза подтвердилась: через платеж Transfer совершаются оптовые покупки, через Cash и Credit card совершаются покупки в розницу"
      ],
      "metadata": {
        "id": "N6RRwiuw6FNg"
      },
      "id": "N6RRwiuw6FNg"
    },
    {
      "cell_type": "code",
      "source": [
        "payment_total = df.groupby('payment')['total'].agg(['sum','count','median']).reset_index()"
      ],
      "metadata": {
        "id": "j5CYIvtO5zfh"
      },
      "id": "j5CYIvtO5zfh",
      "execution_count": 15,
      "outputs": []
    },
    {
      "cell_type": "markdown",
      "source": [
        "Построим визуализацию"
      ],
      "metadata": {
        "id": "rPQhRBqj7yr5"
      },
      "id": "rPQhRBqj7yr5"
    },
    {
      "cell_type": "code",
      "source": [
        "fig, axs = plt.subplots(ncols=3)\n",
        "fig.set_figheight(5)\n",
        "fig.set_figwidth(20)\n",
        "sns.barplot(x='payment', y='sum', data=payment_total, ax=axs[0])\n",
        "axs[0].set_title(\"Общий объем продаж\")\n",
        "\n",
        "sns.barplot(x='payment', y='median', data=payment_total, ax=axs[1])\n",
        "axs[1].set_title(\"Медианное значение сделки\")\n",
        "\n",
        "sns.barplot(x='payment',y='count', data=payment_total, ax=axs[2])\n",
        "axs[2].set_title(\"Кол-во сделок\")"
      ],
      "metadata": {
        "colab": {
          "base_uri": "https://localhost:8080/",
          "height": 367
        },
        "id": "k1xKUb6C-2y3",
        "outputId": "359727fe-9b59-4ea8-8646-277cbece4e3d"
      },
      "id": "k1xKUb6C-2y3",
      "execution_count": 16,
      "outputs": [
        {
          "output_type": "execute_result",
          "data": {
            "text/plain": [
              "Text(0.5, 1.0, 'Кол-во сделок')"
            ]
          },
          "metadata": {},
          "execution_count": 16
        },
        {
          "output_type": "display_data",
          "data": {
            "text/plain": [
              "<Figure size 1440x360 with 3 Axes>"
            ],
            "image/png": "[encoded data removed]"
          },
          "metadata": {
            "needs_background": "light"
          }
        }
      ]
    },
    {
      "cell_type": "markdown",
      "source": [
        "## Cредняя цена за единицу каждой линейки продуктов"
      ],
      "metadata": {
        "id": "8BUtLbYQA2cv"
      },
      "id": "8BUtLbYQA2cv"
    },
    {
      "cell_type": "code",
      "source": [
        "df.head()"
      ],
      "metadata": {
        "colab": {
          "base_uri": "https://localhost:8080/",
          "height": 206
        },
        "id": "9nIXzDrGA6T2",
        "outputId": "9e8e38d8-78ce-4eda-cbf1-84fe876cafde"
      },
      "id": "9nIXzDrGA6T2",
      "execution_count": 17,
      "outputs": [
        {
          "output_type": "execute_result",
          "data": {
            "text/plain": [
              "        date warehouse client_type           product_line  quantity  \\\n",
              "0 2021-06-01   Central      Retail          Miscellaneous         8   \n",
              "1 2021-06-01     North      Retail        Breaking system         9   \n",
              "2 2021-06-01     North      Retail  Suspension & traction         8   \n",
              "3 2021-06-01     North   Wholesale           Frame & body        16   \n",
              "4 2021-06-01   Central      Retail                 Engine         2   \n",
              "\n",
              "   unit_price   total      payment  \n",
              "0       16.85  134.83  Credit card  \n",
              "1       19.29  173.61         Cash  \n",
              "2       32.93  263.45  Credit card  \n",
              "3       37.84  605.44     Transfer  \n",
              "4       60.48  120.96  Credit card  "
            ],
            "text/html": [
              "\n",
              "  <div id=\"df-3818be40-6c44-40a3-9be3-01a8c520ece5\">\n",
              "    <div class=\"colab-df-container\">\n",
              "      <div>\n",
              "<style scoped>\n",
              "    .dataframe tbody tr th:only-of-type {\n",
              "        vertical-align: middle;\n",
              "    }\n",
              "\n",
              "    .dataframe tbody tr th {\n",
              "        vertical-align: top;\n",
              "    }\n",
              "\n",
              "    .dataframe thead th {\n",
              "        text-align: right;\n",
              "    }\n",
              "</style>\n",
              "<table border=\"1\" class=\"dataframe\">\n",
              "  <thead>\n",
              "    <tr style=\"text-align: right;\">\n",
              "      <th></th>\n",
              "      <th>date</th>\n",
              "      <th>warehouse</th>\n",
              "      <th>client_type</th>\n",
              "      <th>product_line</th>\n",
              "      <th>quantity</th>\n",
              "      <th>unit_price</th>\n",
              "      <th>total</th>\n",
              "      <th>payment</th>\n",
              "    </tr>\n",
              "  </thead>\n",
              "  <tbody>\n",
              "    <tr>\n",
              "      <th>0</th>\n",
              "      <td>2021-06-01</td>\n",
              "      <td>Central</td>\n",
              "      <td>Retail</td>\n",
              "      <td>Miscellaneous</td>\n",
              "      <td>8</td>\n",
              "      <td>16.85</td>\n",
              "      <td>134.83</td>\n",
              "      <td>Credit card</td>\n",
              "    </tr>\n",
              "    <tr>\n",
              "      <th>1</th>\n",
              "      <td>2021-06-01</td>\n",
              "      <td>North</td>\n",
              "      <td>Retail</td>\n",
              "      <td>Breaking system</td>\n",
              "      <td>9</td>\n",
              "      <td>19.29</td>\n",
              "      <td>173.61</td>\n",
              "      <td>Cash</td>\n",
              "    </tr>\n",
              "    <tr>\n",
              "      <th>2</th>\n",
              "      <td>2021-06-01</td>\n",
              "      <td>North</td>\n",
              "      <td>Retail</td>\n",
              "      <td>Suspension &amp; traction</td>\n",
              "      <td>8</td>\n",
              "      <td>32.93</td>\n",
              "      <td>263.45</td>\n",
              "      <td>Credit card</td>\n",
              "    </tr>\n",
              "    <tr>\n",
              "      <th>3</th>\n",
              "      <td>2021-06-01</td>\n",
              "      <td>North</td>\n",
              "      <td>Wholesale</td>\n",
              "      <td>Frame &amp; body</td>\n",
              "      <td>16</td>\n",
              "      <td>37.84</td>\n",
              "      <td>605.44</td>\n",
              "      <td>Transfer</td>\n",
              "    </tr>\n",
              "    <tr>\n",
              "      <th>4</th>\n",
              "      <td>2021-06-01</td>\n",
              "      <td>Central</td>\n",
              "      <td>Retail</td>\n",
              "      <td>Engine</td>\n",
              "      <td>2</td>\n",
              "      <td>60.48</td>\n",
              "      <td>120.96</td>\n",
              "      <td>Credit card</td>\n",
              "    </tr>\n",
              "  </tbody>\n",
              "</table>\n",
              "</div>\n",
              "      <button class=\"colab-df-convert\" onclick=\"convertToInteractive('df-3818be40-6c44-40a3-9be3-01a8c520ece5')\"\n",
              "              title=\"Convert this dataframe to an interactive table.\"\n",
              "              style=\"display:none;\">\n",
              "        \n",
              "  <svg xmlns=\"http://www.w3.org/2000/svg\" height=\"24px\"viewBox=\"0 0 24 24\"\n",
              "       width=\"24px\">\n",
              "    <path d=\"M0 0h24v24H0V0z\" fill=\"none\"/>\n",
              "    <path d=\"M18.56 5.44l.94 2.06.94-2.06 2.06-.94-2.06-.94-.94-2.06-.94 2.06-2.06.94zm-11 1L8.5 8.5l.94-2.06 2.06-.94-2.06-.94L8.5 2.5l-.94 2.06-2.06.94zm10 10l.94 2.06.94-2.06 2.06-.94-2.06-.94-.94-2.06-.94 2.06-2.06.94z\"/><path d=\"M17.41 7.96l-1.37-1.37c-.4-.4-.92-.59-1.43-.59-.52 0-1.04.2-1.43.59L10.3 9.45l-7.72 7.72c-.78.78-.78 2.05 0 2.83L4 21.41c.39.39.9.59 1.41.59.51 0 1.02-.2 1.41-.59l7.78-7.78 2.81-2.81c.8-.78.8-2.07 0-2.86zM5.41 20L4 18.59l7.72-7.72 1.47 1.35L5.41 20z\"/>\n",
              "  </svg>\n",
              "      </button>\n",
              "      \n",
              "  <style>\n",
              "    .colab-df-container {\n",
              "      display:flex;\n",
              "      flex-wrap:wrap;\n",
              "      gap: 12px;\n",
              "    }\n",
              "\n",
              "    .colab-df-convert {\n",
              "      background-color: #E8F0FE;\n",
              "      border: none;\n",
              "      border-radius: 50%;\n",
              "      cursor: pointer;\n",
              "      display: none;\n",
              "      fill: #1967D2;\n",
              "      height: 32px;\n",
              "      padding: 0 0 0 0;\n",
              "      width: 32px;\n",
              "    }\n",
              "\n",
              "    .colab-df-convert:hover {\n",
              "      background-color: #E2EBFA;\n",
              "      box-shadow: 0px 1px 2px rgba(60, 64, 67, 0.3), 0px 1px 3px 1px rgba(60, 64, 67, 0.15);\n",
              "      fill: #174EA6;\n",
              "    }\n",
              "\n",
              "    [theme=dark] .colab-df-convert {\n",
              "      background-color: #3B4455;\n",
              "      fill: #D2E3FC;\n",
              "    }\n",
              "\n",
              "    [theme=dark] .colab-df-convert:hover {\n",
              "      background-color: #434B5C;\n",
              "      box-shadow: 0px 1px 3px 1px rgba(0, 0, 0, 0.15);\n",
              "      filter: drop-shadow(0px 1px 2px rgba(0, 0, 0, 0.3));\n",
              "      fill: #FFFFFF;\n",
              "    }\n",
              "  </style>\n",
              "\n",
              "      <script>\n",
              "        const buttonEl =\n",
              "          document.querySelector('#df-3818be40-6c44-40a3-9be3-01a8c520ece5 button.colab-df-convert');\n",
              "        buttonEl.style.display =\n",
              "          google.colab.kernel.accessAllowed ? 'block' : 'none';\n",
              "\n",
              "        async function convertToInteractive(key) {\n",
              "          const element = document.querySelector('#df-3818be40-6c44-40a3-9be3-01a8c520ece5');\n",
              "          const dataTable =\n",
              "            await google.colab.kernel.invokeFunction('convertToInteractive',\n",
              "                                                     [key], {});\n",
              "          if (!dataTable) return;\n",
              "\n",
              "          const docLinkHtml = 'Like what you see? Visit the ' +\n",
              "            '<a target=\"_blank\" href=https://colab.research.google.com/notebooks/data_table.ipynb>data table notebook</a>'\n",
              "            + ' to learn more about interactive tables.';\n",
              "          element.innerHTML = '';\n",
              "          dataTable['output_type'] = 'display_data';\n",
              "          await google.colab.output.renderOutput(dataTable, element);\n",
              "          const docLink = document.createElement('div');\n",
              "          docLink.innerHTML = docLinkHtml;\n",
              "          element.appendChild(docLink);\n",
              "        }\n",
              "      </script>\n",
              "    </div>\n",
              "  </div>\n",
              "  "
            ]
          },
          "metadata": {},
          "execution_count": 17
        }
      ]
    },
    {
      "cell_type": "code",
      "source": [
        "df.groupby(\"product_line\")['unit_price'].agg(['median','mean']).sort_values(by = 'mean', ascending = False)"
      ],
      "metadata": {
        "colab": {
          "base_uri": "https://localhost:8080/",
          "height": 269
        },
        "id": "Q5CnYIpv0M5O",
        "outputId": "ee6a2220-d6d6-447b-adb2-7c941fd36feb"
      },
      "id": "Q5CnYIpv0M5O",
      "execution_count": 18,
      "outputs": [
        {
          "output_type": "execute_result",
          "data": {
            "text/plain": [
              "                       median       mean\n",
              "product_line                            \n",
              "Engine                 59.820  60.091803\n",
              "Frame & body           43.105  42.832229\n",
              "Suspension & traction  33.730  33.969868\n",
              "Electrical system      25.530  25.585130\n",
              "Miscellaneous          22.480  22.810738\n",
              "Breaking system        17.380  17.740522"
            ],
            "text/html": [
              "\n",
              "  <div id=\"df-ef0f05bb-cbfe-4b0c-a7c9-759be1bfdbe8\">\n",
              "    <div class=\"colab-df-container\">\n",
              "      <div>\n",
              "<style scoped>\n",
              "    .dataframe tbody tr th:only-of-type {\n",
              "        vertical-align: middle;\n",
              "    }\n",
              "\n",
              "    .dataframe tbody tr th {\n",
              "        vertical-align: top;\n",
              "    }\n",
              "\n",
              "    .dataframe thead th {\n",
              "        text-align: right;\n",
              "    }\n",
              "</style>\n",
              "<table border=\"1\" class=\"dataframe\">\n",
              "  <thead>\n",
              "    <tr style=\"text-align: right;\">\n",
              "      <th></th>\n",
              "      <th>median</th>\n",
              "      <th>mean</th>\n",
              "    </tr>\n",
              "    <tr>\n",
              "      <th>product_line</th>\n",
              "      <th></th>\n",
              "      <th></th>\n",
              "    </tr>\n",
              "  </thead>\n",
              "  <tbody>\n",
              "    <tr>\n",
              "      <th>Engine</th>\n",
              "      <td>59.820</td>\n",
              "      <td>60.091803</td>\n",
              "    </tr>\n",
              "    <tr>\n",
              "      <th>Frame &amp; body</th>\n",
              "      <td>43.105</td>\n",
              "      <td>42.832229</td>\n",
              "    </tr>\n",
              "    <tr>\n",
              "      <th>Suspension &amp; traction</th>\n",
              "      <td>33.730</td>\n",
              "      <td>33.969868</td>\n",
              "    </tr>\n",
              "    <tr>\n",
              "      <th>Electrical system</th>\n",
              "      <td>25.530</td>\n",
              "      <td>25.585130</td>\n",
              "    </tr>\n",
              "    <tr>\n",
              "      <th>Miscellaneous</th>\n",
              "      <td>22.480</td>\n",
              "      <td>22.810738</td>\n",
              "    </tr>\n",
              "    <tr>\n",
              "      <th>Breaking system</th>\n",
              "      <td>17.380</td>\n",
              "      <td>17.740522</td>\n",
              "    </tr>\n",
              "  </tbody>\n",
              "</table>\n",
              "</div>\n",
              "      <button class=\"colab-df-convert\" onclick=\"convertToInteractive('df-ef0f05bb-cbfe-4b0c-a7c9-759be1bfdbe8')\"\n",
              "              title=\"Convert this dataframe to an interactive table.\"\n",
              "              style=\"display:none;\">\n",
              "        \n",
              "  <svg xmlns=\"http://www.w3.org/2000/svg\" height=\"24px\"viewBox=\"0 0 24 24\"\n",
              "       width=\"24px\">\n",
              "    <path d=\"M0 0h24v24H0V0z\" fill=\"none\"/>\n",
              "    <path d=\"M18.56 5.44l.94 2.06.94-2.06 2.06-.94-2.06-.94-.94-2.06-.94 2.06-2.06.94zm-11 1L8.5 8.5l.94-2.06 2.06-.94-2.06-.94L8.5 2.5l-.94 2.06-2.06.94zm10 10l.94 2.06.94-2.06 2.06-.94-2.06-.94-.94-2.06-.94 2.06-2.06.94z\"/><path d=\"M17.41 7.96l-1.37-1.37c-.4-.4-.92-.59-1.43-.59-.52 0-1.04.2-1.43.59L10.3 9.45l-7.72 7.72c-.78.78-.78 2.05 0 2.83L4 21.41c.39.39.9.59 1.41.59.51 0 1.02-.2 1.41-.59l7.78-7.78 2.81-2.81c.8-.78.8-2.07 0-2.86zM5.41 20L4 18.59l7.72-7.72 1.47 1.35L5.41 20z\"/>\n",
              "  </svg>\n",
              "      </button>\n",
              "      \n",
              "  <style>\n",
              "    .colab-df-container {\n",
              "      display:flex;\n",
              "      flex-wrap:wrap;\n",
              "      gap: 12px;\n",
              "    }\n",
              "\n",
              "    .colab-df-convert {\n",
              "      background-color: #E8F0FE;\n",
              "      border: none;\n",
              "      border-radius: 50%;\n",
              "      cursor: pointer;\n",
              "      display: none;\n",
              "      fill: #1967D2;\n",
              "      height: 32px;\n",
              "      padding: 0 0 0 0;\n",
              "      width: 32px;\n",
              "    }\n",
              "\n",
              "    .colab-df-convert:hover {\n",
              "      background-color: #E2EBFA;\n",
              "      box-shadow: 0px 1px 2px rgba(60, 64, 67, 0.3), 0px 1px 3px 1px rgba(60, 64, 67, 0.15);\n",
              "      fill: #174EA6;\n",
              "    }\n",
              "\n",
              "    [theme=dark] .colab-df-convert {\n",
              "      background-color: #3B4455;\n",
              "      fill: #D2E3FC;\n",
              "    }\n",
              "\n",
              "    [theme=dark] .colab-df-convert:hover {\n",
              "      background-color: #434B5C;\n",
              "      box-shadow: 0px 1px 3px 1px rgba(0, 0, 0, 0.15);\n",
              "      filter: drop-shadow(0px 1px 2px rgba(0, 0, 0, 0.3));\n",
              "      fill: #FFFFFF;\n",
              "    }\n",
              "  </style>\n",
              "\n",
              "      <script>\n",
              "        const buttonEl =\n",
              "          document.querySelector('#df-ef0f05bb-cbfe-4b0c-a7c9-759be1bfdbe8 button.colab-df-convert');\n",
              "        buttonEl.style.display =\n",
              "          google.colab.kernel.accessAllowed ? 'block' : 'none';\n",
              "\n",
              "        async function convertToInteractive(key) {\n",
              "          const element = document.querySelector('#df-ef0f05bb-cbfe-4b0c-a7c9-759be1bfdbe8');\n",
              "          const dataTable =\n",
              "            await google.colab.kernel.invokeFunction('convertToInteractive',\n",
              "                                                     [key], {});\n",
              "          if (!dataTable) return;\n",
              "\n",
              "          const docLinkHtml = 'Like what you see? Visit the ' +\n",
              "            '<a target=\"_blank\" href=https://colab.research.google.com/notebooks/data_table.ipynb>data table notebook</a>'\n",
              "            + ' to learn more about interactive tables.';\n",
              "          element.innerHTML = '';\n",
              "          dataTable['output_type'] = 'display_data';\n",
              "          await google.colab.output.renderOutput(dataTable, element);\n",
              "          const docLink = document.createElement('div');\n",
              "          docLink.innerHTML = docLinkHtml;\n",
              "          element.appendChild(docLink);\n",
              "        }\n",
              "      </script>\n",
              "    </div>\n",
              "  </div>\n",
              "  "
            ]
          },
          "metadata": {},
          "execution_count": 18
        }
      ]
    },
    {
      "cell_type": "markdown",
      "source": [
        "Самые дорогие товары находятся в категориях Engine и Frame & body, также стоит сказать о том, что среднее значение не сильно отличается от медианного, значит среднее значение можно объективно использовать, как метрику для анализа  "
      ],
      "metadata": {
        "id": "SSCbuM6gHRy9"
      },
      "id": "SSCbuM6gHRy9"
    },
    {
      "cell_type": "code",
      "source": [
        "product_price = df.groupby(\"product_line\")['unit_price'].agg(['median','mean']).sort_values(by = 'mean', ascending = False).reset_index()"
      ],
      "metadata": {
        "id": "XP5BvDNWIIuF"
      },
      "id": "XP5BvDNWIIuF",
      "execution_count": 19,
      "outputs": []
    },
    {
      "cell_type": "markdown",
      "source": [
        "Построим визуализацию"
      ],
      "metadata": {
        "id": "HuqMzDsJI7NO"
      },
      "id": "HuqMzDsJI7NO"
    },
    {
      "cell_type": "code",
      "source": [
        "fig, axs = plt.subplots()\n",
        "fig.set_figheight(6)\n",
        "fig.set_figwidth(12)\n",
        "sns.barplot(x='product_line',y='mean', data=product_price)\n",
        "axs.set_title(\"Средняя стоимость товара\")"
      ],
      "metadata": {
        "colab": {
          "base_uri": "https://localhost:8080/",
          "height": 422
        },
        "id": "RTNE9nZ40Mzx",
        "outputId": "c0c5a703-45a2-4dcc-c2ea-f017ebc4f377"
      },
      "id": "RTNE9nZ40Mzx",
      "execution_count": 20,
      "outputs": [
        {
          "output_type": "execute_result",
          "data": {
            "text/plain": [
              "Text(0.5, 1.0, 'Средняя стоимость товара')"
            ]
          },
          "metadata": {},
          "execution_count": 20
        },
        {
          "output_type": "display_data",
          "data": {
            "text/plain": [
              "<Figure size 864x432 with 1 Axes>"
            ],
            "image/png": "[encoded data removed]"
          },
          "metadata": {
            "needs_background": "light"
          }
        }
      ]
    },
    {
      "cell_type": "code",
      "source": [
        "df.groupby('product_line')[['quantity','total']].agg({'total' : 'median', 'quantity' : 'sum'}).sort_values(by = 'total', ascending = False)"
      ],
      "metadata": {
        "colab": {
          "base_uri": "https://localhost:8080/",
          "height": 269
        },
        "id": "OiLZeXEYNiG1",
        "outputId": "3ae021b7-6097-4eb0-d8b2-21f2d2e864ea"
      },
      "id": "OiLZeXEYNiG1",
      "execution_count": 21,
      "outputs": [
        {
          "output_type": "execute_result",
          "data": {
            "text/plain": [
              "                         total  quantity\n",
              "product_line                            \n",
              "Engine                 414.330       627\n",
              "Frame & body           272.605      1619\n",
              "Suspension & traction  228.715      2145\n",
              "Electrical system      153.830      1698\n",
              "Miscellaneous          147.140      1176\n",
              "Breaking system         95.770      2130"
            ],
            "text/html": [
              "\n",
              "  <div id=\"df-1ba8f145-c176-424e-b4d0-2adc7f6df946\">\n",
              "    <div class=\"colab-df-container\">\n",
              "      <div>\n",
              "<style scoped>\n",
              "    .dataframe tbody tr th:only-of-type {\n",
              "        vertical-align: middle;\n",
              "    }\n",
              "\n",
              "    .dataframe tbody tr th {\n",
              "        vertical-align: top;\n",
              "    }\n",
              "\n",
              "    .dataframe thead th {\n",
              "        text-align: right;\n",
              "    }\n",
              "</style>\n",
              "<table border=\"1\" class=\"dataframe\">\n",
              "  <thead>\n",
              "    <tr style=\"text-align: right;\">\n",
              "      <th></th>\n",
              "      <th>total</th>\n",
              "      <th>quantity</th>\n",
              "    </tr>\n",
              "    <tr>\n",
              "      <th>product_line</th>\n",
              "      <th></th>\n",
              "      <th></th>\n",
              "    </tr>\n",
              "  </thead>\n",
              "  <tbody>\n",
              "    <tr>\n",
              "      <th>Engine</th>\n",
              "      <td>414.330</td>\n",
              "      <td>627</td>\n",
              "    </tr>\n",
              "    <tr>\n",
              "      <th>Frame &amp; body</th>\n",
              "      <td>272.605</td>\n",
              "      <td>1619</td>\n",
              "    </tr>\n",
              "    <tr>\n",
              "      <th>Suspension &amp; traction</th>\n",
              "      <td>228.715</td>\n",
              "      <td>2145</td>\n",
              "    </tr>\n",
              "    <tr>\n",
              "      <th>Electrical system</th>\n",
              "      <td>153.830</td>\n",
              "      <td>1698</td>\n",
              "    </tr>\n",
              "    <tr>\n",
              "      <th>Miscellaneous</th>\n",
              "      <td>147.140</td>\n",
              "      <td>1176</td>\n",
              "    </tr>\n",
              "    <tr>\n",
              "      <th>Breaking system</th>\n",
              "      <td>95.770</td>\n",
              "      <td>2130</td>\n",
              "    </tr>\n",
              "  </tbody>\n",
              "</table>\n",
              "</div>\n",
              "      <button class=\"colab-df-convert\" onclick=\"convertToInteractive('df-1ba8f145-c176-424e-b4d0-2adc7f6df946')\"\n",
              "              title=\"Convert this dataframe to an interactive table.\"\n",
              "              style=\"display:none;\">\n",
              "        \n",
              "  <svg xmlns=\"http://www.w3.org/2000/svg\" height=\"24px\"viewBox=\"0 0 24 24\"\n",
              "       width=\"24px\">\n",
              "    <path d=\"M0 0h24v24H0V0z\" fill=\"none\"/>\n",
              "    <path d=\"M18.56 5.44l.94 2.06.94-2.06 2.06-.94-2.06-.94-.94-2.06-.94 2.06-2.06.94zm-11 1L8.5 8.5l.94-2.06 2.06-.94-2.06-.94L8.5 2.5l-.94 2.06-2.06.94zm10 10l.94 2.06.94-2.06 2.06-.94-2.06-.94-.94-2.06-.94 2.06-2.06.94z\"/><path d=\"M17.41 7.96l-1.37-1.37c-.4-.4-.92-.59-1.43-.59-.52 0-1.04.2-1.43.59L10.3 9.45l-7.72 7.72c-.78.78-.78 2.05 0 2.83L4 21.41c.39.39.9.59 1.41.59.51 0 1.02-.2 1.41-.59l7.78-7.78 2.81-2.81c.8-.78.8-2.07 0-2.86zM5.41 20L4 18.59l7.72-7.72 1.47 1.35L5.41 20z\"/>\n",
              "  </svg>\n",
              "      </button>\n",
              "      \n",
              "  <style>\n",
              "    .colab-df-container {\n",
              "      display:flex;\n",
              "      flex-wrap:wrap;\n",
              "      gap: 12px;\n",
              "    }\n",
              "\n",
              "    .colab-df-convert {\n",
              "      background-color: #E8F0FE;\n",
              "      border: none;\n",
              "      border-radius: 50%;\n",
              "      cursor: pointer;\n",
              "      display: none;\n",
              "      fill: #1967D2;\n",
              "      height: 32px;\n",
              "      padding: 0 0 0 0;\n",
              "      width: 32px;\n",
              "    }\n",
              "\n",
              "    .colab-df-convert:hover {\n",
              "      background-color: #E2EBFA;\n",
              "      box-shadow: 0px 1px 2px rgba(60, 64, 67, 0.3), 0px 1px 3px 1px rgba(60, 64, 67, 0.15);\n",
              "      fill: #174EA6;\n",
              "    }\n",
              "\n",
              "    [theme=dark] .colab-df-convert {\n",
              "      background-color: #3B4455;\n",
              "      fill: #D2E3FC;\n",
              "    }\n",
              "\n",
              "    [theme=dark] .colab-df-convert:hover {\n",
              "      background-color: #434B5C;\n",
              "      box-shadow: 0px 1px 3px 1px rgba(0, 0, 0, 0.15);\n",
              "      filter: drop-shadow(0px 1px 2px rgba(0, 0, 0, 0.3));\n",
              "      fill: #FFFFFF;\n",
              "    }\n",
              "  </style>\n",
              "\n",
              "      <script>\n",
              "        const buttonEl =\n",
              "          document.querySelector('#df-1ba8f145-c176-424e-b4d0-2adc7f6df946 button.colab-df-convert');\n",
              "        buttonEl.style.display =\n",
              "          google.colab.kernel.accessAllowed ? 'block' : 'none';\n",
              "\n",
              "        async function convertToInteractive(key) {\n",
              "          const element = document.querySelector('#df-1ba8f145-c176-424e-b4d0-2adc7f6df946');\n",
              "          const dataTable =\n",
              "            await google.colab.kernel.invokeFunction('convertToInteractive',\n",
              "                                                     [key], {});\n",
              "          if (!dataTable) return;\n",
              "\n",
              "          const docLinkHtml = 'Like what you see? Visit the ' +\n",
              "            '<a target=\"_blank\" href=https://colab.research.google.com/notebooks/data_table.ipynb>data table notebook</a>'\n",
              "            + ' to learn more about interactive tables.';\n",
              "          element.innerHTML = '';\n",
              "          dataTable['output_type'] = 'display_data';\n",
              "          await google.colab.output.renderOutput(dataTable, element);\n",
              "          const docLink = document.createElement('div');\n",
              "          docLink.innerHTML = docLinkHtml;\n",
              "          element.appendChild(docLink);\n",
              "        }\n",
              "      </script>\n",
              "    </div>\n",
              "  </div>\n",
              "  "
            ]
          },
          "metadata": {},
          "execution_count": 21
        }
      ]
    },
    {
      "cell_type": "markdown",
      "source": [
        "Самый большой доход приносит категория товаров Engine   \n",
        "Чаще всего покупают товары из категорий: Suspension, Breaking system, Frame & body, Electrical system\t"
      ],
      "metadata": {
        "id": "Jv9RzR1HN86c"
      },
      "id": "Jv9RzR1HN86c"
    },
    {
      "cell_type": "markdown",
      "source": [
        "Посчитаем процентное соотношения товаров на каждом складу. Эти выводы помогут понять, какие категории товаров чаще покупают, что позволит понять сколько товаров, каких категорий стоит отгружать на склад"
      ],
      "metadata": {
        "id": "431JFGF2Ysks"
      },
      "id": "431JFGF2Ysks"
    },
    {
      "cell_type": "code",
      "source": [
        "place_product = df.groupby(['warehouse','product_line'])['quantity'].sum().reset_index()"
      ],
      "metadata": {
        "id": "ot1BvVDLQRSG"
      },
      "id": "ot1BvVDLQRSG",
      "execution_count": 22,
      "outputs": []
    },
    {
      "cell_type": "code",
      "source": [
        "place_total_sum = place_product.groupby('warehouse')['quantity'].sum().reset_index().rename(columns = {'quantity':'sum_quantity'})"
      ],
      "metadata": {
        "id": "NiIGX4laQuC0"
      },
      "id": "NiIGX4laQuC0",
      "execution_count": 23,
      "outputs": []
    },
    {
      "cell_type": "code",
      "source": [
        "place_product = place_product.merge(place_total_sum, on = 'warehouse', how = 'left', )"
      ],
      "metadata": {
        "id": "CzEaUJrwQ6qD"
      },
      "id": "CzEaUJrwQ6qD",
      "execution_count": 24,
      "outputs": []
    },
    {
      "cell_type": "code",
      "source": [
        "place_product['pct_total'] = ((place_product['quantity'] * 100 ) / place_product['sum_quantity']).round(2)"
      ],
      "metadata": {
        "id": "cIf1cpefUBRM"
      },
      "id": "cIf1cpefUBRM",
      "execution_count": 25,
      "outputs": []
    },
    {
      "cell_type": "code",
      "source": [
        "place_product = place_product.sort_values(by=['warehouse', 'pct_total'], ascending = False)"
      ],
      "metadata": {
        "id": "IlkFzkSCYGbT"
      },
      "id": "IlkFzkSCYGbT",
      "execution_count": 26,
      "outputs": []
    },
    {
      "cell_type": "code",
      "source": [
        "place_product = place_product.drop(['quantity','sum_quantity'], axis = 1)"
      ],
      "metadata": {
        "id": "YxnSXcY4VACz"
      },
      "id": "YxnSXcY4VACz",
      "execution_count": 27,
      "outputs": []
    },
    {
      "cell_type": "code",
      "source": [
        "warehouses = place_product['warehouse'].unique()"
      ],
      "metadata": {
        "id": "sSMJsMGQWHsT"
      },
      "id": "sSMJsMGQWHsT",
      "execution_count": 28,
      "outputs": []
    },
    {
      "cell_type": "code",
      "source": [
        "import seaborn as sns\n",
        "cm = sns.dark_palette(\"green\", as_cmap=True)"
      ],
      "metadata": {
        "id": "EAepKW-tV5Rj"
      },
      "id": "EAepKW-tV5Rj",
      "execution_count": 29,
      "outputs": []
    },
    {
      "cell_type": "code",
      "source": [
        "def palette(warehouses):\n",
        "    return place_product[place_product['warehouse'] == warehouses].style.background_gradient(cmap=cm, subset=['pct_total'])"
      ],
      "metadata": {
        "id": "Em4ON_AtW-oz"
      },
      "id": "Em4ON_AtW-oz",
      "execution_count": 30,
      "outputs": []
    },
    {
      "cell_type": "code",
      "source": [
        "palette(warehouses[0])"
      ],
      "metadata": {
        "colab": {
          "base_uri": "https://localhost:8080/",
          "height": 238
        },
        "id": "7_sz8ihXX2bk",
        "outputId": "f31224cc-2fe8-486d-dffd-6907433460df"
      },
      "id": "7_sz8ihXX2bk",
      "execution_count": 31,
      "outputs": [
        {
          "output_type": "execute_result",
          "data": {
            "text/plain": [
              "<pandas.io.formats.style.Styler at 0x7f6cc9c81bb0>"
            ],
            "text/html": [
              "<style type=\"text/css\">\n",
              "#T_219ff_row0_col2 {\n",
              "  background-color: #008000;\n",
              "  color: #f1f1f1;\n",
              "}\n",
              "#T_219ff_row1_col2 {\n",
              "  background-color: #0f580f;\n",
              "  color: #f1f1f1;\n",
              "}\n",
              "#T_219ff_row2_col2 {\n",
              "  background-color: #125012;\n",
              "  color: #f1f1f1;\n",
              "}\n",
              "#T_219ff_row3_col2 {\n",
              "  background-color: #134f13;\n",
              "  color: #f1f1f1;\n",
              "}\n",
              "#T_219ff_row4_col2 {\n",
              "  background-color: #134d13;\n",
              "  color: #f1f1f1;\n",
              "}\n",
              "#T_219ff_row5_col2 {\n",
              "  background-color: #222722;\n",
              "  color: #f1f1f1;\n",
              "}\n",
              "</style>\n",
              "<table id=\"T_219ff_\" class=\"dataframe\">\n",
              "  <thead>\n",
              "    <tr>\n",
              "      <th class=\"blank level0\" >&nbsp;</th>\n",
              "      <th class=\"col_heading level0 col0\" >warehouse</th>\n",
              "      <th class=\"col_heading level0 col1\" >product_line</th>\n",
              "      <th class=\"col_heading level0 col2\" >pct_total</th>\n",
              "    </tr>\n",
              "  </thead>\n",
              "  <tbody>\n",
              "    <tr>\n",
              "      <th id=\"T_219ff_level0_row0\" class=\"row_heading level0 row0\" >12</th>\n",
              "      <td id=\"T_219ff_row0_col0\" class=\"data row0 col0\" >West</td>\n",
              "      <td id=\"T_219ff_row0_col1\" class=\"data row0 col1\" >Breaking system</td>\n",
              "      <td id=\"T_219ff_row0_col2\" class=\"data row0 col2\" >31.040000</td>\n",
              "    </tr>\n",
              "    <tr>\n",
              "      <th id=\"T_219ff_level0_row1\" class=\"row_heading level0 row1\" >17</th>\n",
              "      <td id=\"T_219ff_row1_col0\" class=\"data row1 col0\" >West</td>\n",
              "      <td id=\"T_219ff_row1_col1\" class=\"data row1 col1\" >Suspension & traction</td>\n",
              "      <td id=\"T_219ff_row1_col2\" class=\"data row1 col2\" >18.530000</td>\n",
              "    </tr>\n",
              "    <tr>\n",
              "      <th id=\"T_219ff_level0_row2\" class=\"row_heading level0 row2\" >16</th>\n",
              "      <td id=\"T_219ff_row2_col0\" class=\"data row2 col0\" >West</td>\n",
              "      <td id=\"T_219ff_row2_col1\" class=\"data row2 col1\" >Miscellaneous</td>\n",
              "      <td id=\"T_219ff_row2_col2\" class=\"data row2 col2\" >16.050000</td>\n",
              "    </tr>\n",
              "    <tr>\n",
              "      <th id=\"T_219ff_level0_row3\" class=\"row_heading level0 row3\" >13</th>\n",
              "      <td id=\"T_219ff_row3_col0\" class=\"data row3 col0\" >West</td>\n",
              "      <td id=\"T_219ff_row3_col1\" class=\"data row3 col1\" >Electrical system</td>\n",
              "      <td id=\"T_219ff_row3_col2\" class=\"data row3 col2\" >15.680000</td>\n",
              "    </tr>\n",
              "    <tr>\n",
              "      <th id=\"T_219ff_level0_row4\" class=\"row_heading level0 row4\" >15</th>\n",
              "      <td id=\"T_219ff_row4_col0\" class=\"data row4 col0\" >West</td>\n",
              "      <td id=\"T_219ff_row4_col1\" class=\"data row4 col1\" >Frame & body</td>\n",
              "      <td id=\"T_219ff_row4_col2\" class=\"data row4 col2\" >15.240000</td>\n",
              "    </tr>\n",
              "    <tr>\n",
              "      <th id=\"T_219ff_level0_row5\" class=\"row_heading level0 row5\" >14</th>\n",
              "      <td id=\"T_219ff_row5_col0\" class=\"data row5 col0\" >West</td>\n",
              "      <td id=\"T_219ff_row5_col1\" class=\"data row5 col1\" >Engine</td>\n",
              "      <td id=\"T_219ff_row5_col2\" class=\"data row5 col2\" >3.470000</td>\n",
              "    </tr>\n",
              "  </tbody>\n",
              "</table>\n"
            ]
          },
          "metadata": {},
          "execution_count": 31
        }
      ]
    },
    {
      "cell_type": "markdown",
      "source": [
        "В районе склада Central больше всего было совершенно покупок товаров из категорий Breaking system, Suspension & traction, Electrical system\t  "
      ],
      "metadata": {
        "id": "sQ8yeaMhY6Ub"
      },
      "id": "sQ8yeaMhY6Ub"
    },
    {
      "cell_type": "code",
      "source": [
        "palette(warehouses[1])"
      ],
      "metadata": {
        "colab": {
          "base_uri": "https://localhost:8080/",
          "height": 238
        },
        "id": "1G6-LiEIX2Yb",
        "outputId": "123fed02-fa51-41e6-c559-d23170fb5040"
      },
      "id": "1G6-LiEIX2Yb",
      "execution_count": 32,
      "outputs": [
        {
          "output_type": "execute_result",
          "data": {
            "text/plain": [
              "<pandas.io.formats.style.Styler at 0x7f6cc904c640>"
            ],
            "text/html": [
              "<style type=\"text/css\">\n",
              "#T_0adaf_row0_col2 {\n",
              "  background-color: #008000;\n",
              "  color: #f1f1f1;\n",
              "}\n",
              "#T_0adaf_row1_col2 {\n",
              "  background-color: #096909;\n",
              "  color: #f1f1f1;\n",
              "}\n",
              "#T_0adaf_row2_col2, #T_0adaf_row3_col2 {\n",
              "  background-color: #0c610c;\n",
              "  color: #f1f1f1;\n",
              "}\n",
              "#T_0adaf_row4_col2 {\n",
              "  background-color: #164616;\n",
              "  color: #f1f1f1;\n",
              "}\n",
              "#T_0adaf_row5_col2 {\n",
              "  background-color: #222722;\n",
              "  color: #f1f1f1;\n",
              "}\n",
              "</style>\n",
              "<table id=\"T_0adaf_\" class=\"dataframe\">\n",
              "  <thead>\n",
              "    <tr>\n",
              "      <th class=\"blank level0\" >&nbsp;</th>\n",
              "      <th class=\"col_heading level0 col0\" >warehouse</th>\n",
              "      <th class=\"col_heading level0 col1\" >product_line</th>\n",
              "      <th class=\"col_heading level0 col2\" >pct_total</th>\n",
              "    </tr>\n",
              "  </thead>\n",
              "  <tbody>\n",
              "    <tr>\n",
              "      <th id=\"T_0adaf_level0_row0\" class=\"row_heading level0 row0\" >11</th>\n",
              "      <td id=\"T_0adaf_row0_col0\" class=\"data row0 col0\" >North</td>\n",
              "      <td id=\"T_0adaf_row0_col1\" class=\"data row0 col1\" >Suspension & traction</td>\n",
              "      <td id=\"T_0adaf_row0_col2\" class=\"data row0 col2\" >26.610000</td>\n",
              "    </tr>\n",
              "    <tr>\n",
              "      <th id=\"T_0adaf_level0_row1\" class=\"row_heading level0 row1\" >9</th>\n",
              "      <td id=\"T_0adaf_row1_col0\" class=\"data row1 col0\" >North</td>\n",
              "      <td id=\"T_0adaf_row1_col1\" class=\"data row1 col1\" >Frame & body</td>\n",
              "      <td id=\"T_0adaf_row1_col2\" class=\"data row1 col2\" >20.740000</td>\n",
              "    </tr>\n",
              "    <tr>\n",
              "      <th id=\"T_0adaf_level0_row2\" class=\"row_heading level0 row2\" >7</th>\n",
              "      <td id=\"T_0adaf_row2_col0\" class=\"data row2 col0\" >North</td>\n",
              "      <td id=\"T_0adaf_row2_col1\" class=\"data row2 col1\" >Electrical system</td>\n",
              "      <td id=\"T_0adaf_row2_col2\" class=\"data row2 col2\" >18.650000</td>\n",
              "    </tr>\n",
              "    <tr>\n",
              "      <th id=\"T_0adaf_level0_row3\" class=\"row_heading level0 row3\" >6</th>\n",
              "      <td id=\"T_0adaf_row3_col0\" class=\"data row3 col0\" >North</td>\n",
              "      <td id=\"T_0adaf_row3_col1\" class=\"data row3 col1\" >Breaking system</td>\n",
              "      <td id=\"T_0adaf_row3_col2\" class=\"data row3 col2\" >18.590000</td>\n",
              "    </tr>\n",
              "    <tr>\n",
              "      <th id=\"T_0adaf_level0_row4\" class=\"row_heading level0 row4\" >10</th>\n",
              "      <td id=\"T_0adaf_row4_col0\" class=\"data row4 col0\" >North</td>\n",
              "      <td id=\"T_0adaf_row4_col1\" class=\"data row4 col1\" >Miscellaneous</td>\n",
              "      <td id=\"T_0adaf_row4_col2\" class=\"data row4 col2\" >11.650000</td>\n",
              "    </tr>\n",
              "    <tr>\n",
              "      <th id=\"T_0adaf_level0_row5\" class=\"row_heading level0 row5\" >8</th>\n",
              "      <td id=\"T_0adaf_row5_col0\" class=\"data row5 col0\" >North</td>\n",
              "      <td id=\"T_0adaf_row5_col1\" class=\"data row5 col1\" >Engine</td>\n",
              "      <td id=\"T_0adaf_row5_col2\" class=\"data row5 col2\" >3.750000</td>\n",
              "    </tr>\n",
              "  </tbody>\n",
              "</table>\n"
            ]
          },
          "metadata": {},
          "execution_count": 32
        }
      ]
    },
    {
      "cell_type": "markdown",
      "source": [
        "В районе склада North больше всего было совершенно покупок товаров из категорий Suspension & traction, Frame & body, Electrical system"
      ],
      "metadata": {
        "id": "5qhZupHTZUUa"
      },
      "id": "5qhZupHTZUUa"
    },
    {
      "cell_type": "code",
      "source": [
        "palette(warehouses[2])"
      ],
      "metadata": {
        "colab": {
          "base_uri": "https://localhost:8080/",
          "height": 238
        },
        "id": "ac2FGoalYZdi",
        "outputId": "870d5277-c0eb-4ced-bbf1-3f7608ebdaac"
      },
      "id": "ac2FGoalYZdi",
      "execution_count": 33,
      "outputs": [
        {
          "output_type": "execute_result",
          "data": {
            "text/plain": [
              "<pandas.io.formats.style.Styler at 0x7f6cc9031040>"
            ],
            "text/html": [
              "<style type=\"text/css\">\n",
              "#T_c14af_row0_col2 {\n",
              "  background-color: #008000;\n",
              "  color: #f1f1f1;\n",
              "}\n",
              "#T_c14af_row1_col2 {\n",
              "  background-color: #037903;\n",
              "  color: #f1f1f1;\n",
              "}\n",
              "#T_c14af_row2_col2 {\n",
              "  background-color: #0b630b;\n",
              "  color: #f1f1f1;\n",
              "}\n",
              "#T_c14af_row3_col2 {\n",
              "  background-color: #134d13;\n",
              "  color: #f1f1f1;\n",
              "}\n",
              "#T_c14af_row4_col2 {\n",
              "  background-color: #1d351d;\n",
              "  color: #f1f1f1;\n",
              "}\n",
              "#T_c14af_row5_col2 {\n",
              "  background-color: #222722;\n",
              "  color: #f1f1f1;\n",
              "}\n",
              "</style>\n",
              "<table id=\"T_c14af_\" class=\"dataframe\">\n",
              "  <thead>\n",
              "    <tr>\n",
              "      <th class=\"blank level0\" >&nbsp;</th>\n",
              "      <th class=\"col_heading level0 col0\" >warehouse</th>\n",
              "      <th class=\"col_heading level0 col1\" >product_line</th>\n",
              "      <th class=\"col_heading level0 col2\" >pct_total</th>\n",
              "    </tr>\n",
              "  </thead>\n",
              "  <tbody>\n",
              "    <tr>\n",
              "      <th id=\"T_c14af_level0_row0\" class=\"row_heading level0 row0\" >0</th>\n",
              "      <td id=\"T_c14af_row0_col0\" class=\"data row0 col0\" >Central</td>\n",
              "      <td id=\"T_c14af_row0_col1\" class=\"data row0 col1\" >Breaking system</td>\n",
              "      <td id=\"T_c14af_row0_col2\" class=\"data row0 col2\" >22.620000</td>\n",
              "    </tr>\n",
              "    <tr>\n",
              "      <th id=\"T_c14af_level0_row1\" class=\"row_heading level0 row1\" >5</th>\n",
              "      <td id=\"T_c14af_row1_col0\" class=\"data row1 col0\" >Central</td>\n",
              "      <td id=\"T_c14af_row1_col1\" class=\"data row1 col1\" >Suspension & traction</td>\n",
              "      <td id=\"T_c14af_row1_col2\" class=\"data row1 col2\" >21.650000</td>\n",
              "    </tr>\n",
              "    <tr>\n",
              "      <th id=\"T_c14af_level0_row2\" class=\"row_heading level0 row2\" >1</th>\n",
              "      <td id=\"T_c14af_row2_col0\" class=\"data row2 col0\" >Central</td>\n",
              "      <td id=\"T_c14af_row2_col1\" class=\"data row2 col1\" >Electrical system</td>\n",
              "      <td id=\"T_c14af_row2_col2\" class=\"data row2 col2\" >18.510000</td>\n",
              "    </tr>\n",
              "    <tr>\n",
              "      <th id=\"T_c14af_level0_row3\" class=\"row_heading level0 row3\" >3</th>\n",
              "      <td id=\"T_c14af_row3_col0\" class=\"data row3 col0\" >Central</td>\n",
              "      <td id=\"T_c14af_row3_col1\" class=\"data row3 col1\" >Frame & body</td>\n",
              "      <td id=\"T_c14af_row3_col2\" class=\"data row3 col2\" >15.420000</td>\n",
              "    </tr>\n",
              "    <tr>\n",
              "      <th id=\"T_c14af_level0_row4\" class=\"row_heading level0 row4\" >4</th>\n",
              "      <td id=\"T_c14af_row4_col0\" class=\"data row4 col0\" >Central</td>\n",
              "      <td id=\"T_c14af_row4_col1\" class=\"data row4 col1\" >Miscellaneous</td>\n",
              "      <td id=\"T_c14af_row4_col2\" class=\"data row4 col2\" >11.880000</td>\n",
              "    </tr>\n",
              "    <tr>\n",
              "      <th id=\"T_c14af_level0_row5\" class=\"row_heading level0 row5\" >2</th>\n",
              "      <td id=\"T_c14af_row5_col0\" class=\"data row5 col0\" >Central</td>\n",
              "      <td id=\"T_c14af_row5_col1\" class=\"data row5 col1\" >Engine</td>\n",
              "      <td id=\"T_c14af_row5_col2\" class=\"data row5 col2\" >9.920000</td>\n",
              "    </tr>\n",
              "  </tbody>\n",
              "</table>\n"
            ]
          },
          "metadata": {},
          "execution_count": 33
        }
      ]
    },
    {
      "cell_type": "markdown",
      "source": [
        "В районе склада West больше всего было совершенно покупок товаров из категорий Breaking system, Suspension & traction, Miscellaneous"
      ],
      "metadata": {
        "id": "1SkYVyTCZc7K"
      },
      "id": "1SkYVyTCZc7K"
    },
    {
      "cell_type": "markdown",
      "source": [
        "# Выводы"
      ],
      "metadata": {
        "id": "ej9i6RJOI_W-"
      },
      "id": "ej9i6RJOI_W-"
    },
    {
      "cell_type": "markdown",
      "source": [
        "1. Наш магазин по продажи запчастей для мотоциклов получает больше всего дохода через платежи Transfer, т.к. это оптовые продажи.  \n",
        "Через платежи Cash магазин получает наименьшее кол-во дохода, также суммарно Cash сильно отстает от Transfer и Credit  \n",
        "Через платежи Credit и Cash совершаются покупки в розницу\n",
        "2. Самые дорогие по цене товары находятся в категориях Engine и Frame & body\n",
        "3. Самый большой доход приносит категория товаров Engine\n",
        "4. Чаще всего покупают товары из категорий: Suspension, Breaking system, Frame & body, Electrical system\n",
        "5. Процентное соотношения товаров на каждом складе:\n",
        "  + Склад Central имеет больше всего покупок товаров из категорий Breaking system, Suspension & traction, Electrical system\n",
        "  + Склад North имеет больше всего покупок товаров из категорий Suspension & traction, Frame & body, Electrical system\n",
        "  + Склад West имеет больше всего покупок товаров из категорий Breaking system, Suspension & traction, Miscellaneous"
      ],
      "metadata": {
        "id": "eddRCu5Ccs5h"
      },
      "id": "eddRCu5Ccs5h"
    }
  ],
  "metadata": {
    "kernelspec": {
      "display_name": "Python 3 (ipykernel)",
      "language": "python",
      "name": "python3"
    },
    "language_info": {
      "codemirror_mode": {
        "name": "ipython",
        "version": 3
      },
      "file_extension": ".py",
      "mimetype": "text/x-python",
      "name": "python",
      "nbconvert_exporter": "python",
      "pygments_lexer": "ipython3",
      "version": "3.8.10"
    },
    "colab": {
      "provenance": [],
      "toc_visible": true,
      "include_colab_link": true
    }
  },
  "nbformat": 4,
  "nbformat_minor": 5
}