{
 "cells": [
  {
   "cell_type": "markdown",
   "metadata": {
    "toc": true
   },
   "source": [
    "<h1>Table of Contents<span class=\"tocSkip\"></span></h1>\n",
    "<div class=\"toc\"><ul class=\"toc-item\"><li><span><a href=\"#Описание-проекта\" data-toc-modified-id=\"Описание-проекта-1\"><span class=\"toc-item-num\">1&nbsp;&nbsp;</span>Описание проекта</a></span><ul class=\"toc-item\"><li><span><a href=\"#Описание-данных\" data-toc-modified-id=\"Описание-данных-1.1\"><span class=\"toc-item-num\">1.1&nbsp;&nbsp;</span>Описание данных</a></span></li></ul></li><li><span><a href=\"#Разведочный-анализ-данных\" data-toc-modified-id=\"Разведочный-анализ-данных-2\"><span class=\"toc-item-num\">2&nbsp;&nbsp;</span>Разведочный анализ данных</a></span><ul class=\"toc-item\"><li><span><a href=\"#Анализ-и-чистка-таблицы-users\" data-toc-modified-id=\"Анализ-и-чистка-таблицы-users-2.1\"><span class=\"toc-item-num\">2.1&nbsp;&nbsp;</span>Анализ и чистка таблицы users</a></span></li><li><span><a href=\"#Анализ-и-чистка-таблицы-calls\" data-toc-modified-id=\"Анализ-и-чистка-таблицы-calls-2.2\"><span class=\"toc-item-num\">2.2&nbsp;&nbsp;</span>Анализ и чистка таблицы calls</a></span></li><li><span><a href=\"#Анализ-и-чистка-таблицы-messages\" data-toc-modified-id=\"Анализ-и-чистка-таблицы-messages-2.3\"><span class=\"toc-item-num\">2.3&nbsp;&nbsp;</span>Анализ и чистка таблицы messages</a></span></li><li><span><a href=\"#Анализ-и-чистка-таблицы-internet\" data-toc-modified-id=\"Анализ-и-чистка-таблицы-internet-2.4\"><span class=\"toc-item-num\">2.4&nbsp;&nbsp;</span>Анализ и чистка таблицы internet</a></span></li><li><span><a href=\"#Анализ-и-чистка-таблицы-tariffs\" data-toc-modified-id=\"Анализ-и-чистка-таблицы-tariffs-2.5\"><span class=\"toc-item-num\">2.5&nbsp;&nbsp;</span>Анализ и чистка таблицы tariffs</a></span></li></ul></li><li><span><a href=\"#Анализ-данных\" data-toc-modified-id=\"Анализ-данных-3\"><span class=\"toc-item-num\">3&nbsp;&nbsp;</span>Анализ данных</a></span><ul class=\"toc-item\"><li><span><a href=\"#Города-по-тарифам\" data-toc-modified-id=\"Города-по-тарифам-3.1\"><span class=\"toc-item-num\">3.1&nbsp;&nbsp;</span>Города по тарифам</a></span></li><li><span><a href=\"#Визуализация-географии-пользователей\" data-toc-modified-id=\"Визуализация-географии-пользователей-3.2\"><span class=\"toc-item-num\">3.2&nbsp;&nbsp;</span>Визуализация географии пользователей</a></span></li><li><span><a href=\"#Исследования-предпочтения-тарифов-в-зависимости-от-пола\" data-toc-modified-id=\"Исследования-предпочтения-тарифов-в-зависимости-от-пола-3.3\"><span class=\"toc-item-num\">3.3&nbsp;&nbsp;</span>Исследования предпочтения тарифов в зависимости от пола</a></span></li><li><span><a href=\"#Возраст-абонентов\" data-toc-modified-id=\"Возраст-абонентов-3.4\"><span class=\"toc-item-num\">3.4&nbsp;&nbsp;</span>Возраст абонентов</a></span></li><li><span><a href=\"#Анализ-поведения-пользователей\" data-toc-modified-id=\"Анализ-поведения-пользователей-3.5\"><span class=\"toc-item-num\">3.5&nbsp;&nbsp;</span>Анализ поведения пользователей</a></span><ul class=\"toc-item\"><li><span><a href=\"#Звонки\" data-toc-modified-id=\"Звонки-3.5.1\"><span class=\"toc-item-num\">3.5.1&nbsp;&nbsp;</span>Звонки</a></span></li><li><span><a href=\"#Сообщения\" data-toc-modified-id=\"Сообщения-3.5.2\"><span class=\"toc-item-num\">3.5.2&nbsp;&nbsp;</span>Сообщения</a></span></li><li><span><a href=\"#Интернет\" data-toc-modified-id=\"Интернет-3.5.3\"><span class=\"toc-item-num\">3.5.3&nbsp;&nbsp;</span>Интернет</a></span></li></ul></li><li><span><a href=\"#Подведем-итоги\" data-toc-modified-id=\"Подведем-итоги-3.6\"><span class=\"toc-item-num\">3.6&nbsp;&nbsp;</span>Подведем итоги</a></span><ul class=\"toc-item\"><li><span><a href=\"#Выручка\" data-toc-modified-id=\"Выручка-3.6.1\"><span class=\"toc-item-num\">3.6.1&nbsp;&nbsp;</span>Выручка</a></span></li><li><span><a href=\"#Поведение-пользователей\" data-toc-modified-id=\"Поведение-пользователей-3.6.2\"><span class=\"toc-item-num\">3.6.2&nbsp;&nbsp;</span>Поведение пользователей</a></span></li></ul></li></ul></li><li><span><a href=\"#Проверка-гипотез\" data-toc-modified-id=\"Проверка-гипотез-4\"><span class=\"toc-item-num\">4&nbsp;&nbsp;</span>Проверка гипотез</a></span><ul class=\"toc-item\"><li><span><a href=\"#Гипотеза-о-равенстве-средних-выборок-тарифа-smart-и-ultra\" data-toc-modified-id=\"Гипотеза-о-равенстве-средних-выборок-тарифа-smart-и-ultra-4.1\"><span class=\"toc-item-num\">4.1&nbsp;&nbsp;</span>Гипотеза о равенстве средних выборок тарифа smart и ultra</a></span></li></ul></li><li><span><a href=\"#Общий-итог\" data-toc-modified-id=\"Общий-итог-5\"><span class=\"toc-item-num\">5&nbsp;&nbsp;</span>Общий итог</a></span></li><li><span><a href=\"#Расчет-нового-тарифа\" data-toc-modified-id=\"Расчет-нового-тарифа-6\"><span class=\"toc-item-num\">6&nbsp;&nbsp;</span>Расчет нового тарифа</a></span><ul class=\"toc-item\"><li><span><a href=\"#Соотношения-затрат-услуг-в-тарифах-smart-и-smart+\" data-toc-modified-id=\"Соотношения-затрат-услуг-в-тарифах-smart-и-smart+-6.1\"><span class=\"toc-item-num\">6.1&nbsp;&nbsp;</span>Соотношения затрат услуг в тарифах smart и smart+</a></span></li></ul></li></ul></div>"
   ]
  },
  {
   "cell_type": "markdown",
   "metadata": {
    "colab_type": "text",
    "id": "view-in-github"
   },
   "source": [
    "<a href=\"https://colab.research.google.com/github/Playmen998/Data-Analysis/blob/master/Analysis_Telecom_Tariff.ipynb\" target=\"_parent\"><img src=\"https://colab.research.google.com/assets/colab-badge.svg\" alt=\"Open In Colab\"/></a>"
   ]
  },
  {
   "cell_type": "markdown",
   "metadata": {
    "id": "5sXOmUkWdj4H"
   },
   "source": [
    "# Описание проекта"
   ]
  },
  {
   "cell_type": "markdown",
   "metadata": {
    "id": "kixY5mPTdqr-"
   },
   "source": [
    "Вы аналитик компании «Мегалайн» — федерального оператора сотовой связи. Клиентам предлагают два тарифных плана: Смарт и Ультра. Чтобы скорректировать рекламный бюджет, коммерческий департамент хочет понять, какой тариф приносит больше денег. Вам предстоит сделать предварительный анализ тарифов на небольшой выборке клиентов. В вашем распоряжении данные 500 пользователей «Мегалайна»: кто они, откуда, каким тарифом пользуются, сколько звонков и сообщений каждый отправил за 2018 год. Нужно проанализировать поведение клиентов и сделать вывод — какой тариф лучше."
   ]
  },
  {
   "cell_type": "markdown",
   "metadata": {
    "id": "EmU5qtSzdy_Y"
   },
   "source": [
    "**Описание тарифов**\n",
    "\n",
    "Тариф Смарт:\n",
    "\n",
    "Ежемесячная плата: 550 рублей  \n",
    "Включено 500 минут разговора, 50 сообщений и 15 Гб интернет-трафика  \n",
    "Стоимость услуг сверх тарифного пакета:   \n",
    "*   минута разговора: 3 рубля  \n",
    "*   сообщение: 3 рубля  \n",
    "*   1 Гб интернет-трафика: 200 рублей    \n",
    "\n",
    "Тариф Ультра:\n",
    "\n",
    "Ежемесячная плата: 1950 рублей  \n",
    "Включено 3000 минут разговора, 1000 сообщений и 30 Гб интернет-трафика  \n",
    "Стоимость услуг сверх тарифного пакета:\n",
    "* минута разговора: 1 рубль  \n",
    "* сообщение: 1 рубль  \n",
    "* 1 Гб интернет-трафика: 150 рублей  \n",
    "Обратите внимание: «Мегалайн» всегда округляет вверх значения минут и мегабайтов. Если пользователь проговорил всего 1 секунду, в тарифе засчитывается целая минута.  "
   ]
  },
  {
   "cell_type": "markdown",
   "metadata": {
    "id": "3aRTMmu6eyoS"
   },
   "source": [
    "## Описание данных"
   ]
  },
  {
   "cell_type": "markdown",
   "metadata": {
    "id": "M-TdjJt8e2Rp"
   },
   "source": [
    "**Таблица users (информация о пользователях):**\n",
    "\n",
    "user_id — уникальный идентификатор пользователя  \n",
    "first_name — имя пользователя  \n",
    "last_name — фамилия пользователя  \n",
    "age — возраст пользователя (годы)  \n",
    "reg_date — дата подключения тарифа (день, месяц, год)  \n",
    "churn_date — дата прекращения пользования тарифом (если значение пропущено, то тариф ещё действовал на момент выгрузки данных)  \n",
    "city — город проживания пользователя  \n",
    "tariff — название тарифного плана  \n",
    "\n",
    "**Таблица calls (информация о звонках):**\n",
    "\n",
    "id — уникальный номер звонка  \n",
    "call_date — дата звонка  \n",
    "duration — длительность звонка в минутах  \n",
    "user_id — идентификатор пользователя, сделавшего звонок  \n",
    "\n",
    "**Таблица messages (информация о сообщениях):**\n",
    "\n",
    "id — уникальный номер сообщения  \n",
    "message_date — дата сообщения  \n",
    "user_id — идентификатор пользователя, отправившего сообщение  \n",
    "\n",
    "**Таблица internet (информация об интернет-сессиях):**\n",
    "\n",
    "id — уникальный номер сессии  \n",
    "mb_used — объём потраченного за сессию интернет-трафика (в мегабайтах)  \n",
    "session_date — дата интернет-сессии  \n",
    "user_id — идентификатор пользователя  \n",
    "\n",
    "**Таблица tariffs (информация о тарифах):**\n",
    "\n",
    "tariff_name — название тарифа  \n",
    "rub_monthly_fee — ежемесячная абонентская плата в рублях  \n",
    "minutes_included — количество минут разговора в месяц, включённых в абонентскую плату  \n",
    "messages_included — количество сообщений в месяц, включённых в абонентскую плату  \n",
    "mb_per_month_included — объём интернет-трафика, включённого в абонентскую плату (в мегабайтах)  \n",
    "rub_per_minute — стоимость минуты разговора сверх тарифного пакета (например, если в тарифе 100 минут разговора в месяц, то со 101 минуты будет взиматься плата)  \n",
    "rub_per_message — стоимость отправки сообщения сверх тарифного пакета  \n",
    "rub_per_gb — стоимость дополнительного гигабайта интернет-трафика сверх тарифного пакета (1 гигабайт = 1024 мегабайта)  "
   ]
  },
  {
   "cell_type": "markdown",
   "metadata": {
    "id": "eNKU3zdRfXi5"
   },
   "source": [
    "# Разведочный анализ данных"
   ]
  },
  {
   "cell_type": "code",
   "execution_count": 18,
   "metadata": {
    "id": "mw4nvKEsffC0"
   },
   "outputs": [],
   "source": [
    "import pandas as pd\n",
    "import matplotlib.pyplot as plt\n",
    "import numpy as np"
   ]
  },
  {
   "cell_type": "code",
   "execution_count": 19,
   "metadata": {
    "id": "thvFF_wtfmnh"
   },
   "outputs": [],
   "source": [
    "users = pd.read_csv('https://code.s3.yandex.net/datasets/users.csv')\n",
    "calls = pd.read_csv('https://code.s3.yandex.net/datasets/calls.csv')\n",
    "messages = pd.read_csv('https://code.s3.yandex.net/datasets/messages.csv')\n",
    "internet = pd.read_csv('https://code.s3.yandex.net/datasets/internet.csv')\n",
    "tariffs = pd.read_csv('https://code.s3.yandex.net/datasets/tariffs.csv')"
   ]
  },
  {
   "cell_type": "code",
   "execution_count": 20,
   "metadata": {
    "id": "kVCqaAAXqML1"
   },
   "outputs": [],
   "source": [
    "pd.set_option('display.max_columns', 50)\n",
    "pd.set_option('display.max_rows', 50)"
   ]
  },
  {
   "cell_type": "markdown",
   "metadata": {
    "id": "YKZTBYN-f28i"
   },
   "source": [
    "## Анализ и чистка таблицы users"
   ]
  },
  {
   "cell_type": "code",
   "execution_count": 21,
   "metadata": {
    "colab": {
     "base_uri": "https://localhost:8080/"
    },
    "id": "Y8Y6UiyXf7iS",
    "outputId": "376beda6-dbdc-4752-9f14-be2639159e88"
   },
   "outputs": [
    {
     "data": {
      "text/html": [
       "<div>\n",
       "<style scoped>\n",
       "    .dataframe tbody tr th:only-of-type {\n",
       "        vertical-align: middle;\n",
       "    }\n",
       "\n",
       "    .dataframe tbody tr th {\n",
       "        vertical-align: top;\n",
       "    }\n",
       "\n",
       "    .dataframe thead th {\n",
       "        text-align: right;\n",
       "    }\n",
       "</style>\n",
       "<table border=\"1\" class=\"dataframe\">\n",
       "  <thead>\n",
       "    <tr style=\"text-align: right;\">\n",
       "      <th></th>\n",
       "      <th>user_id</th>\n",
       "      <th>age</th>\n",
       "      <th>churn_date</th>\n",
       "      <th>city</th>\n",
       "      <th>first_name</th>\n",
       "      <th>last_name</th>\n",
       "      <th>reg_date</th>\n",
       "      <th>tariff</th>\n",
       "    </tr>\n",
       "  </thead>\n",
       "  <tbody>\n",
       "    <tr>\n",
       "      <th>0</th>\n",
       "      <td>1000</td>\n",
       "      <td>52</td>\n",
       "      <td>NaN</td>\n",
       "      <td>Краснодар</td>\n",
       "      <td>Рафаил</td>\n",
       "      <td>Верещагин</td>\n",
       "      <td>2018-05-25</td>\n",
       "      <td>ultra</td>\n",
       "    </tr>\n",
       "    <tr>\n",
       "      <th>1</th>\n",
       "      <td>1001</td>\n",
       "      <td>41</td>\n",
       "      <td>NaN</td>\n",
       "      <td>Москва</td>\n",
       "      <td>Иван</td>\n",
       "      <td>Ежов</td>\n",
       "      <td>2018-11-01</td>\n",
       "      <td>smart</td>\n",
       "    </tr>\n",
       "    <tr>\n",
       "      <th>2</th>\n",
       "      <td>1002</td>\n",
       "      <td>59</td>\n",
       "      <td>NaN</td>\n",
       "      <td>Стерлитамак</td>\n",
       "      <td>Евгений</td>\n",
       "      <td>Абрамович</td>\n",
       "      <td>2018-06-17</td>\n",
       "      <td>smart</td>\n",
       "    </tr>\n",
       "    <tr>\n",
       "      <th>3</th>\n",
       "      <td>1003</td>\n",
       "      <td>23</td>\n",
       "      <td>NaN</td>\n",
       "      <td>Москва</td>\n",
       "      <td>Белла</td>\n",
       "      <td>Белякова</td>\n",
       "      <td>2018-08-17</td>\n",
       "      <td>ultra</td>\n",
       "    </tr>\n",
       "    <tr>\n",
       "      <th>4</th>\n",
       "      <td>1004</td>\n",
       "      <td>68</td>\n",
       "      <td>NaN</td>\n",
       "      <td>Новокузнецк</td>\n",
       "      <td>Татьяна</td>\n",
       "      <td>Авдеенко</td>\n",
       "      <td>2018-05-14</td>\n",
       "      <td>ultra</td>\n",
       "    </tr>\n",
       "    <tr>\n",
       "      <th>5</th>\n",
       "      <td>1005</td>\n",
       "      <td>67</td>\n",
       "      <td>NaN</td>\n",
       "      <td>Набережные Челны</td>\n",
       "      <td>Афанасий</td>\n",
       "      <td>Горлов</td>\n",
       "      <td>2018-01-25</td>\n",
       "      <td>smart</td>\n",
       "    </tr>\n",
       "    <tr>\n",
       "      <th>6</th>\n",
       "      <td>1006</td>\n",
       "      <td>21</td>\n",
       "      <td>NaN</td>\n",
       "      <td>Ульяновск</td>\n",
       "      <td>Леонид</td>\n",
       "      <td>Ермолаев</td>\n",
       "      <td>2018-02-26</td>\n",
       "      <td>smart</td>\n",
       "    </tr>\n",
       "    <tr>\n",
       "      <th>7</th>\n",
       "      <td>1007</td>\n",
       "      <td>65</td>\n",
       "      <td>NaN</td>\n",
       "      <td>Москва</td>\n",
       "      <td>Юна</td>\n",
       "      <td>Березина</td>\n",
       "      <td>2018-04-19</td>\n",
       "      <td>smart</td>\n",
       "    </tr>\n",
       "    <tr>\n",
       "      <th>8</th>\n",
       "      <td>1008</td>\n",
       "      <td>63</td>\n",
       "      <td>NaN</td>\n",
       "      <td>Челябинск</td>\n",
       "      <td>Рустэм</td>\n",
       "      <td>Пономарёв</td>\n",
       "      <td>2018-12-19</td>\n",
       "      <td>smart</td>\n",
       "    </tr>\n",
       "    <tr>\n",
       "      <th>9</th>\n",
       "      <td>1009</td>\n",
       "      <td>24</td>\n",
       "      <td>NaN</td>\n",
       "      <td>Пермь</td>\n",
       "      <td>Василиса</td>\n",
       "      <td>Блинова</td>\n",
       "      <td>2018-03-22</td>\n",
       "      <td>smart</td>\n",
       "    </tr>\n",
       "    <tr>\n",
       "      <th>10</th>\n",
       "      <td>1010</td>\n",
       "      <td>26</td>\n",
       "      <td>NaN</td>\n",
       "      <td>Тюмень</td>\n",
       "      <td>Эдуард</td>\n",
       "      <td>Кононов</td>\n",
       "      <td>2018-08-05</td>\n",
       "      <td>smart</td>\n",
       "    </tr>\n",
       "    <tr>\n",
       "      <th>11</th>\n",
       "      <td>1011</td>\n",
       "      <td>44</td>\n",
       "      <td>NaN</td>\n",
       "      <td>Самара</td>\n",
       "      <td>Веселина</td>\n",
       "      <td>Алёшко</td>\n",
       "      <td>2018-03-19</td>\n",
       "      <td>smart</td>\n",
       "    </tr>\n",
       "    <tr>\n",
       "      <th>12</th>\n",
       "      <td>1012</td>\n",
       "      <td>38</td>\n",
       "      <td>NaN</td>\n",
       "      <td>Санкт-Петербург</td>\n",
       "      <td>Варлам</td>\n",
       "      <td>Соловьев</td>\n",
       "      <td>2018-03-28</td>\n",
       "      <td>smart</td>\n",
       "    </tr>\n",
       "    <tr>\n",
       "      <th>13</th>\n",
       "      <td>1013</td>\n",
       "      <td>36</td>\n",
       "      <td>NaN</td>\n",
       "      <td>Иваново</td>\n",
       "      <td>Борис</td>\n",
       "      <td>Андреенко</td>\n",
       "      <td>2018-11-14</td>\n",
       "      <td>ultra</td>\n",
       "    </tr>\n",
       "    <tr>\n",
       "      <th>14</th>\n",
       "      <td>1014</td>\n",
       "      <td>64</td>\n",
       "      <td>NaN</td>\n",
       "      <td>Чебоксары</td>\n",
       "      <td>Яков</td>\n",
       "      <td>Акинфьев</td>\n",
       "      <td>2018-05-15</td>\n",
       "      <td>smart</td>\n",
       "    </tr>\n",
       "    <tr>\n",
       "      <th>15</th>\n",
       "      <td>1015</td>\n",
       "      <td>26</td>\n",
       "      <td>NaN</td>\n",
       "      <td>Челябинск</td>\n",
       "      <td>Рузана</td>\n",
       "      <td>Алюшина</td>\n",
       "      <td>2018-04-30</td>\n",
       "      <td>smart</td>\n",
       "    </tr>\n",
       "    <tr>\n",
       "      <th>16</th>\n",
       "      <td>1016</td>\n",
       "      <td>58</td>\n",
       "      <td>NaN</td>\n",
       "      <td>Омск</td>\n",
       "      <td>Марица</td>\n",
       "      <td>Сазонова</td>\n",
       "      <td>2018-11-21</td>\n",
       "      <td>ultra</td>\n",
       "    </tr>\n",
       "    <tr>\n",
       "      <th>17</th>\n",
       "      <td>1017</td>\n",
       "      <td>73</td>\n",
       "      <td>NaN</td>\n",
       "      <td>Краснодар</td>\n",
       "      <td>Мария</td>\n",
       "      <td>Аленникова</td>\n",
       "      <td>2018-05-22</td>\n",
       "      <td>smart</td>\n",
       "    </tr>\n",
       "    <tr>\n",
       "      <th>18</th>\n",
       "      <td>1018</td>\n",
       "      <td>71</td>\n",
       "      <td>NaN</td>\n",
       "      <td>Уфа</td>\n",
       "      <td>Матвей</td>\n",
       "      <td>Золотов</td>\n",
       "      <td>2018-04-01</td>\n",
       "      <td>ultra</td>\n",
       "    </tr>\n",
       "    <tr>\n",
       "      <th>19</th>\n",
       "      <td>1019</td>\n",
       "      <td>63</td>\n",
       "      <td>2018-10-05</td>\n",
       "      <td>Томск</td>\n",
       "      <td>Игнатий</td>\n",
       "      <td>Круглов</td>\n",
       "      <td>2018-05-16</td>\n",
       "      <td>ultra</td>\n",
       "    </tr>\n",
       "  </tbody>\n",
       "</table>\n",
       "</div>"
      ],
      "text/plain": [
       "    user_id  age  churn_date              city first_name   last_name  \\\n",
       "0      1000   52         NaN         Краснодар     Рафаил   Верещагин   \n",
       "1      1001   41         NaN            Москва       Иван        Ежов   \n",
       "2      1002   59         NaN       Стерлитамак    Евгений   Абрамович   \n",
       "3      1003   23         NaN            Москва      Белла    Белякова   \n",
       "4      1004   68         NaN       Новокузнецк    Татьяна    Авдеенко   \n",
       "5      1005   67         NaN  Набережные Челны   Афанасий      Горлов   \n",
       "6      1006   21         NaN         Ульяновск     Леонид    Ермолаев   \n",
       "7      1007   65         NaN            Москва        Юна    Березина   \n",
       "8      1008   63         NaN         Челябинск     Рустэм   Пономарёв   \n",
       "9      1009   24         NaN             Пермь   Василиса     Блинова   \n",
       "10     1010   26         NaN            Тюмень     Эдуард     Кононов   \n",
       "11     1011   44         NaN            Самара   Веселина      Алёшко   \n",
       "12     1012   38         NaN   Санкт-Петербург     Варлам    Соловьев   \n",
       "13     1013   36         NaN           Иваново      Борис   Андреенко   \n",
       "14     1014   64         NaN         Чебоксары       Яков    Акинфьев   \n",
       "15     1015   26         NaN         Челябинск     Рузана     Алюшина   \n",
       "16     1016   58         NaN              Омск     Марица    Сазонова   \n",
       "17     1017   73         NaN         Краснодар      Мария  Аленникова   \n",
       "18     1018   71         NaN               Уфа     Матвей     Золотов   \n",
       "19     1019   63  2018-10-05             Томск    Игнатий     Круглов   \n",
       "\n",
       "      reg_date tariff  \n",
       "0   2018-05-25  ultra  \n",
       "1   2018-11-01  smart  \n",
       "2   2018-06-17  smart  \n",
       "3   2018-08-17  ultra  \n",
       "4   2018-05-14  ultra  \n",
       "5   2018-01-25  smart  \n",
       "6   2018-02-26  smart  \n",
       "7   2018-04-19  smart  \n",
       "8   2018-12-19  smart  \n",
       "9   2018-03-22  smart  \n",
       "10  2018-08-05  smart  \n",
       "11  2018-03-19  smart  \n",
       "12  2018-03-28  smart  \n",
       "13  2018-11-14  ultra  \n",
       "14  2018-05-15  smart  \n",
       "15  2018-04-30  smart  \n",
       "16  2018-11-21  ultra  \n",
       "17  2018-05-22  smart  \n",
       "18  2018-04-01  ultra  \n",
       "19  2018-05-16  ultra  "
      ]
     },
     "execution_count": 21,
     "metadata": {},
     "output_type": "execute_result"
    }
   ],
   "source": [
    "users.head(20)"
   ]
  },
  {
   "cell_type": "code",
   "execution_count": 22,
   "metadata": {
    "colab": {
     "base_uri": "https://localhost:8080/"
    },
    "id": "-MENsrB3gAdx",
    "outputId": "6f814fc1-e2e5-4223-905e-43f91c9afa7f"
   },
   "outputs": [
    {
     "name": "stdout",
     "output_type": "stream",
     "text": [
      "<class 'pandas.core.frame.DataFrame'>\n",
      "RangeIndex: 500 entries, 0 to 499\n",
      "Data columns (total 8 columns):\n",
      " #   Column      Non-Null Count  Dtype \n",
      "---  ------      --------------  ----- \n",
      " 0   user_id     500 non-null    int64 \n",
      " 1   age         500 non-null    int64 \n",
      " 2   churn_date  38 non-null     object\n",
      " 3   city        500 non-null    object\n",
      " 4   first_name  500 non-null    object\n",
      " 5   last_name   500 non-null    object\n",
      " 6   reg_date    500 non-null    object\n",
      " 7   tariff      500 non-null    object\n",
      "dtypes: int64(2), object(6)\n",
      "memory usage: 31.4+ KB\n"
     ]
    }
   ],
   "source": [
    "users.info()"
   ]
  },
  {
   "cell_type": "markdown",
   "metadata": {
    "id": "uByeVX5mgG1j"
   },
   "source": [
    "Видим что столбец с датами (reg_date) записан в тип object, приведем к типу данных datetime64"
   ]
  },
  {
   "cell_type": "code",
   "execution_count": 23,
   "metadata": {
    "id": "j33pOB15gWS7"
   },
   "outputs": [],
   "source": [
    "users['reg_date'] = pd.to_datetime(users['reg_date'],format='%Y-%m-%d')"
   ]
  },
  {
   "cell_type": "code",
   "execution_count": 24,
   "metadata": {
    "colab": {
     "base_uri": "https://localhost:8080/"
    },
    "id": "sCAsdrgrg1pB",
    "outputId": "29ce90e4-194d-425b-fa24-0a9fb73c2874"
   },
   "outputs": [
    {
     "data": {
      "text/plain": [
       "user_id       0.000\n",
       "age           0.000\n",
       "churn_date    0.924\n",
       "city          0.000\n",
       "first_name    0.000\n",
       "last_name     0.000\n",
       "reg_date      0.000\n",
       "tariff        0.000\n",
       "dtype: float64"
      ]
     },
     "execution_count": 24,
     "metadata": {},
     "output_type": "execute_result"
    }
   ],
   "source": [
    "users.isna().mean()"
   ]
  },
  {
   "cell_type": "markdown",
   "metadata": {
    "id": "UoJTGU7AhBXd"
   },
   "source": [
    "Мы видим, что в столбце churn_date у нас огромное кол-во пропусков. В описании к заданию сказано, что \"*если значение пропущено, то тариф ещё действовал на момент выгрузки данных*\", понимаем, что у большей части еще действует тариф. Оставляем как есть"
   ]
  },
  {
   "cell_type": "code",
   "execution_count": 25,
   "metadata": {
    "colab": {
     "base_uri": "https://localhost:8080/"
    },
    "id": "tdWbUMnuhT1l",
    "outputId": "7ed8c615-5998-4881-dbbd-86563ae68455"
   },
   "outputs": [
    {
     "data": {
      "text/plain": [
       "0"
      ]
     },
     "execution_count": 25,
     "metadata": {},
     "output_type": "execute_result"
    }
   ],
   "source": [
    "users.duplicated().sum()"
   ]
  },
  {
   "cell_type": "markdown",
   "metadata": {
    "id": "ULfX1NqvhpYJ"
   },
   "source": [
    "Как мы видим дубликатов с таблице нет"
   ]
  },
  {
   "cell_type": "markdown",
   "metadata": {
    "id": "qgYIeam_iaoy"
   },
   "source": [
    "## Анализ и чистка таблицы calls"
   ]
  },
  {
   "cell_type": "code",
   "execution_count": 26,
   "metadata": {
    "colab": {
     "base_uri": "https://localhost:8080/"
    },
    "id": "YD7fKIpmiht5",
    "outputId": "8c4e6e7e-b8e5-490d-d383-52320c5f315f"
   },
   "outputs": [
    {
     "data": {
      "text/html": [
       "<div>\n",
       "<style scoped>\n",
       "    .dataframe tbody tr th:only-of-type {\n",
       "        vertical-align: middle;\n",
       "    }\n",
       "\n",
       "    .dataframe tbody tr th {\n",
       "        vertical-align: top;\n",
       "    }\n",
       "\n",
       "    .dataframe thead th {\n",
       "        text-align: right;\n",
       "    }\n",
       "</style>\n",
       "<table border=\"1\" class=\"dataframe\">\n",
       "  <thead>\n",
       "    <tr style=\"text-align: right;\">\n",
       "      <th></th>\n",
       "      <th>id</th>\n",
       "      <th>call_date</th>\n",
       "      <th>duration</th>\n",
       "      <th>user_id</th>\n",
       "    </tr>\n",
       "  </thead>\n",
       "  <tbody>\n",
       "    <tr>\n",
       "      <th>0</th>\n",
       "      <td>1000_0</td>\n",
       "      <td>2018-07-25</td>\n",
       "      <td>0.00</td>\n",
       "      <td>1000</td>\n",
       "    </tr>\n",
       "    <tr>\n",
       "      <th>1</th>\n",
       "      <td>1000_1</td>\n",
       "      <td>2018-08-17</td>\n",
       "      <td>0.00</td>\n",
       "      <td>1000</td>\n",
       "    </tr>\n",
       "    <tr>\n",
       "      <th>2</th>\n",
       "      <td>1000_2</td>\n",
       "      <td>2018-06-11</td>\n",
       "      <td>2.85</td>\n",
       "      <td>1000</td>\n",
       "    </tr>\n",
       "    <tr>\n",
       "      <th>3</th>\n",
       "      <td>1000_3</td>\n",
       "      <td>2018-09-21</td>\n",
       "      <td>13.80</td>\n",
       "      <td>1000</td>\n",
       "    </tr>\n",
       "    <tr>\n",
       "      <th>4</th>\n",
       "      <td>1000_4</td>\n",
       "      <td>2018-12-15</td>\n",
       "      <td>5.18</td>\n",
       "      <td>1000</td>\n",
       "    </tr>\n",
       "  </tbody>\n",
       "</table>\n",
       "</div>"
      ],
      "text/plain": [
       "       id   call_date  duration  user_id\n",
       "0  1000_0  2018-07-25      0.00     1000\n",
       "1  1000_1  2018-08-17      0.00     1000\n",
       "2  1000_2  2018-06-11      2.85     1000\n",
       "3  1000_3  2018-09-21     13.80     1000\n",
       "4  1000_4  2018-12-15      5.18     1000"
      ]
     },
     "execution_count": 26,
     "metadata": {},
     "output_type": "execute_result"
    }
   ],
   "source": [
    "calls.head()"
   ]
  },
  {
   "cell_type": "code",
   "execution_count": 27,
   "metadata": {
    "colab": {
     "base_uri": "https://localhost:8080/"
    },
    "id": "UStd8VtQilqa",
    "outputId": "132936c8-1a62-4f90-8b4e-74f05f2517ef"
   },
   "outputs": [
    {
     "name": "stdout",
     "output_type": "stream",
     "text": [
      "<class 'pandas.core.frame.DataFrame'>\n",
      "RangeIndex: 202607 entries, 0 to 202606\n",
      "Data columns (total 4 columns):\n",
      " #   Column     Non-Null Count   Dtype  \n",
      "---  ------     --------------   -----  \n",
      " 0   id         202607 non-null  object \n",
      " 1   call_date  202607 non-null  object \n",
      " 2   duration   202607 non-null  float64\n",
      " 3   user_id    202607 non-null  int64  \n",
      "dtypes: float64(1), int64(1), object(2)\n",
      "memory usage: 6.2+ MB\n"
     ]
    }
   ],
   "source": [
    "calls.info()"
   ]
  },
  {
   "cell_type": "markdown",
   "metadata": {
    "id": "Qi3dv8j1jS3B"
   },
   "source": [
    "Переведем дату в формат datetime64"
   ]
  },
  {
   "cell_type": "code",
   "execution_count": 28,
   "metadata": {
    "id": "3mAtUl7IjXr5"
   },
   "outputs": [],
   "source": [
    "calls['call_date'] = pd.to_datetime(calls['call_date'],format='%Y-%m-%d')"
   ]
  },
  {
   "cell_type": "code",
   "execution_count": 29,
   "metadata": {
    "colab": {
     "base_uri": "https://localhost:8080/"
    },
    "id": "ildrEXEDjgwx",
    "outputId": "866ae363-f05f-4dfd-f742-f29ca2544cd9"
   },
   "outputs": [
    {
     "data": {
      "text/plain": [
       "id           0.0\n",
       "call_date    0.0\n",
       "duration     0.0\n",
       "user_id      0.0\n",
       "dtype: float64"
      ]
     },
     "execution_count": 29,
     "metadata": {},
     "output_type": "execute_result"
    }
   ],
   "source": [
    "calls.isna().mean()"
   ]
  },
  {
   "cell_type": "markdown",
   "metadata": {
    "id": "33R8ba46jmdj"
   },
   "source": [
    "Видим что пропусков нет"
   ]
  },
  {
   "cell_type": "code",
   "execution_count": 30,
   "metadata": {
    "colab": {
     "base_uri": "https://localhost:8080/"
    },
    "id": "3scZlUxCjqGi",
    "outputId": "3709f2db-9c90-4a0d-e6eb-b3c458b62a5f"
   },
   "outputs": [
    {
     "data": {
      "text/plain": [
       "0"
      ]
     },
     "execution_count": 30,
     "metadata": {},
     "output_type": "execute_result"
    }
   ],
   "source": [
    "calls.duplicated().sum()"
   ]
  },
  {
   "cell_type": "markdown",
   "metadata": {
    "id": "UdRr_LLWjrdE"
   },
   "source": [
    "Дубликатов нет"
   ]
  },
  {
   "cell_type": "markdown",
   "metadata": {
    "id": "OcWWoIB2VhMn"
   },
   "source": [
    "Добавим столбец месяц к каждому событию"
   ]
  },
  {
   "cell_type": "code",
   "execution_count": 31,
   "metadata": {
    "id": "gWU7SCk-VpW_"
   },
   "outputs": [],
   "source": [
    "calls['calls_month'] = pd.DatetimeIndex(calls['call_date']).month"
   ]
  },
  {
   "cell_type": "code",
   "execution_count": 32,
   "metadata": {
    "colab": {
     "base_uri": "https://localhost:8080/"
    },
    "id": "RXzEb8JBkI3C",
    "outputId": "cb6c9bac-ead6-470d-8139-98eeb47e4d6e"
   },
   "outputs": [
    {
     "data": {
      "text/plain": [
       "<AxesSubplot:>"
      ]
     },
     "execution_count": 32,
     "metadata": {},
     "output_type": "execute_result"
    },
    {
     "data": {
      "image/png": "[encoded data removed]",
      "text/plain": [
       "<Figure size 432x288 with 1 Axes>"
      ]
     },
     "metadata": {
      "needs_background": "light"
     },
     "output_type": "display_data"
    }
   ],
   "source": [
    "calls['duration'].hist(bins=30)"
   ]
  },
  {
   "cell_type": "markdown",
   "metadata": {
    "id": "MPI0kXdPklhs"
   },
   "source": [
    "Большое кол-во звонков длятся меньше 1 мин. Может быть звонки длятся от 0 до 1 минуты?"
   ]
  },
  {
   "cell_type": "code",
   "execution_count": 33,
   "metadata": {
    "colab": {
     "base_uri": "https://localhost:8080/"
    },
    "id": "mrn-69GDmO88",
    "outputId": "ba42671e-3223-4751-e914-85cd46c4e219"
   },
   "outputs": [
    {
     "data": {
      "text/plain": [
       "<AxesSubplot:>"
      ]
     },
     "execution_count": 33,
     "metadata": {},
     "output_type": "execute_result"
    },
    {
     "data": {
      "image/png": "[encoded data removed]",
      "text/plain": [
       "<Figure size 432x288 with 1 Axes>"
      ]
     },
     "metadata": {
      "needs_background": "light"
     },
     "output_type": "display_data"
    }
   ],
   "source": [
    "calls.query('duration<=1')['duration'].hist(bins=30)"
   ]
  },
  {
   "cell_type": "markdown",
   "metadata": {
    "id": "4Ws6yt4xmayS"
   },
   "source": [
    "Нет, большая часть звонков длится 0 сек"
   ]
  },
  {
   "cell_type": "code",
   "execution_count": 34,
   "metadata": {
    "colab": {
     "base_uri": "https://localhost:8080/"
    },
    "id": "7J9bHlsQkxx-",
    "outputId": "b53bbea2-344a-4c51-f280-5af844e8d85f"
   },
   "outputs": [
    {
     "data": {
      "text/plain": [
       "0.19551644316336553"
      ]
     },
     "execution_count": 34,
     "metadata": {},
     "output_type": "execute_result"
    }
   ],
   "source": [
    "calls.query('0==duration')['duration'].count()/len(calls)"
   ]
  },
  {
   "cell_type": "markdown",
   "metadata": {
    "id": "4X-ZTkZklpr7"
   },
   "source": [
    "Видим что 20% данных таблицы звонок длился 0 минут. Возможно это недозвонившиеся абоненты "
   ]
  },
  {
   "cell_type": "markdown",
   "metadata": {
    "id": "8305sV_5n7Ny"
   },
   "source": [
    "Посмотрим на количество звонков с нулями у двух разных тарифов"
   ]
  },
  {
   "cell_type": "code",
   "execution_count": 35,
   "metadata": {
    "id": "60JHSiFOo8wZ"
   },
   "outputs": [],
   "source": [
    "users_call = pd.merge(users, calls,\n",
    "                       how='left', on='user_id')"
   ]
  },
  {
   "cell_type": "code",
   "execution_count": 36,
   "metadata": {
    "colab": {
     "base_uri": "https://localhost:8080/"
    },
    "id": "s4dSPxMlpFkq",
    "outputId": "ea6378d0-4892-47bd-8734-f12e706372f6"
   },
   "outputs": [
    {
     "data": {
      "text/html": [
       "<div>\n",
       "<style scoped>\n",
       "    .dataframe tbody tr th:only-of-type {\n",
       "        vertical-align: middle;\n",
       "    }\n",
       "\n",
       "    .dataframe tbody tr th {\n",
       "        vertical-align: top;\n",
       "    }\n",
       "\n",
       "    .dataframe thead th {\n",
       "        text-align: right;\n",
       "    }\n",
       "</style>\n",
       "<table border=\"1\" class=\"dataframe\">\n",
       "  <thead>\n",
       "    <tr style=\"text-align: right;\">\n",
       "      <th></th>\n",
       "      <th>user_id</th>\n",
       "      <th>age</th>\n",
       "      <th>churn_date</th>\n",
       "      <th>city</th>\n",
       "      <th>first_name</th>\n",
       "      <th>last_name</th>\n",
       "      <th>reg_date</th>\n",
       "      <th>tariff</th>\n",
       "      <th>id</th>\n",
       "      <th>call_date</th>\n",
       "      <th>duration</th>\n",
       "      <th>calls_month</th>\n",
       "    </tr>\n",
       "  </thead>\n",
       "  <tbody>\n",
       "    <tr>\n",
       "      <th>0</th>\n",
       "      <td>1000</td>\n",
       "      <td>52</td>\n",
       "      <td>NaN</td>\n",
       "      <td>Краснодар</td>\n",
       "      <td>Рафаил</td>\n",
       "      <td>Верещагин</td>\n",
       "      <td>2018-05-25</td>\n",
       "      <td>ultra</td>\n",
       "      <td>1000_0</td>\n",
       "      <td>2018-07-25</td>\n",
       "      <td>0.00</td>\n",
       "      <td>7.0</td>\n",
       "    </tr>\n",
       "    <tr>\n",
       "      <th>1</th>\n",
       "      <td>1000</td>\n",
       "      <td>52</td>\n",
       "      <td>NaN</td>\n",
       "      <td>Краснодар</td>\n",
       "      <td>Рафаил</td>\n",
       "      <td>Верещагин</td>\n",
       "      <td>2018-05-25</td>\n",
       "      <td>ultra</td>\n",
       "      <td>1000_1</td>\n",
       "      <td>2018-08-17</td>\n",
       "      <td>0.00</td>\n",
       "      <td>8.0</td>\n",
       "    </tr>\n",
       "    <tr>\n",
       "      <th>2</th>\n",
       "      <td>1000</td>\n",
       "      <td>52</td>\n",
       "      <td>NaN</td>\n",
       "      <td>Краснодар</td>\n",
       "      <td>Рафаил</td>\n",
       "      <td>Верещагин</td>\n",
       "      <td>2018-05-25</td>\n",
       "      <td>ultra</td>\n",
       "      <td>1000_2</td>\n",
       "      <td>2018-06-11</td>\n",
       "      <td>2.85</td>\n",
       "      <td>6.0</td>\n",
       "    </tr>\n",
       "    <tr>\n",
       "      <th>3</th>\n",
       "      <td>1000</td>\n",
       "      <td>52</td>\n",
       "      <td>NaN</td>\n",
       "      <td>Краснодар</td>\n",
       "      <td>Рафаил</td>\n",
       "      <td>Верещагин</td>\n",
       "      <td>2018-05-25</td>\n",
       "      <td>ultra</td>\n",
       "      <td>1000_3</td>\n",
       "      <td>2018-09-21</td>\n",
       "      <td>13.80</td>\n",
       "      <td>9.0</td>\n",
       "    </tr>\n",
       "    <tr>\n",
       "      <th>4</th>\n",
       "      <td>1000</td>\n",
       "      <td>52</td>\n",
       "      <td>NaN</td>\n",
       "      <td>Краснодар</td>\n",
       "      <td>Рафаил</td>\n",
       "      <td>Верещагин</td>\n",
       "      <td>2018-05-25</td>\n",
       "      <td>ultra</td>\n",
       "      <td>1000_4</td>\n",
       "      <td>2018-12-15</td>\n",
       "      <td>5.18</td>\n",
       "      <td>12.0</td>\n",
       "    </tr>\n",
       "  </tbody>\n",
       "</table>\n",
       "</div>"
      ],
      "text/plain": [
       "   user_id  age churn_date       city first_name  last_name   reg_date tariff  \\\n",
       "0     1000   52        NaN  Краснодар     Рафаил  Верещагин 2018-05-25  ultra   \n",
       "1     1000   52        NaN  Краснодар     Рафаил  Верещагин 2018-05-25  ultra   \n",
       "2     1000   52        NaN  Краснодар     Рафаил  Верещагин 2018-05-25  ultra   \n",
       "3     1000   52        NaN  Краснодар     Рафаил  Верещагин 2018-05-25  ultra   \n",
       "4     1000   52        NaN  Краснодар     Рафаил  Верещагин 2018-05-25  ultra   \n",
       "\n",
       "       id  call_date  duration  calls_month  \n",
       "0  1000_0 2018-07-25      0.00          7.0  \n",
       "1  1000_1 2018-08-17      0.00          8.0  \n",
       "2  1000_2 2018-06-11      2.85          6.0  \n",
       "3  1000_3 2018-09-21     13.80          9.0  \n",
       "4  1000_4 2018-12-15      5.18         12.0  "
      ]
     },
     "execution_count": 36,
     "metadata": {},
     "output_type": "execute_result"
    }
   ],
   "source": [
    "users_call.head()"
   ]
  },
  {
   "cell_type": "code",
   "execution_count": 37,
   "metadata": {
    "colab": {
     "base_uri": "https://localhost:8080/"
    },
    "id": "TqoHn6m5vABk",
    "outputId": "9c878ece-458b-4f24-ca01-0add29d197a4"
   },
   "outputs": [
    {
     "data": {
      "text/html": [
       "<div>\n",
       "<style scoped>\n",
       "    .dataframe tbody tr th:only-of-type {\n",
       "        vertical-align: middle;\n",
       "    }\n",
       "\n",
       "    .dataframe tbody tr th {\n",
       "        vertical-align: top;\n",
       "    }\n",
       "\n",
       "    .dataframe thead th {\n",
       "        text-align: right;\n",
       "    }\n",
       "</style>\n",
       "<table border=\"1\" class=\"dataframe\">\n",
       "  <thead>\n",
       "    <tr style=\"text-align: right;\">\n",
       "      <th></th>\n",
       "      <th>count</th>\n",
       "      <th>mean</th>\n",
       "    </tr>\n",
       "    <tr>\n",
       "      <th>tariff</th>\n",
       "      <th></th>\n",
       "      <th></th>\n",
       "    </tr>\n",
       "  </thead>\n",
       "  <tbody>\n",
       "    <tr>\n",
       "      <th>smart</th>\n",
       "      <td>25669</td>\n",
       "      <td>0.0</td>\n",
       "    </tr>\n",
       "    <tr>\n",
       "      <th>ultra</th>\n",
       "      <td>13944</td>\n",
       "      <td>0.0</td>\n",
       "    </tr>\n",
       "  </tbody>\n",
       "</table>\n",
       "</div>"
      ],
      "text/plain": [
       "        count  mean\n",
       "tariff             \n",
       "smart   25669   0.0\n",
       "ultra   13944   0.0"
      ]
     },
     "execution_count": 37,
     "metadata": {},
     "output_type": "execute_result"
    }
   ],
   "source": [
    "users_call[users_call['duration'] == 0].groupby('tariff')['duration'].agg(['count','mean'])"
   ]
  },
  {
   "cell_type": "markdown",
   "metadata": {
    "id": "pXfWuWx7c3zZ"
   },
   "source": [
    "Больше всего звонков длительностью 0 минут находится в smart, однако посмотрим на среднее значение"
   ]
  },
  {
   "cell_type": "code",
   "execution_count": 38,
   "metadata": {
    "id": "GfRQxOkXax72"
   },
   "outputs": [],
   "source": [
    "sm, ul = users_call['tariff'].value_counts().values"
   ]
  },
  {
   "cell_type": "code",
   "execution_count": 39,
   "metadata": {
    "id": "J24CezO0bRpJ"
   },
   "outputs": [],
   "source": [
    "sm_0, ul_0 = users_call[users_call['duration'] == 0]['tariff'].value_counts().values"
   ]
  },
  {
   "cell_type": "code",
   "execution_count": 40,
   "metadata": {
    "colab": {
     "base_uri": "https://localhost:8080/"
    },
    "id": "XIik989Acijc",
    "outputId": "bb1ea117-7890-4465-fdde-76f472fad61e"
   },
   "outputs": [
    {
     "data": {
      "text/plain": [
       "0.19697353376765886"
      ]
     },
     "execution_count": 40,
     "metadata": {},
     "output_type": "execute_result"
    }
   ],
   "source": [
    "sm_0/sm"
   ]
  },
  {
   "cell_type": "code",
   "execution_count": 41,
   "metadata": {
    "colab": {
     "base_uri": "https://localhost:8080/"
    },
    "id": "GHEEE2cTck_y",
    "outputId": "47aeed01-2dff-4a85-ea26-6063c2eb4e56"
   },
   "outputs": [
    {
     "data": {
      "text/plain": [
       "0.1928684057650281"
      ]
     },
     "execution_count": 41,
     "metadata": {},
     "output_type": "execute_result"
    }
   ],
   "source": [
    "ul_0/ul"
   ]
  },
  {
   "cell_type": "markdown",
   "metadata": {
    "id": "vZXxk1-vwpc7"
   },
   "source": [
    "Среднее кол-во звонков с длительностью 0 одинаковое как в тарифе smart, так и в ultra. Тут может быть много возможных проблем: инициатива абонента, плохое покрытие сети, \"занята\" линия звонка, а может быть **технические** проблемы с тарифом. Ведь те звонки, которые не прошли из-за технических проблем, могли потенциально принести прибыль.   "
   ]
  },
  {
   "cell_type": "markdown",
   "metadata": {
    "id": "SDvj_YVDxvpz"
   },
   "source": [
    "К сожалению предоставленных данных недостаточно, чтобы выяснить проблему большого кол-во звонков длительностью 0 сек. Необходимо узнать по какой причине прерывается связь (из-за чего получаем звонок длительностью 0 минут). Стоит пообщаться с техническим отделом для выявления причины этой проблемы"
   ]
  },
  {
   "cell_type": "markdown",
   "metadata": {
    "id": "C4L2Qntd0bzU"
   },
   "source": [
    "Так как для нашего дальнейшего исследования звонки продолжительностью 0 минут не несут какого-либо смысла для поставленной задачи (тк не приносят прибыль) заменин их на nan, чтобы не учитывались при подсчете"
   ]
  },
  {
   "cell_type": "code",
   "execution_count": 42,
   "metadata": {
    "id": "_4Eje3-C2iI8"
   },
   "outputs": [],
   "source": [
    "calls['duration'] = calls['duration'].replace(0, np.NaN)"
   ]
  },
  {
   "cell_type": "markdown",
   "metadata": {
    "id": "ijJWO5f921dO"
   },
   "source": [
    "Теперь округлим все звонки вверх до целого числа"
   ]
  },
  {
   "cell_type": "code",
   "execution_count": 43,
   "metadata": {
    "id": "pAVLsCeo7caB"
   },
   "outputs": [],
   "source": [
    "calls['duration'] = calls['duration'].apply(np.ceil)"
   ]
  },
  {
   "cell_type": "markdown",
   "metadata": {
    "id": "msKDrAdA4h4t"
   },
   "source": [
    "## Анализ и чистка таблицы messages"
   ]
  },
  {
   "cell_type": "code",
   "execution_count": 44,
   "metadata": {
    "colab": {
     "base_uri": "https://localhost:8080/"
    },
    "id": "Krs0mNVK5CF8",
    "outputId": "7b88f1eb-8aa4-4d3e-94db-2677eff5a34f"
   },
   "outputs": [
    {
     "data": {
      "text/html": [
       "<div>\n",
       "<style scoped>\n",
       "    .dataframe tbody tr th:only-of-type {\n",
       "        vertical-align: middle;\n",
       "    }\n",
       "\n",
       "    .dataframe tbody tr th {\n",
       "        vertical-align: top;\n",
       "    }\n",
       "\n",
       "    .dataframe thead th {\n",
       "        text-align: right;\n",
       "    }\n",
       "</style>\n",
       "<table border=\"1\" class=\"dataframe\">\n",
       "  <thead>\n",
       "    <tr style=\"text-align: right;\">\n",
       "      <th></th>\n",
       "      <th>id</th>\n",
       "      <th>message_date</th>\n",
       "      <th>user_id</th>\n",
       "    </tr>\n",
       "  </thead>\n",
       "  <tbody>\n",
       "    <tr>\n",
       "      <th>0</th>\n",
       "      <td>1000_0</td>\n",
       "      <td>2018-06-27</td>\n",
       "      <td>1000</td>\n",
       "    </tr>\n",
       "    <tr>\n",
       "      <th>1</th>\n",
       "      <td>1000_1</td>\n",
       "      <td>2018-10-08</td>\n",
       "      <td>1000</td>\n",
       "    </tr>\n",
       "    <tr>\n",
       "      <th>2</th>\n",
       "      <td>1000_2</td>\n",
       "      <td>2018-08-04</td>\n",
       "      <td>1000</td>\n",
       "    </tr>\n",
       "    <tr>\n",
       "      <th>3</th>\n",
       "      <td>1000_3</td>\n",
       "      <td>2018-06-16</td>\n",
       "      <td>1000</td>\n",
       "    </tr>\n",
       "    <tr>\n",
       "      <th>4</th>\n",
       "      <td>1000_4</td>\n",
       "      <td>2018-12-05</td>\n",
       "      <td>1000</td>\n",
       "    </tr>\n",
       "  </tbody>\n",
       "</table>\n",
       "</div>"
      ],
      "text/plain": [
       "       id message_date  user_id\n",
       "0  1000_0   2018-06-27     1000\n",
       "1  1000_1   2018-10-08     1000\n",
       "2  1000_2   2018-08-04     1000\n",
       "3  1000_3   2018-06-16     1000\n",
       "4  1000_4   2018-12-05     1000"
      ]
     },
     "execution_count": 44,
     "metadata": {},
     "output_type": "execute_result"
    }
   ],
   "source": [
    "messages.head()"
   ]
  },
  {
   "cell_type": "code",
   "execution_count": 45,
   "metadata": {
    "colab": {
     "base_uri": "https://localhost:8080/"
    },
    "id": "fAFqj75U4pic",
    "outputId": "b7d73510-3b7c-40f9-b672-9d69574f9003"
   },
   "outputs": [
    {
     "name": "stdout",
     "output_type": "stream",
     "text": [
      "<class 'pandas.core.frame.DataFrame'>\n",
      "RangeIndex: 123036 entries, 0 to 123035\n",
      "Data columns (total 3 columns):\n",
      " #   Column        Non-Null Count   Dtype \n",
      "---  ------        --------------   ----- \n",
      " 0   id            123036 non-null  object\n",
      " 1   message_date  123036 non-null  object\n",
      " 2   user_id       123036 non-null  int64 \n",
      "dtypes: int64(1), object(2)\n",
      "memory usage: 2.8+ MB\n"
     ]
    }
   ],
   "source": [
    "messages.info()"
   ]
  },
  {
   "cell_type": "markdown",
   "metadata": {
    "id": "H943VYSB5AE8"
   },
   "source": [
    "Переведем дату в значение datetime64"
   ]
  },
  {
   "cell_type": "code",
   "execution_count": 46,
   "metadata": {
    "id": "rgTFO-fy5Avr"
   },
   "outputs": [],
   "source": [
    "messages['message_date'] = pd.to_datetime(messages['message_date'],format='%Y-%m-%d')"
   ]
  },
  {
   "cell_type": "code",
   "execution_count": 47,
   "metadata": {
    "colab": {
     "base_uri": "https://localhost:8080/"
    },
    "id": "SaL7utyI5TT0",
    "outputId": "2a68a469-f2b6-41a4-bb50-ceea2c440438"
   },
   "outputs": [
    {
     "data": {
      "text/plain": [
       "id              0.0\n",
       "message_date    0.0\n",
       "user_id         0.0\n",
       "dtype: float64"
      ]
     },
     "execution_count": 47,
     "metadata": {},
     "output_type": "execute_result"
    }
   ],
   "source": [
    "messages.isna().mean()"
   ]
  },
  {
   "cell_type": "markdown",
   "metadata": {
    "id": "ka-yWdhc5WNM"
   },
   "source": [
    "Пропусков нет"
   ]
  },
  {
   "cell_type": "code",
   "execution_count": 48,
   "metadata": {
    "colab": {
     "base_uri": "https://localhost:8080/"
    },
    "id": "0LMVvjnD5TT1",
    "outputId": "ab204c84-fc47-42a2-cc83-d37a352d1aa2"
   },
   "outputs": [
    {
     "data": {
      "text/plain": [
       "0"
      ]
     },
     "execution_count": 48,
     "metadata": {},
     "output_type": "execute_result"
    }
   ],
   "source": [
    "messages.duplicated().sum()"
   ]
  },
  {
   "cell_type": "markdown",
   "metadata": {
    "id": "2xf1JLsD5YJl"
   },
   "source": [
    "Нет дубликатов"
   ]
  },
  {
   "cell_type": "markdown",
   "metadata": {
    "id": "1dZr-me6WNQO"
   },
   "source": [
    "Добавим столбец месяц к каждому событию"
   ]
  },
  {
   "cell_type": "code",
   "execution_count": 49,
   "metadata": {
    "id": "Z93NOus_WNQP"
   },
   "outputs": [],
   "source": [
    "messages['messages_month'] = pd.DatetimeIndex(messages['message_date']).month"
   ]
  },
  {
   "cell_type": "markdown",
   "metadata": {
    "id": "yyaVvwP_5cTs"
   },
   "source": [
    "## Анализ и чистка таблицы internet"
   ]
  },
  {
   "cell_type": "code",
   "execution_count": 50,
   "metadata": {
    "colab": {
     "base_uri": "https://localhost:8080/"
    },
    "id": "9In9FHsF5fMw",
    "outputId": "7f30e3b0-24a2-487f-ec8c-cc870dc45a98"
   },
   "outputs": [
    {
     "data": {
      "text/html": [
       "<div>\n",
       "<style scoped>\n",
       "    .dataframe tbody tr th:only-of-type {\n",
       "        vertical-align: middle;\n",
       "    }\n",
       "\n",
       "    .dataframe tbody tr th {\n",
       "        vertical-align: top;\n",
       "    }\n",
       "\n",
       "    .dataframe thead th {\n",
       "        text-align: right;\n",
       "    }\n",
       "</style>\n",
       "<table border=\"1\" class=\"dataframe\">\n",
       "  <thead>\n",
       "    <tr style=\"text-align: right;\">\n",
       "      <th></th>\n",
       "      <th>Unnamed: 0</th>\n",
       "      <th>id</th>\n",
       "      <th>mb_used</th>\n",
       "      <th>session_date</th>\n",
       "      <th>user_id</th>\n",
       "    </tr>\n",
       "  </thead>\n",
       "  <tbody>\n",
       "    <tr>\n",
       "      <th>0</th>\n",
       "      <td>0</td>\n",
       "      <td>1000_0</td>\n",
       "      <td>112.95</td>\n",
       "      <td>2018-11-25</td>\n",
       "      <td>1000</td>\n",
       "    </tr>\n",
       "    <tr>\n",
       "      <th>1</th>\n",
       "      <td>1</td>\n",
       "      <td>1000_1</td>\n",
       "      <td>1052.81</td>\n",
       "      <td>2018-09-07</td>\n",
       "      <td>1000</td>\n",
       "    </tr>\n",
       "    <tr>\n",
       "      <th>2</th>\n",
       "      <td>2</td>\n",
       "      <td>1000_2</td>\n",
       "      <td>1197.26</td>\n",
       "      <td>2018-06-25</td>\n",
       "      <td>1000</td>\n",
       "    </tr>\n",
       "    <tr>\n",
       "      <th>3</th>\n",
       "      <td>3</td>\n",
       "      <td>1000_3</td>\n",
       "      <td>550.27</td>\n",
       "      <td>2018-08-22</td>\n",
       "      <td>1000</td>\n",
       "    </tr>\n",
       "    <tr>\n",
       "      <th>4</th>\n",
       "      <td>4</td>\n",
       "      <td>1000_4</td>\n",
       "      <td>302.56</td>\n",
       "      <td>2018-09-24</td>\n",
       "      <td>1000</td>\n",
       "    </tr>\n",
       "  </tbody>\n",
       "</table>\n",
       "</div>"
      ],
      "text/plain": [
       "   Unnamed: 0      id  mb_used session_date  user_id\n",
       "0           0  1000_0   112.95   2018-11-25     1000\n",
       "1           1  1000_1  1052.81   2018-09-07     1000\n",
       "2           2  1000_2  1197.26   2018-06-25     1000\n",
       "3           3  1000_3   550.27   2018-08-22     1000\n",
       "4           4  1000_4   302.56   2018-09-24     1000"
      ]
     },
     "execution_count": 50,
     "metadata": {},
     "output_type": "execute_result"
    }
   ],
   "source": [
    "internet.head()"
   ]
  },
  {
   "cell_type": "code",
   "execution_count": 51,
   "metadata": {
    "colab": {
     "base_uri": "https://localhost:8080/"
    },
    "id": "WeB-svZ65kPs",
    "outputId": "7582cad5-bc78-4cc8-c9bb-91387dcf9700"
   },
   "outputs": [
    {
     "name": "stdout",
     "output_type": "stream",
     "text": [
      "<class 'pandas.core.frame.DataFrame'>\n",
      "RangeIndex: 149396 entries, 0 to 149395\n",
      "Data columns (total 5 columns):\n",
      " #   Column        Non-Null Count   Dtype  \n",
      "---  ------        --------------   -----  \n",
      " 0   Unnamed: 0    149396 non-null  int64  \n",
      " 1   id            149396 non-null  object \n",
      " 2   mb_used       149396 non-null  float64\n",
      " 3   session_date  149396 non-null  object \n",
      " 4   user_id       149396 non-null  int64  \n",
      "dtypes: float64(1), int64(2), object(2)\n",
      "memory usage: 5.7+ MB\n"
     ]
    }
   ],
   "source": [
    "internet.info()"
   ]
  },
  {
   "cell_type": "markdown",
   "metadata": {
    "id": "O1pZmnXI5p8M"
   },
   "source": [
    "Переведем дату в значение datetime64"
   ]
  },
  {
   "cell_type": "code",
   "execution_count": 52,
   "metadata": {
    "id": "ZvVTSn-g5p8M"
   },
   "outputs": [],
   "source": [
    "internet['session_date'] = pd.to_datetime(internet['session_date'],format='%Y-%m-%d')"
   ]
  },
  {
   "cell_type": "code",
   "execution_count": 53,
   "metadata": {
    "colab": {
     "base_uri": "https://localhost:8080/"
    },
    "id": "J88PyBFe6adM",
    "outputId": "9ae0268d-6820-4d4e-c07d-27592f8407fd"
   },
   "outputs": [
    {
     "data": {
      "text/plain": [
       "Unnamed: 0      0.0\n",
       "id              0.0\n",
       "mb_used         0.0\n",
       "session_date    0.0\n",
       "user_id         0.0\n",
       "dtype: float64"
      ]
     },
     "execution_count": 53,
     "metadata": {},
     "output_type": "execute_result"
    }
   ],
   "source": [
    "internet.isna().mean()"
   ]
  },
  {
   "cell_type": "markdown",
   "metadata": {
    "id": "4zTn_62o6esk"
   },
   "source": [
    "Пропусков нет"
   ]
  },
  {
   "cell_type": "code",
   "execution_count": 54,
   "metadata": {
    "colab": {
     "base_uri": "https://localhost:8080/"
    },
    "id": "u61qmDAJ6adN",
    "outputId": "4e7944cb-0c59-411e-defd-567e91ba40a7"
   },
   "outputs": [
    {
     "data": {
      "text/plain": [
       "0"
      ]
     },
     "execution_count": 54,
     "metadata": {},
     "output_type": "execute_result"
    }
   ],
   "source": [
    "internet.duplicated().sum()"
   ]
  },
  {
   "cell_type": "markdown",
   "metadata": {
    "id": "5N_DFXx46esl"
   },
   "source": [
    "Нет дубликатов"
   ]
  },
  {
   "cell_type": "markdown",
   "metadata": {
    "id": "J2taSKwVWVck"
   },
   "source": [
    "Добавим столбец месяц к каждому событию"
   ]
  },
  {
   "cell_type": "code",
   "execution_count": 55,
   "metadata": {
    "id": "KiZsw8maWVcl"
   },
   "outputs": [],
   "source": [
    "internet['internet_month'] = pd.DatetimeIndex(internet['session_date']).month"
   ]
  },
  {
   "cell_type": "code",
   "execution_count": 56,
   "metadata": {
    "colab": {
     "base_uri": "https://localhost:8080/"
    },
    "id": "SOGesvJx6OEm",
    "outputId": "198f487d-e0bc-4d20-d27e-439c7ddc5f8c"
   },
   "outputs": [
    {
     "data": {
      "text/plain": [
       "<AxesSubplot:>"
      ]
     },
     "execution_count": 56,
     "metadata": {},
     "output_type": "execute_result"
    },
    {
     "data": {
      "image/png": "[encoded data removed]",
      "text/plain": [
       "<Figure size 432x288 with 1 Axes>"
      ]
     },
     "metadata": {
      "needs_background": "light"
     },
     "output_type": "display_data"
    }
   ],
   "source": [
    "internet['mb_used'].hist()"
   ]
  },
  {
   "cell_type": "code",
   "execution_count": 57,
   "metadata": {},
   "outputs": [
    {
     "data": {
      "text/plain": [
       "0.0"
      ]
     },
     "execution_count": 57,
     "metadata": {},
     "output_type": "execute_result"
    }
   ],
   "source": [
    "internet['mb_used'].min()"
   ]
  },
  {
   "cell_type": "markdown",
   "metadata": {
    "id": "Cx4hl-Ea8vmW"
   },
   "source": [
    "На графике видно, что самое большое кол-во сессий не потратила ни одного мб. Посмотрим поближе"
   ]
  },
  {
   "cell_type": "code",
   "execution_count": 58,
   "metadata": {
    "colab": {
     "base_uri": "https://localhost:8080/"
    },
    "id": "Xe7YVUFP6qvx",
    "outputId": "bdf0e484-8881-4e11-a1ca-cc154940f8b1"
   },
   "outputs": [
    {
     "data": {
      "text/plain": [
       "<AxesSubplot:>"
      ]
     },
     "execution_count": 58,
     "metadata": {},
     "output_type": "execute_result"
    },
    {
     "data": {
      "image/png": "[encoded data removed]",
      "text/plain": [
       "<Figure size 432x288 with 1 Axes>"
      ]
     },
     "metadata": {
      "needs_background": "light"
     },
     "output_type": "display_data"
    }
   ],
   "source": [
    "internet.query('mb_used<1')['mb_used'].hist(bins=20)"
   ]
  },
  {
   "cell_type": "markdown",
   "metadata": {
    "id": "m4hnrd0c7H-J"
   },
   "source": [
    "Как мы видим, огромное кол-во сессий израсходовали 0 МБ интернета. Это может быть связано:\n",
    "1. Много сессий с 0 МБ из-за технических неполадок\n",
    "2. Пользователи истратили весь предоставленный пакет интернета  \n",
    "\n",
    "Посмотрим по тарифам"
   ]
  },
  {
   "cell_type": "code",
   "execution_count": 59,
   "metadata": {},
   "outputs": [
    {
     "data": {
      "text/plain": [
       "<AxesSubplot:>"
      ]
     },
     "execution_count": 59,
     "metadata": {},
     "output_type": "execute_result"
    },
    {
     "data": {
      "image/png": "[encoded data removed]",
      "text/plain": [
       "<Figure size 432x288 with 1 Axes>"
      ]
     },
     "metadata": {
      "needs_background": "light"
     },
     "output_type": "display_data"
    }
   ],
   "source": [
    "internet.query('mb_used<10')['mb_used'].hist(bins=20)"
   ]
  },
  {
   "cell_type": "code",
   "execution_count": 60,
   "metadata": {
    "id": "oeUuXdiP7u3M"
   },
   "outputs": [],
   "source": [
    "users_int = pd.merge(users, internet,\n",
    "                       how='left', on='user_id')"
   ]
  },
  {
   "cell_type": "code",
   "execution_count": 61,
   "metadata": {
    "colab": {
     "base_uri": "https://localhost:8080/"
    },
    "id": "5xQwlEbZ7u3M",
    "outputId": "24e5d695-7bfd-4ce5-b282-1e7956baa80a"
   },
   "outputs": [
    {
     "data": {
      "text/html": [
       "<div>\n",
       "<style scoped>\n",
       "    .dataframe tbody tr th:only-of-type {\n",
       "        vertical-align: middle;\n",
       "    }\n",
       "\n",
       "    .dataframe tbody tr th {\n",
       "        vertical-align: top;\n",
       "    }\n",
       "\n",
       "    .dataframe thead th {\n",
       "        text-align: right;\n",
       "    }\n",
       "</style>\n",
       "<table border=\"1\" class=\"dataframe\">\n",
       "  <thead>\n",
       "    <tr style=\"text-align: right;\">\n",
       "      <th></th>\n",
       "      <th>count</th>\n",
       "    </tr>\n",
       "    <tr>\n",
       "      <th>tariff</th>\n",
       "      <th></th>\n",
       "    </tr>\n",
       "  </thead>\n",
       "  <tbody>\n",
       "    <tr>\n",
       "      <th>smart</th>\n",
       "      <td>17823</td>\n",
       "    </tr>\n",
       "    <tr>\n",
       "      <th>ultra</th>\n",
       "      <td>1775</td>\n",
       "    </tr>\n",
       "  </tbody>\n",
       "</table>\n",
       "</div>"
      ],
      "text/plain": [
       "        count\n",
       "tariff       \n",
       "smart   17823\n",
       "ultra    1775"
      ]
     },
     "execution_count": 61,
     "metadata": {},
     "output_type": "execute_result"
    }
   ],
   "source": [
    "users_int[users_int['mb_used'] == 0].groupby('tariff')['mb_used'].agg(['count'])"
   ]
  },
  {
   "cell_type": "markdown",
   "metadata": {
    "id": "RPw5Y5YHe3VG"
   },
   "source": [
    "Общее количество сессий в которых было потрачено 0 МБ больше у тарифа smart, посмотрим на среднее значение"
   ]
  },
  {
   "cell_type": "code",
   "execution_count": 62,
   "metadata": {
    "id": "14YNCqvNeDuV"
   },
   "outputs": [],
   "source": [
    "sm, ul = users_int['tariff'].value_counts().values"
   ]
  },
  {
   "cell_type": "code",
   "execution_count": 63,
   "metadata": {
    "id": "epmjgRYOeikt"
   },
   "outputs": [],
   "source": [
    "sm_0, ul_0 = users_int[users_int['mb_used'] == 0]['tariff'].value_counts().values"
   ]
  },
  {
   "cell_type": "code",
   "execution_count": 64,
   "metadata": {
    "colab": {
     "base_uri": "https://localhost:8080/"
    },
    "id": "MW-62xUpeaAS",
    "outputId": "5d7e7c9e-ddf2-4221-f329-949ba4a663ca"
   },
   "outputs": [
    {
     "data": {
      "text/plain": [
       "0.1597902097902098"
      ]
     },
     "execution_count": 64,
     "metadata": {},
     "output_type": "execute_result"
    }
   ],
   "source": [
    "sm_0 / sm"
   ]
  },
  {
   "cell_type": "code",
   "execution_count": 65,
   "metadata": {
    "colab": {
     "base_uri": "https://localhost:8080/"
    },
    "id": "RUyD3VngezmS",
    "outputId": "d8fa93e1-bac6-4b37-b4ec-fcf43a4eadaa"
   },
   "outputs": [
    {
     "data": {
      "text/plain": [
       "0.04688449245886051"
      ]
     },
     "execution_count": 65,
     "metadata": {},
     "output_type": "execute_result"
    }
   ],
   "source": [
    "ul_0 / ul"
   ]
  },
  {
   "cell_type": "markdown",
   "metadata": {
    "id": "MMRWG2wz8Xgs"
   },
   "source": [
    "Как мы видим в среднем сессий с 0 потраченым интернетом гораздо больше в тарифе smart"
   ]
  },
  {
   "cell_type": "markdown",
   "metadata": {
    "id": "eoTVrK5M9rkI"
   },
   "source": [
    "Предоставленных данных для исследования гипотезы недостаточно:\n",
    "\n",
    "В случае 1. гипотезы: по какой причине прерывается доступ к интернету (из-за чего получаем трат MB равных 0). Поможет общение с техническим отделом  \n",
    "В случае 2. гипотезы: возможно такое большое кол-во сессий с интернетом 0 МБ, может быть из-за того, что пользователям тарифа smart чаще не хватает лимита интернета по тарифу, и  поэтому они чаще покупают дополнительные ГБ, однако у пользователей smart просто нет денег на счету для покупки дополнительной услуги, если деньги снимались бы автоматически. Чтобы исследовать идею с деньгами (то что их нехватает) необходимы данные об остатке на счету и включенной опции автопополнения (при ее наличие), и данные о попытках снятия денег"
   ]
  },
  {
   "cell_type": "markdown",
   "metadata": {
    "id": "Yrfz8VhL-WHA"
   },
   "source": [
    "Так же заменим 0 на nan"
   ]
  },
  {
   "cell_type": "code",
   "execution_count": 66,
   "metadata": {
    "id": "KQ81y0BY-47d"
   },
   "outputs": [],
   "source": [
    "internet['mb_used'] = internet['mb_used'].replace(0, np.NaN)"
   ]
  },
  {
   "cell_type": "markdown",
   "metadata": {
    "id": "0yTtHfuUUce3"
   },
   "source": [
    "Теперь округлим все звонки до целого числа"
   ]
  },
  {
   "cell_type": "code",
   "execution_count": 67,
   "metadata": {
    "id": "oaQAUi2JUce4"
   },
   "outputs": [],
   "source": [
    "internet['mb_used'] = internet['mb_used'].apply(np.ceil)"
   ]
  },
  {
   "cell_type": "markdown",
   "metadata": {
    "id": "tY-Tl8g6_Blg"
   },
   "source": [
    "## Анализ и чистка таблицы tariffs"
   ]
  },
  {
   "cell_type": "code",
   "execution_count": 68,
   "metadata": {
    "colab": {
     "base_uri": "https://localhost:8080/"
    },
    "id": "LTwc9W7l_EHV",
    "outputId": "a94fcc8e-b653-48a5-af60-74e21244fcc4"
   },
   "outputs": [
    {
     "data": {
      "text/html": [
       "<div>\n",
       "<style scoped>\n",
       "    .dataframe tbody tr th:only-of-type {\n",
       "        vertical-align: middle;\n",
       "    }\n",
       "\n",
       "    .dataframe tbody tr th {\n",
       "        vertical-align: top;\n",
       "    }\n",
       "\n",
       "    .dataframe thead th {\n",
       "        text-align: right;\n",
       "    }\n",
       "</style>\n",
       "<table border=\"1\" class=\"dataframe\">\n",
       "  <thead>\n",
       "    <tr style=\"text-align: right;\">\n",
       "      <th></th>\n",
       "      <th>messages_included</th>\n",
       "      <th>mb_per_month_included</th>\n",
       "      <th>minutes_included</th>\n",
       "      <th>rub_monthly_fee</th>\n",
       "      <th>rub_per_gb</th>\n",
       "      <th>rub_per_message</th>\n",
       "      <th>rub_per_minute</th>\n",
       "      <th>tariff_name</th>\n",
       "    </tr>\n",
       "  </thead>\n",
       "  <tbody>\n",
       "    <tr>\n",
       "      <th>0</th>\n",
       "      <td>50</td>\n",
       "      <td>15360</td>\n",
       "      <td>500</td>\n",
       "      <td>550</td>\n",
       "      <td>200</td>\n",
       "      <td>3</td>\n",
       "      <td>3</td>\n",
       "      <td>smart</td>\n",
       "    </tr>\n",
       "    <tr>\n",
       "      <th>1</th>\n",
       "      <td>1000</td>\n",
       "      <td>30720</td>\n",
       "      <td>3000</td>\n",
       "      <td>1950</td>\n",
       "      <td>150</td>\n",
       "      <td>1</td>\n",
       "      <td>1</td>\n",
       "      <td>ultra</td>\n",
       "    </tr>\n",
       "  </tbody>\n",
       "</table>\n",
       "</div>"
      ],
      "text/plain": [
       "   messages_included  mb_per_month_included  minutes_included  \\\n",
       "0                 50                  15360               500   \n",
       "1               1000                  30720              3000   \n",
       "\n",
       "   rub_monthly_fee  rub_per_gb  rub_per_message  rub_per_minute tariff_name  \n",
       "0              550         200                3               3       smart  \n",
       "1             1950         150                1               1       ultra  "
      ]
     },
     "execution_count": 68,
     "metadata": {},
     "output_type": "execute_result"
    }
   ],
   "source": [
    "tariffs"
   ]
  },
  {
   "cell_type": "markdown",
   "metadata": {
    "id": "LBtEPIOx_Jk8"
   },
   "source": [
    "Тут, как мы видим, содержится информация о тарифах"
   ]
  },
  {
   "cell_type": "markdown",
   "metadata": {
    "id": "dTHCp9zDCgvN"
   },
   "source": [
    "# Анализ данных"
   ]
  },
  {
   "cell_type": "markdown",
   "metadata": {
    "id": "JLs6-VP5CjBj"
   },
   "source": [
    "Наша здачей является понять какой тариф лучше. Для этого сравним поведения пользователей по двум тарифам"
   ]
  },
  {
   "cell_type": "markdown",
   "metadata": {
    "id": "R12UC5q5DOvm"
   },
   "source": [
    "## Города по тарифам"
   ]
  },
  {
   "cell_type": "code",
   "execution_count": 69,
   "metadata": {
    "colab": {
     "base_uri": "https://localhost:8080/"
    },
    "id": "_hXWS8DVHeE2",
    "outputId": "a7a8482c-5b64-4b6b-fb0c-9e8197c36025"
   },
   "outputs": [
    {
     "data": {
      "text/html": [
       "<div>\n",
       "<style scoped>\n",
       "    .dataframe tbody tr th:only-of-type {\n",
       "        vertical-align: middle;\n",
       "    }\n",
       "\n",
       "    .dataframe tbody tr th {\n",
       "        vertical-align: top;\n",
       "    }\n",
       "\n",
       "    .dataframe thead th {\n",
       "        text-align: right;\n",
       "    }\n",
       "</style>\n",
       "<table border=\"1\" class=\"dataframe\">\n",
       "  <thead>\n",
       "    <tr style=\"text-align: right;\">\n",
       "      <th></th>\n",
       "      <th>user_id</th>\n",
       "      <th>age</th>\n",
       "      <th>churn_date</th>\n",
       "      <th>city</th>\n",
       "      <th>first_name</th>\n",
       "      <th>last_name</th>\n",
       "      <th>reg_date</th>\n",
       "      <th>tariff</th>\n",
       "    </tr>\n",
       "  </thead>\n",
       "  <tbody>\n",
       "    <tr>\n",
       "      <th>0</th>\n",
       "      <td>1000</td>\n",
       "      <td>52</td>\n",
       "      <td>NaN</td>\n",
       "      <td>Краснодар</td>\n",
       "      <td>Рафаил</td>\n",
       "      <td>Верещагин</td>\n",
       "      <td>2018-05-25</td>\n",
       "      <td>ultra</td>\n",
       "    </tr>\n",
       "    <tr>\n",
       "      <th>1</th>\n",
       "      <td>1001</td>\n",
       "      <td>41</td>\n",
       "      <td>NaN</td>\n",
       "      <td>Москва</td>\n",
       "      <td>Иван</td>\n",
       "      <td>Ежов</td>\n",
       "      <td>2018-11-01</td>\n",
       "      <td>smart</td>\n",
       "    </tr>\n",
       "    <tr>\n",
       "      <th>2</th>\n",
       "      <td>1002</td>\n",
       "      <td>59</td>\n",
       "      <td>NaN</td>\n",
       "      <td>Стерлитамак</td>\n",
       "      <td>Евгений</td>\n",
       "      <td>Абрамович</td>\n",
       "      <td>2018-06-17</td>\n",
       "      <td>smart</td>\n",
       "    </tr>\n",
       "    <tr>\n",
       "      <th>3</th>\n",
       "      <td>1003</td>\n",
       "      <td>23</td>\n",
       "      <td>NaN</td>\n",
       "      <td>Москва</td>\n",
       "      <td>Белла</td>\n",
       "      <td>Белякова</td>\n",
       "      <td>2018-08-17</td>\n",
       "      <td>ultra</td>\n",
       "    </tr>\n",
       "    <tr>\n",
       "      <th>4</th>\n",
       "      <td>1004</td>\n",
       "      <td>68</td>\n",
       "      <td>NaN</td>\n",
       "      <td>Новокузнецк</td>\n",
       "      <td>Татьяна</td>\n",
       "      <td>Авдеенко</td>\n",
       "      <td>2018-05-14</td>\n",
       "      <td>ultra</td>\n",
       "    </tr>\n",
       "  </tbody>\n",
       "</table>\n",
       "</div>"
      ],
      "text/plain": [
       "   user_id  age churn_date         city first_name  last_name   reg_date  \\\n",
       "0     1000   52        NaN    Краснодар     Рафаил  Верещагин 2018-05-25   \n",
       "1     1001   41        NaN       Москва       Иван       Ежов 2018-11-01   \n",
       "2     1002   59        NaN  Стерлитамак    Евгений  Абрамович 2018-06-17   \n",
       "3     1003   23        NaN       Москва      Белла   Белякова 2018-08-17   \n",
       "4     1004   68        NaN  Новокузнецк    Татьяна   Авдеенко 2018-05-14   \n",
       "\n",
       "  tariff  \n",
       "0  ultra  \n",
       "1  smart  \n",
       "2  smart  \n",
       "3  ultra  \n",
       "4  ultra  "
      ]
     },
     "execution_count": 69,
     "metadata": {},
     "output_type": "execute_result"
    }
   ],
   "source": [
    "users.head()"
   ]
  },
  {
   "cell_type": "markdown",
   "metadata": {
    "id": "51nZs8jnHPb2"
   },
   "source": [
    "Приводим данные к нужному виду, чтобы построить график"
   ]
  },
  {
   "cell_type": "code",
   "execution_count": 70,
   "metadata": {
    "id": "y1ou4lDZDT4Z"
   },
   "outputs": [],
   "source": [
    "tab_smart = (users[users['tariff'] == 'smart'].groupby('city')['tariff']\n",
    "             .agg(['count']).rename(columns = {'count' : 'smart_count'}))"
   ]
  },
  {
   "cell_type": "code",
   "execution_count": 71,
   "metadata": {
    "id": "1feKvEdOHdSW"
   },
   "outputs": [],
   "source": [
    "tab_ultra = (users[users['tariff'] == 'ultra'].groupby('city')['tariff']\n",
    "             .agg(['count']).rename(columns = {'count' : 'ultra_count'}))"
   ]
  },
  {
   "cell_type": "code",
   "execution_count": 72,
   "metadata": {
    "id": "NZLyjeS0HoBh"
   },
   "outputs": [],
   "source": [
    "fgt = pd.concat([tab_ultra['ultra_count'], tab_smart['smart_count']], axis=1)"
   ]
  },
  {
   "cell_type": "code",
   "execution_count": 73,
   "metadata": {
    "id": "zI6NrCPNLAei"
   },
   "outputs": [],
   "source": [
    "fgt = fgt.sort_values(by='smart_count',ascending=False)"
   ]
  },
  {
   "cell_type": "code",
   "execution_count": 74,
   "metadata": {
    "colab": {
     "base_uri": "https://localhost:8080/"
    },
    "id": "RzrXfQEoHT1N",
    "outputId": "bf1e709e-52bd-4d64-f3df-bffb633a18c0"
   },
   "outputs": [
    {
     "data": {
      "text/html": [
       "<div>\n",
       "<style scoped>\n",
       "    .dataframe tbody tr th:only-of-type {\n",
       "        vertical-align: middle;\n",
       "    }\n",
       "\n",
       "    .dataframe tbody tr th {\n",
       "        vertical-align: top;\n",
       "    }\n",
       "\n",
       "    .dataframe thead th {\n",
       "        text-align: right;\n",
       "    }\n",
       "</style>\n",
       "<table border=\"1\" class=\"dataframe\">\n",
       "  <thead>\n",
       "    <tr style=\"text-align: right;\">\n",
       "      <th></th>\n",
       "      <th>ultra_count</th>\n",
       "      <th>smart_count</th>\n",
       "    </tr>\n",
       "    <tr>\n",
       "      <th>city</th>\n",
       "      <th></th>\n",
       "      <th></th>\n",
       "    </tr>\n",
       "  </thead>\n",
       "  <tbody>\n",
       "    <tr>\n",
       "      <th>Москва</th>\n",
       "      <td>32.0</td>\n",
       "      <td>67.0</td>\n",
       "    </tr>\n",
       "    <tr>\n",
       "      <th>Санкт-Петербург</th>\n",
       "      <td>9.0</td>\n",
       "      <td>30.0</td>\n",
       "    </tr>\n",
       "    <tr>\n",
       "      <th>Казань</th>\n",
       "      <td>1.0</td>\n",
       "      <td>13.0</td>\n",
       "    </tr>\n",
       "    <tr>\n",
       "      <th>Новосибирск</th>\n",
       "      <td>5.0</td>\n",
       "      <td>11.0</td>\n",
       "    </tr>\n",
       "    <tr>\n",
       "      <th>Омск</th>\n",
       "      <td>4.0</td>\n",
       "      <td>10.0</td>\n",
       "    </tr>\n",
       "  </tbody>\n",
       "</table>\n",
       "</div>"
      ],
      "text/plain": [
       "                 ultra_count  smart_count\n",
       "city                                     \n",
       "Москва                  32.0         67.0\n",
       "Санкт-Петербург          9.0         30.0\n",
       "Казань                   1.0         13.0\n",
       "Новосибирск              5.0         11.0\n",
       "Омск                     4.0         10.0"
      ]
     },
     "execution_count": 74,
     "metadata": {},
     "output_type": "execute_result"
    }
   ],
   "source": [
    "fgt.head()"
   ]
  },
  {
   "cell_type": "markdown",
   "metadata": {
    "id": "fg89mK92HWzl"
   },
   "source": [
    "Отформатировали таблицу"
   ]
  },
  {
   "cell_type": "code",
   "execution_count": 75,
   "metadata": {
    "colab": {
     "base_uri": "https://localhost:8080/"
    },
    "id": "4H_tCZUzEak5",
    "outputId": "e34c4ddb-674b-4c23-bd9a-1f4d4feda8f1"
   },
   "outputs": [
    {
     "data": {
      "text/plain": [
       "<AxesSubplot:xlabel='city'>"
      ]
     },
     "execution_count": 75,
     "metadata": {},
     "output_type": "execute_result"
    },
    {
     "data": {
      "image/png": "[encoded data removed]",
      "text/plain": [
       "<Figure size 1224x576 with 1 Axes>"
      ]
     },
     "metadata": {
      "needs_background": "light"
     },
     "output_type": "display_data"
    }
   ],
   "source": [
    "fgt.plot(y=[\"ultra_count\",'smart_count'], kind=\"bar\", figsize=(17,8))"
   ]
  },
  {
   "cell_type": "markdown",
   "metadata": {
    "id": "V_YiTIzlL81D"
   },
   "source": [
    "На этом графике четко видно, что большим спросом пользуется тариф smart."
   ]
  },
  {
   "cell_type": "markdown",
   "metadata": {
    "id": "DC9H6oxdXYGQ"
   },
   "source": [
    "## Визуализация географии пользователей"
   ]
  },
  {
   "cell_type": "code",
   "execution_count": 80,
   "metadata": {
    "id": "MsPHXeDBYBE_"
   },
   "outputs": [],
   "source": [
    "city_list = users['city']"
   ]
  },
  {
   "cell_type": "code",
   "execution_count": 81,
   "metadata": {
    "id": "0ZNYQiwF3LUB"
   },
   "outputs": [],
   "source": [
    "from tqdm.notebook import tqdm"
   ]
  },
  {
   "cell_type": "code",
   "execution_count": 82,
   "metadata": {
    "id": "WhgEo7srz_EK"
   },
   "outputs": [],
   "source": [
    "import requests as r\n",
    "url = 'https://geocode-maps.yandex.ru/1.x/?apikey=2ddd3291-72fb-42da-b3c2-d643111ecfa7&format=json&geocode='"
   ]
  },
  {
   "cell_type": "code",
   "execution_count": 83,
   "metadata": {
    "id": "tjXZretSbMIO"
   },
   "outputs": [],
   "source": [
    "coordinates_x = []"
   ]
  },
  {
   "cell_type": "code",
   "execution_count": 84,
   "metadata": {
    "id": "k4OnzO2AbO6A"
   },
   "outputs": [],
   "source": [
    "coordinates_y = []"
   ]
  },
  {
   "cell_type": "markdown",
   "metadata": {
    "id": "_K9WRKNBkAGD"
   },
   "source": [
    "Получаем по JavaScript API и HTTP Геокодер от Яндекса координаты городов"
   ]
  },
  {
   "cell_type": "code",
   "execution_count": 85,
   "metadata": {
    "colab": {
     "base_uri": "https://localhost:8080/",
     "referenced_widgets": [
      "e14c1f5bd2174458a13560e9c731d7af"
     ]
    },
    "id": "xkJ-TsEl0ysC",
    "outputId": "27b86f3c-e2a5-4a2f-b5a1-b8cdc7181e15"
   },
   "outputs": [
    {
     "data": {
      "application/vnd.jupyter.widget-view+json": {
       "model_id": "7f7cb284c86148c99bca48915af00b5d",
       "version_major": 2,
       "version_minor": 0
      },
      "text/plain": [
       "  0%|          | 0/500 [00:00<?, ?it/s]"
      ]
     },
     "metadata": {},
     "output_type": "display_data"
    }
   ],
   "source": [
    "for city in tqdm(city_list):\n",
    "  url_formatted = url + city\n",
    "  response = r.get(url_formatted).json()\n",
    "  data = response['response']['GeoObjectCollection']['featureMember'][0]['GeoObject']['Point'].get('pos')\n",
    "  coordinate_x = float(data.split()[1])\n",
    "  coordinate_y = float(data.split()[0])\n",
    "  coordinates_x.append(coordinate_x)\n",
    "  coordinates_y.append(coordinate_y)\n",
    "      "
   ]
  },
  {
   "cell_type": "code",
   "execution_count": 86,
   "metadata": {
    "id": "HQxhLLMhBM6N"
   },
   "outputs": [],
   "source": [
    "users[\"tariff\"] = users[\"tariff\"].astype('category')"
   ]
  },
  {
   "cell_type": "code",
   "execution_count": 87,
   "metadata": {
    "id": "BcLYThTgD775"
   },
   "outputs": [],
   "source": [
    "users[\"tariff_cat\"] = users[\"tariff\"].cat.codes"
   ]
  },
  {
   "cell_type": "markdown",
   "metadata": {
    "id": "37U2MfHfEYtT"
   },
   "source": [
    "Сделали кодировку где ultra - 1, smart - 0"
   ]
  },
  {
   "cell_type": "code",
   "execution_count": 88,
   "metadata": {
    "id": "sfyLUg-m_kO-"
   },
   "outputs": [],
   "source": [
    "city_coor = pd.DataFrame({'Город':city_list, 'Координаты_x':coordinates_x,\n",
    "                          'Координаты_y':coordinates_y,\n",
    "                          'tariff_cat':users[\"tariff_cat\"]})"
   ]
  },
  {
   "cell_type": "markdown",
   "metadata": {
    "id": "NJcgsaJjkXLt"
   },
   "source": [
    "Прибавим к долготе и широте рандомные числа, чтобы наши точки не находились все в одном месте"
   ]
  },
  {
   "cell_type": "code",
   "execution_count": 89,
   "metadata": {
    "colab": {
     "base_uri": "https://localhost:8080/"
    },
    "id": "-ArRuGgtLPKa",
    "outputId": "912479e9-cdb5-4b07-b507-043f92bee5dd"
   },
   "outputs": [
    {
     "name": "stderr",
     "output_type": "stream",
     "text": [
      "C:\\Users\\lavru\\AppData\\Local\\Temp\\ipykernel_9160\\3719243825.py:2: SettingWithCopyWarning: \n",
      "A value is trying to be set on a copy of a slice from a DataFrame\n",
      "\n",
      "See the caveats in the documentation: https://pandas.pydata.org/pandas-docs/stable/user_guide/indexing.html#returning-a-view-versus-a-copy\n",
      "  city_coor['Координаты_x'][i] = city_coor['Координаты_x'][i] + np.random.uniform(-1, 1) / 5\n"
     ]
    }
   ],
   "source": [
    "for i, row in city_coor.iterrows():\n",
    "  city_coor['Координаты_x'][i] = city_coor['Координаты_x'][i] + np.random.uniform(-1, 1) / 5"
   ]
  },
  {
   "cell_type": "code",
   "execution_count": 90,
   "metadata": {
    "colab": {
     "base_uri": "https://localhost:8080/"
    },
    "id": "pVCBjYDPLQZE",
    "outputId": "69fc46f8-e92f-4eb7-b745-3a67ccc8715b"
   },
   "outputs": [
    {
     "name": "stderr",
     "output_type": "stream",
     "text": [
      "C:\\Users\\lavru\\AppData\\Local\\Temp\\ipykernel_9160\\50371016.py:2: SettingWithCopyWarning: \n",
      "A value is trying to be set on a copy of a slice from a DataFrame\n",
      "\n",
      "See the caveats in the documentation: https://pandas.pydata.org/pandas-docs/stable/user_guide/indexing.html#returning-a-view-versus-a-copy\n",
      "  city_coor['Координаты_y'][i] = city_coor['Координаты_y'][i] + np.random.uniform(-1, 1) / 5\n"
     ]
    }
   ],
   "source": [
    "for i, row in city_coor.iterrows():\n",
    "  city_coor['Координаты_y'][i] = city_coor['Координаты_y'][i] + np.random.uniform(-1, 1) / 5"
   ]
  },
  {
   "cell_type": "code",
   "execution_count": 91,
   "metadata": {
    "id": "Gkd6JPjecspF"
   },
   "outputs": [],
   "source": [
    "loc = city_coor[['Координаты_x','Координаты_y','tariff_cat']]"
   ]
  },
  {
   "cell_type": "code",
   "execution_count": 92,
   "metadata": {
    "id": "ssRyZVcsePzO"
   },
   "outputs": [],
   "source": [
    "loc = loc.values"
   ]
  },
  {
   "cell_type": "code",
   "execution_count": 93,
   "metadata": {
    "colab": {
     "base_uri": "https://localhost:8080/"
    },
    "id": "_HcSd9nmZq2e",
    "outputId": "bea09f13-0016-488f-9dbe-9bfb17c64dbe"
   },
   "outputs": [
    {
     "name": "stdout",
     "output_type": "stream",
     "text": [
      "Collecting h3\n",
      "  Downloading h3-3.7.6-cp39-cp39-win_amd64.whl (855 kB)\n",
      "     -------------------------------------- 855.6/855.6 kB 3.0 MB/s eta 0:00:00\n",
      "Installing collected packages: h3\n",
      "Successfully installed h3-3.7.6\n"
     ]
    }
   ],
   "source": [
    "! pip install h3"
   ]
  },
  {
   "cell_type": "code",
   "execution_count": 95,
   "metadata": {},
   "outputs": [
    {
     "name": "stdout",
     "output_type": "stream",
     "text": [
      "Collecting folium\n",
      "  Downloading folium-0.14.0-py2.py3-none-any.whl (102 kB)\n",
      "     -------------------------------------- 102.3/102.3 kB 1.2 MB/s eta 0:00:00\n",
      "Requirement already satisfied: jinja2>=2.9 in d:\\anaconda\\lib\\site-packages (from folium) (2.11.3)\n",
      "Collecting branca>=0.6.0\n",
      "  Downloading branca-0.6.0-py3-none-any.whl (24 kB)\n",
      "Requirement already satisfied: numpy in d:\\anaconda\\lib\\site-packages (from folium) (1.24.0)\n",
      "Requirement already satisfied: requests in d:\\anaconda\\lib\\site-packages (from folium) (2.27.1)\n",
      "Requirement already satisfied: MarkupSafe>=0.23 in d:\\anaconda\\lib\\site-packages (from jinja2>=2.9->folium) (2.0.1)\n",
      "Requirement already satisfied: idna<4,>=2.5 in d:\\anaconda\\lib\\site-packages (from requests->folium) (3.3)\n",
      "Requirement already satisfied: urllib3<1.27,>=1.21.1 in d:\\anaconda\\lib\\site-packages (from requests->folium) (1.26.9)\n",
      "Requirement already satisfied: charset-normalizer~=2.0.0 in d:\\anaconda\\lib\\site-packages (from requests->folium) (2.0.4)\n",
      "Requirement already satisfied: certifi>=2017.4.17 in d:\\anaconda\\lib\\site-packages (from requests->folium) (2022.9.14)\n",
      "Installing collected packages: branca, folium\n",
      "Successfully installed branca-0.6.0 folium-0.14.0\n"
     ]
    }
   ],
   "source": [
    "! pip install folium"
   ]
  },
  {
   "cell_type": "code",
   "execution_count": 96,
   "metadata": {
    "id": "QW9U6xKrd1FP"
   },
   "outputs": [],
   "source": [
    "import folium"
   ]
  },
  {
   "cell_type": "code",
   "execution_count": 97,
   "metadata": {
    "id": "1NGOvQiEd4m-"
   },
   "outputs": [],
   "source": [
    "m = folium.Map(location= [56.838011, 60.597465],zoom_start = 3)"
   ]
  },
  {
   "cell_type": "code",
   "execution_count": 98,
   "metadata": {
    "id": "QRLxZftYft_J"
   },
   "outputs": [],
   "source": [
    "for marker in loc:\n",
    "  color = 'blue'\n",
    "  if marker[2] == 1:\n",
    "    color = 'red'\n",
    "\n",
    "  folium.CircleMarker(\n",
    "    location=[marker[0], marker[1]],\n",
    "    fill = True,\n",
    "    fill_color=color,\n",
    "    color = color,\n",
    "    radius = 3\n",
    ").add_to(m)"
   ]
  },
  {
   "cell_type": "code",
   "execution_count": 99,
   "metadata": {
    "colab": {
     "base_uri": "https://localhost:8080/",
     "height": 777
    },
    "id": "9z812VkoGgTO",
    "outputId": "1ed4949a-c4de-4317-ef62-044c40eede12"
   },
   "outputs": [
    {
     "data": {
      "text/html": [
       "<div style=\"width:100%;\"><div style=\"position:relative;width:100%;height:0;padding-bottom:60%;\"><span style=\"color:#565656\">Make this Notebook Trusted to load map: File -> Trust Notebook</span><iframe srcdoc=\"&lt;!DOCTYPE html&gt;\n",
       "&lt;html&gt;\n",
       "&lt;head&gt;\n",
       "    \n",
       "    &lt;meta http-equiv=&quot;content-type&quot; content=&quot;text/html; charset=UTF-8&quot; /&gt;\n",
       "    \n",
       "        &lt;script&gt;\n",
       "            L_NO_TOUCH = false;\n",
       "            L_DISABLE_3D = false;\n",
       "        &lt;/script&gt;\n",
       "    \n",
       "    &lt;style&gt;html, body {width: 100%;height: 100%;margin: 0;padding: 0;}&lt;/style&gt;\n",
       "    &lt;style&gt;#map {position:absolute;top:0;bottom:0;right:0;left:0;}&lt;/style&gt;\n",
       "    &lt;script src=&quot;https://cdn.jsdelivr.net/npm/leaflet@1.9.3/dist/leaflet.js&quot;&gt;&lt;/script&gt;\n",
       "    &lt;script src=&quot;https://code.jquery.com/jquery-1.12.4.min.js&quot;&gt;&lt;/script&gt;\n",
       "    &lt;script src=&quot;https://cdn.jsdelivr.net/npm/bootstrap@5.2.2/dist/js/bootstrap.bundle.min.js&quot;&gt;&lt;/script&gt;\n",
       "    &lt;script src=&quot;https://cdnjs.cloudflare.com/ajax/libs/Leaflet.awesome-markers/2.0.2/leaflet.awesome-markers.js&quot;&gt;&lt;/script&gt;\n",
       "    &lt;link rel=&quot;stylesheet&quot; href=&quot;https://cdn.jsdelivr.net/npm/leaflet@1.9.3/dist/leaflet.css&quot;/&gt;\n",
       "    &lt;link rel=&quot;stylesheet&quot; href=&quot;https://cdn.jsdelivr.net/npm/bootstrap@5.2.2/dist/css/bootstrap.min.css&quot;/&gt;\n",
       "    &lt;link rel=&quot;stylesheet&quot; href=&quot;https://netdna.bootstrapcdn.com/bootstrap/3.0.0/css/bootstrap.min.css&quot;/&gt;\n",
       "    &lt;link rel=&quot;stylesheet&quot; href=&quot;https://cdn.jsdelivr.net/npm/@fortawesome/fontawesome-free@6.2.0/css/all.min.css&quot;/&gt;\n",
       "    &lt;link rel=&quot;stylesheet&quot; href=&quot;https://cdnjs.cloudflare.com/ajax/libs/Leaflet.awesome-markers/2.0.2/leaflet.awesome-markers.css&quot;/&gt;\n",
       "    &lt;link rel=&quot;stylesheet&quot; href=&quot;https://cdn.jsdelivr.net/gh/python-visualization/folium/folium/templates/leaflet.awesome.rotate.min.css&quot;/&gt;\n",
       "    \n",
       "            &lt;meta name=&quot;viewport&quot; content=&quot;width=device-width,\n",
       "                initial-scale=1.0, maximum-scale=1.0, user-scalable=no&quot; /&gt;\n",
       "            &lt;style&gt;\n",
       "                #map_e47a3adb9f6102181a7bde97390a9b82 {\n",
       "                    position: relative;\n",
       "                    width: 100.0%;\n",
       "                    height: 100.0%;\n",
       "                    left: 0.0%;\n",
       "                    top: 0.0%;\n",
       "                }\n",
       "                .leaflet-container { font-size: 1rem; }\n",
       "            &lt;/style&gt;\n",
       "        \n",
       "&lt;/head&gt;\n",
       "&lt;body&gt;\n",
       "    \n",
       "    \n",
       "            &lt;div class=&quot;folium-map&quot; id=&quot;map_e47a3adb9f6102181a7bde97390a9b82&quot; &gt;&lt;/div&gt;\n",
       "        \n",
       "&lt;/body&gt;\n",
       "&lt;script&gt;\n",
       "    \n",
       "    \n",
       "            var map_e47a3adb9f6102181a7bde97390a9b82 = L.map(\n",
       "                &quot;map_e47a3adb9f6102181a7bde97390a9b82&quot;,\n",
       "                {\n",
       "                    center: [56.838011, 60.597465],\n",
       "                    crs: L.CRS.EPSG3857,\n",
       "                    zoom: 3,\n",
       "                    zoomControl: true,\n",
       "                    preferCanvas: false,\n",
       "                }\n",
       "            );\n",
       "\n",
       "            \n",
       "\n",
       "        \n",
       "    \n",
       "            var tile_layer_1ff423bbb837e0471b15ac73be241a44 = L.tileLayer(\n",
       "                &quot;https://{s}.tile.openstreetmap.org/{z}/{x}/{y}.png&quot;,\n",
       "                {&quot;attribution&quot;: &quot;Data by \\u0026copy; \\u003ca target=\\&quot;_blank\\&quot; href=\\&quot;http://openstreetmap.org\\&quot;\\u003eOpenStreetMap\\u003c/a\\u003e, under \\u003ca target=\\&quot;_blank\\&quot; href=\\&quot;http://www.openstreetmap.org/copyright\\&quot;\\u003eODbL\\u003c/a\\u003e.&quot;, &quot;detectRetina&quot;: false, &quot;maxNativeZoom&quot;: 18, &quot;maxZoom&quot;: 18, &quot;minZoom&quot;: 0, &quot;noWrap&quot;: false, &quot;opacity&quot;: 1, &quot;subdomains&quot;: &quot;abc&quot;, &quot;tms&quot;: false}\n",
       "            ).addTo(map_e47a3adb9f6102181a7bde97390a9b82);\n",
       "        \n",
       "    \n",
       "            var circle_marker_a34a05db6aeb6184df035c367c2cc344 = L.circleMarker(\n",
       "                [44.9814555117113, 39.077470487342744],\n",
       "                {&quot;bubblingMouseEvents&quot;: true, &quot;color&quot;: &quot;red&quot;, &quot;dashArray&quot;: null, &quot;dashOffset&quot;: null, &quot;fill&quot;: true, &quot;fillColor&quot;: &quot;red&quot;, &quot;fillOpacity&quot;: 0.2, &quot;fillRule&quot;: &quot;evenodd&quot;, &quot;lineCap&quot;: &quot;round&quot;, &quot;lineJoin&quot;: &quot;round&quot;, &quot;opacity&quot;: 1.0, &quot;radius&quot;: 3, &quot;stroke&quot;: true, &quot;weight&quot;: 3}\n",
       "            ).addTo(map_e47a3adb9f6102181a7bde97390a9b82);\n",
       "        \n",
       "    \n",
       "            var circle_marker_8ca40744150d1a00d902366a12391bee = L.circleMarker(\n",
       "                [55.81288110141332, 37.57828803043687],\n",
       "                {&quot;bubblingMouseEvents&quot;: true, &quot;color&quot;: &quot;blue&quot;, &quot;dashArray&quot;: null, &quot;dashOffset&quot;: null, &quot;fill&quot;: true, &quot;fillColor&quot;: &quot;blue&quot;, &quot;fillOpacity&quot;: 0.2, &quot;fillRule&quot;: &quot;evenodd&quot;, &quot;lineCap&quot;: &quot;round&quot;, &quot;lineJoin&quot;: &quot;round&quot;, &quot;opacity&quot;: 1.0, &quot;radius&quot;: 3, &quot;stroke&quot;: true, &quot;weight&quot;: 3}\n",
       "            ).addTo(map_e47a3adb9f6102181a7bde97390a9b82);\n",
       "        \n",
       "    \n",
       "            var circle_marker_428a976ef07618ba3581c90e4280d2d6 = L.circleMarker(\n",
       "                [53.82622952019416, 55.946611775674164],\n",
       "                {&quot;bubblingMouseEvents&quot;: true, &quot;color&quot;: &quot;blue&quot;, &quot;dashArray&quot;: null, &quot;dashOffset&quot;: null, &quot;fill&quot;: true, &quot;fillColor&quot;: &quot;blue&quot;, &quot;fillOpacity&quot;: 0.2, &quot;fillRule&quot;: &quot;evenodd&quot;, &quot;lineCap&quot;: &quot;round&quot;, &quot;lineJoin&quot;: &quot;round&quot;, &quot;opacity&quot;: 1.0, &quot;radius&quot;: 3, &quot;stroke&quot;: true, &quot;weight&quot;: 3}\n",
       "            ).addTo(map_e47a3adb9f6102181a7bde97390a9b82);\n",
       "        \n",
       "    \n",
       "            var circle_marker_8dc29ef10730c504bee99e9269c099ca = L.circleMarker(\n",
       "                [55.95363852533331, 37.60915416595691],\n",
       "                {&quot;bubblingMouseEvents&quot;: true, &quot;color&quot;: &quot;red&quot;, &quot;dashArray&quot;: null, &quot;dashOffset&quot;: null, &quot;fill&quot;: true, &quot;fillColor&quot;: &quot;red&quot;, &quot;fillOpacity&quot;: 0.2, &quot;fillRule&quot;: &quot;evenodd&quot;, &quot;lineCap&quot;: &quot;round&quot;, &quot;lineJoin&quot;: &quot;round&quot;, &quot;opacity&quot;: 1.0, &quot;radius&quot;: 3, &quot;stroke&quot;: true, &quot;weight&quot;: 3}\n",
       "            ).addTo(map_e47a3adb9f6102181a7bde97390a9b82);\n",
       "        \n",
       "    \n",
       "            var circle_marker_108fec208bdf169bc162218d236ef366 = L.circleMarker(\n",
       "                [53.9157920299893, 87.23898305527314],\n",
       "                {&quot;bubblingMouseEvents&quot;: true, &quot;color&quot;: &quot;red&quot;, &quot;dashArray&quot;: null, &quot;dashOffset&quot;: null, &quot;fill&quot;: true, &quot;fillColor&quot;: &quot;red&quot;, &quot;fillOpacity&quot;: 0.2, &quot;fillRule&quot;: &quot;evenodd&quot;, &quot;lineCap&quot;: &quot;round&quot;, &quot;lineJoin&quot;: &quot;round&quot;, &quot;opacity&quot;: 1.0, &quot;radius&quot;: 3, &quot;stroke&quot;: true, &quot;weight&quot;: 3}\n",
       "            ).addTo(map_e47a3adb9f6102181a7bde97390a9b82);\n",
       "        \n",
       "    \n",
       "            var circle_marker_bc8e811abc86bdae0ce8b5f6c595dc1f = L.circleMarker(\n",
       "                [55.59135509936286, 52.45713180069244],\n",
       "                {&quot;bubblingMouseEvents&quot;: true, &quot;color&quot;: &quot;blue&quot;, &quot;dashArray&quot;: null, &quot;dashOffset&quot;: null, &quot;fill&quot;: true, &quot;fillColor&quot;: &quot;blue&quot;, &quot;fillOpacity&quot;: 0.2, &quot;fillRule&quot;: &quot;evenodd&quot;, &quot;lineCap&quot;: &quot;round&quot;, &quot;lineJoin&quot;: &quot;round&quot;, &quot;opacity&quot;: 1.0, &quot;radius&quot;: 3, &quot;stroke&quot;: true, &quot;weight&quot;: 3}\n",
       "            ).addTo(map_e47a3adb9f6102181a7bde97390a9b82);\n",
       "        \n",
       "    \n",
       "            var circle_marker_6ffbbc2d8da8b4d7d40cf87b67ae0fe8 = L.circleMarker(\n",
       "                [54.36775683128002, 48.44632265898749],\n",
       "                {&quot;bubblingMouseEvents&quot;: true, &quot;color&quot;: &quot;blue&quot;, &quot;dashArray&quot;: null, &quot;dashOffset&quot;: null, &quot;fill&quot;: true, &quot;fillColor&quot;: &quot;blue&quot;, &quot;fillOpacity&quot;: 0.2, &quot;fillRule&quot;: &quot;evenodd&quot;, &quot;lineCap&quot;: &quot;round&quot;, &quot;lineJoin&quot;: &quot;round&quot;, &quot;opacity&quot;: 1.0, &quot;radius&quot;: 3, &quot;stroke&quot;: true, &quot;weight&quot;: 3}\n",
       "            ).addTo(map_e47a3adb9f6102181a7bde97390a9b82);\n",
       "        \n",
       "    \n",
       "            var circle_marker_6979be7e908ad72653c0ed3cef39697b = L.circleMarker(\n",
       "                [55.9213902144552, 37.498272631284685],\n",
       "                {&quot;bubblingMouseEvents&quot;: true, &quot;color&quot;: &quot;blue&quot;, &quot;dashArray&quot;: null, &quot;dashOffset&quot;: null, &quot;fill&quot;: true, &quot;fillColor&quot;: &quot;blue&quot;, &quot;fillOpacity&quot;: 0.2, &quot;fillRule&quot;: &quot;evenodd&quot;, &quot;lineCap&quot;: &quot;round&quot;, &quot;lineJoin&quot;: &quot;round&quot;, &quot;opacity&quot;: 1.0, &quot;radius&quot;: 3, &quot;stroke&quot;: true, &quot;weight&quot;: 3}\n",
       "            ).addTo(map_e47a3adb9f6102181a7bde97390a9b82);\n",
       "        \n",
       "    \n",
       "            var circle_marker_d4023bea6b7d4e6a51267ddbd5225361 = L.circleMarker(\n",
       "                [55.14032385948351, 61.53492699488614],\n",
       "                {&quot;bubblingMouseEvents&quot;: true, &quot;color&quot;: &quot;blue&quot;, &quot;dashArray&quot;: null, &quot;dashOffset&quot;: null, &quot;fill&quot;: true, &quot;fillColor&quot;: &quot;blue&quot;, &quot;fillOpacity&quot;: 0.2, &quot;fillRule&quot;: &quot;evenodd&quot;, &quot;lineCap&quot;: &quot;round&quot;, &quot;lineJoin&quot;: &quot;round&quot;, &quot;opacity&quot;: 1.0, &quot;radius&quot;: 3, &quot;stroke&quot;: true, &quot;weight&quot;: 3}\n",
       "            ).addTo(map_e47a3adb9f6102181a7bde97390a9b82);\n",
       "        \n",
       "    \n",
       "            var circle_marker_3abde8c190a7043902f8560df127b47a = L.circleMarker(\n",
       "                [57.86556384887314, 56.18305725689523],\n",
       "                {&quot;bubblingMouseEvents&quot;: true, &quot;color&quot;: &quot;blue&quot;, &quot;dashArray&quot;: null, &quot;dashOffset&quot;: null, &quot;fill&quot;: true, &quot;fillColor&quot;: &quot;blue&quot;, &quot;fillOpacity&quot;: 0.2, &quot;fillRule&quot;: &quot;evenodd&quot;, &quot;lineCap&quot;: &quot;round&quot;, &quot;lineJoin&quot;: &quot;round&quot;, &quot;opacity&quot;: 1.0, &quot;radius&quot;: 3, &quot;stroke&quot;: true, &quot;weight&quot;: 3}\n",
       "            ).addTo(map_e47a3adb9f6102181a7bde97390a9b82);\n",
       "        \n",
       "    \n",
       "            var circle_marker_93e5ce7eba71564cde1cacfe318e42ce = L.circleMarker(\n",
       "                [56.96431396748596, 65.64589377037984],\n",
       "                {&quot;bubblingMouseEvents&quot;: true, &quot;color&quot;: &quot;blue&quot;, &quot;dashArray&quot;: null, &quot;dashOffset&quot;: null, &quot;fill&quot;: true, &quot;fillColor&quot;: &quot;blue&quot;, &quot;fillOpacity&quot;: 0.2, &quot;fillRule&quot;: &quot;evenodd&quot;, &quot;lineCap&quot;: &quot;round&quot;, &quot;lineJoin&quot;: &quot;round&quot;, &quot;opacity&quot;: 1.0, &quot;radius&quot;: 3, &quot;stroke&quot;: true, &quot;weight&quot;: 3}\n",
       "            ).addTo(map_e47a3adb9f6102181a7bde97390a9b82);\n",
       "        \n",
       "    \n",
       "            var circle_marker_b0e20eaa3251f54edb78985ad248d650 = L.circleMarker(\n",
       "                [53.357072130744626, 50.263550974866085],\n",
       "                {&quot;bubblingMouseEvents&quot;: true, &quot;color&quot;: &quot;blue&quot;, &quot;dashArray&quot;: null, &quot;dashOffset&quot;: null, &quot;fill&quot;: true, &quot;fillColor&quot;: &quot;blue&quot;, &quot;fillOpacity&quot;: 0.2, &quot;fillRule&quot;: &quot;evenodd&quot;, &quot;lineCap&quot;: &quot;round&quot;, &quot;lineJoin&quot;: &quot;round&quot;, &quot;opacity&quot;: 1.0, &quot;radius&quot;: 3, &quot;stroke&quot;: true, &quot;weight&quot;: 3}\n",
       "            ).addTo(map_e47a3adb9f6102181a7bde97390a9b82);\n",
       "        \n",
       "    \n",
       "            var circle_marker_579d464dafeb432fe8d7cfc7065c2b3a = L.circleMarker(\n",
       "                [60.0731250256581, 30.49617674523971],\n",
       "                {&quot;bubblingMouseEvents&quot;: true, &quot;color&quot;: &quot;blue&quot;, &quot;dashArray&quot;: null, &quot;dashOffset&quot;: null, &quot;fill&quot;: true, &quot;fillColor&quot;: &quot;blue&quot;, &quot;fillOpacity&quot;: 0.2, &quot;fillRule&quot;: &quot;evenodd&quot;, &quot;lineCap&quot;: &quot;round&quot;, &quot;lineJoin&quot;: &quot;round&quot;, &quot;opacity&quot;: 1.0, &quot;radius&quot;: 3, &quot;stroke&quot;: true, &quot;weight&quot;: 3}\n",
       "            ).addTo(map_e47a3adb9f6102181a7bde97390a9b82);\n",
       "        \n",
       "    \n",
       "            var circle_marker_ce0d8c080685749b5dae1c602af1f375 = L.circleMarker(\n",
       "                [56.89037817195112, 40.79273348859444],\n",
       "                {&quot;bubblingMouseEvents&quot;: true, &quot;color&quot;: &quot;red&quot;, &quot;dashArray&quot;: null, &quot;dashOffset&quot;: null, &quot;fill&quot;: true, &quot;fillColor&quot;: &quot;red&quot;, &quot;fillOpacity&quot;: 0.2, &quot;fillRule&quot;: &quot;evenodd&quot;, &quot;lineCap&quot;: &quot;round&quot;, &quot;lineJoin&quot;: &quot;round&quot;, &quot;opacity&quot;: 1.0, &quot;radius&quot;: 3, &quot;stroke&quot;: true, &quot;weight&quot;: 3}\n",
       "            ).addTo(map_e47a3adb9f6102181a7bde97390a9b82);\n",
       "        \n",
       "    \n",
       "            var circle_marker_8419dab0aa3d657fdc1379ccbe581e23 = L.circleMarker(\n",
       "                [56.116971516953654, 47.16070674869553],\n",
       "                {&quot;bubblingMouseEvents&quot;: true, &quot;color&quot;: &quot;blue&quot;, &quot;dashArray&quot;: null, &quot;dashOffset&quot;: null, &quot;fill&quot;: true, &quot;fillColor&quot;: &quot;blue&quot;, &quot;fillOpacity&quot;: 0.2, &quot;fillRule&quot;: &quot;evenodd&quot;, &quot;lineCap&quot;: &quot;round&quot;, &quot;lineJoin&quot;: &quot;round&quot;, &quot;opacity&quot;: 1.0, &quot;radius&quot;: 3, &quot;stroke&quot;: true, &quot;weight&quot;: 3}\n",
       "            ).addTo(map_e47a3adb9f6102181a7bde97390a9b82);\n",
       "        \n",
       "    \n",
       "            var circle_marker_96d990237be6b50e4e6debfd1d558efe = L.circleMarker(\n",
       "                [55.29894751954644, 61.30107410780222],\n",
       "                {&quot;bubblingMouseEvents&quot;: true, &quot;color&quot;: &quot;blue&quot;, &quot;dashArray&quot;: null, &quot;dashOffset&quot;: null, &quot;fill&quot;: true, &quot;fillColor&quot;: &quot;blue&quot;, &quot;fillOpacity&quot;: 0.2, &quot;fillRule&quot;: &quot;evenodd&quot;, &quot;lineCap&quot;: &quot;round&quot;, &quot;lineJoin&quot;: &quot;round&quot;, &quot;opacity&quot;: 1.0, &quot;radius&quot;: 3, &quot;stroke&quot;: true, &quot;weight&quot;: 3}\n",
       "            ).addTo(map_e47a3adb9f6102181a7bde97390a9b82);\n",
       "        \n",
       "    \n",
       "            var circle_marker_25823d3549372686758687e443ea3919 = L.circleMarker(\n",
       "                [55.0257620195748, 73.40715346881508],\n",
       "                {&quot;bubblingMouseEvents&quot;: true, &quot;color&quot;: &quot;red&quot;, &quot;dashArray&quot;: null, &quot;dashOffset&quot;: null, &quot;fill&quot;: true, &quot;fillColor&quot;: &quot;red&quot;, &quot;fillOpacity&quot;: 0.2, &quot;fillRule&quot;: &quot;evenodd&quot;, &quot;lineCap&quot;: &quot;round&quot;, &quot;lineJoin&quot;: &quot;round&quot;, &quot;opacity&quot;: 1.0, &quot;radius&quot;: 3, &quot;stroke&quot;: true, &quot;weight&quot;: 3}\n",
       "            ).addTo(map_e47a3adb9f6102181a7bde97390a9b82);\n",
       "        \n",
       "    \n",
       "            var circle_marker_1e2efacd52dd811ddf1f8b16a97b0d47 = L.circleMarker(\n",
       "                [45.16727057461408, 38.871244626420044],\n",
       "                {&quot;bubblingMouseEvents&quot;: true, &quot;color&quot;: &quot;blue&quot;, &quot;dashArray&quot;: null, &quot;dashOffset&quot;: null, &quot;fill&quot;: true, &quot;fillColor&quot;: &quot;blue&quot;, &quot;fillOpacity&quot;: 0.2, &quot;fillRule&quot;: &quot;evenodd&quot;, &quot;lineCap&quot;: &quot;round&quot;, &quot;lineJoin&quot;: &quot;round&quot;, &quot;opacity&quot;: 1.0, &quot;radius&quot;: 3, &quot;stroke&quot;: true, &quot;weight&quot;: 3}\n",
       "            ).addTo(map_e47a3adb9f6102181a7bde97390a9b82);\n",
       "        \n",
       "    \n",
       "            var circle_marker_fc80ce3f238e531f80641dda903a5ce1 = L.circleMarker(\n",
       "                [54.75770923983245, 56.00375510809787],\n",
       "                {&quot;bubblingMouseEvents&quot;: true, &quot;color&quot;: &quot;red&quot;, &quot;dashArray&quot;: null, &quot;dashOffset&quot;: null, &quot;fill&quot;: true, &quot;fillColor&quot;: &quot;red&quot;, &quot;fillOpacity&quot;: 0.2, &quot;fillRule&quot;: &quot;evenodd&quot;, &quot;lineCap&quot;: &quot;round&quot;, &quot;lineJoin&quot;: &quot;round&quot;, &quot;opacity&quot;: 1.0, &quot;radius&quot;: 3, &quot;stroke&quot;: true, &quot;weight&quot;: 3}\n",
       "            ).addTo(map_e47a3adb9f6102181a7bde97390a9b82);\n",
       "        \n",
       "    \n",
       "            var circle_marker_47b0e260fcd750c069e20013a8bc2875 = L.circleMarker(\n",
       "                [56.301995582057785, 85.0492173640257],\n",
       "                {&quot;bubblingMouseEvents&quot;: true, &quot;color&quot;: &quot;red&quot;, &quot;dashArray&quot;: null, &quot;dashOffset&quot;: null, &quot;fill&quot;: true, &quot;fillColor&quot;: &quot;red&quot;, &quot;fillOpacity&quot;: 0.2, &quot;fillRule&quot;: &quot;evenodd&quot;, &quot;lineCap&quot;: &quot;round&quot;, &quot;lineJoin&quot;: &quot;round&quot;, &quot;opacity&quot;: 1.0, &quot;radius&quot;: 3, &quot;stroke&quot;: true, &quot;weight&quot;: 3}\n",
       "            ).addTo(map_e47a3adb9f6102181a7bde97390a9b82);\n",
       "        \n",
       "    \n",
       "            var circle_marker_309a2c082978006a4cdf8a0125feb63f = L.circleMarker(\n",
       "                [51.91801120962135, 113.30646044743615],\n",
       "                {&quot;bubblingMouseEvents&quot;: true, &quot;color&quot;: &quot;blue&quot;, &quot;dashArray&quot;: null, &quot;dashOffset&quot;: null, &quot;fill&quot;: true, &quot;fillColor&quot;: &quot;blue&quot;, &quot;fillOpacity&quot;: 0.2, &quot;fillRule&quot;: &quot;evenodd&quot;, &quot;lineCap&quot;: &quot;round&quot;, &quot;lineJoin&quot;: &quot;round&quot;, &quot;opacity&quot;: 1.0, &quot;radius&quot;: 3, &quot;stroke&quot;: true, &quot;weight&quot;: 3}\n",
       "            ).addTo(map_e47a3adb9f6102181a7bde97390a9b82);\n",
       "        \n",
       "    \n",
       "            var circle_marker_b44d8784b9acbd5b11d1dc443c0662a0 = L.circleMarker(\n",
       "                [45.08574202447712, 39.15007669985525],\n",
       "                {&quot;bubblingMouseEvents&quot;: true, &quot;color&quot;: &quot;red&quot;, &quot;dashArray&quot;: null, &quot;dashOffset&quot;: null, &quot;fill&quot;: true, &quot;fillColor&quot;: &quot;red&quot;, &quot;fillOpacity&quot;: 0.2, &quot;fillRule&quot;: &quot;evenodd&quot;, &quot;lineCap&quot;: &quot;round&quot;, &quot;lineJoin&quot;: &quot;round&quot;, &quot;opacity&quot;: 1.0, &quot;radius&quot;: 3, &quot;stroke&quot;: true, &quot;weight&quot;: 3}\n",
       "            ).addTo(map_e47a3adb9f6102181a7bde97390a9b82);\n",
       "        \n",
       "    \n",
       "            var circle_marker_1d50970f930bb452c6bc451f39ac3b0b = L.circleMarker(\n",
       "                [59.95446905348906, 30.40191828086869],\n",
       "                {&quot;bubblingMouseEvents&quot;: true, &quot;color&quot;: &quot;blue&quot;, &quot;dashArray&quot;: null, &quot;dashOffset&quot;: null, &quot;fill&quot;: true, &quot;fillColor&quot;: &quot;blue&quot;, &quot;fillOpacity&quot;: 0.2, &quot;fillRule&quot;: &quot;evenodd&quot;, &quot;lineCap&quot;: &quot;round&quot;, &quot;lineJoin&quot;: &quot;round&quot;, &quot;opacity&quot;: 1.0, &quot;radius&quot;: 3, &quot;stroke&quot;: true, &quot;weight&quot;: 3}\n",
       "            ).addTo(map_e47a3adb9f6102181a7bde97390a9b82);\n",
       "        \n",
       "    \n",
       "            var circle_marker_97ec3ab5c8ab49fade490568adc5da73 = L.circleMarker(\n",
       "                [56.35735017941179, 84.82804409765508],\n",
       "                {&quot;bubblingMouseEvents&quot;: true, &quot;color&quot;: &quot;blue&quot;, &quot;dashArray&quot;: null, &quot;dashOffset&quot;: null, &quot;fill&quot;: true, &quot;fillColor&quot;: &quot;blue&quot;, &quot;fillOpacity&quot;: 0.2, &quot;fillRule&quot;: &quot;evenodd&quot;, &quot;lineCap&quot;: &quot;round&quot;, &quot;lineJoin&quot;: &quot;round&quot;, &quot;opacity&quot;: 1.0, &quot;radius&quot;: 3, &quot;stroke&quot;: true, &quot;weight&quot;: 3}\n",
       "            ).addTo(map_e47a3adb9f6102181a7bde97390a9b82);\n",
       "        \n",
       "    \n",
       "            var circle_marker_7b42a85e2e484f69ed0293c4942f6eb8 = L.circleMarker(\n",
       "                [60.03582894956256, 30.117916575333673],\n",
       "                {&quot;bubblingMouseEvents&quot;: true, &quot;color&quot;: &quot;red&quot;, &quot;dashArray&quot;: null, &quot;dashOffset&quot;: null, &quot;fill&quot;: true, &quot;fillColor&quot;: &quot;red&quot;, &quot;fillOpacity&quot;: 0.2, &quot;fillRule&quot;: &quot;evenodd&quot;, &quot;lineCap&quot;: &quot;round&quot;, &quot;lineJoin&quot;: &quot;round&quot;, &quot;opacity&quot;: 1.0, &quot;radius&quot;: 3, &quot;stroke&quot;: true, &quot;weight&quot;: 3}\n",
       "            ).addTo(map_e47a3adb9f6102181a7bde97390a9b82);\n",
       "        \n",
       "    \n",
       "            var circle_marker_5ea8ad05c912126a8f276ffa9cd00c60 = L.circleMarker(\n",
       "                [54.73160600766661, 56.01292719822227],\n",
       "                {&quot;bubblingMouseEvents&quot;: true, &quot;color&quot;: &quot;blue&quot;, &quot;dashArray&quot;: null, &quot;dashOffset&quot;: null, &quot;fill&quot;: true, &quot;fillColor&quot;: &quot;blue&quot;, &quot;fillOpacity&quot;: 0.2, &quot;fillRule&quot;: &quot;evenodd&quot;, &quot;lineCap&quot;: &quot;round&quot;, &quot;lineJoin&quot;: &quot;round&quot;, &quot;opacity&quot;: 1.0, &quot;radius&quot;: 3, &quot;stroke&quot;: true, &quot;weight&quot;: 3}\n",
       "            ).addTo(map_e47a3adb9f6102181a7bde97390a9b82);\n",
       "        \n",
       "    \n",
       "            var circle_marker_8bebcf6ca3030f5ed72fd341bf7c8fd7 = L.circleMarker(\n",
       "                [69.13331581185803, 32.984487390435994],\n",
       "                {&quot;bubblingMouseEvents&quot;: true, &quot;color&quot;: &quot;blue&quot;, &quot;dashArray&quot;: null, &quot;dashOffset&quot;: null, &quot;fill&quot;: true, &quot;fillColor&quot;: &quot;blue&quot;, &quot;fillOpacity&quot;: 0.2, &quot;fillRule&quot;: &quot;evenodd&quot;, &quot;lineCap&quot;: &quot;round&quot;, &quot;lineJoin&quot;: &quot;round&quot;, &quot;opacity&quot;: 1.0, &quot;radius&quot;: 3, &quot;stroke&quot;: true, &quot;weight&quot;: 3}\n",
       "            ).addTo(map_e47a3adb9f6102181a7bde97390a9b82);\n",
       "        \n",
       "    \n",
       "            var circle_marker_b711bceed075eb12116129d12da6fdc1 = L.circleMarker(\n",
       "                [61.8836033021615, 34.528433808668],\n",
       "                {&quot;bubblingMouseEvents&quot;: true, &quot;color&quot;: &quot;blue&quot;, &quot;dashArray&quot;: null, &quot;dashOffset&quot;: null, &quot;fill&quot;: true, &quot;fillColor&quot;: &quot;blue&quot;, &quot;fillOpacity&quot;: 0.2, &quot;fillRule&quot;: &quot;evenodd&quot;, &quot;lineCap&quot;: &quot;round&quot;, &quot;lineJoin&quot;: &quot;round&quot;, &quot;opacity&quot;: 1.0, &quot;radius&quot;: 3, &quot;stroke&quot;: true, &quot;weight&quot;: 3}\n",
       "            ).addTo(map_e47a3adb9f6102181a7bde97390a9b82);\n",
       "        \n",
       "    \n",
       "            var circle_marker_de6f54c529a6c4a0c6a0ed432ac6e76a = L.circleMarker(\n",
       "                [56.86857889165103, 36.04047634966383],\n",
       "                {&quot;bubblingMouseEvents&quot;: true, &quot;color&quot;: &quot;red&quot;, &quot;dashArray&quot;: null, &quot;dashOffset&quot;: null, &quot;fill&quot;: true, &quot;fillColor&quot;: &quot;red&quot;, &quot;fillOpacity&quot;: 0.2, &quot;fillRule&quot;: &quot;evenodd&quot;, &quot;lineCap&quot;: &quot;round&quot;, &quot;lineJoin&quot;: &quot;round&quot;, &quot;opacity&quot;: 1.0, &quot;radius&quot;: 3, &quot;stroke&quot;: true, &quot;weight&quot;: 3}\n",
       "            ).addTo(map_e47a3adb9f6102181a7bde97390a9b82);\n",
       "        \n",
       "    \n",
       "            var circle_marker_e88db7a3f44f600b43150510d46e1747 = L.circleMarker(\n",
       "                [56.76536257707078, 60.44740329467316],\n",
       "                {&quot;bubblingMouseEvents&quot;: true, &quot;color&quot;: &quot;blue&quot;, &quot;dashArray&quot;: null, &quot;dashOffset&quot;: null, &quot;fill&quot;: true, &quot;fillColor&quot;: &quot;blue&quot;, &quot;fillOpacity&quot;: 0.2, &quot;fillRule&quot;: &quot;evenodd&quot;, &quot;lineCap&quot;: &quot;round&quot;, &quot;lineJoin&quot;: &quot;round&quot;, &quot;opacity&quot;: 1.0, &quot;radius&quot;: 3, &quot;stroke&quot;: true, &quot;weight&quot;: 3}\n",
       "            ).addTo(map_e47a3adb9f6102181a7bde97390a9b82);\n",
       "        \n",
       "    \n",
       "            var circle_marker_b1dcbd0e14784af8350b43c299dd8114 = L.circleMarker(\n",
       "                [42.81203942419667, 47.69647160624183],\n",
       "                {&quot;bubblingMouseEvents&quot;: true, &quot;color&quot;: &quot;blue&quot;, &quot;dashArray&quot;: null, &quot;dashOffset&quot;: null, &quot;fill&quot;: true, &quot;fillColor&quot;: &quot;blue&quot;, &quot;fillOpacity&quot;: 0.2, &quot;fillRule&quot;: &quot;evenodd&quot;, &quot;lineCap&quot;: &quot;round&quot;, &quot;lineJoin&quot;: &quot;round&quot;, &quot;opacity&quot;: 1.0, &quot;radius&quot;: 3, &quot;stroke&quot;: true, &quot;weight&quot;: 3}\n",
       "            ).addTo(map_e47a3adb9f6102181a7bde97390a9b82);\n",
       "        \n",
       "    \n",
       "            var circle_marker_8a3abc927b914fb904004616d65bca5f = L.circleMarker(\n",
       "                [55.70882565108025, 37.74412209208393],\n",
       "                {&quot;bubblingMouseEvents&quot;: true, &quot;color&quot;: &quot;blue&quot;, &quot;dashArray&quot;: null, &quot;dashOffset&quot;: null, &quot;fill&quot;: true, &quot;fillColor&quot;: &quot;blue&quot;, &quot;fillOpacity&quot;: 0.2, &quot;fillRule&quot;: &quot;evenodd&quot;, &quot;lineCap&quot;: &quot;round&quot;, &quot;lineJoin&quot;: &quot;round&quot;, &quot;opacity&quot;: 1.0, &quot;radius&quot;: 3, &quot;stroke&quot;: true, &quot;weight&quot;: 3}\n",
       "            ).addTo(map_e47a3adb9f6102181a7bde97390a9b82);\n",
       "        \n",
       "    \n",
       "            var circle_marker_5951dcfd084e621c24b7061246c75992 = L.circleMarker(\n",
       "                [54.328934828760396, 48.57294531681489],\n",
       "                {&quot;bubblingMouseEvents&quot;: true, &quot;color&quot;: &quot;blue&quot;, &quot;dashArray&quot;: null, &quot;dashOffset&quot;: null, &quot;fill&quot;: true, &quot;fillColor&quot;: &quot;blue&quot;, &quot;fillOpacity&quot;: 0.2, &quot;fillRule&quot;: &quot;evenodd&quot;, &quot;lineCap&quot;: &quot;round&quot;, &quot;lineJoin&quot;: &quot;round&quot;, &quot;opacity&quot;: 1.0, &quot;radius&quot;: 3, &quot;stroke&quot;: true, &quot;weight&quot;: 3}\n",
       "            ).addTo(map_e47a3adb9f6102181a7bde97390a9b82);\n",
       "        \n",
       "    \n",
       "            var circle_marker_4b92049762d09f64f52d3dff3edbddb2 = L.circleMarker(\n",
       "                [55.640943978854, 37.76940308772882],\n",
       "                {&quot;bubblingMouseEvents&quot;: true, &quot;color&quot;: &quot;blue&quot;, &quot;dashArray&quot;: null, &quot;dashOffset&quot;: null, &quot;fill&quot;: true, &quot;fillColor&quot;: &quot;blue&quot;, &quot;fillOpacity&quot;: 0.2, &quot;fillRule&quot;: &quot;evenodd&quot;, &quot;lineCap&quot;: &quot;round&quot;, &quot;lineJoin&quot;: &quot;round&quot;, &quot;opacity&quot;: 1.0, &quot;radius&quot;: 3, &quot;stroke&quot;: true, &quot;weight&quot;: 3}\n",
       "            ).addTo(map_e47a3adb9f6102181a7bde97390a9b82);\n",
       "        \n",
       "    \n",
       "            var circle_marker_f00e644dac109c2cce8b36a0c01b164a = L.circleMarker(\n",
       "                [59.219713280476306, 40.003032471450986],\n",
       "                {&quot;bubblingMouseEvents&quot;: true, &quot;color&quot;: &quot;blue&quot;, &quot;dashArray&quot;: null, &quot;dashOffset&quot;: null, &quot;fill&quot;: true, &quot;fillColor&quot;: &quot;blue&quot;, &quot;fillOpacity&quot;: 0.2, &quot;fillRule&quot;: &quot;evenodd&quot;, &quot;lineCap&quot;: &quot;round&quot;, &quot;lineJoin&quot;: &quot;round&quot;, &quot;opacity&quot;: 1.0, &quot;radius&quot;: 3, &quot;stroke&quot;: true, &quot;weight&quot;: 3}\n",
       "            ).addTo(map_e47a3adb9f6102181a7bde97390a9b82);\n",
       "        \n",
       "    \n",
       "            var circle_marker_2f9e59ca32b019097eb54d24fb2c6780 = L.circleMarker(\n",
       "                [57.153991507442846, 65.63116841726544],\n",
       "                {&quot;bubblingMouseEvents&quot;: true, &quot;color&quot;: &quot;blue&quot;, &quot;dashArray&quot;: null, &quot;dashOffset&quot;: null, &quot;fill&quot;: true, &quot;fillColor&quot;: &quot;blue&quot;, &quot;fillOpacity&quot;: 0.2, &quot;fillRule&quot;: &quot;evenodd&quot;, &quot;lineCap&quot;: &quot;round&quot;, &quot;lineJoin&quot;: &quot;round&quot;, &quot;opacity&quot;: 1.0, &quot;radius&quot;: 3, &quot;stroke&quot;: true, &quot;weight&quot;: 3}\n",
       "            ).addTo(map_e47a3adb9f6102181a7bde97390a9b82);\n",
       "        \n",
       "    \n",
       "            var circle_marker_83946941f11857ad46a7c2b72a042273 = L.circleMarker(\n",
       "                [59.954942925836804, 30.215466349113576],\n",
       "                {&quot;bubblingMouseEvents&quot;: true, &quot;color&quot;: &quot;blue&quot;, &quot;dashArray&quot;: null, &quot;dashOffset&quot;: null, &quot;fill&quot;: true, &quot;fillColor&quot;: &quot;blue&quot;, &quot;fillOpacity&quot;: 0.2, &quot;fillRule&quot;: &quot;evenodd&quot;, &quot;lineCap&quot;: &quot;round&quot;, &quot;lineJoin&quot;: &quot;round&quot;, &quot;opacity&quot;: 1.0, &quot;radius&quot;: 3, &quot;stroke&quot;: true, &quot;weight&quot;: 3}\n",
       "            ).addTo(map_e47a3adb9f6102181a7bde97390a9b82);\n",
       "        \n",
       "    \n",
       "            var circle_marker_dcc95869e406ec203a1430642d3ecaca = L.circleMarker(\n",
       "                [59.201192975252624, 37.77194263717624],\n",
       "                {&quot;bubblingMouseEvents&quot;: true, &quot;color&quot;: &quot;blue&quot;, &quot;dashArray&quot;: null, &quot;dashOffset&quot;: null, &quot;fill&quot;: true, &quot;fillColor&quot;: &quot;blue&quot;, &quot;fillOpacity&quot;: 0.2, &quot;fillRule&quot;: &quot;evenodd&quot;, &quot;lineCap&quot;: &quot;round&quot;, &quot;lineJoin&quot;: &quot;round&quot;, &quot;opacity&quot;: 1.0, &quot;radius&quot;: 3, &quot;stroke&quot;: true, &quot;weight&quot;: 3}\n",
       "            ).addTo(map_e47a3adb9f6102181a7bde97390a9b82);\n",
       "        \n",
       "    \n",
       "            var circle_marker_95abd3266b9a3557db048777dc7f54e0 = L.circleMarker(\n",
       "                [55.81577868287089, 37.739678518822316],\n",
       "                {&quot;bubblingMouseEvents&quot;: true, &quot;color&quot;: &quot;blue&quot;, &quot;dashArray&quot;: null, &quot;dashOffset&quot;: null, &quot;fill&quot;: true, &quot;fillColor&quot;: &quot;blue&quot;, &quot;fillOpacity&quot;: 0.2, &quot;fillRule&quot;: &quot;evenodd&quot;, &quot;lineCap&quot;: &quot;round&quot;, &quot;lineJoin&quot;: &quot;round&quot;, &quot;opacity&quot;: 1.0, &quot;radius&quot;: 3, &quot;stroke&quot;: true, &quot;weight&quot;: 3}\n",
       "            ).addTo(map_e47a3adb9f6102181a7bde97390a9b82);\n",
       "        \n",
       "    \n",
       "            var circle_marker_92b7c3e779c4d6c7db47676a489671c0 = L.circleMarker(\n",
       "                [57.775007485820815, 39.78320827550717],\n",
       "                {&quot;bubblingMouseEvents&quot;: true, &quot;color&quot;: &quot;red&quot;, &quot;dashArray&quot;: null, &quot;dashOffset&quot;: null, &quot;fill&quot;: true, &quot;fillColor&quot;: &quot;red&quot;, &quot;fillOpacity&quot;: 0.2, &quot;fillRule&quot;: &quot;evenodd&quot;, &quot;lineCap&quot;: &quot;round&quot;, &quot;lineJoin&quot;: &quot;round&quot;, &quot;opacity&quot;: 1.0, &quot;radius&quot;: 3, &quot;stroke&quot;: true, &quot;weight&quot;: 3}\n",
       "            ).addTo(map_e47a3adb9f6102181a7bde97390a9b82);\n",
       "        \n",
       "    \n",
       "            var circle_marker_0d7d9913eff0b90cd9f6c3550cdd0788 = L.circleMarker(\n",
       "                [43.51677532396188, 39.58376624813926],\n",
       "                {&quot;bubblingMouseEvents&quot;: true, &quot;color&quot;: &quot;blue&quot;, &quot;dashArray&quot;: null, &quot;dashOffset&quot;: null, &quot;fill&quot;: true, &quot;fillColor&quot;: &quot;blue&quot;, &quot;fillOpacity&quot;: 0.2, &quot;fillRule&quot;: &quot;evenodd&quot;, &quot;lineCap&quot;: &quot;round&quot;, &quot;lineJoin&quot;: &quot;round&quot;, &quot;opacity&quot;: 1.0, &quot;radius&quot;: 3, &quot;stroke&quot;: true, &quot;weight&quot;: 3}\n",
       "            ).addTo(map_e47a3adb9f6102181a7bde97390a9b82);\n",
       "        \n",
       "    \n",
       "            var circle_marker_8e0b44abe745e18cc372783046c1765f = L.circleMarker(\n",
       "                [55.75088517239715, 37.51581066975914],\n",
       "                {&quot;bubblingMouseEvents&quot;: true, &quot;color&quot;: &quot;blue&quot;, &quot;dashArray&quot;: null, &quot;dashOffset&quot;: null, &quot;fill&quot;: true, &quot;fillColor&quot;: &quot;blue&quot;, &quot;fillOpacity&quot;: 0.2, &quot;fillRule&quot;: &quot;evenodd&quot;, &quot;lineCap&quot;: &quot;round&quot;, &quot;lineJoin&quot;: &quot;round&quot;, &quot;opacity&quot;: 1.0, &quot;radius&quot;: 3, &quot;stroke&quot;: true, &quot;weight&quot;: 3}\n",
       "            ).addTo(map_e47a3adb9f6102181a7bde97390a9b82);\n",
       "        \n",
       "    \n",
       "            var circle_marker_865ac25669f455419abfd906d424a9f4 = L.circleMarker(\n",
       "                [48.66018070034213, 135.24205641565305],\n",
       "                {&quot;bubblingMouseEvents&quot;: true, &quot;color&quot;: &quot;blue&quot;, &quot;dashArray&quot;: null, &quot;dashOffset&quot;: null, &quot;fill&quot;: true, &quot;fillColor&quot;: &quot;blue&quot;, &quot;fillOpacity&quot;: 0.2, &quot;fillRule&quot;: &quot;evenodd&quot;, &quot;lineCap&quot;: &quot;round&quot;, &quot;lineJoin&quot;: &quot;round&quot;, &quot;opacity&quot;: 1.0, &quot;radius&quot;: 3, &quot;stroke&quot;: true, &quot;weight&quot;: 3}\n",
       "            ).addTo(map_e47a3adb9f6102181a7bde97390a9b82);\n",
       "        \n",
       "    \n",
       "            var circle_marker_ad9b8a3860ee9a9c322b72473a4f6aff = L.circleMarker(\n",
       "                [45.19341628203009, 42.09651918313471],\n",
       "                {&quot;bubblingMouseEvents&quot;: true, &quot;color&quot;: &quot;blue&quot;, &quot;dashArray&quot;: null, &quot;dashOffset&quot;: null, &quot;fill&quot;: true, &quot;fillColor&quot;: &quot;blue&quot;, &quot;fillOpacity&quot;: 0.2, &quot;fillRule&quot;: &quot;evenodd&quot;, &quot;lineCap&quot;: &quot;round&quot;, &quot;lineJoin&quot;: &quot;round&quot;, &quot;opacity&quot;: 1.0, &quot;radius&quot;: 3, &quot;stroke&quot;: true, &quot;weight&quot;: 3}\n",
       "            ).addTo(map_e47a3adb9f6102181a7bde97390a9b82);\n",
       "        \n",
       "    \n",
       "            var circle_marker_93e71f6315cfb0faa269f2368e80e333 = L.circleMarker(\n",
       "                [54.82396907951038, 39.7252785297575],\n",
       "                {&quot;bubblingMouseEvents&quot;: true, &quot;color&quot;: &quot;blue&quot;, &quot;dashArray&quot;: null, &quot;dashOffset&quot;: null, &quot;fill&quot;: true, &quot;fillColor&quot;: &quot;blue&quot;, &quot;fillOpacity&quot;: 0.2, &quot;fillRule&quot;: &quot;evenodd&quot;, &quot;lineCap&quot;: &quot;round&quot;, &quot;lineJoin&quot;: &quot;round&quot;, &quot;opacity&quot;: 1.0, &quot;radius&quot;: 3, &quot;stroke&quot;: true, &quot;weight&quot;: 3}\n",
       "            ).addTo(map_e47a3adb9f6102181a7bde97390a9b82);\n",
       "        \n",
       "    \n",
       "            var circle_marker_2221725167fcee6954f948aecf3c3e5b = L.circleMarker(\n",
       "                [52.00142357086108, 107.42039339598855],\n",
       "                {&quot;bubblingMouseEvents&quot;: true, &quot;color&quot;: &quot;blue&quot;, &quot;dashArray&quot;: null, &quot;dashOffset&quot;: null, &quot;fill&quot;: true, &quot;fillColor&quot;: &quot;blue&quot;, &quot;fillOpacity&quot;: 0.2, &quot;fillRule&quot;: &quot;evenodd&quot;, &quot;lineCap&quot;: &quot;round&quot;, &quot;lineJoin&quot;: &quot;round&quot;, &quot;opacity&quot;: 1.0, &quot;radius&quot;: 3, &quot;stroke&quot;: true, &quot;weight&quot;: 3}\n",
       "            ).addTo(map_e47a3adb9f6102181a7bde97390a9b82);\n",
       "        \n",
       "    \n",
       "            var circle_marker_df7a16f79edc58e69844791c18a71893 = L.circleMarker(\n",
       "                [54.179277748126616, 37.44335901776382],\n",
       "                {&quot;bubblingMouseEvents&quot;: true, &quot;color&quot;: &quot;blue&quot;, &quot;dashArray&quot;: null, &quot;dashOffset&quot;: null, &quot;fill&quot;: true, &quot;fillColor&quot;: &quot;blue&quot;, &quot;fillOpacity&quot;: 0.2, &quot;fillRule&quot;: &quot;evenodd&quot;, &quot;lineCap&quot;: &quot;round&quot;, &quot;lineJoin&quot;: &quot;round&quot;, &quot;opacity&quot;: 1.0, &quot;radius&quot;: 3, &quot;stroke&quot;: true, &quot;weight&quot;: 3}\n",
       "            ).addTo(map_e47a3adb9f6102181a7bde97390a9b82);\n",
       "        \n",
       "    \n",
       "            var circle_marker_5c4f08d70891a598377cfbc4f19cdc1f = L.circleMarker(\n",
       "                [51.575800394923476, 46.05016741992128],\n",
       "                {&quot;bubblingMouseEvents&quot;: true, &quot;color&quot;: &quot;blue&quot;, &quot;dashArray&quot;: null, &quot;dashOffset&quot;: null, &quot;fill&quot;: true, &quot;fillColor&quot;: &quot;blue&quot;, &quot;fillOpacity&quot;: 0.2, &quot;fillRule&quot;: &quot;evenodd&quot;, &quot;lineCap&quot;: &quot;round&quot;, &quot;lineJoin&quot;: &quot;round&quot;, &quot;opacity&quot;: 1.0, &quot;radius&quot;: 3, &quot;stroke&quot;: true, &quot;weight&quot;: 3}\n",
       "            ).addTo(map_e47a3adb9f6102181a7bde97390a9b82);\n",
       "        \n",
       "    \n",
       "            var circle_marker_ce255f9e38108ba7c9b6a3af4c8e660e = L.circleMarker(\n",
       "                [53.740696026867155, 87.0346209383363],\n",
       "                {&quot;bubblingMouseEvents&quot;: true, &quot;color&quot;: &quot;red&quot;, &quot;dashArray&quot;: null, &quot;dashOffset&quot;: null, &quot;fill&quot;: true, &quot;fillColor&quot;: &quot;red&quot;, &quot;fillOpacity&quot;: 0.2, &quot;fillRule&quot;: &quot;evenodd&quot;, &quot;lineCap&quot;: &quot;round&quot;, &quot;lineJoin&quot;: &quot;round&quot;, &quot;opacity&quot;: 1.0, &quot;radius&quot;: 3, &quot;stroke&quot;: true, &quot;weight&quot;: 3}\n",
       "            ).addTo(map_e47a3adb9f6102181a7bde97390a9b82);\n",
       "        \n",
       "    \n",
       "            var circle_marker_f51b01d706361c2f79f24af2538752f0 = L.circleMarker(\n",
       "                [55.81348195295198, 37.614339780112864],\n",
       "                {&quot;bubblingMouseEvents&quot;: true, &quot;color&quot;: &quot;red&quot;, &quot;dashArray&quot;: null, &quot;dashOffset&quot;: null, &quot;fill&quot;: true, &quot;fillColor&quot;: &quot;red&quot;, &quot;fillOpacity&quot;: 0.2, &quot;fillRule&quot;: &quot;evenodd&quot;, &quot;lineCap&quot;: &quot;round&quot;, &quot;lineJoin&quot;: &quot;round&quot;, &quot;opacity&quot;: 1.0, &quot;radius&quot;: 3, &quot;stroke&quot;: true, &quot;weight&quot;: 3}\n",
       "            ).addTo(map_e47a3adb9f6102181a7bde97390a9b82);\n",
       "        \n",
       "    \n",
       "            var circle_marker_1fd97997d609e2b9442968e05b21fb23 = L.circleMarker(\n",
       "                [57.34707802375082, 65.57626218101763],\n",
       "                {&quot;bubblingMouseEvents&quot;: true, &quot;color&quot;: &quot;red&quot;, &quot;dashArray&quot;: null, &quot;dashOffset&quot;: null, &quot;fill&quot;: true, &quot;fillColor&quot;: &quot;red&quot;, &quot;fillOpacity&quot;: 0.2, &quot;fillRule&quot;: &quot;evenodd&quot;, &quot;lineCap&quot;: &quot;round&quot;, &quot;lineJoin&quot;: &quot;round&quot;, &quot;opacity&quot;: 1.0, &quot;radius&quot;: 3, &quot;stroke&quot;: true, &quot;weight&quot;: 3}\n",
       "            ).addTo(map_e47a3adb9f6102181a7bde97390a9b82);\n",
       "        \n",
       "    \n",
       "            var circle_marker_a127776fd454ef858afb50403f7ae8c0 = L.circleMarker(\n",
       "                [55.58878523024212, 37.61868834084142],\n",
       "                {&quot;bubblingMouseEvents&quot;: true, &quot;color&quot;: &quot;blue&quot;, &quot;dashArray&quot;: null, &quot;dashOffset&quot;: null, &quot;fill&quot;: true, &quot;fillColor&quot;: &quot;blue&quot;, &quot;fillOpacity&quot;: 0.2, &quot;fillRule&quot;: &quot;evenodd&quot;, &quot;lineCap&quot;: &quot;round&quot;, &quot;lineJoin&quot;: &quot;round&quot;, &quot;opacity&quot;: 1.0, &quot;radius&quot;: 3, &quot;stroke&quot;: true, &quot;weight&quot;: 3}\n",
       "            ).addTo(map_e47a3adb9f6102181a7bde97390a9b82);\n",
       "        \n",
       "    \n",
       "            var circle_marker_673a21e51d7c46e87fbaddaa4c0d78cd = L.circleMarker(\n",
       "                [60.06954034887707, 30.268229154193563],\n",
       "                {&quot;bubblingMouseEvents&quot;: true, &quot;color&quot;: &quot;blue&quot;, &quot;dashArray&quot;: null, &quot;dashOffset&quot;: null, &quot;fill&quot;: true, &quot;fillColor&quot;: &quot;blue&quot;, &quot;fillOpacity&quot;: 0.2, &quot;fillRule&quot;: &quot;evenodd&quot;, &quot;lineCap&quot;: &quot;round&quot;, &quot;lineJoin&quot;: &quot;round&quot;, &quot;opacity&quot;: 1.0, &quot;radius&quot;: 3, &quot;stroke&quot;: true, &quot;weight&quot;: 3}\n",
       "            ).addTo(map_e47a3adb9f6102181a7bde97390a9b82);\n",
       "        \n",
       "    \n",
       "            var circle_marker_68c47a76278f4509d4328aba38ddfc4e = L.circleMarker(\n",
       "                [47.033477434810976, 39.88691661391534],\n",
       "                {&quot;bubblingMouseEvents&quot;: true, &quot;color&quot;: &quot;red&quot;, &quot;dashArray&quot;: null, &quot;dashOffset&quot;: null, &quot;fill&quot;: true, &quot;fillColor&quot;: &quot;red&quot;, &quot;fillOpacity&quot;: 0.2, &quot;fillRule&quot;: &quot;evenodd&quot;, &quot;lineCap&quot;: &quot;round&quot;, &quot;lineJoin&quot;: &quot;round&quot;, &quot;opacity&quot;: 1.0, &quot;radius&quot;: 3, &quot;stroke&quot;: true, &quot;weight&quot;: 3}\n",
       "            ).addTo(map_e47a3adb9f6102181a7bde97390a9b82);\n",
       "        \n",
       "    \n",
       "            var circle_marker_90255891f60b6f42cf1013ee5bf17b54 = L.circleMarker(\n",
       "                [55.15453721049194, 73.1914733775597],\n",
       "                {&quot;bubblingMouseEvents&quot;: true, &quot;color&quot;: &quot;blue&quot;, &quot;dashArray&quot;: null, &quot;dashOffset&quot;: null, &quot;fill&quot;: true, &quot;fillColor&quot;: &quot;blue&quot;, &quot;fillOpacity&quot;: 0.2, &quot;fillRule&quot;: &quot;evenodd&quot;, &quot;lineCap&quot;: &quot;round&quot;, &quot;lineJoin&quot;: &quot;round&quot;, &quot;opacity&quot;: 1.0, &quot;radius&quot;: 3, &quot;stroke&quot;: true, &quot;weight&quot;: 3}\n",
       "            ).addTo(map_e47a3adb9f6102181a7bde97390a9b82);\n",
       "        \n",
       "    \n",
       "            var circle_marker_eb85c97341dc40fb37c540d61366a020 = L.circleMarker(\n",
       "                [55.66277806810563, 49.167833779207754],\n",
       "                {&quot;bubblingMouseEvents&quot;: true, &quot;color&quot;: &quot;blue&quot;, &quot;dashArray&quot;: null, &quot;dashOffset&quot;: null, &quot;fill&quot;: true, &quot;fillColor&quot;: &quot;blue&quot;, &quot;fillOpacity&quot;: 0.2, &quot;fillRule&quot;: &quot;evenodd&quot;, &quot;lineCap&quot;: &quot;round&quot;, &quot;lineJoin&quot;: &quot;round&quot;, &quot;opacity&quot;: 1.0, &quot;radius&quot;: 3, &quot;stroke&quot;: true, &quot;weight&quot;: 3}\n",
       "            ).addTo(map_e47a3adb9f6102181a7bde97390a9b82);\n",
       "        \n",
       "    \n",
       "            var circle_marker_e98052a0665c2064461f9a84176d5d34 = L.circleMarker(\n",
       "                [52.36548553867933, 104.13785700385577],\n",
       "                {&quot;bubblingMouseEvents&quot;: true, &quot;color&quot;: &quot;blue&quot;, &quot;dashArray&quot;: null, &quot;dashOffset&quot;: null, &quot;fill&quot;: true, &quot;fillColor&quot;: &quot;blue&quot;, &quot;fillOpacity&quot;: 0.2, &quot;fillRule&quot;: &quot;evenodd&quot;, &quot;lineCap&quot;: &quot;round&quot;, &quot;lineJoin&quot;: &quot;round&quot;, &quot;opacity&quot;: 1.0, &quot;radius&quot;: 3, &quot;stroke&quot;: true, &quot;weight&quot;: 3}\n",
       "            ).addTo(map_e47a3adb9f6102181a7bde97390a9b82);\n",
       "        \n",
       "    \n",
       "            var circle_marker_9a6103af246d098bed4d105e1f7798a5 = L.circleMarker(\n",
       "                [55.81401717984534, 37.581188706271874],\n",
       "                {&quot;bubblingMouseEvents&quot;: true, &quot;color&quot;: &quot;red&quot;, &quot;dashArray&quot;: null, &quot;dashOffset&quot;: null, &quot;fill&quot;: true, &quot;fillColor&quot;: &quot;red&quot;, &quot;fillOpacity&quot;: 0.2, &quot;fillRule&quot;: &quot;evenodd&quot;, &quot;lineCap&quot;: &quot;round&quot;, &quot;lineJoin&quot;: &quot;round&quot;, &quot;opacity&quot;: 1.0, &quot;radius&quot;: 3, &quot;stroke&quot;: true, &quot;weight&quot;: 3}\n",
       "            ).addTo(map_e47a3adb9f6102181a7bde97390a9b82);\n",
       "        \n",
       "    \n",
       "            var circle_marker_59111777ed6332bb939b16c88240d175 = L.circleMarker(\n",
       "                [59.18457545337912, 39.80925998194487],\n",
       "                {&quot;bubblingMouseEvents&quot;: true, &quot;color&quot;: &quot;blue&quot;, &quot;dashArray&quot;: null, &quot;dashOffset&quot;: null, &quot;fill&quot;: true, &quot;fillColor&quot;: &quot;blue&quot;, &quot;fillOpacity&quot;: 0.2, &quot;fillRule&quot;: &quot;evenodd&quot;, &quot;lineCap&quot;: &quot;round&quot;, &quot;lineJoin&quot;: &quot;round&quot;, &quot;opacity&quot;: 1.0, &quot;radius&quot;: 3, &quot;stroke&quot;: true, &quot;weight&quot;: 3}\n",
       "            ).addTo(map_e47a3adb9f6102181a7bde97390a9b82);\n",
       "        \n",
       "    \n",
       "            var circle_marker_0438ea11c1a1dfe38e397a58fed3e3ff = L.circleMarker(\n",
       "                [51.92679839950593, 36.04845977142456],\n",
       "                {&quot;bubblingMouseEvents&quot;: true, &quot;color&quot;: &quot;blue&quot;, &quot;dashArray&quot;: null, &quot;dashOffset&quot;: null, &quot;fill&quot;: true, &quot;fillColor&quot;: &quot;blue&quot;, &quot;fillOpacity&quot;: 0.2, &quot;fillRule&quot;: &quot;evenodd&quot;, &quot;lineCap&quot;: &quot;round&quot;, &quot;lineJoin&quot;: &quot;round&quot;, &quot;opacity&quot;: 1.0, &quot;radius&quot;: 3, &quot;stroke&quot;: true, &quot;weight&quot;: 3}\n",
       "            ).addTo(map_e47a3adb9f6102181a7bde97390a9b82);\n",
       "        \n",
       "    \n",
       "            var circle_marker_459227fb3995b6ff7866d56997f5277e = L.circleMarker(\n",
       "                [54.535485367454754, 36.41760073465176],\n",
       "                {&quot;bubblingMouseEvents&quot;: true, &quot;color&quot;: &quot;red&quot;, &quot;dashArray&quot;: null, &quot;dashOffset&quot;: null, &quot;fill&quot;: true, &quot;fillColor&quot;: &quot;red&quot;, &quot;fillOpacity&quot;: 0.2, &quot;fillRule&quot;: &quot;evenodd&quot;, &quot;lineCap&quot;: &quot;round&quot;, &quot;lineJoin&quot;: &quot;round&quot;, &quot;opacity&quot;: 1.0, &quot;radius&quot;: 3, &quot;stroke&quot;: true, &quot;weight&quot;: 3}\n",
       "            ).addTo(map_e47a3adb9f6102181a7bde97390a9b82);\n",
       "        \n",
       "    \n",
       "            var circle_marker_2c35f6052c94bb0e0b5313abb3734335 = L.circleMarker(\n",
       "                [59.79384015723622, 30.317293717763874],\n",
       "                {&quot;bubblingMouseEvents&quot;: true, &quot;color&quot;: &quot;blue&quot;, &quot;dashArray&quot;: null, &quot;dashOffset&quot;: null, &quot;fill&quot;: true, &quot;fillColor&quot;: &quot;blue&quot;, &quot;fillOpacity&quot;: 0.2, &quot;fillRule&quot;: &quot;evenodd&quot;, &quot;lineCap&quot;: &quot;round&quot;, &quot;lineJoin&quot;: &quot;round&quot;, &quot;opacity&quot;: 1.0, &quot;radius&quot;: 3, &quot;stroke&quot;: true, &quot;weight&quot;: 3}\n",
       "            ).addTo(map_e47a3adb9f6102181a7bde97390a9b82);\n",
       "        \n",
       "    \n",
       "            var circle_marker_b4c2aaaf9cd975fa11d00c8c0a2fbb8c = L.circleMarker(\n",
       "                [55.778380971073254, 37.76634814549897],\n",
       "                {&quot;bubblingMouseEvents&quot;: true, &quot;color&quot;: &quot;blue&quot;, &quot;dashArray&quot;: null, &quot;dashOffset&quot;: null, &quot;fill&quot;: true, &quot;fillColor&quot;: &quot;blue&quot;, &quot;fillOpacity&quot;: 0.2, &quot;fillRule&quot;: &quot;evenodd&quot;, &quot;lineCap&quot;: &quot;round&quot;, &quot;lineJoin&quot;: &quot;round&quot;, &quot;opacity&quot;: 1.0, &quot;radius&quot;: 3, &quot;stroke&quot;: true, &quot;weight&quot;: 3}\n",
       "            ).addTo(map_e47a3adb9f6102181a7bde97390a9b82);\n",
       "        \n",
       "    \n",
       "            var circle_marker_ec64f4471204b321963429b2e2497002 = L.circleMarker(\n",
       "                [54.03708043736908, 37.687274648600635],\n",
       "                {&quot;bubblingMouseEvents&quot;: true, &quot;color&quot;: &quot;red&quot;, &quot;dashArray&quot;: null, &quot;dashOffset&quot;: null, &quot;fill&quot;: true, &quot;fillColor&quot;: &quot;red&quot;, &quot;fillOpacity&quot;: 0.2, &quot;fillRule&quot;: &quot;evenodd&quot;, &quot;lineCap&quot;: &quot;round&quot;, &quot;lineJoin&quot;: &quot;round&quot;, &quot;opacity&quot;: 1.0, &quot;radius&quot;: 3, &quot;stroke&quot;: true, &quot;weight&quot;: 3}\n",
       "            ).addTo(map_e47a3adb9f6102181a7bde97390a9b82);\n",
       "        \n",
       "    \n",
       "            var circle_marker_9016510912b5208a760ac1e24a30e6df = L.circleMarker(\n",
       "                [62.016656703894384, 129.7619850982186],\n",
       "                {&quot;bubblingMouseEvents&quot;: true, &quot;color&quot;: &quot;blue&quot;, &quot;dashArray&quot;: null, &quot;dashOffset&quot;: null, &quot;fill&quot;: true, &quot;fillColor&quot;: &quot;blue&quot;, &quot;fillOpacity&quot;: 0.2, &quot;fillRule&quot;: &quot;evenodd&quot;, &quot;lineCap&quot;: &quot;round&quot;, &quot;lineJoin&quot;: &quot;round&quot;, &quot;opacity&quot;: 1.0, &quot;radius&quot;: 3, &quot;stroke&quot;: true, &quot;weight&quot;: 3}\n",
       "            ).addTo(map_e47a3adb9f6102181a7bde97390a9b82);\n",
       "        \n",
       "    \n",
       "            var circle_marker_d6c86cdafadf62ba7bd5b375fb6b130b = L.circleMarker(\n",
       "                [55.73842039830618, 37.7508849517008],\n",
       "                {&quot;bubblingMouseEvents&quot;: true, &quot;color&quot;: &quot;blue&quot;, &quot;dashArray&quot;: null, &quot;dashOffset&quot;: null, &quot;fill&quot;: true, &quot;fillColor&quot;: &quot;blue&quot;, &quot;fillOpacity&quot;: 0.2, &quot;fillRule&quot;: &quot;evenodd&quot;, &quot;lineCap&quot;: &quot;round&quot;, &quot;lineJoin&quot;: &quot;round&quot;, &quot;opacity&quot;: 1.0, &quot;radius&quot;: 3, &quot;stroke&quot;: true, &quot;weight&quot;: 3}\n",
       "            ).addTo(map_e47a3adb9f6102181a7bde97390a9b82);\n",
       "        \n",
       "    \n",
       "            var circle_marker_04bb43bb1df87b10d40ea62f81358d33 = L.circleMarker(\n",
       "                [46.38884389972816, 47.863553242005544],\n",
       "                {&quot;bubblingMouseEvents&quot;: true, &quot;color&quot;: &quot;blue&quot;, &quot;dashArray&quot;: null, &quot;dashOffset&quot;: null, &quot;fill&quot;: true, &quot;fillColor&quot;: &quot;blue&quot;, &quot;fillOpacity&quot;: 0.2, &quot;fillRule&quot;: &quot;evenodd&quot;, &quot;lineCap&quot;: &quot;round&quot;, &quot;lineJoin&quot;: &quot;round&quot;, &quot;opacity&quot;: 1.0, &quot;radius&quot;: 3, &quot;stroke&quot;: true, &quot;weight&quot;: 3}\n",
       "            ).addTo(map_e47a3adb9f6102181a7bde97390a9b82);\n",
       "        \n",
       "    \n",
       "            var circle_marker_4ed84538719d59751ed38cefd7466d5c = L.circleMarker(\n",
       "                [55.71888661430046, 37.56267399759462],\n",
       "                {&quot;bubblingMouseEvents&quot;: true, &quot;color&quot;: &quot;blue&quot;, &quot;dashArray&quot;: null, &quot;dashOffset&quot;: null, &quot;fill&quot;: true, &quot;fillColor&quot;: &quot;blue&quot;, &quot;fillOpacity&quot;: 0.2, &quot;fillRule&quot;: &quot;evenodd&quot;, &quot;lineCap&quot;: &quot;round&quot;, &quot;lineJoin&quot;: &quot;round&quot;, &quot;opacity&quot;: 1.0, &quot;radius&quot;: 3, &quot;stroke&quot;: true, &quot;weight&quot;: 3}\n",
       "            ).addTo(map_e47a3adb9f6102181a7bde97390a9b82);\n",
       "        \n",
       "    \n",
       "            var circle_marker_c9097304ce4a952af33386bfa4c0dcf7 = L.circleMarker(\n",
       "                [55.5742135737375, 37.68604897919151],\n",
       "                {&quot;bubblingMouseEvents&quot;: true, &quot;color&quot;: &quot;blue&quot;, &quot;dashArray&quot;: null, &quot;dashOffset&quot;: null, &quot;fill&quot;: true, &quot;fillColor&quot;: &quot;blue&quot;, &quot;fillOpacity&quot;: 0.2, &quot;fillRule&quot;: &quot;evenodd&quot;, &quot;lineCap&quot;: &quot;round&quot;, &quot;lineJoin&quot;: &quot;round&quot;, &quot;opacity&quot;: 1.0, &quot;radius&quot;: 3, &quot;stroke&quot;: true, &quot;weight&quot;: 3}\n",
       "            ).addTo(map_e47a3adb9f6102181a7bde97390a9b82);\n",
       "        \n",
       "    \n",
       "            var circle_marker_a76693a6c2bd12750cee185513089234 = L.circleMarker(\n",
       "                [56.908701277908136, 60.668657555033725],\n",
       "                {&quot;bubblingMouseEvents&quot;: true, &quot;color&quot;: &quot;blue&quot;, &quot;dashArray&quot;: null, &quot;dashOffset&quot;: null, &quot;fill&quot;: true, &quot;fillColor&quot;: &quot;blue&quot;, &quot;fillOpacity&quot;: 0.2, &quot;fillRule&quot;: &quot;evenodd&quot;, &quot;lineCap&quot;: &quot;round&quot;, &quot;lineJoin&quot;: &quot;round&quot;, &quot;opacity&quot;: 1.0, &quot;radius&quot;: 3, &quot;stroke&quot;: true, &quot;weight&quot;: 3}\n",
       "            ).addTo(map_e47a3adb9f6102181a7bde97390a9b82);\n",
       "        \n",
       "    \n",
       "            var circle_marker_87201cc475d772e229f7e9aaee9d3aa8 = L.circleMarker(\n",
       "                [55.83875746858414, 37.286147679477956],\n",
       "                {&quot;bubblingMouseEvents&quot;: true, &quot;color&quot;: &quot;blue&quot;, &quot;dashArray&quot;: null, &quot;dashOffset&quot;: null, &quot;fill&quot;: true, &quot;fillColor&quot;: &quot;blue&quot;, &quot;fillOpacity&quot;: 0.2, &quot;fillRule&quot;: &quot;evenodd&quot;, &quot;lineCap&quot;: &quot;round&quot;, &quot;lineJoin&quot;: &quot;round&quot;, &quot;opacity&quot;: 1.0, &quot;radius&quot;: 3, &quot;stroke&quot;: true, &quot;weight&quot;: 3}\n",
       "            ).addTo(map_e47a3adb9f6102181a7bde97390a9b82);\n",
       "        \n",
       "    \n",
       "            var circle_marker_ba1e673f49676da3b1ddcbc7e8c26732 = L.circleMarker(\n",
       "                [55.16200857308586, 73.23546893231017],\n",
       "                {&quot;bubblingMouseEvents&quot;: true, &quot;color&quot;: &quot;blue&quot;, &quot;dashArray&quot;: null, &quot;dashOffset&quot;: null, &quot;fill&quot;: true, &quot;fillColor&quot;: &quot;blue&quot;, &quot;fillOpacity&quot;: 0.2, &quot;fillRule&quot;: &quot;evenodd&quot;, &quot;lineCap&quot;: &quot;round&quot;, &quot;lineJoin&quot;: &quot;round&quot;, &quot;opacity&quot;: 1.0, &quot;radius&quot;: 3, &quot;stroke&quot;: true, &quot;weight&quot;: 3}\n",
       "            ).addTo(map_e47a3adb9f6102181a7bde97390a9b82);\n",
       "        \n",
       "    \n",
       "            var circle_marker_ccb60735ce94e4fd7dc0d5a3873a842a = L.circleMarker(\n",
       "                [54.55726801380579, 56.10233834711753],\n",
       "                {&quot;bubblingMouseEvents&quot;: true, &quot;color&quot;: &quot;blue&quot;, &quot;dashArray&quot;: null, &quot;dashOffset&quot;: null, &quot;fill&quot;: true, &quot;fillColor&quot;: &quot;blue&quot;, &quot;fillOpacity&quot;: 0.2, &quot;fillRule&quot;: &quot;evenodd&quot;, &quot;lineCap&quot;: &quot;round&quot;, &quot;lineJoin&quot;: &quot;round&quot;, &quot;opacity&quot;: 1.0, &quot;radius&quot;: 3, &quot;stroke&quot;: true, &quot;weight&quot;: 3}\n",
       "            ).addTo(map_e47a3adb9f6102181a7bde97390a9b82);\n",
       "        \n",
       "    \n",
       "            var circle_marker_c8632a993a33b6673bf3cc5873619249 = L.circleMarker(\n",
       "                [42.91375310420802, 44.841008300526305],\n",
       "                {&quot;bubblingMouseEvents&quot;: true, &quot;color&quot;: &quot;blue&quot;, &quot;dashArray&quot;: null, &quot;dashOffset&quot;: null, &quot;fill&quot;: true, &quot;fillColor&quot;: &quot;blue&quot;, &quot;fillOpacity&quot;: 0.2, &quot;fillRule&quot;: &quot;evenodd&quot;, &quot;lineCap&quot;: &quot;round&quot;, &quot;lineJoin&quot;: &quot;round&quot;, &quot;opacity&quot;: 1.0, &quot;radius&quot;: 3, &quot;stroke&quot;: true, &quot;weight&quot;: 3}\n",
       "            ).addTo(map_e47a3adb9f6102181a7bde97390a9b82);\n",
       "        \n",
       "    \n",
       "            var circle_marker_6f089baffaafc9db35cbc9e4aec03c00 = L.circleMarker(\n",
       "                [61.8355801312524, 129.58466222471924],\n",
       "                {&quot;bubblingMouseEvents&quot;: true, &quot;color&quot;: &quot;blue&quot;, &quot;dashArray&quot;: null, &quot;dashOffset&quot;: null, &quot;fill&quot;: true, &quot;fillColor&quot;: &quot;blue&quot;, &quot;fillOpacity&quot;: 0.2, &quot;fillRule&quot;: &quot;evenodd&quot;, &quot;lineCap&quot;: &quot;round&quot;, &quot;lineJoin&quot;: &quot;round&quot;, &quot;opacity&quot;: 1.0, &quot;radius&quot;: 3, &quot;stroke&quot;: true, &quot;weight&quot;: 3}\n",
       "            ).addTo(map_e47a3adb9f6102181a7bde97390a9b82);\n",
       "        \n",
       "    \n",
       "            var circle_marker_2d26abe8f131bbcdac370d1128584a85 = L.circleMarker(\n",
       "                [56.99167311379661, 60.65605865508742],\n",
       "                {&quot;bubblingMouseEvents&quot;: true, &quot;color&quot;: &quot;blue&quot;, &quot;dashArray&quot;: null, &quot;dashOffset&quot;: null, &quot;fill&quot;: true, &quot;fillColor&quot;: &quot;blue&quot;, &quot;fillOpacity&quot;: 0.2, &quot;fillRule&quot;: &quot;evenodd&quot;, &quot;lineCap&quot;: &quot;round&quot;, &quot;lineJoin&quot;: &quot;round&quot;, &quot;opacity&quot;: 1.0, &quot;radius&quot;: 3, &quot;stroke&quot;: true, &quot;weight&quot;: 3}\n",
       "            ).addTo(map_e47a3adb9f6102181a7bde97390a9b82);\n",
       "        \n",
       "    \n",
       "            var circle_marker_dca9af1c516c2af739e80da91bdbdc91 = L.circleMarker(\n",
       "                [54.85063311674915, 55.979955261572435],\n",
       "                {&quot;bubblingMouseEvents&quot;: true, &quot;color&quot;: &quot;blue&quot;, &quot;dashArray&quot;: null, &quot;dashOffset&quot;: null, &quot;fill&quot;: true, &quot;fillColor&quot;: &quot;blue&quot;, &quot;fillOpacity&quot;: 0.2, &quot;fillRule&quot;: &quot;evenodd&quot;, &quot;lineCap&quot;: &quot;round&quot;, &quot;lineJoin&quot;: &quot;round&quot;, &quot;opacity&quot;: 1.0, &quot;radius&quot;: 3, &quot;stroke&quot;: true, &quot;weight&quot;: 3}\n",
       "            ).addTo(map_e47a3adb9f6102181a7bde97390a9b82);\n",
       "        \n",
       "    \n",
       "            var circle_marker_759fa4d04a24ddb09e3a52de76d04b11 = L.circleMarker(\n",
       "                [55.703312034299266, 37.56307952414478],\n",
       "                {&quot;bubblingMouseEvents&quot;: true, &quot;color&quot;: &quot;blue&quot;, &quot;dashArray&quot;: null, &quot;dashOffset&quot;: null, &quot;fill&quot;: true, &quot;fillColor&quot;: &quot;blue&quot;, &quot;fillOpacity&quot;: 0.2, &quot;fillRule&quot;: &quot;evenodd&quot;, &quot;lineCap&quot;: &quot;round&quot;, &quot;lineJoin&quot;: &quot;round&quot;, &quot;opacity&quot;: 1.0, &quot;radius&quot;: 3, &quot;stroke&quot;: true, &quot;weight&quot;: 3}\n",
       "            ).addTo(map_e47a3adb9f6102181a7bde97390a9b82);\n",
       "        \n",
       "    \n",
       "            var circle_marker_f1a55b265f55520b4bb0d025b210060a = L.circleMarker(\n",
       "                [48.888770626818705, 44.595121240822756],\n",
       "                {&quot;bubblingMouseEvents&quot;: true, &quot;color&quot;: &quot;red&quot;, &quot;dashArray&quot;: null, &quot;dashOffset&quot;: null, &quot;fill&quot;: true, &quot;fillColor&quot;: &quot;red&quot;, &quot;fillOpacity&quot;: 0.2, &quot;fillRule&quot;: &quot;evenodd&quot;, &quot;lineCap&quot;: &quot;round&quot;, &quot;lineJoin&quot;: &quot;round&quot;, &quot;opacity&quot;: 1.0, &quot;radius&quot;: 3, &quot;stroke&quot;: true, &quot;weight&quot;: 3}\n",
       "            ).addTo(map_e47a3adb9f6102181a7bde97390a9b82);\n",
       "        \n",
       "    \n",
       "            var circle_marker_6d9fc57de6345fe0c5f9a2ea2d78d902 = L.circleMarker(\n",
       "                [55.82748373338052, 37.777550598890784],\n",
       "                {&quot;bubblingMouseEvents&quot;: true, &quot;color&quot;: &quot;blue&quot;, &quot;dashArray&quot;: null, &quot;dashOffset&quot;: null, &quot;fill&quot;: true, &quot;fillColor&quot;: &quot;blue&quot;, &quot;fillOpacity&quot;: 0.2, &quot;fillRule&quot;: &quot;evenodd&quot;, &quot;lineCap&quot;: &quot;round&quot;, &quot;lineJoin&quot;: &quot;round&quot;, &quot;opacity&quot;: 1.0, &quot;radius&quot;: 3, &quot;stroke&quot;: true, &quot;weight&quot;: 3}\n",
       "            ).addTo(map_e47a3adb9f6102181a7bde97390a9b82);\n",
       "        \n",
       "    \n",
       "            var circle_marker_d92d30eadefd625d6cd21b963830cc17 = L.circleMarker(\n",
       "                [55.78425060875246, 37.702448775259064],\n",
       "                {&quot;bubblingMouseEvents&quot;: true, &quot;color&quot;: &quot;red&quot;, &quot;dashArray&quot;: null, &quot;dashOffset&quot;: null, &quot;fill&quot;: true, &quot;fillColor&quot;: &quot;red&quot;, &quot;fillOpacity&quot;: 0.2, &quot;fillRule&quot;: &quot;evenodd&quot;, &quot;lineCap&quot;: &quot;round&quot;, &quot;lineJoin&quot;: &quot;round&quot;, &quot;opacity&quot;: 1.0, &quot;radius&quot;: 3, &quot;stroke&quot;: true, &quot;weight&quot;: 3}\n",
       "            ).addTo(map_e47a3adb9f6102181a7bde97390a9b82);\n",
       "        \n",
       "    \n",
       "            var circle_marker_45c8fdd89075c9d844f17bcb8d24c826 = L.circleMarker(\n",
       "                [55.74889412440677, 37.63470290337228],\n",
       "                {&quot;bubblingMouseEvents&quot;: true, &quot;color&quot;: &quot;red&quot;, &quot;dashArray&quot;: null, &quot;dashOffset&quot;: null, &quot;fill&quot;: true, &quot;fillColor&quot;: &quot;red&quot;, &quot;fillOpacity&quot;: 0.2, &quot;fillRule&quot;: &quot;evenodd&quot;, &quot;lineCap&quot;: &quot;round&quot;, &quot;lineJoin&quot;: &quot;round&quot;, &quot;opacity&quot;: 1.0, &quot;radius&quot;: 3, &quot;stroke&quot;: true, &quot;weight&quot;: 3}\n",
       "            ).addTo(map_e47a3adb9f6102181a7bde97390a9b82);\n",
       "        \n",
       "    \n",
       "            var circle_marker_619f96dc8ffeaec563aa0a2f6b696c55 = L.circleMarker(\n",
       "                [55.88755021639683, 37.50834029598577],\n",
       "                {&quot;bubblingMouseEvents&quot;: true, &quot;color&quot;: &quot;blue&quot;, &quot;dashArray&quot;: null, &quot;dashOffset&quot;: null, &quot;fill&quot;: true, &quot;fillColor&quot;: &quot;blue&quot;, &quot;fillOpacity&quot;: 0.2, &quot;fillRule&quot;: &quot;evenodd&quot;, &quot;lineCap&quot;: &quot;round&quot;, &quot;lineJoin&quot;: &quot;round&quot;, &quot;opacity&quot;: 1.0, &quot;radius&quot;: 3, &quot;stroke&quot;: true, &quot;weight&quot;: 3}\n",
       "            ).addTo(map_e47a3adb9f6102181a7bde97390a9b82);\n",
       "        \n",
       "    \n",
       "            var circle_marker_0aa4a266e0d1d124f00d5eab6e0d2ed7 = L.circleMarker(\n",
       "                [43.558750338546176, 39.759779123749034],\n",
       "                {&quot;bubblingMouseEvents&quot;: true, &quot;color&quot;: &quot;blue&quot;, &quot;dashArray&quot;: null, &quot;dashOffset&quot;: null, &quot;fill&quot;: true, &quot;fillColor&quot;: &quot;blue&quot;, &quot;fillOpacity&quot;: 0.2, &quot;fillRule&quot;: &quot;evenodd&quot;, &quot;lineCap&quot;: &quot;round&quot;, &quot;lineJoin&quot;: &quot;round&quot;, &quot;opacity&quot;: 1.0, &quot;radius&quot;: 3, &quot;stroke&quot;: true, &quot;weight&quot;: 3}\n",
       "            ).addTo(map_e47a3adb9f6102181a7bde97390a9b82);\n",
       "        \n",
       "    \n",
       "            var circle_marker_842cd4691225368fa764dafbac8d828a = L.circleMarker(\n",
       "                [54.320096209966835, 45.04802772979341],\n",
       "                {&quot;bubblingMouseEvents&quot;: true, &quot;color&quot;: &quot;red&quot;, &quot;dashArray&quot;: null, &quot;dashOffset&quot;: null, &quot;fill&quot;: true, &quot;fillColor&quot;: &quot;red&quot;, &quot;fillOpacity&quot;: 0.2, &quot;fillRule&quot;: &quot;evenodd&quot;, &quot;lineCap&quot;: &quot;round&quot;, &quot;lineJoin&quot;: &quot;round&quot;, &quot;opacity&quot;: 1.0, &quot;radius&quot;: 3, &quot;stroke&quot;: true, &quot;weight&quot;: 3}\n",
       "            ).addTo(map_e47a3adb9f6102181a7bde97390a9b82);\n",
       "        \n",
       "    \n",
       "            var circle_marker_4053f493640948f9ac2bf32d17013670 = L.circleMarker(\n",
       "                [54.961856645392636, 73.50394010401715],\n",
       "                {&quot;bubblingMouseEvents&quot;: true, &quot;color&quot;: &quot;red&quot;, &quot;dashArray&quot;: null, &quot;dashOffset&quot;: null, &quot;fill&quot;: true, &quot;fillColor&quot;: &quot;red&quot;, &quot;fillOpacity&quot;: 0.2, &quot;fillRule&quot;: &quot;evenodd&quot;, &quot;lineCap&quot;: &quot;round&quot;, &quot;lineJoin&quot;: &quot;round&quot;, &quot;opacity&quot;: 1.0, &quot;radius&quot;: 3, &quot;stroke&quot;: true, &quot;weight&quot;: 3}\n",
       "            ).addTo(map_e47a3adb9f6102181a7bde97390a9b82);\n",
       "        \n",
       "    \n",
       "            var circle_marker_de295279077e810dafb53b9324e7d853 = L.circleMarker(\n",
       "                [48.83805386710276, 44.69913793913478],\n",
       "                {&quot;bubblingMouseEvents&quot;: true, &quot;color&quot;: &quot;blue&quot;, &quot;dashArray&quot;: null, &quot;dashOffset&quot;: null, &quot;fill&quot;: true, &quot;fillColor&quot;: &quot;blue&quot;, &quot;fillOpacity&quot;: 0.2, &quot;fillRule&quot;: &quot;evenodd&quot;, &quot;lineCap&quot;: &quot;round&quot;, &quot;lineJoin&quot;: &quot;round&quot;, &quot;opacity&quot;: 1.0, &quot;radius&quot;: 3, &quot;stroke&quot;: true, &quot;weight&quot;: 3}\n",
       "            ).addTo(map_e47a3adb9f6102181a7bde97390a9b82);\n",
       "        \n",
       "    \n",
       "            var circle_marker_fb79fa7463a2d836619d35def724ce4b = L.circleMarker(\n",
       "                [59.89373612733973, 30.133882409073067],\n",
       "                {&quot;bubblingMouseEvents&quot;: true, &quot;color&quot;: &quot;blue&quot;, &quot;dashArray&quot;: null, &quot;dashOffset&quot;: null, &quot;fill&quot;: true, &quot;fillColor&quot;: &quot;blue&quot;, &quot;fillOpacity&quot;: 0.2, &quot;fillRule&quot;: &quot;evenodd&quot;, &quot;lineCap&quot;: &quot;round&quot;, &quot;lineJoin&quot;: &quot;round&quot;, &quot;opacity&quot;: 1.0, &quot;radius&quot;: 3, &quot;stroke&quot;: true, &quot;weight&quot;: 3}\n",
       "            ).addTo(map_e47a3adb9f6102181a7bde97390a9b82);\n",
       "        \n",
       "    \n",
       "            var circle_marker_d8a81b3e5af727e518bd0a667d9bc24c = L.circleMarker(\n",
       "                [55.89804475105811, 49.15842250277253],\n",
       "                {&quot;bubblingMouseEvents&quot;: true, &quot;color&quot;: &quot;blue&quot;, &quot;dashArray&quot;: null, &quot;dashOffset&quot;: null, &quot;fill&quot;: true, &quot;fillColor&quot;: &quot;blue&quot;, &quot;fillOpacity&quot;: 0.2, &quot;fillRule&quot;: &quot;evenodd&quot;, &quot;lineCap&quot;: &quot;round&quot;, &quot;lineJoin&quot;: &quot;round&quot;, &quot;opacity&quot;: 1.0, &quot;radius&quot;: 3, &quot;stroke&quot;: true, &quot;weight&quot;: 3}\n",
       "            ).addTo(map_e47a3adb9f6102181a7bde97390a9b82);\n",
       "        \n",
       "    \n",
       "            var circle_marker_29d7d805b49240153dfa7e33f964027c = L.circleMarker(\n",
       "                [52.26263389097672, 104.32693862032508],\n",
       "                {&quot;bubblingMouseEvents&quot;: true, &quot;color&quot;: &quot;red&quot;, &quot;dashArray&quot;: null, &quot;dashOffset&quot;: null, &quot;fill&quot;: true, &quot;fillColor&quot;: &quot;red&quot;, &quot;fillOpacity&quot;: 0.2, &quot;fillRule&quot;: &quot;evenodd&quot;, &quot;lineCap&quot;: &quot;round&quot;, &quot;lineJoin&quot;: &quot;round&quot;, &quot;opacity&quot;: 1.0, &quot;radius&quot;: 3, &quot;stroke&quot;: true, &quot;weight&quot;: 3}\n",
       "            ).addTo(map_e47a3adb9f6102181a7bde97390a9b82);\n",
       "        \n",
       "    \n",
       "            var circle_marker_f484524e38708cc72e0a8a4f163b4491 = L.circleMarker(\n",
       "                [59.13900576601198, 37.99833275425114],\n",
       "                {&quot;bubblingMouseEvents&quot;: true, &quot;color&quot;: &quot;red&quot;, &quot;dashArray&quot;: null, &quot;dashOffset&quot;: null, &quot;fill&quot;: true, &quot;fillColor&quot;: &quot;red&quot;, &quot;fillOpacity&quot;: 0.2, &quot;fillRule&quot;: &quot;evenodd&quot;, &quot;lineCap&quot;: &quot;round&quot;, &quot;lineJoin&quot;: &quot;round&quot;, &quot;opacity&quot;: 1.0, &quot;radius&quot;: 3, &quot;stroke&quot;: true, &quot;weight&quot;: 3}\n",
       "            ).addTo(map_e47a3adb9f6102181a7bde97390a9b82);\n",
       "        \n",
       "    \n",
       "            var circle_marker_dabd82db530d7ce59af663c7e58961fa = L.circleMarker(\n",
       "                [55.81995692084868, 52.581507555857264],\n",
       "                {&quot;bubblingMouseEvents&quot;: true, &quot;color&quot;: &quot;red&quot;, &quot;dashArray&quot;: null, &quot;dashOffset&quot;: null, &quot;fill&quot;: true, &quot;fillColor&quot;: &quot;red&quot;, &quot;fillOpacity&quot;: 0.2, &quot;fillRule&quot;: &quot;evenodd&quot;, &quot;lineCap&quot;: &quot;round&quot;, &quot;lineJoin&quot;: &quot;round&quot;, &quot;opacity&quot;: 1.0, &quot;radius&quot;: 3, &quot;stroke&quot;: true, &quot;weight&quot;: 3}\n",
       "            ).addTo(map_e47a3adb9f6102181a7bde97390a9b82);\n",
       "        \n",
       "    \n",
       "            var circle_marker_561c13894418c518444b3b8cb21b0f6c = L.circleMarker(\n",
       "                [57.03845189171236, 53.261797748654814],\n",
       "                {&quot;bubblingMouseEvents&quot;: true, &quot;color&quot;: &quot;blue&quot;, &quot;dashArray&quot;: null, &quot;dashOffset&quot;: null, &quot;fill&quot;: true, &quot;fillColor&quot;: &quot;blue&quot;, &quot;fillOpacity&quot;: 0.2, &quot;fillRule&quot;: &quot;evenodd&quot;, &quot;lineCap&quot;: &quot;round&quot;, &quot;lineJoin&quot;: &quot;round&quot;, &quot;opacity&quot;: 1.0, &quot;radius&quot;: 3, &quot;stroke&quot;: true, &quot;weight&quot;: 3}\n",
       "            ).addTo(map_e47a3adb9f6102181a7bde97390a9b82);\n",
       "        \n",
       "    \n",
       "            var circle_marker_72fb8c4e46cf2a356aa0a23ad9fa48e6 = L.circleMarker(\n",
       "                [59.96277437400858, 30.453482988008172],\n",
       "                {&quot;bubblingMouseEvents&quot;: true, &quot;color&quot;: &quot;blue&quot;, &quot;dashArray&quot;: null, &quot;dashOffset&quot;: null, &quot;fill&quot;: true, &quot;fillColor&quot;: &quot;blue&quot;, &quot;fillOpacity&quot;: 0.2, &quot;fillRule&quot;: &quot;evenodd&quot;, &quot;lineCap&quot;: &quot;round&quot;, &quot;lineJoin&quot;: &quot;round&quot;, &quot;opacity&quot;: 1.0, &quot;radius&quot;: 3, &quot;stroke&quot;: true, &quot;weight&quot;: 3}\n",
       "            ).addTo(map_e47a3adb9f6102181a7bde97390a9b82);\n",
       "        \n",
       "    \n",
       "            var circle_marker_13703bb9e038f32babc2726a24244e1c = L.circleMarker(\n",
       "                [55.14567995741882, 82.91446741012672],\n",
       "                {&quot;bubblingMouseEvents&quot;: true, &quot;color&quot;: &quot;red&quot;, &quot;dashArray&quot;: null, &quot;dashOffset&quot;: null, &quot;fill&quot;: true, &quot;fillColor&quot;: &quot;red&quot;, &quot;fillOpacity&quot;: 0.2, &quot;fillRule&quot;: &quot;evenodd&quot;, &quot;lineCap&quot;: &quot;round&quot;, &quot;lineJoin&quot;: &quot;round&quot;, &quot;opacity&quot;: 1.0, &quot;radius&quot;: 3, &quot;stroke&quot;: true, &quot;weight&quot;: 3}\n",
       "            ).addTo(map_e47a3adb9f6102181a7bde97390a9b82);\n",
       "        \n",
       "    \n",
       "            var circle_marker_336ac05363059a20b7ba762085127723 = L.circleMarker(\n",
       "                [55.21618209145278, 83.11090676943432],\n",
       "                {&quot;bubblingMouseEvents&quot;: true, &quot;color&quot;: &quot;blue&quot;, &quot;dashArray&quot;: null, &quot;dashOffset&quot;: null, &quot;fill&quot;: true, &quot;fillColor&quot;: &quot;blue&quot;, &quot;fillOpacity&quot;: 0.2, &quot;fillRule&quot;: &quot;evenodd&quot;, &quot;lineCap&quot;: &quot;round&quot;, &quot;lineJoin&quot;: &quot;round&quot;, &quot;opacity&quot;: 1.0, &quot;radius&quot;: 3, &quot;stroke&quot;: true, &quot;weight&quot;: 3}\n",
       "            ).addTo(map_e47a3adb9f6102181a7bde97390a9b82);\n",
       "        \n",
       "    \n",
       "            var circle_marker_c908fa731475699c32a67f2c132fa621 = L.circleMarker(\n",
       "                [53.04613155140189, 34.37067216714818],\n",
       "                {&quot;bubblingMouseEvents&quot;: true, &quot;color&quot;: &quot;red&quot;, &quot;dashArray&quot;: null, &quot;dashOffset&quot;: null, &quot;fill&quot;: true, &quot;fillColor&quot;: &quot;red&quot;, &quot;fillOpacity&quot;: 0.2, &quot;fillRule&quot;: &quot;evenodd&quot;, &quot;lineCap&quot;: &quot;round&quot;, &quot;lineJoin&quot;: &quot;round&quot;, &quot;opacity&quot;: 1.0, &quot;radius&quot;: 3, &quot;stroke&quot;: true, &quot;weight&quot;: 3}\n",
       "            ).addTo(map_e47a3adb9f6102181a7bde97390a9b82);\n",
       "        \n",
       "    \n",
       "            var circle_marker_8065fddc1af34ae24b678482ef216379 = L.circleMarker(\n",
       "                [45.118061768548216, 39.082101823517874],\n",
       "                {&quot;bubblingMouseEvents&quot;: true, &quot;color&quot;: &quot;red&quot;, &quot;dashArray&quot;: null, &quot;dashOffset&quot;: null, &quot;fill&quot;: true, &quot;fillColor&quot;: &quot;red&quot;, &quot;fillOpacity&quot;: 0.2, &quot;fillRule&quot;: &quot;evenodd&quot;, &quot;lineCap&quot;: &quot;round&quot;, &quot;lineJoin&quot;: &quot;round&quot;, &quot;opacity&quot;: 1.0, &quot;radius&quot;: 3, &quot;stroke&quot;: true, &quot;weight&quot;: 3}\n",
       "            ).addTo(map_e47a3adb9f6102181a7bde97390a9b82);\n",
       "        \n",
       "    \n",
       "            var circle_marker_065b91bb5f930268c09e0bedbf0e8b00 = L.circleMarker(\n",
       "                [55.08270257514029, 61.48468458859759],\n",
       "                {&quot;bubblingMouseEvents&quot;: true, &quot;color&quot;: &quot;blue&quot;, &quot;dashArray&quot;: null, &quot;dashOffset&quot;: null, &quot;fill&quot;: true, &quot;fillColor&quot;: &quot;blue&quot;, &quot;fillOpacity&quot;: 0.2, &quot;fillRule&quot;: &quot;evenodd&quot;, &quot;lineCap&quot;: &quot;round&quot;, &quot;lineJoin&quot;: &quot;round&quot;, &quot;opacity&quot;: 1.0, &quot;radius&quot;: 3, &quot;stroke&quot;: true, &quot;weight&quot;: 3}\n",
       "            ).addTo(map_e47a3adb9f6102181a7bde97390a9b82);\n",
       "        \n",
       "    \n",
       "            var circle_marker_6fc0f55cd2a3619a89d97c6a41b4e4f2 = L.circleMarker(\n",
       "                [53.47356668326781, 49.26830835037774],\n",
       "                {&quot;bubblingMouseEvents&quot;: true, &quot;color&quot;: &quot;red&quot;, &quot;dashArray&quot;: null, &quot;dashOffset&quot;: null, &quot;fill&quot;: true, &quot;fillColor&quot;: &quot;red&quot;, &quot;fillOpacity&quot;: 0.2, &quot;fillRule&quot;: &quot;evenodd&quot;, &quot;lineCap&quot;: &quot;round&quot;, &quot;lineJoin&quot;: &quot;round&quot;, &quot;opacity&quot;: 1.0, &quot;radius&quot;: 3, &quot;stroke&quot;: true, &quot;weight&quot;: 3}\n",
       "            ).addTo(map_e47a3adb9f6102181a7bde97390a9b82);\n",
       "        \n",
       "    \n",
       "            var circle_marker_c1249221d0f37f71a3d4af3d7380c756 = L.circleMarker(\n",
       "                [59.970793869350985, 30.33772886579475],\n",
       "                {&quot;bubblingMouseEvents&quot;: true, &quot;color&quot;: &quot;blue&quot;, &quot;dashArray&quot;: null, &quot;dashOffset&quot;: null, &quot;fill&quot;: true, &quot;fillColor&quot;: &quot;blue&quot;, &quot;fillOpacity&quot;: 0.2, &quot;fillRule&quot;: &quot;evenodd&quot;, &quot;lineCap&quot;: &quot;round&quot;, &quot;lineJoin&quot;: &quot;round&quot;, &quot;opacity&quot;: 1.0, &quot;radius&quot;: 3, &quot;stroke&quot;: true, &quot;weight&quot;: 3}\n",
       "            ).addTo(map_e47a3adb9f6102181a7bde97390a9b82);\n",
       "        \n",
       "    \n",
       "            var circle_marker_c2e473f9209f90b0d57f29f70a3b6c7f = L.circleMarker(\n",
       "                [55.854034847659534, 49.08127577417091],\n",
       "                {&quot;bubblingMouseEvents&quot;: true, &quot;color&quot;: &quot;blue&quot;, &quot;dashArray&quot;: null, &quot;dashOffset&quot;: null, &quot;fill&quot;: true, &quot;fillColor&quot;: &quot;blue&quot;, &quot;fillOpacity&quot;: 0.2, &quot;fillRule&quot;: &quot;evenodd&quot;, &quot;lineCap&quot;: &quot;round&quot;, &quot;lineJoin&quot;: &quot;round&quot;, &quot;opacity&quot;: 1.0, &quot;radius&quot;: 3, &quot;stroke&quot;: true, &quot;weight&quot;: 3}\n",
       "            ).addTo(map_e47a3adb9f6102181a7bde97390a9b82);\n",
       "        \n",
       "    \n",
       "            var circle_marker_3027d3317f8793fc8b0f6104ddc177f8 = L.circleMarker(\n",
       "                [55.94530440476888, 37.61459632276007],\n",
       "                {&quot;bubblingMouseEvents&quot;: true, &quot;color&quot;: &quot;blue&quot;, &quot;dashArray&quot;: null, &quot;dashOffset&quot;: null, &quot;fill&quot;: true, &quot;fillColor&quot;: &quot;blue&quot;, &quot;fillOpacity&quot;: 0.2, &quot;fillRule&quot;: &quot;evenodd&quot;, &quot;lineCap&quot;: &quot;round&quot;, &quot;lineJoin&quot;: &quot;round&quot;, &quot;opacity&quot;: 1.0, &quot;radius&quot;: 3, &quot;stroke&quot;: true, &quot;weight&quot;: 3}\n",
       "            ).addTo(map_e47a3adb9f6102181a7bde97390a9b82);\n",
       "        \n",
       "    \n",
       "            var circle_marker_4f859a0d86f696b242b8ac809ba4a5cd = L.circleMarker(\n",
       "                [56.970798102867896, 60.52692301224359],\n",
       "                {&quot;bubblingMouseEvents&quot;: true, &quot;color&quot;: &quot;blue&quot;, &quot;dashArray&quot;: null, &quot;dashOffset&quot;: null, &quot;fill&quot;: true, &quot;fillColor&quot;: &quot;blue&quot;, &quot;fillOpacity&quot;: 0.2, &quot;fillRule&quot;: &quot;evenodd&quot;, &quot;lineCap&quot;: &quot;round&quot;, &quot;lineJoin&quot;: &quot;round&quot;, &quot;opacity&quot;: 1.0, &quot;radius&quot;: 3, &quot;stroke&quot;: true, &quot;weight&quot;: 3}\n",
       "            ).addTo(map_e47a3adb9f6102181a7bde97390a9b82);\n",
       "        \n",
       "    \n",
       "            var circle_marker_61652ece738acdf55dba0760ee6bfac1 = L.circleMarker(\n",
       "                [58.045309155634264, 59.99425308162184],\n",
       "                {&quot;bubblingMouseEvents&quot;: true, &quot;color&quot;: &quot;red&quot;, &quot;dashArray&quot;: null, &quot;dashOffset&quot;: null, &quot;fill&quot;: true, &quot;fillColor&quot;: &quot;red&quot;, &quot;fillOpacity&quot;: 0.2, &quot;fillRule&quot;: &quot;evenodd&quot;, &quot;lineCap&quot;: &quot;round&quot;, &quot;lineJoin&quot;: &quot;round&quot;, &quot;opacity&quot;: 1.0, &quot;radius&quot;: 3, &quot;stroke&quot;: true, &quot;weight&quot;: 3}\n",
       "            ).addTo(map_e47a3adb9f6102181a7bde97390a9b82);\n",
       "        \n",
       "    \n",
       "            var circle_marker_8ae2fdf8c825403ddea8ed9fe9e78dfb = L.circleMarker(\n",
       "                [51.908537707775096, 107.56907135715302],\n",
       "                {&quot;bubblingMouseEvents&quot;: true, &quot;color&quot;: &quot;blue&quot;, &quot;dashArray&quot;: null, &quot;dashOffset&quot;: null, &quot;fill&quot;: true, &quot;fillColor&quot;: &quot;blue&quot;, &quot;fillOpacity&quot;: 0.2, &quot;fillRule&quot;: &quot;evenodd&quot;, &quot;lineCap&quot;: &quot;round&quot;, &quot;lineJoin&quot;: &quot;round&quot;, &quot;opacity&quot;: 1.0, &quot;radius&quot;: 3, &quot;stroke&quot;: true, &quot;weight&quot;: 3}\n",
       "            ).addTo(map_e47a3adb9f6102181a7bde97390a9b82);\n",
       "        \n",
       "    \n",
       "            var circle_marker_0875b638a335692305697f0fd040de9a = L.circleMarker(\n",
       "                [54.46398896923617, 36.18241966230041],\n",
       "                {&quot;bubblingMouseEvents&quot;: true, &quot;color&quot;: &quot;red&quot;, &quot;dashArray&quot;: null, &quot;dashOffset&quot;: null, &quot;fill&quot;: true, &quot;fillColor&quot;: &quot;red&quot;, &quot;fillOpacity&quot;: 0.2, &quot;fillRule&quot;: &quot;evenodd&quot;, &quot;lineCap&quot;: &quot;round&quot;, &quot;lineJoin&quot;: &quot;round&quot;, &quot;opacity&quot;: 1.0, &quot;radius&quot;: 3, &quot;stroke&quot;: true, &quot;weight&quot;: 3}\n",
       "            ).addTo(map_e47a3adb9f6102181a7bde97390a9b82);\n",
       "        \n",
       "    \n",
       "            var circle_marker_8843ebf3a34744442da462a40377836f = L.circleMarker(\n",
       "                [52.950304859928224, 36.08150733220109],\n",
       "                {&quot;bubblingMouseEvents&quot;: true, &quot;color&quot;: &quot;blue&quot;, &quot;dashArray&quot;: null, &quot;dashOffset&quot;: null, &quot;fill&quot;: true, &quot;fillColor&quot;: &quot;blue&quot;, &quot;fillOpacity&quot;: 0.2, &quot;fillRule&quot;: &quot;evenodd&quot;, &quot;lineCap&quot;: &quot;round&quot;, &quot;lineJoin&quot;: &quot;round&quot;, &quot;opacity&quot;: 1.0, &quot;radius&quot;: 3, &quot;stroke&quot;: true, &quot;weight&quot;: 3}\n",
       "            ).addTo(map_e47a3adb9f6102181a7bde97390a9b82);\n",
       "        \n",
       "    \n",
       "            var circle_marker_5350306a31a90e1b54ac155d9c326c58 = L.circleMarker(\n",
       "                [55.69430837037829, 37.497511397524256],\n",
       "                {&quot;bubblingMouseEvents&quot;: true, &quot;color&quot;: &quot;blue&quot;, &quot;dashArray&quot;: null, &quot;dashOffset&quot;: null, &quot;fill&quot;: true, &quot;fillColor&quot;: &quot;blue&quot;, &quot;fillOpacity&quot;: 0.2, &quot;fillRule&quot;: &quot;evenodd&quot;, &quot;lineCap&quot;: &quot;round&quot;, &quot;lineJoin&quot;: &quot;round&quot;, &quot;opacity&quot;: 1.0, &quot;radius&quot;: 3, &quot;stroke&quot;: true, &quot;weight&quot;: 3}\n",
       "            ).addTo(map_e47a3adb9f6102181a7bde97390a9b82);\n",
       "        \n",
       "    \n",
       "            var circle_marker_e3810e591e873218f13a7209ed602db6 = L.circleMarker(\n",
       "                [59.766243863032315, 30.178872343624363],\n",
       "                {&quot;bubblingMouseEvents&quot;: true, &quot;color&quot;: &quot;blue&quot;, &quot;dashArray&quot;: null, &quot;dashOffset&quot;: null, &quot;fill&quot;: true, &quot;fillColor&quot;: &quot;blue&quot;, &quot;fillOpacity&quot;: 0.2, &quot;fillRule&quot;: &quot;evenodd&quot;, &quot;lineCap&quot;: &quot;round&quot;, &quot;lineJoin&quot;: &quot;round&quot;, &quot;opacity&quot;: 1.0, &quot;radius&quot;: 3, &quot;stroke&quot;: true, &quot;weight&quot;: 3}\n",
       "            ).addTo(map_e47a3adb9f6102181a7bde97390a9b82);\n",
       "        \n",
       "    \n",
       "            var circle_marker_38c6c3811ce491a770b4ece8689df14e = L.circleMarker(\n",
       "                [61.73019975256621, 34.27915051971461],\n",
       "                {&quot;bubblingMouseEvents&quot;: true, &quot;color&quot;: &quot;blue&quot;, &quot;dashArray&quot;: null, &quot;dashOffset&quot;: null, &quot;fill&quot;: true, &quot;fillColor&quot;: &quot;blue&quot;, &quot;fillOpacity&quot;: 0.2, &quot;fillRule&quot;: &quot;evenodd&quot;, &quot;lineCap&quot;: &quot;round&quot;, &quot;lineJoin&quot;: &quot;round&quot;, &quot;opacity&quot;: 1.0, &quot;radius&quot;: 3, &quot;stroke&quot;: true, &quot;weight&quot;: 3}\n",
       "            ).addTo(map_e47a3adb9f6102181a7bde97390a9b82);\n",
       "        \n",
       "    \n",
       "            var circle_marker_ca0a61b215b2820399e7284448dca73f = L.circleMarker(\n",
       "                [55.62025894406811, 49.05136320927312],\n",
       "                {&quot;bubblingMouseEvents&quot;: true, &quot;color&quot;: &quot;blue&quot;, &quot;dashArray&quot;: null, &quot;dashOffset&quot;: null, &quot;fill&quot;: true, &quot;fillColor&quot;: &quot;blue&quot;, &quot;fillOpacity&quot;: 0.2, &quot;fillRule&quot;: &quot;evenodd&quot;, &quot;lineCap&quot;: &quot;round&quot;, &quot;lineJoin&quot;: &quot;round&quot;, &quot;opacity&quot;: 1.0, &quot;radius&quot;: 3, &quot;stroke&quot;: true, &quot;weight&quot;: 3}\n",
       "            ).addTo(map_e47a3adb9f6102181a7bde97390a9b82);\n",
       "        \n",
       "    \n",
       "            var circle_marker_5804ff7c0ef3d23629e3524d4df05477 = L.circleMarker(\n",
       "                [54.137382186073154, 48.42482612573708],\n",
       "                {&quot;bubblingMouseEvents&quot;: true, &quot;color&quot;: &quot;blue&quot;, &quot;dashArray&quot;: null, &quot;dashOffset&quot;: null, &quot;fill&quot;: true, &quot;fillColor&quot;: &quot;blue&quot;, &quot;fillOpacity&quot;: 0.2, &quot;fillRule&quot;: &quot;evenodd&quot;, &quot;lineCap&quot;: &quot;round&quot;, &quot;lineJoin&quot;: &quot;round&quot;, &quot;opacity&quot;: 1.0, &quot;radius&quot;: 3, &quot;stroke&quot;: true, &quot;weight&quot;: 3}\n",
       "            ).addTo(map_e47a3adb9f6102181a7bde97390a9b82);\n",
       "        \n",
       "    \n",
       "            var circle_marker_89e1b0281cb8a2b58450aff25a03aea8 = L.circleMarker(\n",
       "                [51.92888488880821, 113.62887732647711],\n",
       "                {&quot;bubblingMouseEvents&quot;: true, &quot;color&quot;: &quot;blue&quot;, &quot;dashArray&quot;: null, &quot;dashOffset&quot;: null, &quot;fill&quot;: true, &quot;fillColor&quot;: &quot;blue&quot;, &quot;fillOpacity&quot;: 0.2, &quot;fillRule&quot;: &quot;evenodd&quot;, &quot;lineCap&quot;: &quot;round&quot;, &quot;lineJoin&quot;: &quot;round&quot;, &quot;opacity&quot;: 1.0, &quot;radius&quot;: 3, &quot;stroke&quot;: true, &quot;weight&quot;: 3}\n",
       "            ).addTo(map_e47a3adb9f6102181a7bde97390a9b82);\n",
       "        \n",
       "    \n",
       "            var circle_marker_1cc9811a7840ee7806b5655deb66ca36 = L.circleMarker(\n",
       "                [58.08684788855228, 56.085124704480485],\n",
       "                {&quot;bubblingMouseEvents&quot;: true, &quot;color&quot;: &quot;blue&quot;, &quot;dashArray&quot;: null, &quot;dashOffset&quot;: null, &quot;fill&quot;: true, &quot;fillColor&quot;: &quot;blue&quot;, &quot;fillOpacity&quot;: 0.2, &quot;fillRule&quot;: &quot;evenodd&quot;, &quot;lineCap&quot;: &quot;round&quot;, &quot;lineJoin&quot;: &quot;round&quot;, &quot;opacity&quot;: 1.0, &quot;radius&quot;: 3, &quot;stroke&quot;: true, &quot;weight&quot;: 3}\n",
       "            ).addTo(map_e47a3adb9f6102181a7bde97390a9b82);\n",
       "        \n",
       "    \n",
       "            var circle_marker_3054c43cf316988e50cda89ce169f247 = L.circleMarker(\n",
       "                [55.84900357242932, 37.80169053614452],\n",
       "                {&quot;bubblingMouseEvents&quot;: true, &quot;color&quot;: &quot;blue&quot;, &quot;dashArray&quot;: null, &quot;dashOffset&quot;: null, &quot;fill&quot;: true, &quot;fillColor&quot;: &quot;blue&quot;, &quot;fillOpacity&quot;: 0.2, &quot;fillRule&quot;: &quot;evenodd&quot;, &quot;lineCap&quot;: &quot;round&quot;, &quot;lineJoin&quot;: &quot;round&quot;, &quot;opacity&quot;: 1.0, &quot;radius&quot;: 3, &quot;stroke&quot;: true, &quot;weight&quot;: 3}\n",
       "            ).addTo(map_e47a3adb9f6102181a7bde97390a9b82);\n",
       "        \n",
       "    \n",
       "            var circle_marker_46295d40daccd8c529b8360c8d8da9e8 = L.circleMarker(\n",
       "                [61.748633146636976, 34.16110469564169],\n",
       "                {&quot;bubblingMouseEvents&quot;: true, &quot;color&quot;: &quot;blue&quot;, &quot;dashArray&quot;: null, &quot;dashOffset&quot;: null, &quot;fill&quot;: true, &quot;fillColor&quot;: &quot;blue&quot;, &quot;fillOpacity&quot;: 0.2, &quot;fillRule&quot;: &quot;evenodd&quot;, &quot;lineCap&quot;: &quot;round&quot;, &quot;lineJoin&quot;: &quot;round&quot;, &quot;opacity&quot;: 1.0, &quot;radius&quot;: 3, &quot;stroke&quot;: true, &quot;weight&quot;: 3}\n",
       "            ).addTo(map_e47a3adb9f6102181a7bde97390a9b82);\n",
       "        \n",
       "    \n",
       "            var circle_marker_bc107f94959cf7fbe2f70e865c7df659 = L.circleMarker(\n",
       "                [57.238008536131495, 65.65907619185072],\n",
       "                {&quot;bubblingMouseEvents&quot;: true, &quot;color&quot;: &quot;blue&quot;, &quot;dashArray&quot;: null, &quot;dashOffset&quot;: null, &quot;fill&quot;: true, &quot;fillColor&quot;: &quot;blue&quot;, &quot;fillOpacity&quot;: 0.2, &quot;fillRule&quot;: &quot;evenodd&quot;, &quot;lineCap&quot;: &quot;round&quot;, &quot;lineJoin&quot;: &quot;round&quot;, &quot;opacity&quot;: 1.0, &quot;radius&quot;: 3, &quot;stroke&quot;: true, &quot;weight&quot;: 3}\n",
       "            ).addTo(map_e47a3adb9f6102181a7bde97390a9b82);\n",
       "        \n",
       "    \n",
       "            var circle_marker_5ef32d95d82a8ba207203c065c8e61c3 = L.circleMarker(\n",
       "                [55.81877658046033, 49.07058838360883],\n",
       "                {&quot;bubblingMouseEvents&quot;: true, &quot;color&quot;: &quot;blue&quot;, &quot;dashArray&quot;: null, &quot;dashOffset&quot;: null, &quot;fill&quot;: true, &quot;fillColor&quot;: &quot;blue&quot;, &quot;fillOpacity&quot;: 0.2, &quot;fillRule&quot;: &quot;evenodd&quot;, &quot;lineCap&quot;: &quot;round&quot;, &quot;lineJoin&quot;: &quot;round&quot;, &quot;opacity&quot;: 1.0, &quot;radius&quot;: 3, &quot;stroke&quot;: true, &quot;weight&quot;: 3}\n",
       "            ).addTo(map_e47a3adb9f6102181a7bde97390a9b82);\n",
       "        \n",
       "    \n",
       "            var circle_marker_c75c39addb68984201251a3171f70ce1 = L.circleMarker(\n",
       "                [61.808961278238165, 34.43012949206083],\n",
       "                {&quot;bubblingMouseEvents&quot;: true, &quot;color&quot;: &quot;blue&quot;, &quot;dashArray&quot;: null, &quot;dashOffset&quot;: null, &quot;fill&quot;: true, &quot;fillColor&quot;: &quot;blue&quot;, &quot;fillOpacity&quot;: 0.2, &quot;fillRule&quot;: &quot;evenodd&quot;, &quot;lineCap&quot;: &quot;round&quot;, &quot;lineJoin&quot;: &quot;round&quot;, &quot;opacity&quot;: 1.0, &quot;radius&quot;: 3, &quot;stroke&quot;: true, &quot;weight&quot;: 3}\n",
       "            ).addTo(map_e47a3adb9f6102181a7bde97390a9b82);\n",
       "        \n",
       "    \n",
       "            var circle_marker_b3accef7d8bf66ce40fec4e2871860c3 = L.circleMarker(\n",
       "                [45.06333390304679, 39.06322176787062],\n",
       "                {&quot;bubblingMouseEvents&quot;: true, &quot;color&quot;: &quot;red&quot;, &quot;dashArray&quot;: null, &quot;dashOffset&quot;: null, &quot;fill&quot;: true, &quot;fillColor&quot;: &quot;red&quot;, &quot;fillOpacity&quot;: 0.2, &quot;fillRule&quot;: &quot;evenodd&quot;, &quot;lineCap&quot;: &quot;round&quot;, &quot;lineJoin&quot;: &quot;round&quot;, &quot;opacity&quot;: 1.0, &quot;radius&quot;: 3, &quot;stroke&quot;: true, &quot;weight&quot;: 3}\n",
       "            ).addTo(map_e47a3adb9f6102181a7bde97390a9b82);\n",
       "        \n",
       "    \n",
       "            var circle_marker_57d90e5b77db3a6a0cca029341798142 = L.circleMarker(\n",
       "                [50.44169145295746, 36.69524835423204],\n",
       "                {&quot;bubblingMouseEvents&quot;: true, &quot;color&quot;: &quot;blue&quot;, &quot;dashArray&quot;: null, &quot;dashOffset&quot;: null, &quot;fill&quot;: true, &quot;fillColor&quot;: &quot;blue&quot;, &quot;fillOpacity&quot;: 0.2, &quot;fillRule&quot;: &quot;evenodd&quot;, &quot;lineCap&quot;: &quot;round&quot;, &quot;lineJoin&quot;: &quot;round&quot;, &quot;opacity&quot;: 1.0, &quot;radius&quot;: 3, &quot;stroke&quot;: true, &quot;weight&quot;: 3}\n",
       "            ).addTo(map_e47a3adb9f6102181a7bde97390a9b82);\n",
       "        \n",
       "    \n",
       "            var circle_marker_8a54e1cbd10da7c3e6bb44c33c03a5a2 = L.circleMarker(\n",
       "                [51.58457967452319, 39.39669931068138],\n",
       "                {&quot;bubblingMouseEvents&quot;: true, &quot;color&quot;: &quot;red&quot;, &quot;dashArray&quot;: null, &quot;dashOffset&quot;: null, &quot;fill&quot;: true, &quot;fillColor&quot;: &quot;red&quot;, &quot;fillOpacity&quot;: 0.2, &quot;fillRule&quot;: &quot;evenodd&quot;, &quot;lineCap&quot;: &quot;round&quot;, &quot;lineJoin&quot;: &quot;round&quot;, &quot;opacity&quot;: 1.0, &quot;radius&quot;: 3, &quot;stroke&quot;: true, &quot;weight&quot;: 3}\n",
       "            ).addTo(map_e47a3adb9f6102181a7bde97390a9b82);\n",
       "        \n",
       "    \n",
       "            var circle_marker_b2eed6f11202731fa9a181ecab77d0f2 = L.circleMarker(\n",
       "                [45.119831690317774, 38.98298069276861],\n",
       "                {&quot;bubblingMouseEvents&quot;: true, &quot;color&quot;: &quot;blue&quot;, &quot;dashArray&quot;: null, &quot;dashOffset&quot;: null, &quot;fill&quot;: true, &quot;fillColor&quot;: &quot;blue&quot;, &quot;fillOpacity&quot;: 0.2, &quot;fillRule&quot;: &quot;evenodd&quot;, &quot;lineCap&quot;: &quot;round&quot;, &quot;lineJoin&quot;: &quot;round&quot;, &quot;opacity&quot;: 1.0, &quot;radius&quot;: 3, &quot;stroke&quot;: true, &quot;weight&quot;: 3}\n",
       "            ).addTo(map_e47a3adb9f6102181a7bde97390a9b82);\n",
       "        \n",
       "    \n",
       "            var circle_marker_8ea124dbef3d4f3f7f186c0ceef171f1 = L.circleMarker(\n",
       "                [42.862557685515, 47.42650234155484],\n",
       "                {&quot;bubblingMouseEvents&quot;: true, &quot;color&quot;: &quot;red&quot;, &quot;dashArray&quot;: null, &quot;dashOffset&quot;: null, &quot;fill&quot;: true, &quot;fillColor&quot;: &quot;red&quot;, &quot;fillOpacity&quot;: 0.2, &quot;fillRule&quot;: &quot;evenodd&quot;, &quot;lineCap&quot;: &quot;round&quot;, &quot;lineJoin&quot;: &quot;round&quot;, &quot;opacity&quot;: 1.0, &quot;radius&quot;: 3, &quot;stroke&quot;: true, &quot;weight&quot;: 3}\n",
       "            ).addTo(map_e47a3adb9f6102181a7bde97390a9b82);\n",
       "        \n",
       "    \n",
       "            var circle_marker_06a2f51b2ef9db49f4ae32a00c9e243a = L.circleMarker(\n",
       "                [48.72466340774906, 44.40960748352788],\n",
       "                {&quot;bubblingMouseEvents&quot;: true, &quot;color&quot;: &quot;blue&quot;, &quot;dashArray&quot;: null, &quot;dashOffset&quot;: null, &quot;fill&quot;: true, &quot;fillColor&quot;: &quot;blue&quot;, &quot;fillOpacity&quot;: 0.2, &quot;fillRule&quot;: &quot;evenodd&quot;, &quot;lineCap&quot;: &quot;round&quot;, &quot;lineJoin&quot;: &quot;round&quot;, &quot;opacity&quot;: 1.0, &quot;radius&quot;: 3, &quot;stroke&quot;: true, &quot;weight&quot;: 3}\n",
       "            ).addTo(map_e47a3adb9f6102181a7bde97390a9b82);\n",
       "        \n",
       "    \n",
       "            var circle_marker_db5befe3c9c9fd6fb8bf2c6b0beccb08 = L.circleMarker(\n",
       "                [60.04700200344487, 30.496565118733656],\n",
       "                {&quot;bubblingMouseEvents&quot;: true, &quot;color&quot;: &quot;red&quot;, &quot;dashArray&quot;: null, &quot;dashOffset&quot;: null, &quot;fill&quot;: true, &quot;fillColor&quot;: &quot;red&quot;, &quot;fillOpacity&quot;: 0.2, &quot;fillRule&quot;: &quot;evenodd&quot;, &quot;lineCap&quot;: &quot;round&quot;, &quot;lineJoin&quot;: &quot;round&quot;, &quot;opacity&quot;: 1.0, &quot;radius&quot;: 3, &quot;stroke&quot;: true, &quot;weight&quot;: 3}\n",
       "            ).addTo(map_e47a3adb9f6102181a7bde97390a9b82);\n",
       "        \n",
       "    \n",
       "            var circle_marker_eabc4f1c009d41fdb53301f68bf8a27d = L.circleMarker(\n",
       "                [55.826475789870194, 48.943117953334564],\n",
       "                {&quot;bubblingMouseEvents&quot;: true, &quot;color&quot;: &quot;blue&quot;, &quot;dashArray&quot;: null, &quot;dashOffset&quot;: null, &quot;fill&quot;: true, &quot;fillColor&quot;: &quot;blue&quot;, &quot;fillOpacity&quot;: 0.2, &quot;fillRule&quot;: &quot;evenodd&quot;, &quot;lineCap&quot;: &quot;round&quot;, &quot;lineJoin&quot;: &quot;round&quot;, &quot;opacity&quot;: 1.0, &quot;radius&quot;: 3, &quot;stroke&quot;: true, &quot;weight&quot;: 3}\n",
       "            ).addTo(map_e47a3adb9f6102181a7bde97390a9b82);\n",
       "        \n",
       "    \n",
       "            var circle_marker_863f5d9069c68bbad959806ca685e862 = L.circleMarker(\n",
       "                [48.619092579947875, 44.85931156186714],\n",
       "                {&quot;bubblingMouseEvents&quot;: true, &quot;color&quot;: &quot;red&quot;, &quot;dashArray&quot;: null, &quot;dashOffset&quot;: null, &quot;fill&quot;: true, &quot;fillColor&quot;: &quot;red&quot;, &quot;fillOpacity&quot;: 0.2, &quot;fillRule&quot;: &quot;evenodd&quot;, &quot;lineCap&quot;: &quot;round&quot;, &quot;lineJoin&quot;: &quot;round&quot;, &quot;opacity&quot;: 1.0, &quot;radius&quot;: 3, &quot;stroke&quot;: true, &quot;weight&quot;: 3}\n",
       "            ).addTo(map_e47a3adb9f6102181a7bde97390a9b82);\n",
       "        \n",
       "    \n",
       "            var circle_marker_694f1edb032ae29ca962dc5d0944a08f = L.circleMarker(\n",
       "                [55.276141062243184, 65.33207125858269],\n",
       "                {&quot;bubblingMouseEvents&quot;: true, &quot;color&quot;: &quot;blue&quot;, &quot;dashArray&quot;: null, &quot;dashOffset&quot;: null, &quot;fill&quot;: true, &quot;fillColor&quot;: &quot;blue&quot;, &quot;fillOpacity&quot;: 0.2, &quot;fillRule&quot;: &quot;evenodd&quot;, &quot;lineCap&quot;: &quot;round&quot;, &quot;lineJoin&quot;: &quot;round&quot;, &quot;opacity&quot;: 1.0, &quot;radius&quot;: 3, &quot;stroke&quot;: true, &quot;weight&quot;: 3}\n",
       "            ).addTo(map_e47a3adb9f6102181a7bde97390a9b82);\n",
       "        \n",
       "    \n",
       "            var circle_marker_6869ac0db867002f6840b807f1bb5a8d = L.circleMarker(\n",
       "                [56.957737155131916, 65.56816992713442],\n",
       "                {&quot;bubblingMouseEvents&quot;: true, &quot;color&quot;: &quot;blue&quot;, &quot;dashArray&quot;: null, &quot;dashOffset&quot;: null, &quot;fill&quot;: true, &quot;fillColor&quot;: &quot;blue&quot;, &quot;fillOpacity&quot;: 0.2, &quot;fillRule&quot;: &quot;evenodd&quot;, &quot;lineCap&quot;: &quot;round&quot;, &quot;lineJoin&quot;: &quot;round&quot;, &quot;opacity&quot;: 1.0, &quot;radius&quot;: 3, &quot;stroke&quot;: true, &quot;weight&quot;: 3}\n",
       "            ).addTo(map_e47a3adb9f6102181a7bde97390a9b82);\n",
       "        \n",
       "    \n",
       "            var circle_marker_e77786ded1ffe66ce2dbca318d858a1b = L.circleMarker(\n",
       "                [51.833663426095455, 113.43424078925922],\n",
       "                {&quot;bubblingMouseEvents&quot;: true, &quot;color&quot;: &quot;blue&quot;, &quot;dashArray&quot;: null, &quot;dashOffset&quot;: null, &quot;fill&quot;: true, &quot;fillColor&quot;: &quot;blue&quot;, &quot;fillOpacity&quot;: 0.2, &quot;fillRule&quot;: &quot;evenodd&quot;, &quot;lineCap&quot;: &quot;round&quot;, &quot;lineJoin&quot;: &quot;round&quot;, &quot;opacity&quot;: 1.0, &quot;radius&quot;: 3, &quot;stroke&quot;: true, &quot;weight&quot;: 3}\n",
       "            ).addTo(map_e47a3adb9f6102181a7bde97390a9b82);\n",
       "        \n",
       "    \n",
       "            var circle_marker_d764fed3bef028a43d497dcd4bb60034 = L.circleMarker(\n",
       "                [55.73330027340698, 37.44447774362254],\n",
       "                {&quot;bubblingMouseEvents&quot;: true, &quot;color&quot;: &quot;blue&quot;, &quot;dashArray&quot;: null, &quot;dashOffset&quot;: null, &quot;fill&quot;: true, &quot;fillColor&quot;: &quot;blue&quot;, &quot;fillOpacity&quot;: 0.2, &quot;fillRule&quot;: &quot;evenodd&quot;, &quot;lineCap&quot;: &quot;round&quot;, &quot;lineJoin&quot;: &quot;round&quot;, &quot;opacity&quot;: 1.0, &quot;radius&quot;: 3, &quot;stroke&quot;: true, &quot;weight&quot;: 3}\n",
       "            ).addTo(map_e47a3adb9f6102181a7bde97390a9b82);\n",
       "        \n",
       "    \n",
       "            var circle_marker_1d2c8fe8bc4908371be3e47612136b0e = L.circleMarker(\n",
       "                [53.52322959490549, 83.93439416197714],\n",
       "                {&quot;bubblingMouseEvents&quot;: true, &quot;color&quot;: &quot;blue&quot;, &quot;dashArray&quot;: null, &quot;dashOffset&quot;: null, &quot;fill&quot;: true, &quot;fillColor&quot;: &quot;blue&quot;, &quot;fillOpacity&quot;: 0.2, &quot;fillRule&quot;: &quot;evenodd&quot;, &quot;lineCap&quot;: &quot;round&quot;, &quot;lineJoin&quot;: &quot;round&quot;, &quot;opacity&quot;: 1.0, &quot;radius&quot;: 3, &quot;stroke&quot;: true, &quot;weight&quot;: 3}\n",
       "            ).addTo(map_e47a3adb9f6102181a7bde97390a9b82);\n",
       "        \n",
       "    \n",
       "            var circle_marker_48105d7104548564d5616c01086650e6 = L.circleMarker(\n",
       "                [55.87054080410626, 92.96920875708103],\n",
       "                {&quot;bubblingMouseEvents&quot;: true, &quot;color&quot;: &quot;blue&quot;, &quot;dashArray&quot;: null, &quot;dashOffset&quot;: null, &quot;fill&quot;: true, &quot;fillColor&quot;: &quot;blue&quot;, &quot;fillOpacity&quot;: 0.2, &quot;fillRule&quot;: &quot;evenodd&quot;, &quot;lineCap&quot;: &quot;round&quot;, &quot;lineJoin&quot;: &quot;round&quot;, &quot;opacity&quot;: 1.0, &quot;radius&quot;: 3, &quot;stroke&quot;: true, &quot;weight&quot;: 3}\n",
       "            ).addTo(map_e47a3adb9f6102181a7bde97390a9b82);\n",
       "        \n",
       "    \n",
       "            var circle_marker_c1270582a0d0cbe7c121252fac0e0291 = L.circleMarker(\n",
       "                [64.73309574575391, 40.42101372529497],\n",
       "                {&quot;bubblingMouseEvents&quot;: true, &quot;color&quot;: &quot;blue&quot;, &quot;dashArray&quot;: null, &quot;dashOffset&quot;: null, &quot;fill&quot;: true, &quot;fillColor&quot;: &quot;blue&quot;, &quot;fillOpacity&quot;: 0.2, &quot;fillRule&quot;: &quot;evenodd&quot;, &quot;lineCap&quot;: &quot;round&quot;, &quot;lineJoin&quot;: &quot;round&quot;, &quot;opacity&quot;: 1.0, &quot;radius&quot;: 3, &quot;stroke&quot;: true, &quot;weight&quot;: 3}\n",
       "            ).addTo(map_e47a3adb9f6102181a7bde97390a9b82);\n",
       "        \n",
       "    \n",
       "            var circle_marker_4674e00814d49f23ec483cf53b68daac = L.circleMarker(\n",
       "                [52.47631437204937, 39.46400594729495],\n",
       "                {&quot;bubblingMouseEvents&quot;: true, &quot;color&quot;: &quot;blue&quot;, &quot;dashArray&quot;: null, &quot;dashOffset&quot;: null, &quot;fill&quot;: true, &quot;fillColor&quot;: &quot;blue&quot;, &quot;fillOpacity&quot;: 0.2, &quot;fillRule&quot;: &quot;evenodd&quot;, &quot;lineCap&quot;: &quot;round&quot;, &quot;lineJoin&quot;: &quot;round&quot;, &quot;opacity&quot;: 1.0, &quot;radius&quot;: 3, &quot;stroke&quot;: true, &quot;weight&quot;: 3}\n",
       "            ).addTo(map_e47a3adb9f6102181a7bde97390a9b82);\n",
       "        \n",
       "    \n",
       "            var circle_marker_35b7fbae8e55d4b3c0f9a6ac323dd3ad = L.circleMarker(\n",
       "                [55.375059895748095, 85.97402343346035],\n",
       "                {&quot;bubblingMouseEvents&quot;: true, &quot;color&quot;: &quot;blue&quot;, &quot;dashArray&quot;: null, &quot;dashOffset&quot;: null, &quot;fill&quot;: true, &quot;fillColor&quot;: &quot;blue&quot;, &quot;fillOpacity&quot;: 0.2, &quot;fillRule&quot;: &quot;evenodd&quot;, &quot;lineCap&quot;: &quot;round&quot;, &quot;lineJoin&quot;: &quot;round&quot;, &quot;opacity&quot;: 1.0, &quot;radius&quot;: 3, &quot;stroke&quot;: true, &quot;weight&quot;: 3}\n",
       "            ).addTo(map_e47a3adb9f6102181a7bde97390a9b82);\n",
       "        \n",
       "    \n",
       "            var circle_marker_bf626616bbacd0809d2e49120a87969d = L.circleMarker(\n",
       "                [56.73803979393579, 60.7889133881294],\n",
       "                {&quot;bubblingMouseEvents&quot;: true, &quot;color&quot;: &quot;blue&quot;, &quot;dashArray&quot;: null, &quot;dashOffset&quot;: null, &quot;fill&quot;: true, &quot;fillColor&quot;: &quot;blue&quot;, &quot;fillOpacity&quot;: 0.2, &quot;fillRule&quot;: &quot;evenodd&quot;, &quot;lineCap&quot;: &quot;round&quot;, &quot;lineJoin&quot;: &quot;round&quot;, &quot;opacity&quot;: 1.0, &quot;radius&quot;: 3, &quot;stroke&quot;: true, &quot;weight&quot;: 3}\n",
       "            ).addTo(map_e47a3adb9f6102181a7bde97390a9b82);\n",
       "        \n",
       "    \n",
       "            var circle_marker_2385a1e6ce291cc3808e3d761b2eecca = L.circleMarker(\n",
       "                [55.60878473737462, 49.28421118813425],\n",
       "                {&quot;bubblingMouseEvents&quot;: true, &quot;color&quot;: &quot;blue&quot;, &quot;dashArray&quot;: null, &quot;dashOffset&quot;: null, &quot;fill&quot;: true, &quot;fillColor&quot;: &quot;blue&quot;, &quot;fillOpacity&quot;: 0.2, &quot;fillRule&quot;: &quot;evenodd&quot;, &quot;lineCap&quot;: &quot;round&quot;, &quot;lineJoin&quot;: &quot;round&quot;, &quot;opacity&quot;: 1.0, &quot;radius&quot;: 3, &quot;stroke&quot;: true, &quot;weight&quot;: 3}\n",
       "            ).addTo(map_e47a3adb9f6102181a7bde97390a9b82);\n",
       "        \n",
       "    \n",
       "            var circle_marker_9f8c33fea9428880ecfccb2b012071bc = L.circleMarker(\n",
       "                [58.56477138597149, 49.639548358546215],\n",
       "                {&quot;bubblingMouseEvents&quot;: true, &quot;color&quot;: &quot;blue&quot;, &quot;dashArray&quot;: null, &quot;dashOffset&quot;: null, &quot;fill&quot;: true, &quot;fillColor&quot;: &quot;blue&quot;, &quot;fillOpacity&quot;: 0.2, &quot;fillRule&quot;: &quot;evenodd&quot;, &quot;lineCap&quot;: &quot;round&quot;, &quot;lineJoin&quot;: &quot;round&quot;, &quot;opacity&quot;: 1.0, &quot;radius&quot;: 3, &quot;stroke&quot;: true, &quot;weight&quot;: 3}\n",
       "            ).addTo(map_e47a3adb9f6102181a7bde97390a9b82);\n",
       "        \n",
       "    \n",
       "            var circle_marker_b3eb41fdf6476ff3ad56b5ed06e44d8d = L.circleMarker(\n",
       "                [55.78676356565343, 37.56331870930672],\n",
       "                {&quot;bubblingMouseEvents&quot;: true, &quot;color&quot;: &quot;blue&quot;, &quot;dashArray&quot;: null, &quot;dashOffset&quot;: null, &quot;fill&quot;: true, &quot;fillColor&quot;: &quot;blue&quot;, &quot;fillOpacity&quot;: 0.2, &quot;fillRule&quot;: &quot;evenodd&quot;, &quot;lineCap&quot;: &quot;round&quot;, &quot;lineJoin&quot;: &quot;round&quot;, &quot;opacity&quot;: 1.0, &quot;radius&quot;: 3, &quot;stroke&quot;: true, &quot;weight&quot;: 3}\n",
       "            ).addTo(map_e47a3adb9f6102181a7bde97390a9b82);\n",
       "        \n",
       "    \n",
       "            var circle_marker_36619f90541efad5898d9ca6edc25fa8 = L.circleMarker(\n",
       "                [55.096764613296614, 82.85324714233116],\n",
       "                {&quot;bubblingMouseEvents&quot;: true, &quot;color&quot;: &quot;blue&quot;, &quot;dashArray&quot;: null, &quot;dashOffset&quot;: null, &quot;fill&quot;: true, &quot;fillColor&quot;: &quot;blue&quot;, &quot;fillOpacity&quot;: 0.2, &quot;fillRule&quot;: &quot;evenodd&quot;, &quot;lineCap&quot;: &quot;round&quot;, &quot;lineJoin&quot;: &quot;round&quot;, &quot;opacity&quot;: 1.0, &quot;radius&quot;: 3, &quot;stroke&quot;: true, &quot;weight&quot;: 3}\n",
       "            ).addTo(map_e47a3adb9f6102181a7bde97390a9b82);\n",
       "        \n",
       "    \n",
       "            var circle_marker_f1596b97735790512284876d5531867a = L.circleMarker(\n",
       "                [58.1446830483074, 56.10168742209772],\n",
       "                {&quot;bubblingMouseEvents&quot;: true, &quot;color&quot;: &quot;red&quot;, &quot;dashArray&quot;: null, &quot;dashOffset&quot;: null, &quot;fill&quot;: true, &quot;fillColor&quot;: &quot;red&quot;, &quot;fillOpacity&quot;: 0.2, &quot;fillRule&quot;: &quot;evenodd&quot;, &quot;lineCap&quot;: &quot;round&quot;, &quot;lineJoin&quot;: &quot;round&quot;, &quot;opacity&quot;: 1.0, &quot;radius&quot;: 3, &quot;stroke&quot;: true, &quot;weight&quot;: 3}\n",
       "            ).addTo(map_e47a3adb9f6102181a7bde97390a9b82);\n",
       "        \n",
       "    \n",
       "            var circle_marker_4b963d47547e2a7d8d8405e03aa7692f = L.circleMarker(\n",
       "                [52.007213344398245, 107.77078894250839],\n",
       "                {&quot;bubblingMouseEvents&quot;: true, &quot;color&quot;: &quot;blue&quot;, &quot;dashArray&quot;: null, &quot;dashOffset&quot;: null, &quot;fill&quot;: true, &quot;fillColor&quot;: &quot;blue&quot;, &quot;fillOpacity&quot;: 0.2, &quot;fillRule&quot;: &quot;evenodd&quot;, &quot;lineCap&quot;: &quot;round&quot;, &quot;lineJoin&quot;: &quot;round&quot;, &quot;opacity&quot;: 1.0, &quot;radius&quot;: 3, &quot;stroke&quot;: true, &quot;weight&quot;: 3}\n",
       "            ).addTo(map_e47a3adb9f6102181a7bde97390a9b82);\n",
       "        \n",
       "    \n",
       "            var circle_marker_8a035e409ee9158f8175d2db5a819777 = L.circleMarker(\n",
       "                [57.04599664733008, 65.56132111685513],\n",
       "                {&quot;bubblingMouseEvents&quot;: true, &quot;color&quot;: &quot;blue&quot;, &quot;dashArray&quot;: null, &quot;dashOffset&quot;: null, &quot;fill&quot;: true, &quot;fillColor&quot;: &quot;blue&quot;, &quot;fillOpacity&quot;: 0.2, &quot;fillRule&quot;: &quot;evenodd&quot;, &quot;lineCap&quot;: &quot;round&quot;, &quot;lineJoin&quot;: &quot;round&quot;, &quot;opacity&quot;: 1.0, &quot;radius&quot;: 3, &quot;stroke&quot;: true, &quot;weight&quot;: 3}\n",
       "            ).addTo(map_e47a3adb9f6102181a7bde97390a9b82);\n",
       "        \n",
       "    \n",
       "            var circle_marker_cd39fb3c8177fd62868aa727b931ced3 = L.circleMarker(\n",
       "                [59.78300741817009, 30.378607203928826],\n",
       "                {&quot;bubblingMouseEvents&quot;: true, &quot;color&quot;: &quot;blue&quot;, &quot;dashArray&quot;: null, &quot;dashOffset&quot;: null, &quot;fill&quot;: true, &quot;fillColor&quot;: &quot;blue&quot;, &quot;fillOpacity&quot;: 0.2, &quot;fillRule&quot;: &quot;evenodd&quot;, &quot;lineCap&quot;: &quot;round&quot;, &quot;lineJoin&quot;: &quot;round&quot;, &quot;opacity&quot;: 1.0, &quot;radius&quot;: 3, &quot;stroke&quot;: true, &quot;weight&quot;: 3}\n",
       "            ).addTo(map_e47a3adb9f6102181a7bde97390a9b82);\n",
       "        \n",
       "    \n",
       "            var circle_marker_987874e7b274cd1007ea0de5900dfe94 = L.circleMarker(\n",
       "                [61.96439175290725, 129.67144288851176],\n",
       "                {&quot;bubblingMouseEvents&quot;: true, &quot;color&quot;: &quot;blue&quot;, &quot;dashArray&quot;: null, &quot;dashOffset&quot;: null, &quot;fill&quot;: true, &quot;fillColor&quot;: &quot;blue&quot;, &quot;fillOpacity&quot;: 0.2, &quot;fillRule&quot;: &quot;evenodd&quot;, &quot;lineCap&quot;: &quot;round&quot;, &quot;lineJoin&quot;: &quot;round&quot;, &quot;opacity&quot;: 1.0, &quot;radius&quot;: 3, &quot;stroke&quot;: true, &quot;weight&quot;: 3}\n",
       "            ).addTo(map_e47a3adb9f6102181a7bde97390a9b82);\n",
       "        \n",
       "    \n",
       "            var circle_marker_8ba2c99bac558c0ac730d9bbb355b707 = L.circleMarker(\n",
       "                [53.389527984704, 49.46709490216901],\n",
       "                {&quot;bubblingMouseEvents&quot;: true, &quot;color&quot;: &quot;red&quot;, &quot;dashArray&quot;: null, &quot;dashOffset&quot;: null, &quot;fill&quot;: true, &quot;fillColor&quot;: &quot;red&quot;, &quot;fillOpacity&quot;: 0.2, &quot;fillRule&quot;: &quot;evenodd&quot;, &quot;lineCap&quot;: &quot;round&quot;, &quot;lineJoin&quot;: &quot;round&quot;, &quot;opacity&quot;: 1.0, &quot;radius&quot;: 3, &quot;stroke&quot;: true, &quot;weight&quot;: 3}\n",
       "            ).addTo(map_e47a3adb9f6102181a7bde97390a9b82);\n",
       "        \n",
       "    \n",
       "            var circle_marker_a674b232cd0b6ae2a2986f4f7e4e1f7e = L.circleMarker(\n",
       "                [69.00416234057765, 33.15592956320942],\n",
       "                {&quot;bubblingMouseEvents&quot;: true, &quot;color&quot;: &quot;blue&quot;, &quot;dashArray&quot;: null, &quot;dashOffset&quot;: null, &quot;fill&quot;: true, &quot;fillColor&quot;: &quot;blue&quot;, &quot;fillOpacity&quot;: 0.2, &quot;fillRule&quot;: &quot;evenodd&quot;, &quot;lineCap&quot;: &quot;round&quot;, &quot;lineJoin&quot;: &quot;round&quot;, &quot;opacity&quot;: 1.0, &quot;radius&quot;: 3, &quot;stroke&quot;: true, &quot;weight&quot;: 3}\n",
       "            ).addTo(map_e47a3adb9f6102181a7bde97390a9b82);\n",
       "        \n",
       "    \n",
       "            var circle_marker_583ec9b3e453bd385076f6fe71a677f7 = L.circleMarker(\n",
       "                [61.3643991696835, 73.35545612172074],\n",
       "                {&quot;bubblingMouseEvents&quot;: true, &quot;color&quot;: &quot;red&quot;, &quot;dashArray&quot;: null, &quot;dashOffset&quot;: null, &quot;fill&quot;: true, &quot;fillColor&quot;: &quot;red&quot;, &quot;fillOpacity&quot;: 0.2, &quot;fillRule&quot;: &quot;evenodd&quot;, &quot;lineCap&quot;: &quot;round&quot;, &quot;lineJoin&quot;: &quot;round&quot;, &quot;opacity&quot;: 1.0, &quot;radius&quot;: 3, &quot;stroke&quot;: true, &quot;weight&quot;: 3}\n",
       "            ).addTo(map_e47a3adb9f6102181a7bde97390a9b82);\n",
       "        \n",
       "    \n",
       "            var circle_marker_d5c7ccf174ef81365e5878154f35abdf = L.circleMarker(\n",
       "                [53.3165170611374, 44.87181345009971],\n",
       "                {&quot;bubblingMouseEvents&quot;: true, &quot;color&quot;: &quot;red&quot;, &quot;dashArray&quot;: null, &quot;dashOffset&quot;: null, &quot;fill&quot;: true, &quot;fillColor&quot;: &quot;red&quot;, &quot;fillOpacity&quot;: 0.2, &quot;fillRule&quot;: &quot;evenodd&quot;, &quot;lineCap&quot;: &quot;round&quot;, &quot;lineJoin&quot;: &quot;round&quot;, &quot;opacity&quot;: 1.0, &quot;radius&quot;: 3, &quot;stroke&quot;: true, &quot;weight&quot;: 3}\n",
       "            ).addTo(map_e47a3adb9f6102181a7bde97390a9b82);\n",
       "        \n",
       "    \n",
       "            var circle_marker_b9a9c64e1c3db7d22325912cbe844e70 = L.circleMarker(\n",
       "                [68.89698996542279, 32.955745087058446],\n",
       "                {&quot;bubblingMouseEvents&quot;: true, &quot;color&quot;: &quot;red&quot;, &quot;dashArray&quot;: null, &quot;dashOffset&quot;: null, &quot;fill&quot;: true, &quot;fillColor&quot;: &quot;red&quot;, &quot;fillOpacity&quot;: 0.2, &quot;fillRule&quot;: &quot;evenodd&quot;, &quot;lineCap&quot;: &quot;round&quot;, &quot;lineJoin&quot;: &quot;round&quot;, &quot;opacity&quot;: 1.0, &quot;radius&quot;: 3, &quot;stroke&quot;: true, &quot;weight&quot;: 3}\n",
       "            ).addTo(map_e47a3adb9f6102181a7bde97390a9b82);\n",
       "        \n",
       "    \n",
       "            var circle_marker_68bfc540f13906c93e7d255cc33c563e = L.circleMarker(\n",
       "                [54.23945027006165, 48.3867775238006],\n",
       "                {&quot;bubblingMouseEvents&quot;: true, &quot;color&quot;: &quot;blue&quot;, &quot;dashArray&quot;: null, &quot;dashOffset&quot;: null, &quot;fill&quot;: true, &quot;fillColor&quot;: &quot;blue&quot;, &quot;fillOpacity&quot;: 0.2, &quot;fillRule&quot;: &quot;evenodd&quot;, &quot;lineCap&quot;: &quot;round&quot;, &quot;lineJoin&quot;: &quot;round&quot;, &quot;opacity&quot;: 1.0, &quot;radius&quot;: 3, &quot;stroke&quot;: true, &quot;weight&quot;: 3}\n",
       "            ).addTo(map_e47a3adb9f6102181a7bde97390a9b82);\n",
       "        \n",
       "    \n",
       "            var circle_marker_2d3ea216076cca41d296a6fccac371d0 = L.circleMarker(\n",
       "                [48.86244043571366, 44.70972391474794],\n",
       "                {&quot;bubblingMouseEvents&quot;: true, &quot;color&quot;: &quot;blue&quot;, &quot;dashArray&quot;: null, &quot;dashOffset&quot;: null, &quot;fill&quot;: true, &quot;fillColor&quot;: &quot;blue&quot;, &quot;fillOpacity&quot;: 0.2, &quot;fillRule&quot;: &quot;evenodd&quot;, &quot;lineCap&quot;: &quot;round&quot;, &quot;lineJoin&quot;: &quot;round&quot;, &quot;opacity&quot;: 1.0, &quot;radius&quot;: 3, &quot;stroke&quot;: true, &quot;weight&quot;: 3}\n",
       "            ).addTo(map_e47a3adb9f6102181a7bde97390a9b82);\n",
       "        \n",
       "    \n",
       "            var circle_marker_526e3aa8156b64b5235b8ce4b1d3eca3 = L.circleMarker(\n",
       "                [45.16534736379346, 41.78975507636724],\n",
       "                {&quot;bubblingMouseEvents&quot;: true, &quot;color&quot;: &quot;blue&quot;, &quot;dashArray&quot;: null, &quot;dashOffset&quot;: null, &quot;fill&quot;: true, &quot;fillColor&quot;: &quot;blue&quot;, &quot;fillOpacity&quot;: 0.2, &quot;fillRule&quot;: &quot;evenodd&quot;, &quot;lineCap&quot;: &quot;round&quot;, &quot;lineJoin&quot;: &quot;round&quot;, &quot;opacity&quot;: 1.0, &quot;radius&quot;: 3, &quot;stroke&quot;: true, &quot;weight&quot;: 3}\n",
       "            ).addTo(map_e47a3adb9f6102181a7bde97390a9b82);\n",
       "        \n",
       "    \n",
       "            var circle_marker_dd9b4f3e2c9a10905625946dda1d6117 = L.circleMarker(\n",
       "                [55.818022241734496, 52.59884527718568],\n",
       "                {&quot;bubblingMouseEvents&quot;: true, &quot;color&quot;: &quot;red&quot;, &quot;dashArray&quot;: null, &quot;dashOffset&quot;: null, &quot;fill&quot;: true, &quot;fillColor&quot;: &quot;red&quot;, &quot;fillOpacity&quot;: 0.2, &quot;fillRule&quot;: &quot;evenodd&quot;, &quot;lineCap&quot;: &quot;round&quot;, &quot;lineJoin&quot;: &quot;round&quot;, &quot;opacity&quot;: 1.0, &quot;radius&quot;: 3, &quot;stroke&quot;: true, &quot;weight&quot;: 3}\n",
       "            ).addTo(map_e47a3adb9f6102181a7bde97390a9b82);\n",
       "        \n",
       "    \n",
       "            var circle_marker_02a1f5a39d7a2c99dd067f7076cf8c72 = L.circleMarker(\n",
       "                [55.79895195563657, 37.79143971610724],\n",
       "                {&quot;bubblingMouseEvents&quot;: true, &quot;color&quot;: &quot;blue&quot;, &quot;dashArray&quot;: null, &quot;dashOffset&quot;: null, &quot;fill&quot;: true, &quot;fillColor&quot;: &quot;blue&quot;, &quot;fillOpacity&quot;: 0.2, &quot;fillRule&quot;: &quot;evenodd&quot;, &quot;lineCap&quot;: &quot;round&quot;, &quot;lineJoin&quot;: &quot;round&quot;, &quot;opacity&quot;: 1.0, &quot;radius&quot;: 3, &quot;stroke&quot;: true, &quot;weight&quot;: 3}\n",
       "            ).addTo(map_e47a3adb9f6102181a7bde97390a9b82);\n",
       "        \n",
       "    \n",
       "            var circle_marker_d1795106e4a8ee679cb6557db2b40945 = L.circleMarker(\n",
       "                [53.59260968779502, 87.14359166016897],\n",
       "                {&quot;bubblingMouseEvents&quot;: true, &quot;color&quot;: &quot;blue&quot;, &quot;dashArray&quot;: null, &quot;dashOffset&quot;: null, &quot;fill&quot;: true, &quot;fillColor&quot;: &quot;blue&quot;, &quot;fillOpacity&quot;: 0.2, &quot;fillRule&quot;: &quot;evenodd&quot;, &quot;lineCap&quot;: &quot;round&quot;, &quot;lineJoin&quot;: &quot;round&quot;, &quot;opacity&quot;: 1.0, &quot;radius&quot;: 3, &quot;stroke&quot;: true, &quot;weight&quot;: 3}\n",
       "            ).addTo(map_e47a3adb9f6102181a7bde97390a9b82);\n",
       "        \n",
       "    \n",
       "            var circle_marker_1e1091909a66e84fcdfd2b28c87ea767 = L.circleMarker(\n",
       "                [56.11040939455711, 92.78650631874972],\n",
       "                {&quot;bubblingMouseEvents&quot;: true, &quot;color&quot;: &quot;blue&quot;, &quot;dashArray&quot;: null, &quot;dashOffset&quot;: null, &quot;fill&quot;: true, &quot;fillColor&quot;: &quot;blue&quot;, &quot;fillOpacity&quot;: 0.2, &quot;fillRule&quot;: &quot;evenodd&quot;, &quot;lineCap&quot;: &quot;round&quot;, &quot;lineJoin&quot;: &quot;round&quot;, &quot;opacity&quot;: 1.0, &quot;radius&quot;: 3, &quot;stroke&quot;: true, &quot;weight&quot;: 3}\n",
       "            ).addTo(map_e47a3adb9f6102181a7bde97390a9b82);\n",
       "        \n",
       "    \n",
       "            var circle_marker_225775a82458f2f28ae0f823c6628ef8 = L.circleMarker(\n",
       "                [54.29302528560973, 48.43727372127958],\n",
       "                {&quot;bubblingMouseEvents&quot;: true, &quot;color&quot;: &quot;blue&quot;, &quot;dashArray&quot;: null, &quot;dashOffset&quot;: null, &quot;fill&quot;: true, &quot;fillColor&quot;: &quot;blue&quot;, &quot;fillOpacity&quot;: 0.2, &quot;fillRule&quot;: &quot;evenodd&quot;, &quot;lineCap&quot;: &quot;round&quot;, &quot;lineJoin&quot;: &quot;round&quot;, &quot;opacity&quot;: 1.0, &quot;radius&quot;: 3, &quot;stroke&quot;: true, &quot;weight&quot;: 3}\n",
       "            ).addTo(map_e47a3adb9f6102181a7bde97390a9b82);\n",
       "        \n",
       "    \n",
       "            var circle_marker_f3d1bde8bf2095496d0a87c92ce35cec = L.circleMarker(\n",
       "                [55.76905099318964, 52.28229750762561],\n",
       "                {&quot;bubblingMouseEvents&quot;: true, &quot;color&quot;: &quot;blue&quot;, &quot;dashArray&quot;: null, &quot;dashOffset&quot;: null, &quot;fill&quot;: true, &quot;fillColor&quot;: &quot;blue&quot;, &quot;fillOpacity&quot;: 0.2, &quot;fillRule&quot;: &quot;evenodd&quot;, &quot;lineCap&quot;: &quot;round&quot;, &quot;lineJoin&quot;: &quot;round&quot;, &quot;opacity&quot;: 1.0, &quot;radius&quot;: 3, &quot;stroke&quot;: true, &quot;weight&quot;: 3}\n",
       "            ).addTo(map_e47a3adb9f6102181a7bde97390a9b82);\n",
       "        \n",
       "    \n",
       "            var circle_marker_f0069483c5c61a8b3fc8d4c2427ea208 = L.circleMarker(\n",
       "                [55.82026827953538, 37.62203974607728],\n",
       "                {&quot;bubblingMouseEvents&quot;: true, &quot;color&quot;: &quot;blue&quot;, &quot;dashArray&quot;: null, &quot;dashOffset&quot;: null, &quot;fill&quot;: true, &quot;fillColor&quot;: &quot;blue&quot;, &quot;fillOpacity&quot;: 0.2, &quot;fillRule&quot;: &quot;evenodd&quot;, &quot;lineCap&quot;: &quot;round&quot;, &quot;lineJoin&quot;: &quot;round&quot;, &quot;opacity&quot;: 1.0, &quot;radius&quot;: 3, &quot;stroke&quot;: true, &quot;weight&quot;: 3}\n",
       "            ).addTo(map_e47a3adb9f6102181a7bde97390a9b82);\n",
       "        \n",
       "    \n",
       "            var circle_marker_a4c63ef5fed7eab23c307efa0ac7e521 = L.circleMarker(\n",
       "                [55.83102285707662, 37.487832832090895],\n",
       "                {&quot;bubblingMouseEvents&quot;: true, &quot;color&quot;: &quot;blue&quot;, &quot;dashArray&quot;: null, &quot;dashOffset&quot;: null, &quot;fill&quot;: true, &quot;fillColor&quot;: &quot;blue&quot;, &quot;fillOpacity&quot;: 0.2, &quot;fillRule&quot;: &quot;evenodd&quot;, &quot;lineCap&quot;: &quot;round&quot;, &quot;lineJoin&quot;: &quot;round&quot;, &quot;opacity&quot;: 1.0, &quot;radius&quot;: 3, &quot;stroke&quot;: true, &quot;weight&quot;: 3}\n",
       "            ).addTo(map_e47a3adb9f6102181a7bde97390a9b82);\n",
       "        \n",
       "    \n",
       "            var circle_marker_776739737cb2d03a2c5417d923fa737e = L.circleMarker(\n",
       "                [53.506125269355266, 58.783773561353634],\n",
       "                {&quot;bubblingMouseEvents&quot;: true, &quot;color&quot;: &quot;blue&quot;, &quot;dashArray&quot;: null, &quot;dashOffset&quot;: null, &quot;fill&quot;: true, &quot;fillColor&quot;: &quot;blue&quot;, &quot;fillOpacity&quot;: 0.2, &quot;fillRule&quot;: &quot;evenodd&quot;, &quot;lineCap&quot;: &quot;round&quot;, &quot;lineJoin&quot;: &quot;round&quot;, &quot;opacity&quot;: 1.0, &quot;radius&quot;: 3, &quot;stroke&quot;: true, &quot;weight&quot;: 3}\n",
       "            ).addTo(map_e47a3adb9f6102181a7bde97390a9b82);\n",
       "        \n",
       "    \n",
       "            var circle_marker_b3e7fa8ff18d4e77dade9ca7f90b21b1 = L.circleMarker(\n",
       "                [53.14210366234959, 49.9240729448469],\n",
       "                {&quot;bubblingMouseEvents&quot;: true, &quot;color&quot;: &quot;red&quot;, &quot;dashArray&quot;: null, &quot;dashOffset&quot;: null, &quot;fill&quot;: true, &quot;fillColor&quot;: &quot;red&quot;, &quot;fillOpacity&quot;: 0.2, &quot;fillRule&quot;: &quot;evenodd&quot;, &quot;lineCap&quot;: &quot;round&quot;, &quot;lineJoin&quot;: &quot;round&quot;, &quot;opacity&quot;: 1.0, &quot;radius&quot;: 3, &quot;stroke&quot;: true, &quot;weight&quot;: 3}\n",
       "            ).addTo(map_e47a3adb9f6102181a7bde97390a9b82);\n",
       "        \n",
       "    \n",
       "            var circle_marker_0206ea1170e342047f649a50296482e7 = L.circleMarker(\n",
       "                [56.34291949763858, 44.07052373857677],\n",
       "                {&quot;bubblingMouseEvents&quot;: true, &quot;color&quot;: &quot;red&quot;, &quot;dashArray&quot;: null, &quot;dashOffset&quot;: null, &quot;fill&quot;: true, &quot;fillColor&quot;: &quot;red&quot;, &quot;fillOpacity&quot;: 0.2, &quot;fillRule&quot;: &quot;evenodd&quot;, &quot;lineCap&quot;: &quot;round&quot;, &quot;lineJoin&quot;: &quot;round&quot;, &quot;opacity&quot;: 1.0, &quot;radius&quot;: 3, &quot;stroke&quot;: true, &quot;weight&quot;: 3}\n",
       "            ).addTo(map_e47a3adb9f6102181a7bde97390a9b82);\n",
       "        \n",
       "    \n",
       "            var circle_marker_9b42a3ba745d732d8a59e5b3a6f245ab = L.circleMarker(\n",
       "                [55.55269771780968, 86.26028583198728],\n",
       "                {&quot;bubblingMouseEvents&quot;: true, &quot;color&quot;: &quot;red&quot;, &quot;dashArray&quot;: null, &quot;dashOffset&quot;: null, &quot;fill&quot;: true, &quot;fillColor&quot;: &quot;red&quot;, &quot;fillOpacity&quot;: 0.2, &quot;fillRule&quot;: &quot;evenodd&quot;, &quot;lineCap&quot;: &quot;round&quot;, &quot;lineJoin&quot;: &quot;round&quot;, &quot;opacity&quot;: 1.0, &quot;radius&quot;: 3, &quot;stroke&quot;: true, &quot;weight&quot;: 3}\n",
       "            ).addTo(map_e47a3adb9f6102181a7bde97390a9b82);\n",
       "        \n",
       "    \n",
       "            var circle_marker_e6b86a979a63a4e0182166f25940c349 = L.circleMarker(\n",
       "                [57.94178700271102, 40.98504324129281],\n",
       "                {&quot;bubblingMouseEvents&quot;: true, &quot;color&quot;: &quot;red&quot;, &quot;dashArray&quot;: null, &quot;dashOffset&quot;: null, &quot;fill&quot;: true, &quot;fillColor&quot;: &quot;red&quot;, &quot;fillOpacity&quot;: 0.2, &quot;fillRule&quot;: &quot;evenodd&quot;, &quot;lineCap&quot;: &quot;round&quot;, &quot;lineJoin&quot;: &quot;round&quot;, &quot;opacity&quot;: 1.0, &quot;radius&quot;: 3, &quot;stroke&quot;: true, &quot;weight&quot;: 3}\n",
       "            ).addTo(map_e47a3adb9f6102181a7bde97390a9b82);\n",
       "        \n",
       "    \n",
       "            var circle_marker_f95af1a9152478894c605ae2e978e3c0 = L.circleMarker(\n",
       "                [43.44664185963828, 39.88258633142535],\n",
       "                {&quot;bubblingMouseEvents&quot;: true, &quot;color&quot;: &quot;blue&quot;, &quot;dashArray&quot;: null, &quot;dashOffset&quot;: null, &quot;fill&quot;: true, &quot;fillColor&quot;: &quot;blue&quot;, &quot;fillOpacity&quot;: 0.2, &quot;fillRule&quot;: &quot;evenodd&quot;, &quot;lineCap&quot;: &quot;round&quot;, &quot;lineJoin&quot;: &quot;round&quot;, &quot;opacity&quot;: 1.0, &quot;radius&quot;: 3, &quot;stroke&quot;: true, &quot;weight&quot;: 3}\n",
       "            ).addTo(map_e47a3adb9f6102181a7bde97390a9b82);\n",
       "        \n",
       "    \n",
       "            var circle_marker_bf525214ce7987530fe1f6fc97e86bac = L.circleMarker(\n",
       "                [55.10551972845351, 83.0559036138346],\n",
       "                {&quot;bubblingMouseEvents&quot;: true, &quot;color&quot;: &quot;blue&quot;, &quot;dashArray&quot;: null, &quot;dashOffset&quot;: null, &quot;fill&quot;: true, &quot;fillColor&quot;: &quot;blue&quot;, &quot;fillOpacity&quot;: 0.2, &quot;fillRule&quot;: &quot;evenodd&quot;, &quot;lineCap&quot;: &quot;round&quot;, &quot;lineJoin&quot;: &quot;round&quot;, &quot;opacity&quot;: 1.0, &quot;radius&quot;: 3, &quot;stroke&quot;: true, &quot;weight&quot;: 3}\n",
       "            ).addTo(map_e47a3adb9f6102181a7bde97390a9b82);\n",
       "        \n",
       "    \n",
       "            var circle_marker_3ec5345397e3d1dbff991e03e8d0847b = L.circleMarker(\n",
       "                [55.626875639084425, 37.66798003446987],\n",
       "                {&quot;bubblingMouseEvents&quot;: true, &quot;color&quot;: &quot;blue&quot;, &quot;dashArray&quot;: null, &quot;dashOffset&quot;: null, &quot;fill&quot;: true, &quot;fillColor&quot;: &quot;blue&quot;, &quot;fillOpacity&quot;: 0.2, &quot;fillRule&quot;: &quot;evenodd&quot;, &quot;lineCap&quot;: &quot;round&quot;, &quot;lineJoin&quot;: &quot;round&quot;, &quot;opacity&quot;: 1.0, &quot;radius&quot;: 3, &quot;stroke&quot;: true, &quot;weight&quot;: 3}\n",
       "            ).addTo(map_e47a3adb9f6102181a7bde97390a9b82);\n",
       "        \n",
       "    \n",
       "            var circle_marker_4b0717f26f116364bf3e147f68971dee = L.circleMarker(\n",
       "                [59.83464605876889, 30.233671584441524],\n",
       "                {&quot;bubblingMouseEvents&quot;: true, &quot;color&quot;: &quot;blue&quot;, &quot;dashArray&quot;: null, &quot;dashOffset&quot;: null, &quot;fill&quot;: true, &quot;fillColor&quot;: &quot;blue&quot;, &quot;fillOpacity&quot;: 0.2, &quot;fillRule&quot;: &quot;evenodd&quot;, &quot;lineCap&quot;: &quot;round&quot;, &quot;lineJoin&quot;: &quot;round&quot;, &quot;opacity&quot;: 1.0, &quot;radius&quot;: 3, &quot;stroke&quot;: true, &quot;weight&quot;: 3}\n",
       "            ).addTo(map_e47a3adb9f6102181a7bde97390a9b82);\n",
       "        \n",
       "    \n",
       "            var circle_marker_65ff39072485003a0cfdf946452944b8 = L.circleMarker(\n",
       "                [55.86311939924884, 92.76896659892164],\n",
       "                {&quot;bubblingMouseEvents&quot;: true, &quot;color&quot;: &quot;blue&quot;, &quot;dashArray&quot;: null, &quot;dashOffset&quot;: null, &quot;fill&quot;: true, &quot;fillColor&quot;: &quot;blue&quot;, &quot;fillOpacity&quot;: 0.2, &quot;fillRule&quot;: &quot;evenodd&quot;, &quot;lineCap&quot;: &quot;round&quot;, &quot;lineJoin&quot;: &quot;round&quot;, &quot;opacity&quot;: 1.0, &quot;radius&quot;: 3, &quot;stroke&quot;: true, &quot;weight&quot;: 3}\n",
       "            ).addTo(map_e47a3adb9f6102181a7bde97390a9b82);\n",
       "        \n",
       "    \n",
       "            var circle_marker_4c1b2251e499c34baa894cb052ca1822 = L.circleMarker(\n",
       "                [60.03535553431626, 30.409710491408216],\n",
       "                {&quot;bubblingMouseEvents&quot;: true, &quot;color&quot;: &quot;blue&quot;, &quot;dashArray&quot;: null, &quot;dashOffset&quot;: null, &quot;fill&quot;: true, &quot;fillColor&quot;: &quot;blue&quot;, &quot;fillOpacity&quot;: 0.2, &quot;fillRule&quot;: &quot;evenodd&quot;, &quot;lineCap&quot;: &quot;round&quot;, &quot;lineJoin&quot;: &quot;round&quot;, &quot;opacity&quot;: 1.0, &quot;radius&quot;: 3, &quot;stroke&quot;: true, &quot;weight&quot;: 3}\n",
       "            ).addTo(map_e47a3adb9f6102181a7bde97390a9b82);\n",
       "        \n",
       "    \n",
       "            var circle_marker_a6d9d057fcfe862ea2e0dc126f727dd9 = L.circleMarker(\n",
       "                [55.70143081219913, 37.49370183370975],\n",
       "                {&quot;bubblingMouseEvents&quot;: true, &quot;color&quot;: &quot;blue&quot;, &quot;dashArray&quot;: null, &quot;dashOffset&quot;: null, &quot;fill&quot;: true, &quot;fillColor&quot;: &quot;blue&quot;, &quot;fillOpacity&quot;: 0.2, &quot;fillRule&quot;: &quot;evenodd&quot;, &quot;lineCap&quot;: &quot;round&quot;, &quot;lineJoin&quot;: &quot;round&quot;, &quot;opacity&quot;: 1.0, &quot;radius&quot;: 3, &quot;stroke&quot;: true, &quot;weight&quot;: 3}\n",
       "            ).addTo(map_e47a3adb9f6102181a7bde97390a9b82);\n",
       "        \n",
       "    \n",
       "            var circle_marker_27f88a28e9c93671a8ff5e84dacadd40 = L.circleMarker(\n",
       "                [48.632792176189994, 44.49015787225726],\n",
       "                {&quot;bubblingMouseEvents&quot;: true, &quot;color&quot;: &quot;blue&quot;, &quot;dashArray&quot;: null, &quot;dashOffset&quot;: null, &quot;fill&quot;: true, &quot;fillColor&quot;: &quot;blue&quot;, &quot;fillOpacity&quot;: 0.2, &quot;fillRule&quot;: &quot;evenodd&quot;, &quot;lineCap&quot;: &quot;round&quot;, &quot;lineJoin&quot;: &quot;round&quot;, &quot;opacity&quot;: 1.0, &quot;radius&quot;: 3, &quot;stroke&quot;: true, &quot;weight&quot;: 3}\n",
       "            ).addTo(map_e47a3adb9f6102181a7bde97390a9b82);\n",
       "        \n",
       "    \n",
       "            var circle_marker_b9bc0eb3f0a0e9531f84806af902bb7e = L.circleMarker(\n",
       "                [54.96807331781165, 82.80450245990319],\n",
       "                {&quot;bubblingMouseEvents&quot;: true, &quot;color&quot;: &quot;blue&quot;, &quot;dashArray&quot;: null, &quot;dashOffset&quot;: null, &quot;fill&quot;: true, &quot;fillColor&quot;: &quot;blue&quot;, &quot;fillOpacity&quot;: 0.2, &quot;fillRule&quot;: &quot;evenodd&quot;, &quot;lineCap&quot;: &quot;round&quot;, &quot;lineJoin&quot;: &quot;round&quot;, &quot;opacity&quot;: 1.0, &quot;radius&quot;: 3, &quot;stroke&quot;: true, &quot;weight&quot;: 3}\n",
       "            ).addTo(map_e47a3adb9f6102181a7bde97390a9b82);\n",
       "        \n",
       "    \n",
       "            var circle_marker_ab05919ab2c78dfadacbc4a20699abca = L.circleMarker(\n",
       "                [55.89191444267752, 37.59494786377178],\n",
       "                {&quot;bubblingMouseEvents&quot;: true, &quot;color&quot;: &quot;blue&quot;, &quot;dashArray&quot;: null, &quot;dashOffset&quot;: null, &quot;fill&quot;: true, &quot;fillColor&quot;: &quot;blue&quot;, &quot;fillOpacity&quot;: 0.2, &quot;fillRule&quot;: &quot;evenodd&quot;, &quot;lineCap&quot;: &quot;round&quot;, &quot;lineJoin&quot;: &quot;round&quot;, &quot;opacity&quot;: 1.0, &quot;radius&quot;: 3, &quot;stroke&quot;: true, &quot;weight&quot;: 3}\n",
       "            ).addTo(map_e47a3adb9f6102181a7bde97390a9b82);\n",
       "        \n",
       "    \n",
       "            var circle_marker_8b3553da6f7bcc95ed042e25666ee0ef = L.circleMarker(\n",
       "                [59.36065935972348, 39.97628285653538],\n",
       "                {&quot;bubblingMouseEvents&quot;: true, &quot;color&quot;: &quot;blue&quot;, &quot;dashArray&quot;: null, &quot;dashOffset&quot;: null, &quot;fill&quot;: true, &quot;fillColor&quot;: &quot;blue&quot;, &quot;fillOpacity&quot;: 0.2, &quot;fillRule&quot;: &quot;evenodd&quot;, &quot;lineCap&quot;: &quot;round&quot;, &quot;lineJoin&quot;: &quot;round&quot;, &quot;opacity&quot;: 1.0, &quot;radius&quot;: 3, &quot;stroke&quot;: true, &quot;weight&quot;: 3}\n",
       "            ).addTo(map_e47a3adb9f6102181a7bde97390a9b82);\n",
       "        \n",
       "    \n",
       "            var circle_marker_77403709ad82e8f6e244de7dac8381e9 = L.circleMarker(\n",
       "                [55.61664914527916, 37.504874107034084],\n",
       "                {&quot;bubblingMouseEvents&quot;: true, &quot;color&quot;: &quot;red&quot;, &quot;dashArray&quot;: null, &quot;dashOffset&quot;: null, &quot;fill&quot;: true, &quot;fillColor&quot;: &quot;red&quot;, &quot;fillOpacity&quot;: 0.2, &quot;fillRule&quot;: &quot;evenodd&quot;, &quot;lineCap&quot;: &quot;round&quot;, &quot;lineJoin&quot;: &quot;round&quot;, &quot;opacity&quot;: 1.0, &quot;radius&quot;: 3, &quot;stroke&quot;: true, &quot;weight&quot;: 3}\n",
       "            ).addTo(map_e47a3adb9f6102181a7bde97390a9b82);\n",
       "        \n",
       "    \n",
       "            var circle_marker_d28780b364c7683291f97032426be628 = L.circleMarker(\n",
       "                [55.17026500684702, 73.17593587112498],\n",
       "                {&quot;bubblingMouseEvents&quot;: true, &quot;color&quot;: &quot;blue&quot;, &quot;dashArray&quot;: null, &quot;dashOffset&quot;: null, &quot;fill&quot;: true, &quot;fillColor&quot;: &quot;blue&quot;, &quot;fillOpacity&quot;: 0.2, &quot;fillRule&quot;: &quot;evenodd&quot;, &quot;lineCap&quot;: &quot;round&quot;, &quot;lineJoin&quot;: &quot;round&quot;, &quot;opacity&quot;: 1.0, &quot;radius&quot;: 3, &quot;stroke&quot;: true, &quot;weight&quot;: 3}\n",
       "            ).addTo(map_e47a3adb9f6102181a7bde97390a9b82);\n",
       "        \n",
       "    \n",
       "            var circle_marker_acb2650f360d3204ef594f5ca5283c67 = L.circleMarker(\n",
       "                [54.791942110041525, 56.09864191905158],\n",
       "                {&quot;bubblingMouseEvents&quot;: true, &quot;color&quot;: &quot;red&quot;, &quot;dashArray&quot;: null, &quot;dashOffset&quot;: null, &quot;fill&quot;: true, &quot;fillColor&quot;: &quot;red&quot;, &quot;fillOpacity&quot;: 0.2, &quot;fillRule&quot;: &quot;evenodd&quot;, &quot;lineCap&quot;: &quot;round&quot;, &quot;lineJoin&quot;: &quot;round&quot;, &quot;opacity&quot;: 1.0, &quot;radius&quot;: 3, &quot;stroke&quot;: true, &quot;weight&quot;: 3}\n",
       "            ).addTo(map_e47a3adb9f6102181a7bde97390a9b82);\n",
       "        \n",
       "    \n",
       "            var circle_marker_fc4b3465cb0b8047ebc3b48ed7df00d7 = L.circleMarker(\n",
       "                [43.22663871450056, 131.77789320860913],\n",
       "                {&quot;bubblingMouseEvents&quot;: true, &quot;color&quot;: &quot;blue&quot;, &quot;dashArray&quot;: null, &quot;dashOffset&quot;: null, &quot;fill&quot;: true, &quot;fillColor&quot;: &quot;blue&quot;, &quot;fillOpacity&quot;: 0.2, &quot;fillRule&quot;: &quot;evenodd&quot;, &quot;lineCap&quot;: &quot;round&quot;, &quot;lineJoin&quot;: &quot;round&quot;, &quot;opacity&quot;: 1.0, &quot;radius&quot;: 3, &quot;stroke&quot;: true, &quot;weight&quot;: 3}\n",
       "            ).addTo(map_e47a3adb9f6102181a7bde97390a9b82);\n",
       "        \n",
       "    \n",
       "            var circle_marker_bd2f6a0f6f41278e638239e5fea8bb45 = L.circleMarker(\n",
       "                [53.34517722302123, 83.64552488573408],\n",
       "                {&quot;bubblingMouseEvents&quot;: true, &quot;color&quot;: &quot;blue&quot;, &quot;dashArray&quot;: null, &quot;dashOffset&quot;: null, &quot;fill&quot;: true, &quot;fillColor&quot;: &quot;blue&quot;, &quot;fillOpacity&quot;: 0.2, &quot;fillRule&quot;: &quot;evenodd&quot;, &quot;lineCap&quot;: &quot;round&quot;, &quot;lineJoin&quot;: &quot;round&quot;, &quot;opacity&quot;: 1.0, &quot;radius&quot;: 3, &quot;stroke&quot;: true, &quot;weight&quot;: 3}\n",
       "            ).addTo(map_e47a3adb9f6102181a7bde97390a9b82);\n",
       "        \n",
       "    \n",
       "            var circle_marker_e81a4691c4dafe95070fbaf908da1382 = L.circleMarker(\n",
       "                [59.86553552567262, 30.26763792792339],\n",
       "                {&quot;bubblingMouseEvents&quot;: true, &quot;color&quot;: &quot;red&quot;, &quot;dashArray&quot;: null, &quot;dashOffset&quot;: null, &quot;fill&quot;: true, &quot;fillColor&quot;: &quot;red&quot;, &quot;fillOpacity&quot;: 0.2, &quot;fillRule&quot;: &quot;evenodd&quot;, &quot;lineCap&quot;: &quot;round&quot;, &quot;lineJoin&quot;: &quot;round&quot;, &quot;opacity&quot;: 1.0, &quot;radius&quot;: 3, &quot;stroke&quot;: true, &quot;weight&quot;: 3}\n",
       "            ).addTo(map_e47a3adb9f6102181a7bde97390a9b82);\n",
       "        \n",
       "    \n",
       "            var circle_marker_cb206b7dafed40f337a0458c3fbe770c = L.circleMarker(\n",
       "                [53.245835327220455, 49.96118485152827],\n",
       "                {&quot;bubblingMouseEvents&quot;: true, &quot;color&quot;: &quot;blue&quot;, &quot;dashArray&quot;: null, &quot;dashOffset&quot;: null, &quot;fill&quot;: true, &quot;fillColor&quot;: &quot;blue&quot;, &quot;fillOpacity&quot;: 0.2, &quot;fillRule&quot;: &quot;evenodd&quot;, &quot;lineCap&quot;: &quot;round&quot;, &quot;lineJoin&quot;: &quot;round&quot;, &quot;opacity&quot;: 1.0, &quot;radius&quot;: 3, &quot;stroke&quot;: true, &quot;weight&quot;: 3}\n",
       "            ).addTo(map_e47a3adb9f6102181a7bde97390a9b82);\n",
       "        \n",
       "    \n",
       "            var circle_marker_97bd1b0483a13cdccb4943172b855049 = L.circleMarker(\n",
       "                [54.65820827601032, 39.649047453114385],\n",
       "                {&quot;bubblingMouseEvents&quot;: true, &quot;color&quot;: &quot;blue&quot;, &quot;dashArray&quot;: null, &quot;dashOffset&quot;: null, &quot;fill&quot;: true, &quot;fillColor&quot;: &quot;blue&quot;, &quot;fillOpacity&quot;: 0.2, &quot;fillRule&quot;: &quot;evenodd&quot;, &quot;lineCap&quot;: &quot;round&quot;, &quot;lineJoin&quot;: &quot;round&quot;, &quot;opacity&quot;: 1.0, &quot;radius&quot;: 3, &quot;stroke&quot;: true, &quot;weight&quot;: 3}\n",
       "            ).addTo(map_e47a3adb9f6102181a7bde97390a9b82);\n",
       "        \n",
       "    \n",
       "            var circle_marker_a0f0092df457651e4b6896021f86f8e4 = L.circleMarker(\n",
       "                [59.854133832678265, 30.351881308239676],\n",
       "                {&quot;bubblingMouseEvents&quot;: true, &quot;color&quot;: &quot;blue&quot;, &quot;dashArray&quot;: null, &quot;dashOffset&quot;: null, &quot;fill&quot;: true, &quot;fillColor&quot;: &quot;blue&quot;, &quot;fillOpacity&quot;: 0.2, &quot;fillRule&quot;: &quot;evenodd&quot;, &quot;lineCap&quot;: &quot;round&quot;, &quot;lineJoin&quot;: &quot;round&quot;, &quot;opacity&quot;: 1.0, &quot;radius&quot;: 3, &quot;stroke&quot;: true, &quot;weight&quot;: 3}\n",
       "            ).addTo(map_e47a3adb9f6102181a7bde97390a9b82);\n",
       "        \n",
       "    \n",
       "            var circle_marker_f1ffaba721b67839271261613ed92ee2 = L.circleMarker(\n",
       "                [60.086313981176794, 30.292619889714043],\n",
       "                {&quot;bubblingMouseEvents&quot;: true, &quot;color&quot;: &quot;blue&quot;, &quot;dashArray&quot;: null, &quot;dashOffset&quot;: null, &quot;fill&quot;: true, &quot;fillColor&quot;: &quot;blue&quot;, &quot;fillOpacity&quot;: 0.2, &quot;fillRule&quot;: &quot;evenodd&quot;, &quot;lineCap&quot;: &quot;round&quot;, &quot;lineJoin&quot;: &quot;round&quot;, &quot;opacity&quot;: 1.0, &quot;radius&quot;: 3, &quot;stroke&quot;: true, &quot;weight&quot;: 3}\n",
       "            ).addTo(map_e47a3adb9f6102181a7bde97390a9b82);\n",
       "        \n",
       "    \n",
       "            var circle_marker_2d167c90719e546ef29dd0ccaba8e062 = L.circleMarker(\n",
       "                [55.80137356132917, 37.50743241928409],\n",
       "                {&quot;bubblingMouseEvents&quot;: true, &quot;color&quot;: &quot;blue&quot;, &quot;dashArray&quot;: null, &quot;dashOffset&quot;: null, &quot;fill&quot;: true, &quot;fillColor&quot;: &quot;blue&quot;, &quot;fillOpacity&quot;: 0.2, &quot;fillRule&quot;: &quot;evenodd&quot;, &quot;lineCap&quot;: &quot;round&quot;, &quot;lineJoin&quot;: &quot;round&quot;, &quot;opacity&quot;: 1.0, &quot;radius&quot;: 3, &quot;stroke&quot;: true, &quot;weight&quot;: 3}\n",
       "            ).addTo(map_e47a3adb9f6102181a7bde97390a9b82);\n",
       "        \n",
       "    \n",
       "            var circle_marker_8c850b55bade840bdc4b56525ffc62f0 = L.circleMarker(\n",
       "                [55.64291123937996, 52.56550145993587],\n",
       "                {&quot;bubblingMouseEvents&quot;: true, &quot;color&quot;: &quot;blue&quot;, &quot;dashArray&quot;: null, &quot;dashOffset&quot;: null, &quot;fill&quot;: true, &quot;fillColor&quot;: &quot;blue&quot;, &quot;fillOpacity&quot;: 0.2, &quot;fillRule&quot;: &quot;evenodd&quot;, &quot;lineCap&quot;: &quot;round&quot;, &quot;lineJoin&quot;: &quot;round&quot;, &quot;opacity&quot;: 1.0, &quot;radius&quot;: 3, &quot;stroke&quot;: true, &quot;weight&quot;: 3}\n",
       "            ).addTo(map_e47a3adb9f6102181a7bde97390a9b82);\n",
       "        \n",
       "    \n",
       "            var circle_marker_d9eb64ca62bba54b22df2a07cc713671 = L.circleMarker(\n",
       "                [61.26421042259817, 73.47452188132144],\n",
       "                {&quot;bubblingMouseEvents&quot;: true, &quot;color&quot;: &quot;red&quot;, &quot;dashArray&quot;: null, &quot;dashOffset&quot;: null, &quot;fill&quot;: true, &quot;fillColor&quot;: &quot;red&quot;, &quot;fillOpacity&quot;: 0.2, &quot;fillRule&quot;: &quot;evenodd&quot;, &quot;lineCap&quot;: &quot;round&quot;, &quot;lineJoin&quot;: &quot;round&quot;, &quot;opacity&quot;: 1.0, &quot;radius&quot;: 3, &quot;stroke&quot;: true, &quot;weight&quot;: 3}\n",
       "            ).addTo(map_e47a3adb9f6102181a7bde97390a9b82);\n",
       "        \n",
       "    \n",
       "            var circle_marker_0042c6d668256e9f68a38371e4be0608 = L.circleMarker(\n",
       "                [52.907317894943986, 41.287371934686625],\n",
       "                {&quot;bubblingMouseEvents&quot;: true, &quot;color&quot;: &quot;blue&quot;, &quot;dashArray&quot;: null, &quot;dashOffset&quot;: null, &quot;fill&quot;: true, &quot;fillColor&quot;: &quot;blue&quot;, &quot;fillOpacity&quot;: 0.2, &quot;fillRule&quot;: &quot;evenodd&quot;, &quot;lineCap&quot;: &quot;round&quot;, &quot;lineJoin&quot;: &quot;round&quot;, &quot;opacity&quot;: 1.0, &quot;radius&quot;: 3, &quot;stroke&quot;: true, &quot;weight&quot;: 3}\n",
       "            ).addTo(map_e47a3adb9f6102181a7bde97390a9b82);\n",
       "        \n",
       "    \n",
       "            var circle_marker_2d8bb9d65e49607b75482872621c5e12 = L.circleMarker(\n",
       "                [55.85161367022265, 37.79118038312074],\n",
       "                {&quot;bubblingMouseEvents&quot;: true, &quot;color&quot;: &quot;blue&quot;, &quot;dashArray&quot;: null, &quot;dashOffset&quot;: null, &quot;fill&quot;: true, &quot;fillColor&quot;: &quot;blue&quot;, &quot;fillOpacity&quot;: 0.2, &quot;fillRule&quot;: &quot;evenodd&quot;, &quot;lineCap&quot;: &quot;round&quot;, &quot;lineJoin&quot;: &quot;round&quot;, &quot;opacity&quot;: 1.0, &quot;radius&quot;: 3, &quot;stroke&quot;: true, &quot;weight&quot;: 3}\n",
       "            ).addTo(map_e47a3adb9f6102181a7bde97390a9b82);\n",
       "        \n",
       "    \n",
       "            var circle_marker_77df5044ad9424599bfd2807f40fdfdd = L.circleMarker(\n",
       "                [55.573621812235615, 37.57723291765579],\n",
       "                {&quot;bubblingMouseEvents&quot;: true, &quot;color&quot;: &quot;blue&quot;, &quot;dashArray&quot;: null, &quot;dashOffset&quot;: null, &quot;fill&quot;: true, &quot;fillColor&quot;: &quot;blue&quot;, &quot;fillOpacity&quot;: 0.2, &quot;fillRule&quot;: &quot;evenodd&quot;, &quot;lineCap&quot;: &quot;round&quot;, &quot;lineJoin&quot;: &quot;round&quot;, &quot;opacity&quot;: 1.0, &quot;radius&quot;: 3, &quot;stroke&quot;: true, &quot;weight&quot;: 3}\n",
       "            ).addTo(map_e47a3adb9f6102181a7bde97390a9b82);\n",
       "        \n",
       "    \n",
       "            var circle_marker_a29dc7d898a39dc04570a957afbe7548 = L.circleMarker(\n",
       "                [51.54090034056578, 39.13962708479298],\n",
       "                {&quot;bubblingMouseEvents&quot;: true, &quot;color&quot;: &quot;red&quot;, &quot;dashArray&quot;: null, &quot;dashOffset&quot;: null, &quot;fill&quot;: true, &quot;fillColor&quot;: &quot;red&quot;, &quot;fillOpacity&quot;: 0.2, &quot;fillRule&quot;: &quot;evenodd&quot;, &quot;lineCap&quot;: &quot;round&quot;, &quot;lineJoin&quot;: &quot;round&quot;, &quot;opacity&quot;: 1.0, &quot;radius&quot;: 3, &quot;stroke&quot;: true, &quot;weight&quot;: 3}\n",
       "            ).addTo(map_e47a3adb9f6102181a7bde97390a9b82);\n",
       "        \n",
       "    \n",
       "            var circle_marker_4bbb6a6f599652f5719f134531df9340 = L.circleMarker(\n",
       "                [56.20345756041699, 92.74584606899555],\n",
       "                {&quot;bubblingMouseEvents&quot;: true, &quot;color&quot;: &quot;blue&quot;, &quot;dashArray&quot;: null, &quot;dashOffset&quot;: null, &quot;fill&quot;: true, &quot;fillColor&quot;: &quot;blue&quot;, &quot;fillOpacity&quot;: 0.2, &quot;fillRule&quot;: &quot;evenodd&quot;, &quot;lineCap&quot;: &quot;round&quot;, &quot;lineJoin&quot;: &quot;round&quot;, &quot;opacity&quot;: 1.0, &quot;radius&quot;: 3, &quot;stroke&quot;: true, &quot;weight&quot;: 3}\n",
       "            ).addTo(map_e47a3adb9f6102181a7bde97390a9b82);\n",
       "        \n",
       "    \n",
       "            var circle_marker_e6f5d626a680bb9b7b4f62ebd9fdf36f = L.circleMarker(\n",
       "                [57.72550596223106, 40.00922762587361],\n",
       "                {&quot;bubblingMouseEvents&quot;: true, &quot;color&quot;: &quot;blue&quot;, &quot;dashArray&quot;: null, &quot;dashOffset&quot;: null, &quot;fill&quot;: true, &quot;fillColor&quot;: &quot;blue&quot;, &quot;fillOpacity&quot;: 0.2, &quot;fillRule&quot;: &quot;evenodd&quot;, &quot;lineCap&quot;: &quot;round&quot;, &quot;lineJoin&quot;: &quot;round&quot;, &quot;opacity&quot;: 1.0, &quot;radius&quot;: 3, &quot;stroke&quot;: true, &quot;weight&quot;: 3}\n",
       "            ).addTo(map_e47a3adb9f6102181a7bde97390a9b82);\n",
       "        \n",
       "    \n",
       "            var circle_marker_e7ba89eca2e642f73d735098efc9686e = L.circleMarker(\n",
       "                [56.09728340946399, 47.310214716891196],\n",
       "                {&quot;bubblingMouseEvents&quot;: true, &quot;color&quot;: &quot;blue&quot;, &quot;dashArray&quot;: null, &quot;dashOffset&quot;: null, &quot;fill&quot;: true, &quot;fillColor&quot;: &quot;blue&quot;, &quot;fillOpacity&quot;: 0.2, &quot;fillRule&quot;: &quot;evenodd&quot;, &quot;lineCap&quot;: &quot;round&quot;, &quot;lineJoin&quot;: &quot;round&quot;, &quot;opacity&quot;: 1.0, &quot;radius&quot;: 3, &quot;stroke&quot;: true, &quot;weight&quot;: 3}\n",
       "            ).addTo(map_e47a3adb9f6102181a7bde97390a9b82);\n",
       "        \n",
       "    \n",
       "            var circle_marker_0ec6ffe4ac58800da61a9319658d67bc = L.circleMarker(\n",
       "                [59.75525679276379, 30.351880637228604],\n",
       "                {&quot;bubblingMouseEvents&quot;: true, &quot;color&quot;: &quot;red&quot;, &quot;dashArray&quot;: null, &quot;dashOffset&quot;: null, &quot;fill&quot;: true, &quot;fillColor&quot;: &quot;red&quot;, &quot;fillOpacity&quot;: 0.2, &quot;fillRule&quot;: &quot;evenodd&quot;, &quot;lineCap&quot;: &quot;round&quot;, &quot;lineJoin&quot;: &quot;round&quot;, &quot;opacity&quot;: 1.0, &quot;radius&quot;: 3, &quot;stroke&quot;: true, &quot;weight&quot;: 3}\n",
       "            ).addTo(map_e47a3adb9f6102181a7bde97390a9b82);\n",
       "        \n",
       "    \n",
       "            var circle_marker_a8fcb8a104651e67e9b712eb84611bbc = L.circleMarker(\n",
       "                [55.95226381297273, 37.49385935766928],\n",
       "                {&quot;bubblingMouseEvents&quot;: true, &quot;color&quot;: &quot;red&quot;, &quot;dashArray&quot;: null, &quot;dashOffset&quot;: null, &quot;fill&quot;: true, &quot;fillColor&quot;: &quot;red&quot;, &quot;fillOpacity&quot;: 0.2, &quot;fillRule&quot;: &quot;evenodd&quot;, &quot;lineCap&quot;: &quot;round&quot;, &quot;lineJoin&quot;: &quot;round&quot;, &quot;opacity&quot;: 1.0, &quot;radius&quot;: 3, &quot;stroke&quot;: true, &quot;weight&quot;: 3}\n",
       "            ).addTo(map_e47a3adb9f6102181a7bde97390a9b82);\n",
       "        \n",
       "    \n",
       "            var circle_marker_e7766e2191efd95ec08ef37e37ed9e86 = L.circleMarker(\n",
       "                [43.15572676671054, 131.93055619072092],\n",
       "                {&quot;bubblingMouseEvents&quot;: true, &quot;color&quot;: &quot;blue&quot;, &quot;dashArray&quot;: null, &quot;dashOffset&quot;: null, &quot;fill&quot;: true, &quot;fillColor&quot;: &quot;blue&quot;, &quot;fillOpacity&quot;: 0.2, &quot;fillRule&quot;: &quot;evenodd&quot;, &quot;lineCap&quot;: &quot;round&quot;, &quot;lineJoin&quot;: &quot;round&quot;, &quot;opacity&quot;: 1.0, &quot;radius&quot;: 3, &quot;stroke&quot;: true, &quot;weight&quot;: 3}\n",
       "            ).addTo(map_e47a3adb9f6102181a7bde97390a9b82);\n",
       "        \n",
       "    \n",
       "            var circle_marker_7dc55c31fad0e8325d479068ee96c894 = L.circleMarker(\n",
       "                [55.69391917149491, 37.59220427265769],\n",
       "                {&quot;bubblingMouseEvents&quot;: true, &quot;color&quot;: &quot;red&quot;, &quot;dashArray&quot;: null, &quot;dashOffset&quot;: null, &quot;fill&quot;: true, &quot;fillColor&quot;: &quot;red&quot;, &quot;fillOpacity&quot;: 0.2, &quot;fillRule&quot;: &quot;evenodd&quot;, &quot;lineCap&quot;: &quot;round&quot;, &quot;lineJoin&quot;: &quot;round&quot;, &quot;opacity&quot;: 1.0, &quot;radius&quot;: 3, &quot;stroke&quot;: true, &quot;weight&quot;: 3}\n",
       "            ).addTo(map_e47a3adb9f6102181a7bde97390a9b82);\n",
       "        \n",
       "    \n",
       "            var circle_marker_96fb78aee4fe1042fc6ab5670e6a64ee = L.circleMarker(\n",
       "                [55.656355540614264, 37.447917678558525],\n",
       "                {&quot;bubblingMouseEvents&quot;: true, &quot;color&quot;: &quot;blue&quot;, &quot;dashArray&quot;: null, &quot;dashOffset&quot;: null, &quot;fill&quot;: true, &quot;fillColor&quot;: &quot;blue&quot;, &quot;fillOpacity&quot;: 0.2, &quot;fillRule&quot;: &quot;evenodd&quot;, &quot;lineCap&quot;: &quot;round&quot;, &quot;lineJoin&quot;: &quot;round&quot;, &quot;opacity&quot;: 1.0, &quot;radius&quot;: 3, &quot;stroke&quot;: true, &quot;weight&quot;: 3}\n",
       "            ).addTo(map_e47a3adb9f6102181a7bde97390a9b82);\n",
       "        \n",
       "    \n",
       "            var circle_marker_7f869001daa765cd9a054ff67c7cce45 = L.circleMarker(\n",
       "                [55.57353705760158, 37.75048208022373],\n",
       "                {&quot;bubblingMouseEvents&quot;: true, &quot;color&quot;: &quot;blue&quot;, &quot;dashArray&quot;: null, &quot;dashOffset&quot;: null, &quot;fill&quot;: true, &quot;fillColor&quot;: &quot;blue&quot;, &quot;fillOpacity&quot;: 0.2, &quot;fillRule&quot;: &quot;evenodd&quot;, &quot;lineCap&quot;: &quot;round&quot;, &quot;lineJoin&quot;: &quot;round&quot;, &quot;opacity&quot;: 1.0, &quot;radius&quot;: 3, &quot;stroke&quot;: true, &quot;weight&quot;: 3}\n",
       "            ).addTo(map_e47a3adb9f6102181a7bde97390a9b82);\n",
       "        \n",
       "    \n",
       "            var circle_marker_4f5855613421c2f1ce259b510a695532 = L.circleMarker(\n",
       "                [55.80447114598105, 37.44693504154329],\n",
       "                {&quot;bubblingMouseEvents&quot;: true, &quot;color&quot;: &quot;blue&quot;, &quot;dashArray&quot;: null, &quot;dashOffset&quot;: null, &quot;fill&quot;: true, &quot;fillColor&quot;: &quot;blue&quot;, &quot;fillOpacity&quot;: 0.2, &quot;fillRule&quot;: &quot;evenodd&quot;, &quot;lineCap&quot;: &quot;round&quot;, &quot;lineJoin&quot;: &quot;round&quot;, &quot;opacity&quot;: 1.0, &quot;radius&quot;: 3, &quot;stroke&quot;: true, &quot;weight&quot;: 3}\n",
       "            ).addTo(map_e47a3adb9f6102181a7bde97390a9b82);\n",
       "        \n",
       "    \n",
       "            var circle_marker_121642fea03ef90396758881b8104a31 = L.circleMarker(\n",
       "                [55.84665361724865, 37.999844637797594],\n",
       "                {&quot;bubblingMouseEvents&quot;: true, &quot;color&quot;: &quot;blue&quot;, &quot;dashArray&quot;: null, &quot;dashOffset&quot;: null, &quot;fill&quot;: true, &quot;fillColor&quot;: &quot;blue&quot;, &quot;fillOpacity&quot;: 0.2, &quot;fillRule&quot;: &quot;evenodd&quot;, &quot;lineCap&quot;: &quot;round&quot;, &quot;lineJoin&quot;: &quot;round&quot;, &quot;opacity&quot;: 1.0, &quot;radius&quot;: 3, &quot;stroke&quot;: true, &quot;weight&quot;: 3}\n",
       "            ).addTo(map_e47a3adb9f6102181a7bde97390a9b82);\n",
       "        \n",
       "    \n",
       "            var circle_marker_4cc315a65daf37e8239d1792257ea73c = L.circleMarker(\n",
       "                [58.04684725194969, 56.17265927897937],\n",
       "                {&quot;bubblingMouseEvents&quot;: true, &quot;color&quot;: &quot;red&quot;, &quot;dashArray&quot;: null, &quot;dashOffset&quot;: null, &quot;fill&quot;: true, &quot;fillColor&quot;: &quot;red&quot;, &quot;fillOpacity&quot;: 0.2, &quot;fillRule&quot;: &quot;evenodd&quot;, &quot;lineCap&quot;: &quot;round&quot;, &quot;lineJoin&quot;: &quot;round&quot;, &quot;opacity&quot;: 1.0, &quot;radius&quot;: 3, &quot;stroke&quot;: true, &quot;weight&quot;: 3}\n",
       "            ).addTo(map_e47a3adb9f6102181a7bde97390a9b82);\n",
       "        \n",
       "    \n",
       "            var circle_marker_77107443ae940ba50b348edc73b089a9 = L.circleMarker(\n",
       "                [54.93477723751067, 73.52703028618569],\n",
       "                {&quot;bubblingMouseEvents&quot;: true, &quot;color&quot;: &quot;blue&quot;, &quot;dashArray&quot;: null, &quot;dashOffset&quot;: null, &quot;fill&quot;: true, &quot;fillColor&quot;: &quot;blue&quot;, &quot;fillOpacity&quot;: 0.2, &quot;fillRule&quot;: &quot;evenodd&quot;, &quot;lineCap&quot;: &quot;round&quot;, &quot;lineJoin&quot;: &quot;round&quot;, &quot;opacity&quot;: 1.0, &quot;radius&quot;: 3, &quot;stroke&quot;: true, &quot;weight&quot;: 3}\n",
       "            ).addTo(map_e47a3adb9f6102181a7bde97390a9b82);\n",
       "        \n",
       "    \n",
       "            var circle_marker_e7a056ecf28fcd8914081a1c27d4809d = L.circleMarker(\n",
       "                [44.58698075992469, 33.46586208095226],\n",
       "                {&quot;bubblingMouseEvents&quot;: true, &quot;color&quot;: &quot;blue&quot;, &quot;dashArray&quot;: null, &quot;dashOffset&quot;: null, &quot;fill&quot;: true, &quot;fillColor&quot;: &quot;blue&quot;, &quot;fillOpacity&quot;: 0.2, &quot;fillRule&quot;: &quot;evenodd&quot;, &quot;lineCap&quot;: &quot;round&quot;, &quot;lineJoin&quot;: &quot;round&quot;, &quot;opacity&quot;: 1.0, &quot;radius&quot;: 3, &quot;stroke&quot;: true, &quot;weight&quot;: 3}\n",
       "            ).addTo(map_e47a3adb9f6102181a7bde97390a9b82);\n",
       "        \n",
       "    \n",
       "            var circle_marker_285711be34057ed58e6e5db5b947231c = L.circleMarker(\n",
       "                [54.55481485884585, 36.41065393994897],\n",
       "                {&quot;bubblingMouseEvents&quot;: true, &quot;color&quot;: &quot;blue&quot;, &quot;dashArray&quot;: null, &quot;dashOffset&quot;: null, &quot;fill&quot;: true, &quot;fillColor&quot;: &quot;blue&quot;, &quot;fillOpacity&quot;: 0.2, &quot;fillRule&quot;: &quot;evenodd&quot;, &quot;lineCap&quot;: &quot;round&quot;, &quot;lineJoin&quot;: &quot;round&quot;, &quot;opacity&quot;: 1.0, &quot;radius&quot;: 3, &quot;stroke&quot;: true, &quot;weight&quot;: 3}\n",
       "            ).addTo(map_e47a3adb9f6102181a7bde97390a9b82);\n",
       "        \n",
       "    \n",
       "            var circle_marker_4eabe1a8245aa0b8a2c601dd2b13ac83 = L.circleMarker(\n",
       "                [54.22814131363934, 44.99936428555868],\n",
       "                {&quot;bubblingMouseEvents&quot;: true, &quot;color&quot;: &quot;blue&quot;, &quot;dashArray&quot;: null, &quot;dashOffset&quot;: null, &quot;fill&quot;: true, &quot;fillColor&quot;: &quot;blue&quot;, &quot;fillOpacity&quot;: 0.2, &quot;fillRule&quot;: &quot;evenodd&quot;, &quot;lineCap&quot;: &quot;round&quot;, &quot;lineJoin&quot;: &quot;round&quot;, &quot;opacity&quot;: 1.0, &quot;radius&quot;: 3, &quot;stroke&quot;: true, &quot;weight&quot;: 3}\n",
       "            ).addTo(map_e47a3adb9f6102181a7bde97390a9b82);\n",
       "        \n",
       "    \n",
       "            var circle_marker_e74d4648ce8787f5a79970b42b3690ae = L.circleMarker(\n",
       "                [45.09175109708291, 42.05653487320944],\n",
       "                {&quot;bubblingMouseEvents&quot;: true, &quot;color&quot;: &quot;blue&quot;, &quot;dashArray&quot;: null, &quot;dashOffset&quot;: null, &quot;fill&quot;: true, &quot;fillColor&quot;: &quot;blue&quot;, &quot;fillOpacity&quot;: 0.2, &quot;fillRule&quot;: &quot;evenodd&quot;, &quot;lineCap&quot;: &quot;round&quot;, &quot;lineJoin&quot;: &quot;round&quot;, &quot;opacity&quot;: 1.0, &quot;radius&quot;: 3, &quot;stroke&quot;: true, &quot;weight&quot;: 3}\n",
       "            ).addTo(map_e47a3adb9f6102181a7bde97390a9b82);\n",
       "        \n",
       "    \n",
       "            var circle_marker_16a75aa75711ff5d5164bdcd538ba8fb = L.circleMarker(\n",
       "                [54.813887623161285, 20.389497767002787],\n",
       "                {&quot;bubblingMouseEvents&quot;: true, &quot;color&quot;: &quot;blue&quot;, &quot;dashArray&quot;: null, &quot;dashOffset&quot;: null, &quot;fill&quot;: true, &quot;fillColor&quot;: &quot;blue&quot;, &quot;fillOpacity&quot;: 0.2, &quot;fillRule&quot;: &quot;evenodd&quot;, &quot;lineCap&quot;: &quot;round&quot;, &quot;lineJoin&quot;: &quot;round&quot;, &quot;opacity&quot;: 1.0, &quot;radius&quot;: 3, &quot;stroke&quot;: true, &quot;weight&quot;: 3}\n",
       "            ).addTo(map_e47a3adb9f6102181a7bde97390a9b82);\n",
       "        \n",
       "    \n",
       "            var circle_marker_7d2c5b7402a8ed666e2f1581c31cc447 = L.circleMarker(\n",
       "                [54.62072913401466, 39.750574105943876],\n",
       "                {&quot;bubblingMouseEvents&quot;: true, &quot;color&quot;: &quot;blue&quot;, &quot;dashArray&quot;: null, &quot;dashOffset&quot;: null, &quot;fill&quot;: true, &quot;fillColor&quot;: &quot;blue&quot;, &quot;fillOpacity&quot;: 0.2, &quot;fillRule&quot;: &quot;evenodd&quot;, &quot;lineCap&quot;: &quot;round&quot;, &quot;lineJoin&quot;: &quot;round&quot;, &quot;opacity&quot;: 1.0, &quot;radius&quot;: 3, &quot;stroke&quot;: true, &quot;weight&quot;: 3}\n",
       "            ).addTo(map_e47a3adb9f6102181a7bde97390a9b82);\n",
       "        \n",
       "    \n",
       "            var circle_marker_7204d42e3a4035c90e0732548720a636 = L.circleMarker(\n",
       "                [48.79661304629507, 44.40649681059297],\n",
       "                {&quot;bubblingMouseEvents&quot;: true, &quot;color&quot;: &quot;blue&quot;, &quot;dashArray&quot;: null, &quot;dashOffset&quot;: null, &quot;fill&quot;: true, &quot;fillColor&quot;: &quot;blue&quot;, &quot;fillOpacity&quot;: 0.2, &quot;fillRule&quot;: &quot;evenodd&quot;, &quot;lineCap&quot;: &quot;round&quot;, &quot;lineJoin&quot;: &quot;round&quot;, &quot;opacity&quot;: 1.0, &quot;radius&quot;: 3, &quot;stroke&quot;: true, &quot;weight&quot;: 3}\n",
       "            ).addTo(map_e47a3adb9f6102181a7bde97390a9b82);\n",
       "        \n",
       "    \n",
       "            var circle_marker_b5bd462dd45a27e5176fc3c156708b4e = L.circleMarker(\n",
       "                [54.16958197277479, 48.297235353770134],\n",
       "                {&quot;bubblingMouseEvents&quot;: true, &quot;color&quot;: &quot;blue&quot;, &quot;dashArray&quot;: null, &quot;dashOffset&quot;: null, &quot;fill&quot;: true, &quot;fillColor&quot;: &quot;blue&quot;, &quot;fillOpacity&quot;: 0.2, &quot;fillRule&quot;: &quot;evenodd&quot;, &quot;lineCap&quot;: &quot;round&quot;, &quot;lineJoin&quot;: &quot;round&quot;, &quot;opacity&quot;: 1.0, &quot;radius&quot;: 3, &quot;stroke&quot;: true, &quot;weight&quot;: 3}\n",
       "            ).addTo(map_e47a3adb9f6102181a7bde97390a9b82);\n",
       "        \n",
       "    \n",
       "            var circle_marker_f52813485a78bfe85410d26b7531636e = L.circleMarker(\n",
       "                [56.999123616571644, 60.433979021255475],\n",
       "                {&quot;bubblingMouseEvents&quot;: true, &quot;color&quot;: &quot;blue&quot;, &quot;dashArray&quot;: null, &quot;dashOffset&quot;: null, &quot;fill&quot;: true, &quot;fillColor&quot;: &quot;blue&quot;, &quot;fillOpacity&quot;: 0.2, &quot;fillRule&quot;: &quot;evenodd&quot;, &quot;lineCap&quot;: &quot;round&quot;, &quot;lineJoin&quot;: &quot;round&quot;, &quot;opacity&quot;: 1.0, &quot;radius&quot;: 3, &quot;stroke&quot;: true, &quot;weight&quot;: 3}\n",
       "            ).addTo(map_e47a3adb9f6102181a7bde97390a9b82);\n",
       "        \n",
       "    \n",
       "            var circle_marker_63fcf9bd3e7f2828506cbe7056b23fec = L.circleMarker(\n",
       "                [58.71259776705273, 49.80971920996725],\n",
       "                {&quot;bubblingMouseEvents&quot;: true, &quot;color&quot;: &quot;blue&quot;, &quot;dashArray&quot;: null, &quot;dashOffset&quot;: null, &quot;fill&quot;: true, &quot;fillColor&quot;: &quot;blue&quot;, &quot;fillOpacity&quot;: 0.2, &quot;fillRule&quot;: &quot;evenodd&quot;, &quot;lineCap&quot;: &quot;round&quot;, &quot;lineJoin&quot;: &quot;round&quot;, &quot;opacity&quot;: 1.0, &quot;radius&quot;: 3, &quot;stroke&quot;: true, &quot;weight&quot;: 3}\n",
       "            ).addTo(map_e47a3adb9f6102181a7bde97390a9b82);\n",
       "        \n",
       "    \n",
       "            var circle_marker_74a568fcefdcc5ed9b4e25f11242c053 = L.circleMarker(\n",
       "                [47.26590671542406, 39.53532608132784],\n",
       "                {&quot;bubblingMouseEvents&quot;: true, &quot;color&quot;: &quot;blue&quot;, &quot;dashArray&quot;: null, &quot;dashOffset&quot;: null, &quot;fill&quot;: true, &quot;fillColor&quot;: &quot;blue&quot;, &quot;fillOpacity&quot;: 0.2, &quot;fillRule&quot;: &quot;evenodd&quot;, &quot;lineCap&quot;: &quot;round&quot;, &quot;lineJoin&quot;: &quot;round&quot;, &quot;opacity&quot;: 1.0, &quot;radius&quot;: 3, &quot;stroke&quot;: true, &quot;weight&quot;: 3}\n",
       "            ).addTo(map_e47a3adb9f6102181a7bde97390a9b82);\n",
       "        \n",
       "    \n",
       "            var circle_marker_5b5b2361e17f3965f000d253c41d960e = L.circleMarker(\n",
       "                [50.430716115334704, 36.4596759704834],\n",
       "                {&quot;bubblingMouseEvents&quot;: true, &quot;color&quot;: &quot;blue&quot;, &quot;dashArray&quot;: null, &quot;dashOffset&quot;: null, &quot;fill&quot;: true, &quot;fillColor&quot;: &quot;blue&quot;, &quot;fillOpacity&quot;: 0.2, &quot;fillRule&quot;: &quot;evenodd&quot;, &quot;lineCap&quot;: &quot;round&quot;, &quot;lineJoin&quot;: &quot;round&quot;, &quot;opacity&quot;: 1.0, &quot;radius&quot;: 3, &quot;stroke&quot;: true, &quot;weight&quot;: 3}\n",
       "            ).addTo(map_e47a3adb9f6102181a7bde97390a9b82);\n",
       "        \n",
       "    \n",
       "            var circle_marker_385e3764392a7054f4d0fc1c0ef716c0 = L.circleMarker(\n",
       "                [54.66653741344872, 55.88058025222119],\n",
       "                {&quot;bubblingMouseEvents&quot;: true, &quot;color&quot;: &quot;red&quot;, &quot;dashArray&quot;: null, &quot;dashOffset&quot;: null, &quot;fill&quot;: true, &quot;fillColor&quot;: &quot;red&quot;, &quot;fillOpacity&quot;: 0.2, &quot;fillRule&quot;: &quot;evenodd&quot;, &quot;lineCap&quot;: &quot;round&quot;, &quot;lineJoin&quot;: &quot;round&quot;, &quot;opacity&quot;: 1.0, &quot;radius&quot;: 3, &quot;stroke&quot;: true, &quot;weight&quot;: 3}\n",
       "            ).addTo(map_e47a3adb9f6102181a7bde97390a9b82);\n",
       "        \n",
       "    \n",
       "            var circle_marker_fea2c49e3e0c2f42f6aa788443da7843 = L.circleMarker(\n",
       "                [53.679319420190154, 55.98798701035688],\n",
       "                {&quot;bubblingMouseEvents&quot;: true, &quot;color&quot;: &quot;blue&quot;, &quot;dashArray&quot;: null, &quot;dashOffset&quot;: null, &quot;fill&quot;: true, &quot;fillColor&quot;: &quot;blue&quot;, &quot;fillOpacity&quot;: 0.2, &quot;fillRule&quot;: &quot;evenodd&quot;, &quot;lineCap&quot;: &quot;round&quot;, &quot;lineJoin&quot;: &quot;round&quot;, &quot;opacity&quot;: 1.0, &quot;radius&quot;: 3, &quot;stroke&quot;: true, &quot;weight&quot;: 3}\n",
       "            ).addTo(map_e47a3adb9f6102181a7bde97390a9b82);\n",
       "        \n",
       "    \n",
       "            var circle_marker_920e93caf18efd963076f7448a233796 = L.circleMarker(\n",
       "                [53.40788354226181, 59.150471539011036],\n",
       "                {&quot;bubblingMouseEvents&quot;: true, &quot;color&quot;: &quot;blue&quot;, &quot;dashArray&quot;: null, &quot;dashOffset&quot;: null, &quot;fill&quot;: true, &quot;fillColor&quot;: &quot;blue&quot;, &quot;fillOpacity&quot;: 0.2, &quot;fillRule&quot;: &quot;evenodd&quot;, &quot;lineCap&quot;: &quot;round&quot;, &quot;lineJoin&quot;: &quot;round&quot;, &quot;opacity&quot;: 1.0, &quot;radius&quot;: 3, &quot;stroke&quot;: true, &quot;weight&quot;: 3}\n",
       "            ).addTo(map_e47a3adb9f6102181a7bde97390a9b82);\n",
       "        \n",
       "    \n",
       "            var circle_marker_73e1238eee534a9f0297eb65601571a1 = L.circleMarker(\n",
       "                [51.7994429313089, 55.278401591454795],\n",
       "                {&quot;bubblingMouseEvents&quot;: true, &quot;color&quot;: &quot;red&quot;, &quot;dashArray&quot;: null, &quot;dashOffset&quot;: null, &quot;fill&quot;: true, &quot;fillColor&quot;: &quot;red&quot;, &quot;fillOpacity&quot;: 0.2, &quot;fillRule&quot;: &quot;evenodd&quot;, &quot;lineCap&quot;: &quot;round&quot;, &quot;lineJoin&quot;: &quot;round&quot;, &quot;opacity&quot;: 1.0, &quot;radius&quot;: 3, &quot;stroke&quot;: true, &quot;weight&quot;: 3}\n",
       "            ).addTo(map_e47a3adb9f6102181a7bde97390a9b82);\n",
       "        \n",
       "    \n",
       "            var circle_marker_9b927328c12a8da7934fd19c6c0a1cb2 = L.circleMarker(\n",
       "                [55.07522213574459, 82.85663083416947],\n",
       "                {&quot;bubblingMouseEvents&quot;: true, &quot;color&quot;: &quot;red&quot;, &quot;dashArray&quot;: null, &quot;dashOffset&quot;: null, &quot;fill&quot;: true, &quot;fillColor&quot;: &quot;red&quot;, &quot;fillOpacity&quot;: 0.2, &quot;fillRule&quot;: &quot;evenodd&quot;, &quot;lineCap&quot;: &quot;round&quot;, &quot;lineJoin&quot;: &quot;round&quot;, &quot;opacity&quot;: 1.0, &quot;radius&quot;: 3, &quot;stroke&quot;: true, &quot;weight&quot;: 3}\n",
       "            ).addTo(map_e47a3adb9f6102181a7bde97390a9b82);\n",
       "        \n",
       "    \n",
       "            var circle_marker_f185cdbc0c6be664f1200d93cef49a0f = L.circleMarker(\n",
       "                [60.091148327839775, 30.351830127064286],\n",
       "                {&quot;bubblingMouseEvents&quot;: true, &quot;color&quot;: &quot;blue&quot;, &quot;dashArray&quot;: null, &quot;dashOffset&quot;: null, &quot;fill&quot;: true, &quot;fillColor&quot;: &quot;blue&quot;, &quot;fillOpacity&quot;: 0.2, &quot;fillRule&quot;: &quot;evenodd&quot;, &quot;lineCap&quot;: &quot;round&quot;, &quot;lineJoin&quot;: &quot;round&quot;, &quot;opacity&quot;: 1.0, &quot;radius&quot;: 3, &quot;stroke&quot;: true, &quot;weight&quot;: 3}\n",
       "            ).addTo(map_e47a3adb9f6102181a7bde97390a9b82);\n",
       "        \n",
       "    \n",
       "            var circle_marker_cee94b697ff6a360c3589e8eb2347d33 = L.circleMarker(\n",
       "                [56.42824097245713, 43.807605243511226],\n",
       "                {&quot;bubblingMouseEvents&quot;: true, &quot;color&quot;: &quot;blue&quot;, &quot;dashArray&quot;: null, &quot;dashOffset&quot;: null, &quot;fill&quot;: true, &quot;fillColor&quot;: &quot;blue&quot;, &quot;fillOpacity&quot;: 0.2, &quot;fillRule&quot;: &quot;evenodd&quot;, &quot;lineCap&quot;: &quot;round&quot;, &quot;lineJoin&quot;: &quot;round&quot;, &quot;opacity&quot;: 1.0, &quot;radius&quot;: 3, &quot;stroke&quot;: true, &quot;weight&quot;: 3}\n",
       "            ).addTo(map_e47a3adb9f6102181a7bde97390a9b82);\n",
       "        \n",
       "    \n",
       "            var circle_marker_6f04da35c0d5ad9486bcb79620321891 = L.circleMarker(\n",
       "                [55.72937436899046, 37.58222593814601],\n",
       "                {&quot;bubblingMouseEvents&quot;: true, &quot;color&quot;: &quot;blue&quot;, &quot;dashArray&quot;: null, &quot;dashOffset&quot;: null, &quot;fill&quot;: true, &quot;fillColor&quot;: &quot;blue&quot;, &quot;fillOpacity&quot;: 0.2, &quot;fillRule&quot;: &quot;evenodd&quot;, &quot;lineCap&quot;: &quot;round&quot;, &quot;lineJoin&quot;: &quot;round&quot;, &quot;opacity&quot;: 1.0, &quot;radius&quot;: 3, &quot;stroke&quot;: true, &quot;weight&quot;: 3}\n",
       "            ).addTo(map_e47a3adb9f6102181a7bde97390a9b82);\n",
       "        \n",
       "    \n",
       "            var circle_marker_1cc667aa29532210c06a6c6136ce31b9 = L.circleMarker(\n",
       "                [56.355010392516334, 84.9854455004618],\n",
       "                {&quot;bubblingMouseEvents&quot;: true, &quot;color&quot;: &quot;blue&quot;, &quot;dashArray&quot;: null, &quot;dashOffset&quot;: null, &quot;fill&quot;: true, &quot;fillColor&quot;: &quot;blue&quot;, &quot;fillOpacity&quot;: 0.2, &quot;fillRule&quot;: &quot;evenodd&quot;, &quot;lineCap&quot;: &quot;round&quot;, &quot;lineJoin&quot;: &quot;round&quot;, &quot;opacity&quot;: 1.0, &quot;radius&quot;: 3, &quot;stroke&quot;: true, &quot;weight&quot;: 3}\n",
       "            ).addTo(map_e47a3adb9f6102181a7bde97390a9b82);\n",
       "        \n",
       "    \n",
       "            var circle_marker_b376d51602bf7674ec502a80ea3f28b3 = L.circleMarker(\n",
       "                [56.17014101494122, 47.11724773365037],\n",
       "                {&quot;bubblingMouseEvents&quot;: true, &quot;color&quot;: &quot;red&quot;, &quot;dashArray&quot;: null, &quot;dashOffset&quot;: null, &quot;fill&quot;: true, &quot;fillColor&quot;: &quot;red&quot;, &quot;fillOpacity&quot;: 0.2, &quot;fillRule&quot;: &quot;evenodd&quot;, &quot;lineCap&quot;: &quot;round&quot;, &quot;lineJoin&quot;: &quot;round&quot;, &quot;opacity&quot;: 1.0, &quot;radius&quot;: 3, &quot;stroke&quot;: true, &quot;weight&quot;: 3}\n",
       "            ).addTo(map_e47a3adb9f6102181a7bde97390a9b82);\n",
       "        \n",
       "    \n",
       "            var circle_marker_9cedd128da128ac8c4f7e1d1f7cb1179 = L.circleMarker(\n",
       "                [56.673749056519085, 84.96581539037318],\n",
       "                {&quot;bubblingMouseEvents&quot;: true, &quot;color&quot;: &quot;blue&quot;, &quot;dashArray&quot;: null, &quot;dashOffset&quot;: null, &quot;fill&quot;: true, &quot;fillColor&quot;: &quot;blue&quot;, &quot;fillOpacity&quot;: 0.2, &quot;fillRule&quot;: &quot;evenodd&quot;, &quot;lineCap&quot;: &quot;round&quot;, &quot;lineJoin&quot;: &quot;round&quot;, &quot;opacity&quot;: 1.0, &quot;radius&quot;: 3, &quot;stroke&quot;: true, &quot;weight&quot;: 3}\n",
       "            ).addTo(map_e47a3adb9f6102181a7bde97390a9b82);\n",
       "        \n",
       "    \n",
       "            var circle_marker_55d9f4db865a6bc60e37d93320999205 = L.circleMarker(\n",
       "                [51.57400486263739, 39.34834457306957],\n",
       "                {&quot;bubblingMouseEvents&quot;: true, &quot;color&quot;: &quot;blue&quot;, &quot;dashArray&quot;: null, &quot;dashOffset&quot;: null, &quot;fill&quot;: true, &quot;fillColor&quot;: &quot;blue&quot;, &quot;fillOpacity&quot;: 0.2, &quot;fillRule&quot;: &quot;evenodd&quot;, &quot;lineCap&quot;: &quot;round&quot;, &quot;lineJoin&quot;: &quot;round&quot;, &quot;opacity&quot;: 1.0, &quot;radius&quot;: 3, &quot;stroke&quot;: true, &quot;weight&quot;: 3}\n",
       "            ).addTo(map_e47a3adb9f6102181a7bde97390a9b82);\n",
       "        \n",
       "    \n",
       "            var circle_marker_e7c978f7e2adc06b9a6bd534a47ea4a1 = L.circleMarker(\n",
       "                [53.261788889591394, 59.039969953699895],\n",
       "                {&quot;bubblingMouseEvents&quot;: true, &quot;color&quot;: &quot;red&quot;, &quot;dashArray&quot;: null, &quot;dashOffset&quot;: null, &quot;fill&quot;: true, &quot;fillColor&quot;: &quot;red&quot;, &quot;fillOpacity&quot;: 0.2, &quot;fillRule&quot;: &quot;evenodd&quot;, &quot;lineCap&quot;: &quot;round&quot;, &quot;lineJoin&quot;: &quot;round&quot;, &quot;opacity&quot;: 1.0, &quot;radius&quot;: 3, &quot;stroke&quot;: true, &quot;weight&quot;: 3}\n",
       "            ).addTo(map_e47a3adb9f6102181a7bde97390a9b82);\n",
       "        \n",
       "    \n",
       "            var circle_marker_54a35887def48f6bf455edf06b6d3a72 = L.circleMarker(\n",
       "                [55.822703766537565, 37.56210323311374],\n",
       "                {&quot;bubblingMouseEvents&quot;: true, &quot;color&quot;: &quot;blue&quot;, &quot;dashArray&quot;: null, &quot;dashOffset&quot;: null, &quot;fill&quot;: true, &quot;fillColor&quot;: &quot;blue&quot;, &quot;fillOpacity&quot;: 0.2, &quot;fillRule&quot;: &quot;evenodd&quot;, &quot;lineCap&quot;: &quot;round&quot;, &quot;lineJoin&quot;: &quot;round&quot;, &quot;opacity&quot;: 1.0, &quot;radius&quot;: 3, &quot;stroke&quot;: true, &quot;weight&quot;: 3}\n",
       "            ).addTo(map_e47a3adb9f6102181a7bde97390a9b82);\n",
       "        \n",
       "    \n",
       "            var circle_marker_348591aae955cad8ea67e10cdee9bc2e = L.circleMarker(\n",
       "                [55.592346024673844, 37.74904106744238],\n",
       "                {&quot;bubblingMouseEvents&quot;: true, &quot;color&quot;: &quot;blue&quot;, &quot;dashArray&quot;: null, &quot;dashOffset&quot;: null, &quot;fill&quot;: true, &quot;fillColor&quot;: &quot;blue&quot;, &quot;fillOpacity&quot;: 0.2, &quot;fillRule&quot;: &quot;evenodd&quot;, &quot;lineCap&quot;: &quot;round&quot;, &quot;lineJoin&quot;: &quot;round&quot;, &quot;opacity&quot;: 1.0, &quot;radius&quot;: 3, &quot;stroke&quot;: true, &quot;weight&quot;: 3}\n",
       "            ).addTo(map_e47a3adb9f6102181a7bde97390a9b82);\n",
       "        \n",
       "    \n",
       "            var circle_marker_01c3e80b991b1922ad0f4ca6cbec10c1 = L.circleMarker(\n",
       "                [55.595633799277245, 37.734460513690344],\n",
       "                {&quot;bubblingMouseEvents&quot;: true, &quot;color&quot;: &quot;blue&quot;, &quot;dashArray&quot;: null, &quot;dashOffset&quot;: null, &quot;fill&quot;: true, &quot;fillColor&quot;: &quot;blue&quot;, &quot;fillOpacity&quot;: 0.2, &quot;fillRule&quot;: &quot;evenodd&quot;, &quot;lineCap&quot;: &quot;round&quot;, &quot;lineJoin&quot;: &quot;round&quot;, &quot;opacity&quot;: 1.0, &quot;radius&quot;: 3, &quot;stroke&quot;: true, &quot;weight&quot;: 3}\n",
       "            ).addTo(map_e47a3adb9f6102181a7bde97390a9b82);\n",
       "        \n",
       "    \n",
       "            var circle_marker_67e2c077bab3eb85b6df6852e52fcfe9 = L.circleMarker(\n",
       "                [47.40527893260196, 39.72763910799636],\n",
       "                {&quot;bubblingMouseEvents&quot;: true, &quot;color&quot;: &quot;blue&quot;, &quot;dashArray&quot;: null, &quot;dashOffset&quot;: null, &quot;fill&quot;: true, &quot;fillColor&quot;: &quot;blue&quot;, &quot;fillOpacity&quot;: 0.2, &quot;fillRule&quot;: &quot;evenodd&quot;, &quot;lineCap&quot;: &quot;round&quot;, &quot;lineJoin&quot;: &quot;round&quot;, &quot;opacity&quot;: 1.0, &quot;radius&quot;: 3, &quot;stroke&quot;: true, &quot;weight&quot;: 3}\n",
       "            ).addTo(map_e47a3adb9f6102181a7bde97390a9b82);\n",
       "        \n",
       "    \n",
       "            var circle_marker_c7e4a7593d19532d1d726fe4e819b16f = L.circleMarker(\n",
       "                [53.16826080573701, 49.97849402836942],\n",
       "                {&quot;bubblingMouseEvents&quot;: true, &quot;color&quot;: &quot;blue&quot;, &quot;dashArray&quot;: null, &quot;dashOffset&quot;: null, &quot;fill&quot;: true, &quot;fillColor&quot;: &quot;blue&quot;, &quot;fillOpacity&quot;: 0.2, &quot;fillRule&quot;: &quot;evenodd&quot;, &quot;lineCap&quot;: &quot;round&quot;, &quot;lineJoin&quot;: &quot;round&quot;, &quot;opacity&quot;: 1.0, &quot;radius&quot;: 3, &quot;stroke&quot;: true, &quot;weight&quot;: 3}\n",
       "            ).addTo(map_e47a3adb9f6102181a7bde97390a9b82);\n",
       "        \n",
       "    \n",
       "            var circle_marker_d2a5aead9a2c29b53ffaeb3f4ba090fc = L.circleMarker(\n",
       "                [51.546690375996675, 39.18591346081719],\n",
       "                {&quot;bubblingMouseEvents&quot;: true, &quot;color&quot;: &quot;red&quot;, &quot;dashArray&quot;: null, &quot;dashOffset&quot;: null, &quot;fill&quot;: true, &quot;fillColor&quot;: &quot;red&quot;, &quot;fillOpacity&quot;: 0.2, &quot;fillRule&quot;: &quot;evenodd&quot;, &quot;lineCap&quot;: &quot;round&quot;, &quot;lineJoin&quot;: &quot;round&quot;, &quot;opacity&quot;: 1.0, &quot;radius&quot;: 3, &quot;stroke&quot;: true, &quot;weight&quot;: 3}\n",
       "            ).addTo(map_e47a3adb9f6102181a7bde97390a9b82);\n",
       "        \n",
       "    \n",
       "            var circle_marker_312d579b84e167992b45abc878df3426 = L.circleMarker(\n",
       "                [54.93230189898934, 82.78966220551735],\n",
       "                {&quot;bubblingMouseEvents&quot;: true, &quot;color&quot;: &quot;blue&quot;, &quot;dashArray&quot;: null, &quot;dashOffset&quot;: null, &quot;fill&quot;: true, &quot;fillColor&quot;: &quot;blue&quot;, &quot;fillOpacity&quot;: 0.2, &quot;fillRule&quot;: &quot;evenodd&quot;, &quot;lineCap&quot;: &quot;round&quot;, &quot;lineJoin&quot;: &quot;round&quot;, &quot;opacity&quot;: 1.0, &quot;radius&quot;: 3, &quot;stroke&quot;: true, &quot;weight&quot;: 3}\n",
       "            ).addTo(map_e47a3adb9f6102181a7bde97390a9b82);\n",
       "        \n",
       "    \n",
       "            var circle_marker_3e16573ae2142244b01f90fe7110f184 = L.circleMarker(\n",
       "                [48.412755940276256, 135.0883304162298],\n",
       "                {&quot;bubblingMouseEvents&quot;: true, &quot;color&quot;: &quot;blue&quot;, &quot;dashArray&quot;: null, &quot;dashOffset&quot;: null, &quot;fill&quot;: true, &quot;fillColor&quot;: &quot;blue&quot;, &quot;fillOpacity&quot;: 0.2, &quot;fillRule&quot;: &quot;evenodd&quot;, &quot;lineCap&quot;: &quot;round&quot;, &quot;lineJoin&quot;: &quot;round&quot;, &quot;opacity&quot;: 1.0, &quot;radius&quot;: 3, &quot;stroke&quot;: true, &quot;weight&quot;: 3}\n",
       "            ).addTo(map_e47a3adb9f6102181a7bde97390a9b82);\n",
       "        \n",
       "    \n",
       "            var circle_marker_b1088b97832dd05bc7a2043fec936a32 = L.circleMarker(\n",
       "                [58.122917501188766, 56.36138850145552],\n",
       "                {&quot;bubblingMouseEvents&quot;: true, &quot;color&quot;: &quot;red&quot;, &quot;dashArray&quot;: null, &quot;dashOffset&quot;: null, &quot;fill&quot;: true, &quot;fillColor&quot;: &quot;red&quot;, &quot;fillOpacity&quot;: 0.2, &quot;fillRule&quot;: &quot;evenodd&quot;, &quot;lineCap&quot;: &quot;round&quot;, &quot;lineJoin&quot;: &quot;round&quot;, &quot;opacity&quot;: 1.0, &quot;radius&quot;: 3, &quot;stroke&quot;: true, &quot;weight&quot;: 3}\n",
       "            ).addTo(map_e47a3adb9f6102181a7bde97390a9b82);\n",
       "        \n",
       "    \n",
       "            var circle_marker_e6eecf38bc746019ae153b458e53aa8b = L.circleMarker(\n",
       "                [55.68517006994555, 37.78673548971746],\n",
       "                {&quot;bubblingMouseEvents&quot;: true, &quot;color&quot;: &quot;blue&quot;, &quot;dashArray&quot;: null, &quot;dashOffset&quot;: null, &quot;fill&quot;: true, &quot;fillColor&quot;: &quot;blue&quot;, &quot;fillOpacity&quot;: 0.2, &quot;fillRule&quot;: &quot;evenodd&quot;, &quot;lineCap&quot;: &quot;round&quot;, &quot;lineJoin&quot;: &quot;round&quot;, &quot;opacity&quot;: 1.0, &quot;radius&quot;: 3, &quot;stroke&quot;: true, &quot;weight&quot;: 3}\n",
       "            ).addTo(map_e47a3adb9f6102181a7bde97390a9b82);\n",
       "        \n",
       "    \n",
       "            var circle_marker_3af168cc5d8893ab145fd8b5e5ed8ae9 = L.circleMarker(\n",
       "                [55.9275292703507, 37.479127477107106],\n",
       "                {&quot;bubblingMouseEvents&quot;: true, &quot;color&quot;: &quot;red&quot;, &quot;dashArray&quot;: null, &quot;dashOffset&quot;: null, &quot;fill&quot;: true, &quot;fillColor&quot;: &quot;red&quot;, &quot;fillOpacity&quot;: 0.2, &quot;fillRule&quot;: &quot;evenodd&quot;, &quot;lineCap&quot;: &quot;round&quot;, &quot;lineJoin&quot;: &quot;round&quot;, &quot;opacity&quot;: 1.0, &quot;radius&quot;: 3, &quot;stroke&quot;: true, &quot;weight&quot;: 3}\n",
       "            ).addTo(map_e47a3adb9f6102181a7bde97390a9b82);\n",
       "        \n",
       "    \n",
       "            var circle_marker_d926933c3e34a49f35bb5d998e6b8d0d = L.circleMarker(\n",
       "                [59.76200745956144, 30.438538710915964],\n",
       "                {&quot;bubblingMouseEvents&quot;: true, &quot;color&quot;: &quot;blue&quot;, &quot;dashArray&quot;: null, &quot;dashOffset&quot;: null, &quot;fill&quot;: true, &quot;fillColor&quot;: &quot;blue&quot;, &quot;fillOpacity&quot;: 0.2, &quot;fillRule&quot;: &quot;evenodd&quot;, &quot;lineCap&quot;: &quot;round&quot;, &quot;lineJoin&quot;: &quot;round&quot;, &quot;opacity&quot;: 1.0, &quot;radius&quot;: 3, &quot;stroke&quot;: true, &quot;weight&quot;: 3}\n",
       "            ).addTo(map_e47a3adb9f6102181a7bde97390a9b82);\n",
       "        \n",
       "    \n",
       "            var circle_marker_2b89a28347aee089e7fe68d3f4fe47d6 = L.circleMarker(\n",
       "                [55.56818609656593, 37.4924544028299],\n",
       "                {&quot;bubblingMouseEvents&quot;: true, &quot;color&quot;: &quot;blue&quot;, &quot;dashArray&quot;: null, &quot;dashOffset&quot;: null, &quot;fill&quot;: true, &quot;fillColor&quot;: &quot;blue&quot;, &quot;fillOpacity&quot;: 0.2, &quot;fillRule&quot;: &quot;evenodd&quot;, &quot;lineCap&quot;: &quot;round&quot;, &quot;lineJoin&quot;: &quot;round&quot;, &quot;opacity&quot;: 1.0, &quot;radius&quot;: 3, &quot;stroke&quot;: true, &quot;weight&quot;: 3}\n",
       "            ).addTo(map_e47a3adb9f6102181a7bde97390a9b82);\n",
       "        \n",
       "    \n",
       "            var circle_marker_97d98aa3a8f1e3a6ac5757121cd8b5c7 = L.circleMarker(\n",
       "                [55.79805657320858, 37.44447015714301],\n",
       "                {&quot;bubblingMouseEvents&quot;: true, &quot;color&quot;: &quot;blue&quot;, &quot;dashArray&quot;: null, &quot;dashOffset&quot;: null, &quot;fill&quot;: true, &quot;fillColor&quot;: &quot;blue&quot;, &quot;fillOpacity&quot;: 0.2, &quot;fillRule&quot;: &quot;evenodd&quot;, &quot;lineCap&quot;: &quot;round&quot;, &quot;lineJoin&quot;: &quot;round&quot;, &quot;opacity&quot;: 1.0, &quot;radius&quot;: 3, &quot;stroke&quot;: true, &quot;weight&quot;: 3}\n",
       "            ).addTo(map_e47a3adb9f6102181a7bde97390a9b82);\n",
       "        \n",
       "    \n",
       "            var circle_marker_24d4fb448fba5d5cf522bf0ce41eafcc = L.circleMarker(\n",
       "                [51.84751548693204, 36.36138941525543],\n",
       "                {&quot;bubblingMouseEvents&quot;: true, &quot;color&quot;: &quot;blue&quot;, &quot;dashArray&quot;: null, &quot;dashOffset&quot;: null, &quot;fill&quot;: true, &quot;fillColor&quot;: &quot;blue&quot;, &quot;fillOpacity&quot;: 0.2, &quot;fillRule&quot;: &quot;evenodd&quot;, &quot;lineCap&quot;: &quot;round&quot;, &quot;lineJoin&quot;: &quot;round&quot;, &quot;opacity&quot;: 1.0, &quot;radius&quot;: 3, &quot;stroke&quot;: true, &quot;weight&quot;: 3}\n",
       "            ).addTo(map_e47a3adb9f6102181a7bde97390a9b82);\n",
       "        \n",
       "    \n",
       "            var circle_marker_4665059218dbdbd48db05af44d72033b = L.circleMarker(\n",
       "                [54.70974332545568, 31.951892419078288],\n",
       "                {&quot;bubblingMouseEvents&quot;: true, &quot;color&quot;: &quot;blue&quot;, &quot;dashArray&quot;: null, &quot;dashOffset&quot;: null, &quot;fill&quot;: true, &quot;fillColor&quot;: &quot;blue&quot;, &quot;fillOpacity&quot;: 0.2, &quot;fillRule&quot;: &quot;evenodd&quot;, &quot;lineCap&quot;: &quot;round&quot;, &quot;lineJoin&quot;: &quot;round&quot;, &quot;opacity&quot;: 1.0, &quot;radius&quot;: 3, &quot;stroke&quot;: true, &quot;weight&quot;: 3}\n",
       "            ).addTo(map_e47a3adb9f6102181a7bde97390a9b82);\n",
       "        \n",
       "    \n",
       "            var circle_marker_e3c09592a55b596472ca75eae1fead6c = L.circleMarker(\n",
       "                [57.916962839521005, 56.171874795113034],\n",
       "                {&quot;bubblingMouseEvents&quot;: true, &quot;color&quot;: &quot;blue&quot;, &quot;dashArray&quot;: null, &quot;dashOffset&quot;: null, &quot;fill&quot;: true, &quot;fillColor&quot;: &quot;blue&quot;, &quot;fillOpacity&quot;: 0.2, &quot;fillRule&quot;: &quot;evenodd&quot;, &quot;lineCap&quot;: &quot;round&quot;, &quot;lineJoin&quot;: &quot;round&quot;, &quot;opacity&quot;: 1.0, &quot;radius&quot;: 3, &quot;stroke&quot;: true, &quot;weight&quot;: 3}\n",
       "            ).addTo(map_e47a3adb9f6102181a7bde97390a9b82);\n",
       "        \n",
       "    \n",
       "            var circle_marker_aedb0794a85097d7bed3f9212e33ef69 = L.circleMarker(\n",
       "                [47.182951608605556, 39.551624366802834],\n",
       "                {&quot;bubblingMouseEvents&quot;: true, &quot;color&quot;: &quot;blue&quot;, &quot;dashArray&quot;: null, &quot;dashOffset&quot;: null, &quot;fill&quot;: true, &quot;fillColor&quot;: &quot;blue&quot;, &quot;fillOpacity&quot;: 0.2, &quot;fillRule&quot;: &quot;evenodd&quot;, &quot;lineCap&quot;: &quot;round&quot;, &quot;lineJoin&quot;: &quot;round&quot;, &quot;opacity&quot;: 1.0, &quot;radius&quot;: 3, &quot;stroke&quot;: true, &quot;weight&quot;: 3}\n",
       "            ).addTo(map_e47a3adb9f6102181a7bde97390a9b82);\n",
       "        \n",
       "    \n",
       "            var circle_marker_270f428dfe9dc904971e7f9e756c0302 = L.circleMarker(\n",
       "                [46.46219644240492, 47.985753135970356],\n",
       "                {&quot;bubblingMouseEvents&quot;: true, &quot;color&quot;: &quot;red&quot;, &quot;dashArray&quot;: null, &quot;dashOffset&quot;: null, &quot;fill&quot;: true, &quot;fillColor&quot;: &quot;red&quot;, &quot;fillOpacity&quot;: 0.2, &quot;fillRule&quot;: &quot;evenodd&quot;, &quot;lineCap&quot;: &quot;round&quot;, &quot;lineJoin&quot;: &quot;round&quot;, &quot;opacity&quot;: 1.0, &quot;radius&quot;: 3, &quot;stroke&quot;: true, &quot;weight&quot;: 3}\n",
       "            ).addTo(map_e47a3adb9f6102181a7bde97390a9b82);\n",
       "        \n",
       "    \n",
       "            var circle_marker_315e077459791d34a2a2f9fbfa8a44b7 = L.circleMarker(\n",
       "                [55.56352546844334, 37.67666501316878],\n",
       "                {&quot;bubblingMouseEvents&quot;: true, &quot;color&quot;: &quot;red&quot;, &quot;dashArray&quot;: null, &quot;dashOffset&quot;: null, &quot;fill&quot;: true, &quot;fillColor&quot;: &quot;red&quot;, &quot;fillOpacity&quot;: 0.2, &quot;fillRule&quot;: &quot;evenodd&quot;, &quot;lineCap&quot;: &quot;round&quot;, &quot;lineJoin&quot;: &quot;round&quot;, &quot;opacity&quot;: 1.0, &quot;radius&quot;: 3, &quot;stroke&quot;: true, &quot;weight&quot;: 3}\n",
       "            ).addTo(map_e47a3adb9f6102181a7bde97390a9b82);\n",
       "        \n",
       "    \n",
       "            var circle_marker_a39c4932de23cca3557d0e65c8e4ac9f = L.circleMarker(\n",
       "                [54.35105870474954, 45.1481558805393],\n",
       "                {&quot;bubblingMouseEvents&quot;: true, &quot;color&quot;: &quot;red&quot;, &quot;dashArray&quot;: null, &quot;dashOffset&quot;: null, &quot;fill&quot;: true, &quot;fillColor&quot;: &quot;red&quot;, &quot;fillOpacity&quot;: 0.2, &quot;fillRule&quot;: &quot;evenodd&quot;, &quot;lineCap&quot;: &quot;round&quot;, &quot;lineJoin&quot;: &quot;round&quot;, &quot;opacity&quot;: 1.0, &quot;radius&quot;: 3, &quot;stroke&quot;: true, &quot;weight&quot;: 3}\n",
       "            ).addTo(map_e47a3adb9f6102181a7bde97390a9b82);\n",
       "        \n",
       "    \n",
       "            var circle_marker_7de62c50841f152187deb99d2dbfc960 = L.circleMarker(\n",
       "                [59.78279081344688, 30.15373302829939],\n",
       "                {&quot;bubblingMouseEvents&quot;: true, &quot;color&quot;: &quot;blue&quot;, &quot;dashArray&quot;: null, &quot;dashOffset&quot;: null, &quot;fill&quot;: true, &quot;fillColor&quot;: &quot;blue&quot;, &quot;fillOpacity&quot;: 0.2, &quot;fillRule&quot;: &quot;evenodd&quot;, &quot;lineCap&quot;: &quot;round&quot;, &quot;lineJoin&quot;: &quot;round&quot;, &quot;opacity&quot;: 1.0, &quot;radius&quot;: 3, &quot;stroke&quot;: true, &quot;weight&quot;: 3}\n",
       "            ).addTo(map_e47a3adb9f6102181a7bde97390a9b82);\n",
       "        \n",
       "    \n",
       "            var circle_marker_d416b188d28a6db7ba2909a45f40d5ae = L.circleMarker(\n",
       "                [59.85636397087439, 30.334055693771074],\n",
       "                {&quot;bubblingMouseEvents&quot;: true, &quot;color&quot;: &quot;red&quot;, &quot;dashArray&quot;: null, &quot;dashOffset&quot;: null, &quot;fill&quot;: true, &quot;fillColor&quot;: &quot;red&quot;, &quot;fillOpacity&quot;: 0.2, &quot;fillRule&quot;: &quot;evenodd&quot;, &quot;lineCap&quot;: &quot;round&quot;, &quot;lineJoin&quot;: &quot;round&quot;, &quot;opacity&quot;: 1.0, &quot;radius&quot;: 3, &quot;stroke&quot;: true, &quot;weight&quot;: 3}\n",
       "            ).addTo(map_e47a3adb9f6102181a7bde97390a9b82);\n",
       "        \n",
       "    \n",
       "            var circle_marker_f8936b29e52563dc6a0b7b6adfa8ebd1 = L.circleMarker(\n",
       "                [60.10227854848543, 30.14978333991984],\n",
       "                {&quot;bubblingMouseEvents&quot;: true, &quot;color&quot;: &quot;blue&quot;, &quot;dashArray&quot;: null, &quot;dashOffset&quot;: null, &quot;fill&quot;: true, &quot;fillColor&quot;: &quot;blue&quot;, &quot;fillOpacity&quot;: 0.2, &quot;fillRule&quot;: &quot;evenodd&quot;, &quot;lineCap&quot;: &quot;round&quot;, &quot;lineJoin&quot;: &quot;round&quot;, &quot;opacity&quot;: 1.0, &quot;radius&quot;: 3, &quot;stroke&quot;: true, &quot;weight&quot;: 3}\n",
       "            ).addTo(map_e47a3adb9f6102181a7bde97390a9b82);\n",
       "        \n",
       "    \n",
       "            var circle_marker_5be504f68ae6a9b60f4c82e9189d69dc = L.circleMarker(\n",
       "                [59.899193951139196, 30.211265121099938],\n",
       "                {&quot;bubblingMouseEvents&quot;: true, &quot;color&quot;: &quot;red&quot;, &quot;dashArray&quot;: null, &quot;dashOffset&quot;: null, &quot;fill&quot;: true, &quot;fillColor&quot;: &quot;red&quot;, &quot;fillOpacity&quot;: 0.2, &quot;fillRule&quot;: &quot;evenodd&quot;, &quot;lineCap&quot;: &quot;round&quot;, &quot;lineJoin&quot;: &quot;round&quot;, &quot;opacity&quot;: 1.0, &quot;radius&quot;: 3, &quot;stroke&quot;: true, &quot;weight&quot;: 3}\n",
       "            ).addTo(map_e47a3adb9f6102181a7bde97390a9b82);\n",
       "        \n",
       "    \n",
       "            var circle_marker_24c2d9f50b474b09bdcd0f5dc363b039 = L.circleMarker(\n",
       "                [55.79497101272792, 37.574667642327896],\n",
       "                {&quot;bubblingMouseEvents&quot;: true, &quot;color&quot;: &quot;blue&quot;, &quot;dashArray&quot;: null, &quot;dashOffset&quot;: null, &quot;fill&quot;: true, &quot;fillColor&quot;: &quot;blue&quot;, &quot;fillOpacity&quot;: 0.2, &quot;fillRule&quot;: &quot;evenodd&quot;, &quot;lineCap&quot;: &quot;round&quot;, &quot;lineJoin&quot;: &quot;round&quot;, &quot;opacity&quot;: 1.0, &quot;radius&quot;: 3, &quot;stroke&quot;: true, &quot;weight&quot;: 3}\n",
       "            ).addTo(map_e47a3adb9f6102181a7bde97390a9b82);\n",
       "        \n",
       "    \n",
       "            var circle_marker_1b65720ef02e91707412a514dc13d28b = L.circleMarker(\n",
       "                [55.76306762441516, 49.26437667901293],\n",
       "                {&quot;bubblingMouseEvents&quot;: true, &quot;color&quot;: &quot;blue&quot;, &quot;dashArray&quot;: null, &quot;dashOffset&quot;: null, &quot;fill&quot;: true, &quot;fillColor&quot;: &quot;blue&quot;, &quot;fillOpacity&quot;: 0.2, &quot;fillRule&quot;: &quot;evenodd&quot;, &quot;lineCap&quot;: &quot;round&quot;, &quot;lineJoin&quot;: &quot;round&quot;, &quot;opacity&quot;: 1.0, &quot;radius&quot;: 3, &quot;stroke&quot;: true, &quot;weight&quot;: 3}\n",
       "            ).addTo(map_e47a3adb9f6102181a7bde97390a9b82);\n",
       "        \n",
       "    \n",
       "            var circle_marker_ea313cac1c28a9530ef233a0f0fb18bb = L.circleMarker(\n",
       "                [54.13943494147122, 48.586208448499335],\n",
       "                {&quot;bubblingMouseEvents&quot;: true, &quot;color&quot;: &quot;blue&quot;, &quot;dashArray&quot;: null, &quot;dashOffset&quot;: null, &quot;fill&quot;: true, &quot;fillColor&quot;: &quot;blue&quot;, &quot;fillOpacity&quot;: 0.2, &quot;fillRule&quot;: &quot;evenodd&quot;, &quot;lineCap&quot;: &quot;round&quot;, &quot;lineJoin&quot;: &quot;round&quot;, &quot;opacity&quot;: 1.0, &quot;radius&quot;: 3, &quot;stroke&quot;: true, &quot;weight&quot;: 3}\n",
       "            ).addTo(map_e47a3adb9f6102181a7bde97390a9b82);\n",
       "        \n",
       "    \n",
       "            var circle_marker_5362d607c6db72de0f59692a1f359d20 = L.circleMarker(\n",
       "                [55.81190851312722, 37.899884038779106],\n",
       "                {&quot;bubblingMouseEvents&quot;: true, &quot;color&quot;: &quot;blue&quot;, &quot;dashArray&quot;: null, &quot;dashOffset&quot;: null, &quot;fill&quot;: true, &quot;fillColor&quot;: &quot;blue&quot;, &quot;fillOpacity&quot;: 0.2, &quot;fillRule&quot;: &quot;evenodd&quot;, &quot;lineCap&quot;: &quot;round&quot;, &quot;lineJoin&quot;: &quot;round&quot;, &quot;opacity&quot;: 1.0, &quot;radius&quot;: 3, &quot;stroke&quot;: true, &quot;weight&quot;: 3}\n",
       "            ).addTo(map_e47a3adb9f6102181a7bde97390a9b82);\n",
       "        \n",
       "    \n",
       "            var circle_marker_7ddc128f54121f6f7a1c7114cd897c57 = L.circleMarker(\n",
       "                [48.51207309087341, 135.10086482390784],\n",
       "                {&quot;bubblingMouseEvents&quot;: true, &quot;color&quot;: &quot;blue&quot;, &quot;dashArray&quot;: null, &quot;dashOffset&quot;: null, &quot;fill&quot;: true, &quot;fillColor&quot;: &quot;blue&quot;, &quot;fillOpacity&quot;: 0.2, &quot;fillRule&quot;: &quot;evenodd&quot;, &quot;lineCap&quot;: &quot;round&quot;, &quot;lineJoin&quot;: &quot;round&quot;, &quot;opacity&quot;: 1.0, &quot;radius&quot;: 3, &quot;stroke&quot;: true, &quot;weight&quot;: 3}\n",
       "            ).addTo(map_e47a3adb9f6102181a7bde97390a9b82);\n",
       "        \n",
       "    \n",
       "            var circle_marker_d31602600d799011356de46bed44d4fb = L.circleMarker(\n",
       "                [54.92868991981393, 73.47518129137042],\n",
       "                {&quot;bubblingMouseEvents&quot;: true, &quot;color&quot;: &quot;red&quot;, &quot;dashArray&quot;: null, &quot;dashOffset&quot;: null, &quot;fill&quot;: true, &quot;fillColor&quot;: &quot;red&quot;, &quot;fillOpacity&quot;: 0.2, &quot;fillRule&quot;: &quot;evenodd&quot;, &quot;lineCap&quot;: &quot;round&quot;, &quot;lineJoin&quot;: &quot;round&quot;, &quot;opacity&quot;: 1.0, &quot;radius&quot;: 3, &quot;stroke&quot;: true, &quot;weight&quot;: 3}\n",
       "            ).addTo(map_e47a3adb9f6102181a7bde97390a9b82);\n",
       "        \n",
       "    \n",
       "            var circle_marker_b37a5dab17abf9d2a293526af7b59131 = L.circleMarker(\n",
       "                [54.49125329742161, 36.277232436899816],\n",
       "                {&quot;bubblingMouseEvents&quot;: true, &quot;color&quot;: &quot;blue&quot;, &quot;dashArray&quot;: null, &quot;dashOffset&quot;: null, &quot;fill&quot;: true, &quot;fillColor&quot;: &quot;blue&quot;, &quot;fillOpacity&quot;: 0.2, &quot;fillRule&quot;: &quot;evenodd&quot;, &quot;lineCap&quot;: &quot;round&quot;, &quot;lineJoin&quot;: &quot;round&quot;, &quot;opacity&quot;: 1.0, &quot;radius&quot;: 3, &quot;stroke&quot;: true, &quot;weight&quot;: 3}\n",
       "            ).addTo(map_e47a3adb9f6102181a7bde97390a9b82);\n",
       "        \n",
       "    \n",
       "            var circle_marker_650327748eb60ea441d94491b82e49b4 = L.circleMarker(\n",
       "                [56.768194413691276, 60.639034159333235],\n",
       "                {&quot;bubblingMouseEvents&quot;: true, &quot;color&quot;: &quot;blue&quot;, &quot;dashArray&quot;: null, &quot;dashOffset&quot;: null, &quot;fill&quot;: true, &quot;fillColor&quot;: &quot;blue&quot;, &quot;fillOpacity&quot;: 0.2, &quot;fillRule&quot;: &quot;evenodd&quot;, &quot;lineCap&quot;: &quot;round&quot;, &quot;lineJoin&quot;: &quot;round&quot;, &quot;opacity&quot;: 1.0, &quot;radius&quot;: 3, &quot;stroke&quot;: true, &quot;weight&quot;: 3}\n",
       "            ).addTo(map_e47a3adb9f6102181a7bde97390a9b82);\n",
       "        \n",
       "    \n",
       "            var circle_marker_c5f1ffba017789fc108c8edd8b49dc6f = L.circleMarker(\n",
       "                [55.76093321305749, 37.55811106440252],\n",
       "                {&quot;bubblingMouseEvents&quot;: true, &quot;color&quot;: &quot;blue&quot;, &quot;dashArray&quot;: null, &quot;dashOffset&quot;: null, &quot;fill&quot;: true, &quot;fillColor&quot;: &quot;blue&quot;, &quot;fillOpacity&quot;: 0.2, &quot;fillRule&quot;: &quot;evenodd&quot;, &quot;lineCap&quot;: &quot;round&quot;, &quot;lineJoin&quot;: &quot;round&quot;, &quot;opacity&quot;: 1.0, &quot;radius&quot;: 3, &quot;stroke&quot;: true, &quot;weight&quot;: 3}\n",
       "            ).addTo(map_e47a3adb9f6102181a7bde97390a9b82);\n",
       "        \n",
       "    \n",
       "            var circle_marker_6f2d2703016bcd2e9c36b90e6941a0a8 = L.circleMarker(\n",
       "                [54.810003954095066, 73.24881785043588],\n",
       "                {&quot;bubblingMouseEvents&quot;: true, &quot;color&quot;: &quot;blue&quot;, &quot;dashArray&quot;: null, &quot;dashOffset&quot;: null, &quot;fill&quot;: true, &quot;fillColor&quot;: &quot;blue&quot;, &quot;fillOpacity&quot;: 0.2, &quot;fillRule&quot;: &quot;evenodd&quot;, &quot;lineCap&quot;: &quot;round&quot;, &quot;lineJoin&quot;: &quot;round&quot;, &quot;opacity&quot;: 1.0, &quot;radius&quot;: 3, &quot;stroke&quot;: true, &quot;weight&quot;: 3}\n",
       "            ).addTo(map_e47a3adb9f6102181a7bde97390a9b82);\n",
       "        \n",
       "    \n",
       "            var circle_marker_5940413b6cc67c5e83ab4d2d1de43f1e = L.circleMarker(\n",
       "                [60.9312898427139, 76.5562973515165],\n",
       "                {&quot;bubblingMouseEvents&quot;: true, &quot;color&quot;: &quot;red&quot;, &quot;dashArray&quot;: null, &quot;dashOffset&quot;: null, &quot;fill&quot;: true, &quot;fillColor&quot;: &quot;red&quot;, &quot;fillOpacity&quot;: 0.2, &quot;fillRule&quot;: &quot;evenodd&quot;, &quot;lineCap&quot;: &quot;round&quot;, &quot;lineJoin&quot;: &quot;round&quot;, &quot;opacity&quot;: 1.0, &quot;radius&quot;: 3, &quot;stroke&quot;: true, &quot;weight&quot;: 3}\n",
       "            ).addTo(map_e47a3adb9f6102181a7bde97390a9b82);\n",
       "        \n",
       "    \n",
       "            var circle_marker_fe91c3483a3c76ba364dcefd7a22a173 = L.circleMarker(\n",
       "                [55.135058471948575, 61.24331680793134],\n",
       "                {&quot;bubblingMouseEvents&quot;: true, &quot;color&quot;: &quot;red&quot;, &quot;dashArray&quot;: null, &quot;dashOffset&quot;: null, &quot;fill&quot;: true, &quot;fillColor&quot;: &quot;red&quot;, &quot;fillOpacity&quot;: 0.2, &quot;fillRule&quot;: &quot;evenodd&quot;, &quot;lineCap&quot;: &quot;round&quot;, &quot;lineJoin&quot;: &quot;round&quot;, &quot;opacity&quot;: 1.0, &quot;radius&quot;: 3, &quot;stroke&quot;: true, &quot;weight&quot;: 3}\n",
       "            ).addTo(map_e47a3adb9f6102181a7bde97390a9b82);\n",
       "        \n",
       "    \n",
       "            var circle_marker_76a897db5bd9b7b599cf5da64920aeba = L.circleMarker(\n",
       "                [53.2228659359725, 45.12996917221236],\n",
       "                {&quot;bubblingMouseEvents&quot;: true, &quot;color&quot;: &quot;red&quot;, &quot;dashArray&quot;: null, &quot;dashOffset&quot;: null, &quot;fill&quot;: true, &quot;fillColor&quot;: &quot;red&quot;, &quot;fillOpacity&quot;: 0.2, &quot;fillRule&quot;: &quot;evenodd&quot;, &quot;lineCap&quot;: &quot;round&quot;, &quot;lineJoin&quot;: &quot;round&quot;, &quot;opacity&quot;: 1.0, &quot;radius&quot;: 3, &quot;stroke&quot;: true, &quot;weight&quot;: 3}\n",
       "            ).addTo(map_e47a3adb9f6102181a7bde97390a9b82);\n",
       "        \n",
       "    \n",
       "            var circle_marker_9d4ed124a09aa8f0ee94f2a4c221113b = L.circleMarker(\n",
       "                [55.4433001138653, 65.32971036287022],\n",
       "                {&quot;bubblingMouseEvents&quot;: true, &quot;color&quot;: &quot;red&quot;, &quot;dashArray&quot;: null, &quot;dashOffset&quot;: null, &quot;fill&quot;: true, &quot;fillColor&quot;: &quot;red&quot;, &quot;fillOpacity&quot;: 0.2, &quot;fillRule&quot;: &quot;evenodd&quot;, &quot;lineCap&quot;: &quot;round&quot;, &quot;lineJoin&quot;: &quot;round&quot;, &quot;opacity&quot;: 1.0, &quot;radius&quot;: 3, &quot;stroke&quot;: true, &quot;weight&quot;: 3}\n",
       "            ).addTo(map_e47a3adb9f6102181a7bde97390a9b82);\n",
       "        \n",
       "    \n",
       "            var circle_marker_f1c7f53d779e3558922a063a30277de1 = L.circleMarker(\n",
       "                [48.905979938760204, 44.49312349636987],\n",
       "                {&quot;bubblingMouseEvents&quot;: true, &quot;color&quot;: &quot;blue&quot;, &quot;dashArray&quot;: null, &quot;dashOffset&quot;: null, &quot;fill&quot;: true, &quot;fillColor&quot;: &quot;blue&quot;, &quot;fillOpacity&quot;: 0.2, &quot;fillRule&quot;: &quot;evenodd&quot;, &quot;lineCap&quot;: &quot;round&quot;, &quot;lineJoin&quot;: &quot;round&quot;, &quot;opacity&quot;: 1.0, &quot;radius&quot;: 3, &quot;stroke&quot;: true, &quot;weight&quot;: 3}\n",
       "            ).addTo(map_e47a3adb9f6102181a7bde97390a9b82);\n",
       "        \n",
       "    \n",
       "            var circle_marker_f06838f54e595263fc8d344b4458f764 = L.circleMarker(\n",
       "                [55.703177891705636, 37.457302389086045],\n",
       "                {&quot;bubblingMouseEvents&quot;: true, &quot;color&quot;: &quot;blue&quot;, &quot;dashArray&quot;: null, &quot;dashOffset&quot;: null, &quot;fill&quot;: true, &quot;fillColor&quot;: &quot;blue&quot;, &quot;fillOpacity&quot;: 0.2, &quot;fillRule&quot;: &quot;evenodd&quot;, &quot;lineCap&quot;: &quot;round&quot;, &quot;lineJoin&quot;: &quot;round&quot;, &quot;opacity&quot;: 1.0, &quot;radius&quot;: 3, &quot;stroke&quot;: true, &quot;weight&quot;: 3}\n",
       "            ).addTo(map_e47a3adb9f6102181a7bde97390a9b82);\n",
       "        \n",
       "    \n",
       "            var circle_marker_73b7834366b09d53fdac8bccd84df7bd = L.circleMarker(\n",
       "                [55.86848608510899, 37.47538744148897],\n",
       "                {&quot;bubblingMouseEvents&quot;: true, &quot;color&quot;: &quot;red&quot;, &quot;dashArray&quot;: null, &quot;dashOffset&quot;: null, &quot;fill&quot;: true, &quot;fillColor&quot;: &quot;red&quot;, &quot;fillOpacity&quot;: 0.2, &quot;fillRule&quot;: &quot;evenodd&quot;, &quot;lineCap&quot;: &quot;round&quot;, &quot;lineJoin&quot;: &quot;round&quot;, &quot;opacity&quot;: 1.0, &quot;radius&quot;: 3, &quot;stroke&quot;: true, &quot;weight&quot;: 3}\n",
       "            ).addTo(map_e47a3adb9f6102181a7bde97390a9b82);\n",
       "        \n",
       "    \n",
       "            var circle_marker_8f37f092dd311f7365cce5763d258128 = L.circleMarker(\n",
       "                [54.90143108780015, 82.85316484399738],\n",
       "                {&quot;bubblingMouseEvents&quot;: true, &quot;color&quot;: &quot;red&quot;, &quot;dashArray&quot;: null, &quot;dashOffset&quot;: null, &quot;fill&quot;: true, &quot;fillColor&quot;: &quot;red&quot;, &quot;fillOpacity&quot;: 0.2, &quot;fillRule&quot;: &quot;evenodd&quot;, &quot;lineCap&quot;: &quot;round&quot;, &quot;lineJoin&quot;: &quot;round&quot;, &quot;opacity&quot;: 1.0, &quot;radius&quot;: 3, &quot;stroke&quot;: true, &quot;weight&quot;: 3}\n",
       "            ).addTo(map_e47a3adb9f6102181a7bde97390a9b82);\n",
       "        \n",
       "    \n",
       "            var circle_marker_ff3f2f33c7ea832dc297ed518ca751ed = L.circleMarker(\n",
       "                [53.91232558352208, 87.01443841871365],\n",
       "                {&quot;bubblingMouseEvents&quot;: true, &quot;color&quot;: &quot;blue&quot;, &quot;dashArray&quot;: null, &quot;dashOffset&quot;: null, &quot;fill&quot;: true, &quot;fillColor&quot;: &quot;blue&quot;, &quot;fillOpacity&quot;: 0.2, &quot;fillRule&quot;: &quot;evenodd&quot;, &quot;lineCap&quot;: &quot;round&quot;, &quot;lineJoin&quot;: &quot;round&quot;, &quot;opacity&quot;: 1.0, &quot;radius&quot;: 3, &quot;stroke&quot;: true, &quot;weight&quot;: 3}\n",
       "            ).addTo(map_e47a3adb9f6102181a7bde97390a9b82);\n",
       "        \n",
       "    \n",
       "            var circle_marker_7e3eeb1fd97ef728a4a5cc437ae64774 = L.circleMarker(\n",
       "                [55.12449907177391, 73.52559103227884],\n",
       "                {&quot;bubblingMouseEvents&quot;: true, &quot;color&quot;: &quot;blue&quot;, &quot;dashArray&quot;: null, &quot;dashOffset&quot;: null, &quot;fill&quot;: true, &quot;fillColor&quot;: &quot;blue&quot;, &quot;fillOpacity&quot;: 0.2, &quot;fillRule&quot;: &quot;evenodd&quot;, &quot;lineCap&quot;: &quot;round&quot;, &quot;lineJoin&quot;: &quot;round&quot;, &quot;opacity&quot;: 1.0, &quot;radius&quot;: 3, &quot;stroke&quot;: true, &quot;weight&quot;: 3}\n",
       "            ).addTo(map_e47a3adb9f6102181a7bde97390a9b82);\n",
       "        \n",
       "    \n",
       "            var circle_marker_15798882206b16fe1fa360fe2bfa4432 = L.circleMarker(\n",
       "                [46.21270007127638, 48.02735960540904],\n",
       "                {&quot;bubblingMouseEvents&quot;: true, &quot;color&quot;: &quot;blue&quot;, &quot;dashArray&quot;: null, &quot;dashOffset&quot;: null, &quot;fill&quot;: true, &quot;fillColor&quot;: &quot;blue&quot;, &quot;fillOpacity&quot;: 0.2, &quot;fillRule&quot;: &quot;evenodd&quot;, &quot;lineCap&quot;: &quot;round&quot;, &quot;lineJoin&quot;: &quot;round&quot;, &quot;opacity&quot;: 1.0, &quot;radius&quot;: 3, &quot;stroke&quot;: true, &quot;weight&quot;: 3}\n",
       "            ).addTo(map_e47a3adb9f6102181a7bde97390a9b82);\n",
       "        \n",
       "    \n",
       "            var circle_marker_d5c9ac7f2ae201251a30a9d3d0029b3b = L.circleMarker(\n",
       "                [56.47610285504728, 43.8882788653883],\n",
       "                {&quot;bubblingMouseEvents&quot;: true, &quot;color&quot;: &quot;red&quot;, &quot;dashArray&quot;: null, &quot;dashOffset&quot;: null, &quot;fill&quot;: true, &quot;fillColor&quot;: &quot;red&quot;, &quot;fillOpacity&quot;: 0.2, &quot;fillRule&quot;: &quot;evenodd&quot;, &quot;lineCap&quot;: &quot;round&quot;, &quot;lineJoin&quot;: &quot;round&quot;, &quot;opacity&quot;: 1.0, &quot;radius&quot;: 3, &quot;stroke&quot;: true, &quot;weight&quot;: 3}\n",
       "            ).addTo(map_e47a3adb9f6102181a7bde97390a9b82);\n",
       "        \n",
       "    \n",
       "            var circle_marker_8f8cbf72e8f551ccf6726e754a0e2fb6 = L.circleMarker(\n",
       "                [54.135417820364886, 48.45968340758549],\n",
       "                {&quot;bubblingMouseEvents&quot;: true, &quot;color&quot;: &quot;blue&quot;, &quot;dashArray&quot;: null, &quot;dashOffset&quot;: null, &quot;fill&quot;: true, &quot;fillColor&quot;: &quot;blue&quot;, &quot;fillOpacity&quot;: 0.2, &quot;fillRule&quot;: &quot;evenodd&quot;, &quot;lineCap&quot;: &quot;round&quot;, &quot;lineJoin&quot;: &quot;round&quot;, &quot;opacity&quot;: 1.0, &quot;radius&quot;: 3, &quot;stroke&quot;: true, &quot;weight&quot;: 3}\n",
       "            ).addTo(map_e47a3adb9f6102181a7bde97390a9b82);\n",
       "        \n",
       "    \n",
       "            var circle_marker_994d6916c895443a33d8d18de36ea6a2 = L.circleMarker(\n",
       "                [55.701323099565876, 37.43011767120967],\n",
       "                {&quot;bubblingMouseEvents&quot;: true, &quot;color&quot;: &quot;blue&quot;, &quot;dashArray&quot;: null, &quot;dashOffset&quot;: null, &quot;fill&quot;: true, &quot;fillColor&quot;: &quot;blue&quot;, &quot;fillOpacity&quot;: 0.2, &quot;fillRule&quot;: &quot;evenodd&quot;, &quot;lineCap&quot;: &quot;round&quot;, &quot;lineJoin&quot;: &quot;round&quot;, &quot;opacity&quot;: 1.0, &quot;radius&quot;: 3, &quot;stroke&quot;: true, &quot;weight&quot;: 3}\n",
       "            ).addTo(map_e47a3adb9f6102181a7bde97390a9b82);\n",
       "        \n",
       "    \n",
       "            var circle_marker_3dc46417cb15cb8182fb1f63bc010795 = L.circleMarker(\n",
       "                [48.52696052920798, 44.52458114652832],\n",
       "                {&quot;bubblingMouseEvents&quot;: true, &quot;color&quot;: &quot;blue&quot;, &quot;dashArray&quot;: null, &quot;dashOffset&quot;: null, &quot;fill&quot;: true, &quot;fillColor&quot;: &quot;blue&quot;, &quot;fillOpacity&quot;: 0.2, &quot;fillRule&quot;: &quot;evenodd&quot;, &quot;lineCap&quot;: &quot;round&quot;, &quot;lineJoin&quot;: &quot;round&quot;, &quot;opacity&quot;: 1.0, &quot;radius&quot;: 3, &quot;stroke&quot;: true, &quot;weight&quot;: 3}\n",
       "            ).addTo(map_e47a3adb9f6102181a7bde97390a9b82);\n",
       "        \n",
       "    \n",
       "            var circle_marker_905f0190538f406accce4872378ef2f3 = L.circleMarker(\n",
       "                [44.890594583160755, 38.86485909622207],\n",
       "                {&quot;bubblingMouseEvents&quot;: true, &quot;color&quot;: &quot;blue&quot;, &quot;dashArray&quot;: null, &quot;dashOffset&quot;: null, &quot;fill&quot;: true, &quot;fillColor&quot;: &quot;blue&quot;, &quot;fillOpacity&quot;: 0.2, &quot;fillRule&quot;: &quot;evenodd&quot;, &quot;lineCap&quot;: &quot;round&quot;, &quot;lineJoin&quot;: &quot;round&quot;, &quot;opacity&quot;: 1.0, &quot;radius&quot;: 3, &quot;stroke&quot;: true, &quot;weight&quot;: 3}\n",
       "            ).addTo(map_e47a3adb9f6102181a7bde97390a9b82);\n",
       "        \n",
       "    \n",
       "            var circle_marker_e4bd738de4a5bbc9b8c8839d77f73f93 = L.circleMarker(\n",
       "                [55.636103113048115, 37.71569701846129],\n",
       "                {&quot;bubblingMouseEvents&quot;: true, &quot;color&quot;: &quot;blue&quot;, &quot;dashArray&quot;: null, &quot;dashOffset&quot;: null, &quot;fill&quot;: true, &quot;fillColor&quot;: &quot;blue&quot;, &quot;fillOpacity&quot;: 0.2, &quot;fillRule&quot;: &quot;evenodd&quot;, &quot;lineCap&quot;: &quot;round&quot;, &quot;lineJoin&quot;: &quot;round&quot;, &quot;opacity&quot;: 1.0, &quot;radius&quot;: 3, &quot;stroke&quot;: true, &quot;weight&quot;: 3}\n",
       "            ).addTo(map_e47a3adb9f6102181a7bde97390a9b82);\n",
       "        \n",
       "    \n",
       "            var circle_marker_49a957388affa165b01e33a810376bae = L.circleMarker(\n",
       "                [44.47469513096899, 33.69631889651718],\n",
       "                {&quot;bubblingMouseEvents&quot;: true, &quot;color&quot;: &quot;blue&quot;, &quot;dashArray&quot;: null, &quot;dashOffset&quot;: null, &quot;fill&quot;: true, &quot;fillColor&quot;: &quot;blue&quot;, &quot;fillOpacity&quot;: 0.2, &quot;fillRule&quot;: &quot;evenodd&quot;, &quot;lineCap&quot;: &quot;round&quot;, &quot;lineJoin&quot;: &quot;round&quot;, &quot;opacity&quot;: 1.0, &quot;radius&quot;: 3, &quot;stroke&quot;: true, &quot;weight&quot;: 3}\n",
       "            ).addTo(map_e47a3adb9f6102181a7bde97390a9b82);\n",
       "        \n",
       "    \n",
       "            var circle_marker_ebc27bdcd5e18becaacbc5bb4b5f7054 = L.circleMarker(\n",
       "                [51.91567752782927, 107.65464729323604],\n",
       "                {&quot;bubblingMouseEvents&quot;: true, &quot;color&quot;: &quot;blue&quot;, &quot;dashArray&quot;: null, &quot;dashOffset&quot;: null, &quot;fill&quot;: true, &quot;fillColor&quot;: &quot;blue&quot;, &quot;fillOpacity&quot;: 0.2, &quot;fillRule&quot;: &quot;evenodd&quot;, &quot;lineCap&quot;: &quot;round&quot;, &quot;lineJoin&quot;: &quot;round&quot;, &quot;opacity&quot;: 1.0, &quot;radius&quot;: 3, &quot;stroke&quot;: true, &quot;weight&quot;: 3}\n",
       "            ).addTo(map_e47a3adb9f6102181a7bde97390a9b82);\n",
       "        \n",
       "    \n",
       "            var circle_marker_56b0d989347e5cd515c40057da7d479c = L.circleMarker(\n",
       "                [55.675262929374355, 37.72192703272901],\n",
       "                {&quot;bubblingMouseEvents&quot;: true, &quot;color&quot;: &quot;red&quot;, &quot;dashArray&quot;: null, &quot;dashOffset&quot;: null, &quot;fill&quot;: true, &quot;fillColor&quot;: &quot;red&quot;, &quot;fillOpacity&quot;: 0.2, &quot;fillRule&quot;: &quot;evenodd&quot;, &quot;lineCap&quot;: &quot;round&quot;, &quot;lineJoin&quot;: &quot;round&quot;, &quot;opacity&quot;: 1.0, &quot;radius&quot;: 3, &quot;stroke&quot;: true, &quot;weight&quot;: 3}\n",
       "            ).addTo(map_e47a3adb9f6102181a7bde97390a9b82);\n",
       "        \n",
       "    \n",
       "            var circle_marker_3083999ea56ce631c57753e05cfce33f = L.circleMarker(\n",
       "                [56.1733048945798, 44.12265262572172],\n",
       "                {&quot;bubblingMouseEvents&quot;: true, &quot;color&quot;: &quot;blue&quot;, &quot;dashArray&quot;: null, &quot;dashOffset&quot;: null, &quot;fill&quot;: true, &quot;fillColor&quot;: &quot;blue&quot;, &quot;fillOpacity&quot;: 0.2, &quot;fillRule&quot;: &quot;evenodd&quot;, &quot;lineCap&quot;: &quot;round&quot;, &quot;lineJoin&quot;: &quot;round&quot;, &quot;opacity&quot;: 1.0, &quot;radius&quot;: 3, &quot;stroke&quot;: true, &quot;weight&quot;: 3}\n",
       "            ).addTo(map_e47a3adb9f6102181a7bde97390a9b82);\n",
       "        \n",
       "    \n",
       "            var circle_marker_f04a80c68079f04ac1c72063748a2175 = L.circleMarker(\n",
       "                [55.70548898073212, 37.770050844086384],\n",
       "                {&quot;bubblingMouseEvents&quot;: true, &quot;color&quot;: &quot;blue&quot;, &quot;dashArray&quot;: null, &quot;dashOffset&quot;: null, &quot;fill&quot;: true, &quot;fillColor&quot;: &quot;blue&quot;, &quot;fillOpacity&quot;: 0.2, &quot;fillRule&quot;: &quot;evenodd&quot;, &quot;lineCap&quot;: &quot;round&quot;, &quot;lineJoin&quot;: &quot;round&quot;, &quot;opacity&quot;: 1.0, &quot;radius&quot;: 3, &quot;stroke&quot;: true, &quot;weight&quot;: 3}\n",
       "            ).addTo(map_e47a3adb9f6102181a7bde97390a9b82);\n",
       "        \n",
       "    \n",
       "            var circle_marker_529c7ffc31bed3612027825961748153 = L.circleMarker(\n",
       "                [55.89608342941127, 92.91357238363287],\n",
       "                {&quot;bubblingMouseEvents&quot;: true, &quot;color&quot;: &quot;red&quot;, &quot;dashArray&quot;: null, &quot;dashOffset&quot;: null, &quot;fill&quot;: true, &quot;fillColor&quot;: &quot;red&quot;, &quot;fillOpacity&quot;: 0.2, &quot;fillRule&quot;: &quot;evenodd&quot;, &quot;lineCap&quot;: &quot;round&quot;, &quot;lineJoin&quot;: &quot;round&quot;, &quot;opacity&quot;: 1.0, &quot;radius&quot;: 3, &quot;stroke&quot;: true, &quot;weight&quot;: 3}\n",
       "            ).addTo(map_e47a3adb9f6102181a7bde97390a9b82);\n",
       "        \n",
       "    \n",
       "            var circle_marker_f692f15bf8f318137def52552d7b0caa = L.circleMarker(\n",
       "                [60.083757999379706, 30.46899276259625],\n",
       "                {&quot;bubblingMouseEvents&quot;: true, &quot;color&quot;: &quot;blue&quot;, &quot;dashArray&quot;: null, &quot;dashOffset&quot;: null, &quot;fill&quot;: true, &quot;fillColor&quot;: &quot;blue&quot;, &quot;fillOpacity&quot;: 0.2, &quot;fillRule&quot;: &quot;evenodd&quot;, &quot;lineCap&quot;: &quot;round&quot;, &quot;lineJoin&quot;: &quot;round&quot;, &quot;opacity&quot;: 1.0, &quot;radius&quot;: 3, &quot;stroke&quot;: true, &quot;weight&quot;: 3}\n",
       "            ).addTo(map_e47a3adb9f6102181a7bde97390a9b82);\n",
       "        \n",
       "    \n",
       "            var circle_marker_3bb68a3a3d90f7f3f25e09845bb8604c = L.circleMarker(\n",
       "                [43.01332096480732, 132.025900975373],\n",
       "                {&quot;bubblingMouseEvents&quot;: true, &quot;color&quot;: &quot;red&quot;, &quot;dashArray&quot;: null, &quot;dashOffset&quot;: null, &quot;fill&quot;: true, &quot;fillColor&quot;: &quot;red&quot;, &quot;fillOpacity&quot;: 0.2, &quot;fillRule&quot;: &quot;evenodd&quot;, &quot;lineCap&quot;: &quot;round&quot;, &quot;lineJoin&quot;: &quot;round&quot;, &quot;opacity&quot;: 1.0, &quot;radius&quot;: 3, &quot;stroke&quot;: true, &quot;weight&quot;: 3}\n",
       "            ).addTo(map_e47a3adb9f6102181a7bde97390a9b82);\n",
       "        \n",
       "    \n",
       "            var circle_marker_96077924c9bcfddc9359beaebe30cbe8 = L.circleMarker(\n",
       "                [44.95880699860024, 38.90238317077549],\n",
       "                {&quot;bubblingMouseEvents&quot;: true, &quot;color&quot;: &quot;blue&quot;, &quot;dashArray&quot;: null, &quot;dashOffset&quot;: null, &quot;fill&quot;: true, &quot;fillColor&quot;: &quot;blue&quot;, &quot;fillOpacity&quot;: 0.2, &quot;fillRule&quot;: &quot;evenodd&quot;, &quot;lineCap&quot;: &quot;round&quot;, &quot;lineJoin&quot;: &quot;round&quot;, &quot;opacity&quot;: 1.0, &quot;radius&quot;: 3, &quot;stroke&quot;: true, &quot;weight&quot;: 3}\n",
       "            ).addTo(map_e47a3adb9f6102181a7bde97390a9b82);\n",
       "        \n",
       "    \n",
       "            var circle_marker_4907dbb8818787936c821be2955cfbe5 = L.circleMarker(\n",
       "                [55.6444236865407, 37.445312914708815],\n",
       "                {&quot;bubblingMouseEvents&quot;: true, &quot;color&quot;: &quot;blue&quot;, &quot;dashArray&quot;: null, &quot;dashOffset&quot;: null, &quot;fill&quot;: true, &quot;fillColor&quot;: &quot;blue&quot;, &quot;fillOpacity&quot;: 0.2, &quot;fillRule&quot;: &quot;evenodd&quot;, &quot;lineCap&quot;: &quot;round&quot;, &quot;lineJoin&quot;: &quot;round&quot;, &quot;opacity&quot;: 1.0, &quot;radius&quot;: 3, &quot;stroke&quot;: true, &quot;weight&quot;: 3}\n",
       "            ).addTo(map_e47a3adb9f6102181a7bde97390a9b82);\n",
       "        \n",
       "    \n",
       "            var circle_marker_f6e40a3741c98638cb6d6123981a5965 = L.circleMarker(\n",
       "                [52.11579469326528, 104.285298198596],\n",
       "                {&quot;bubblingMouseEvents&quot;: true, &quot;color&quot;: &quot;blue&quot;, &quot;dashArray&quot;: null, &quot;dashOffset&quot;: null, &quot;fill&quot;: true, &quot;fillColor&quot;: &quot;blue&quot;, &quot;fillOpacity&quot;: 0.2, &quot;fillRule&quot;: &quot;evenodd&quot;, &quot;lineCap&quot;: &quot;round&quot;, &quot;lineJoin&quot;: &quot;round&quot;, &quot;opacity&quot;: 1.0, &quot;radius&quot;: 3, &quot;stroke&quot;: true, &quot;weight&quot;: 3}\n",
       "            ).addTo(map_e47a3adb9f6102181a7bde97390a9b82);\n",
       "        \n",
       "    \n",
       "            var circle_marker_47c464cedfdf10a5f0a529e9d09ab597 = L.circleMarker(\n",
       "                [55.017828976661534, 82.84573552804397],\n",
       "                {&quot;bubblingMouseEvents&quot;: true, &quot;color&quot;: &quot;blue&quot;, &quot;dashArray&quot;: null, &quot;dashOffset&quot;: null, &quot;fill&quot;: true, &quot;fillColor&quot;: &quot;blue&quot;, &quot;fillOpacity&quot;: 0.2, &quot;fillRule&quot;: &quot;evenodd&quot;, &quot;lineCap&quot;: &quot;round&quot;, &quot;lineJoin&quot;: &quot;round&quot;, &quot;opacity&quot;: 1.0, &quot;radius&quot;: 3, &quot;stroke&quot;: true, &quot;weight&quot;: 3}\n",
       "            ).addTo(map_e47a3adb9f6102181a7bde97390a9b82);\n",
       "        \n",
       "    \n",
       "            var circle_marker_9626fbaefadb40e2254f58e81a2699e7 = L.circleMarker(\n",
       "                [54.776399627959854, 56.08279261821354],\n",
       "                {&quot;bubblingMouseEvents&quot;: true, &quot;color&quot;: &quot;blue&quot;, &quot;dashArray&quot;: null, &quot;dashOffset&quot;: null, &quot;fill&quot;: true, &quot;fillColor&quot;: &quot;blue&quot;, &quot;fillOpacity&quot;: 0.2, &quot;fillRule&quot;: &quot;evenodd&quot;, &quot;lineCap&quot;: &quot;round&quot;, &quot;lineJoin&quot;: &quot;round&quot;, &quot;opacity&quot;: 1.0, &quot;radius&quot;: 3, &quot;stroke&quot;: true, &quot;weight&quot;: 3}\n",
       "            ).addTo(map_e47a3adb9f6102181a7bde97390a9b82);\n",
       "        \n",
       "    \n",
       "            var circle_marker_c3af458f299ed158d4ca83f17680e321 = L.circleMarker(\n",
       "                [55.838554452791406, 37.47540309571133],\n",
       "                {&quot;bubblingMouseEvents&quot;: true, &quot;color&quot;: &quot;red&quot;, &quot;dashArray&quot;: null, &quot;dashOffset&quot;: null, &quot;fill&quot;: true, &quot;fillColor&quot;: &quot;red&quot;, &quot;fillOpacity&quot;: 0.2, &quot;fillRule&quot;: &quot;evenodd&quot;, &quot;lineCap&quot;: &quot;round&quot;, &quot;lineJoin&quot;: &quot;round&quot;, &quot;opacity&quot;: 1.0, &quot;radius&quot;: 3, &quot;stroke&quot;: true, &quot;weight&quot;: 3}\n",
       "            ).addTo(map_e47a3adb9f6102181a7bde97390a9b82);\n",
       "        \n",
       "    \n",
       "            var circle_marker_87431f6541e599ce4407192e9af3d528 = L.circleMarker(\n",
       "                [42.948573773067494, 47.4713886425646],\n",
       "                {&quot;bubblingMouseEvents&quot;: true, &quot;color&quot;: &quot;blue&quot;, &quot;dashArray&quot;: null, &quot;dashOffset&quot;: null, &quot;fill&quot;: true, &quot;fillColor&quot;: &quot;blue&quot;, &quot;fillOpacity&quot;: 0.2, &quot;fillRule&quot;: &quot;evenodd&quot;, &quot;lineCap&quot;: &quot;round&quot;, &quot;lineJoin&quot;: &quot;round&quot;, &quot;opacity&quot;: 1.0, &quot;radius&quot;: 3, &quot;stroke&quot;: true, &quot;weight&quot;: 3}\n",
       "            ).addTo(map_e47a3adb9f6102181a7bde97390a9b82);\n",
       "        \n",
       "    \n",
       "            var circle_marker_db647613b583cebc655f5b7c4898d589 = L.circleMarker(\n",
       "                [54.701544394695716, 55.87152776411781],\n",
       "                {&quot;bubblingMouseEvents&quot;: true, &quot;color&quot;: &quot;blue&quot;, &quot;dashArray&quot;: null, &quot;dashOffset&quot;: null, &quot;fill&quot;: true, &quot;fillColor&quot;: &quot;blue&quot;, &quot;fillOpacity&quot;: 0.2, &quot;fillRule&quot;: &quot;evenodd&quot;, &quot;lineCap&quot;: &quot;round&quot;, &quot;lineJoin&quot;: &quot;round&quot;, &quot;opacity&quot;: 1.0, &quot;radius&quot;: 3, &quot;stroke&quot;: true, &quot;weight&quot;: 3}\n",
       "            ).addTo(map_e47a3adb9f6102181a7bde97390a9b82);\n",
       "        \n",
       "    \n",
       "            var circle_marker_1a7850eb6693067cc41e991fad33edcb = L.circleMarker(\n",
       "                [54.82316429345119, 32.150940873434635],\n",
       "                {&quot;bubblingMouseEvents&quot;: true, &quot;color&quot;: &quot;red&quot;, &quot;dashArray&quot;: null, &quot;dashOffset&quot;: null, &quot;fill&quot;: true, &quot;fillColor&quot;: &quot;red&quot;, &quot;fillOpacity&quot;: 0.2, &quot;fillRule&quot;: &quot;evenodd&quot;, &quot;lineCap&quot;: &quot;round&quot;, &quot;lineJoin&quot;: &quot;round&quot;, &quot;opacity&quot;: 1.0, &quot;radius&quot;: 3, &quot;stroke&quot;: true, &quot;weight&quot;: 3}\n",
       "            ).addTo(map_e47a3adb9f6102181a7bde97390a9b82);\n",
       "        \n",
       "    \n",
       "            var circle_marker_ef1d1f146bd62c1df77d4c18c6912b38 = L.circleMarker(\n",
       "                [56.17870774470263, 40.43119111450573],\n",
       "                {&quot;bubblingMouseEvents&quot;: true, &quot;color&quot;: &quot;red&quot;, &quot;dashArray&quot;: null, &quot;dashOffset&quot;: null, &quot;fill&quot;: true, &quot;fillColor&quot;: &quot;red&quot;, &quot;fillOpacity&quot;: 0.2, &quot;fillRule&quot;: &quot;evenodd&quot;, &quot;lineCap&quot;: &quot;round&quot;, &quot;lineJoin&quot;: &quot;round&quot;, &quot;opacity&quot;: 1.0, &quot;radius&quot;: 3, &quot;stroke&quot;: true, &quot;weight&quot;: 3}\n",
       "            ).addTo(map_e47a3adb9f6102181a7bde97390a9b82);\n",
       "        \n",
       "    \n",
       "            var circle_marker_b9a3fde8f48984fa36f144438a2b2231 = L.circleMarker(\n",
       "                [55.78119845590887, 37.611698423431896],\n",
       "                {&quot;bubblingMouseEvents&quot;: true, &quot;color&quot;: &quot;blue&quot;, &quot;dashArray&quot;: null, &quot;dashOffset&quot;: null, &quot;fill&quot;: true, &quot;fillColor&quot;: &quot;blue&quot;, &quot;fillOpacity&quot;: 0.2, &quot;fillRule&quot;: &quot;evenodd&quot;, &quot;lineCap&quot;: &quot;round&quot;, &quot;lineJoin&quot;: &quot;round&quot;, &quot;opacity&quot;: 1.0, &quot;radius&quot;: 3, &quot;stroke&quot;: true, &quot;weight&quot;: 3}\n",
       "            ).addTo(map_e47a3adb9f6102181a7bde97390a9b82);\n",
       "        \n",
       "    \n",
       "            var circle_marker_72d699d14312cf4e55c75fdbf1702e87 = L.circleMarker(\n",
       "                [52.03091816940619, 113.67525077997644],\n",
       "                {&quot;bubblingMouseEvents&quot;: true, &quot;color&quot;: &quot;blue&quot;, &quot;dashArray&quot;: null, &quot;dashOffset&quot;: null, &quot;fill&quot;: true, &quot;fillColor&quot;: &quot;blue&quot;, &quot;fillOpacity&quot;: 0.2, &quot;fillRule&quot;: &quot;evenodd&quot;, &quot;lineCap&quot;: &quot;round&quot;, &quot;lineJoin&quot;: &quot;round&quot;, &quot;opacity&quot;: 1.0, &quot;radius&quot;: 3, &quot;stroke&quot;: true, &quot;weight&quot;: 3}\n",
       "            ).addTo(map_e47a3adb9f6102181a7bde97390a9b82);\n",
       "        \n",
       "    \n",
       "            var circle_marker_9a365cc5b8c4d77a7a6ea148d34e743f = L.circleMarker(\n",
       "                [53.003287059715674, 50.086210345600016],\n",
       "                {&quot;bubblingMouseEvents&quot;: true, &quot;color&quot;: &quot;blue&quot;, &quot;dashArray&quot;: null, &quot;dashOffset&quot;: null, &quot;fill&quot;: true, &quot;fillColor&quot;: &quot;blue&quot;, &quot;fillOpacity&quot;: 0.2, &quot;fillRule&quot;: &quot;evenodd&quot;, &quot;lineCap&quot;: &quot;round&quot;, &quot;lineJoin&quot;: &quot;round&quot;, &quot;opacity&quot;: 1.0, &quot;radius&quot;: 3, &quot;stroke&quot;: true, &quot;weight&quot;: 3}\n",
       "            ).addTo(map_e47a3adb9f6102181a7bde97390a9b82);\n",
       "        \n",
       "    \n",
       "            var circle_marker_0f8d8acef22e4470ca760b58f910fbde = L.circleMarker(\n",
       "                [55.79652334246314, 37.69081195448621],\n",
       "                {&quot;bubblingMouseEvents&quot;: true, &quot;color&quot;: &quot;blue&quot;, &quot;dashArray&quot;: null, &quot;dashOffset&quot;: null, &quot;fill&quot;: true, &quot;fillColor&quot;: &quot;blue&quot;, &quot;fillOpacity&quot;: 0.2, &quot;fillRule&quot;: &quot;evenodd&quot;, &quot;lineCap&quot;: &quot;round&quot;, &quot;lineJoin&quot;: &quot;round&quot;, &quot;opacity&quot;: 1.0, &quot;radius&quot;: 3, &quot;stroke&quot;: true, &quot;weight&quot;: 3}\n",
       "            ).addTo(map_e47a3adb9f6102181a7bde97390a9b82);\n",
       "        \n",
       "    \n",
       "            var circle_marker_2b7a6e31ff42e1a2668ca142861f1c87 = L.circleMarker(\n",
       "                [55.60094360676729, 49.00889697446199],\n",
       "                {&quot;bubblingMouseEvents&quot;: true, &quot;color&quot;: &quot;red&quot;, &quot;dashArray&quot;: null, &quot;dashOffset&quot;: null, &quot;fill&quot;: true, &quot;fillColor&quot;: &quot;red&quot;, &quot;fillOpacity&quot;: 0.2, &quot;fillRule&quot;: &quot;evenodd&quot;, &quot;lineCap&quot;: &quot;round&quot;, &quot;lineJoin&quot;: &quot;round&quot;, &quot;opacity&quot;: 1.0, &quot;radius&quot;: 3, &quot;stroke&quot;: true, &quot;weight&quot;: 3}\n",
       "            ).addTo(map_e47a3adb9f6102181a7bde97390a9b82);\n",
       "        \n",
       "    \n",
       "            var circle_marker_82a71392ef065be82f46031465c80517 = L.circleMarker(\n",
       "                [54.76160537266274, 56.067042361624104],\n",
       "                {&quot;bubblingMouseEvents&quot;: true, &quot;color&quot;: &quot;red&quot;, &quot;dashArray&quot;: null, &quot;dashOffset&quot;: null, &quot;fill&quot;: true, &quot;fillColor&quot;: &quot;red&quot;, &quot;fillOpacity&quot;: 0.2, &quot;fillRule&quot;: &quot;evenodd&quot;, &quot;lineCap&quot;: &quot;round&quot;, &quot;lineJoin&quot;: &quot;round&quot;, &quot;opacity&quot;: 1.0, &quot;radius&quot;: 3, &quot;stroke&quot;: true, &quot;weight&quot;: 3}\n",
       "            ).addTo(map_e47a3adb9f6102181a7bde97390a9b82);\n",
       "        \n",
       "    \n",
       "            var circle_marker_a187e2279d064891e20d527d765eb47f = L.circleMarker(\n",
       "                [56.8770618016235, 35.85724306642592],\n",
       "                {&quot;bubblingMouseEvents&quot;: true, &quot;color&quot;: &quot;blue&quot;, &quot;dashArray&quot;: null, &quot;dashOffset&quot;: null, &quot;fill&quot;: true, &quot;fillColor&quot;: &quot;blue&quot;, &quot;fillOpacity&quot;: 0.2, &quot;fillRule&quot;: &quot;evenodd&quot;, &quot;lineCap&quot;: &quot;round&quot;, &quot;lineJoin&quot;: &quot;round&quot;, &quot;opacity&quot;: 1.0, &quot;radius&quot;: 3, &quot;stroke&quot;: true, &quot;weight&quot;: 3}\n",
       "            ).addTo(map_e47a3adb9f6102181a7bde97390a9b82);\n",
       "        \n",
       "    \n",
       "            var circle_marker_d022afd8f9025af318ec1e187d3bf2c9 = L.circleMarker(\n",
       "                [59.93475959547707, 30.178536454748546],\n",
       "                {&quot;bubblingMouseEvents&quot;: true, &quot;color&quot;: &quot;blue&quot;, &quot;dashArray&quot;: null, &quot;dashOffset&quot;: null, &quot;fill&quot;: true, &quot;fillColor&quot;: &quot;blue&quot;, &quot;fillOpacity&quot;: 0.2, &quot;fillRule&quot;: &quot;evenodd&quot;, &quot;lineCap&quot;: &quot;round&quot;, &quot;lineJoin&quot;: &quot;round&quot;, &quot;opacity&quot;: 1.0, &quot;radius&quot;: 3, &quot;stroke&quot;: true, &quot;weight&quot;: 3}\n",
       "            ).addTo(map_e47a3adb9f6102181a7bde97390a9b82);\n",
       "        \n",
       "    \n",
       "            var circle_marker_c4e37b3b36a2fa3bff06ddc1ca410a52 = L.circleMarker(\n",
       "                [45.003432914118484, 41.98385216323046],\n",
       "                {&quot;bubblingMouseEvents&quot;: true, &quot;color&quot;: &quot;blue&quot;, &quot;dashArray&quot;: null, &quot;dashOffset&quot;: null, &quot;fill&quot;: true, &quot;fillColor&quot;: &quot;blue&quot;, &quot;fillOpacity&quot;: 0.2, &quot;fillRule&quot;: &quot;evenodd&quot;, &quot;lineCap&quot;: &quot;round&quot;, &quot;lineJoin&quot;: &quot;round&quot;, &quot;opacity&quot;: 1.0, &quot;radius&quot;: 3, &quot;stroke&quot;: true, &quot;weight&quot;: 3}\n",
       "            ).addTo(map_e47a3adb9f6102181a7bde97390a9b82);\n",
       "        \n",
       "    \n",
       "            var circle_marker_91ce6a2500d1b81bea6db1e5d526f703 = L.circleMarker(\n",
       "                [58.72989280314409, 49.70849994314767],\n",
       "                {&quot;bubblingMouseEvents&quot;: true, &quot;color&quot;: &quot;blue&quot;, &quot;dashArray&quot;: null, &quot;dashOffset&quot;: null, &quot;fill&quot;: true, &quot;fillColor&quot;: &quot;blue&quot;, &quot;fillOpacity&quot;: 0.2, &quot;fillRule&quot;: &quot;evenodd&quot;, &quot;lineCap&quot;: &quot;round&quot;, &quot;lineJoin&quot;: &quot;round&quot;, &quot;opacity&quot;: 1.0, &quot;radius&quot;: 3, &quot;stroke&quot;: true, &quot;weight&quot;: 3}\n",
       "            ).addTo(map_e47a3adb9f6102181a7bde97390a9b82);\n",
       "        \n",
       "    \n",
       "            var circle_marker_d8710f7544efd8808b3b84a0bac72bde = L.circleMarker(\n",
       "                [43.304535576224715, 132.0706828404132],\n",
       "                {&quot;bubblingMouseEvents&quot;: true, &quot;color&quot;: &quot;blue&quot;, &quot;dashArray&quot;: null, &quot;dashOffset&quot;: null, &quot;fill&quot;: true, &quot;fillColor&quot;: &quot;blue&quot;, &quot;fillOpacity&quot;: 0.2, &quot;fillRule&quot;: &quot;evenodd&quot;, &quot;lineCap&quot;: &quot;round&quot;, &quot;lineJoin&quot;: &quot;round&quot;, &quot;opacity&quot;: 1.0, &quot;radius&quot;: 3, &quot;stroke&quot;: true, &quot;weight&quot;: 3}\n",
       "            ).addTo(map_e47a3adb9f6102181a7bde97390a9b82);\n",
       "        \n",
       "    \n",
       "            var circle_marker_21ceb060477c47c9eed8e29a8081d0e1 = L.circleMarker(\n",
       "                [51.97999402992839, 107.6067156266582],\n",
       "                {&quot;bubblingMouseEvents&quot;: true, &quot;color&quot;: &quot;blue&quot;, &quot;dashArray&quot;: null, &quot;dashOffset&quot;: null, &quot;fill&quot;: true, &quot;fillColor&quot;: &quot;blue&quot;, &quot;fillOpacity&quot;: 0.2, &quot;fillRule&quot;: &quot;evenodd&quot;, &quot;lineCap&quot;: &quot;round&quot;, &quot;lineJoin&quot;: &quot;round&quot;, &quot;opacity&quot;: 1.0, &quot;radius&quot;: 3, &quot;stroke&quot;: true, &quot;weight&quot;: 3}\n",
       "            ).addTo(map_e47a3adb9f6102181a7bde97390a9b82);\n",
       "        \n",
       "    \n",
       "            var circle_marker_6a1487a68fb9c6ffbed0c67461c8129d = L.circleMarker(\n",
       "                [55.57725286043294, 37.51544296085608],\n",
       "                {&quot;bubblingMouseEvents&quot;: true, &quot;color&quot;: &quot;blue&quot;, &quot;dashArray&quot;: null, &quot;dashOffset&quot;: null, &quot;fill&quot;: true, &quot;fillColor&quot;: &quot;blue&quot;, &quot;fillOpacity&quot;: 0.2, &quot;fillRule&quot;: &quot;evenodd&quot;, &quot;lineCap&quot;: &quot;round&quot;, &quot;lineJoin&quot;: &quot;round&quot;, &quot;opacity&quot;: 1.0, &quot;radius&quot;: 3, &quot;stroke&quot;: true, &quot;weight&quot;: 3}\n",
       "            ).addTo(map_e47a3adb9f6102181a7bde97390a9b82);\n",
       "        \n",
       "    \n",
       "            var circle_marker_86d17d38da1c5d16345b04c3536d03ca = L.circleMarker(\n",
       "                [55.61402085837945, 65.39612238465023],\n",
       "                {&quot;bubblingMouseEvents&quot;: true, &quot;color&quot;: &quot;red&quot;, &quot;dashArray&quot;: null, &quot;dashOffset&quot;: null, &quot;fill&quot;: true, &quot;fillColor&quot;: &quot;red&quot;, &quot;fillOpacity&quot;: 0.2, &quot;fillRule&quot;: &quot;evenodd&quot;, &quot;lineCap&quot;: &quot;round&quot;, &quot;lineJoin&quot;: &quot;round&quot;, &quot;opacity&quot;: 1.0, &quot;radius&quot;: 3, &quot;stroke&quot;: true, &quot;weight&quot;: 3}\n",
       "            ).addTo(map_e47a3adb9f6102181a7bde97390a9b82);\n",
       "        \n",
       "    \n",
       "            var circle_marker_f45eaa60e1cb5a2ba59b55e62d1ad48b = L.circleMarker(\n",
       "                [59.88624230117916, 30.129921616706515],\n",
       "                {&quot;bubblingMouseEvents&quot;: true, &quot;color&quot;: &quot;blue&quot;, &quot;dashArray&quot;: null, &quot;dashOffset&quot;: null, &quot;fill&quot;: true, &quot;fillColor&quot;: &quot;blue&quot;, &quot;fillOpacity&quot;: 0.2, &quot;fillRule&quot;: &quot;evenodd&quot;, &quot;lineCap&quot;: &quot;round&quot;, &quot;lineJoin&quot;: &quot;round&quot;, &quot;opacity&quot;: 1.0, &quot;radius&quot;: 3, &quot;stroke&quot;: true, &quot;weight&quot;: 3}\n",
       "            ).addTo(map_e47a3adb9f6102181a7bde97390a9b82);\n",
       "        \n",
       "    \n",
       "            var circle_marker_ed0bd0b5b5533ff9f186e76f25219354 = L.circleMarker(\n",
       "                [55.783124744684294, 37.79805455993897],\n",
       "                {&quot;bubblingMouseEvents&quot;: true, &quot;color&quot;: &quot;blue&quot;, &quot;dashArray&quot;: null, &quot;dashOffset&quot;: null, &quot;fill&quot;: true, &quot;fillColor&quot;: &quot;blue&quot;, &quot;fillOpacity&quot;: 0.2, &quot;fillRule&quot;: &quot;evenodd&quot;, &quot;lineCap&quot;: &quot;round&quot;, &quot;lineJoin&quot;: &quot;round&quot;, &quot;opacity&quot;: 1.0, &quot;radius&quot;: 3, &quot;stroke&quot;: true, &quot;weight&quot;: 3}\n",
       "            ).addTo(map_e47a3adb9f6102181a7bde97390a9b82);\n",
       "        \n",
       "    \n",
       "            var circle_marker_e89785368c757215993d2f0ffb7a1992 = L.circleMarker(\n",
       "                [55.74431439644877, 37.46952040948478],\n",
       "                {&quot;bubblingMouseEvents&quot;: true, &quot;color&quot;: &quot;blue&quot;, &quot;dashArray&quot;: null, &quot;dashOffset&quot;: null, &quot;fill&quot;: true, &quot;fillColor&quot;: &quot;blue&quot;, &quot;fillOpacity&quot;: 0.2, &quot;fillRule&quot;: &quot;evenodd&quot;, &quot;lineCap&quot;: &quot;round&quot;, &quot;lineJoin&quot;: &quot;round&quot;, &quot;opacity&quot;: 1.0, &quot;radius&quot;: 3, &quot;stroke&quot;: true, &quot;weight&quot;: 3}\n",
       "            ).addTo(map_e47a3adb9f6102181a7bde97390a9b82);\n",
       "        \n",
       "    \n",
       "            var circle_marker_3e64d89d195e692b48390c7d96e750b6 = L.circleMarker(\n",
       "                [55.8047507158792, 37.96115331781431],\n",
       "                {&quot;bubblingMouseEvents&quot;: true, &quot;color&quot;: &quot;blue&quot;, &quot;dashArray&quot;: null, &quot;dashOffset&quot;: null, &quot;fill&quot;: true, &quot;fillColor&quot;: &quot;blue&quot;, &quot;fillOpacity&quot;: 0.2, &quot;fillRule&quot;: &quot;evenodd&quot;, &quot;lineCap&quot;: &quot;round&quot;, &quot;lineJoin&quot;: &quot;round&quot;, &quot;opacity&quot;: 1.0, &quot;radius&quot;: 3, &quot;stroke&quot;: true, &quot;weight&quot;: 3}\n",
       "            ).addTo(map_e47a3adb9f6102181a7bde97390a9b82);\n",
       "        \n",
       "    \n",
       "            var circle_marker_0cd0cc600db82a70f575272fbcead020 = L.circleMarker(\n",
       "                [54.95997958748693, 61.26143909105079],\n",
       "                {&quot;bubblingMouseEvents&quot;: true, &quot;color&quot;: &quot;blue&quot;, &quot;dashArray&quot;: null, &quot;dashOffset&quot;: null, &quot;fill&quot;: true, &quot;fillColor&quot;: &quot;blue&quot;, &quot;fillOpacity&quot;: 0.2, &quot;fillRule&quot;: &quot;evenodd&quot;, &quot;lineCap&quot;: &quot;round&quot;, &quot;lineJoin&quot;: &quot;round&quot;, &quot;opacity&quot;: 1.0, &quot;radius&quot;: 3, &quot;stroke&quot;: true, &quot;weight&quot;: 3}\n",
       "            ).addTo(map_e47a3adb9f6102181a7bde97390a9b82);\n",
       "        \n",
       "    \n",
       "            var circle_marker_468bfd800f6ff6bae5fcfca33074fd9d = L.circleMarker(\n",
       "                [59.1360317016459, 38.074367361546855],\n",
       "                {&quot;bubblingMouseEvents&quot;: true, &quot;color&quot;: &quot;blue&quot;, &quot;dashArray&quot;: null, &quot;dashOffset&quot;: null, &quot;fill&quot;: true, &quot;fillColor&quot;: &quot;blue&quot;, &quot;fillOpacity&quot;: 0.2, &quot;fillRule&quot;: &quot;evenodd&quot;, &quot;lineCap&quot;: &quot;round&quot;, &quot;lineJoin&quot;: &quot;round&quot;, &quot;opacity&quot;: 1.0, &quot;radius&quot;: 3, &quot;stroke&quot;: true, &quot;weight&quot;: 3}\n",
       "            ).addTo(map_e47a3adb9f6102181a7bde97390a9b82);\n",
       "        \n",
       "    \n",
       "            var circle_marker_145697998abb24c9764d72ced9c5ce54 = L.circleMarker(\n",
       "                [54.96932158671008, 83.06754587544832],\n",
       "                {&quot;bubblingMouseEvents&quot;: true, &quot;color&quot;: &quot;red&quot;, &quot;dashArray&quot;: null, &quot;dashOffset&quot;: null, &quot;fill&quot;: true, &quot;fillColor&quot;: &quot;red&quot;, &quot;fillOpacity&quot;: 0.2, &quot;fillRule&quot;: &quot;evenodd&quot;, &quot;lineCap&quot;: &quot;round&quot;, &quot;lineJoin&quot;: &quot;round&quot;, &quot;opacity&quot;: 1.0, &quot;radius&quot;: 3, &quot;stroke&quot;: true, &quot;weight&quot;: 3}\n",
       "            ).addTo(map_e47a3adb9f6102181a7bde97390a9b82);\n",
       "        \n",
       "    \n",
       "            var circle_marker_2975af04217f871b3e3efb7170b3ef68 = L.circleMarker(\n",
       "                [59.93167194825696, 30.48233016151254],\n",
       "                {&quot;bubblingMouseEvents&quot;: true, &quot;color&quot;: &quot;blue&quot;, &quot;dashArray&quot;: null, &quot;dashOffset&quot;: null, &quot;fill&quot;: true, &quot;fillColor&quot;: &quot;blue&quot;, &quot;fillOpacity&quot;: 0.2, &quot;fillRule&quot;: &quot;evenodd&quot;, &quot;lineCap&quot;: &quot;round&quot;, &quot;lineJoin&quot;: &quot;round&quot;, &quot;opacity&quot;: 1.0, &quot;radius&quot;: 3, &quot;stroke&quot;: true, &quot;weight&quot;: 3}\n",
       "            ).addTo(map_e47a3adb9f6102181a7bde97390a9b82);\n",
       "        \n",
       "    \n",
       "            var circle_marker_40b87bcc5b2cda5e49f56d5c1beadbd1 = L.circleMarker(\n",
       "                [44.86786756315715, 37.68370670512204],\n",
       "                {&quot;bubblingMouseEvents&quot;: true, &quot;color&quot;: &quot;blue&quot;, &quot;dashArray&quot;: null, &quot;dashOffset&quot;: null, &quot;fill&quot;: true, &quot;fillColor&quot;: &quot;blue&quot;, &quot;fillOpacity&quot;: 0.2, &quot;fillRule&quot;: &quot;evenodd&quot;, &quot;lineCap&quot;: &quot;round&quot;, &quot;lineJoin&quot;: &quot;round&quot;, &quot;opacity&quot;: 1.0, &quot;radius&quot;: 3, &quot;stroke&quot;: true, &quot;weight&quot;: 3}\n",
       "            ).addTo(map_e47a3adb9f6102181a7bde97390a9b82);\n",
       "        \n",
       "    \n",
       "            var circle_marker_a826cb32a115564ad072f38b6bddf895 = L.circleMarker(\n",
       "                [68.91494695027959, 32.91738589966625],\n",
       "                {&quot;bubblingMouseEvents&quot;: true, &quot;color&quot;: &quot;red&quot;, &quot;dashArray&quot;: null, &quot;dashOffset&quot;: null, &quot;fill&quot;: true, &quot;fillColor&quot;: &quot;red&quot;, &quot;fillOpacity&quot;: 0.2, &quot;fillRule&quot;: &quot;evenodd&quot;, &quot;lineCap&quot;: &quot;round&quot;, &quot;lineJoin&quot;: &quot;round&quot;, &quot;opacity&quot;: 1.0, &quot;radius&quot;: 3, &quot;stroke&quot;: true, &quot;weight&quot;: 3}\n",
       "            ).addTo(map_e47a3adb9f6102181a7bde97390a9b82);\n",
       "        \n",
       "    \n",
       "            var circle_marker_c5f2cb7089490d0b6cb3c5f227abcb05 = L.circleMarker(\n",
       "                [55.646202058487766, 52.515909436046655],\n",
       "                {&quot;bubblingMouseEvents&quot;: true, &quot;color&quot;: &quot;blue&quot;, &quot;dashArray&quot;: null, &quot;dashOffset&quot;: null, &quot;fill&quot;: true, &quot;fillColor&quot;: &quot;blue&quot;, &quot;fillOpacity&quot;: 0.2, &quot;fillRule&quot;: &quot;evenodd&quot;, &quot;lineCap&quot;: &quot;round&quot;, &quot;lineJoin&quot;: &quot;round&quot;, &quot;opacity&quot;: 1.0, &quot;radius&quot;: 3, &quot;stroke&quot;: true, &quot;weight&quot;: 3}\n",
       "            ).addTo(map_e47a3adb9f6102181a7bde97390a9b82);\n",
       "        \n",
       "    \n",
       "            var circle_marker_d7b60f9523b0fd69fed79bff2677f251 = L.circleMarker(\n",
       "                [56.1775470520224, 44.13248955319744],\n",
       "                {&quot;bubblingMouseEvents&quot;: true, &quot;color&quot;: &quot;red&quot;, &quot;dashArray&quot;: null, &quot;dashOffset&quot;: null, &quot;fill&quot;: true, &quot;fillColor&quot;: &quot;red&quot;, &quot;fillOpacity&quot;: 0.2, &quot;fillRule&quot;: &quot;evenodd&quot;, &quot;lineCap&quot;: &quot;round&quot;, &quot;lineJoin&quot;: &quot;round&quot;, &quot;opacity&quot;: 1.0, &quot;radius&quot;: 3, &quot;stroke&quot;: true, &quot;weight&quot;: 3}\n",
       "            ).addTo(map_e47a3adb9f6102181a7bde97390a9b82);\n",
       "        \n",
       "    \n",
       "            var circle_marker_8519696a8cde04e6d6dee435d7a8565b = L.circleMarker(\n",
       "                [55.86889597766319, 37.74706437094005],\n",
       "                {&quot;bubblingMouseEvents&quot;: true, &quot;color&quot;: &quot;red&quot;, &quot;dashArray&quot;: null, &quot;dashOffset&quot;: null, &quot;fill&quot;: true, &quot;fillColor&quot;: &quot;red&quot;, &quot;fillOpacity&quot;: 0.2, &quot;fillRule&quot;: &quot;evenodd&quot;, &quot;lineCap&quot;: &quot;round&quot;, &quot;lineJoin&quot;: &quot;round&quot;, &quot;opacity&quot;: 1.0, &quot;radius&quot;: 3, &quot;stroke&quot;: true, &quot;weight&quot;: 3}\n",
       "            ).addTo(map_e47a3adb9f6102181a7bde97390a9b82);\n",
       "        \n",
       "    \n",
       "            var circle_marker_e022e83042dc4aca4c750e815ca217bb = L.circleMarker(\n",
       "                [55.82617903964127, 37.78731696415508],\n",
       "                {&quot;bubblingMouseEvents&quot;: true, &quot;color&quot;: &quot;blue&quot;, &quot;dashArray&quot;: null, &quot;dashOffset&quot;: null, &quot;fill&quot;: true, &quot;fillColor&quot;: &quot;blue&quot;, &quot;fillOpacity&quot;: 0.2, &quot;fillRule&quot;: &quot;evenodd&quot;, &quot;lineCap&quot;: &quot;round&quot;, &quot;lineJoin&quot;: &quot;round&quot;, &quot;opacity&quot;: 1.0, &quot;radius&quot;: 3, &quot;stroke&quot;: true, &quot;weight&quot;: 3}\n",
       "            ).addTo(map_e47a3adb9f6102181a7bde97390a9b82);\n",
       "        \n",
       "    \n",
       "            var circle_marker_764bd9edc92eacca4411029af0f096e3 = L.circleMarker(\n",
       "                [55.56356151534927, 37.660063424757375],\n",
       "                {&quot;bubblingMouseEvents&quot;: true, &quot;color&quot;: &quot;red&quot;, &quot;dashArray&quot;: null, &quot;dashOffset&quot;: null, &quot;fill&quot;: true, &quot;fillColor&quot;: &quot;red&quot;, &quot;fillOpacity&quot;: 0.2, &quot;fillRule&quot;: &quot;evenodd&quot;, &quot;lineCap&quot;: &quot;round&quot;, &quot;lineJoin&quot;: &quot;round&quot;, &quot;opacity&quot;: 1.0, &quot;radius&quot;: 3, &quot;stroke&quot;: true, &quot;weight&quot;: 3}\n",
       "            ).addTo(map_e47a3adb9f6102181a7bde97390a9b82);\n",
       "        \n",
       "    \n",
       "            var circle_marker_3c35a94ce7031c2b35c6c194a72866cd = L.circleMarker(\n",
       "                [43.007824097905, 131.921500405158],\n",
       "                {&quot;bubblingMouseEvents&quot;: true, &quot;color&quot;: &quot;blue&quot;, &quot;dashArray&quot;: null, &quot;dashOffset&quot;: null, &quot;fill&quot;: true, &quot;fillColor&quot;: &quot;blue&quot;, &quot;fillOpacity&quot;: 0.2, &quot;fillRule&quot;: &quot;evenodd&quot;, &quot;lineCap&quot;: &quot;round&quot;, &quot;lineJoin&quot;: &quot;round&quot;, &quot;opacity&quot;: 1.0, &quot;radius&quot;: 3, &quot;stroke&quot;: true, &quot;weight&quot;: 3}\n",
       "            ).addTo(map_e47a3adb9f6102181a7bde97390a9b82);\n",
       "        \n",
       "    \n",
       "            var circle_marker_d208246ed230b2179ecd4940bc1e947a = L.circleMarker(\n",
       "                [55.799045979469234, 37.482226627221344],\n",
       "                {&quot;bubblingMouseEvents&quot;: true, &quot;color&quot;: &quot;red&quot;, &quot;dashArray&quot;: null, &quot;dashOffset&quot;: null, &quot;fill&quot;: true, &quot;fillColor&quot;: &quot;red&quot;, &quot;fillOpacity&quot;: 0.2, &quot;fillRule&quot;: &quot;evenodd&quot;, &quot;lineCap&quot;: &quot;round&quot;, &quot;lineJoin&quot;: &quot;round&quot;, &quot;opacity&quot;: 1.0, &quot;radius&quot;: 3, &quot;stroke&quot;: true, &quot;weight&quot;: 3}\n",
       "            ).addTo(map_e47a3adb9f6102181a7bde97390a9b82);\n",
       "        \n",
       "    \n",
       "            var circle_marker_c4c68b37ef24d1651c60dcda0b9f46b8 = L.circleMarker(\n",
       "                [54.8635172201648, 55.86408150571366],\n",
       "                {&quot;bubblingMouseEvents&quot;: true, &quot;color&quot;: &quot;red&quot;, &quot;dashArray&quot;: null, &quot;dashOffset&quot;: null, &quot;fill&quot;: true, &quot;fillColor&quot;: &quot;red&quot;, &quot;fillOpacity&quot;: 0.2, &quot;fillRule&quot;: &quot;evenodd&quot;, &quot;lineCap&quot;: &quot;round&quot;, &quot;lineJoin&quot;: &quot;round&quot;, &quot;opacity&quot;: 1.0, &quot;radius&quot;: 3, &quot;stroke&quot;: true, &quot;weight&quot;: 3}\n",
       "            ).addTo(map_e47a3adb9f6102181a7bde97390a9b82);\n",
       "        \n",
       "    \n",
       "            var circle_marker_c972bc4402a49abeca83aab85c7ed614 = L.circleMarker(\n",
       "                [59.263013149895855, 39.77916665469286],\n",
       "                {&quot;bubblingMouseEvents&quot;: true, &quot;color&quot;: &quot;blue&quot;, &quot;dashArray&quot;: null, &quot;dashOffset&quot;: null, &quot;fill&quot;: true, &quot;fillColor&quot;: &quot;blue&quot;, &quot;fillOpacity&quot;: 0.2, &quot;fillRule&quot;: &quot;evenodd&quot;, &quot;lineCap&quot;: &quot;round&quot;, &quot;lineJoin&quot;: &quot;round&quot;, &quot;opacity&quot;: 1.0, &quot;radius&quot;: 3, &quot;stroke&quot;: true, &quot;weight&quot;: 3}\n",
       "            ).addTo(map_e47a3adb9f6102181a7bde97390a9b82);\n",
       "        \n",
       "    \n",
       "            var circle_marker_88e51bc7826f9da1e74c8c9e4024479b = L.circleMarker(\n",
       "                [55.78831924354562, 37.74882911640742],\n",
       "                {&quot;bubblingMouseEvents&quot;: true, &quot;color&quot;: &quot;blue&quot;, &quot;dashArray&quot;: null, &quot;dashOffset&quot;: null, &quot;fill&quot;: true, &quot;fillColor&quot;: &quot;blue&quot;, &quot;fillOpacity&quot;: 0.2, &quot;fillRule&quot;: &quot;evenodd&quot;, &quot;lineCap&quot;: &quot;round&quot;, &quot;lineJoin&quot;: &quot;round&quot;, &quot;opacity&quot;: 1.0, &quot;radius&quot;: 3, &quot;stroke&quot;: true, &quot;weight&quot;: 3}\n",
       "            ).addTo(map_e47a3adb9f6102181a7bde97390a9b82);\n",
       "        \n",
       "    \n",
       "            var circle_marker_f92d9cfe535b177b8e700ac1539deed4 = L.circleMarker(\n",
       "                [55.588451320160594, 37.419325918734195],\n",
       "                {&quot;bubblingMouseEvents&quot;: true, &quot;color&quot;: &quot;blue&quot;, &quot;dashArray&quot;: null, &quot;dashOffset&quot;: null, &quot;fill&quot;: true, &quot;fillColor&quot;: &quot;blue&quot;, &quot;fillOpacity&quot;: 0.2, &quot;fillRule&quot;: &quot;evenodd&quot;, &quot;lineCap&quot;: &quot;round&quot;, &quot;lineJoin&quot;: &quot;round&quot;, &quot;opacity&quot;: 1.0, &quot;radius&quot;: 3, &quot;stroke&quot;: true, &quot;weight&quot;: 3}\n",
       "            ).addTo(map_e47a3adb9f6102181a7bde97390a9b82);\n",
       "        \n",
       "    \n",
       "            var circle_marker_d50bc3874164f1c9de6b1ec7239e53bc = L.circleMarker(\n",
       "                [53.220188618129214, 45.11288347353717],\n",
       "                {&quot;bubblingMouseEvents&quot;: true, &quot;color&quot;: &quot;blue&quot;, &quot;dashArray&quot;: null, &quot;dashOffset&quot;: null, &quot;fill&quot;: true, &quot;fillColor&quot;: &quot;blue&quot;, &quot;fillOpacity&quot;: 0.2, &quot;fillRule&quot;: &quot;evenodd&quot;, &quot;lineCap&quot;: &quot;round&quot;, &quot;lineJoin&quot;: &quot;round&quot;, &quot;opacity&quot;: 1.0, &quot;radius&quot;: 3, &quot;stroke&quot;: true, &quot;weight&quot;: 3}\n",
       "            ).addTo(map_e47a3adb9f6102181a7bde97390a9b82);\n",
       "        \n",
       "    \n",
       "            var circle_marker_251517ec3dcb75b50055db5bc6fa2467 = L.circleMarker(\n",
       "                [55.62624507168645, 37.70813831548189],\n",
       "                {&quot;bubblingMouseEvents&quot;: true, &quot;color&quot;: &quot;red&quot;, &quot;dashArray&quot;: null, &quot;dashOffset&quot;: null, &quot;fill&quot;: true, &quot;fillColor&quot;: &quot;red&quot;, &quot;fillOpacity&quot;: 0.2, &quot;fillRule&quot;: &quot;evenodd&quot;, &quot;lineCap&quot;: &quot;round&quot;, &quot;lineJoin&quot;: &quot;round&quot;, &quot;opacity&quot;: 1.0, &quot;radius&quot;: 3, &quot;stroke&quot;: true, &quot;weight&quot;: 3}\n",
       "            ).addTo(map_e47a3adb9f6102181a7bde97390a9b82);\n",
       "        \n",
       "    \n",
       "            var circle_marker_3b2c9ac712d968c8699fb0ee0e13f7f2 = L.circleMarker(\n",
       "                [55.09402143142008, 83.11037817565686],\n",
       "                {&quot;bubblingMouseEvents&quot;: true, &quot;color&quot;: &quot;blue&quot;, &quot;dashArray&quot;: null, &quot;dashOffset&quot;: null, &quot;fill&quot;: true, &quot;fillColor&quot;: &quot;blue&quot;, &quot;fillOpacity&quot;: 0.2, &quot;fillRule&quot;: &quot;evenodd&quot;, &quot;lineCap&quot;: &quot;round&quot;, &quot;lineJoin&quot;: &quot;round&quot;, &quot;opacity&quot;: 1.0, &quot;radius&quot;: 3, &quot;stroke&quot;: true, &quot;weight&quot;: 3}\n",
       "            ).addTo(map_e47a3adb9f6102181a7bde97390a9b82);\n",
       "        \n",
       "    \n",
       "            var circle_marker_903ef6e5c9417112a4d3291f3f64b1ee = L.circleMarker(\n",
       "                [57.96003745981071, 41.00541860332005],\n",
       "                {&quot;bubblingMouseEvents&quot;: true, &quot;color&quot;: &quot;red&quot;, &quot;dashArray&quot;: null, &quot;dashOffset&quot;: null, &quot;fill&quot;: true, &quot;fillColor&quot;: &quot;red&quot;, &quot;fillOpacity&quot;: 0.2, &quot;fillRule&quot;: &quot;evenodd&quot;, &quot;lineCap&quot;: &quot;round&quot;, &quot;lineJoin&quot;: &quot;round&quot;, &quot;opacity&quot;: 1.0, &quot;radius&quot;: 3, &quot;stroke&quot;: true, &quot;weight&quot;: 3}\n",
       "            ).addTo(map_e47a3adb9f6102181a7bde97390a9b82);\n",
       "        \n",
       "    \n",
       "            var circle_marker_37f255a37c980cbd548a193a62990d86 = L.circleMarker(\n",
       "                [51.48891081819212, 39.0734038308401],\n",
       "                {&quot;bubblingMouseEvents&quot;: true, &quot;color&quot;: &quot;red&quot;, &quot;dashArray&quot;: null, &quot;dashOffset&quot;: null, &quot;fill&quot;: true, &quot;fillColor&quot;: &quot;red&quot;, &quot;fillOpacity&quot;: 0.2, &quot;fillRule&quot;: &quot;evenodd&quot;, &quot;lineCap&quot;: &quot;round&quot;, &quot;lineJoin&quot;: &quot;round&quot;, &quot;opacity&quot;: 1.0, &quot;radius&quot;: 3, &quot;stroke&quot;: true, &quot;weight&quot;: 3}\n",
       "            ).addTo(map_e47a3adb9f6102181a7bde97390a9b82);\n",
       "        \n",
       "    \n",
       "            var circle_marker_c775c33ca6bb16ed15530ba02b832b23 = L.circleMarker(\n",
       "                [55.951559802953916, 37.74684333988914],\n",
       "                {&quot;bubblingMouseEvents&quot;: true, &quot;color&quot;: &quot;blue&quot;, &quot;dashArray&quot;: null, &quot;dashOffset&quot;: null, &quot;fill&quot;: true, &quot;fillColor&quot;: &quot;blue&quot;, &quot;fillOpacity&quot;: 0.2, &quot;fillRule&quot;: &quot;evenodd&quot;, &quot;lineCap&quot;: &quot;round&quot;, &quot;lineJoin&quot;: &quot;round&quot;, &quot;opacity&quot;: 1.0, &quot;radius&quot;: 3, &quot;stroke&quot;: true, &quot;weight&quot;: 3}\n",
       "            ).addTo(map_e47a3adb9f6102181a7bde97390a9b82);\n",
       "        \n",
       "    \n",
       "            var circle_marker_56f39920b68d00dd1aac7fcb2d7a326e = L.circleMarker(\n",
       "                [51.62218738296628, 46.171259310764704],\n",
       "                {&quot;bubblingMouseEvents&quot;: true, &quot;color&quot;: &quot;red&quot;, &quot;dashArray&quot;: null, &quot;dashOffset&quot;: null, &quot;fill&quot;: true, &quot;fillColor&quot;: &quot;red&quot;, &quot;fillOpacity&quot;: 0.2, &quot;fillRule&quot;: &quot;evenodd&quot;, &quot;lineCap&quot;: &quot;round&quot;, &quot;lineJoin&quot;: &quot;round&quot;, &quot;opacity&quot;: 1.0, &quot;radius&quot;: 3, &quot;stroke&quot;: true, &quot;weight&quot;: 3}\n",
       "            ).addTo(map_e47a3adb9f6102181a7bde97390a9b82);\n",
       "        \n",
       "    \n",
       "            var circle_marker_7fe0b26461bc626d45768bfc32c15cce = L.circleMarker(\n",
       "                [55.63311137639498, 37.6928871193182],\n",
       "                {&quot;bubblingMouseEvents&quot;: true, &quot;color&quot;: &quot;red&quot;, &quot;dashArray&quot;: null, &quot;dashOffset&quot;: null, &quot;fill&quot;: true, &quot;fillColor&quot;: &quot;red&quot;, &quot;fillOpacity&quot;: 0.2, &quot;fillRule&quot;: &quot;evenodd&quot;, &quot;lineCap&quot;: &quot;round&quot;, &quot;lineJoin&quot;: &quot;round&quot;, &quot;opacity&quot;: 1.0, &quot;radius&quot;: 3, &quot;stroke&quot;: true, &quot;weight&quot;: 3}\n",
       "            ).addTo(map_e47a3adb9f6102181a7bde97390a9b82);\n",
       "        \n",
       "    \n",
       "            var circle_marker_7d77bccbce0d78ca490bd433de1cba4b = L.circleMarker(\n",
       "                [55.832867340615316, 37.783399446172496],\n",
       "                {&quot;bubblingMouseEvents&quot;: true, &quot;color&quot;: &quot;red&quot;, &quot;dashArray&quot;: null, &quot;dashOffset&quot;: null, &quot;fill&quot;: true, &quot;fillColor&quot;: &quot;red&quot;, &quot;fillOpacity&quot;: 0.2, &quot;fillRule&quot;: &quot;evenodd&quot;, &quot;lineCap&quot;: &quot;round&quot;, &quot;lineJoin&quot;: &quot;round&quot;, &quot;opacity&quot;: 1.0, &quot;radius&quot;: 3, &quot;stroke&quot;: true, &quot;weight&quot;: 3}\n",
       "            ).addTo(map_e47a3adb9f6102181a7bde97390a9b82);\n",
       "        \n",
       "    \n",
       "            var circle_marker_fec5d724bdb28c8b98633f36e225605e = L.circleMarker(\n",
       "                [44.722455694415345, 33.49786951912675],\n",
       "                {&quot;bubblingMouseEvents&quot;: true, &quot;color&quot;: &quot;red&quot;, &quot;dashArray&quot;: null, &quot;dashOffset&quot;: null, &quot;fill&quot;: true, &quot;fillColor&quot;: &quot;red&quot;, &quot;fillOpacity&quot;: 0.2, &quot;fillRule&quot;: &quot;evenodd&quot;, &quot;lineCap&quot;: &quot;round&quot;, &quot;lineJoin&quot;: &quot;round&quot;, &quot;opacity&quot;: 1.0, &quot;radius&quot;: 3, &quot;stroke&quot;: true, &quot;weight&quot;: 3}\n",
       "            ).addTo(map_e47a3adb9f6102181a7bde97390a9b82);\n",
       "        \n",
       "    \n",
       "            var circle_marker_40a164722da8245f849989548f740fa2 = L.circleMarker(\n",
       "                [54.96155309426264, 73.26342156790719],\n",
       "                {&quot;bubblingMouseEvents&quot;: true, &quot;color&quot;: &quot;red&quot;, &quot;dashArray&quot;: null, &quot;dashOffset&quot;: null, &quot;fill&quot;: true, &quot;fillColor&quot;: &quot;red&quot;, &quot;fillOpacity&quot;: 0.2, &quot;fillRule&quot;: &quot;evenodd&quot;, &quot;lineCap&quot;: &quot;round&quot;, &quot;lineJoin&quot;: &quot;round&quot;, &quot;opacity&quot;: 1.0, &quot;radius&quot;: 3, &quot;stroke&quot;: true, &quot;weight&quot;: 3}\n",
       "            ).addTo(map_e47a3adb9f6102181a7bde97390a9b82);\n",
       "        \n",
       "    \n",
       "            var circle_marker_f2c91aed1d64b077cf468ef1192b4ffd = L.circleMarker(\n",
       "                [55.922516020371496, 49.112051931179884],\n",
       "                {&quot;bubblingMouseEvents&quot;: true, &quot;color&quot;: &quot;blue&quot;, &quot;dashArray&quot;: null, &quot;dashOffset&quot;: null, &quot;fill&quot;: true, &quot;fillColor&quot;: &quot;blue&quot;, &quot;fillOpacity&quot;: 0.2, &quot;fillRule&quot;: &quot;evenodd&quot;, &quot;lineCap&quot;: &quot;round&quot;, &quot;lineJoin&quot;: &quot;round&quot;, &quot;opacity&quot;: 1.0, &quot;radius&quot;: 3, &quot;stroke&quot;: true, &quot;weight&quot;: 3}\n",
       "            ).addTo(map_e47a3adb9f6102181a7bde97390a9b82);\n",
       "        \n",
       "    \n",
       "            var circle_marker_5c9b4b84f780206597a8b1ce38c5e4ff = L.circleMarker(\n",
       "                [54.656089208241845, 39.854530697906505],\n",
       "                {&quot;bubblingMouseEvents&quot;: true, &quot;color&quot;: &quot;red&quot;, &quot;dashArray&quot;: null, &quot;dashOffset&quot;: null, &quot;fill&quot;: true, &quot;fillColor&quot;: &quot;red&quot;, &quot;fillOpacity&quot;: 0.2, &quot;fillRule&quot;: &quot;evenodd&quot;, &quot;lineCap&quot;: &quot;round&quot;, &quot;lineJoin&quot;: &quot;round&quot;, &quot;opacity&quot;: 1.0, &quot;radius&quot;: 3, &quot;stroke&quot;: true, &quot;weight&quot;: 3}\n",
       "            ).addTo(map_e47a3adb9f6102181a7bde97390a9b82);\n",
       "        \n",
       "    \n",
       "            var circle_marker_3cd187048e1811640680b345f1e45726 = L.circleMarker(\n",
       "                [60.12332415620203, 30.505328779253137],\n",
       "                {&quot;bubblingMouseEvents&quot;: true, &quot;color&quot;: &quot;blue&quot;, &quot;dashArray&quot;: null, &quot;dashOffset&quot;: null, &quot;fill&quot;: true, &quot;fillColor&quot;: &quot;blue&quot;, &quot;fillOpacity&quot;: 0.2, &quot;fillRule&quot;: &quot;evenodd&quot;, &quot;lineCap&quot;: &quot;round&quot;, &quot;lineJoin&quot;: &quot;round&quot;, &quot;opacity&quot;: 1.0, &quot;radius&quot;: 3, &quot;stroke&quot;: true, &quot;weight&quot;: 3}\n",
       "            ).addTo(map_e47a3adb9f6102181a7bde97390a9b82);\n",
       "        \n",
       "    \n",
       "            var circle_marker_a1cb2cb286efe7165d969334fbd509ce = L.circleMarker(\n",
       "                [43.7319062686185, 39.75004248827186],\n",
       "                {&quot;bubblingMouseEvents&quot;: true, &quot;color&quot;: &quot;blue&quot;, &quot;dashArray&quot;: null, &quot;dashOffset&quot;: null, &quot;fill&quot;: true, &quot;fillColor&quot;: &quot;blue&quot;, &quot;fillOpacity&quot;: 0.2, &quot;fillRule&quot;: &quot;evenodd&quot;, &quot;lineCap&quot;: &quot;round&quot;, &quot;lineJoin&quot;: &quot;round&quot;, &quot;opacity&quot;: 1.0, &quot;radius&quot;: 3, &quot;stroke&quot;: true, &quot;weight&quot;: 3}\n",
       "            ).addTo(map_e47a3adb9f6102181a7bde97390a9b82);\n",
       "        \n",
       "    \n",
       "            var circle_marker_aa92ff913891163f3255e9486232eea9 = L.circleMarker(\n",
       "                [58.653658039824776, 49.768214222637425],\n",
       "                {&quot;bubblingMouseEvents&quot;: true, &quot;color&quot;: &quot;blue&quot;, &quot;dashArray&quot;: null, &quot;dashOffset&quot;: null, &quot;fill&quot;: true, &quot;fillColor&quot;: &quot;blue&quot;, &quot;fillOpacity&quot;: 0.2, &quot;fillRule&quot;: &quot;evenodd&quot;, &quot;lineCap&quot;: &quot;round&quot;, &quot;lineJoin&quot;: &quot;round&quot;, &quot;opacity&quot;: 1.0, &quot;radius&quot;: 3, &quot;stroke&quot;: true, &quot;weight&quot;: 3}\n",
       "            ).addTo(map_e47a3adb9f6102181a7bde97390a9b82);\n",
       "        \n",
       "    \n",
       "            var circle_marker_a8171dd7b75fc122d4c98a92ad93f8a4 = L.circleMarker(\n",
       "                [55.89183963407349, 37.624804626343135],\n",
       "                {&quot;bubblingMouseEvents&quot;: true, &quot;color&quot;: &quot;red&quot;, &quot;dashArray&quot;: null, &quot;dashOffset&quot;: null, &quot;fill&quot;: true, &quot;fillColor&quot;: &quot;red&quot;, &quot;fillOpacity&quot;: 0.2, &quot;fillRule&quot;: &quot;evenodd&quot;, &quot;lineCap&quot;: &quot;round&quot;, &quot;lineJoin&quot;: &quot;round&quot;, &quot;opacity&quot;: 1.0, &quot;radius&quot;: 3, &quot;stroke&quot;: true, &quot;weight&quot;: 3}\n",
       "            ).addTo(map_e47a3adb9f6102181a7bde97390a9b82);\n",
       "        \n",
       "    \n",
       "            var circle_marker_2ec833ed5b8d9e92e6a0a6b27dd55d7d = L.circleMarker(\n",
       "                [56.65117482233456, 85.14293850168845],\n",
       "                {&quot;bubblingMouseEvents&quot;: true, &quot;color&quot;: &quot;blue&quot;, &quot;dashArray&quot;: null, &quot;dashOffset&quot;: null, &quot;fill&quot;: true, &quot;fillColor&quot;: &quot;blue&quot;, &quot;fillOpacity&quot;: 0.2, &quot;fillRule&quot;: &quot;evenodd&quot;, &quot;lineCap&quot;: &quot;round&quot;, &quot;lineJoin&quot;: &quot;round&quot;, &quot;opacity&quot;: 1.0, &quot;radius&quot;: 3, &quot;stroke&quot;: true, &quot;weight&quot;: 3}\n",
       "            ).addTo(map_e47a3adb9f6102181a7bde97390a9b82);\n",
       "        \n",
       "    \n",
       "            var circle_marker_f59920005f27e85b7997d683bee120bd = L.circleMarker(\n",
       "                [44.914756060386026, 41.820480173492186],\n",
       "                {&quot;bubblingMouseEvents&quot;: true, &quot;color&quot;: &quot;blue&quot;, &quot;dashArray&quot;: null, &quot;dashOffset&quot;: null, &quot;fill&quot;: true, &quot;fillColor&quot;: &quot;blue&quot;, &quot;fillOpacity&quot;: 0.2, &quot;fillRule&quot;: &quot;evenodd&quot;, &quot;lineCap&quot;: &quot;round&quot;, &quot;lineJoin&quot;: &quot;round&quot;, &quot;opacity&quot;: 1.0, &quot;radius&quot;: 3, &quot;stroke&quot;: true, &quot;weight&quot;: 3}\n",
       "            ).addTo(map_e47a3adb9f6102181a7bde97390a9b82);\n",
       "        \n",
       "    \n",
       "            var circle_marker_65ba00339aefbc2ff49b29090ce715d5 = L.circleMarker(\n",
       "                [55.92589997462066, 37.68309953142059],\n",
       "                {&quot;bubblingMouseEvents&quot;: true, &quot;color&quot;: &quot;blue&quot;, &quot;dashArray&quot;: null, &quot;dashOffset&quot;: null, &quot;fill&quot;: true, &quot;fillColor&quot;: &quot;blue&quot;, &quot;fillOpacity&quot;: 0.2, &quot;fillRule&quot;: &quot;evenodd&quot;, &quot;lineCap&quot;: &quot;round&quot;, &quot;lineJoin&quot;: &quot;round&quot;, &quot;opacity&quot;: 1.0, &quot;radius&quot;: 3, &quot;stroke&quot;: true, &quot;weight&quot;: 3}\n",
       "            ).addTo(map_e47a3adb9f6102181a7bde97390a9b82);\n",
       "        \n",
       "    \n",
       "            var circle_marker_83baa1801d907bc5e8d4d665dd222774 = L.circleMarker(\n",
       "                [59.86892840827267, 30.253574385103363],\n",
       "                {&quot;bubblingMouseEvents&quot;: true, &quot;color&quot;: &quot;red&quot;, &quot;dashArray&quot;: null, &quot;dashOffset&quot;: null, &quot;fill&quot;: true, &quot;fillColor&quot;: &quot;red&quot;, &quot;fillOpacity&quot;: 0.2, &quot;fillRule&quot;: &quot;evenodd&quot;, &quot;lineCap&quot;: &quot;round&quot;, &quot;lineJoin&quot;: &quot;round&quot;, &quot;opacity&quot;: 1.0, &quot;radius&quot;: 3, &quot;stroke&quot;: true, &quot;weight&quot;: 3}\n",
       "            ).addTo(map_e47a3adb9f6102181a7bde97390a9b82);\n",
       "        \n",
       "    \n",
       "            var circle_marker_622e3716605ba6da4f8dddec99083eae = L.circleMarker(\n",
       "                [56.78825369720652, 60.71425838341857],\n",
       "                {&quot;bubblingMouseEvents&quot;: true, &quot;color&quot;: &quot;red&quot;, &quot;dashArray&quot;: null, &quot;dashOffset&quot;: null, &quot;fill&quot;: true, &quot;fillColor&quot;: &quot;red&quot;, &quot;fillOpacity&quot;: 0.2, &quot;fillRule&quot;: &quot;evenodd&quot;, &quot;lineCap&quot;: &quot;round&quot;, &quot;lineJoin&quot;: &quot;round&quot;, &quot;opacity&quot;: 1.0, &quot;radius&quot;: 3, &quot;stroke&quot;: true, &quot;weight&quot;: 3}\n",
       "            ).addTo(map_e47a3adb9f6102181a7bde97390a9b82);\n",
       "        \n",
       "    \n",
       "            var circle_marker_72f1837a35f792dd2c6fc5747bbda3ae = L.circleMarker(\n",
       "                [56.001200044161145, 40.51135054084092],\n",
       "                {&quot;bubblingMouseEvents&quot;: true, &quot;color&quot;: &quot;blue&quot;, &quot;dashArray&quot;: null, &quot;dashOffset&quot;: null, &quot;fill&quot;: true, &quot;fillColor&quot;: &quot;blue&quot;, &quot;fillOpacity&quot;: 0.2, &quot;fillRule&quot;: &quot;evenodd&quot;, &quot;lineCap&quot;: &quot;round&quot;, &quot;lineJoin&quot;: &quot;round&quot;, &quot;opacity&quot;: 1.0, &quot;radius&quot;: 3, &quot;stroke&quot;: true, &quot;weight&quot;: 3}\n",
       "            ).addTo(map_e47a3adb9f6102181a7bde97390a9b82);\n",
       "        \n",
       "    \n",
       "            var circle_marker_5f7bd3d8469d7d9e4345bf541dd4d8a4 = L.circleMarker(\n",
       "                [57.93484145229004, 60.01097554813072],\n",
       "                {&quot;bubblingMouseEvents&quot;: true, &quot;color&quot;: &quot;red&quot;, &quot;dashArray&quot;: null, &quot;dashOffset&quot;: null, &quot;fill&quot;: true, &quot;fillColor&quot;: &quot;red&quot;, &quot;fillOpacity&quot;: 0.2, &quot;fillRule&quot;: &quot;evenodd&quot;, &quot;lineCap&quot;: &quot;round&quot;, &quot;lineJoin&quot;: &quot;round&quot;, &quot;opacity&quot;: 1.0, &quot;radius&quot;: 3, &quot;stroke&quot;: true, &quot;weight&quot;: 3}\n",
       "            ).addTo(map_e47a3adb9f6102181a7bde97390a9b82);\n",
       "        \n",
       "    \n",
       "            var circle_marker_b8eef6c72e578a622ec996890fe452f3 = L.circleMarker(\n",
       "                [56.956391276170606, 60.703559203620635],\n",
       "                {&quot;bubblingMouseEvents&quot;: true, &quot;color&quot;: &quot;red&quot;, &quot;dashArray&quot;: null, &quot;dashOffset&quot;: null, &quot;fill&quot;: true, &quot;fillColor&quot;: &quot;red&quot;, &quot;fillOpacity&quot;: 0.2, &quot;fillRule&quot;: &quot;evenodd&quot;, &quot;lineCap&quot;: &quot;round&quot;, &quot;lineJoin&quot;: &quot;round&quot;, &quot;opacity&quot;: 1.0, &quot;radius&quot;: 3, &quot;stroke&quot;: true, &quot;weight&quot;: 3}\n",
       "            ).addTo(map_e47a3adb9f6102181a7bde97390a9b82);\n",
       "        \n",
       "    \n",
       "            var circle_marker_6b7d49333d1b13a4ea4e04446de868db = L.circleMarker(\n",
       "                [47.04006956650007, 39.90757217878394],\n",
       "                {&quot;bubblingMouseEvents&quot;: true, &quot;color&quot;: &quot;blue&quot;, &quot;dashArray&quot;: null, &quot;dashOffset&quot;: null, &quot;fill&quot;: true, &quot;fillColor&quot;: &quot;blue&quot;, &quot;fillOpacity&quot;: 0.2, &quot;fillRule&quot;: &quot;evenodd&quot;, &quot;lineCap&quot;: &quot;round&quot;, &quot;lineJoin&quot;: &quot;round&quot;, &quot;opacity&quot;: 1.0, &quot;radius&quot;: 3, &quot;stroke&quot;: true, &quot;weight&quot;: 3}\n",
       "            ).addTo(map_e47a3adb9f6102181a7bde97390a9b82);\n",
       "        \n",
       "    \n",
       "            var circle_marker_b5bbd92bfdfcae26a2fa192c69f75e1d = L.circleMarker(\n",
       "                [59.80200449746887, 30.410145850385284],\n",
       "                {&quot;bubblingMouseEvents&quot;: true, &quot;color&quot;: &quot;blue&quot;, &quot;dashArray&quot;: null, &quot;dashOffset&quot;: null, &quot;fill&quot;: true, &quot;fillColor&quot;: &quot;blue&quot;, &quot;fillOpacity&quot;: 0.2, &quot;fillRule&quot;: &quot;evenodd&quot;, &quot;lineCap&quot;: &quot;round&quot;, &quot;lineJoin&quot;: &quot;round&quot;, &quot;opacity&quot;: 1.0, &quot;radius&quot;: 3, &quot;stroke&quot;: true, &quot;weight&quot;: 3}\n",
       "            ).addTo(map_e47a3adb9f6102181a7bde97390a9b82);\n",
       "        \n",
       "    \n",
       "            var circle_marker_4184def09b6a1a76b52b36087744eab1 = L.circleMarker(\n",
       "                [55.809557584050765, 37.70859727985855],\n",
       "                {&quot;bubblingMouseEvents&quot;: true, &quot;color&quot;: &quot;red&quot;, &quot;dashArray&quot;: null, &quot;dashOffset&quot;: null, &quot;fill&quot;: true, &quot;fillColor&quot;: &quot;red&quot;, &quot;fillOpacity&quot;: 0.2, &quot;fillRule&quot;: &quot;evenodd&quot;, &quot;lineCap&quot;: &quot;round&quot;, &quot;lineJoin&quot;: &quot;round&quot;, &quot;opacity&quot;: 1.0, &quot;radius&quot;: 3, &quot;stroke&quot;: true, &quot;weight&quot;: 3}\n",
       "            ).addTo(map_e47a3adb9f6102181a7bde97390a9b82);\n",
       "        \n",
       "    \n",
       "            var circle_marker_9c0a42216d47fe862a742632aed9e0a6 = L.circleMarker(\n",
       "                [55.169922521799656, 73.38116325927291],\n",
       "                {&quot;bubblingMouseEvents&quot;: true, &quot;color&quot;: &quot;blue&quot;, &quot;dashArray&quot;: null, &quot;dashOffset&quot;: null, &quot;fill&quot;: true, &quot;fillColor&quot;: &quot;blue&quot;, &quot;fillOpacity&quot;: 0.2, &quot;fillRule&quot;: &quot;evenodd&quot;, &quot;lineCap&quot;: &quot;round&quot;, &quot;lineJoin&quot;: &quot;round&quot;, &quot;opacity&quot;: 1.0, &quot;radius&quot;: 3, &quot;stroke&quot;: true, &quot;weight&quot;: 3}\n",
       "            ).addTo(map_e47a3adb9f6102181a7bde97390a9b82);\n",
       "        \n",
       "    \n",
       "            var circle_marker_5d303111df0a85b56b10ae9f94a84924 = L.circleMarker(\n",
       "                [45.10384314163156, 39.12193042549934],\n",
       "                {&quot;bubblingMouseEvents&quot;: true, &quot;color&quot;: &quot;red&quot;, &quot;dashArray&quot;: null, &quot;dashOffset&quot;: null, &quot;fill&quot;: true, &quot;fillColor&quot;: &quot;red&quot;, &quot;fillOpacity&quot;: 0.2, &quot;fillRule&quot;: &quot;evenodd&quot;, &quot;lineCap&quot;: &quot;round&quot;, &quot;lineJoin&quot;: &quot;round&quot;, &quot;opacity&quot;: 1.0, &quot;radius&quot;: 3, &quot;stroke&quot;: true, &quot;weight&quot;: 3}\n",
       "            ).addTo(map_e47a3adb9f6102181a7bde97390a9b82);\n",
       "        \n",
       "    \n",
       "            var circle_marker_6b1806bff7e06775170db0193b7c07ae = L.circleMarker(\n",
       "                [44.8081292585504, 37.8257360471455],\n",
       "                {&quot;bubblingMouseEvents&quot;: true, &quot;color&quot;: &quot;blue&quot;, &quot;dashArray&quot;: null, &quot;dashOffset&quot;: null, &quot;fill&quot;: true, &quot;fillColor&quot;: &quot;blue&quot;, &quot;fillOpacity&quot;: 0.2, &quot;fillRule&quot;: &quot;evenodd&quot;, &quot;lineCap&quot;: &quot;round&quot;, &quot;lineJoin&quot;: &quot;round&quot;, &quot;opacity&quot;: 1.0, &quot;radius&quot;: 3, &quot;stroke&quot;: true, &quot;weight&quot;: 3}\n",
       "            ).addTo(map_e47a3adb9f6102181a7bde97390a9b82);\n",
       "        \n",
       "    \n",
       "            var circle_marker_40190433adb2977de7713f2d7f242e46 = L.circleMarker(\n",
       "                [55.09543363862132, 73.21769428139201],\n",
       "                {&quot;bubblingMouseEvents&quot;: true, &quot;color&quot;: &quot;blue&quot;, &quot;dashArray&quot;: null, &quot;dashOffset&quot;: null, &quot;fill&quot;: true, &quot;fillColor&quot;: &quot;blue&quot;, &quot;fillOpacity&quot;: 0.2, &quot;fillRule&quot;: &quot;evenodd&quot;, &quot;lineCap&quot;: &quot;round&quot;, &quot;lineJoin&quot;: &quot;round&quot;, &quot;opacity&quot;: 1.0, &quot;radius&quot;: 3, &quot;stroke&quot;: true, &quot;weight&quot;: 3}\n",
       "            ).addTo(map_e47a3adb9f6102181a7bde97390a9b82);\n",
       "        \n",
       "    \n",
       "            var circle_marker_0204b8782e86e5caa4472b3415ae9c04 = L.circleMarker(\n",
       "                [53.43540877913785, 58.85521200792296],\n",
       "                {&quot;bubblingMouseEvents&quot;: true, &quot;color&quot;: &quot;blue&quot;, &quot;dashArray&quot;: null, &quot;dashOffset&quot;: null, &quot;fill&quot;: true, &quot;fillColor&quot;: &quot;blue&quot;, &quot;fillOpacity&quot;: 0.2, &quot;fillRule&quot;: &quot;evenodd&quot;, &quot;lineCap&quot;: &quot;round&quot;, &quot;lineJoin&quot;: &quot;round&quot;, &quot;opacity&quot;: 1.0, &quot;radius&quot;: 3, &quot;stroke&quot;: true, &quot;weight&quot;: 3}\n",
       "            ).addTo(map_e47a3adb9f6102181a7bde97390a9b82);\n",
       "        \n",
       "    \n",
       "            var circle_marker_eb4034eff78039af40dc88e2d7ce4863 = L.circleMarker(\n",
       "                [51.925138702187986, 107.65840244167036],\n",
       "                {&quot;bubblingMouseEvents&quot;: true, &quot;color&quot;: &quot;blue&quot;, &quot;dashArray&quot;: null, &quot;dashOffset&quot;: null, &quot;fill&quot;: true, &quot;fillColor&quot;: &quot;blue&quot;, &quot;fillOpacity&quot;: 0.2, &quot;fillRule&quot;: &quot;evenodd&quot;, &quot;lineCap&quot;: &quot;round&quot;, &quot;lineJoin&quot;: &quot;round&quot;, &quot;opacity&quot;: 1.0, &quot;radius&quot;: 3, &quot;stroke&quot;: true, &quot;weight&quot;: 3}\n",
       "            ).addTo(map_e47a3adb9f6102181a7bde97390a9b82);\n",
       "        \n",
       "    \n",
       "            var circle_marker_cbd9a1ff37d88e7032a6a956ca5c99a3 = L.circleMarker(\n",
       "                [43.1502841687698, 47.43770479826169],\n",
       "                {&quot;bubblingMouseEvents&quot;: true, &quot;color&quot;: &quot;blue&quot;, &quot;dashArray&quot;: null, &quot;dashOffset&quot;: null, &quot;fill&quot;: true, &quot;fillColor&quot;: &quot;blue&quot;, &quot;fillOpacity&quot;: 0.2, &quot;fillRule&quot;: &quot;evenodd&quot;, &quot;lineCap&quot;: &quot;round&quot;, &quot;lineJoin&quot;: &quot;round&quot;, &quot;opacity&quot;: 1.0, &quot;radius&quot;: 3, &quot;stroke&quot;: true, &quot;weight&quot;: 3}\n",
       "            ).addTo(map_e47a3adb9f6102181a7bde97390a9b82);\n",
       "        \n",
       "    \n",
       "            var circle_marker_39284ab91aae5687acca8d86ba1a728e = L.circleMarker(\n",
       "                [53.31354087899162, 44.954531158152804],\n",
       "                {&quot;bubblingMouseEvents&quot;: true, &quot;color&quot;: &quot;red&quot;, &quot;dashArray&quot;: null, &quot;dashOffset&quot;: null, &quot;fill&quot;: true, &quot;fillColor&quot;: &quot;red&quot;, &quot;fillOpacity&quot;: 0.2, &quot;fillRule&quot;: &quot;evenodd&quot;, &quot;lineCap&quot;: &quot;round&quot;, &quot;lineJoin&quot;: &quot;round&quot;, &quot;opacity&quot;: 1.0, &quot;radius&quot;: 3, &quot;stroke&quot;: true, &quot;weight&quot;: 3}\n",
       "            ).addTo(map_e47a3adb9f6102181a7bde97390a9b82);\n",
       "        \n",
       "    \n",
       "            var circle_marker_2b2da628afc2d1450abaf69d9a5b0c1e = L.circleMarker(\n",
       "                [53.32792295321548, 49.9701763738599],\n",
       "                {&quot;bubblingMouseEvents&quot;: true, &quot;color&quot;: &quot;blue&quot;, &quot;dashArray&quot;: null, &quot;dashOffset&quot;: null, &quot;fill&quot;: true, &quot;fillColor&quot;: &quot;blue&quot;, &quot;fillOpacity&quot;: 0.2, &quot;fillRule&quot;: &quot;evenodd&quot;, &quot;lineCap&quot;: &quot;round&quot;, &quot;lineJoin&quot;: &quot;round&quot;, &quot;opacity&quot;: 1.0, &quot;radius&quot;: 3, &quot;stroke&quot;: true, &quot;weight&quot;: 3}\n",
       "            ).addTo(map_e47a3adb9f6102181a7bde97390a9b82);\n",
       "        \n",
       "    \n",
       "            var circle_marker_151baf95e7822e88f5a290a3e932b148 = L.circleMarker(\n",
       "                [53.32473576219245, 34.46670550569521],\n",
       "                {&quot;bubblingMouseEvents&quot;: true, &quot;color&quot;: &quot;red&quot;, &quot;dashArray&quot;: null, &quot;dashOffset&quot;: null, &quot;fill&quot;: true, &quot;fillColor&quot;: &quot;red&quot;, &quot;fillOpacity&quot;: 0.2, &quot;fillRule&quot;: &quot;evenodd&quot;, &quot;lineCap&quot;: &quot;round&quot;, &quot;lineJoin&quot;: &quot;round&quot;, &quot;opacity&quot;: 1.0, &quot;radius&quot;: 3, &quot;stroke&quot;: true, &quot;weight&quot;: 3}\n",
       "            ).addTo(map_e47a3adb9f6102181a7bde97390a9b82);\n",
       "        \n",
       "    \n",
       "            var circle_marker_ba7667eb22f8c4e9327625c5ba2d73bf = L.circleMarker(\n",
       "                [52.23889982501237, 104.08067671213783],\n",
       "                {&quot;bubblingMouseEvents&quot;: true, &quot;color&quot;: &quot;blue&quot;, &quot;dashArray&quot;: null, &quot;dashOffset&quot;: null, &quot;fill&quot;: true, &quot;fillColor&quot;: &quot;blue&quot;, &quot;fillOpacity&quot;: 0.2, &quot;fillRule&quot;: &quot;evenodd&quot;, &quot;lineCap&quot;: &quot;round&quot;, &quot;lineJoin&quot;: &quot;round&quot;, &quot;opacity&quot;: 1.0, &quot;radius&quot;: 3, &quot;stroke&quot;: true, &quot;weight&quot;: 3}\n",
       "            ).addTo(map_e47a3adb9f6102181a7bde97390a9b82);\n",
       "        \n",
       "    \n",
       "            var circle_marker_f544645b40efc40a2dc1e2ae98ae782c = L.circleMarker(\n",
       "                [55.886481470518994, 37.55126230959293],\n",
       "                {&quot;bubblingMouseEvents&quot;: true, &quot;color&quot;: &quot;red&quot;, &quot;dashArray&quot;: null, &quot;dashOffset&quot;: null, &quot;fill&quot;: true, &quot;fillColor&quot;: &quot;red&quot;, &quot;fillOpacity&quot;: 0.2, &quot;fillRule&quot;: &quot;evenodd&quot;, &quot;lineCap&quot;: &quot;round&quot;, &quot;lineJoin&quot;: &quot;round&quot;, &quot;opacity&quot;: 1.0, &quot;radius&quot;: 3, &quot;stroke&quot;: true, &quot;weight&quot;: 3}\n",
       "            ).addTo(map_e47a3adb9f6102181a7bde97390a9b82);\n",
       "        \n",
       "    \n",
       "            var circle_marker_707a3c52ffc0f017c99cd14251ea14dc = L.circleMarker(\n",
       "                [47.080922375978545, 39.72097308054273],\n",
       "                {&quot;bubblingMouseEvents&quot;: true, &quot;color&quot;: &quot;red&quot;, &quot;dashArray&quot;: null, &quot;dashOffset&quot;: null, &quot;fill&quot;: true, &quot;fillColor&quot;: &quot;red&quot;, &quot;fillOpacity&quot;: 0.2, &quot;fillRule&quot;: &quot;evenodd&quot;, &quot;lineCap&quot;: &quot;round&quot;, &quot;lineJoin&quot;: &quot;round&quot;, &quot;opacity&quot;: 1.0, &quot;radius&quot;: 3, &quot;stroke&quot;: true, &quot;weight&quot;: 3}\n",
       "            ).addTo(map_e47a3adb9f6102181a7bde97390a9b82);\n",
       "        \n",
       "    \n",
       "            var circle_marker_8d45a106bc98f4059f27c34ac72ffc35 = L.circleMarker(\n",
       "                [55.880166136403794, 37.80914925131337],\n",
       "                {&quot;bubblingMouseEvents&quot;: true, &quot;color&quot;: &quot;red&quot;, &quot;dashArray&quot;: null, &quot;dashOffset&quot;: null, &quot;fill&quot;: true, &quot;fillColor&quot;: &quot;red&quot;, &quot;fillOpacity&quot;: 0.2, &quot;fillRule&quot;: &quot;evenodd&quot;, &quot;lineCap&quot;: &quot;round&quot;, &quot;lineJoin&quot;: &quot;round&quot;, &quot;opacity&quot;: 1.0, &quot;radius&quot;: 3, &quot;stroke&quot;: true, &quot;weight&quot;: 3}\n",
       "            ).addTo(map_e47a3adb9f6102181a7bde97390a9b82);\n",
       "        \n",
       "    \n",
       "            var circle_marker_f18e0487602df6867d8e819346b3a2a4 = L.circleMarker(\n",
       "                [53.02204536736527, 50.29771425127479],\n",
       "                {&quot;bubblingMouseEvents&quot;: true, &quot;color&quot;: &quot;red&quot;, &quot;dashArray&quot;: null, &quot;dashOffset&quot;: null, &quot;fill&quot;: true, &quot;fillColor&quot;: &quot;red&quot;, &quot;fillOpacity&quot;: 0.2, &quot;fillRule&quot;: &quot;evenodd&quot;, &quot;lineCap&quot;: &quot;round&quot;, &quot;lineJoin&quot;: &quot;round&quot;, &quot;opacity&quot;: 1.0, &quot;radius&quot;: 3, &quot;stroke&quot;: true, &quot;weight&quot;: 3}\n",
       "            ).addTo(map_e47a3adb9f6102181a7bde97390a9b82);\n",
       "        \n",
       "    \n",
       "            var circle_marker_8ac7f4fa0f9b84f5e885e3b7aae7d373 = L.circleMarker(\n",
       "                [54.1190303972524, 48.38335164696961],\n",
       "                {&quot;bubblingMouseEvents&quot;: true, &quot;color&quot;: &quot;blue&quot;, &quot;dashArray&quot;: null, &quot;dashOffset&quot;: null, &quot;fill&quot;: true, &quot;fillColor&quot;: &quot;blue&quot;, &quot;fillOpacity&quot;: 0.2, &quot;fillRule&quot;: &quot;evenodd&quot;, &quot;lineCap&quot;: &quot;round&quot;, &quot;lineJoin&quot;: &quot;round&quot;, &quot;opacity&quot;: 1.0, &quot;radius&quot;: 3, &quot;stroke&quot;: true, &quot;weight&quot;: 3}\n",
       "            ).addTo(map_e47a3adb9f6102181a7bde97390a9b82);\n",
       "        \n",
       "    \n",
       "            var circle_marker_54c83ebb317d4ed9905164fc8b99c503 = L.circleMarker(\n",
       "                [56.490658908179924, 43.81872475887937],\n",
       "                {&quot;bubblingMouseEvents&quot;: true, &quot;color&quot;: &quot;blue&quot;, &quot;dashArray&quot;: null, &quot;dashOffset&quot;: null, &quot;fill&quot;: true, &quot;fillColor&quot;: &quot;blue&quot;, &quot;fillOpacity&quot;: 0.2, &quot;fillRule&quot;: &quot;evenodd&quot;, &quot;lineCap&quot;: &quot;round&quot;, &quot;lineJoin&quot;: &quot;round&quot;, &quot;opacity&quot;: 1.0, &quot;radius&quot;: 3, &quot;stroke&quot;: true, &quot;weight&quot;: 3}\n",
       "            ).addTo(map_e47a3adb9f6102181a7bde97390a9b82);\n",
       "        \n",
       "    \n",
       "            var circle_marker_35b4a288dbe516a6ece9a71cbc5663d3 = L.circleMarker(\n",
       "                [55.83817066965004, 37.6390086554382],\n",
       "                {&quot;bubblingMouseEvents&quot;: true, &quot;color&quot;: &quot;red&quot;, &quot;dashArray&quot;: null, &quot;dashOffset&quot;: null, &quot;fill&quot;: true, &quot;fillColor&quot;: &quot;red&quot;, &quot;fillOpacity&quot;: 0.2, &quot;fillRule&quot;: &quot;evenodd&quot;, &quot;lineCap&quot;: &quot;round&quot;, &quot;lineJoin&quot;: &quot;round&quot;, &quot;opacity&quot;: 1.0, &quot;radius&quot;: 3, &quot;stroke&quot;: true, &quot;weight&quot;: 3}\n",
       "            ).addTo(map_e47a3adb9f6102181a7bde97390a9b82);\n",
       "        \n",
       "    \n",
       "            var circle_marker_ffe32def5da259b0311e8c2a33d33a35 = L.circleMarker(\n",
       "                [54.92230638986078, 82.89293110198807],\n",
       "                {&quot;bubblingMouseEvents&quot;: true, &quot;color&quot;: &quot;blue&quot;, &quot;dashArray&quot;: null, &quot;dashOffset&quot;: null, &quot;fill&quot;: true, &quot;fillColor&quot;: &quot;blue&quot;, &quot;fillOpacity&quot;: 0.2, &quot;fillRule&quot;: &quot;evenodd&quot;, &quot;lineCap&quot;: &quot;round&quot;, &quot;lineJoin&quot;: &quot;round&quot;, &quot;opacity&quot;: 1.0, &quot;radius&quot;: 3, &quot;stroke&quot;: true, &quot;weight&quot;: 3}\n",
       "            ).addTo(map_e47a3adb9f6102181a7bde97390a9b82);\n",
       "        \n",
       "    \n",
       "            var circle_marker_5f0d5c88be7eccd5599f5102e41ec0c3 = L.circleMarker(\n",
       "                [45.04465466611913, 39.05705612384644],\n",
       "                {&quot;bubblingMouseEvents&quot;: true, &quot;color&quot;: &quot;blue&quot;, &quot;dashArray&quot;: null, &quot;dashOffset&quot;: null, &quot;fill&quot;: true, &quot;fillColor&quot;: &quot;blue&quot;, &quot;fillOpacity&quot;: 0.2, &quot;fillRule&quot;: &quot;evenodd&quot;, &quot;lineCap&quot;: &quot;round&quot;, &quot;lineJoin&quot;: &quot;round&quot;, &quot;opacity&quot;: 1.0, &quot;radius&quot;: 3, &quot;stroke&quot;: true, &quot;weight&quot;: 3}\n",
       "            ).addTo(map_e47a3adb9f6102181a7bde97390a9b82);\n",
       "        \n",
       "    \n",
       "            var circle_marker_89acc72c53e888a8540b1f4870394435 = L.circleMarker(\n",
       "                [59.17960890213421, 40.02604717205051],\n",
       "                {&quot;bubblingMouseEvents&quot;: true, &quot;color&quot;: &quot;blue&quot;, &quot;dashArray&quot;: null, &quot;dashOffset&quot;: null, &quot;fill&quot;: true, &quot;fillColor&quot;: &quot;blue&quot;, &quot;fillOpacity&quot;: 0.2, &quot;fillRule&quot;: &quot;evenodd&quot;, &quot;lineCap&quot;: &quot;round&quot;, &quot;lineJoin&quot;: &quot;round&quot;, &quot;opacity&quot;: 1.0, &quot;radius&quot;: 3, &quot;stroke&quot;: true, &quot;weight&quot;: 3}\n",
       "            ).addTo(map_e47a3adb9f6102181a7bde97390a9b82);\n",
       "        \n",
       "    \n",
       "            var circle_marker_31b9445cfa43f4c31576552fa04fa928 = L.circleMarker(\n",
       "                [55.88730063651879, 37.64191962698301],\n",
       "                {&quot;bubblingMouseEvents&quot;: true, &quot;color&quot;: &quot;blue&quot;, &quot;dashArray&quot;: null, &quot;dashOffset&quot;: null, &quot;fill&quot;: true, &quot;fillColor&quot;: &quot;blue&quot;, &quot;fillOpacity&quot;: 0.2, &quot;fillRule&quot;: &quot;evenodd&quot;, &quot;lineCap&quot;: &quot;round&quot;, &quot;lineJoin&quot;: &quot;round&quot;, &quot;opacity&quot;: 1.0, &quot;radius&quot;: 3, &quot;stroke&quot;: true, &quot;weight&quot;: 3}\n",
       "            ).addTo(map_e47a3adb9f6102181a7bde97390a9b82);\n",
       "        \n",
       "    \n",
       "            var circle_marker_780b45d53f1ff719a0d693317dd7447e = L.circleMarker(\n",
       "                [59.93448503510099, 30.266209870860493],\n",
       "                {&quot;bubblingMouseEvents&quot;: true, &quot;color&quot;: &quot;blue&quot;, &quot;dashArray&quot;: null, &quot;dashOffset&quot;: null, &quot;fill&quot;: true, &quot;fillColor&quot;: &quot;blue&quot;, &quot;fillOpacity&quot;: 0.2, &quot;fillRule&quot;: &quot;evenodd&quot;, &quot;lineCap&quot;: &quot;round&quot;, &quot;lineJoin&quot;: &quot;round&quot;, &quot;opacity&quot;: 1.0, &quot;radius&quot;: 3, &quot;stroke&quot;: true, &quot;weight&quot;: 3}\n",
       "            ).addTo(map_e47a3adb9f6102181a7bde97390a9b82);\n",
       "        \n",
       "    \n",
       "            var circle_marker_4bc48eefba7c9ac2a16b05e8e4347867 = L.circleMarker(\n",
       "                [53.61950016543805, 55.97091507128386],\n",
       "                {&quot;bubblingMouseEvents&quot;: true, &quot;color&quot;: &quot;red&quot;, &quot;dashArray&quot;: null, &quot;dashOffset&quot;: null, &quot;fill&quot;: true, &quot;fillColor&quot;: &quot;red&quot;, &quot;fillOpacity&quot;: 0.2, &quot;fillRule&quot;: &quot;evenodd&quot;, &quot;lineCap&quot;: &quot;round&quot;, &quot;lineJoin&quot;: &quot;round&quot;, &quot;opacity&quot;: 1.0, &quot;radius&quot;: 3, &quot;stroke&quot;: true, &quot;weight&quot;: 3}\n",
       "            ).addTo(map_e47a3adb9f6102181a7bde97390a9b82);\n",
       "        \n",
       "    \n",
       "            var circle_marker_1f41aa2fb7b3efa4e033e396111ffa6e = L.circleMarker(\n",
       "                [55.23838938489117, 61.278638033425416],\n",
       "                {&quot;bubblingMouseEvents&quot;: true, &quot;color&quot;: &quot;red&quot;, &quot;dashArray&quot;: null, &quot;dashOffset&quot;: null, &quot;fill&quot;: true, &quot;fillColor&quot;: &quot;red&quot;, &quot;fillOpacity&quot;: 0.2, &quot;fillRule&quot;: &quot;evenodd&quot;, &quot;lineCap&quot;: &quot;round&quot;, &quot;lineJoin&quot;: &quot;round&quot;, &quot;opacity&quot;: 1.0, &quot;radius&quot;: 3, &quot;stroke&quot;: true, &quot;weight&quot;: 3}\n",
       "            ).addTo(map_e47a3adb9f6102181a7bde97390a9b82);\n",
       "        \n",
       "    \n",
       "            var circle_marker_1e5140351fb7922e7b0ab7cb8c07d5de = L.circleMarker(\n",
       "                [45.158953444413896, 39.12101945820894],\n",
       "                {&quot;bubblingMouseEvents&quot;: true, &quot;color&quot;: &quot;blue&quot;, &quot;dashArray&quot;: null, &quot;dashOffset&quot;: null, &quot;fill&quot;: true, &quot;fillColor&quot;: &quot;blue&quot;, &quot;fillOpacity&quot;: 0.2, &quot;fillRule&quot;: &quot;evenodd&quot;, &quot;lineCap&quot;: &quot;round&quot;, &quot;lineJoin&quot;: &quot;round&quot;, &quot;opacity&quot;: 1.0, &quot;radius&quot;: 3, &quot;stroke&quot;: true, &quot;weight&quot;: 3}\n",
       "            ).addTo(map_e47a3adb9f6102181a7bde97390a9b82);\n",
       "        \n",
       "    \n",
       "            var circle_marker_dfd2b211450dd9ed073f0fdd3ff784f6 = L.circleMarker(\n",
       "                [52.88643475851133, 36.05037913664447],\n",
       "                {&quot;bubblingMouseEvents&quot;: true, &quot;color&quot;: &quot;blue&quot;, &quot;dashArray&quot;: null, &quot;dashOffset&quot;: null, &quot;fill&quot;: true, &quot;fillColor&quot;: &quot;blue&quot;, &quot;fillOpacity&quot;: 0.2, &quot;fillRule&quot;: &quot;evenodd&quot;, &quot;lineCap&quot;: &quot;round&quot;, &quot;lineJoin&quot;: &quot;round&quot;, &quot;opacity&quot;: 1.0, &quot;radius&quot;: 3, &quot;stroke&quot;: true, &quot;weight&quot;: 3}\n",
       "            ).addTo(map_e47a3adb9f6102181a7bde97390a9b82);\n",
       "        \n",
       "    \n",
       "            var circle_marker_95a1f2951dd08842f4bc96929724296c = L.circleMarker(\n",
       "                [55.57252828792245, 37.802570710424696],\n",
       "                {&quot;bubblingMouseEvents&quot;: true, &quot;color&quot;: &quot;blue&quot;, &quot;dashArray&quot;: null, &quot;dashOffset&quot;: null, &quot;fill&quot;: true, &quot;fillColor&quot;: &quot;blue&quot;, &quot;fillOpacity&quot;: 0.2, &quot;fillRule&quot;: &quot;evenodd&quot;, &quot;lineCap&quot;: &quot;round&quot;, &quot;lineJoin&quot;: &quot;round&quot;, &quot;opacity&quot;: 1.0, &quot;radius&quot;: 3, &quot;stroke&quot;: true, &quot;weight&quot;: 3}\n",
       "            ).addTo(map_e47a3adb9f6102181a7bde97390a9b82);\n",
       "        \n",
       "    \n",
       "            var circle_marker_ac92e88f0a50f4dbb817b0f206c59a9b = L.circleMarker(\n",
       "                [53.271656631596635, 44.84023302217456],\n",
       "                {&quot;bubblingMouseEvents&quot;: true, &quot;color&quot;: &quot;red&quot;, &quot;dashArray&quot;: null, &quot;dashOffset&quot;: null, &quot;fill&quot;: true, &quot;fillColor&quot;: &quot;red&quot;, &quot;fillOpacity&quot;: 0.2, &quot;fillRule&quot;: &quot;evenodd&quot;, &quot;lineCap&quot;: &quot;round&quot;, &quot;lineJoin&quot;: &quot;round&quot;, &quot;opacity&quot;: 1.0, &quot;radius&quot;: 3, &quot;stroke&quot;: true, &quot;weight&quot;: 3}\n",
       "            ).addTo(map_e47a3adb9f6102181a7bde97390a9b82);\n",
       "        \n",
       "    \n",
       "            var circle_marker_f765fa0e263b1c8babac97d3b844c28a = L.circleMarker(\n",
       "                [51.60686434578655, 39.394420431967845],\n",
       "                {&quot;bubblingMouseEvents&quot;: true, &quot;color&quot;: &quot;red&quot;, &quot;dashArray&quot;: null, &quot;dashOffset&quot;: null, &quot;fill&quot;: true, &quot;fillColor&quot;: &quot;red&quot;, &quot;fillOpacity&quot;: 0.2, &quot;fillRule&quot;: &quot;evenodd&quot;, &quot;lineCap&quot;: &quot;round&quot;, &quot;lineJoin&quot;: &quot;round&quot;, &quot;opacity&quot;: 1.0, &quot;radius&quot;: 3, &quot;stroke&quot;: true, &quot;weight&quot;: 3}\n",
       "            ).addTo(map_e47a3adb9f6102181a7bde97390a9b82);\n",
       "        \n",
       "    \n",
       "            var circle_marker_fd13682988d98a153d6d449e74b6c115 = L.circleMarker(\n",
       "                [42.989174930717994, 47.34131512988269],\n",
       "                {&quot;bubblingMouseEvents&quot;: true, &quot;color&quot;: &quot;blue&quot;, &quot;dashArray&quot;: null, &quot;dashOffset&quot;: null, &quot;fill&quot;: true, &quot;fillColor&quot;: &quot;blue&quot;, &quot;fillOpacity&quot;: 0.2, &quot;fillRule&quot;: &quot;evenodd&quot;, &quot;lineCap&quot;: &quot;round&quot;, &quot;lineJoin&quot;: &quot;round&quot;, &quot;opacity&quot;: 1.0, &quot;radius&quot;: 3, &quot;stroke&quot;: true, &quot;weight&quot;: 3}\n",
       "            ).addTo(map_e47a3adb9f6102181a7bde97390a9b82);\n",
       "        \n",
       "    \n",
       "            var circle_marker_0c15a83497069703cba77c6d562a8e11 = L.circleMarker(\n",
       "                [54.819052750972745, 55.879855569459934],\n",
       "                {&quot;bubblingMouseEvents&quot;: true, &quot;color&quot;: &quot;red&quot;, &quot;dashArray&quot;: null, &quot;dashOffset&quot;: null, &quot;fill&quot;: true, &quot;fillColor&quot;: &quot;red&quot;, &quot;fillOpacity&quot;: 0.2, &quot;fillRule&quot;: &quot;evenodd&quot;, &quot;lineCap&quot;: &quot;round&quot;, &quot;lineJoin&quot;: &quot;round&quot;, &quot;opacity&quot;: 1.0, &quot;radius&quot;: 3, &quot;stroke&quot;: true, &quot;weight&quot;: 3}\n",
       "            ).addTo(map_e47a3adb9f6102181a7bde97390a9b82);\n",
       "        \n",
       "    \n",
       "            var circle_marker_f155df85b2262390af701c3b3ac3ad87 = L.circleMarker(\n",
       "                [55.7550790462015, 37.81734895422567],\n",
       "                {&quot;bubblingMouseEvents&quot;: true, &quot;color&quot;: &quot;blue&quot;, &quot;dashArray&quot;: null, &quot;dashOffset&quot;: null, &quot;fill&quot;: true, &quot;fillColor&quot;: &quot;blue&quot;, &quot;fillOpacity&quot;: 0.2, &quot;fillRule&quot;: &quot;evenodd&quot;, &quot;lineCap&quot;: &quot;round&quot;, &quot;lineJoin&quot;: &quot;round&quot;, &quot;opacity&quot;: 1.0, &quot;radius&quot;: 3, &quot;stroke&quot;: true, &quot;weight&quot;: 3}\n",
       "            ).addTo(map_e47a3adb9f6102181a7bde97390a9b82);\n",
       "        \n",
       "    \n",
       "            var circle_marker_7b5d96b79450f56f78c8f4a3bac67e80 = L.circleMarker(\n",
       "                [55.57603409314089, 37.800635478932335],\n",
       "                {&quot;bubblingMouseEvents&quot;: true, &quot;color&quot;: &quot;blue&quot;, &quot;dashArray&quot;: null, &quot;dashOffset&quot;: null, &quot;fill&quot;: true, &quot;fillColor&quot;: &quot;blue&quot;, &quot;fillOpacity&quot;: 0.2, &quot;fillRule&quot;: &quot;evenodd&quot;, &quot;lineCap&quot;: &quot;round&quot;, &quot;lineJoin&quot;: &quot;round&quot;, &quot;opacity&quot;: 1.0, &quot;radius&quot;: 3, &quot;stroke&quot;: true, &quot;weight&quot;: 3}\n",
       "            ).addTo(map_e47a3adb9f6102181a7bde97390a9b82);\n",
       "        \n",
       "    \n",
       "            var circle_marker_58276845f5bdb871e20db571aaf17d50 = L.circleMarker(\n",
       "                [53.2196604998626, 45.165492147136696],\n",
       "                {&quot;bubblingMouseEvents&quot;: true, &quot;color&quot;: &quot;red&quot;, &quot;dashArray&quot;: null, &quot;dashOffset&quot;: null, &quot;fill&quot;: true, &quot;fillColor&quot;: &quot;red&quot;, &quot;fillOpacity&quot;: 0.2, &quot;fillRule&quot;: &quot;evenodd&quot;, &quot;lineCap&quot;: &quot;round&quot;, &quot;lineJoin&quot;: &quot;round&quot;, &quot;opacity&quot;: 1.0, &quot;radius&quot;: 3, &quot;stroke&quot;: true, &quot;weight&quot;: 3}\n",
       "            ).addTo(map_e47a3adb9f6102181a7bde97390a9b82);\n",
       "        \n",
       "    \n",
       "            var circle_marker_4818ec97d05af6e3acbe19351cd286de = L.circleMarker(\n",
       "                [53.41879503576831, 34.373753792008905],\n",
       "                {&quot;bubblingMouseEvents&quot;: true, &quot;color&quot;: &quot;red&quot;, &quot;dashArray&quot;: null, &quot;dashOffset&quot;: null, &quot;fill&quot;: true, &quot;fillColor&quot;: &quot;red&quot;, &quot;fillOpacity&quot;: 0.2, &quot;fillRule&quot;: &quot;evenodd&quot;, &quot;lineCap&quot;: &quot;round&quot;, &quot;lineJoin&quot;: &quot;round&quot;, &quot;opacity&quot;: 1.0, &quot;radius&quot;: 3, &quot;stroke&quot;: true, &quot;weight&quot;: 3}\n",
       "            ).addTo(map_e47a3adb9f6102181a7bde97390a9b82);\n",
       "        \n",
       "    \n",
       "            var circle_marker_061d4828a02a403fa09771e9925319b4 = L.circleMarker(\n",
       "                [52.24741381809027, 104.28359844594804],\n",
       "                {&quot;bubblingMouseEvents&quot;: true, &quot;color&quot;: &quot;blue&quot;, &quot;dashArray&quot;: null, &quot;dashOffset&quot;: null, &quot;fill&quot;: true, &quot;fillColor&quot;: &quot;blue&quot;, &quot;fillOpacity&quot;: 0.2, &quot;fillRule&quot;: &quot;evenodd&quot;, &quot;lineCap&quot;: &quot;round&quot;, &quot;lineJoin&quot;: &quot;round&quot;, &quot;opacity&quot;: 1.0, &quot;radius&quot;: 3, &quot;stroke&quot;: true, &quot;weight&quot;: 3}\n",
       "            ).addTo(map_e47a3adb9f6102181a7bde97390a9b82);\n",
       "        \n",
       "    \n",
       "            var circle_marker_cf07450324c9860bed29f25d67c0f66b = L.circleMarker(\n",
       "                [55.715918663873374, 52.48778288780175],\n",
       "                {&quot;bubblingMouseEvents&quot;: true, &quot;color&quot;: &quot;red&quot;, &quot;dashArray&quot;: null, &quot;dashOffset&quot;: null, &quot;fill&quot;: true, &quot;fillColor&quot;: &quot;red&quot;, &quot;fillOpacity&quot;: 0.2, &quot;fillRule&quot;: &quot;evenodd&quot;, &quot;lineCap&quot;: &quot;round&quot;, &quot;lineJoin&quot;: &quot;round&quot;, &quot;opacity&quot;: 1.0, &quot;radius&quot;: 3, &quot;stroke&quot;: true, &quot;weight&quot;: 3}\n",
       "            ).addTo(map_e47a3adb9f6102181a7bde97390a9b82);\n",
       "        \n",
       "    \n",
       "            var circle_marker_788c9ff27de686271cb66f5906671bd6 = L.circleMarker(\n",
       "                [55.98934481557326, 48.914575440064596],\n",
       "                {&quot;bubblingMouseEvents&quot;: true, &quot;color&quot;: &quot;blue&quot;, &quot;dashArray&quot;: null, &quot;dashOffset&quot;: null, &quot;fill&quot;: true, &quot;fillColor&quot;: &quot;blue&quot;, &quot;fillOpacity&quot;: 0.2, &quot;fillRule&quot;: &quot;evenodd&quot;, &quot;lineCap&quot;: &quot;round&quot;, &quot;lineJoin&quot;: &quot;round&quot;, &quot;opacity&quot;: 1.0, &quot;radius&quot;: 3, &quot;stroke&quot;: true, &quot;weight&quot;: 3}\n",
       "            ).addTo(map_e47a3adb9f6102181a7bde97390a9b82);\n",
       "        \n",
       "    \n",
       "            var circle_marker_71b82ab6c19e38ec4e63eed33318fde2 = L.circleMarker(\n",
       "                [55.02314143953173, 61.590579627628884],\n",
       "                {&quot;bubblingMouseEvents&quot;: true, &quot;color&quot;: &quot;blue&quot;, &quot;dashArray&quot;: null, &quot;dashOffset&quot;: null, &quot;fill&quot;: true, &quot;fillColor&quot;: &quot;blue&quot;, &quot;fillOpacity&quot;: 0.2, &quot;fillRule&quot;: &quot;evenodd&quot;, &quot;lineCap&quot;: &quot;round&quot;, &quot;lineJoin&quot;: &quot;round&quot;, &quot;opacity&quot;: 1.0, &quot;radius&quot;: 3, &quot;stroke&quot;: true, &quot;weight&quot;: 3}\n",
       "            ).addTo(map_e47a3adb9f6102181a7bde97390a9b82);\n",
       "        \n",
       "    \n",
       "            var circle_marker_e27113074b0d9b1c7a1eb7b0315c8977 = L.circleMarker(\n",
       "                [53.128076393343186, 50.12458443735655],\n",
       "                {&quot;bubblingMouseEvents&quot;: true, &quot;color&quot;: &quot;blue&quot;, &quot;dashArray&quot;: null, &quot;dashOffset&quot;: null, &quot;fill&quot;: true, &quot;fillColor&quot;: &quot;blue&quot;, &quot;fillOpacity&quot;: 0.2, &quot;fillRule&quot;: &quot;evenodd&quot;, &quot;lineCap&quot;: &quot;round&quot;, &quot;lineJoin&quot;: &quot;round&quot;, &quot;opacity&quot;: 1.0, &quot;radius&quot;: 3, &quot;stroke&quot;: true, &quot;weight&quot;: 3}\n",
       "            ).addTo(map_e47a3adb9f6102181a7bde97390a9b82);\n",
       "        \n",
       "    \n",
       "            var circle_marker_b9160caa3c9bdc27274a8a1276c21ae2 = L.circleMarker(\n",
       "                [55.658149280745235, 52.282078960270525],\n",
       "                {&quot;bubblingMouseEvents&quot;: true, &quot;color&quot;: &quot;blue&quot;, &quot;dashArray&quot;: null, &quot;dashOffset&quot;: null, &quot;fill&quot;: true, &quot;fillColor&quot;: &quot;blue&quot;, &quot;fillOpacity&quot;: 0.2, &quot;fillRule&quot;: &quot;evenodd&quot;, &quot;lineCap&quot;: &quot;round&quot;, &quot;lineJoin&quot;: &quot;round&quot;, &quot;opacity&quot;: 1.0, &quot;radius&quot;: 3, &quot;stroke&quot;: true, &quot;weight&quot;: 3}\n",
       "            ).addTo(map_e47a3adb9f6102181a7bde97390a9b82);\n",
       "        \n",
       "    \n",
       "            var circle_marker_d8bad5a1e6aa1b95eb313ad83eef0ebb = L.circleMarker(\n",
       "                [57.79380571502898, 60.10985090741464],\n",
       "                {&quot;bubblingMouseEvents&quot;: true, &quot;color&quot;: &quot;blue&quot;, &quot;dashArray&quot;: null, &quot;dashOffset&quot;: null, &quot;fill&quot;: true, &quot;fillColor&quot;: &quot;blue&quot;, &quot;fillOpacity&quot;: 0.2, &quot;fillRule&quot;: &quot;evenodd&quot;, &quot;lineCap&quot;: &quot;round&quot;, &quot;lineJoin&quot;: &quot;round&quot;, &quot;opacity&quot;: 1.0, &quot;radius&quot;: 3, &quot;stroke&quot;: true, &quot;weight&quot;: 3}\n",
       "            ).addTo(map_e47a3adb9f6102181a7bde97390a9b82);\n",
       "        \n",
       "    \n",
       "            var circle_marker_35c5f08ea5a908d22a699f8038a15ffb = L.circleMarker(\n",
       "                [43.39088782205984, 45.66703917857813],\n",
       "                {&quot;bubblingMouseEvents&quot;: true, &quot;color&quot;: &quot;blue&quot;, &quot;dashArray&quot;: null, &quot;dashOffset&quot;: null, &quot;fill&quot;: true, &quot;fillColor&quot;: &quot;blue&quot;, &quot;fillOpacity&quot;: 0.2, &quot;fillRule&quot;: &quot;evenodd&quot;, &quot;lineCap&quot;: &quot;round&quot;, &quot;lineJoin&quot;: &quot;round&quot;, &quot;opacity&quot;: 1.0, &quot;radius&quot;: 3, &quot;stroke&quot;: true, &quot;weight&quot;: 3}\n",
       "            ).addTo(map_e47a3adb9f6102181a7bde97390a9b82);\n",
       "        \n",
       "    \n",
       "            var circle_marker_0a2942c8b649b800466690b580a174ff = L.circleMarker(\n",
       "                [48.71967866269277, 44.591900605382015],\n",
       "                {&quot;bubblingMouseEvents&quot;: true, &quot;color&quot;: &quot;red&quot;, &quot;dashArray&quot;: null, &quot;dashOffset&quot;: null, &quot;fill&quot;: true, &quot;fillColor&quot;: &quot;red&quot;, &quot;fillOpacity&quot;: 0.2, &quot;fillRule&quot;: &quot;evenodd&quot;, &quot;lineCap&quot;: &quot;round&quot;, &quot;lineJoin&quot;: &quot;round&quot;, &quot;opacity&quot;: 1.0, &quot;radius&quot;: 3, &quot;stroke&quot;: true, &quot;weight&quot;: 3}\n",
       "            ).addTo(map_e47a3adb9f6102181a7bde97390a9b82);\n",
       "        \n",
       "    \n",
       "            var circle_marker_b1f8c77e16f6732b44961275fa69423e = L.circleMarker(\n",
       "                [54.856369713675974, 82.90805720665422],\n",
       "                {&quot;bubblingMouseEvents&quot;: true, &quot;color&quot;: &quot;blue&quot;, &quot;dashArray&quot;: null, &quot;dashOffset&quot;: null, &quot;fill&quot;: true, &quot;fillColor&quot;: &quot;blue&quot;, &quot;fillOpacity&quot;: 0.2, &quot;fillRule&quot;: &quot;evenodd&quot;, &quot;lineCap&quot;: &quot;round&quot;, &quot;lineJoin&quot;: &quot;round&quot;, &quot;opacity&quot;: 1.0, &quot;radius&quot;: 3, &quot;stroke&quot;: true, &quot;weight&quot;: 3}\n",
       "            ).addTo(map_e47a3adb9f6102181a7bde97390a9b82);\n",
       "        \n",
       "    \n",
       "            var circle_marker_5ff0c48f52a91e574f0d46882b5abda7 = L.circleMarker(\n",
       "                [56.145432232625495, 40.380908239773035],\n",
       "                {&quot;bubblingMouseEvents&quot;: true, &quot;color&quot;: &quot;blue&quot;, &quot;dashArray&quot;: null, &quot;dashOffset&quot;: null, &quot;fill&quot;: true, &quot;fillColor&quot;: &quot;blue&quot;, &quot;fillOpacity&quot;: 0.2, &quot;fillRule&quot;: &quot;evenodd&quot;, &quot;lineCap&quot;: &quot;round&quot;, &quot;lineJoin&quot;: &quot;round&quot;, &quot;opacity&quot;: 1.0, &quot;radius&quot;: 3, &quot;stroke&quot;: true, &quot;weight&quot;: 3}\n",
       "            ).addTo(map_e47a3adb9f6102181a7bde97390a9b82);\n",
       "        \n",
       "    \n",
       "            var circle_marker_197fe7ab56214bdc0f7e3e61611544ad = L.circleMarker(\n",
       "                [55.84142924998433, 37.58366798112459],\n",
       "                {&quot;bubblingMouseEvents&quot;: true, &quot;color&quot;: &quot;red&quot;, &quot;dashArray&quot;: null, &quot;dashOffset&quot;: null, &quot;fill&quot;: true, &quot;fillColor&quot;: &quot;red&quot;, &quot;fillOpacity&quot;: 0.2, &quot;fillRule&quot;: &quot;evenodd&quot;, &quot;lineCap&quot;: &quot;round&quot;, &quot;lineJoin&quot;: &quot;round&quot;, &quot;opacity&quot;: 1.0, &quot;radius&quot;: 3, &quot;stroke&quot;: true, &quot;weight&quot;: 3}\n",
       "            ).addTo(map_e47a3adb9f6102181a7bde97390a9b82);\n",
       "        \n",
       "    \n",
       "            var circle_marker_f6d7fc519b722131529db89a173852ca = L.circleMarker(\n",
       "                [59.96991904539475, 30.432633907956077],\n",
       "                {&quot;bubblingMouseEvents&quot;: true, &quot;color&quot;: &quot;red&quot;, &quot;dashArray&quot;: null, &quot;dashOffset&quot;: null, &quot;fill&quot;: true, &quot;fillColor&quot;: &quot;red&quot;, &quot;fillOpacity&quot;: 0.2, &quot;fillRule&quot;: &quot;evenodd&quot;, &quot;lineCap&quot;: &quot;round&quot;, &quot;lineJoin&quot;: &quot;round&quot;, &quot;opacity&quot;: 1.0, &quot;radius&quot;: 3, &quot;stroke&quot;: true, &quot;weight&quot;: 3}\n",
       "            ).addTo(map_e47a3adb9f6102181a7bde97390a9b82);\n",
       "        \n",
       "    \n",
       "            var circle_marker_1d9405afc2a033e0647429dfefefef79 = L.circleMarker(\n",
       "                [53.52322536558803, 49.55478747329695],\n",
       "                {&quot;bubblingMouseEvents&quot;: true, &quot;color&quot;: &quot;blue&quot;, &quot;dashArray&quot;: null, &quot;dashOffset&quot;: null, &quot;fill&quot;: true, &quot;fillColor&quot;: &quot;blue&quot;, &quot;fillOpacity&quot;: 0.2, &quot;fillRule&quot;: &quot;evenodd&quot;, &quot;lineCap&quot;: &quot;round&quot;, &quot;lineJoin&quot;: &quot;round&quot;, &quot;opacity&quot;: 1.0, &quot;radius&quot;: 3, &quot;stroke&quot;: true, &quot;weight&quot;: 3}\n",
       "            ).addTo(map_e47a3adb9f6102181a7bde97390a9b82);\n",
       "        \n",
       "    \n",
       "            var circle_marker_3de84cb0bf46dfa015198bee3fb99e71 = L.circleMarker(\n",
       "                [55.15460181909498, 83.00532975521644],\n",
       "                {&quot;bubblingMouseEvents&quot;: true, &quot;color&quot;: &quot;blue&quot;, &quot;dashArray&quot;: null, &quot;dashOffset&quot;: null, &quot;fill&quot;: true, &quot;fillColor&quot;: &quot;blue&quot;, &quot;fillOpacity&quot;: 0.2, &quot;fillRule&quot;: &quot;evenodd&quot;, &quot;lineCap&quot;: &quot;round&quot;, &quot;lineJoin&quot;: &quot;round&quot;, &quot;opacity&quot;: 1.0, &quot;radius&quot;: 3, &quot;stroke&quot;: true, &quot;weight&quot;: 3}\n",
       "            ).addTo(map_e47a3adb9f6102181a7bde97390a9b82);\n",
       "        \n",
       "    \n",
       "            var circle_marker_9aecc83d6eadab98fb677b3742112777 = L.circleMarker(\n",
       "                [44.64133100114623, 37.61764475651829],\n",
       "                {&quot;bubblingMouseEvents&quot;: true, &quot;color&quot;: &quot;blue&quot;, &quot;dashArray&quot;: null, &quot;dashOffset&quot;: null, &quot;fill&quot;: true, &quot;fillColor&quot;: &quot;blue&quot;, &quot;fillOpacity&quot;: 0.2, &quot;fillRule&quot;: &quot;evenodd&quot;, &quot;lineCap&quot;: &quot;round&quot;, &quot;lineJoin&quot;: &quot;round&quot;, &quot;opacity&quot;: 1.0, &quot;radius&quot;: 3, &quot;stroke&quot;: true, &quot;weight&quot;: 3}\n",
       "            ).addTo(map_e47a3adb9f6102181a7bde97390a9b82);\n",
       "        \n",
       "    \n",
       "            var circle_marker_a69993b45525da76042da17aa12e1d94 = L.circleMarker(\n",
       "                [43.70240772159502, 39.774514823349826],\n",
       "                {&quot;bubblingMouseEvents&quot;: true, &quot;color&quot;: &quot;blue&quot;, &quot;dashArray&quot;: null, &quot;dashOffset&quot;: null, &quot;fill&quot;: true, &quot;fillColor&quot;: &quot;blue&quot;, &quot;fillOpacity&quot;: 0.2, &quot;fillRule&quot;: &quot;evenodd&quot;, &quot;lineCap&quot;: &quot;round&quot;, &quot;lineJoin&quot;: &quot;round&quot;, &quot;opacity&quot;: 1.0, &quot;radius&quot;: 3, &quot;stroke&quot;: true, &quot;weight&quot;: 3}\n",
       "            ).addTo(map_e47a3adb9f6102181a7bde97390a9b82);\n",
       "        \n",
       "    \n",
       "            var circle_marker_b6d4c3292b0ed229d580b71a0de67aae = L.circleMarker(\n",
       "                [54.6664519067344, 20.5776667347579],\n",
       "                {&quot;bubblingMouseEvents&quot;: true, &quot;color&quot;: &quot;blue&quot;, &quot;dashArray&quot;: null, &quot;dashOffset&quot;: null, &quot;fill&quot;: true, &quot;fillColor&quot;: &quot;blue&quot;, &quot;fillOpacity&quot;: 0.2, &quot;fillRule&quot;: &quot;evenodd&quot;, &quot;lineCap&quot;: &quot;round&quot;, &quot;lineJoin&quot;: &quot;round&quot;, &quot;opacity&quot;: 1.0, &quot;radius&quot;: 3, &quot;stroke&quot;: true, &quot;weight&quot;: 3}\n",
       "            ).addTo(map_e47a3adb9f6102181a7bde97390a9b82);\n",
       "        \n",
       "    \n",
       "            var circle_marker_c18d05713b7a9069f5755841c5feca72 = L.circleMarker(\n",
       "                [55.91233202439172, 37.537262459288506],\n",
       "                {&quot;bubblingMouseEvents&quot;: true, &quot;color&quot;: &quot;blue&quot;, &quot;dashArray&quot;: null, &quot;dashOffset&quot;: null, &quot;fill&quot;: true, &quot;fillColor&quot;: &quot;blue&quot;, &quot;fillOpacity&quot;: 0.2, &quot;fillRule&quot;: &quot;evenodd&quot;, &quot;lineCap&quot;: &quot;round&quot;, &quot;lineJoin&quot;: &quot;round&quot;, &quot;opacity&quot;: 1.0, &quot;radius&quot;: 3, &quot;stroke&quot;: true, &quot;weight&quot;: 3}\n",
       "            ).addTo(map_e47a3adb9f6102181a7bde97390a9b82);\n",
       "        \n",
       "    \n",
       "            var circle_marker_038b1a5def3743627ae2a43888569f50 = L.circleMarker(\n",
       "                [46.23227418008262, 48.00597967521191],\n",
       "                {&quot;bubblingMouseEvents&quot;: true, &quot;color&quot;: &quot;blue&quot;, &quot;dashArray&quot;: null, &quot;dashOffset&quot;: null, &quot;fill&quot;: true, &quot;fillColor&quot;: &quot;blue&quot;, &quot;fillOpacity&quot;: 0.2, &quot;fillRule&quot;: &quot;evenodd&quot;, &quot;lineCap&quot;: &quot;round&quot;, &quot;lineJoin&quot;: &quot;round&quot;, &quot;opacity&quot;: 1.0, &quot;radius&quot;: 3, &quot;stroke&quot;: true, &quot;weight&quot;: 3}\n",
       "            ).addTo(map_e47a3adb9f6102181a7bde97390a9b82);\n",
       "        \n",
       "    \n",
       "            var circle_marker_e98e7d25e7133be8dd3c60772cc7f1e9 = L.circleMarker(\n",
       "                [55.63102008990867, 37.581390288342774],\n",
       "                {&quot;bubblingMouseEvents&quot;: true, &quot;color&quot;: &quot;red&quot;, &quot;dashArray&quot;: null, &quot;dashOffset&quot;: null, &quot;fill&quot;: true, &quot;fillColor&quot;: &quot;red&quot;, &quot;fillOpacity&quot;: 0.2, &quot;fillRule&quot;: &quot;evenodd&quot;, &quot;lineCap&quot;: &quot;round&quot;, &quot;lineJoin&quot;: &quot;round&quot;, &quot;opacity&quot;: 1.0, &quot;radius&quot;: 3, &quot;stroke&quot;: true, &quot;weight&quot;: 3}\n",
       "            ).addTo(map_e47a3adb9f6102181a7bde97390a9b82);\n",
       "        \n",
       "    \n",
       "            var circle_marker_5857819f4da1d8f76b0cf86aa189c6be = L.circleMarker(\n",
       "                [58.074569587140374, 56.10075095564416],\n",
       "                {&quot;bubblingMouseEvents&quot;: true, &quot;color&quot;: &quot;blue&quot;, &quot;dashArray&quot;: null, &quot;dashOffset&quot;: null, &quot;fill&quot;: true, &quot;fillColor&quot;: &quot;blue&quot;, &quot;fillOpacity&quot;: 0.2, &quot;fillRule&quot;: &quot;evenodd&quot;, &quot;lineCap&quot;: &quot;round&quot;, &quot;lineJoin&quot;: &quot;round&quot;, &quot;opacity&quot;: 1.0, &quot;radius&quot;: 3, &quot;stroke&quot;: true, &quot;weight&quot;: 3}\n",
       "            ).addTo(map_e47a3adb9f6102181a7bde97390a9b82);\n",
       "        \n",
       "    \n",
       "            var circle_marker_2ee343cc0ea2ad52d0a05f5b8e012fe5 = L.circleMarker(\n",
       "                [51.87176952559965, 55.23685117003797],\n",
       "                {&quot;bubblingMouseEvents&quot;: true, &quot;color&quot;: &quot;blue&quot;, &quot;dashArray&quot;: null, &quot;dashOffset&quot;: null, &quot;fill&quot;: true, &quot;fillColor&quot;: &quot;blue&quot;, &quot;fillOpacity&quot;: 0.2, &quot;fillRule&quot;: &quot;evenodd&quot;, &quot;lineCap&quot;: &quot;round&quot;, &quot;lineJoin&quot;: &quot;round&quot;, &quot;opacity&quot;: 1.0, &quot;radius&quot;: 3, &quot;stroke&quot;: true, &quot;weight&quot;: 3}\n",
       "            ).addTo(map_e47a3adb9f6102181a7bde97390a9b82);\n",
       "        \n",
       "    \n",
       "            var circle_marker_29c86a5347b8cca8cead06b49c6517fd = L.circleMarker(\n",
       "                [55.90863289202365, 49.03215299130766],\n",
       "                {&quot;bubblingMouseEvents&quot;: true, &quot;color&quot;: &quot;blue&quot;, &quot;dashArray&quot;: null, &quot;dashOffset&quot;: null, &quot;fill&quot;: true, &quot;fillColor&quot;: &quot;blue&quot;, &quot;fillOpacity&quot;: 0.2, &quot;fillRule&quot;: &quot;evenodd&quot;, &quot;lineCap&quot;: &quot;round&quot;, &quot;lineJoin&quot;: &quot;round&quot;, &quot;opacity&quot;: 1.0, &quot;radius&quot;: 3, &quot;stroke&quot;: true, &quot;weight&quot;: 3}\n",
       "            ).addTo(map_e47a3adb9f6102181a7bde97390a9b82);\n",
       "        \n",
       "    \n",
       "            var circle_marker_a2281da4393776adf9e988ebc536fb4f = L.circleMarker(\n",
       "                [55.21052225249925, 82.98136047662652],\n",
       "                {&quot;bubblingMouseEvents&quot;: true, &quot;color&quot;: &quot;blue&quot;, &quot;dashArray&quot;: null, &quot;dashOffset&quot;: null, &quot;fill&quot;: true, &quot;fillColor&quot;: &quot;blue&quot;, &quot;fillOpacity&quot;: 0.2, &quot;fillRule&quot;: &quot;evenodd&quot;, &quot;lineCap&quot;: &quot;round&quot;, &quot;lineJoin&quot;: &quot;round&quot;, &quot;opacity&quot;: 1.0, &quot;radius&quot;: 3, &quot;stroke&quot;: true, &quot;weight&quot;: 3}\n",
       "            ).addTo(map_e47a3adb9f6102181a7bde97390a9b82);\n",
       "        \n",
       "    \n",
       "            var circle_marker_1666f6fc0dcd3fc42d1dccf33b8ec54a = L.circleMarker(\n",
       "                [59.891970262212006, 30.172032594807824],\n",
       "                {&quot;bubblingMouseEvents&quot;: true, &quot;color&quot;: &quot;blue&quot;, &quot;dashArray&quot;: null, &quot;dashOffset&quot;: null, &quot;fill&quot;: true, &quot;fillColor&quot;: &quot;blue&quot;, &quot;fillOpacity&quot;: 0.2, &quot;fillRule&quot;: &quot;evenodd&quot;, &quot;lineCap&quot;: &quot;round&quot;, &quot;lineJoin&quot;: &quot;round&quot;, &quot;opacity&quot;: 1.0, &quot;radius&quot;: 3, &quot;stroke&quot;: true, &quot;weight&quot;: 3}\n",
       "            ).addTo(map_e47a3adb9f6102181a7bde97390a9b82);\n",
       "        \n",
       "    \n",
       "            var circle_marker_e3c14d29323fe3e84ced02290f237d6d = L.circleMarker(\n",
       "                [56.851849368630376, 35.76731348855285],\n",
       "                {&quot;bubblingMouseEvents&quot;: true, &quot;color&quot;: &quot;red&quot;, &quot;dashArray&quot;: null, &quot;dashOffset&quot;: null, &quot;fill&quot;: true, &quot;fillColor&quot;: &quot;red&quot;, &quot;fillOpacity&quot;: 0.2, &quot;fillRule&quot;: &quot;evenodd&quot;, &quot;lineCap&quot;: &quot;round&quot;, &quot;lineJoin&quot;: &quot;round&quot;, &quot;opacity&quot;: 1.0, &quot;radius&quot;: 3, &quot;stroke&quot;: true, &quot;weight&quot;: 3}\n",
       "            ).addTo(map_e47a3adb9f6102181a7bde97390a9b82);\n",
       "        \n",
       "    \n",
       "            var circle_marker_ea33a0d4202c542e7d5469dcc7276f3b = L.circleMarker(\n",
       "                [54.83904486846014, 56.12770525908021],\n",
       "                {&quot;bubblingMouseEvents&quot;: true, &quot;color&quot;: &quot;blue&quot;, &quot;dashArray&quot;: null, &quot;dashOffset&quot;: null, &quot;fill&quot;: true, &quot;fillColor&quot;: &quot;blue&quot;, &quot;fillOpacity&quot;: 0.2, &quot;fillRule&quot;: &quot;evenodd&quot;, &quot;lineCap&quot;: &quot;round&quot;, &quot;lineJoin&quot;: &quot;round&quot;, &quot;opacity&quot;: 1.0, &quot;radius&quot;: 3, &quot;stroke&quot;: true, &quot;weight&quot;: 3}\n",
       "            ).addTo(map_e47a3adb9f6102181a7bde97390a9b82);\n",
       "        \n",
       "    \n",
       "            var circle_marker_8a61fba44c0e73b57eb910155d0f4456 = L.circleMarker(\n",
       "                [51.67313166893721, 107.46086029840548],\n",
       "                {&quot;bubblingMouseEvents&quot;: true, &quot;color&quot;: &quot;blue&quot;, &quot;dashArray&quot;: null, &quot;dashOffset&quot;: null, &quot;fill&quot;: true, &quot;fillColor&quot;: &quot;blue&quot;, &quot;fillOpacity&quot;: 0.2, &quot;fillRule&quot;: &quot;evenodd&quot;, &quot;lineCap&quot;: &quot;round&quot;, &quot;lineJoin&quot;: &quot;round&quot;, &quot;opacity&quot;: 1.0, &quot;radius&quot;: 3, &quot;stroke&quot;: true, &quot;weight&quot;: 3}\n",
       "            ).addTo(map_e47a3adb9f6102181a7bde97390a9b82);\n",
       "        \n",
       "    \n",
       "            var circle_marker_3fc08beed209e5e47c84fdf5f0ba402e = L.circleMarker(\n",
       "                [55.53376767238274, 37.48981289702035],\n",
       "                {&quot;bubblingMouseEvents&quot;: true, &quot;color&quot;: &quot;blue&quot;, &quot;dashArray&quot;: null, &quot;dashOffset&quot;: null, &quot;fill&quot;: true, &quot;fillColor&quot;: &quot;blue&quot;, &quot;fillOpacity&quot;: 0.2, &quot;fillRule&quot;: &quot;evenodd&quot;, &quot;lineCap&quot;: &quot;round&quot;, &quot;lineJoin&quot;: &quot;round&quot;, &quot;opacity&quot;: 1.0, &quot;radius&quot;: 3, &quot;stroke&quot;: true, &quot;weight&quot;: 3}\n",
       "            ).addTo(map_e47a3adb9f6102181a7bde97390a9b82);\n",
       "        \n",
       "    \n",
       "            var circle_marker_f774fa81d17114e7a2cfe5dd7694535b = L.circleMarker(\n",
       "                [55.9292483833323, 37.71410708696851],\n",
       "                {&quot;bubblingMouseEvents&quot;: true, &quot;color&quot;: &quot;blue&quot;, &quot;dashArray&quot;: null, &quot;dashOffset&quot;: null, &quot;fill&quot;: true, &quot;fillColor&quot;: &quot;blue&quot;, &quot;fillOpacity&quot;: 0.2, &quot;fillRule&quot;: &quot;evenodd&quot;, &quot;lineCap&quot;: &quot;round&quot;, &quot;lineJoin&quot;: &quot;round&quot;, &quot;opacity&quot;: 1.0, &quot;radius&quot;: 3, &quot;stroke&quot;: true, &quot;weight&quot;: 3}\n",
       "            ).addTo(map_e47a3adb9f6102181a7bde97390a9b82);\n",
       "        \n",
       "    \n",
       "            var circle_marker_8343e0896eb7f6e7e516a5eda6aeef57 = L.circleMarker(\n",
       "                [55.82323906036083, 37.78851740253145],\n",
       "                {&quot;bubblingMouseEvents&quot;: true, &quot;color&quot;: &quot;blue&quot;, &quot;dashArray&quot;: null, &quot;dashOffset&quot;: null, &quot;fill&quot;: true, &quot;fillColor&quot;: &quot;blue&quot;, &quot;fillOpacity&quot;: 0.2, &quot;fillRule&quot;: &quot;evenodd&quot;, &quot;lineCap&quot;: &quot;round&quot;, &quot;lineJoin&quot;: &quot;round&quot;, &quot;opacity&quot;: 1.0, &quot;radius&quot;: 3, &quot;stroke&quot;: true, &quot;weight&quot;: 3}\n",
       "            ).addTo(map_e47a3adb9f6102181a7bde97390a9b82);\n",
       "        \n",
       "    \n",
       "            var circle_marker_8abe75160280ddb6d21e182a7180b9e6 = L.circleMarker(\n",
       "                [55.83919475115935, 37.60050588389331],\n",
       "                {&quot;bubblingMouseEvents&quot;: true, &quot;color&quot;: &quot;red&quot;, &quot;dashArray&quot;: null, &quot;dashOffset&quot;: null, &quot;fill&quot;: true, &quot;fillColor&quot;: &quot;red&quot;, &quot;fillOpacity&quot;: 0.2, &quot;fillRule&quot;: &quot;evenodd&quot;, &quot;lineCap&quot;: &quot;round&quot;, &quot;lineJoin&quot;: &quot;round&quot;, &quot;opacity&quot;: 1.0, &quot;radius&quot;: 3, &quot;stroke&quot;: true, &quot;weight&quot;: 3}\n",
       "            ).addTo(map_e47a3adb9f6102181a7bde97390a9b82);\n",
       "        \n",
       "    \n",
       "            var circle_marker_be2a49a98d7fdb323a581ef2c6ce7f5c = L.circleMarker(\n",
       "                [55.98708158856501, 49.047916507463455],\n",
       "                {&quot;bubblingMouseEvents&quot;: true, &quot;color&quot;: &quot;blue&quot;, &quot;dashArray&quot;: null, &quot;dashOffset&quot;: null, &quot;fill&quot;: true, &quot;fillColor&quot;: &quot;blue&quot;, &quot;fillOpacity&quot;: 0.2, &quot;fillRule&quot;: &quot;evenodd&quot;, &quot;lineCap&quot;: &quot;round&quot;, &quot;lineJoin&quot;: &quot;round&quot;, &quot;opacity&quot;: 1.0, &quot;radius&quot;: 3, &quot;stroke&quot;: true, &quot;weight&quot;: 3}\n",
       "            ).addTo(map_e47a3adb9f6102181a7bde97390a9b82);\n",
       "        \n",
       "    \n",
       "            var circle_marker_7ecd68dd615c2f6a1c78bcaf7a5d4f42 = L.circleMarker(\n",
       "                [56.963102508992826, 60.489637095391075],\n",
       "                {&quot;bubblingMouseEvents&quot;: true, &quot;color&quot;: &quot;blue&quot;, &quot;dashArray&quot;: null, &quot;dashOffset&quot;: null, &quot;fill&quot;: true, &quot;fillColor&quot;: &quot;blue&quot;, &quot;fillOpacity&quot;: 0.2, &quot;fillRule&quot;: &quot;evenodd&quot;, &quot;lineCap&quot;: &quot;round&quot;, &quot;lineJoin&quot;: &quot;round&quot;, &quot;opacity&quot;: 1.0, &quot;radius&quot;: 3, &quot;stroke&quot;: true, &quot;weight&quot;: 3}\n",
       "            ).addTo(map_e47a3adb9f6102181a7bde97390a9b82);\n",
       "        \n",
       "    \n",
       "            var circle_marker_7c36aa3434738331bbd151c82313e80a = L.circleMarker(\n",
       "                [52.95682599304277, 35.99780303564158],\n",
       "                {&quot;bubblingMouseEvents&quot;: true, &quot;color&quot;: &quot;blue&quot;, &quot;dashArray&quot;: null, &quot;dashOffset&quot;: null, &quot;fill&quot;: true, &quot;fillColor&quot;: &quot;blue&quot;, &quot;fillOpacity&quot;: 0.2, &quot;fillRule&quot;: &quot;evenodd&quot;, &quot;lineCap&quot;: &quot;round&quot;, &quot;lineJoin&quot;: &quot;round&quot;, &quot;opacity&quot;: 1.0, &quot;radius&quot;: 3, &quot;stroke&quot;: true, &quot;weight&quot;: 3}\n",
       "            ).addTo(map_e47a3adb9f6102181a7bde97390a9b82);\n",
       "        \n",
       "    \n",
       "            var circle_marker_c65d00e9f18734faa2bc26ff78a7d201 = L.circleMarker(\n",
       "                [55.62490915618055, 37.6837571176309],\n",
       "                {&quot;bubblingMouseEvents&quot;: true, &quot;color&quot;: &quot;red&quot;, &quot;dashArray&quot;: null, &quot;dashOffset&quot;: null, &quot;fill&quot;: true, &quot;fillColor&quot;: &quot;red&quot;, &quot;fillOpacity&quot;: 0.2, &quot;fillRule&quot;: &quot;evenodd&quot;, &quot;lineCap&quot;: &quot;round&quot;, &quot;lineJoin&quot;: &quot;round&quot;, &quot;opacity&quot;: 1.0, &quot;radius&quot;: 3, &quot;stroke&quot;: true, &quot;weight&quot;: 3}\n",
       "            ).addTo(map_e47a3adb9f6102181a7bde97390a9b82);\n",
       "        \n",
       "    \n",
       "            var circle_marker_0928560498e142ebf16a0c19c41eb03a = L.circleMarker(\n",
       "                [53.194874051479324, 50.01999220601035],\n",
       "                {&quot;bubblingMouseEvents&quot;: true, &quot;color&quot;: &quot;blue&quot;, &quot;dashArray&quot;: null, &quot;dashOffset&quot;: null, &quot;fill&quot;: true, &quot;fillColor&quot;: &quot;blue&quot;, &quot;fillOpacity&quot;: 0.2, &quot;fillRule&quot;: &quot;evenodd&quot;, &quot;lineCap&quot;: &quot;round&quot;, &quot;lineJoin&quot;: &quot;round&quot;, &quot;opacity&quot;: 1.0, &quot;radius&quot;: 3, &quot;stroke&quot;: true, &quot;weight&quot;: 3}\n",
       "            ).addTo(map_e47a3adb9f6102181a7bde97390a9b82);\n",
       "        \n",
       "    \n",
       "            var circle_marker_236c93349bda704feef098dc5626e908 = L.circleMarker(\n",
       "                [54.339403632998064, 48.26294471222594],\n",
       "                {&quot;bubblingMouseEvents&quot;: true, &quot;color&quot;: &quot;red&quot;, &quot;dashArray&quot;: null, &quot;dashOffset&quot;: null, &quot;fill&quot;: true, &quot;fillColor&quot;: &quot;red&quot;, &quot;fillOpacity&quot;: 0.2, &quot;fillRule&quot;: &quot;evenodd&quot;, &quot;lineCap&quot;: &quot;round&quot;, &quot;lineJoin&quot;: &quot;round&quot;, &quot;opacity&quot;: 1.0, &quot;radius&quot;: 3, &quot;stroke&quot;: true, &quot;weight&quot;: 3}\n",
       "            ).addTo(map_e47a3adb9f6102181a7bde97390a9b82);\n",
       "        \n",
       "    \n",
       "            var circle_marker_cea392b1d259ef9fae6d31903bfe3960 = L.circleMarker(\n",
       "                [55.679275809642455, 49.27884941453259],\n",
       "                {&quot;bubblingMouseEvents&quot;: true, &quot;color&quot;: &quot;blue&quot;, &quot;dashArray&quot;: null, &quot;dashOffset&quot;: null, &quot;fill&quot;: true, &quot;fillColor&quot;: &quot;blue&quot;, &quot;fillOpacity&quot;: 0.2, &quot;fillRule&quot;: &quot;evenodd&quot;, &quot;lineCap&quot;: &quot;round&quot;, &quot;lineJoin&quot;: &quot;round&quot;, &quot;opacity&quot;: 1.0, &quot;radius&quot;: 3, &quot;stroke&quot;: true, &quot;weight&quot;: 3}\n",
       "            ).addTo(map_e47a3adb9f6102181a7bde97390a9b82);\n",
       "        \n",
       "    \n",
       "            var circle_marker_489b03817e21782cd76a2738420ca6a8 = L.circleMarker(\n",
       "                [56.48612317130127, 43.91904371230896],\n",
       "                {&quot;bubblingMouseEvents&quot;: true, &quot;color&quot;: &quot;blue&quot;, &quot;dashArray&quot;: null, &quot;dashOffset&quot;: null, &quot;fill&quot;: true, &quot;fillColor&quot;: &quot;blue&quot;, &quot;fillOpacity&quot;: 0.2, &quot;fillRule&quot;: &quot;evenodd&quot;, &quot;lineCap&quot;: &quot;round&quot;, &quot;lineJoin&quot;: &quot;round&quot;, &quot;opacity&quot;: 1.0, &quot;radius&quot;: 3, &quot;stroke&quot;: true, &quot;weight&quot;: 3}\n",
       "            ).addTo(map_e47a3adb9f6102181a7bde97390a9b82);\n",
       "        \n",
       "    \n",
       "            var circle_marker_5b9735ce4108ea58f88cb8dca5b9d967 = L.circleMarker(\n",
       "                [55.739889387303506, 37.71827575006283],\n",
       "                {&quot;bubblingMouseEvents&quot;: true, &quot;color&quot;: &quot;blue&quot;, &quot;dashArray&quot;: null, &quot;dashOffset&quot;: null, &quot;fill&quot;: true, &quot;fillColor&quot;: &quot;blue&quot;, &quot;fillOpacity&quot;: 0.2, &quot;fillRule&quot;: &quot;evenodd&quot;, &quot;lineCap&quot;: &quot;round&quot;, &quot;lineJoin&quot;: &quot;round&quot;, &quot;opacity&quot;: 1.0, &quot;radius&quot;: 3, &quot;stroke&quot;: true, &quot;weight&quot;: 3}\n",
       "            ).addTo(map_e47a3adb9f6102181a7bde97390a9b82);\n",
       "        \n",
       "    \n",
       "            var circle_marker_000aa3058fb4765af7e381d253c2521c = L.circleMarker(\n",
       "                [52.49430440946097, 39.465675151661074],\n",
       "                {&quot;bubblingMouseEvents&quot;: true, &quot;color&quot;: &quot;blue&quot;, &quot;dashArray&quot;: null, &quot;dashOffset&quot;: null, &quot;fill&quot;: true, &quot;fillColor&quot;: &quot;blue&quot;, &quot;fillOpacity&quot;: 0.2, &quot;fillRule&quot;: &quot;evenodd&quot;, &quot;lineCap&quot;: &quot;round&quot;, &quot;lineJoin&quot;: &quot;round&quot;, &quot;opacity&quot;: 1.0, &quot;radius&quot;: 3, &quot;stroke&quot;: true, &quot;weight&quot;: 3}\n",
       "            ).addTo(map_e47a3adb9f6102181a7bde97390a9b82);\n",
       "        \n",
       "    \n",
       "            var circle_marker_bccc169d6d23673c006396e43fb54325 = L.circleMarker(\n",
       "                [55.85690559506348, 37.67748196199247],\n",
       "                {&quot;bubblingMouseEvents&quot;: true, &quot;color&quot;: &quot;blue&quot;, &quot;dashArray&quot;: null, &quot;dashOffset&quot;: null, &quot;fill&quot;: true, &quot;fillColor&quot;: &quot;blue&quot;, &quot;fillOpacity&quot;: 0.2, &quot;fillRule&quot;: &quot;evenodd&quot;, &quot;lineCap&quot;: &quot;round&quot;, &quot;lineJoin&quot;: &quot;round&quot;, &quot;opacity&quot;: 1.0, &quot;radius&quot;: 3, &quot;stroke&quot;: true, &quot;weight&quot;: 3}\n",
       "            ).addTo(map_e47a3adb9f6102181a7bde97390a9b82);\n",
       "        \n",
       "    \n",
       "            var circle_marker_7b49a3518bc77e40c6ad7843f73e8eba = L.circleMarker(\n",
       "                [57.84802834371928, 41.053091707874295],\n",
       "                {&quot;bubblingMouseEvents&quot;: true, &quot;color&quot;: &quot;blue&quot;, &quot;dashArray&quot;: null, &quot;dashOffset&quot;: null, &quot;fill&quot;: true, &quot;fillColor&quot;: &quot;blue&quot;, &quot;fillOpacity&quot;: 0.2, &quot;fillRule&quot;: &quot;evenodd&quot;, &quot;lineCap&quot;: &quot;round&quot;, &quot;lineJoin&quot;: &quot;round&quot;, &quot;opacity&quot;: 1.0, &quot;radius&quot;: 3, &quot;stroke&quot;: true, &quot;weight&quot;: 3}\n",
       "            ).addTo(map_e47a3adb9f6102181a7bde97390a9b82);\n",
       "        \n",
       "    \n",
       "            var circle_marker_6ec64c47d87a6f64a1fff8d18df04bff = L.circleMarker(\n",
       "                [55.70999289106295, 37.63770658777901],\n",
       "                {&quot;bubblingMouseEvents&quot;: true, &quot;color&quot;: &quot;blue&quot;, &quot;dashArray&quot;: null, &quot;dashOffset&quot;: null, &quot;fill&quot;: true, &quot;fillColor&quot;: &quot;blue&quot;, &quot;fillOpacity&quot;: 0.2, &quot;fillRule&quot;: &quot;evenodd&quot;, &quot;lineCap&quot;: &quot;round&quot;, &quot;lineJoin&quot;: &quot;round&quot;, &quot;opacity&quot;: 1.0, &quot;radius&quot;: 3, &quot;stroke&quot;: true, &quot;weight&quot;: 3}\n",
       "            ).addTo(map_e47a3adb9f6102181a7bde97390a9b82);\n",
       "        \n",
       "    \n",
       "            var circle_marker_8b7a9dd3df3886217253b98690fef2fb = L.circleMarker(\n",
       "                [55.828919276433815, 37.58849046245072],\n",
       "                {&quot;bubblingMouseEvents&quot;: true, &quot;color&quot;: &quot;blue&quot;, &quot;dashArray&quot;: null, &quot;dashOffset&quot;: null, &quot;fill&quot;: true, &quot;fillColor&quot;: &quot;blue&quot;, &quot;fillOpacity&quot;: 0.2, &quot;fillRule&quot;: &quot;evenodd&quot;, &quot;lineCap&quot;: &quot;round&quot;, &quot;lineJoin&quot;: &quot;round&quot;, &quot;opacity&quot;: 1.0, &quot;radius&quot;: 3, &quot;stroke&quot;: true, &quot;weight&quot;: 3}\n",
       "            ).addTo(map_e47a3adb9f6102181a7bde97390a9b82);\n",
       "        \n",
       "    \n",
       "            var circle_marker_cd4d5b7401946898f7c6cc445bf5115e = L.circleMarker(\n",
       "                [55.75263615347619, 52.38798830614282],\n",
       "                {&quot;bubblingMouseEvents&quot;: true, &quot;color&quot;: &quot;blue&quot;, &quot;dashArray&quot;: null, &quot;dashOffset&quot;: null, &quot;fill&quot;: true, &quot;fillColor&quot;: &quot;blue&quot;, &quot;fillOpacity&quot;: 0.2, &quot;fillRule&quot;: &quot;evenodd&quot;, &quot;lineCap&quot;: &quot;round&quot;, &quot;lineJoin&quot;: &quot;round&quot;, &quot;opacity&quot;: 1.0, &quot;radius&quot;: 3, &quot;stroke&quot;: true, &quot;weight&quot;: 3}\n",
       "            ).addTo(map_e47a3adb9f6102181a7bde97390a9b82);\n",
       "        \n",
       "    \n",
       "            var circle_marker_c92eb798579625e8b0794e21d689bf76 = L.circleMarker(\n",
       "                [55.82863519660017, 37.518393099723426],\n",
       "                {&quot;bubblingMouseEvents&quot;: true, &quot;color&quot;: &quot;red&quot;, &quot;dashArray&quot;: null, &quot;dashOffset&quot;: null, &quot;fill&quot;: true, &quot;fillColor&quot;: &quot;red&quot;, &quot;fillOpacity&quot;: 0.2, &quot;fillRule&quot;: &quot;evenodd&quot;, &quot;lineCap&quot;: &quot;round&quot;, &quot;lineJoin&quot;: &quot;round&quot;, &quot;opacity&quot;: 1.0, &quot;radius&quot;: 3, &quot;stroke&quot;: true, &quot;weight&quot;: 3}\n",
       "            ).addTo(map_e47a3adb9f6102181a7bde97390a9b82);\n",
       "        \n",
       "    \n",
       "            var circle_marker_b13ff813f1f0bbe313aa6e1c108ab6bb = L.circleMarker(\n",
       "                [55.691338320439215, 37.44909479498354],\n",
       "                {&quot;bubblingMouseEvents&quot;: true, &quot;color&quot;: &quot;red&quot;, &quot;dashArray&quot;: null, &quot;dashOffset&quot;: null, &quot;fill&quot;: true, &quot;fillColor&quot;: &quot;red&quot;, &quot;fillOpacity&quot;: 0.2, &quot;fillRule&quot;: &quot;evenodd&quot;, &quot;lineCap&quot;: &quot;round&quot;, &quot;lineJoin&quot;: &quot;round&quot;, &quot;opacity&quot;: 1.0, &quot;radius&quot;: 3, &quot;stroke&quot;: true, &quot;weight&quot;: 3}\n",
       "            ).addTo(map_e47a3adb9f6102181a7bde97390a9b82);\n",
       "        \n",
       "    \n",
       "            var circle_marker_5f7ea09228188ca5b67202e209bc9c27 = L.circleMarker(\n",
       "                [56.386080841963405, 85.00274065841525],\n",
       "                {&quot;bubblingMouseEvents&quot;: true, &quot;color&quot;: &quot;blue&quot;, &quot;dashArray&quot;: null, &quot;dashOffset&quot;: null, &quot;fill&quot;: true, &quot;fillColor&quot;: &quot;blue&quot;, &quot;fillOpacity&quot;: 0.2, &quot;fillRule&quot;: &quot;evenodd&quot;, &quot;lineCap&quot;: &quot;round&quot;, &quot;lineJoin&quot;: &quot;round&quot;, &quot;opacity&quot;: 1.0, &quot;radius&quot;: 3, &quot;stroke&quot;: true, &quot;weight&quot;: 3}\n",
       "            ).addTo(map_e47a3adb9f6102181a7bde97390a9b82);\n",
       "        \n",
       "    \n",
       "            var circle_marker_cd81a6106e3568b8218e46ec7f0ea63f = L.circleMarker(\n",
       "                [55.63952866688539, 37.824348166157485],\n",
       "                {&quot;bubblingMouseEvents&quot;: true, &quot;color&quot;: &quot;red&quot;, &quot;dashArray&quot;: null, &quot;dashOffset&quot;: null, &quot;fill&quot;: true, &quot;fillColor&quot;: &quot;red&quot;, &quot;fillOpacity&quot;: 0.2, &quot;fillRule&quot;: &quot;evenodd&quot;, &quot;lineCap&quot;: &quot;round&quot;, &quot;lineJoin&quot;: &quot;round&quot;, &quot;opacity&quot;: 1.0, &quot;radius&quot;: 3, &quot;stroke&quot;: true, &quot;weight&quot;: 3}\n",
       "            ).addTo(map_e47a3adb9f6102181a7bde97390a9b82);\n",
       "        \n",
       "    \n",
       "            var circle_marker_7290c7090b08205e52e7fb6d59fc7deb = L.circleMarker(\n",
       "                [60.022348507139945, 30.438182368271985],\n",
       "                {&quot;bubblingMouseEvents&quot;: true, &quot;color&quot;: &quot;blue&quot;, &quot;dashArray&quot;: null, &quot;dashOffset&quot;: null, &quot;fill&quot;: true, &quot;fillColor&quot;: &quot;blue&quot;, &quot;fillOpacity&quot;: 0.2, &quot;fillRule&quot;: &quot;evenodd&quot;, &quot;lineCap&quot;: &quot;round&quot;, &quot;lineJoin&quot;: &quot;round&quot;, &quot;opacity&quot;: 1.0, &quot;radius&quot;: 3, &quot;stroke&quot;: true, &quot;weight&quot;: 3}\n",
       "            ).addTo(map_e47a3adb9f6102181a7bde97390a9b82);\n",
       "        \n",
       "    \n",
       "            var circle_marker_71172df703c45401df7ee583489c9667 = L.circleMarker(\n",
       "                [51.649996049022874, 45.92824002400024],\n",
       "                {&quot;bubblingMouseEvents&quot;: true, &quot;color&quot;: &quot;blue&quot;, &quot;dashArray&quot;: null, &quot;dashOffset&quot;: null, &quot;fill&quot;: true, &quot;fillColor&quot;: &quot;blue&quot;, &quot;fillOpacity&quot;: 0.2, &quot;fillRule&quot;: &quot;evenodd&quot;, &quot;lineCap&quot;: &quot;round&quot;, &quot;lineJoin&quot;: &quot;round&quot;, &quot;opacity&quot;: 1.0, &quot;radius&quot;: 3, &quot;stroke&quot;: true, &quot;weight&quot;: 3}\n",
       "            ).addTo(map_e47a3adb9f6102181a7bde97390a9b82);\n",
       "        \n",
       "    \n",
       "            var circle_marker_057c76e81b9b4bd65ec34ff3109e2214 = L.circleMarker(\n",
       "                [53.42578339419954, 83.60735666725157],\n",
       "                {&quot;bubblingMouseEvents&quot;: true, &quot;color&quot;: &quot;red&quot;, &quot;dashArray&quot;: null, &quot;dashOffset&quot;: null, &quot;fill&quot;: true, &quot;fillColor&quot;: &quot;red&quot;, &quot;fillOpacity&quot;: 0.2, &quot;fillRule&quot;: &quot;evenodd&quot;, &quot;lineCap&quot;: &quot;round&quot;, &quot;lineJoin&quot;: &quot;round&quot;, &quot;opacity&quot;: 1.0, &quot;radius&quot;: 3, &quot;stroke&quot;: true, &quot;weight&quot;: 3}\n",
       "            ).addTo(map_e47a3adb9f6102181a7bde97390a9b82);\n",
       "        \n",
       "    \n",
       "            var circle_marker_0447ebe86491f5ea0d732565aedfe464 = L.circleMarker(\n",
       "                [53.383746294933935, 59.01308620941473],\n",
       "                {&quot;bubblingMouseEvents&quot;: true, &quot;color&quot;: &quot;blue&quot;, &quot;dashArray&quot;: null, &quot;dashOffset&quot;: null, &quot;fill&quot;: true, &quot;fillColor&quot;: &quot;blue&quot;, &quot;fillOpacity&quot;: 0.2, &quot;fillRule&quot;: &quot;evenodd&quot;, &quot;lineCap&quot;: &quot;round&quot;, &quot;lineJoin&quot;: &quot;round&quot;, &quot;opacity&quot;: 1.0, &quot;radius&quot;: 3, &quot;stroke&quot;: true, &quot;weight&quot;: 3}\n",
       "            ).addTo(map_e47a3adb9f6102181a7bde97390a9b82);\n",
       "        \n",
       "    \n",
       "            var circle_marker_949b27f7d990e175021ad5e0e440a85e = L.circleMarker(\n",
       "                [56.7215821439295, 53.35595702518864],\n",
       "                {&quot;bubblingMouseEvents&quot;: true, &quot;color&quot;: &quot;blue&quot;, &quot;dashArray&quot;: null, &quot;dashOffset&quot;: null, &quot;fill&quot;: true, &quot;fillColor&quot;: &quot;blue&quot;, &quot;fillOpacity&quot;: 0.2, &quot;fillRule&quot;: &quot;evenodd&quot;, &quot;lineCap&quot;: &quot;round&quot;, &quot;lineJoin&quot;: &quot;round&quot;, &quot;opacity&quot;: 1.0, &quot;radius&quot;: 3, &quot;stroke&quot;: true, &quot;weight&quot;: 3}\n",
       "            ).addTo(map_e47a3adb9f6102181a7bde97390a9b82);\n",
       "        \n",
       "    \n",
       "            var circle_marker_c5d361458164763a8af0d468d311b250 = L.circleMarker(\n",
       "                [55.84839802729749, 37.68703882026967],\n",
       "                {&quot;bubblingMouseEvents&quot;: true, &quot;color&quot;: &quot;red&quot;, &quot;dashArray&quot;: null, &quot;dashOffset&quot;: null, &quot;fill&quot;: true, &quot;fillColor&quot;: &quot;red&quot;, &quot;fillOpacity&quot;: 0.2, &quot;fillRule&quot;: &quot;evenodd&quot;, &quot;lineCap&quot;: &quot;round&quot;, &quot;lineJoin&quot;: &quot;round&quot;, &quot;opacity&quot;: 1.0, &quot;radius&quot;: 3, &quot;stroke&quot;: true, &quot;weight&quot;: 3}\n",
       "            ).addTo(map_e47a3adb9f6102181a7bde97390a9b82);\n",
       "        \n",
       "    \n",
       "            var circle_marker_00b7cb9b3e35a1644e4d34601cfbbd4c = L.circleMarker(\n",
       "                [53.36126528420014, 49.42470733364192],\n",
       "                {&quot;bubblingMouseEvents&quot;: true, &quot;color&quot;: &quot;blue&quot;, &quot;dashArray&quot;: null, &quot;dashOffset&quot;: null, &quot;fill&quot;: true, &quot;fillColor&quot;: &quot;blue&quot;, &quot;fillOpacity&quot;: 0.2, &quot;fillRule&quot;: &quot;evenodd&quot;, &quot;lineCap&quot;: &quot;round&quot;, &quot;lineJoin&quot;: &quot;round&quot;, &quot;opacity&quot;: 1.0, &quot;radius&quot;: 3, &quot;stroke&quot;: true, &quot;weight&quot;: 3}\n",
       "            ).addTo(map_e47a3adb9f6102181a7bde97390a9b82);\n",
       "        \n",
       "    \n",
       "            var circle_marker_ba225ce50b8bd654ef2cf97593093ca6 = L.circleMarker(\n",
       "                [59.934637908075544, 30.343040587216045],\n",
       "                {&quot;bubblingMouseEvents&quot;: true, &quot;color&quot;: &quot;red&quot;, &quot;dashArray&quot;: null, &quot;dashOffset&quot;: null, &quot;fill&quot;: true, &quot;fillColor&quot;: &quot;red&quot;, &quot;fillOpacity&quot;: 0.2, &quot;fillRule&quot;: &quot;evenodd&quot;, &quot;lineCap&quot;: &quot;round&quot;, &quot;lineJoin&quot;: &quot;round&quot;, &quot;opacity&quot;: 1.0, &quot;radius&quot;: 3, &quot;stroke&quot;: true, &quot;weight&quot;: 3}\n",
       "            ).addTo(map_e47a3adb9f6102181a7bde97390a9b82);\n",
       "        \n",
       "    \n",
       "            var circle_marker_39239ae24f34acd673a4be28139961b3 = L.circleMarker(\n",
       "                [54.07465041745, 45.16808347517185],\n",
       "                {&quot;bubblingMouseEvents&quot;: true, &quot;color&quot;: &quot;blue&quot;, &quot;dashArray&quot;: null, &quot;dashOffset&quot;: null, &quot;fill&quot;: true, &quot;fillColor&quot;: &quot;blue&quot;, &quot;fillOpacity&quot;: 0.2, &quot;fillRule&quot;: &quot;evenodd&quot;, &quot;lineCap&quot;: &quot;round&quot;, &quot;lineJoin&quot;: &quot;round&quot;, &quot;opacity&quot;: 1.0, &quot;radius&quot;: 3, &quot;stroke&quot;: true, &quot;weight&quot;: 3}\n",
       "            ).addTo(map_e47a3adb9f6102181a7bde97390a9b82);\n",
       "        \n",
       "    \n",
       "            var circle_marker_6cc94d067357fc6b62bd9719dc2b7617 = L.circleMarker(\n",
       "                [55.00185739298457, 73.18486674510555],\n",
       "                {&quot;bubblingMouseEvents&quot;: true, &quot;color&quot;: &quot;blue&quot;, &quot;dashArray&quot;: null, &quot;dashOffset&quot;: null, &quot;fill&quot;: true, &quot;fillColor&quot;: &quot;blue&quot;, &quot;fillOpacity&quot;: 0.2, &quot;fillRule&quot;: &quot;evenodd&quot;, &quot;lineCap&quot;: &quot;round&quot;, &quot;lineJoin&quot;: &quot;round&quot;, &quot;opacity&quot;: 1.0, &quot;radius&quot;: 3, &quot;stroke&quot;: true, &quot;weight&quot;: 3}\n",
       "            ).addTo(map_e47a3adb9f6102181a7bde97390a9b82);\n",
       "        \n",
       "    \n",
       "            var circle_marker_629aa791f96663d742858d1f6a4edc76 = L.circleMarker(\n",
       "                [55.147573105591924, 83.10406558985574],\n",
       "                {&quot;bubblingMouseEvents&quot;: true, &quot;color&quot;: &quot;red&quot;, &quot;dashArray&quot;: null, &quot;dashOffset&quot;: null, &quot;fill&quot;: true, &quot;fillColor&quot;: &quot;red&quot;, &quot;fillOpacity&quot;: 0.2, &quot;fillRule&quot;: &quot;evenodd&quot;, &quot;lineCap&quot;: &quot;round&quot;, &quot;lineJoin&quot;: &quot;round&quot;, &quot;opacity&quot;: 1.0, &quot;radius&quot;: 3, &quot;stroke&quot;: true, &quot;weight&quot;: 3}\n",
       "            ).addTo(map_e47a3adb9f6102181a7bde97390a9b82);\n",
       "        \n",
       "    \n",
       "            var circle_marker_61860abe3a17fe9757702d0fdc292db7 = L.circleMarker(\n",
       "                [58.75776801015216, 49.64952129202422],\n",
       "                {&quot;bubblingMouseEvents&quot;: true, &quot;color&quot;: &quot;red&quot;, &quot;dashArray&quot;: null, &quot;dashOffset&quot;: null, &quot;fill&quot;: true, &quot;fillColor&quot;: &quot;red&quot;, &quot;fillOpacity&quot;: 0.2, &quot;fillRule&quot;: &quot;evenodd&quot;, &quot;lineCap&quot;: &quot;round&quot;, &quot;lineJoin&quot;: &quot;round&quot;, &quot;opacity&quot;: 1.0, &quot;radius&quot;: 3, &quot;stroke&quot;: true, &quot;weight&quot;: 3}\n",
       "            ).addTo(map_e47a3adb9f6102181a7bde97390a9b82);\n",
       "        \n",
       "    \n",
       "            var circle_marker_899df403c9b7149dbc691f317be52084 = L.circleMarker(\n",
       "                [52.539161404437685, 41.542574501010954],\n",
       "                {&quot;bubblingMouseEvents&quot;: true, &quot;color&quot;: &quot;blue&quot;, &quot;dashArray&quot;: null, &quot;dashOffset&quot;: null, &quot;fill&quot;: true, &quot;fillColor&quot;: &quot;blue&quot;, &quot;fillOpacity&quot;: 0.2, &quot;fillRule&quot;: &quot;evenodd&quot;, &quot;lineCap&quot;: &quot;round&quot;, &quot;lineJoin&quot;: &quot;round&quot;, &quot;opacity&quot;: 1.0, &quot;radius&quot;: 3, &quot;stroke&quot;: true, &quot;weight&quot;: 3}\n",
       "            ).addTo(map_e47a3adb9f6102181a7bde97390a9b82);\n",
       "        \n",
       "    \n",
       "            var circle_marker_7394cfb92460d26685cf1bd09591b0d7 = L.circleMarker(\n",
       "                [43.39524585806793, 39.65070282215032],\n",
       "                {&quot;bubblingMouseEvents&quot;: true, &quot;color&quot;: &quot;red&quot;, &quot;dashArray&quot;: null, &quot;dashOffset&quot;: null, &quot;fill&quot;: true, &quot;fillColor&quot;: &quot;red&quot;, &quot;fillOpacity&quot;: 0.2, &quot;fillRule&quot;: &quot;evenodd&quot;, &quot;lineCap&quot;: &quot;round&quot;, &quot;lineJoin&quot;: &quot;round&quot;, &quot;opacity&quot;: 1.0, &quot;radius&quot;: 3, &quot;stroke&quot;: true, &quot;weight&quot;: 3}\n",
       "            ).addTo(map_e47a3adb9f6102181a7bde97390a9b82);\n",
       "        \n",
       "    \n",
       "            var circle_marker_569ad9947c88e5c665e5cbcf3e1e0848 = L.circleMarker(\n",
       "                [53.80896507141042, 87.20946292212419],\n",
       "                {&quot;bubblingMouseEvents&quot;: true, &quot;color&quot;: &quot;blue&quot;, &quot;dashArray&quot;: null, &quot;dashOffset&quot;: null, &quot;fill&quot;: true, &quot;fillColor&quot;: &quot;blue&quot;, &quot;fillOpacity&quot;: 0.2, &quot;fillRule&quot;: &quot;evenodd&quot;, &quot;lineCap&quot;: &quot;round&quot;, &quot;lineJoin&quot;: &quot;round&quot;, &quot;opacity&quot;: 1.0, &quot;radius&quot;: 3, &quot;stroke&quot;: true, &quot;weight&quot;: 3}\n",
       "            ).addTo(map_e47a3adb9f6102181a7bde97390a9b82);\n",
       "        \n",
       "    \n",
       "            var circle_marker_a5afd802de76567f27224913ec0de002 = L.circleMarker(\n",
       "                [59.05681787717412, 39.96311774423149],\n",
       "                {&quot;bubblingMouseEvents&quot;: true, &quot;color&quot;: &quot;red&quot;, &quot;dashArray&quot;: null, &quot;dashOffset&quot;: null, &quot;fill&quot;: true, &quot;fillColor&quot;: &quot;red&quot;, &quot;fillOpacity&quot;: 0.2, &quot;fillRule&quot;: &quot;evenodd&quot;, &quot;lineCap&quot;: &quot;round&quot;, &quot;lineJoin&quot;: &quot;round&quot;, &quot;opacity&quot;: 1.0, &quot;radius&quot;: 3, &quot;stroke&quot;: true, &quot;weight&quot;: 3}\n",
       "            ).addTo(map_e47a3adb9f6102181a7bde97390a9b82);\n",
       "        \n",
       "    \n",
       "            var circle_marker_df979e6156d095f9c668959a8f6c8afd = L.circleMarker(\n",
       "                [57.48252159996139, 39.98476938177493],\n",
       "                {&quot;bubblingMouseEvents&quot;: true, &quot;color&quot;: &quot;blue&quot;, &quot;dashArray&quot;: null, &quot;dashOffset&quot;: null, &quot;fill&quot;: true, &quot;fillColor&quot;: &quot;blue&quot;, &quot;fillOpacity&quot;: 0.2, &quot;fillRule&quot;: &quot;evenodd&quot;, &quot;lineCap&quot;: &quot;round&quot;, &quot;lineJoin&quot;: &quot;round&quot;, &quot;opacity&quot;: 1.0, &quot;radius&quot;: 3, &quot;stroke&quot;: true, &quot;weight&quot;: 3}\n",
       "            ).addTo(map_e47a3adb9f6102181a7bde97390a9b82);\n",
       "        \n",
       "    \n",
       "            var circle_marker_e0441fe5f8c284805fcd69f858a3f554 = L.circleMarker(\n",
       "                [55.83627269971569, 92.85297495054922],\n",
       "                {&quot;bubblingMouseEvents&quot;: true, &quot;color&quot;: &quot;red&quot;, &quot;dashArray&quot;: null, &quot;dashOffset&quot;: null, &quot;fill&quot;: true, &quot;fillColor&quot;: &quot;red&quot;, &quot;fillOpacity&quot;: 0.2, &quot;fillRule&quot;: &quot;evenodd&quot;, &quot;lineCap&quot;: &quot;round&quot;, &quot;lineJoin&quot;: &quot;round&quot;, &quot;opacity&quot;: 1.0, &quot;radius&quot;: 3, &quot;stroke&quot;: true, &quot;weight&quot;: 3}\n",
       "            ).addTo(map_e47a3adb9f6102181a7bde97390a9b82);\n",
       "        \n",
       "    \n",
       "            var circle_marker_65e6b5a32bb965e4f6a52ec032e03b00 = L.circleMarker(\n",
       "                [55.81606101422132, 52.57742637204607],\n",
       "                {&quot;bubblingMouseEvents&quot;: true, &quot;color&quot;: &quot;red&quot;, &quot;dashArray&quot;: null, &quot;dashOffset&quot;: null, &quot;fill&quot;: true, &quot;fillColor&quot;: &quot;red&quot;, &quot;fillOpacity&quot;: 0.2, &quot;fillRule&quot;: &quot;evenodd&quot;, &quot;lineCap&quot;: &quot;round&quot;, &quot;lineJoin&quot;: &quot;round&quot;, &quot;opacity&quot;: 1.0, &quot;radius&quot;: 3, &quot;stroke&quot;: true, &quot;weight&quot;: 3}\n",
       "            ).addTo(map_e47a3adb9f6102181a7bde97390a9b82);\n",
       "        \n",
       "    \n",
       "            var circle_marker_0edeac835c4b417a665a1b2890e63d01 = L.circleMarker(\n",
       "                [53.67110156485298, 87.17663108754871],\n",
       "                {&quot;bubblingMouseEvents&quot;: true, &quot;color&quot;: &quot;blue&quot;, &quot;dashArray&quot;: null, &quot;dashOffset&quot;: null, &quot;fill&quot;: true, &quot;fillColor&quot;: &quot;blue&quot;, &quot;fillOpacity&quot;: 0.2, &quot;fillRule&quot;: &quot;evenodd&quot;, &quot;lineCap&quot;: &quot;round&quot;, &quot;lineJoin&quot;: &quot;round&quot;, &quot;opacity&quot;: 1.0, &quot;radius&quot;: 3, &quot;stroke&quot;: true, &quot;weight&quot;: 3}\n",
       "            ).addTo(map_e47a3adb9f6102181a7bde97390a9b82);\n",
       "        \n",
       "    \n",
       "            var circle_marker_3ce115de3d5b44ddb45f682f0c458109 = L.circleMarker(\n",
       "                [55.9469702976949, 37.643941500291795],\n",
       "                {&quot;bubblingMouseEvents&quot;: true, &quot;color&quot;: &quot;red&quot;, &quot;dashArray&quot;: null, &quot;dashOffset&quot;: null, &quot;fill&quot;: true, &quot;fillColor&quot;: &quot;red&quot;, &quot;fillOpacity&quot;: 0.2, &quot;fillRule&quot;: &quot;evenodd&quot;, &quot;lineCap&quot;: &quot;round&quot;, &quot;lineJoin&quot;: &quot;round&quot;, &quot;opacity&quot;: 1.0, &quot;radius&quot;: 3, &quot;stroke&quot;: true, &quot;weight&quot;: 3}\n",
       "            ).addTo(map_e47a3adb9f6102181a7bde97390a9b82);\n",
       "        \n",
       "    \n",
       "            var circle_marker_1f085f14c9ef75ab47e43bfe576359c7 = L.circleMarker(\n",
       "                [55.667330383066144, 52.55258145545223],\n",
       "                {&quot;bubblingMouseEvents&quot;: true, &quot;color&quot;: &quot;blue&quot;, &quot;dashArray&quot;: null, &quot;dashOffset&quot;: null, &quot;fill&quot;: true, &quot;fillColor&quot;: &quot;blue&quot;, &quot;fillOpacity&quot;: 0.2, &quot;fillRule&quot;: &quot;evenodd&quot;, &quot;lineCap&quot;: &quot;round&quot;, &quot;lineJoin&quot;: &quot;round&quot;, &quot;opacity&quot;: 1.0, &quot;radius&quot;: 3, &quot;stroke&quot;: true, &quot;weight&quot;: 3}\n",
       "            ).addTo(map_e47a3adb9f6102181a7bde97390a9b82);\n",
       "        \n",
       "    \n",
       "            var circle_marker_1021bf3dfb1a720329acf66a9f3276c0 = L.circleMarker(\n",
       "                [43.3131149891983, 45.82766348520616],\n",
       "                {&quot;bubblingMouseEvents&quot;: true, &quot;color&quot;: &quot;blue&quot;, &quot;dashArray&quot;: null, &quot;dashOffset&quot;: null, &quot;fill&quot;: true, &quot;fillColor&quot;: &quot;blue&quot;, &quot;fillOpacity&quot;: 0.2, &quot;fillRule&quot;: &quot;evenodd&quot;, &quot;lineCap&quot;: &quot;round&quot;, &quot;lineJoin&quot;: &quot;round&quot;, &quot;opacity&quot;: 1.0, &quot;radius&quot;: 3, &quot;stroke&quot;: true, &quot;weight&quot;: 3}\n",
       "            ).addTo(map_e47a3adb9f6102181a7bde97390a9b82);\n",
       "        \n",
       "    \n",
       "            var circle_marker_b063ea2ba294b842bb7444effeaf7d54 = L.circleMarker(\n",
       "                [48.626902519453814, 135.10126487576682],\n",
       "                {&quot;bubblingMouseEvents&quot;: true, &quot;color&quot;: &quot;blue&quot;, &quot;dashArray&quot;: null, &quot;dashOffset&quot;: null, &quot;fill&quot;: true, &quot;fillColor&quot;: &quot;blue&quot;, &quot;fillOpacity&quot;: 0.2, &quot;fillRule&quot;: &quot;evenodd&quot;, &quot;lineCap&quot;: &quot;round&quot;, &quot;lineJoin&quot;: &quot;round&quot;, &quot;opacity&quot;: 1.0, &quot;radius&quot;: 3, &quot;stroke&quot;: true, &quot;weight&quot;: 3}\n",
       "            ).addTo(map_e47a3adb9f6102181a7bde97390a9b82);\n",
       "        \n",
       "    \n",
       "            var circle_marker_21f0f98c48abde06c12798562979fbd5 = L.circleMarker(\n",
       "                [53.7407583945936, 87.06191925559709],\n",
       "                {&quot;bubblingMouseEvents&quot;: true, &quot;color&quot;: &quot;blue&quot;, &quot;dashArray&quot;: null, &quot;dashOffset&quot;: null, &quot;fill&quot;: true, &quot;fillColor&quot;: &quot;blue&quot;, &quot;fillOpacity&quot;: 0.2, &quot;fillRule&quot;: &quot;evenodd&quot;, &quot;lineCap&quot;: &quot;round&quot;, &quot;lineJoin&quot;: &quot;round&quot;, &quot;opacity&quot;: 1.0, &quot;radius&quot;: 3, &quot;stroke&quot;: true, &quot;weight&quot;: 3}\n",
       "            ).addTo(map_e47a3adb9f6102181a7bde97390a9b82);\n",
       "        \n",
       "    \n",
       "            var circle_marker_9ad19485fbf16792d53060a1e02c35d7 = L.circleMarker(\n",
       "                [55.73674137559421, 37.60370345050114],\n",
       "                {&quot;bubblingMouseEvents&quot;: true, &quot;color&quot;: &quot;blue&quot;, &quot;dashArray&quot;: null, &quot;dashOffset&quot;: null, &quot;fill&quot;: true, &quot;fillColor&quot;: &quot;blue&quot;, &quot;fillOpacity&quot;: 0.2, &quot;fillRule&quot;: &quot;evenodd&quot;, &quot;lineCap&quot;: &quot;round&quot;, &quot;lineJoin&quot;: &quot;round&quot;, &quot;opacity&quot;: 1.0, &quot;radius&quot;: 3, &quot;stroke&quot;: true, &quot;weight&quot;: 3}\n",
       "            ).addTo(map_e47a3adb9f6102181a7bde97390a9b82);\n",
       "        \n",
       "    \n",
       "            var circle_marker_be1138b54b6a9d1a2e0037e3e3abe19e = L.circleMarker(\n",
       "                [59.74288277612767, 30.299773579040632],\n",
       "                {&quot;bubblingMouseEvents&quot;: true, &quot;color&quot;: &quot;blue&quot;, &quot;dashArray&quot;: null, &quot;dashOffset&quot;: null, &quot;fill&quot;: true, &quot;fillColor&quot;: &quot;blue&quot;, &quot;fillOpacity&quot;: 0.2, &quot;fillRule&quot;: &quot;evenodd&quot;, &quot;lineCap&quot;: &quot;round&quot;, &quot;lineJoin&quot;: &quot;round&quot;, &quot;opacity&quot;: 1.0, &quot;radius&quot;: 3, &quot;stroke&quot;: true, &quot;weight&quot;: 3}\n",
       "            ).addTo(map_e47a3adb9f6102181a7bde97390a9b82);\n",
       "        \n",
       "    \n",
       "            var circle_marker_b681d0e46564b9772519764f842976f8 = L.circleMarker(\n",
       "                [54.40811467316687, 48.38881159186071],\n",
       "                {&quot;bubblingMouseEvents&quot;: true, &quot;color&quot;: &quot;blue&quot;, &quot;dashArray&quot;: null, &quot;dashOffset&quot;: null, &quot;fill&quot;: true, &quot;fillColor&quot;: &quot;blue&quot;, &quot;fillOpacity&quot;: 0.2, &quot;fillRule&quot;: &quot;evenodd&quot;, &quot;lineCap&quot;: &quot;round&quot;, &quot;lineJoin&quot;: &quot;round&quot;, &quot;opacity&quot;: 1.0, &quot;radius&quot;: 3, &quot;stroke&quot;: true, &quot;weight&quot;: 3}\n",
       "            ).addTo(map_e47a3adb9f6102181a7bde97390a9b82);\n",
       "        \n",
       "    \n",
       "            var circle_marker_f57cf7bf28bd56c028e1a78acb0ddac6 = L.circleMarker(\n",
       "                [56.96629214071475, 60.71032635757454],\n",
       "                {&quot;bubblingMouseEvents&quot;: true, &quot;color&quot;: &quot;blue&quot;, &quot;dashArray&quot;: null, &quot;dashOffset&quot;: null, &quot;fill&quot;: true, &quot;fillColor&quot;: &quot;blue&quot;, &quot;fillOpacity&quot;: 0.2, &quot;fillRule&quot;: &quot;evenodd&quot;, &quot;lineCap&quot;: &quot;round&quot;, &quot;lineJoin&quot;: &quot;round&quot;, &quot;opacity&quot;: 1.0, &quot;radius&quot;: 3, &quot;stroke&quot;: true, &quot;weight&quot;: 3}\n",
       "            ).addTo(map_e47a3adb9f6102181a7bde97390a9b82);\n",
       "        \n",
       "    \n",
       "            var circle_marker_6763dcf4cc67514de9bee0504faab4c5 = L.circleMarker(\n",
       "                [58.80088471218037, 49.66034178177031],\n",
       "                {&quot;bubblingMouseEvents&quot;: true, &quot;color&quot;: &quot;red&quot;, &quot;dashArray&quot;: null, &quot;dashOffset&quot;: null, &quot;fill&quot;: true, &quot;fillColor&quot;: &quot;red&quot;, &quot;fillOpacity&quot;: 0.2, &quot;fillRule&quot;: &quot;evenodd&quot;, &quot;lineCap&quot;: &quot;round&quot;, &quot;lineJoin&quot;: &quot;round&quot;, &quot;opacity&quot;: 1.0, &quot;radius&quot;: 3, &quot;stroke&quot;: true, &quot;weight&quot;: 3}\n",
       "            ).addTo(map_e47a3adb9f6102181a7bde97390a9b82);\n",
       "        \n",
       "    \n",
       "            var circle_marker_22d5e82a54afcd06debec1f1845ba001 = L.circleMarker(\n",
       "                [56.48635708915977, 44.061860486023875],\n",
       "                {&quot;bubblingMouseEvents&quot;: true, &quot;color&quot;: &quot;blue&quot;, &quot;dashArray&quot;: null, &quot;dashOffset&quot;: null, &quot;fill&quot;: true, &quot;fillColor&quot;: &quot;blue&quot;, &quot;fillOpacity&quot;: 0.2, &quot;fillRule&quot;: &quot;evenodd&quot;, &quot;lineCap&quot;: &quot;round&quot;, &quot;lineJoin&quot;: &quot;round&quot;, &quot;opacity&quot;: 1.0, &quot;radius&quot;: 3, &quot;stroke&quot;: true, &quot;weight&quot;: 3}\n",
       "            ).addTo(map_e47a3adb9f6102181a7bde97390a9b82);\n",
       "        \n",
       "    \n",
       "            var circle_marker_51c1bbd7d705d664b2998b219a4e0129 = L.circleMarker(\n",
       "                [57.5764651161076, 40.80377050670257],\n",
       "                {&quot;bubblingMouseEvents&quot;: true, &quot;color&quot;: &quot;blue&quot;, &quot;dashArray&quot;: null, &quot;dashOffset&quot;: null, &quot;fill&quot;: true, &quot;fillColor&quot;: &quot;blue&quot;, &quot;fillOpacity&quot;: 0.2, &quot;fillRule&quot;: &quot;evenodd&quot;, &quot;lineCap&quot;: &quot;round&quot;, &quot;lineJoin&quot;: &quot;round&quot;, &quot;opacity&quot;: 1.0, &quot;radius&quot;: 3, &quot;stroke&quot;: true, &quot;weight&quot;: 3}\n",
       "            ).addTo(map_e47a3adb9f6102181a7bde97390a9b82);\n",
       "        \n",
       "    \n",
       "            var circle_marker_c42e34b807d76596e5e466f71d9495c9 = L.circleMarker(\n",
       "                [44.541546808049766, 37.57464388698231],\n",
       "                {&quot;bubblingMouseEvents&quot;: true, &quot;color&quot;: &quot;blue&quot;, &quot;dashArray&quot;: null, &quot;dashOffset&quot;: null, &quot;fill&quot;: true, &quot;fillColor&quot;: &quot;blue&quot;, &quot;fillOpacity&quot;: 0.2, &quot;fillRule&quot;: &quot;evenodd&quot;, &quot;lineCap&quot;: &quot;round&quot;, &quot;lineJoin&quot;: &quot;round&quot;, &quot;opacity&quot;: 1.0, &quot;radius&quot;: 3, &quot;stroke&quot;: true, &quot;weight&quot;: 3}\n",
       "            ).addTo(map_e47a3adb9f6102181a7bde97390a9b82);\n",
       "        \n",
       "    \n",
       "            var circle_marker_2f1eefa60e866f3e19114c624759684a = L.circleMarker(\n",
       "                [59.949299273821545, 30.143943380682167],\n",
       "                {&quot;bubblingMouseEvents&quot;: true, &quot;color&quot;: &quot;blue&quot;, &quot;dashArray&quot;: null, &quot;dashOffset&quot;: null, &quot;fill&quot;: true, &quot;fillColor&quot;: &quot;blue&quot;, &quot;fillOpacity&quot;: 0.2, &quot;fillRule&quot;: &quot;evenodd&quot;, &quot;lineCap&quot;: &quot;round&quot;, &quot;lineJoin&quot;: &quot;round&quot;, &quot;opacity&quot;: 1.0, &quot;radius&quot;: 3, &quot;stroke&quot;: true, &quot;weight&quot;: 3}\n",
       "            ).addTo(map_e47a3adb9f6102181a7bde97390a9b82);\n",
       "        \n",
       "    \n",
       "            var circle_marker_171db25921c0a312f1bf92abac5a57f7 = L.circleMarker(\n",
       "                [55.733461263697436, 37.53746095965167],\n",
       "                {&quot;bubblingMouseEvents&quot;: true, &quot;color&quot;: &quot;blue&quot;, &quot;dashArray&quot;: null, &quot;dashOffset&quot;: null, &quot;fill&quot;: true, &quot;fillColor&quot;: &quot;blue&quot;, &quot;fillOpacity&quot;: 0.2, &quot;fillRule&quot;: &quot;evenodd&quot;, &quot;lineCap&quot;: &quot;round&quot;, &quot;lineJoin&quot;: &quot;round&quot;, &quot;opacity&quot;: 1.0, &quot;radius&quot;: 3, &quot;stroke&quot;: true, &quot;weight&quot;: 3}\n",
       "            ).addTo(map_e47a3adb9f6102181a7bde97390a9b82);\n",
       "        \n",
       "    \n",
       "            var circle_marker_97baa6ab5817fe103b1551aea56c8b1f = L.circleMarker(\n",
       "                [55.13552346132303, 61.27927647354688],\n",
       "                {&quot;bubblingMouseEvents&quot;: true, &quot;color&quot;: &quot;red&quot;, &quot;dashArray&quot;: null, &quot;dashOffset&quot;: null, &quot;fill&quot;: true, &quot;fillColor&quot;: &quot;red&quot;, &quot;fillOpacity&quot;: 0.2, &quot;fillRule&quot;: &quot;evenodd&quot;, &quot;lineCap&quot;: &quot;round&quot;, &quot;lineJoin&quot;: &quot;round&quot;, &quot;opacity&quot;: 1.0, &quot;radius&quot;: 3, &quot;stroke&quot;: true, &quot;weight&quot;: 3}\n",
       "            ).addTo(map_e47a3adb9f6102181a7bde97390a9b82);\n",
       "        \n",
       "    \n",
       "            var circle_marker_321a9a51e3526f3a2be6881464cd6027 = L.circleMarker(\n",
       "                [59.83219126473987, 30.349273582124876],\n",
       "                {&quot;bubblingMouseEvents&quot;: true, &quot;color&quot;: &quot;blue&quot;, &quot;dashArray&quot;: null, &quot;dashOffset&quot;: null, &quot;fill&quot;: true, &quot;fillColor&quot;: &quot;blue&quot;, &quot;fillOpacity&quot;: 0.2, &quot;fillRule&quot;: &quot;evenodd&quot;, &quot;lineCap&quot;: &quot;round&quot;, &quot;lineJoin&quot;: &quot;round&quot;, &quot;opacity&quot;: 1.0, &quot;radius&quot;: 3, &quot;stroke&quot;: true, &quot;weight&quot;: 3}\n",
       "            ).addTo(map_e47a3adb9f6102181a7bde97390a9b82);\n",
       "        \n",
       "    \n",
       "            var circle_marker_0b498e9738c5270e82f8ec39286648fc = L.circleMarker(\n",
       "                [55.90571746974251, 92.9845581417153],\n",
       "                {&quot;bubblingMouseEvents&quot;: true, &quot;color&quot;: &quot;red&quot;, &quot;dashArray&quot;: null, &quot;dashOffset&quot;: null, &quot;fill&quot;: true, &quot;fillColor&quot;: &quot;red&quot;, &quot;fillOpacity&quot;: 0.2, &quot;fillRule&quot;: &quot;evenodd&quot;, &quot;lineCap&quot;: &quot;round&quot;, &quot;lineJoin&quot;: &quot;round&quot;, &quot;opacity&quot;: 1.0, &quot;radius&quot;: 3, &quot;stroke&quot;: true, &quot;weight&quot;: 3}\n",
       "            ).addTo(map_e47a3adb9f6102181a7bde97390a9b82);\n",
       "        \n",
       "    \n",
       "            var circle_marker_d2830d359bc21ce10c994465c545c8a8 = L.circleMarker(\n",
       "                [55.060738868932305, 73.50992624474742],\n",
       "                {&quot;bubblingMouseEvents&quot;: true, &quot;color&quot;: &quot;blue&quot;, &quot;dashArray&quot;: null, &quot;dashOffset&quot;: null, &quot;fill&quot;: true, &quot;fillColor&quot;: &quot;blue&quot;, &quot;fillOpacity&quot;: 0.2, &quot;fillRule&quot;: &quot;evenodd&quot;, &quot;lineCap&quot;: &quot;round&quot;, &quot;lineJoin&quot;: &quot;round&quot;, &quot;opacity&quot;: 1.0, &quot;radius&quot;: 3, &quot;stroke&quot;: true, &quot;weight&quot;: 3}\n",
       "            ).addTo(map_e47a3adb9f6102181a7bde97390a9b82);\n",
       "        \n",
       "    \n",
       "            var circle_marker_709d5373debaafa8563201ab778c7e59 = L.circleMarker(\n",
       "                [52.45506330265687, 104.33316373638749],\n",
       "                {&quot;bubblingMouseEvents&quot;: true, &quot;color&quot;: &quot;red&quot;, &quot;dashArray&quot;: null, &quot;dashOffset&quot;: null, &quot;fill&quot;: true, &quot;fillColor&quot;: &quot;red&quot;, &quot;fillOpacity&quot;: 0.2, &quot;fillRule&quot;: &quot;evenodd&quot;, &quot;lineCap&quot;: &quot;round&quot;, &quot;lineJoin&quot;: &quot;round&quot;, &quot;opacity&quot;: 1.0, &quot;radius&quot;: 3, &quot;stroke&quot;: true, &quot;weight&quot;: 3}\n",
       "            ).addTo(map_e47a3adb9f6102181a7bde97390a9b82);\n",
       "        \n",
       "    \n",
       "            var circle_marker_fcbe02e0038ee8ec7991e504cc6a8046 = L.circleMarker(\n",
       "                [59.138874440985084, 40.00908058229187],\n",
       "                {&quot;bubblingMouseEvents&quot;: true, &quot;color&quot;: &quot;blue&quot;, &quot;dashArray&quot;: null, &quot;dashOffset&quot;: null, &quot;fill&quot;: true, &quot;fillColor&quot;: &quot;blue&quot;, &quot;fillOpacity&quot;: 0.2, &quot;fillRule&quot;: &quot;evenodd&quot;, &quot;lineCap&quot;: &quot;round&quot;, &quot;lineJoin&quot;: &quot;round&quot;, &quot;opacity&quot;: 1.0, &quot;radius&quot;: 3, &quot;stroke&quot;: true, &quot;weight&quot;: 3}\n",
       "            ).addTo(map_e47a3adb9f6102181a7bde97390a9b82);\n",
       "        \n",
       "    \n",
       "            var circle_marker_ad204236d0397a163aab25f141740f99 = L.circleMarker(\n",
       "                [55.23538323665147, 61.31666552169947],\n",
       "                {&quot;bubblingMouseEvents&quot;: true, &quot;color&quot;: &quot;blue&quot;, &quot;dashArray&quot;: null, &quot;dashOffset&quot;: null, &quot;fill&quot;: true, &quot;fillColor&quot;: &quot;blue&quot;, &quot;fillOpacity&quot;: 0.2, &quot;fillRule&quot;: &quot;evenodd&quot;, &quot;lineCap&quot;: &quot;round&quot;, &quot;lineJoin&quot;: &quot;round&quot;, &quot;opacity&quot;: 1.0, &quot;radius&quot;: 3, &quot;stroke&quot;: true, &quot;weight&quot;: 3}\n",
       "            ).addTo(map_e47a3adb9f6102181a7bde97390a9b82);\n",
       "        \n",
       "    \n",
       "            var circle_marker_faf5696e5fe9d70b862262be379759e2 = L.circleMarker(\n",
       "                [42.863191437168744, 44.78150714739519],\n",
       "                {&quot;bubblingMouseEvents&quot;: true, &quot;color&quot;: &quot;blue&quot;, &quot;dashArray&quot;: null, &quot;dashOffset&quot;: null, &quot;fill&quot;: true, &quot;fillColor&quot;: &quot;blue&quot;, &quot;fillOpacity&quot;: 0.2, &quot;fillRule&quot;: &quot;evenodd&quot;, &quot;lineCap&quot;: &quot;round&quot;, &quot;lineJoin&quot;: &quot;round&quot;, &quot;opacity&quot;: 1.0, &quot;radius&quot;: 3, &quot;stroke&quot;: true, &quot;weight&quot;: 3}\n",
       "            ).addTo(map_e47a3adb9f6102181a7bde97390a9b82);\n",
       "        \n",
       "    \n",
       "            var circle_marker_1a735c74e5b1fbfcbe6205c00ac650c5 = L.circleMarker(\n",
       "                [58.07638477489761, 56.3815839415862],\n",
       "                {&quot;bubblingMouseEvents&quot;: true, &quot;color&quot;: &quot;blue&quot;, &quot;dashArray&quot;: null, &quot;dashOffset&quot;: null, &quot;fill&quot;: true, &quot;fillColor&quot;: &quot;blue&quot;, &quot;fillOpacity&quot;: 0.2, &quot;fillRule&quot;: &quot;evenodd&quot;, &quot;lineCap&quot;: &quot;round&quot;, &quot;lineJoin&quot;: &quot;round&quot;, &quot;opacity&quot;: 1.0, &quot;radius&quot;: 3, &quot;stroke&quot;: true, &quot;weight&quot;: 3}\n",
       "            ).addTo(map_e47a3adb9f6102181a7bde97390a9b82);\n",
       "        \n",
       "&lt;/script&gt;\n",
       "&lt;/html&gt;\" style=\"position:absolute;width:100%;height:100%;left:0;top:0;border:none !important;\" allowfullscreen webkitallowfullscreen mozallowfullscreen></iframe></div></div>"
      ],
      "text/plain": [
       "<folium.folium.Map at 0x1863b833ca0>"
      ]
     },
     "execution_count": 99,
     "metadata": {},
     "output_type": "execute_result"
    }
   ],
   "source": [
    "m"
   ]
  },
  {
   "cell_type": "markdown",
   "metadata": {
    "id": "wHDPXXXZSn2X"
   },
   "source": [
    "Синий - это тариф smart, красный - тариф ultra. Как мы видим на карте синие точки преобладают и имееют большую географию, чем красные точки (ultra). Наши клиенты в основном находятся в европейской части России"
   ]
  },
  {
   "cell_type": "markdown",
   "metadata": {
    "id": "7NQ8X7A0y1C8"
   },
   "source": [
    "## Исследования предпочтения тарифов в зависимости от пола"
   ]
  },
  {
   "cell_type": "markdown",
   "metadata": {
    "id": "kukLvl-uzBXc"
   },
   "source": [
    "Определим пол наших пользователей"
   ]
  },
  {
   "cell_type": "code",
   "execution_count": 100,
   "metadata": {
    "colab": {
     "base_uri": "https://localhost:8080/"
    },
    "id": "kXiMh3R_Rpf4",
    "outputId": "7b0bf7c2-fcb6-47b5-b3e5-0bb58c272514"
   },
   "outputs": [
    {
     "name": "stdout",
     "output_type": "stream",
     "text": [
      "Collecting pymorphy2\n",
      "  Downloading pymorphy2-0.9.1-py3-none-any.whl (55 kB)\n",
      "     -------------------------------------- 55.5/55.5 kB 729.7 kB/s eta 0:00:00\n",
      "Collecting pymorphy2-dicts-ru<3.0,>=2.4\n",
      "  Downloading pymorphy2_dicts_ru-2.4.417127.4579844-py2.py3-none-any.whl (8.2 MB)\n",
      "     ---------------------------------------- 8.2/8.2 MB 7.5 MB/s eta 0:00:00\n",
      "Collecting dawg-python>=0.7.1\n",
      "  Downloading DAWG_Python-0.7.2-py2.py3-none-any.whl (11 kB)\n",
      "Collecting docopt>=0.6\n",
      "  Downloading docopt-0.6.2.tar.gz (25 kB)\n",
      "  Preparing metadata (setup.py): started\n",
      "  Preparing metadata (setup.py): finished with status 'done'\n",
      "Building wheels for collected packages: docopt\n",
      "  Building wheel for docopt (setup.py): started\n",
      "  Building wheel for docopt (setup.py): finished with status 'done'\n",
      "  Created wheel for docopt: filename=docopt-0.6.2-py2.py3-none-any.whl size=13723 sha256=ce7da10057faa884299ccaec9725116525f9ecb183c1aca69e1012c2a77bb1fc\n",
      "  Stored in directory: c:\\users\\lavru\\appdata\\local\\pip\\cache\\wheels\\4e\\29\\5e\\e5f6f558e24e0d70f6808e3e8fdaf2c04ff597233098afc550\n",
      "Successfully built docopt\n",
      "Installing collected packages: pymorphy2-dicts-ru, docopt, dawg-python, pymorphy2\n",
      "Successfully installed dawg-python-0.7.2 docopt-0.6.2 pymorphy2-0.9.1 pymorphy2-dicts-ru-2.4.417127.4579844\n"
     ]
    }
   ],
   "source": [
    "!pip install pymorphy2"
   ]
  },
  {
   "cell_type": "code",
   "execution_count": 101,
   "metadata": {
    "id": "SE7cOWIlRwxA"
   },
   "outputs": [],
   "source": [
    "import pymorphy2"
   ]
  },
  {
   "cell_type": "code",
   "execution_count": 102,
   "metadata": {
    "id": "vuf56Rw7SHsG"
   },
   "outputs": [],
   "source": [
    "morph = pymorphy2.MorphAnalyzer()"
   ]
  },
  {
   "cell_type": "code",
   "execution_count": 103,
   "metadata": {
    "id": "ljCuTb01RyQX"
   },
   "outputs": [],
   "source": [
    "name_list = users['first_name'].to_list()"
   ]
  },
  {
   "cell_type": "code",
   "execution_count": 104,
   "metadata": {
    "id": "qNvcLZvyUPNO"
   },
   "outputs": [],
   "source": [
    "masc_name_list = []\n",
    "femn_name_list = []\n"
   ]
  },
  {
   "cell_type": "markdown",
   "metadata": {
    "id": "TKLLQjZ_kqfs"
   },
   "source": [
    "Скрипт распознает женские и мужские имена"
   ]
  },
  {
   "cell_type": "code",
   "execution_count": 105,
   "metadata": {
    "colab": {
     "base_uri": "https://localhost:8080/"
    },
    "id": "6vcOrA2GRxqu",
    "outputId": "cb85a833-ffb4-4298-a407-696f76002256"
   },
   "outputs": [
    {
     "name": "stdout",
     "output_type": "stream",
     "text": [
      "Error by parsing name: Рустэм\n",
      "Error by parsing name: Габриель\n",
      "Error by parsing name: Лукий\n",
      "Error by parsing name: Таира\n",
      "Error by parsing name: Рустэм\n",
      "Error by parsing name: Габриель\n",
      "Error by parsing name: Габриель\n",
      "Error by parsing name: Габриель\n",
      "Error by parsing name: Таира\n"
     ]
    }
   ],
   "source": [
    "for  first_name in name_list:\n",
    "    parsed_word_list = morph.parse(first_name)\n",
    "    parsed_word = None\n",
    "\n",
    "    if len(parsed_word_list) > 1:\n",
    "        parsed_word_list_filtered = list(filter(lambda x: x.normal_form.lower() == first_name.lower(), parsed_word_list))\n",
    "        if not parsed_word_list_filtered:\n",
    "            # Алена -> Алёна\n",
    "            parsed_word_list_filtered = list(filter(lambda x: x.normal_form.lower() == first_name.lower().replace('е', 'ё'), parsed_word_list))\n",
    "            if not parsed_word_list_filtered:\n",
    "                print('Error by parsing name:', first_name)\n",
    "                continue\n",
    "\n",
    "            parsed_word = parsed_word_list_filtered[0]\n",
    "        else:\n",
    "            parsed_word = parsed_word_list_filtered[0]\n",
    "    else:\n",
    "        parsed_word = parsed_word_list[0]\n",
    "\n",
    "    gender = parsed_word.tag.gender\n",
    "\n",
    "    if gender == 'masc':\n",
    "        masc_name_list.append(first_name)\n",
    "    else:\n",
    "        femn_name_list.append(first_name)\n"
   ]
  },
  {
   "cell_type": "markdown",
   "metadata": {
    "id": "fFVmcJ5ZVwiV"
   },
   "source": [
    "Те имена, который скрипт не распознал внесем вручную"
   ]
  },
  {
   "cell_type": "code",
   "execution_count": 106,
   "metadata": {
    "id": "Zi67cz76V7YN"
   },
   "outputs": [],
   "source": [
    "masc_name_list.extend(['Рустэм','Габриель','Лукий','Рустэм'])"
   ]
  },
  {
   "cell_type": "code",
   "execution_count": 107,
   "metadata": {
    "id": "u8QNhIBfWp7G"
   },
   "outputs": [],
   "source": [
    "femn_name_list.extend(['Таира'])"
   ]
  },
  {
   "cell_type": "code",
   "execution_count": 108,
   "metadata": {
    "id": "w_MDiB8ASk1Z"
   },
   "outputs": [],
   "source": [
    "users['sex'] =np.nan"
   ]
  },
  {
   "cell_type": "code",
   "execution_count": 109,
   "metadata": {
    "colab": {
     "base_uri": "https://localhost:8080/"
    },
    "id": "AidM2TJAYQIM",
    "outputId": "a5f279ce-77c6-4ada-fa74-7c1db3f7b115"
   },
   "outputs": [
    {
     "name": "stderr",
     "output_type": "stream",
     "text": [
      "C:\\Users\\lavru\\AppData\\Local\\Temp\\ipykernel_9160\\237859998.py:3: SettingWithCopyWarning: \n",
      "A value is trying to be set on a copy of a slice from a DataFrame\n",
      "\n",
      "See the caveats in the documentation: https://pandas.pydata.org/pandas-docs/stable/user_guide/indexing.html#returning-a-view-versus-a-copy\n",
      "  users['sex'][i] = 'male'\n"
     ]
    }
   ],
   "source": [
    "for i, _ in users.iterrows():\n",
    "  if users['first_name'][i] in masc_name_list:\n",
    "    users['sex'][i] = 'male'\n",
    "  else:\n",
    "    users['sex'][i] = 'female'"
   ]
  },
  {
   "cell_type": "markdown",
   "metadata": {
    "id": "SFCnGZHFWXIs"
   },
   "source": [
    "Построим таблицу среднего значения количества мужчин и женщин, которые пользуются тарифом smart и ultra"
   ]
  },
  {
   "cell_type": "code",
   "execution_count": 110,
   "metadata": {
    "id": "Ktgdj4ByRtWS"
   },
   "outputs": [],
   "source": [
    "t = users.groupby(['tariff','sex'])['sex'].agg(['count']).reset_index()"
   ]
  },
  {
   "cell_type": "code",
   "execution_count": 111,
   "metadata": {
    "id": "W5Rjyy8lU8aK"
   },
   "outputs": [],
   "source": [
    "sum = t.groupby('tariff')['count'].agg(['sum'])"
   ]
  },
  {
   "cell_type": "code",
   "execution_count": 112,
   "metadata": {
    "id": "gnI34zT1V5aZ"
   },
   "outputs": [],
   "source": [
    "t = pd.merge(t,sum, how='inner', on = 'tariff')"
   ]
  },
  {
   "cell_type": "code",
   "execution_count": 113,
   "metadata": {
    "id": "bA-em3OwWJeA"
   },
   "outputs": [],
   "source": [
    "t['pct'] = (t['count'] / t['sum'])"
   ]
  },
  {
   "cell_type": "code",
   "execution_count": 114,
   "metadata": {
    "colab": {
     "base_uri": "https://localhost:8080/",
     "height": 175
    },
    "id": "qlSpcWghWS9g",
    "outputId": "76e668c1-6366-400a-cc33-74882bfee6e7"
   },
   "outputs": [
    {
     "data": {
      "text/html": [
       "<div>\n",
       "<style scoped>\n",
       "    .dataframe tbody tr th:only-of-type {\n",
       "        vertical-align: middle;\n",
       "    }\n",
       "\n",
       "    .dataframe tbody tr th {\n",
       "        vertical-align: top;\n",
       "    }\n",
       "\n",
       "    .dataframe thead th {\n",
       "        text-align: right;\n",
       "    }\n",
       "</style>\n",
       "<table border=\"1\" class=\"dataframe\">\n",
       "  <thead>\n",
       "    <tr style=\"text-align: right;\">\n",
       "      <th></th>\n",
       "      <th>tariff</th>\n",
       "      <th>sex</th>\n",
       "      <th>count</th>\n",
       "      <th>sum</th>\n",
       "      <th>pct</th>\n",
       "    </tr>\n",
       "  </thead>\n",
       "  <tbody>\n",
       "    <tr>\n",
       "      <th>0</th>\n",
       "      <td>smart</td>\n",
       "      <td>female</td>\n",
       "      <td>173</td>\n",
       "      <td>351</td>\n",
       "      <td>0.492877</td>\n",
       "    </tr>\n",
       "    <tr>\n",
       "      <th>1</th>\n",
       "      <td>smart</td>\n",
       "      <td>male</td>\n",
       "      <td>178</td>\n",
       "      <td>351</td>\n",
       "      <td>0.507123</td>\n",
       "    </tr>\n",
       "    <tr>\n",
       "      <th>2</th>\n",
       "      <td>ultra</td>\n",
       "      <td>female</td>\n",
       "      <td>83</td>\n",
       "      <td>149</td>\n",
       "      <td>0.557047</td>\n",
       "    </tr>\n",
       "    <tr>\n",
       "      <th>3</th>\n",
       "      <td>ultra</td>\n",
       "      <td>male</td>\n",
       "      <td>66</td>\n",
       "      <td>149</td>\n",
       "      <td>0.442953</td>\n",
       "    </tr>\n",
       "  </tbody>\n",
       "</table>\n",
       "</div>"
      ],
      "text/plain": [
       "  tariff     sex  count  sum       pct\n",
       "0  smart  female    173  351  0.492877\n",
       "1  smart    male    178  351  0.507123\n",
       "2  ultra  female     83  149  0.557047\n",
       "3  ultra    male     66  149  0.442953"
      ]
     },
     "execution_count": 114,
     "metadata": {},
     "output_type": "execute_result"
    }
   ],
   "source": [
    "t"
   ]
  },
  {
   "cell_type": "markdown",
   "metadata": {
    "id": "GG4PHSGeWiQb"
   },
   "source": [
    "Из данной таблицы мы видим, что для тарифа smart соотношения мужчин и женщин приблизительно одинаково. Однако тарифом ultra, чаще пользуются женщины, чем мужчины. Возможно это связано с тем, что женщины чаще пользуются интернетом (соц. сетями, просмотр видео и т.д.) и чаще звонят, поэтому они предпочитают использовать тариф ultra"
   ]
  },
  {
   "cell_type": "markdown",
   "metadata": {
    "id": "PmjSpBSvXOog"
   },
   "source": [
    "## Возраст абонентов"
   ]
  },
  {
   "cell_type": "code",
   "execution_count": 115,
   "metadata": {
    "colab": {
     "base_uri": "https://localhost:8080/",
     "height": 283
    },
    "id": "G7yvycyFXbwI",
    "outputId": "7b41b8af-9230-4b37-c1ad-b1abc59eb589"
   },
   "outputs": [
    {
     "data": {
      "text/plain": [
       "<AxesSubplot:>"
      ]
     },
     "execution_count": 115,
     "metadata": {},
     "output_type": "execute_result"
    },
    {
     "data": {
      "image/png": "[encoded data removed]",
      "text/plain": [
       "<Figure size 432x288 with 1 Axes>"
      ]
     },
     "metadata": {
      "needs_background": "light"
     },
     "output_type": "display_data"
    }
   ],
   "source": [
    "users.query('sex==\"male\"')['age'].sort_values().hist(bins=50)"
   ]
  },
  {
   "cell_type": "code",
   "execution_count": 116,
   "metadata": {
    "id": "vLoj83srYO-A"
   },
   "outputs": [],
   "source": [
    "users['group_age'] = pd.cut(users['age'], [0,20,30,40,50,60,70,100], \n",
    "                            labels=['до 20','20-30','30-40','40-50','50-60','60-70','старше 70'])"
   ]
  },
  {
   "cell_type": "code",
   "execution_count": 117,
   "metadata": {
    "colab": {
     "base_uri": "https://localhost:8080/"
    },
    "id": "ojZwPcvJZqdH",
    "outputId": "4f615c54-cde9-4029-e48e-8cda5930eccc"
   },
   "outputs": [
    {
     "data": {
      "text/plain": [
       "group_age\n",
       "до 20        24\n",
       "20-30        91\n",
       "30-40        80\n",
       "40-50        89\n",
       "50-60        84\n",
       "60-70        89\n",
       "старше 70    43\n",
       "dtype: int64"
      ]
     },
     "execution_count": 117,
     "metadata": {},
     "output_type": "execute_result"
    }
   ],
   "source": [
    "pd.DataFrame(users['group_age']).sort_values(by='group_age').value_counts( sort=False)"
   ]
  },
  {
   "cell_type": "markdown",
   "metadata": {
    "id": "llaf6GXJX-a_"
   },
   "source": [
    "Распределение возраста в данном случае отличается от нормального(возможно из-за предоставленной выборки). У нас одинаковое кол-во людей в возрастных группах: 20-30, 30-40, 40-50, 50-60, 60-70."
   ]
  },
  {
   "cell_type": "code",
   "execution_count": 118,
   "metadata": {
    "colab": {
     "base_uri": "https://localhost:8080/"
    },
    "id": "RlsiVzsCdi92",
    "outputId": "ee874057-d064-4f93-fba7-464322671ef6"
   },
   "outputs": [
    {
     "data": {
      "text/plain": [
       "group_age\n",
       "до 20         8\n",
       "20-30        28\n",
       "30-40        23\n",
       "40-50        25\n",
       "50-60        23\n",
       "60-70        28\n",
       "старше 70    14\n",
       "dtype: int64"
      ]
     },
     "execution_count": 118,
     "metadata": {},
     "output_type": "execute_result"
    }
   ],
   "source": [
    "(pd.DataFrame(users.query('tariff==\"ultra\"')['group_age'])\n",
    ".sort_values(by='group_age').value_counts( sort=False))"
   ]
  },
  {
   "cell_type": "code",
   "execution_count": 119,
   "metadata": {
    "colab": {
     "base_uri": "https://localhost:8080/"
    },
    "id": "rC6rU1-KfN1H",
    "outputId": "3e29d7f7-5723-4e7e-b7d8-315ebcca44b0"
   },
   "outputs": [
    {
     "data": {
      "text/plain": [
       "group_age\n",
       "до 20        16\n",
       "20-30        63\n",
       "30-40        57\n",
       "40-50        64\n",
       "50-60        61\n",
       "60-70        61\n",
       "старше 70    29\n",
       "dtype: int64"
      ]
     },
     "execution_count": 119,
     "metadata": {},
     "output_type": "execute_result"
    }
   ],
   "source": [
    "(pd.DataFrame(users.query('tariff==\"smart\"')['group_age'])\n",
    ".sort_values(by='group_age').value_counts( sort=False))"
   ]
  },
  {
   "cell_type": "markdown",
   "metadata": {
    "id": "8P4HMNB7fQ7m"
   },
   "source": [
    "По тарифам мы имеем аналогичную ситуацию, как и с возрастом в целом в независимости от тарифов. На таких данных сложно дать уверенные выводы о том какая возрастная категория предпочитает, тот или иной тариф, кол-во наблюдений (пользователей) слишком мало"
   ]
  },
  {
   "cell_type": "markdown",
   "metadata": {
    "id": "3aILL_0piUSk"
   },
   "source": [
    "## Анализ поведения пользователей"
   ]
  },
  {
   "cell_type": "markdown",
   "metadata": {
    "id": "Uggz3r1CwpEM"
   },
   "source": [
    "### Звонки"
   ]
  },
  {
   "cell_type": "markdown",
   "metadata": {
    "id": "6yG-hXRXJYnm"
   },
   "source": [
    "Как будем соединять таблицы?  \n",
    "Для таблицы users мы проставим все месяца от 1 до 12 для каждого пользователя. Таким образом строк будет 6000. Далее к этой таблице через left join мы будем присоединять другие таблицы по столбцам месяца и пользователя, в таком случае не одна строка не потеряется. Далее произведем необходимые расчеты"
   ]
  },
  {
   "cell_type": "code",
   "execution_count": 120,
   "metadata": {
    "id": "esM9ozAg56N3"
   },
   "outputs": [],
   "source": [
    "dates = range(1,13)"
   ]
  },
  {
   "cell_type": "code",
   "execution_count": 121,
   "metadata": {
    "id": "ZKUfFHq_CA0s"
   },
   "outputs": [],
   "source": [
    "users[\"month\"] = [dates] * len(users)"
   ]
  },
  {
   "cell_type": "code",
   "execution_count": 122,
   "metadata": {
    "id": "KKFv8MWGCGZ0"
   },
   "outputs": [],
   "source": [
    "users = users.explode(\"month\")"
   ]
  },
  {
   "cell_type": "code",
   "execution_count": 123,
   "metadata": {
    "colab": {
     "base_uri": "https://localhost:8080/",
     "height": 457
    },
    "id": "UrQbVbCsKTc5",
    "outputId": "000412b8-9ff0-4fc2-e5e5-d52ee9b3201a"
   },
   "outputs": [
    {
     "data": {
      "text/html": [
       "<div>\n",
       "<style scoped>\n",
       "    .dataframe tbody tr th:only-of-type {\n",
       "        vertical-align: middle;\n",
       "    }\n",
       "\n",
       "    .dataframe tbody tr th {\n",
       "        vertical-align: top;\n",
       "    }\n",
       "\n",
       "    .dataframe thead th {\n",
       "        text-align: right;\n",
       "    }\n",
       "</style>\n",
       "<table border=\"1\" class=\"dataframe\">\n",
       "  <thead>\n",
       "    <tr style=\"text-align: right;\">\n",
       "      <th></th>\n",
       "      <th>user_id</th>\n",
       "      <th>age</th>\n",
       "      <th>churn_date</th>\n",
       "      <th>city</th>\n",
       "      <th>first_name</th>\n",
       "      <th>last_name</th>\n",
       "      <th>reg_date</th>\n",
       "      <th>tariff</th>\n",
       "      <th>tariff_cat</th>\n",
       "      <th>sex</th>\n",
       "      <th>group_age</th>\n",
       "      <th>month</th>\n",
       "    </tr>\n",
       "  </thead>\n",
       "  <tbody>\n",
       "    <tr>\n",
       "      <th>0</th>\n",
       "      <td>1000</td>\n",
       "      <td>52</td>\n",
       "      <td>NaN</td>\n",
       "      <td>Краснодар</td>\n",
       "      <td>Рафаил</td>\n",
       "      <td>Верещагин</td>\n",
       "      <td>2018-05-25</td>\n",
       "      <td>ultra</td>\n",
       "      <td>1</td>\n",
       "      <td>male</td>\n",
       "      <td>50-60</td>\n",
       "      <td>1</td>\n",
       "    </tr>\n",
       "    <tr>\n",
       "      <th>0</th>\n",
       "      <td>1000</td>\n",
       "      <td>52</td>\n",
       "      <td>NaN</td>\n",
       "      <td>Краснодар</td>\n",
       "      <td>Рафаил</td>\n",
       "      <td>Верещагин</td>\n",
       "      <td>2018-05-25</td>\n",
       "      <td>ultra</td>\n",
       "      <td>1</td>\n",
       "      <td>male</td>\n",
       "      <td>50-60</td>\n",
       "      <td>2</td>\n",
       "    </tr>\n",
       "    <tr>\n",
       "      <th>0</th>\n",
       "      <td>1000</td>\n",
       "      <td>52</td>\n",
       "      <td>NaN</td>\n",
       "      <td>Краснодар</td>\n",
       "      <td>Рафаил</td>\n",
       "      <td>Верещагин</td>\n",
       "      <td>2018-05-25</td>\n",
       "      <td>ultra</td>\n",
       "      <td>1</td>\n",
       "      <td>male</td>\n",
       "      <td>50-60</td>\n",
       "      <td>3</td>\n",
       "    </tr>\n",
       "    <tr>\n",
       "      <th>0</th>\n",
       "      <td>1000</td>\n",
       "      <td>52</td>\n",
       "      <td>NaN</td>\n",
       "      <td>Краснодар</td>\n",
       "      <td>Рафаил</td>\n",
       "      <td>Верещагин</td>\n",
       "      <td>2018-05-25</td>\n",
       "      <td>ultra</td>\n",
       "      <td>1</td>\n",
       "      <td>male</td>\n",
       "      <td>50-60</td>\n",
       "      <td>4</td>\n",
       "    </tr>\n",
       "    <tr>\n",
       "      <th>0</th>\n",
       "      <td>1000</td>\n",
       "      <td>52</td>\n",
       "      <td>NaN</td>\n",
       "      <td>Краснодар</td>\n",
       "      <td>Рафаил</td>\n",
       "      <td>Верещагин</td>\n",
       "      <td>2018-05-25</td>\n",
       "      <td>ultra</td>\n",
       "      <td>1</td>\n",
       "      <td>male</td>\n",
       "      <td>50-60</td>\n",
       "      <td>5</td>\n",
       "    </tr>\n",
       "    <tr>\n",
       "      <th>0</th>\n",
       "      <td>1000</td>\n",
       "      <td>52</td>\n",
       "      <td>NaN</td>\n",
       "      <td>Краснодар</td>\n",
       "      <td>Рафаил</td>\n",
       "      <td>Верещагин</td>\n",
       "      <td>2018-05-25</td>\n",
       "      <td>ultra</td>\n",
       "      <td>1</td>\n",
       "      <td>male</td>\n",
       "      <td>50-60</td>\n",
       "      <td>6</td>\n",
       "    </tr>\n",
       "    <tr>\n",
       "      <th>0</th>\n",
       "      <td>1000</td>\n",
       "      <td>52</td>\n",
       "      <td>NaN</td>\n",
       "      <td>Краснодар</td>\n",
       "      <td>Рафаил</td>\n",
       "      <td>Верещагин</td>\n",
       "      <td>2018-05-25</td>\n",
       "      <td>ultra</td>\n",
       "      <td>1</td>\n",
       "      <td>male</td>\n",
       "      <td>50-60</td>\n",
       "      <td>7</td>\n",
       "    </tr>\n",
       "    <tr>\n",
       "      <th>0</th>\n",
       "      <td>1000</td>\n",
       "      <td>52</td>\n",
       "      <td>NaN</td>\n",
       "      <td>Краснодар</td>\n",
       "      <td>Рафаил</td>\n",
       "      <td>Верещагин</td>\n",
       "      <td>2018-05-25</td>\n",
       "      <td>ultra</td>\n",
       "      <td>1</td>\n",
       "      <td>male</td>\n",
       "      <td>50-60</td>\n",
       "      <td>8</td>\n",
       "    </tr>\n",
       "    <tr>\n",
       "      <th>0</th>\n",
       "      <td>1000</td>\n",
       "      <td>52</td>\n",
       "      <td>NaN</td>\n",
       "      <td>Краснодар</td>\n",
       "      <td>Рафаил</td>\n",
       "      <td>Верещагин</td>\n",
       "      <td>2018-05-25</td>\n",
       "      <td>ultra</td>\n",
       "      <td>1</td>\n",
       "      <td>male</td>\n",
       "      <td>50-60</td>\n",
       "      <td>9</td>\n",
       "    </tr>\n",
       "    <tr>\n",
       "      <th>0</th>\n",
       "      <td>1000</td>\n",
       "      <td>52</td>\n",
       "      <td>NaN</td>\n",
       "      <td>Краснодар</td>\n",
       "      <td>Рафаил</td>\n",
       "      <td>Верещагин</td>\n",
       "      <td>2018-05-25</td>\n",
       "      <td>ultra</td>\n",
       "      <td>1</td>\n",
       "      <td>male</td>\n",
       "      <td>50-60</td>\n",
       "      <td>10</td>\n",
       "    </tr>\n",
       "    <tr>\n",
       "      <th>0</th>\n",
       "      <td>1000</td>\n",
       "      <td>52</td>\n",
       "      <td>NaN</td>\n",
       "      <td>Краснодар</td>\n",
       "      <td>Рафаил</td>\n",
       "      <td>Верещагин</td>\n",
       "      <td>2018-05-25</td>\n",
       "      <td>ultra</td>\n",
       "      <td>1</td>\n",
       "      <td>male</td>\n",
       "      <td>50-60</td>\n",
       "      <td>11</td>\n",
       "    </tr>\n",
       "    <tr>\n",
       "      <th>0</th>\n",
       "      <td>1000</td>\n",
       "      <td>52</td>\n",
       "      <td>NaN</td>\n",
       "      <td>Краснодар</td>\n",
       "      <td>Рафаил</td>\n",
       "      <td>Верещагин</td>\n",
       "      <td>2018-05-25</td>\n",
       "      <td>ultra</td>\n",
       "      <td>1</td>\n",
       "      <td>male</td>\n",
       "      <td>50-60</td>\n",
       "      <td>12</td>\n",
       "    </tr>\n",
       "    <tr>\n",
       "      <th>1</th>\n",
       "      <td>1001</td>\n",
       "      <td>41</td>\n",
       "      <td>NaN</td>\n",
       "      <td>Москва</td>\n",
       "      <td>Иван</td>\n",
       "      <td>Ежов</td>\n",
       "      <td>2018-11-01</td>\n",
       "      <td>smart</td>\n",
       "      <td>0</td>\n",
       "      <td>male</td>\n",
       "      <td>40-50</td>\n",
       "      <td>1</td>\n",
       "    </tr>\n",
       "  </tbody>\n",
       "</table>\n",
       "</div>"
      ],
      "text/plain": [
       "   user_id  age churn_date       city first_name  last_name   reg_date tariff  \\\n",
       "0     1000   52        NaN  Краснодар     Рафаил  Верещагин 2018-05-25  ultra   \n",
       "0     1000   52        NaN  Краснодар     Рафаил  Верещагин 2018-05-25  ultra   \n",
       "0     1000   52        NaN  Краснодар     Рафаил  Верещагин 2018-05-25  ultra   \n",
       "0     1000   52        NaN  Краснодар     Рафаил  Верещагин 2018-05-25  ultra   \n",
       "0     1000   52        NaN  Краснодар     Рафаил  Верещагин 2018-05-25  ultra   \n",
       "0     1000   52        NaN  Краснодар     Рафаил  Верещагин 2018-05-25  ultra   \n",
       "0     1000   52        NaN  Краснодар     Рафаил  Верещагин 2018-05-25  ultra   \n",
       "0     1000   52        NaN  Краснодар     Рафаил  Верещагин 2018-05-25  ultra   \n",
       "0     1000   52        NaN  Краснодар     Рафаил  Верещагин 2018-05-25  ultra   \n",
       "0     1000   52        NaN  Краснодар     Рафаил  Верещагин 2018-05-25  ultra   \n",
       "0     1000   52        NaN  Краснодар     Рафаил  Верещагин 2018-05-25  ultra   \n",
       "0     1000   52        NaN  Краснодар     Рафаил  Верещагин 2018-05-25  ultra   \n",
       "1     1001   41        NaN     Москва       Иван       Ежов 2018-11-01  smart   \n",
       "\n",
       "   tariff_cat   sex group_age month  \n",
       "0           1  male     50-60     1  \n",
       "0           1  male     50-60     2  \n",
       "0           1  male     50-60     3  \n",
       "0           1  male     50-60     4  \n",
       "0           1  male     50-60     5  \n",
       "0           1  male     50-60     6  \n",
       "0           1  male     50-60     7  \n",
       "0           1  male     50-60     8  \n",
       "0           1  male     50-60     9  \n",
       "0           1  male     50-60    10  \n",
       "0           1  male     50-60    11  \n",
       "0           1  male     50-60    12  \n",
       "1           0  male     40-50     1  "
      ]
     },
     "execution_count": 123,
     "metadata": {},
     "output_type": "execute_result"
    }
   ],
   "source": [
    "users.head(13)"
   ]
  },
  {
   "cell_type": "markdown",
   "metadata": {
    "id": "ITgwbZdmKaED"
   },
   "source": [
    "Добавили к каждому пользователю месяц от 1 до 12 "
   ]
  },
  {
   "cell_type": "code",
   "execution_count": 124,
   "metadata": {
    "id": "8H_5k4mhjDFx"
   },
   "outputs": [],
   "source": [
    "t = pd.merge(users[['user_id','tariff','month']], \n",
    "               calls[['user_id','duration','calls_month']],\n",
    "                       how='left', left_on=['user_id','month'],\n",
    "             right_on=['user_id','calls_month'])"
   ]
  },
  {
   "cell_type": "markdown",
   "metadata": {
    "id": "4WeKD9cLk98n"
   },
   "source": [
    "Объединили таблицы users и calls.Посмотрим, все ли данные на месте"
   ]
  },
  {
   "cell_type": "code",
   "execution_count": 125,
   "metadata": {
    "colab": {
     "base_uri": "https://localhost:8080/"
    },
    "id": "d1ggWXpejqKM",
    "outputId": "9f30ba8f-c64a-4735-c310-11df56441a05"
   },
   "outputs": [
    {
     "data": {
      "text/plain": [
       "1450301.0"
      ]
     },
     "execution_count": 125,
     "metadata": {},
     "output_type": "execute_result"
    }
   ],
   "source": [
    "t['duration'].sum()"
   ]
  },
  {
   "cell_type": "code",
   "execution_count": 126,
   "metadata": {
    "colab": {
     "base_uri": "https://localhost:8080/"
    },
    "id": "Mhw9NiHrkcv0",
    "outputId": "86176e18-e666-472f-ec37-8f6209fe73e0"
   },
   "outputs": [
    {
     "data": {
      "text/plain": [
       "1450301.0"
      ]
     },
     "execution_count": 126,
     "metadata": {},
     "output_type": "execute_result"
    }
   ],
   "source": [
    "calls['duration'].sum()"
   ]
  },
  {
   "cell_type": "markdown",
   "metadata": {
    "id": "NhEf4Wh5lHh8"
   },
   "source": [
    "Отлично все сходится"
   ]
  },
  {
   "cell_type": "markdown",
   "metadata": {
    "id": "WVOX87Velpts"
   },
   "source": [
    "Стоит отметить, что пользователи, которые поменяли тариф учитываются. В таблице user_call_dur для пользователей, которые сменили тариф считаются все данные (сумма минут звонков и т.д.) от момента регистрации до смены тарифа. Для других пользователей (кто не менял тариф) данные будут учитыватся от начала и до конца года т.е.  от 1 до 12 месяца"
   ]
  },
  {
   "cell_type": "markdown",
   "metadata": {
    "id": "v5NekWB9orSf"
   },
   "source": [
    "Посчитаем общее кол-во звонков и кол-во потраченых минут за эти звонки"
   ]
  },
  {
   "cell_type": "code",
   "execution_count": 127,
   "metadata": {
    "id": "fiEKaNduLgtp"
   },
   "outputs": [],
   "source": [
    "main = t.groupby(['user_id','month'])['duration'].agg(['count','sum']).reset_index()"
   ]
  },
  {
   "cell_type": "code",
   "execution_count": 128,
   "metadata": {
    "colab": {
     "base_uri": "https://localhost:8080/",
     "height": 49
    },
    "id": "yhJpWNdHLTWB",
    "outputId": "53e8f7cc-7d8e-4b61-e0d9-d9220f354cba"
   },
   "outputs": [
    {
     "data": {
      "text/html": [
       "<div>\n",
       "<style scoped>\n",
       "    .dataframe tbody tr th:only-of-type {\n",
       "        vertical-align: middle;\n",
       "    }\n",
       "\n",
       "    .dataframe tbody tr th {\n",
       "        vertical-align: top;\n",
       "    }\n",
       "\n",
       "    .dataframe thead th {\n",
       "        text-align: right;\n",
       "    }\n",
       "</style>\n",
       "<table border=\"1\" class=\"dataframe\">\n",
       "  <thead>\n",
       "    <tr style=\"text-align: right;\">\n",
       "      <th></th>\n",
       "      <th>user_id</th>\n",
       "      <th>month</th>\n",
       "      <th>count</th>\n",
       "      <th>sum</th>\n",
       "    </tr>\n",
       "  </thead>\n",
       "  <tbody>\n",
       "  </tbody>\n",
       "</table>\n",
       "</div>"
      ],
      "text/plain": [
       "Empty DataFrame\n",
       "Columns: [user_id, month, count, sum]\n",
       "Index: []"
      ]
     },
     "execution_count": 128,
     "metadata": {},
     "output_type": "execute_result"
    }
   ],
   "source": [
    "main[(main['count'] > 0) & (main['sum'] == 0)]"
   ]
  },
  {
   "cell_type": "markdown",
   "metadata": {
    "id": "uU46470BLyCz"
   },
   "source": [
    "В данной таблице нет значений, это означает, что нет данных в которых кол-во звонков было больше 0, а общая сумма минут таких звонков = 0. Значит, значения count = 0 и sum = 0 при count = 0 можем заменить на np.nan "
   ]
  },
  {
   "cell_type": "code",
   "execution_count": 129,
   "metadata": {
    "id": "cvCckTn81S0-"
   },
   "outputs": [],
   "source": [
    "main['count'] = main.apply(lambda x: np.nan if x['count'] == 0 else x['count'], axis= 1 )"
   ]
  },
  {
   "cell_type": "code",
   "execution_count": 130,
   "metadata": {
    "id": "pIAeBsZY13J-"
   },
   "outputs": [],
   "source": [
    "main['sum'] = main.apply(lambda x: np.nan if (x['sum'] == 0) and \n",
    "                         (np.isnan(x['count']) == True) else x['sum'], axis= 1 )"
   ]
  },
  {
   "cell_type": "code",
   "execution_count": 267,
   "metadata": {
    "colab": {
     "base_uri": "https://localhost:8080/",
     "height": 423
    },
    "id": "bJjOjX7b39rU",
    "outputId": "9b42fbcd-e258-4712-8db8-03fd3cf90717"
   },
   "outputs": [
    {
     "data": {
      "text/html": [
       "<div>\n",
       "<style scoped>\n",
       "    .dataframe tbody tr th:only-of-type {\n",
       "        vertical-align: middle;\n",
       "    }\n",
       "\n",
       "    .dataframe tbody tr th {\n",
       "        vertical-align: top;\n",
       "    }\n",
       "\n",
       "    .dataframe thead th {\n",
       "        text-align: right;\n",
       "    }\n",
       "</style>\n",
       "<table border=\"1\" class=\"dataframe\">\n",
       "  <thead>\n",
       "    <tr style=\"text-align: right;\">\n",
       "      <th></th>\n",
       "      <th>user_id</th>\n",
       "      <th>tariff</th>\n",
       "      <th>month</th>\n",
       "      <th>rub_monthly_fee</th>\n",
       "      <th>calls_count</th>\n",
       "      <th>minutes_sum</th>\n",
       "      <th>minutes_included</th>\n",
       "      <th>rub_per_minute</th>\n",
       "      <th>diff_min</th>\n",
       "      <th>price_add_min</th>\n",
       "      <th>mess_count</th>\n",
       "      <th>messages_included</th>\n",
       "      <th>rub_per_message</th>\n",
       "      <th>diff_mess</th>\n",
       "      <th>price_add_mess</th>\n",
       "      <th>internet_month</th>\n",
       "      <th>int_count</th>\n",
       "      <th>int_sum_MB</th>\n",
       "      <th>mb_per_month_included</th>\n",
       "      <th>rub_per_gb</th>\n",
       "      <th>tariff_name</th>\n",
       "      <th>diff_MB</th>\n",
       "      <th>diff_GB</th>\n",
       "      <th>diff_GB_round</th>\n",
       "      <th>price_add_GB</th>\n",
       "      <th>revenue</th>\n",
       "    </tr>\n",
       "  </thead>\n",
       "  <tbody>\n",
       "    <tr>\n",
       "      <th>0</th>\n",
       "      <td>1000</td>\n",
       "      <td>ultra</td>\n",
       "      <td>1</td>\n",
       "      <td>1950</td>\n",
       "      <td>NaN</td>\n",
       "      <td>NaN</td>\n",
       "      <td>3000</td>\n",
       "      <td>1</td>\n",
       "      <td>NaN</td>\n",
       "      <td>0.0</td>\n",
       "      <td>NaN</td>\n",
       "      <td>1000</td>\n",
       "      <td>1</td>\n",
       "      <td>NaN</td>\n",
       "      <td>0.0</td>\n",
       "      <td>NaN</td>\n",
       "      <td>NaN</td>\n",
       "      <td>NaN</td>\n",
       "      <td>30720</td>\n",
       "      <td>150</td>\n",
       "      <td>ultra</td>\n",
       "      <td>NaN</td>\n",
       "      <td>NaN</td>\n",
       "      <td>NaN</td>\n",
       "      <td>0.0</td>\n",
       "      <td>NaN</td>\n",
       "    </tr>\n",
       "    <tr>\n",
       "      <th>1</th>\n",
       "      <td>1000</td>\n",
       "      <td>ultra</td>\n",
       "      <td>2</td>\n",
       "      <td>1950</td>\n",
       "      <td>NaN</td>\n",
       "      <td>NaN</td>\n",
       "      <td>3000</td>\n",
       "      <td>1</td>\n",
       "      <td>NaN</td>\n",
       "      <td>0.0</td>\n",
       "      <td>NaN</td>\n",
       "      <td>1000</td>\n",
       "      <td>1</td>\n",
       "      <td>NaN</td>\n",
       "      <td>0.0</td>\n",
       "      <td>NaN</td>\n",
       "      <td>NaN</td>\n",
       "      <td>NaN</td>\n",
       "      <td>30720</td>\n",
       "      <td>150</td>\n",
       "      <td>ultra</td>\n",
       "      <td>NaN</td>\n",
       "      <td>NaN</td>\n",
       "      <td>NaN</td>\n",
       "      <td>0.0</td>\n",
       "      <td>NaN</td>\n",
       "    </tr>\n",
       "    <tr>\n",
       "      <th>2</th>\n",
       "      <td>1000</td>\n",
       "      <td>ultra</td>\n",
       "      <td>3</td>\n",
       "      <td>1950</td>\n",
       "      <td>NaN</td>\n",
       "      <td>NaN</td>\n",
       "      <td>3000</td>\n",
       "      <td>1</td>\n",
       "      <td>NaN</td>\n",
       "      <td>0.0</td>\n",
       "      <td>NaN</td>\n",
       "      <td>1000</td>\n",
       "      <td>1</td>\n",
       "      <td>NaN</td>\n",
       "      <td>0.0</td>\n",
       "      <td>NaN</td>\n",
       "      <td>NaN</td>\n",
       "      <td>NaN</td>\n",
       "      <td>30720</td>\n",
       "      <td>150</td>\n",
       "      <td>ultra</td>\n",
       "      <td>NaN</td>\n",
       "      <td>NaN</td>\n",
       "      <td>NaN</td>\n",
       "      <td>0.0</td>\n",
       "      <td>NaN</td>\n",
       "    </tr>\n",
       "    <tr>\n",
       "      <th>3</th>\n",
       "      <td>1000</td>\n",
       "      <td>ultra</td>\n",
       "      <td>4</td>\n",
       "      <td>1950</td>\n",
       "      <td>NaN</td>\n",
       "      <td>NaN</td>\n",
       "      <td>3000</td>\n",
       "      <td>1</td>\n",
       "      <td>NaN</td>\n",
       "      <td>0.0</td>\n",
       "      <td>NaN</td>\n",
       "      <td>1000</td>\n",
       "      <td>1</td>\n",
       "      <td>NaN</td>\n",
       "      <td>0.0</td>\n",
       "      <td>NaN</td>\n",
       "      <td>NaN</td>\n",
       "      <td>NaN</td>\n",
       "      <td>30720</td>\n",
       "      <td>150</td>\n",
       "      <td>ultra</td>\n",
       "      <td>NaN</td>\n",
       "      <td>NaN</td>\n",
       "      <td>NaN</td>\n",
       "      <td>0.0</td>\n",
       "      <td>NaN</td>\n",
       "    </tr>\n",
       "    <tr>\n",
       "      <th>4</th>\n",
       "      <td>1000</td>\n",
       "      <td>ultra</td>\n",
       "      <td>5</td>\n",
       "      <td>1950</td>\n",
       "      <td>17.0</td>\n",
       "      <td>159.0</td>\n",
       "      <td>3000</td>\n",
       "      <td>1</td>\n",
       "      <td>2841.0</td>\n",
       "      <td>0.0</td>\n",
       "      <td>22.0</td>\n",
       "      <td>1000</td>\n",
       "      <td>1</td>\n",
       "      <td>978.0</td>\n",
       "      <td>0.0</td>\n",
       "      <td>5.0</td>\n",
       "      <td>4.0</td>\n",
       "      <td>2256.0</td>\n",
       "      <td>30720</td>\n",
       "      <td>150</td>\n",
       "      <td>ultra</td>\n",
       "      <td>28464.0</td>\n",
       "      <td>27.796875</td>\n",
       "      <td>27.0</td>\n",
       "      <td>0.0</td>\n",
       "      <td>1950.0</td>\n",
       "    </tr>\n",
       "  </tbody>\n",
       "</table>\n",
       "</div>"
      ],
      "text/plain": [
       "   user_id tariff  month  rub_monthly_fee  calls_count  minutes_sum  \\\n",
       "0     1000  ultra      1             1950          NaN          NaN   \n",
       "1     1000  ultra      2             1950          NaN          NaN   \n",
       "2     1000  ultra      3             1950          NaN          NaN   \n",
       "3     1000  ultra      4             1950          NaN          NaN   \n",
       "4     1000  ultra      5             1950         17.0        159.0   \n",
       "\n",
       "   minutes_included  rub_per_minute  diff_min  price_add_min  mess_count  \\\n",
       "0              3000               1       NaN            0.0         NaN   \n",
       "1              3000               1       NaN            0.0         NaN   \n",
       "2              3000               1       NaN            0.0         NaN   \n",
       "3              3000               1       NaN            0.0         NaN   \n",
       "4              3000               1    2841.0            0.0        22.0   \n",
       "\n",
       "   messages_included  rub_per_message  diff_mess  price_add_mess  \\\n",
       "0               1000                1        NaN             0.0   \n",
       "1               1000                1        NaN             0.0   \n",
       "2               1000                1        NaN             0.0   \n",
       "3               1000                1        NaN             0.0   \n",
       "4               1000                1      978.0             0.0   \n",
       "\n",
       "   internet_month  int_count  int_sum_MB  mb_per_month_included  rub_per_gb  \\\n",
       "0             NaN        NaN         NaN                  30720         150   \n",
       "1             NaN        NaN         NaN                  30720         150   \n",
       "2             NaN        NaN         NaN                  30720         150   \n",
       "3             NaN        NaN         NaN                  30720         150   \n",
       "4             5.0        4.0      2256.0                  30720         150   \n",
       "\n",
       "  tariff_name  diff_MB    diff_GB  diff_GB_round  price_add_GB  revenue  \n",
       "0       ultra      NaN        NaN            NaN           0.0      NaN  \n",
       "1       ultra      NaN        NaN            NaN           0.0      NaN  \n",
       "2       ultra      NaN        NaN            NaN           0.0      NaN  \n",
       "3       ultra      NaN        NaN            NaN           0.0      NaN  \n",
       "4       ultra  28464.0  27.796875           27.0           0.0   1950.0  "
      ]
     },
     "execution_count": 267,
     "metadata": {},
     "output_type": "execute_result"
    }
   ],
   "source": [
    "main.head()"
   ]
  },
  {
   "cell_type": "markdown",
   "metadata": {
    "id": "D-Bc4xmINcCS"
   },
   "source": [
    "Замену сделали правильно"
   ]
  },
  {
   "cell_type": "markdown",
   "metadata": {
    "id": "7e-lfkd_pFfS"
   },
   "source": [
    "Добавим тарифы к нашей таблице"
   ]
  },
  {
   "cell_type": "code",
   "execution_count": 132,
   "metadata": {
    "id": "83m2aJcIlXKx"
   },
   "outputs": [],
   "source": [
    "main = pd.merge(main, users[['user_id','tariff']],\n",
    "                       how='inner', on='user_id')"
   ]
  },
  {
   "cell_type": "markdown",
   "metadata": {
    "id": "oVJ9EEEpI9Fq"
   },
   "source": [
    "Проверим таблицу на наличие дублей"
   ]
  },
  {
   "cell_type": "code",
   "execution_count": 133,
   "metadata": {
    "colab": {
     "base_uri": "https://localhost:8080/"
    },
    "id": "ctcXArwmIyTy",
    "outputId": "d91fe99c-5ca1-42b9-927a-547ac143f89e"
   },
   "outputs": [
    {
     "data": {
      "text/plain": [
       "17403612.0"
      ]
     },
     "execution_count": 133,
     "metadata": {},
     "output_type": "execute_result"
    }
   ],
   "source": [
    "main['sum'].sum()"
   ]
  },
  {
   "cell_type": "markdown",
   "metadata": {
    "id": "CRUb7R98I_yL"
   },
   "source": [
    "Да они есть - удалим дубли"
   ]
  },
  {
   "cell_type": "code",
   "execution_count": 134,
   "metadata": {
    "id": "CCcKyQjVI44f"
   },
   "outputs": [],
   "source": [
    "main = main.drop_duplicates()"
   ]
  },
  {
   "cell_type": "markdown",
   "metadata": {
    "id": "2hHQqo-8JB55"
   },
   "source": [
    "Проверим результат"
   ]
  },
  {
   "cell_type": "code",
   "execution_count": 135,
   "metadata": {
    "colab": {
     "base_uri": "https://localhost:8080/"
    },
    "id": "YVmN4qMxI7MD",
    "outputId": "9d27ba70-60e4-4657-d96c-a325863460d4"
   },
   "outputs": [
    {
     "data": {
      "text/plain": [
       "1450301.0"
      ]
     },
     "execution_count": 135,
     "metadata": {},
     "output_type": "execute_result"
    }
   ],
   "source": [
    "main['sum'].sum()"
   ]
  },
  {
   "cell_type": "code",
   "execution_count": 136,
   "metadata": {
    "colab": {
     "base_uri": "https://localhost:8080/"
    },
    "id": "geqbMsPf09Nn",
    "outputId": "9777a1de-423a-4646-8b22-98f8dd9ffa86"
   },
   "outputs": [
    {
     "data": {
      "text/plain": [
       "1450301.0"
      ]
     },
     "execution_count": 136,
     "metadata": {},
     "output_type": "execute_result"
    }
   ],
   "source": [
    "calls['duration'].sum()"
   ]
  },
  {
   "cell_type": "markdown",
   "metadata": {
    "id": "LwNATr0lJDvp"
   },
   "source": [
    "Отлично все сходится"
   ]
  },
  {
   "cell_type": "markdown",
   "metadata": {
    "id": "uxw_0TOgpMWH"
   },
   "source": [
    "Теперь добавим всю тарифную сетку к таблице"
   ]
  },
  {
   "cell_type": "code",
   "execution_count": 137,
   "metadata": {
    "id": "zb8VydFsnQmz"
   },
   "outputs": [],
   "source": [
    "main = pd.merge(main, tariffs,\n",
    "                       how='inner', left_on='tariff',right_on = 'tariff_name')"
   ]
  },
  {
   "cell_type": "code",
   "execution_count": 268,
   "metadata": {
    "colab": {
     "base_uri": "https://localhost:8080/",
     "height": 487
    },
    "id": "ZlArPwtV27A7",
    "outputId": "cad6f5c5-5bf7-4f90-f6a0-6d3f8c1844b6"
   },
   "outputs": [
    {
     "data": {
      "text/html": [
       "<div>\n",
       "<style scoped>\n",
       "    .dataframe tbody tr th:only-of-type {\n",
       "        vertical-align: middle;\n",
       "    }\n",
       "\n",
       "    .dataframe tbody tr th {\n",
       "        vertical-align: top;\n",
       "    }\n",
       "\n",
       "    .dataframe thead th {\n",
       "        text-align: right;\n",
       "    }\n",
       "</style>\n",
       "<table border=\"1\" class=\"dataframe\">\n",
       "  <thead>\n",
       "    <tr style=\"text-align: right;\">\n",
       "      <th></th>\n",
       "      <th>user_id</th>\n",
       "      <th>tariff</th>\n",
       "      <th>month</th>\n",
       "      <th>rub_monthly_fee</th>\n",
       "      <th>calls_count</th>\n",
       "      <th>minutes_sum</th>\n",
       "      <th>minutes_included</th>\n",
       "      <th>rub_per_minute</th>\n",
       "      <th>diff_min</th>\n",
       "      <th>price_add_min</th>\n",
       "      <th>mess_count</th>\n",
       "      <th>messages_included</th>\n",
       "      <th>rub_per_message</th>\n",
       "      <th>diff_mess</th>\n",
       "      <th>price_add_mess</th>\n",
       "      <th>internet_month</th>\n",
       "      <th>int_count</th>\n",
       "      <th>int_sum_MB</th>\n",
       "      <th>mb_per_month_included</th>\n",
       "      <th>rub_per_gb</th>\n",
       "      <th>tariff_name</th>\n",
       "      <th>diff_MB</th>\n",
       "      <th>diff_GB</th>\n",
       "      <th>diff_GB_round</th>\n",
       "      <th>price_add_GB</th>\n",
       "      <th>revenue</th>\n",
       "    </tr>\n",
       "  </thead>\n",
       "  <tbody>\n",
       "    <tr>\n",
       "      <th>0</th>\n",
       "      <td>1000</td>\n",
       "      <td>ultra</td>\n",
       "      <td>1</td>\n",
       "      <td>1950</td>\n",
       "      <td>NaN</td>\n",
       "      <td>NaN</td>\n",
       "      <td>3000</td>\n",
       "      <td>1</td>\n",
       "      <td>NaN</td>\n",
       "      <td>0.0</td>\n",
       "      <td>NaN</td>\n",
       "      <td>1000</td>\n",
       "      <td>1</td>\n",
       "      <td>NaN</td>\n",
       "      <td>0.0</td>\n",
       "      <td>NaN</td>\n",
       "      <td>NaN</td>\n",
       "      <td>NaN</td>\n",
       "      <td>30720</td>\n",
       "      <td>150</td>\n",
       "      <td>ultra</td>\n",
       "      <td>NaN</td>\n",
       "      <td>NaN</td>\n",
       "      <td>NaN</td>\n",
       "      <td>0.0</td>\n",
       "      <td>NaN</td>\n",
       "    </tr>\n",
       "    <tr>\n",
       "      <th>1</th>\n",
       "      <td>1000</td>\n",
       "      <td>ultra</td>\n",
       "      <td>2</td>\n",
       "      <td>1950</td>\n",
       "      <td>NaN</td>\n",
       "      <td>NaN</td>\n",
       "      <td>3000</td>\n",
       "      <td>1</td>\n",
       "      <td>NaN</td>\n",
       "      <td>0.0</td>\n",
       "      <td>NaN</td>\n",
       "      <td>1000</td>\n",
       "      <td>1</td>\n",
       "      <td>NaN</td>\n",
       "      <td>0.0</td>\n",
       "      <td>NaN</td>\n",
       "      <td>NaN</td>\n",
       "      <td>NaN</td>\n",
       "      <td>30720</td>\n",
       "      <td>150</td>\n",
       "      <td>ultra</td>\n",
       "      <td>NaN</td>\n",
       "      <td>NaN</td>\n",
       "      <td>NaN</td>\n",
       "      <td>0.0</td>\n",
       "      <td>NaN</td>\n",
       "    </tr>\n",
       "    <tr>\n",
       "      <th>2</th>\n",
       "      <td>1000</td>\n",
       "      <td>ultra</td>\n",
       "      <td>3</td>\n",
       "      <td>1950</td>\n",
       "      <td>NaN</td>\n",
       "      <td>NaN</td>\n",
       "      <td>3000</td>\n",
       "      <td>1</td>\n",
       "      <td>NaN</td>\n",
       "      <td>0.0</td>\n",
       "      <td>NaN</td>\n",
       "      <td>1000</td>\n",
       "      <td>1</td>\n",
       "      <td>NaN</td>\n",
       "      <td>0.0</td>\n",
       "      <td>NaN</td>\n",
       "      <td>NaN</td>\n",
       "      <td>NaN</td>\n",
       "      <td>30720</td>\n",
       "      <td>150</td>\n",
       "      <td>ultra</td>\n",
       "      <td>NaN</td>\n",
       "      <td>NaN</td>\n",
       "      <td>NaN</td>\n",
       "      <td>0.0</td>\n",
       "      <td>NaN</td>\n",
       "    </tr>\n",
       "    <tr>\n",
       "      <th>3</th>\n",
       "      <td>1000</td>\n",
       "      <td>ultra</td>\n",
       "      <td>4</td>\n",
       "      <td>1950</td>\n",
       "      <td>NaN</td>\n",
       "      <td>NaN</td>\n",
       "      <td>3000</td>\n",
       "      <td>1</td>\n",
       "      <td>NaN</td>\n",
       "      <td>0.0</td>\n",
       "      <td>NaN</td>\n",
       "      <td>1000</td>\n",
       "      <td>1</td>\n",
       "      <td>NaN</td>\n",
       "      <td>0.0</td>\n",
       "      <td>NaN</td>\n",
       "      <td>NaN</td>\n",
       "      <td>NaN</td>\n",
       "      <td>30720</td>\n",
       "      <td>150</td>\n",
       "      <td>ultra</td>\n",
       "      <td>NaN</td>\n",
       "      <td>NaN</td>\n",
       "      <td>NaN</td>\n",
       "      <td>0.0</td>\n",
       "      <td>NaN</td>\n",
       "    </tr>\n",
       "    <tr>\n",
       "      <th>4</th>\n",
       "      <td>1000</td>\n",
       "      <td>ultra</td>\n",
       "      <td>5</td>\n",
       "      <td>1950</td>\n",
       "      <td>17.0</td>\n",
       "      <td>159.0</td>\n",
       "      <td>3000</td>\n",
       "      <td>1</td>\n",
       "      <td>2841.0</td>\n",
       "      <td>0.0</td>\n",
       "      <td>22.0</td>\n",
       "      <td>1000</td>\n",
       "      <td>1</td>\n",
       "      <td>978.0</td>\n",
       "      <td>0.0</td>\n",
       "      <td>5.0</td>\n",
       "      <td>4.0</td>\n",
       "      <td>2256.0</td>\n",
       "      <td>30720</td>\n",
       "      <td>150</td>\n",
       "      <td>ultra</td>\n",
       "      <td>28464.0</td>\n",
       "      <td>27.796875</td>\n",
       "      <td>27.0</td>\n",
       "      <td>0.0</td>\n",
       "      <td>1950.0</td>\n",
       "    </tr>\n",
       "  </tbody>\n",
       "</table>\n",
       "</div>"
      ],
      "text/plain": [
       "   user_id tariff  month  rub_monthly_fee  calls_count  minutes_sum  \\\n",
       "0     1000  ultra      1             1950          NaN          NaN   \n",
       "1     1000  ultra      2             1950          NaN          NaN   \n",
       "2     1000  ultra      3             1950          NaN          NaN   \n",
       "3     1000  ultra      4             1950          NaN          NaN   \n",
       "4     1000  ultra      5             1950         17.0        159.0   \n",
       "\n",
       "   minutes_included  rub_per_minute  diff_min  price_add_min  mess_count  \\\n",
       "0              3000               1       NaN            0.0         NaN   \n",
       "1              3000               1       NaN            0.0         NaN   \n",
       "2              3000               1       NaN            0.0         NaN   \n",
       "3              3000               1       NaN            0.0         NaN   \n",
       "4              3000               1    2841.0            0.0        22.0   \n",
       "\n",
       "   messages_included  rub_per_message  diff_mess  price_add_mess  \\\n",
       "0               1000                1        NaN             0.0   \n",
       "1               1000                1        NaN             0.0   \n",
       "2               1000                1        NaN             0.0   \n",
       "3               1000                1        NaN             0.0   \n",
       "4               1000                1      978.0             0.0   \n",
       "\n",
       "   internet_month  int_count  int_sum_MB  mb_per_month_included  rub_per_gb  \\\n",
       "0             NaN        NaN         NaN                  30720         150   \n",
       "1             NaN        NaN         NaN                  30720         150   \n",
       "2             NaN        NaN         NaN                  30720         150   \n",
       "3             NaN        NaN         NaN                  30720         150   \n",
       "4             5.0        4.0      2256.0                  30720         150   \n",
       "\n",
       "  tariff_name  diff_MB    diff_GB  diff_GB_round  price_add_GB  revenue  \n",
       "0       ultra      NaN        NaN            NaN           0.0      NaN  \n",
       "1       ultra      NaN        NaN            NaN           0.0      NaN  \n",
       "2       ultra      NaN        NaN            NaN           0.0      NaN  \n",
       "3       ultra      NaN        NaN            NaN           0.0      NaN  \n",
       "4       ultra  28464.0  27.796875           27.0           0.0   1950.0  "
      ]
     },
     "execution_count": 268,
     "metadata": {},
     "output_type": "execute_result"
    }
   ],
   "source": [
    "main.head()"
   ]
  },
  {
   "cell_type": "markdown",
   "metadata": {
    "id": "KZGf2kq9OJfY"
   },
   "source": [
    "Соеденили все верно"
   ]
  },
  {
   "cell_type": "markdown",
   "metadata": {
    "id": "ri38Hzeartie"
   },
   "source": [
    "Расположим столбцы в удобной последовательности"
   ]
  },
  {
   "cell_type": "code",
   "execution_count": 139,
   "metadata": {
    "id": "gpvt5t_noiIT"
   },
   "outputs": [],
   "source": [
    "main = main.reindex(columns=['user_id', 'tariff','month','rub_monthly_fee','count',\n",
    "                             'sum','minutes_included','rub_per_minute'])"
   ]
  },
  {
   "cell_type": "code",
   "execution_count": 140,
   "metadata": {
    "id": "ZEH3XrnHsaxa"
   },
   "outputs": [],
   "source": [
    "main = main.rename(columns={'sum':'minutes_sum','count':'calls_count'})"
   ]
  },
  {
   "cell_type": "code",
   "execution_count": 269,
   "metadata": {
    "colab": {
     "base_uri": "https://localhost:8080/",
     "height": 423
    },
    "id": "KFaxqAWc3viN",
    "outputId": "a57914c2-fd39-47e1-f037-6f19488e689a"
   },
   "outputs": [
    {
     "data": {
      "text/html": [
       "<div>\n",
       "<style scoped>\n",
       "    .dataframe tbody tr th:only-of-type {\n",
       "        vertical-align: middle;\n",
       "    }\n",
       "\n",
       "    .dataframe tbody tr th {\n",
       "        vertical-align: top;\n",
       "    }\n",
       "\n",
       "    .dataframe thead th {\n",
       "        text-align: right;\n",
       "    }\n",
       "</style>\n",
       "<table border=\"1\" class=\"dataframe\">\n",
       "  <thead>\n",
       "    <tr style=\"text-align: right;\">\n",
       "      <th></th>\n",
       "      <th>user_id</th>\n",
       "      <th>tariff</th>\n",
       "      <th>month</th>\n",
       "      <th>rub_monthly_fee</th>\n",
       "      <th>calls_count</th>\n",
       "      <th>minutes_sum</th>\n",
       "      <th>minutes_included</th>\n",
       "      <th>rub_per_minute</th>\n",
       "      <th>diff_min</th>\n",
       "      <th>price_add_min</th>\n",
       "      <th>mess_count</th>\n",
       "      <th>messages_included</th>\n",
       "      <th>rub_per_message</th>\n",
       "      <th>diff_mess</th>\n",
       "      <th>price_add_mess</th>\n",
       "      <th>internet_month</th>\n",
       "      <th>int_count</th>\n",
       "      <th>int_sum_MB</th>\n",
       "      <th>mb_per_month_included</th>\n",
       "      <th>rub_per_gb</th>\n",
       "      <th>tariff_name</th>\n",
       "      <th>diff_MB</th>\n",
       "      <th>diff_GB</th>\n",
       "      <th>diff_GB_round</th>\n",
       "      <th>price_add_GB</th>\n",
       "      <th>revenue</th>\n",
       "    </tr>\n",
       "  </thead>\n",
       "  <tbody>\n",
       "    <tr>\n",
       "      <th>0</th>\n",
       "      <td>1000</td>\n",
       "      <td>ultra</td>\n",
       "      <td>1</td>\n",
       "      <td>1950</td>\n",
       "      <td>NaN</td>\n",
       "      <td>NaN</td>\n",
       "      <td>3000</td>\n",
       "      <td>1</td>\n",
       "      <td>NaN</td>\n",
       "      <td>0.0</td>\n",
       "      <td>NaN</td>\n",
       "      <td>1000</td>\n",
       "      <td>1</td>\n",
       "      <td>NaN</td>\n",
       "      <td>0.0</td>\n",
       "      <td>NaN</td>\n",
       "      <td>NaN</td>\n",
       "      <td>NaN</td>\n",
       "      <td>30720</td>\n",
       "      <td>150</td>\n",
       "      <td>ultra</td>\n",
       "      <td>NaN</td>\n",
       "      <td>NaN</td>\n",
       "      <td>NaN</td>\n",
       "      <td>0.0</td>\n",
       "      <td>NaN</td>\n",
       "    </tr>\n",
       "    <tr>\n",
       "      <th>1</th>\n",
       "      <td>1000</td>\n",
       "      <td>ultra</td>\n",
       "      <td>2</td>\n",
       "      <td>1950</td>\n",
       "      <td>NaN</td>\n",
       "      <td>NaN</td>\n",
       "      <td>3000</td>\n",
       "      <td>1</td>\n",
       "      <td>NaN</td>\n",
       "      <td>0.0</td>\n",
       "      <td>NaN</td>\n",
       "      <td>1000</td>\n",
       "      <td>1</td>\n",
       "      <td>NaN</td>\n",
       "      <td>0.0</td>\n",
       "      <td>NaN</td>\n",
       "      <td>NaN</td>\n",
       "      <td>NaN</td>\n",
       "      <td>30720</td>\n",
       "      <td>150</td>\n",
       "      <td>ultra</td>\n",
       "      <td>NaN</td>\n",
       "      <td>NaN</td>\n",
       "      <td>NaN</td>\n",
       "      <td>0.0</td>\n",
       "      <td>NaN</td>\n",
       "    </tr>\n",
       "    <tr>\n",
       "      <th>2</th>\n",
       "      <td>1000</td>\n",
       "      <td>ultra</td>\n",
       "      <td>3</td>\n",
       "      <td>1950</td>\n",
       "      <td>NaN</td>\n",
       "      <td>NaN</td>\n",
       "      <td>3000</td>\n",
       "      <td>1</td>\n",
       "      <td>NaN</td>\n",
       "      <td>0.0</td>\n",
       "      <td>NaN</td>\n",
       "      <td>1000</td>\n",
       "      <td>1</td>\n",
       "      <td>NaN</td>\n",
       "      <td>0.0</td>\n",
       "      <td>NaN</td>\n",
       "      <td>NaN</td>\n",
       "      <td>NaN</td>\n",
       "      <td>30720</td>\n",
       "      <td>150</td>\n",
       "      <td>ultra</td>\n",
       "      <td>NaN</td>\n",
       "      <td>NaN</td>\n",
       "      <td>NaN</td>\n",
       "      <td>0.0</td>\n",
       "      <td>NaN</td>\n",
       "    </tr>\n",
       "    <tr>\n",
       "      <th>3</th>\n",
       "      <td>1000</td>\n",
       "      <td>ultra</td>\n",
       "      <td>4</td>\n",
       "      <td>1950</td>\n",
       "      <td>NaN</td>\n",
       "      <td>NaN</td>\n",
       "      <td>3000</td>\n",
       "      <td>1</td>\n",
       "      <td>NaN</td>\n",
       "      <td>0.0</td>\n",
       "      <td>NaN</td>\n",
       "      <td>1000</td>\n",
       "      <td>1</td>\n",
       "      <td>NaN</td>\n",
       "      <td>0.0</td>\n",
       "      <td>NaN</td>\n",
       "      <td>NaN</td>\n",
       "      <td>NaN</td>\n",
       "      <td>30720</td>\n",
       "      <td>150</td>\n",
       "      <td>ultra</td>\n",
       "      <td>NaN</td>\n",
       "      <td>NaN</td>\n",
       "      <td>NaN</td>\n",
       "      <td>0.0</td>\n",
       "      <td>NaN</td>\n",
       "    </tr>\n",
       "    <tr>\n",
       "      <th>4</th>\n",
       "      <td>1000</td>\n",
       "      <td>ultra</td>\n",
       "      <td>5</td>\n",
       "      <td>1950</td>\n",
       "      <td>17.0</td>\n",
       "      <td>159.0</td>\n",
       "      <td>3000</td>\n",
       "      <td>1</td>\n",
       "      <td>2841.0</td>\n",
       "      <td>0.0</td>\n",
       "      <td>22.0</td>\n",
       "      <td>1000</td>\n",
       "      <td>1</td>\n",
       "      <td>978.0</td>\n",
       "      <td>0.0</td>\n",
       "      <td>5.0</td>\n",
       "      <td>4.0</td>\n",
       "      <td>2256.0</td>\n",
       "      <td>30720</td>\n",
       "      <td>150</td>\n",
       "      <td>ultra</td>\n",
       "      <td>28464.0</td>\n",
       "      <td>27.796875</td>\n",
       "      <td>27.0</td>\n",
       "      <td>0.0</td>\n",
       "      <td>1950.0</td>\n",
       "    </tr>\n",
       "  </tbody>\n",
       "</table>\n",
       "</div>"
      ],
      "text/plain": [
       "   user_id tariff  month  rub_monthly_fee  calls_count  minutes_sum  \\\n",
       "0     1000  ultra      1             1950          NaN          NaN   \n",
       "1     1000  ultra      2             1950          NaN          NaN   \n",
       "2     1000  ultra      3             1950          NaN          NaN   \n",
       "3     1000  ultra      4             1950          NaN          NaN   \n",
       "4     1000  ultra      5             1950         17.0        159.0   \n",
       "\n",
       "   minutes_included  rub_per_minute  diff_min  price_add_min  mess_count  \\\n",
       "0              3000               1       NaN            0.0         NaN   \n",
       "1              3000               1       NaN            0.0         NaN   \n",
       "2              3000               1       NaN            0.0         NaN   \n",
       "3              3000               1       NaN            0.0         NaN   \n",
       "4              3000               1    2841.0            0.0        22.0   \n",
       "\n",
       "   messages_included  rub_per_message  diff_mess  price_add_mess  \\\n",
       "0               1000                1        NaN             0.0   \n",
       "1               1000                1        NaN             0.0   \n",
       "2               1000                1        NaN             0.0   \n",
       "3               1000                1        NaN             0.0   \n",
       "4               1000                1      978.0             0.0   \n",
       "\n",
       "   internet_month  int_count  int_sum_MB  mb_per_month_included  rub_per_gb  \\\n",
       "0             NaN        NaN         NaN                  30720         150   \n",
       "1             NaN        NaN         NaN                  30720         150   \n",
       "2             NaN        NaN         NaN                  30720         150   \n",
       "3             NaN        NaN         NaN                  30720         150   \n",
       "4             5.0        4.0      2256.0                  30720         150   \n",
       "\n",
       "  tariff_name  diff_MB    diff_GB  diff_GB_round  price_add_GB  revenue  \n",
       "0       ultra      NaN        NaN            NaN           0.0      NaN  \n",
       "1       ultra      NaN        NaN            NaN           0.0      NaN  \n",
       "2       ultra      NaN        NaN            NaN           0.0      NaN  \n",
       "3       ultra      NaN        NaN            NaN           0.0      NaN  \n",
       "4       ultra  28464.0  27.796875           27.0           0.0   1950.0  "
      ]
     },
     "execution_count": 269,
     "metadata": {},
     "output_type": "execute_result"
    }
   ],
   "source": [
    "main.head()"
   ]
  },
  {
   "cell_type": "markdown",
   "metadata": {
    "id": "0pnvJUR4PJf3"
   },
   "source": [
    "Посчитаем разницу между потраченными минутами на звонки и лимитом тарифа"
   ]
  },
  {
   "cell_type": "code",
   "execution_count": 142,
   "metadata": {
    "id": "ASZIH-wDOUw9"
   },
   "outputs": [],
   "source": [
    "main['diff_min'] = main.apply(lambda x: x['minutes_included'] - x['minutes_sum'] \n",
    "           if np.isnan(x['minutes_sum']) == False else np.nan, axis = 1)"
   ]
  },
  {
   "cell_type": "code",
   "execution_count": 270,
   "metadata": {
    "colab": {
     "base_uri": "https://localhost:8080/",
     "height": 423
    },
    "id": "HUqoLsqqPlzn",
    "outputId": "fd8d88f1-ec52-4668-fdb7-08a2edf8576a"
   },
   "outputs": [
    {
     "data": {
      "text/html": [
       "<div>\n",
       "<style scoped>\n",
       "    .dataframe tbody tr th:only-of-type {\n",
       "        vertical-align: middle;\n",
       "    }\n",
       "\n",
       "    .dataframe tbody tr th {\n",
       "        vertical-align: top;\n",
       "    }\n",
       "\n",
       "    .dataframe thead th {\n",
       "        text-align: right;\n",
       "    }\n",
       "</style>\n",
       "<table border=\"1\" class=\"dataframe\">\n",
       "  <thead>\n",
       "    <tr style=\"text-align: right;\">\n",
       "      <th></th>\n",
       "      <th>user_id</th>\n",
       "      <th>tariff</th>\n",
       "      <th>month</th>\n",
       "      <th>rub_monthly_fee</th>\n",
       "      <th>calls_count</th>\n",
       "      <th>minutes_sum</th>\n",
       "      <th>minutes_included</th>\n",
       "      <th>rub_per_minute</th>\n",
       "      <th>diff_min</th>\n",
       "      <th>price_add_min</th>\n",
       "      <th>mess_count</th>\n",
       "      <th>messages_included</th>\n",
       "      <th>rub_per_message</th>\n",
       "      <th>diff_mess</th>\n",
       "      <th>price_add_mess</th>\n",
       "      <th>internet_month</th>\n",
       "      <th>int_count</th>\n",
       "      <th>int_sum_MB</th>\n",
       "      <th>mb_per_month_included</th>\n",
       "      <th>rub_per_gb</th>\n",
       "      <th>tariff_name</th>\n",
       "      <th>diff_MB</th>\n",
       "      <th>diff_GB</th>\n",
       "      <th>diff_GB_round</th>\n",
       "      <th>price_add_GB</th>\n",
       "      <th>revenue</th>\n",
       "    </tr>\n",
       "  </thead>\n",
       "  <tbody>\n",
       "    <tr>\n",
       "      <th>0</th>\n",
       "      <td>1000</td>\n",
       "      <td>ultra</td>\n",
       "      <td>1</td>\n",
       "      <td>1950</td>\n",
       "      <td>NaN</td>\n",
       "      <td>NaN</td>\n",
       "      <td>3000</td>\n",
       "      <td>1</td>\n",
       "      <td>NaN</td>\n",
       "      <td>0.0</td>\n",
       "      <td>NaN</td>\n",
       "      <td>1000</td>\n",
       "      <td>1</td>\n",
       "      <td>NaN</td>\n",
       "      <td>0.0</td>\n",
       "      <td>NaN</td>\n",
       "      <td>NaN</td>\n",
       "      <td>NaN</td>\n",
       "      <td>30720</td>\n",
       "      <td>150</td>\n",
       "      <td>ultra</td>\n",
       "      <td>NaN</td>\n",
       "      <td>NaN</td>\n",
       "      <td>NaN</td>\n",
       "      <td>0.0</td>\n",
       "      <td>NaN</td>\n",
       "    </tr>\n",
       "    <tr>\n",
       "      <th>1</th>\n",
       "      <td>1000</td>\n",
       "      <td>ultra</td>\n",
       "      <td>2</td>\n",
       "      <td>1950</td>\n",
       "      <td>NaN</td>\n",
       "      <td>NaN</td>\n",
       "      <td>3000</td>\n",
       "      <td>1</td>\n",
       "      <td>NaN</td>\n",
       "      <td>0.0</td>\n",
       "      <td>NaN</td>\n",
       "      <td>1000</td>\n",
       "      <td>1</td>\n",
       "      <td>NaN</td>\n",
       "      <td>0.0</td>\n",
       "      <td>NaN</td>\n",
       "      <td>NaN</td>\n",
       "      <td>NaN</td>\n",
       "      <td>30720</td>\n",
       "      <td>150</td>\n",
       "      <td>ultra</td>\n",
       "      <td>NaN</td>\n",
       "      <td>NaN</td>\n",
       "      <td>NaN</td>\n",
       "      <td>0.0</td>\n",
       "      <td>NaN</td>\n",
       "    </tr>\n",
       "    <tr>\n",
       "      <th>2</th>\n",
       "      <td>1000</td>\n",
       "      <td>ultra</td>\n",
       "      <td>3</td>\n",
       "      <td>1950</td>\n",
       "      <td>NaN</td>\n",
       "      <td>NaN</td>\n",
       "      <td>3000</td>\n",
       "      <td>1</td>\n",
       "      <td>NaN</td>\n",
       "      <td>0.0</td>\n",
       "      <td>NaN</td>\n",
       "      <td>1000</td>\n",
       "      <td>1</td>\n",
       "      <td>NaN</td>\n",
       "      <td>0.0</td>\n",
       "      <td>NaN</td>\n",
       "      <td>NaN</td>\n",
       "      <td>NaN</td>\n",
       "      <td>30720</td>\n",
       "      <td>150</td>\n",
       "      <td>ultra</td>\n",
       "      <td>NaN</td>\n",
       "      <td>NaN</td>\n",
       "      <td>NaN</td>\n",
       "      <td>0.0</td>\n",
       "      <td>NaN</td>\n",
       "    </tr>\n",
       "    <tr>\n",
       "      <th>3</th>\n",
       "      <td>1000</td>\n",
       "      <td>ultra</td>\n",
       "      <td>4</td>\n",
       "      <td>1950</td>\n",
       "      <td>NaN</td>\n",
       "      <td>NaN</td>\n",
       "      <td>3000</td>\n",
       "      <td>1</td>\n",
       "      <td>NaN</td>\n",
       "      <td>0.0</td>\n",
       "      <td>NaN</td>\n",
       "      <td>1000</td>\n",
       "      <td>1</td>\n",
       "      <td>NaN</td>\n",
       "      <td>0.0</td>\n",
       "      <td>NaN</td>\n",
       "      <td>NaN</td>\n",
       "      <td>NaN</td>\n",
       "      <td>30720</td>\n",
       "      <td>150</td>\n",
       "      <td>ultra</td>\n",
       "      <td>NaN</td>\n",
       "      <td>NaN</td>\n",
       "      <td>NaN</td>\n",
       "      <td>0.0</td>\n",
       "      <td>NaN</td>\n",
       "    </tr>\n",
       "    <tr>\n",
       "      <th>4</th>\n",
       "      <td>1000</td>\n",
       "      <td>ultra</td>\n",
       "      <td>5</td>\n",
       "      <td>1950</td>\n",
       "      <td>17.0</td>\n",
       "      <td>159.0</td>\n",
       "      <td>3000</td>\n",
       "      <td>1</td>\n",
       "      <td>2841.0</td>\n",
       "      <td>0.0</td>\n",
       "      <td>22.0</td>\n",
       "      <td>1000</td>\n",
       "      <td>1</td>\n",
       "      <td>978.0</td>\n",
       "      <td>0.0</td>\n",
       "      <td>5.0</td>\n",
       "      <td>4.0</td>\n",
       "      <td>2256.0</td>\n",
       "      <td>30720</td>\n",
       "      <td>150</td>\n",
       "      <td>ultra</td>\n",
       "      <td>28464.0</td>\n",
       "      <td>27.796875</td>\n",
       "      <td>27.0</td>\n",
       "      <td>0.0</td>\n",
       "      <td>1950.0</td>\n",
       "    </tr>\n",
       "  </tbody>\n",
       "</table>\n",
       "</div>"
      ],
      "text/plain": [
       "   user_id tariff  month  rub_monthly_fee  calls_count  minutes_sum  \\\n",
       "0     1000  ultra      1             1950          NaN          NaN   \n",
       "1     1000  ultra      2             1950          NaN          NaN   \n",
       "2     1000  ultra      3             1950          NaN          NaN   \n",
       "3     1000  ultra      4             1950          NaN          NaN   \n",
       "4     1000  ultra      5             1950         17.0        159.0   \n",
       "\n",
       "   minutes_included  rub_per_minute  diff_min  price_add_min  mess_count  \\\n",
       "0              3000               1       NaN            0.0         NaN   \n",
       "1              3000               1       NaN            0.0         NaN   \n",
       "2              3000               1       NaN            0.0         NaN   \n",
       "3              3000               1       NaN            0.0         NaN   \n",
       "4              3000               1    2841.0            0.0        22.0   \n",
       "\n",
       "   messages_included  rub_per_message  diff_mess  price_add_mess  \\\n",
       "0               1000                1        NaN             0.0   \n",
       "1               1000                1        NaN             0.0   \n",
       "2               1000                1        NaN             0.0   \n",
       "3               1000                1        NaN             0.0   \n",
       "4               1000                1      978.0             0.0   \n",
       "\n",
       "   internet_month  int_count  int_sum_MB  mb_per_month_included  rub_per_gb  \\\n",
       "0             NaN        NaN         NaN                  30720         150   \n",
       "1             NaN        NaN         NaN                  30720         150   \n",
       "2             NaN        NaN         NaN                  30720         150   \n",
       "3             NaN        NaN         NaN                  30720         150   \n",
       "4             5.0        4.0      2256.0                  30720         150   \n",
       "\n",
       "  tariff_name  diff_MB    diff_GB  diff_GB_round  price_add_GB  revenue  \n",
       "0       ultra      NaN        NaN            NaN           0.0      NaN  \n",
       "1       ultra      NaN        NaN            NaN           0.0      NaN  \n",
       "2       ultra      NaN        NaN            NaN           0.0      NaN  \n",
       "3       ultra      NaN        NaN            NaN           0.0      NaN  \n",
       "4       ultra  28464.0  27.796875           27.0           0.0   1950.0  "
      ]
     },
     "execution_count": 270,
     "metadata": {},
     "output_type": "execute_result"
    }
   ],
   "source": [
    "main.head()"
   ]
  },
  {
   "cell_type": "markdown",
   "metadata": {
    "id": "rI2qVzIUPscV"
   },
   "source": [
    "Добавили новый столбец diff_min"
   ]
  },
  {
   "cell_type": "code",
   "execution_count": 144,
   "metadata": {
    "colab": {
     "base_uri": "https://localhost:8080/",
     "height": 283
    },
    "id": "Jow4xq1otOV0",
    "outputId": "cc48ee81-f9a4-452a-d322-02bf68085168"
   },
   "outputs": [
    {
     "data": {
      "text/plain": [
       "<AxesSubplot:>"
      ]
     },
     "execution_count": 144,
     "metadata": {},
     "output_type": "execute_result"
    },
    {
     "data": {
      "image/png": "[encoded data removed]",
      "text/plain": [
       "<Figure size 432x288 with 1 Axes>"
      ]
     },
     "metadata": {
      "needs_background": "light"
     },
     "output_type": "display_data"
    }
   ],
   "source": [
    "main.query('tariff==\"smart\"')['diff_min'].hist(bins=50)"
   ]
  },
  {
   "cell_type": "markdown",
   "metadata": {
    "id": "BwG9fegEzs-2"
   },
   "source": [
    "Давольно часто пользователи тарифа smart расходовали весь минутный тариф, тем самым платя за каждую минуту тарифа"
   ]
  },
  {
   "cell_type": "code",
   "execution_count": 145,
   "metadata": {
    "colab": {
     "base_uri": "https://localhost:8080/",
     "height": 283
    },
    "id": "OQYJIqzstyln",
    "outputId": "8611cf00-ce97-4537-bd63-fcca997341fd"
   },
   "outputs": [
    {
     "data": {
      "text/plain": [
       "<AxesSubplot:>"
      ]
     },
     "execution_count": 145,
     "metadata": {},
     "output_type": "execute_result"
    },
    {
     "data": {
      "image/png": "[encoded data removed]",
      "text/plain": [
       "<Figure size 432x288 with 1 Axes>"
      ]
     },
     "metadata": {
      "needs_background": "light"
     },
     "output_type": "display_data"
    }
   ],
   "source": [
    "main.query('tariff==\"ultra\"')['diff_min'].hist(bins=50)"
   ]
  },
  {
   "cell_type": "markdown",
   "metadata": {
    "id": "Rj1xWi7q-bTr"
   },
   "source": [
    "C тарифом ultra пользователи не платили за дополнительные минуты"
   ]
  },
  {
   "cell_type": "markdown",
   "metadata": {
    "id": "STXpXZNqV0D5"
   },
   "source": [
    "Теперь найдем общую сумму, которую пользователь потратил за лишние минуты"
   ]
  },
  {
   "cell_type": "code",
   "execution_count": 146,
   "metadata": {
    "id": "z3Frm0krvNLq"
   },
   "outputs": [],
   "source": [
    "main['price_add_min'] = (main.apply(lambda x: abs(x['diff_min']*x['rub_per_minute']) \n",
    "                                          if x['diff_min'] < 0 else 0, axis=1 ))"
   ]
  },
  {
   "cell_type": "code",
   "execution_count": 271,
   "metadata": {
    "colab": {
     "base_uri": "https://localhost:8080/",
     "height": 423
    },
    "id": "zD_TD9IDwVzB",
    "outputId": "749c9b81-0d1b-4bea-975d-6dada69971e7"
   },
   "outputs": [
    {
     "data": {
      "text/html": [
       "<div>\n",
       "<style scoped>\n",
       "    .dataframe tbody tr th:only-of-type {\n",
       "        vertical-align: middle;\n",
       "    }\n",
       "\n",
       "    .dataframe tbody tr th {\n",
       "        vertical-align: top;\n",
       "    }\n",
       "\n",
       "    .dataframe thead th {\n",
       "        text-align: right;\n",
       "    }\n",
       "</style>\n",
       "<table border=\"1\" class=\"dataframe\">\n",
       "  <thead>\n",
       "    <tr style=\"text-align: right;\">\n",
       "      <th></th>\n",
       "      <th>user_id</th>\n",
       "      <th>tariff</th>\n",
       "      <th>month</th>\n",
       "      <th>rub_monthly_fee</th>\n",
       "      <th>calls_count</th>\n",
       "      <th>minutes_sum</th>\n",
       "      <th>minutes_included</th>\n",
       "      <th>rub_per_minute</th>\n",
       "      <th>diff_min</th>\n",
       "      <th>price_add_min</th>\n",
       "      <th>mess_count</th>\n",
       "      <th>messages_included</th>\n",
       "      <th>rub_per_message</th>\n",
       "      <th>diff_mess</th>\n",
       "      <th>price_add_mess</th>\n",
       "      <th>internet_month</th>\n",
       "      <th>int_count</th>\n",
       "      <th>int_sum_MB</th>\n",
       "      <th>mb_per_month_included</th>\n",
       "      <th>rub_per_gb</th>\n",
       "      <th>tariff_name</th>\n",
       "      <th>diff_MB</th>\n",
       "      <th>diff_GB</th>\n",
       "      <th>diff_GB_round</th>\n",
       "      <th>price_add_GB</th>\n",
       "      <th>revenue</th>\n",
       "    </tr>\n",
       "  </thead>\n",
       "  <tbody>\n",
       "    <tr>\n",
       "      <th>0</th>\n",
       "      <td>1000</td>\n",
       "      <td>ultra</td>\n",
       "      <td>1</td>\n",
       "      <td>1950</td>\n",
       "      <td>NaN</td>\n",
       "      <td>NaN</td>\n",
       "      <td>3000</td>\n",
       "      <td>1</td>\n",
       "      <td>NaN</td>\n",
       "      <td>0.0</td>\n",
       "      <td>NaN</td>\n",
       "      <td>1000</td>\n",
       "      <td>1</td>\n",
       "      <td>NaN</td>\n",
       "      <td>0.0</td>\n",
       "      <td>NaN</td>\n",
       "      <td>NaN</td>\n",
       "      <td>NaN</td>\n",
       "      <td>30720</td>\n",
       "      <td>150</td>\n",
       "      <td>ultra</td>\n",
       "      <td>NaN</td>\n",
       "      <td>NaN</td>\n",
       "      <td>NaN</td>\n",
       "      <td>0.0</td>\n",
       "      <td>NaN</td>\n",
       "    </tr>\n",
       "    <tr>\n",
       "      <th>1</th>\n",
       "      <td>1000</td>\n",
       "      <td>ultra</td>\n",
       "      <td>2</td>\n",
       "      <td>1950</td>\n",
       "      <td>NaN</td>\n",
       "      <td>NaN</td>\n",
       "      <td>3000</td>\n",
       "      <td>1</td>\n",
       "      <td>NaN</td>\n",
       "      <td>0.0</td>\n",
       "      <td>NaN</td>\n",
       "      <td>1000</td>\n",
       "      <td>1</td>\n",
       "      <td>NaN</td>\n",
       "      <td>0.0</td>\n",
       "      <td>NaN</td>\n",
       "      <td>NaN</td>\n",
       "      <td>NaN</td>\n",
       "      <td>30720</td>\n",
       "      <td>150</td>\n",
       "      <td>ultra</td>\n",
       "      <td>NaN</td>\n",
       "      <td>NaN</td>\n",
       "      <td>NaN</td>\n",
       "      <td>0.0</td>\n",
       "      <td>NaN</td>\n",
       "    </tr>\n",
       "    <tr>\n",
       "      <th>2</th>\n",
       "      <td>1000</td>\n",
       "      <td>ultra</td>\n",
       "      <td>3</td>\n",
       "      <td>1950</td>\n",
       "      <td>NaN</td>\n",
       "      <td>NaN</td>\n",
       "      <td>3000</td>\n",
       "      <td>1</td>\n",
       "      <td>NaN</td>\n",
       "      <td>0.0</td>\n",
       "      <td>NaN</td>\n",
       "      <td>1000</td>\n",
       "      <td>1</td>\n",
       "      <td>NaN</td>\n",
       "      <td>0.0</td>\n",
       "      <td>NaN</td>\n",
       "      <td>NaN</td>\n",
       "      <td>NaN</td>\n",
       "      <td>30720</td>\n",
       "      <td>150</td>\n",
       "      <td>ultra</td>\n",
       "      <td>NaN</td>\n",
       "      <td>NaN</td>\n",
       "      <td>NaN</td>\n",
       "      <td>0.0</td>\n",
       "      <td>NaN</td>\n",
       "    </tr>\n",
       "    <tr>\n",
       "      <th>3</th>\n",
       "      <td>1000</td>\n",
       "      <td>ultra</td>\n",
       "      <td>4</td>\n",
       "      <td>1950</td>\n",
       "      <td>NaN</td>\n",
       "      <td>NaN</td>\n",
       "      <td>3000</td>\n",
       "      <td>1</td>\n",
       "      <td>NaN</td>\n",
       "      <td>0.0</td>\n",
       "      <td>NaN</td>\n",
       "      <td>1000</td>\n",
       "      <td>1</td>\n",
       "      <td>NaN</td>\n",
       "      <td>0.0</td>\n",
       "      <td>NaN</td>\n",
       "      <td>NaN</td>\n",
       "      <td>NaN</td>\n",
       "      <td>30720</td>\n",
       "      <td>150</td>\n",
       "      <td>ultra</td>\n",
       "      <td>NaN</td>\n",
       "      <td>NaN</td>\n",
       "      <td>NaN</td>\n",
       "      <td>0.0</td>\n",
       "      <td>NaN</td>\n",
       "    </tr>\n",
       "    <tr>\n",
       "      <th>4</th>\n",
       "      <td>1000</td>\n",
       "      <td>ultra</td>\n",
       "      <td>5</td>\n",
       "      <td>1950</td>\n",
       "      <td>17.0</td>\n",
       "      <td>159.0</td>\n",
       "      <td>3000</td>\n",
       "      <td>1</td>\n",
       "      <td>2841.0</td>\n",
       "      <td>0.0</td>\n",
       "      <td>22.0</td>\n",
       "      <td>1000</td>\n",
       "      <td>1</td>\n",
       "      <td>978.0</td>\n",
       "      <td>0.0</td>\n",
       "      <td>5.0</td>\n",
       "      <td>4.0</td>\n",
       "      <td>2256.0</td>\n",
       "      <td>30720</td>\n",
       "      <td>150</td>\n",
       "      <td>ultra</td>\n",
       "      <td>28464.0</td>\n",
       "      <td>27.796875</td>\n",
       "      <td>27.0</td>\n",
       "      <td>0.0</td>\n",
       "      <td>1950.0</td>\n",
       "    </tr>\n",
       "  </tbody>\n",
       "</table>\n",
       "</div>"
      ],
      "text/plain": [
       "   user_id tariff  month  rub_monthly_fee  calls_count  minutes_sum  \\\n",
       "0     1000  ultra      1             1950          NaN          NaN   \n",
       "1     1000  ultra      2             1950          NaN          NaN   \n",
       "2     1000  ultra      3             1950          NaN          NaN   \n",
       "3     1000  ultra      4             1950          NaN          NaN   \n",
       "4     1000  ultra      5             1950         17.0        159.0   \n",
       "\n",
       "   minutes_included  rub_per_minute  diff_min  price_add_min  mess_count  \\\n",
       "0              3000               1       NaN            0.0         NaN   \n",
       "1              3000               1       NaN            0.0         NaN   \n",
       "2              3000               1       NaN            0.0         NaN   \n",
       "3              3000               1       NaN            0.0         NaN   \n",
       "4              3000               1    2841.0            0.0        22.0   \n",
       "\n",
       "   messages_included  rub_per_message  diff_mess  price_add_mess  \\\n",
       "0               1000                1        NaN             0.0   \n",
       "1               1000                1        NaN             0.0   \n",
       "2               1000                1        NaN             0.0   \n",
       "3               1000                1        NaN             0.0   \n",
       "4               1000                1      978.0             0.0   \n",
       "\n",
       "   internet_month  int_count  int_sum_MB  mb_per_month_included  rub_per_gb  \\\n",
       "0             NaN        NaN         NaN                  30720         150   \n",
       "1             NaN        NaN         NaN                  30720         150   \n",
       "2             NaN        NaN         NaN                  30720         150   \n",
       "3             NaN        NaN         NaN                  30720         150   \n",
       "4             5.0        4.0      2256.0                  30720         150   \n",
       "\n",
       "  tariff_name  diff_MB    diff_GB  diff_GB_round  price_add_GB  revenue  \n",
       "0       ultra      NaN        NaN            NaN           0.0      NaN  \n",
       "1       ultra      NaN        NaN            NaN           0.0      NaN  \n",
       "2       ultra      NaN        NaN            NaN           0.0      NaN  \n",
       "3       ultra      NaN        NaN            NaN           0.0      NaN  \n",
       "4       ultra  28464.0  27.796875           27.0           0.0   1950.0  "
      ]
     },
     "execution_count": 271,
     "metadata": {},
     "output_type": "execute_result"
    }
   ],
   "source": [
    "main.head()"
   ]
  },
  {
   "cell_type": "markdown",
   "metadata": {
    "id": "YKvf0ba9QAMk"
   },
   "source": [
    "Посчитали, кол-во рублей, которые абоненты потратили на дополнительные минуты столбец - price_add_min"
   ]
  },
  {
   "cell_type": "markdown",
   "metadata": {
    "id": "EMm64fm3wvbR"
   },
   "source": [
    "### Сообщения"
   ]
  },
  {
   "cell_type": "markdown",
   "metadata": {
    "id": "LEe8AggpQLv9"
   },
   "source": [
    "Приведем таблицу messages в уднобную форму"
   ]
  },
  {
   "cell_type": "code",
   "execution_count": 148,
   "metadata": {
    "id": "Us9oF03uw00g"
   },
   "outputs": [],
   "source": [
    "t = (messages.groupby(['user_id',\"messages_month\"])['messages_month']\n",
    " .agg(['count'])).reset_index().rename(columns={'count':'mess_count'})"
   ]
  },
  {
   "cell_type": "code",
   "execution_count": 272,
   "metadata": {
    "colab": {
     "base_uri": "https://localhost:8080/",
     "height": 423
    },
    "id": "KuKQ0ujqqQZ-",
    "outputId": "2a74750b-dc45-4569-dd81-b558f282a2e2"
   },
   "outputs": [
    {
     "data": {
      "text/html": [
       "<div>\n",
       "<style scoped>\n",
       "    .dataframe tbody tr th:only-of-type {\n",
       "        vertical-align: middle;\n",
       "    }\n",
       "\n",
       "    .dataframe tbody tr th {\n",
       "        vertical-align: top;\n",
       "    }\n",
       "\n",
       "    .dataframe thead th {\n",
       "        text-align: right;\n",
       "    }\n",
       "</style>\n",
       "<table border=\"1\" class=\"dataframe\">\n",
       "  <thead>\n",
       "    <tr style=\"text-align: right;\">\n",
       "      <th>tariff</th>\n",
       "      <th>smart</th>\n",
       "      <th>ultra</th>\n",
       "    </tr>\n",
       "    <tr>\n",
       "      <th>month</th>\n",
       "      <th></th>\n",
       "      <th></th>\n",
       "    </tr>\n",
       "  </thead>\n",
       "  <tbody>\n",
       "    <tr>\n",
       "      <th>1</th>\n",
       "      <td>8524.441176</td>\n",
       "      <td>13153.555556</td>\n",
       "    </tr>\n",
       "    <tr>\n",
       "      <th>2</th>\n",
       "      <td>11611.396552</td>\n",
       "      <td>12858.500000</td>\n",
       "    </tr>\n",
       "    <tr>\n",
       "      <th>3</th>\n",
       "      <td>15123.857143</td>\n",
       "      <td>17551.972973</td>\n",
       "    </tr>\n",
       "    <tr>\n",
       "      <th>4</th>\n",
       "      <td>13479.482143</td>\n",
       "      <td>16843.800000</td>\n",
       "    </tr>\n",
       "    <tr>\n",
       "      <th>5</th>\n",
       "      <td>15825.198582</td>\n",
       "      <td>19674.848485</td>\n",
       "    </tr>\n",
       "  </tbody>\n",
       "</table>\n",
       "</div>"
      ],
      "text/plain": [
       "tariff         smart         ultra\n",
       "month                             \n",
       "1        8524.441176  13153.555556\n",
       "2       11611.396552  12858.500000\n",
       "3       15123.857143  17551.972973\n",
       "4       13479.482143  16843.800000\n",
       "5       15825.198582  19674.848485"
      ]
     },
     "execution_count": 272,
     "metadata": {},
     "output_type": "execute_result"
    }
   ],
   "source": [
    "t.head()"
   ]
  },
  {
   "cell_type": "markdown",
   "metadata": {
    "id": "w2mCa-vPQYHf"
   },
   "source": [
    "Соеденим таблицу main и подготовленную таблицу t (из messages)"
   ]
  },
  {
   "cell_type": "code",
   "execution_count": 150,
   "metadata": {
    "id": "smsyruui12JX"
   },
   "outputs": [],
   "source": [
    "main = pd.merge(main, t,how='left', left_on=['user_id','month'],right_on=['user_id','messages_month'])"
   ]
  },
  {
   "cell_type": "markdown",
   "metadata": {
    "id": "-Yx_28TiQo2A"
   },
   "source": [
    "Посчитаем, все ли совпадает"
   ]
  },
  {
   "cell_type": "code",
   "execution_count": 151,
   "metadata": {
    "colab": {
     "base_uri": "https://localhost:8080/"
    },
    "id": "lxxoNzwycrW3",
    "outputId": "e09d2a99-3199-4141-b103-e7e785b1e864"
   },
   "outputs": [
    {
     "data": {
      "text/plain": [
       "1450301.0"
      ]
     },
     "execution_count": 151,
     "metadata": {},
     "output_type": "execute_result"
    }
   ],
   "source": [
    "main['minutes_sum'].sum()"
   ]
  },
  {
   "cell_type": "code",
   "execution_count": 152,
   "metadata": {
    "colab": {
     "base_uri": "https://localhost:8080/"
    },
    "id": "FauMX4ccqiQ2",
    "outputId": "bfbbdfb8-2196-4545-dce6-ca0c78849fe0"
   },
   "outputs": [
    {
     "data": {
      "text/plain": [
       "1450301.0"
      ]
     },
     "execution_count": 152,
     "metadata": {},
     "output_type": "execute_result"
    }
   ],
   "source": [
    "calls['duration'].sum()"
   ]
  },
  {
   "cell_type": "code",
   "execution_count": 153,
   "metadata": {
    "colab": {
     "base_uri": "https://localhost:8080/"
    },
    "id": "0xDLV35C2UMz",
    "outputId": "0ac49625-d23c-4963-eb2f-41b6e1b494c8"
   },
   "outputs": [
    {
     "data": {
      "text/plain": [
       "123036.0"
      ]
     },
     "execution_count": 153,
     "metadata": {},
     "output_type": "execute_result"
    }
   ],
   "source": [
    "main['mess_count'].sum()"
   ]
  },
  {
   "cell_type": "code",
   "execution_count": 154,
   "metadata": {
    "colab": {
     "base_uri": "https://localhost:8080/"
    },
    "id": "-zmLhRNw2ZQ4",
    "outputId": "2035d4bc-ae4a-463b-8383-3d3fe7f7036f"
   },
   "outputs": [
    {
     "data": {
      "text/plain": [
       "123036"
      ]
     },
     "execution_count": 154,
     "metadata": {},
     "output_type": "execute_result"
    }
   ],
   "source": [
    "len(messages)"
   ]
  },
  {
   "cell_type": "markdown",
   "metadata": {
    "id": "3KECLMsVQwF0"
   },
   "source": [
    "Все совпадает"
   ]
  },
  {
   "cell_type": "code",
   "execution_count": 155,
   "metadata": {
    "id": "qmM9lAZs0nuC"
   },
   "outputs": [],
   "source": [
    "main = main.drop(labels='messages_month',axis=1)"
   ]
  },
  {
   "cell_type": "code",
   "execution_count": 156,
   "metadata": {
    "id": "lvmm1tOHVSLw"
   },
   "outputs": [],
   "source": [
    "main = pd.merge(main, tariffs[['messages_included','rub_per_message','tariff_name']],\n",
    "                       how='inner', left_on='tariff',right_on = 'tariff_name')"
   ]
  },
  {
   "cell_type": "code",
   "execution_count": 157,
   "metadata": {
    "id": "awKUEO1LWjsc"
   },
   "outputs": [],
   "source": [
    "main = main.drop(labels='tariff_name',axis=1)"
   ]
  },
  {
   "cell_type": "code",
   "execution_count": 158,
   "metadata": {
    "id": "dkdXjqahXqWT"
   },
   "outputs": [],
   "source": [
    "main['diff_mess'] = np.nan"
   ]
  },
  {
   "cell_type": "code",
   "execution_count": 159,
   "metadata": {
    "colab": {
     "base_uri": "https://localhost:8080/"
    },
    "id": "806qOG5wXGIl",
    "outputId": "faf2daaf-83ea-489a-dd8e-77a2669edb63"
   },
   "outputs": [
    {
     "name": "stderr",
     "output_type": "stream",
     "text": [
      "C:\\Users\\lavru\\AppData\\Local\\Temp\\ipykernel_9160\\2587480406.py:5: SettingWithCopyWarning: \n",
      "A value is trying to be set on a copy of a slice from a DataFrame\n",
      "\n",
      "See the caveats in the documentation: https://pandas.pydata.org/pandas-docs/stable/user_guide/indexing.html#returning-a-view-versus-a-copy\n",
      "  main['diff_mess'][i] = main['messages_included'][i] - main['mess_count'][i]\n"
     ]
    }
   ],
   "source": [
    "for i, _ in main.iterrows():\n",
    "  if main['mess_count'][i] == np.nan:\n",
    "    main['diff_mess'][i] = np.nan\n",
    "  else:\n",
    "    main['diff_mess'][i] = main['messages_included'][i] - main['mess_count'][i]"
   ]
  },
  {
   "cell_type": "markdown",
   "metadata": {
    "id": "lzNDDvpqQ1Mn"
   },
   "source": [
    "Посчитаем разницу между кол-во отправленных сообщений абонентами и лимитом тарифа"
   ]
  },
  {
   "cell_type": "code",
   "execution_count": 160,
   "metadata": {
    "id": "sA4WP0smQ0TY"
   },
   "outputs": [],
   "source": [
    "main['diff_mess'] = main.apply(lambda x: x['messages_included'] - x['mess_count'] \n",
    "           if np.isnan(x['mess_count']) == False else np.nan, axis = 1)"
   ]
  },
  {
   "cell_type": "code",
   "execution_count": 273,
   "metadata": {
    "colab": {
     "base_uri": "https://localhost:8080/",
     "height": 487
    },
    "id": "vjzkYweGRNQE",
    "outputId": "1941a986-cdbf-409f-ecf7-ae1055ea1b70"
   },
   "outputs": [
    {
     "data": {
      "text/html": [
       "<div>\n",
       "<style scoped>\n",
       "    .dataframe tbody tr th:only-of-type {\n",
       "        vertical-align: middle;\n",
       "    }\n",
       "\n",
       "    .dataframe tbody tr th {\n",
       "        vertical-align: top;\n",
       "    }\n",
       "\n",
       "    .dataframe thead th {\n",
       "        text-align: right;\n",
       "    }\n",
       "</style>\n",
       "<table border=\"1\" class=\"dataframe\">\n",
       "  <thead>\n",
       "    <tr style=\"text-align: right;\">\n",
       "      <th></th>\n",
       "      <th>user_id</th>\n",
       "      <th>tariff</th>\n",
       "      <th>month</th>\n",
       "      <th>rub_monthly_fee</th>\n",
       "      <th>calls_count</th>\n",
       "      <th>minutes_sum</th>\n",
       "      <th>minutes_included</th>\n",
       "      <th>rub_per_minute</th>\n",
       "      <th>diff_min</th>\n",
       "      <th>price_add_min</th>\n",
       "      <th>mess_count</th>\n",
       "      <th>messages_included</th>\n",
       "      <th>rub_per_message</th>\n",
       "      <th>diff_mess</th>\n",
       "      <th>price_add_mess</th>\n",
       "      <th>internet_month</th>\n",
       "      <th>int_count</th>\n",
       "      <th>int_sum_MB</th>\n",
       "      <th>mb_per_month_included</th>\n",
       "      <th>rub_per_gb</th>\n",
       "      <th>tariff_name</th>\n",
       "      <th>diff_MB</th>\n",
       "      <th>diff_GB</th>\n",
       "      <th>diff_GB_round</th>\n",
       "      <th>price_add_GB</th>\n",
       "      <th>revenue</th>\n",
       "    </tr>\n",
       "  </thead>\n",
       "  <tbody>\n",
       "    <tr>\n",
       "      <th>0</th>\n",
       "      <td>1000</td>\n",
       "      <td>ultra</td>\n",
       "      <td>1</td>\n",
       "      <td>1950</td>\n",
       "      <td>NaN</td>\n",
       "      <td>NaN</td>\n",
       "      <td>3000</td>\n",
       "      <td>1</td>\n",
       "      <td>NaN</td>\n",
       "      <td>0.0</td>\n",
       "      <td>NaN</td>\n",
       "      <td>1000</td>\n",
       "      <td>1</td>\n",
       "      <td>NaN</td>\n",
       "      <td>0.0</td>\n",
       "      <td>NaN</td>\n",
       "      <td>NaN</td>\n",
       "      <td>NaN</td>\n",
       "      <td>30720</td>\n",
       "      <td>150</td>\n",
       "      <td>ultra</td>\n",
       "      <td>NaN</td>\n",
       "      <td>NaN</td>\n",
       "      <td>NaN</td>\n",
       "      <td>0.0</td>\n",
       "      <td>NaN</td>\n",
       "    </tr>\n",
       "    <tr>\n",
       "      <th>1</th>\n",
       "      <td>1000</td>\n",
       "      <td>ultra</td>\n",
       "      <td>2</td>\n",
       "      <td>1950</td>\n",
       "      <td>NaN</td>\n",
       "      <td>NaN</td>\n",
       "      <td>3000</td>\n",
       "      <td>1</td>\n",
       "      <td>NaN</td>\n",
       "      <td>0.0</td>\n",
       "      <td>NaN</td>\n",
       "      <td>1000</td>\n",
       "      <td>1</td>\n",
       "      <td>NaN</td>\n",
       "      <td>0.0</td>\n",
       "      <td>NaN</td>\n",
       "      <td>NaN</td>\n",
       "      <td>NaN</td>\n",
       "      <td>30720</td>\n",
       "      <td>150</td>\n",
       "      <td>ultra</td>\n",
       "      <td>NaN</td>\n",
       "      <td>NaN</td>\n",
       "      <td>NaN</td>\n",
       "      <td>0.0</td>\n",
       "      <td>NaN</td>\n",
       "    </tr>\n",
       "    <tr>\n",
       "      <th>2</th>\n",
       "      <td>1000</td>\n",
       "      <td>ultra</td>\n",
       "      <td>3</td>\n",
       "      <td>1950</td>\n",
       "      <td>NaN</td>\n",
       "      <td>NaN</td>\n",
       "      <td>3000</td>\n",
       "      <td>1</td>\n",
       "      <td>NaN</td>\n",
       "      <td>0.0</td>\n",
       "      <td>NaN</td>\n",
       "      <td>1000</td>\n",
       "      <td>1</td>\n",
       "      <td>NaN</td>\n",
       "      <td>0.0</td>\n",
       "      <td>NaN</td>\n",
       "      <td>NaN</td>\n",
       "      <td>NaN</td>\n",
       "      <td>30720</td>\n",
       "      <td>150</td>\n",
       "      <td>ultra</td>\n",
       "      <td>NaN</td>\n",
       "      <td>NaN</td>\n",
       "      <td>NaN</td>\n",
       "      <td>0.0</td>\n",
       "      <td>NaN</td>\n",
       "    </tr>\n",
       "    <tr>\n",
       "      <th>3</th>\n",
       "      <td>1000</td>\n",
       "      <td>ultra</td>\n",
       "      <td>4</td>\n",
       "      <td>1950</td>\n",
       "      <td>NaN</td>\n",
       "      <td>NaN</td>\n",
       "      <td>3000</td>\n",
       "      <td>1</td>\n",
       "      <td>NaN</td>\n",
       "      <td>0.0</td>\n",
       "      <td>NaN</td>\n",
       "      <td>1000</td>\n",
       "      <td>1</td>\n",
       "      <td>NaN</td>\n",
       "      <td>0.0</td>\n",
       "      <td>NaN</td>\n",
       "      <td>NaN</td>\n",
       "      <td>NaN</td>\n",
       "      <td>30720</td>\n",
       "      <td>150</td>\n",
       "      <td>ultra</td>\n",
       "      <td>NaN</td>\n",
       "      <td>NaN</td>\n",
       "      <td>NaN</td>\n",
       "      <td>0.0</td>\n",
       "      <td>NaN</td>\n",
       "    </tr>\n",
       "    <tr>\n",
       "      <th>4</th>\n",
       "      <td>1000</td>\n",
       "      <td>ultra</td>\n",
       "      <td>5</td>\n",
       "      <td>1950</td>\n",
       "      <td>17.0</td>\n",
       "      <td>159.0</td>\n",
       "      <td>3000</td>\n",
       "      <td>1</td>\n",
       "      <td>2841.0</td>\n",
       "      <td>0.0</td>\n",
       "      <td>22.0</td>\n",
       "      <td>1000</td>\n",
       "      <td>1</td>\n",
       "      <td>978.0</td>\n",
       "      <td>0.0</td>\n",
       "      <td>5.0</td>\n",
       "      <td>4.0</td>\n",
       "      <td>2256.0</td>\n",
       "      <td>30720</td>\n",
       "      <td>150</td>\n",
       "      <td>ultra</td>\n",
       "      <td>28464.0</td>\n",
       "      <td>27.796875</td>\n",
       "      <td>27.0</td>\n",
       "      <td>0.0</td>\n",
       "      <td>1950.0</td>\n",
       "    </tr>\n",
       "  </tbody>\n",
       "</table>\n",
       "</div>"
      ],
      "text/plain": [
       "   user_id tariff  month  rub_monthly_fee  calls_count  minutes_sum  \\\n",
       "0     1000  ultra      1             1950          NaN          NaN   \n",
       "1     1000  ultra      2             1950          NaN          NaN   \n",
       "2     1000  ultra      3             1950          NaN          NaN   \n",
       "3     1000  ultra      4             1950          NaN          NaN   \n",
       "4     1000  ultra      5             1950         17.0        159.0   \n",
       "\n",
       "   minutes_included  rub_per_minute  diff_min  price_add_min  mess_count  \\\n",
       "0              3000               1       NaN            0.0         NaN   \n",
       "1              3000               1       NaN            0.0         NaN   \n",
       "2              3000               1       NaN            0.0         NaN   \n",
       "3              3000               1       NaN            0.0         NaN   \n",
       "4              3000               1    2841.0            0.0        22.0   \n",
       "\n",
       "   messages_included  rub_per_message  diff_mess  price_add_mess  \\\n",
       "0               1000                1        NaN             0.0   \n",
       "1               1000                1        NaN             0.0   \n",
       "2               1000                1        NaN             0.0   \n",
       "3               1000                1        NaN             0.0   \n",
       "4               1000                1      978.0             0.0   \n",
       "\n",
       "   internet_month  int_count  int_sum_MB  mb_per_month_included  rub_per_gb  \\\n",
       "0             NaN        NaN         NaN                  30720         150   \n",
       "1             NaN        NaN         NaN                  30720         150   \n",
       "2             NaN        NaN         NaN                  30720         150   \n",
       "3             NaN        NaN         NaN                  30720         150   \n",
       "4             5.0        4.0      2256.0                  30720         150   \n",
       "\n",
       "  tariff_name  diff_MB    diff_GB  diff_GB_round  price_add_GB  revenue  \n",
       "0       ultra      NaN        NaN            NaN           0.0      NaN  \n",
       "1       ultra      NaN        NaN            NaN           0.0      NaN  \n",
       "2       ultra      NaN        NaN            NaN           0.0      NaN  \n",
       "3       ultra      NaN        NaN            NaN           0.0      NaN  \n",
       "4       ultra  28464.0  27.796875           27.0           0.0   1950.0  "
      ]
     },
     "execution_count": 273,
     "metadata": {},
     "output_type": "execute_result"
    }
   ],
   "source": [
    "main.head()"
   ]
  },
  {
   "cell_type": "markdown",
   "metadata": {
    "id": "ebh1erljRXvq"
   },
   "source": [
    "Посчитали все верно"
   ]
  },
  {
   "cell_type": "code",
   "execution_count": 162,
   "metadata": {
    "colab": {
     "base_uri": "https://localhost:8080/",
     "height": 283
    },
    "id": "amgGw7KLXxQk",
    "outputId": "6b50db37-7ebc-485c-f1ef-68acb3a1164d"
   },
   "outputs": [
    {
     "data": {
      "text/plain": [
       "<AxesSubplot:>"
      ]
     },
     "execution_count": 162,
     "metadata": {},
     "output_type": "execute_result"
    },
    {
     "data": {
      "image/png": "[encoded data removed]",
      "text/plain": [
       "<Figure size 432x288 with 1 Axes>"
      ]
     },
     "metadata": {
      "needs_background": "light"
     },
     "output_type": "display_data"
    }
   ],
   "source": [
    "main.query('tariff==\"smart\"')['diff_mess'].hist(bins=50)"
   ]
  },
  {
   "cell_type": "markdown",
   "metadata": {
    "id": "Cfc6SYWCYBWg"
   },
   "source": [
    "Как мы видим по тарифу smart пользователи достаточно часто превышают лимит отправки"
   ]
  },
  {
   "cell_type": "code",
   "execution_count": 163,
   "metadata": {
    "colab": {
     "base_uri": "https://localhost:8080/",
     "height": 283
    },
    "id": "_SGtAVfBXxQm",
    "outputId": "2f0d115b-2b97-4330-cebd-398e769eccd3"
   },
   "outputs": [
    {
     "data": {
      "text/plain": [
       "<AxesSubplot:>"
      ]
     },
     "execution_count": 163,
     "metadata": {},
     "output_type": "execute_result"
    },
    {
     "data": {
      "image/png": "[encoded data removed]",
      "text/plain": [
       "<Figure size 432x288 with 1 Axes>"
      ]
     },
     "metadata": {
      "needs_background": "light"
     },
     "output_type": "display_data"
    }
   ],
   "source": [
    "main.query('tariff==\"ultra\"')['diff_mess'].hist(bins=50)"
   ]
  },
  {
   "cell_type": "markdown",
   "metadata": {
    "id": "VjJE0Wk3iOMo"
   },
   "source": [
    "Для тарифа ultra пользователи не превышают лимит тарифа по отправкам смс"
   ]
  },
  {
   "cell_type": "markdown",
   "metadata": {
    "id": "KWoPuTY6ivRQ"
   },
   "source": [
    "Посчитаем какое кол-во денег пользователи потратили на смс превышающий тарифный план"
   ]
  },
  {
   "cell_type": "code",
   "execution_count": 164,
   "metadata": {
    "id": "oPYcWHEQXxQm"
   },
   "outputs": [],
   "source": [
    "main['price_add_mess'] = (main.apply(lambda x: abs(x['diff_mess']*x['rub_per_message']) \n",
    "                                          if x['diff_mess'] < 0 else 0, axis=1 ))"
   ]
  },
  {
   "cell_type": "code",
   "execution_count": 274,
   "metadata": {
    "colab": {
     "base_uri": "https://localhost:8080/",
     "height": 487
    },
    "id": "6C1Q5OlZRjn4",
    "outputId": "22bbce6a-ceca-4a2d-882e-f735d418e3bb"
   },
   "outputs": [
    {
     "data": {
      "text/html": [
       "<div>\n",
       "<style scoped>\n",
       "    .dataframe tbody tr th:only-of-type {\n",
       "        vertical-align: middle;\n",
       "    }\n",
       "\n",
       "    .dataframe tbody tr th {\n",
       "        vertical-align: top;\n",
       "    }\n",
       "\n",
       "    .dataframe thead th {\n",
       "        text-align: right;\n",
       "    }\n",
       "</style>\n",
       "<table border=\"1\" class=\"dataframe\">\n",
       "  <thead>\n",
       "    <tr style=\"text-align: right;\">\n",
       "      <th></th>\n",
       "      <th>user_id</th>\n",
       "      <th>tariff</th>\n",
       "      <th>month</th>\n",
       "      <th>rub_monthly_fee</th>\n",
       "      <th>calls_count</th>\n",
       "      <th>minutes_sum</th>\n",
       "      <th>minutes_included</th>\n",
       "      <th>rub_per_minute</th>\n",
       "      <th>diff_min</th>\n",
       "      <th>price_add_min</th>\n",
       "      <th>mess_count</th>\n",
       "      <th>messages_included</th>\n",
       "      <th>rub_per_message</th>\n",
       "      <th>diff_mess</th>\n",
       "      <th>price_add_mess</th>\n",
       "      <th>internet_month</th>\n",
       "      <th>int_count</th>\n",
       "      <th>int_sum_MB</th>\n",
       "      <th>mb_per_month_included</th>\n",
       "      <th>rub_per_gb</th>\n",
       "      <th>tariff_name</th>\n",
       "      <th>diff_MB</th>\n",
       "      <th>diff_GB</th>\n",
       "      <th>diff_GB_round</th>\n",
       "      <th>price_add_GB</th>\n",
       "      <th>revenue</th>\n",
       "    </tr>\n",
       "  </thead>\n",
       "  <tbody>\n",
       "    <tr>\n",
       "      <th>0</th>\n",
       "      <td>1000</td>\n",
       "      <td>ultra</td>\n",
       "      <td>1</td>\n",
       "      <td>1950</td>\n",
       "      <td>NaN</td>\n",
       "      <td>NaN</td>\n",
       "      <td>3000</td>\n",
       "      <td>1</td>\n",
       "      <td>NaN</td>\n",
       "      <td>0.0</td>\n",
       "      <td>NaN</td>\n",
       "      <td>1000</td>\n",
       "      <td>1</td>\n",
       "      <td>NaN</td>\n",
       "      <td>0.0</td>\n",
       "      <td>NaN</td>\n",
       "      <td>NaN</td>\n",
       "      <td>NaN</td>\n",
       "      <td>30720</td>\n",
       "      <td>150</td>\n",
       "      <td>ultra</td>\n",
       "      <td>NaN</td>\n",
       "      <td>NaN</td>\n",
       "      <td>NaN</td>\n",
       "      <td>0.0</td>\n",
       "      <td>NaN</td>\n",
       "    </tr>\n",
       "    <tr>\n",
       "      <th>1</th>\n",
       "      <td>1000</td>\n",
       "      <td>ultra</td>\n",
       "      <td>2</td>\n",
       "      <td>1950</td>\n",
       "      <td>NaN</td>\n",
       "      <td>NaN</td>\n",
       "      <td>3000</td>\n",
       "      <td>1</td>\n",
       "      <td>NaN</td>\n",
       "      <td>0.0</td>\n",
       "      <td>NaN</td>\n",
       "      <td>1000</td>\n",
       "      <td>1</td>\n",
       "      <td>NaN</td>\n",
       "      <td>0.0</td>\n",
       "      <td>NaN</td>\n",
       "      <td>NaN</td>\n",
       "      <td>NaN</td>\n",
       "      <td>30720</td>\n",
       "      <td>150</td>\n",
       "      <td>ultra</td>\n",
       "      <td>NaN</td>\n",
       "      <td>NaN</td>\n",
       "      <td>NaN</td>\n",
       "      <td>0.0</td>\n",
       "      <td>NaN</td>\n",
       "    </tr>\n",
       "    <tr>\n",
       "      <th>2</th>\n",
       "      <td>1000</td>\n",
       "      <td>ultra</td>\n",
       "      <td>3</td>\n",
       "      <td>1950</td>\n",
       "      <td>NaN</td>\n",
       "      <td>NaN</td>\n",
       "      <td>3000</td>\n",
       "      <td>1</td>\n",
       "      <td>NaN</td>\n",
       "      <td>0.0</td>\n",
       "      <td>NaN</td>\n",
       "      <td>1000</td>\n",
       "      <td>1</td>\n",
       "      <td>NaN</td>\n",
       "      <td>0.0</td>\n",
       "      <td>NaN</td>\n",
       "      <td>NaN</td>\n",
       "      <td>NaN</td>\n",
       "      <td>30720</td>\n",
       "      <td>150</td>\n",
       "      <td>ultra</td>\n",
       "      <td>NaN</td>\n",
       "      <td>NaN</td>\n",
       "      <td>NaN</td>\n",
       "      <td>0.0</td>\n",
       "      <td>NaN</td>\n",
       "    </tr>\n",
       "    <tr>\n",
       "      <th>3</th>\n",
       "      <td>1000</td>\n",
       "      <td>ultra</td>\n",
       "      <td>4</td>\n",
       "      <td>1950</td>\n",
       "      <td>NaN</td>\n",
       "      <td>NaN</td>\n",
       "      <td>3000</td>\n",
       "      <td>1</td>\n",
       "      <td>NaN</td>\n",
       "      <td>0.0</td>\n",
       "      <td>NaN</td>\n",
       "      <td>1000</td>\n",
       "      <td>1</td>\n",
       "      <td>NaN</td>\n",
       "      <td>0.0</td>\n",
       "      <td>NaN</td>\n",
       "      <td>NaN</td>\n",
       "      <td>NaN</td>\n",
       "      <td>30720</td>\n",
       "      <td>150</td>\n",
       "      <td>ultra</td>\n",
       "      <td>NaN</td>\n",
       "      <td>NaN</td>\n",
       "      <td>NaN</td>\n",
       "      <td>0.0</td>\n",
       "      <td>NaN</td>\n",
       "    </tr>\n",
       "    <tr>\n",
       "      <th>4</th>\n",
       "      <td>1000</td>\n",
       "      <td>ultra</td>\n",
       "      <td>5</td>\n",
       "      <td>1950</td>\n",
       "      <td>17.0</td>\n",
       "      <td>159.0</td>\n",
       "      <td>3000</td>\n",
       "      <td>1</td>\n",
       "      <td>2841.0</td>\n",
       "      <td>0.0</td>\n",
       "      <td>22.0</td>\n",
       "      <td>1000</td>\n",
       "      <td>1</td>\n",
       "      <td>978.0</td>\n",
       "      <td>0.0</td>\n",
       "      <td>5.0</td>\n",
       "      <td>4.0</td>\n",
       "      <td>2256.0</td>\n",
       "      <td>30720</td>\n",
       "      <td>150</td>\n",
       "      <td>ultra</td>\n",
       "      <td>28464.0</td>\n",
       "      <td>27.796875</td>\n",
       "      <td>27.0</td>\n",
       "      <td>0.0</td>\n",
       "      <td>1950.0</td>\n",
       "    </tr>\n",
       "  </tbody>\n",
       "</table>\n",
       "</div>"
      ],
      "text/plain": [
       "   user_id tariff  month  rub_monthly_fee  calls_count  minutes_sum  \\\n",
       "0     1000  ultra      1             1950          NaN          NaN   \n",
       "1     1000  ultra      2             1950          NaN          NaN   \n",
       "2     1000  ultra      3             1950          NaN          NaN   \n",
       "3     1000  ultra      4             1950          NaN          NaN   \n",
       "4     1000  ultra      5             1950         17.0        159.0   \n",
       "\n",
       "   minutes_included  rub_per_minute  diff_min  price_add_min  mess_count  \\\n",
       "0              3000               1       NaN            0.0         NaN   \n",
       "1              3000               1       NaN            0.0         NaN   \n",
       "2              3000               1       NaN            0.0         NaN   \n",
       "3              3000               1       NaN            0.0         NaN   \n",
       "4              3000               1    2841.0            0.0        22.0   \n",
       "\n",
       "   messages_included  rub_per_message  diff_mess  price_add_mess  \\\n",
       "0               1000                1        NaN             0.0   \n",
       "1               1000                1        NaN             0.0   \n",
       "2               1000                1        NaN             0.0   \n",
       "3               1000                1        NaN             0.0   \n",
       "4               1000                1      978.0             0.0   \n",
       "\n",
       "   internet_month  int_count  int_sum_MB  mb_per_month_included  rub_per_gb  \\\n",
       "0             NaN        NaN         NaN                  30720         150   \n",
       "1             NaN        NaN         NaN                  30720         150   \n",
       "2             NaN        NaN         NaN                  30720         150   \n",
       "3             NaN        NaN         NaN                  30720         150   \n",
       "4             5.0        4.0      2256.0                  30720         150   \n",
       "\n",
       "  tariff_name  diff_MB    diff_GB  diff_GB_round  price_add_GB  revenue  \n",
       "0       ultra      NaN        NaN            NaN           0.0      NaN  \n",
       "1       ultra      NaN        NaN            NaN           0.0      NaN  \n",
       "2       ultra      NaN        NaN            NaN           0.0      NaN  \n",
       "3       ultra      NaN        NaN            NaN           0.0      NaN  \n",
       "4       ultra  28464.0  27.796875           27.0           0.0   1950.0  "
      ]
     },
     "execution_count": 274,
     "metadata": {},
     "output_type": "execute_result"
    }
   ],
   "source": [
    "main.head()"
   ]
  },
  {
   "cell_type": "markdown",
   "metadata": {
    "id": "7v35ELx5Rliy"
   },
   "source": [
    "Добавили новый столбец price_add_mess - кол-во рублей, которые пользователи потратили на дополнительные сообщения вне тарифного плана"
   ]
  },
  {
   "cell_type": "markdown",
   "metadata": {
    "id": "CuLH2wvoZAmq"
   },
   "source": [
    "### Интернет"
   ]
  },
  {
   "cell_type": "markdown",
   "metadata": {
    "id": "XL8HDD_lR5yM"
   },
   "source": [
    "Приведем таблицу internet к нужному виду"
   ]
  },
  {
   "cell_type": "code",
   "execution_count": 166,
   "metadata": {
    "id": "X5ICGuwfZexv"
   },
   "outputs": [],
   "source": [
    "t = (internet.groupby(['user_id',\"internet_month\"])['mb_used']\n",
    " .agg(['count','sum']).reset_index().rename(columns={'count':'int_count','sum':'int_sum_MB'}))"
   ]
  },
  {
   "cell_type": "markdown",
   "metadata": {
    "id": "kQBg3hHWR_GA"
   },
   "source": [
    "Соединим таблицы main и t (сформированную из internet)"
   ]
  },
  {
   "cell_type": "code",
   "execution_count": 167,
   "metadata": {
    "id": "3FMu0cBEZN5O"
   },
   "outputs": [],
   "source": [
    "main = pd.merge(main, t,how='left', left_on=['user_id','month'],right_on=['user_id','internet_month'])"
   ]
  },
  {
   "cell_type": "markdown",
   "metadata": {
    "id": "JrX6c9YXSKKE"
   },
   "source": [
    "Проверим все ли данные сохранились"
   ]
  },
  {
   "cell_type": "code",
   "execution_count": 168,
   "metadata": {
    "colab": {
     "base_uri": "https://localhost:8080/"
    },
    "id": "t8Nu073-SQqI",
    "outputId": "414d4988-0ffc-4feb-aad1-b493a9c0f7e5"
   },
   "outputs": [
    {
     "data": {
      "text/plain": [
       "1450301.0"
      ]
     },
     "execution_count": 168,
     "metadata": {},
     "output_type": "execute_result"
    }
   ],
   "source": [
    "main['minutes_sum'].sum()"
   ]
  },
  {
   "cell_type": "code",
   "execution_count": 169,
   "metadata": {
    "colab": {
     "base_uri": "https://localhost:8080/"
    },
    "id": "diKLWBnvSQqJ",
    "outputId": "ac815338-af0a-4269-a418-77e8ea0e551e"
   },
   "outputs": [
    {
     "data": {
      "text/plain": [
       "1450301.0"
      ]
     },
     "execution_count": 169,
     "metadata": {},
     "output_type": "execute_result"
    }
   ],
   "source": [
    "calls['duration'].sum()"
   ]
  },
  {
   "cell_type": "code",
   "execution_count": 170,
   "metadata": {
    "colab": {
     "base_uri": "https://localhost:8080/"
    },
    "id": "eEdJ9Gv4SQqK",
    "outputId": "a84ea930-1192-4810-8f48-d9ff5f6f048d"
   },
   "outputs": [
    {
     "data": {
      "text/plain": [
       "123036.0"
      ]
     },
     "execution_count": 170,
     "metadata": {},
     "output_type": "execute_result"
    }
   ],
   "source": [
    "main['mess_count'].sum()"
   ]
  },
  {
   "cell_type": "code",
   "execution_count": 171,
   "metadata": {
    "colab": {
     "base_uri": "https://localhost:8080/"
    },
    "id": "On_97sxmSQqK",
    "outputId": "0239be78-7fdd-4526-e116-2ba5f7a7ced8"
   },
   "outputs": [
    {
     "data": {
      "text/plain": [
       "123036"
      ]
     },
     "execution_count": 171,
     "metadata": {},
     "output_type": "execute_result"
    }
   ],
   "source": [
    "len(messages)"
   ]
  },
  {
   "cell_type": "code",
   "execution_count": 172,
   "metadata": {
    "colab": {
     "base_uri": "https://localhost:8080/"
    },
    "id": "xPksLBD7aSoF",
    "outputId": "81d1453e-6005-4099-e765-d87560a0e586"
   },
   "outputs": [
    {
     "data": {
      "text/plain": [
       "55369459.0"
      ]
     },
     "execution_count": 172,
     "metadata": {},
     "output_type": "execute_result"
    }
   ],
   "source": [
    "main['int_sum_MB'].sum()"
   ]
  },
  {
   "cell_type": "code",
   "execution_count": 173,
   "metadata": {
    "colab": {
     "base_uri": "https://localhost:8080/"
    },
    "id": "mDZ6doyPaSoG",
    "outputId": "4fd092ac-bd29-4c17-d199-d76ed6230e30"
   },
   "outputs": [
    {
     "data": {
      "text/plain": [
       "55369459.0"
      ]
     },
     "execution_count": 173,
     "metadata": {},
     "output_type": "execute_result"
    }
   ],
   "source": [
    "internet['mb_used'].sum()"
   ]
  },
  {
   "cell_type": "markdown",
   "metadata": {
    "id": "cd4Kkz5Mac7F"
   },
   "source": [
    "Все сходится"
   ]
  },
  {
   "cell_type": "markdown",
   "metadata": {
    "id": "JWNNrPLtSV_k"
   },
   "source": [
    "Добавим тарифы"
   ]
  },
  {
   "cell_type": "code",
   "execution_count": 174,
   "metadata": {
    "id": "k7Jzy7_uaegS"
   },
   "outputs": [],
   "source": [
    "main = pd.merge(main, tariffs[['mb_per_month_included','rub_per_gb','tariff_name']],\n",
    "                       how='inner', left_on='tariff',right_on = 'tariff_name')"
   ]
  },
  {
   "cell_type": "code",
   "execution_count": 175,
   "metadata": {
    "id": "srCSvFLHdMOl"
   },
   "outputs": [],
   "source": [
    "main['diff_MB'] = np.nan"
   ]
  },
  {
   "cell_type": "code",
   "execution_count": 176,
   "metadata": {
    "colab": {
     "base_uri": "https://localhost:8080/"
    },
    "id": "U4XTgWrUdJ7h",
    "outputId": "2e048e51-ee83-4396-9f67-60ece2b2a8af"
   },
   "outputs": [
    {
     "name": "stderr",
     "output_type": "stream",
     "text": [
      "C:\\Users\\lavru\\AppData\\Local\\Temp\\ipykernel_9160\\1380714725.py:5: SettingWithCopyWarning: \n",
      "A value is trying to be set on a copy of a slice from a DataFrame\n",
      "\n",
      "See the caveats in the documentation: https://pandas.pydata.org/pandas-docs/stable/user_guide/indexing.html#returning-a-view-versus-a-copy\n",
      "  main['diff_MB'][i] = main['mb_per_month_included'][i] - main['int_sum_MB'][i]\n"
     ]
    }
   ],
   "source": [
    "for i, _ in main.iterrows():\n",
    "  if main['int_sum_MB'][i] == np.nan:\n",
    "    main['diff_MB'][i] = np.nan\n",
    "  else:\n",
    "    main['diff_MB'][i] = main['mb_per_month_included'][i] - main['int_sum_MB'][i]"
   ]
  },
  {
   "cell_type": "code",
   "execution_count": 177,
   "metadata": {
    "id": "2IXizg0VSfAO"
   },
   "outputs": [],
   "source": [
    "main['diff_MB'] = main.apply(lambda x: x['mb_per_month_included'] - x['int_sum_MB'] \n",
    "           if np.isnan(x['int_sum_MB']) == False else np.nan, axis = 1)"
   ]
  },
  {
   "cell_type": "code",
   "execution_count": 275,
   "metadata": {
    "colab": {
     "base_uri": "https://localhost:8080/",
     "height": 487
    },
    "id": "Dvt4xW84Si-C",
    "outputId": "907141c1-9ca4-43f9-b7a2-6a04ddde825e"
   },
   "outputs": [
    {
     "data": {
      "text/html": [
       "<div>\n",
       "<style scoped>\n",
       "    .dataframe tbody tr th:only-of-type {\n",
       "        vertical-align: middle;\n",
       "    }\n",
       "\n",
       "    .dataframe tbody tr th {\n",
       "        vertical-align: top;\n",
       "    }\n",
       "\n",
       "    .dataframe thead th {\n",
       "        text-align: right;\n",
       "    }\n",
       "</style>\n",
       "<table border=\"1\" class=\"dataframe\">\n",
       "  <thead>\n",
       "    <tr style=\"text-align: right;\">\n",
       "      <th></th>\n",
       "      <th>user_id</th>\n",
       "      <th>tariff</th>\n",
       "      <th>month</th>\n",
       "      <th>rub_monthly_fee</th>\n",
       "      <th>calls_count</th>\n",
       "      <th>minutes_sum</th>\n",
       "      <th>minutes_included</th>\n",
       "      <th>rub_per_minute</th>\n",
       "      <th>diff_min</th>\n",
       "      <th>price_add_min</th>\n",
       "      <th>mess_count</th>\n",
       "      <th>messages_included</th>\n",
       "      <th>rub_per_message</th>\n",
       "      <th>diff_mess</th>\n",
       "      <th>price_add_mess</th>\n",
       "      <th>internet_month</th>\n",
       "      <th>int_count</th>\n",
       "      <th>int_sum_MB</th>\n",
       "      <th>mb_per_month_included</th>\n",
       "      <th>rub_per_gb</th>\n",
       "      <th>tariff_name</th>\n",
       "      <th>diff_MB</th>\n",
       "      <th>diff_GB</th>\n",
       "      <th>diff_GB_round</th>\n",
       "      <th>price_add_GB</th>\n",
       "      <th>revenue</th>\n",
       "    </tr>\n",
       "  </thead>\n",
       "  <tbody>\n",
       "    <tr>\n",
       "      <th>0</th>\n",
       "      <td>1000</td>\n",
       "      <td>ultra</td>\n",
       "      <td>1</td>\n",
       "      <td>1950</td>\n",
       "      <td>NaN</td>\n",
       "      <td>NaN</td>\n",
       "      <td>3000</td>\n",
       "      <td>1</td>\n",
       "      <td>NaN</td>\n",
       "      <td>0.0</td>\n",
       "      <td>NaN</td>\n",
       "      <td>1000</td>\n",
       "      <td>1</td>\n",
       "      <td>NaN</td>\n",
       "      <td>0.0</td>\n",
       "      <td>NaN</td>\n",
       "      <td>NaN</td>\n",
       "      <td>NaN</td>\n",
       "      <td>30720</td>\n",
       "      <td>150</td>\n",
       "      <td>ultra</td>\n",
       "      <td>NaN</td>\n",
       "      <td>NaN</td>\n",
       "      <td>NaN</td>\n",
       "      <td>0.0</td>\n",
       "      <td>NaN</td>\n",
       "    </tr>\n",
       "    <tr>\n",
       "      <th>1</th>\n",
       "      <td>1000</td>\n",
       "      <td>ultra</td>\n",
       "      <td>2</td>\n",
       "      <td>1950</td>\n",
       "      <td>NaN</td>\n",
       "      <td>NaN</td>\n",
       "      <td>3000</td>\n",
       "      <td>1</td>\n",
       "      <td>NaN</td>\n",
       "      <td>0.0</td>\n",
       "      <td>NaN</td>\n",
       "      <td>1000</td>\n",
       "      <td>1</td>\n",
       "      <td>NaN</td>\n",
       "      <td>0.0</td>\n",
       "      <td>NaN</td>\n",
       "      <td>NaN</td>\n",
       "      <td>NaN</td>\n",
       "      <td>30720</td>\n",
       "      <td>150</td>\n",
       "      <td>ultra</td>\n",
       "      <td>NaN</td>\n",
       "      <td>NaN</td>\n",
       "      <td>NaN</td>\n",
       "      <td>0.0</td>\n",
       "      <td>NaN</td>\n",
       "    </tr>\n",
       "    <tr>\n",
       "      <th>2</th>\n",
       "      <td>1000</td>\n",
       "      <td>ultra</td>\n",
       "      <td>3</td>\n",
       "      <td>1950</td>\n",
       "      <td>NaN</td>\n",
       "      <td>NaN</td>\n",
       "      <td>3000</td>\n",
       "      <td>1</td>\n",
       "      <td>NaN</td>\n",
       "      <td>0.0</td>\n",
       "      <td>NaN</td>\n",
       "      <td>1000</td>\n",
       "      <td>1</td>\n",
       "      <td>NaN</td>\n",
       "      <td>0.0</td>\n",
       "      <td>NaN</td>\n",
       "      <td>NaN</td>\n",
       "      <td>NaN</td>\n",
       "      <td>30720</td>\n",
       "      <td>150</td>\n",
       "      <td>ultra</td>\n",
       "      <td>NaN</td>\n",
       "      <td>NaN</td>\n",
       "      <td>NaN</td>\n",
       "      <td>0.0</td>\n",
       "      <td>NaN</td>\n",
       "    </tr>\n",
       "    <tr>\n",
       "      <th>3</th>\n",
       "      <td>1000</td>\n",
       "      <td>ultra</td>\n",
       "      <td>4</td>\n",
       "      <td>1950</td>\n",
       "      <td>NaN</td>\n",
       "      <td>NaN</td>\n",
       "      <td>3000</td>\n",
       "      <td>1</td>\n",
       "      <td>NaN</td>\n",
       "      <td>0.0</td>\n",
       "      <td>NaN</td>\n",
       "      <td>1000</td>\n",
       "      <td>1</td>\n",
       "      <td>NaN</td>\n",
       "      <td>0.0</td>\n",
       "      <td>NaN</td>\n",
       "      <td>NaN</td>\n",
       "      <td>NaN</td>\n",
       "      <td>30720</td>\n",
       "      <td>150</td>\n",
       "      <td>ultra</td>\n",
       "      <td>NaN</td>\n",
       "      <td>NaN</td>\n",
       "      <td>NaN</td>\n",
       "      <td>0.0</td>\n",
       "      <td>NaN</td>\n",
       "    </tr>\n",
       "    <tr>\n",
       "      <th>4</th>\n",
       "      <td>1000</td>\n",
       "      <td>ultra</td>\n",
       "      <td>5</td>\n",
       "      <td>1950</td>\n",
       "      <td>17.0</td>\n",
       "      <td>159.0</td>\n",
       "      <td>3000</td>\n",
       "      <td>1</td>\n",
       "      <td>2841.0</td>\n",
       "      <td>0.0</td>\n",
       "      <td>22.0</td>\n",
       "      <td>1000</td>\n",
       "      <td>1</td>\n",
       "      <td>978.0</td>\n",
       "      <td>0.0</td>\n",
       "      <td>5.0</td>\n",
       "      <td>4.0</td>\n",
       "      <td>2256.0</td>\n",
       "      <td>30720</td>\n",
       "      <td>150</td>\n",
       "      <td>ultra</td>\n",
       "      <td>28464.0</td>\n",
       "      <td>27.796875</td>\n",
       "      <td>27.0</td>\n",
       "      <td>0.0</td>\n",
       "      <td>1950.0</td>\n",
       "    </tr>\n",
       "  </tbody>\n",
       "</table>\n",
       "</div>"
      ],
      "text/plain": [
       "   user_id tariff  month  rub_monthly_fee  calls_count  minutes_sum  \\\n",
       "0     1000  ultra      1             1950          NaN          NaN   \n",
       "1     1000  ultra      2             1950          NaN          NaN   \n",
       "2     1000  ultra      3             1950          NaN          NaN   \n",
       "3     1000  ultra      4             1950          NaN          NaN   \n",
       "4     1000  ultra      5             1950         17.0        159.0   \n",
       "\n",
       "   minutes_included  rub_per_minute  diff_min  price_add_min  mess_count  \\\n",
       "0              3000               1       NaN            0.0         NaN   \n",
       "1              3000               1       NaN            0.0         NaN   \n",
       "2              3000               1       NaN            0.0         NaN   \n",
       "3              3000               1       NaN            0.0         NaN   \n",
       "4              3000               1    2841.0            0.0        22.0   \n",
       "\n",
       "   messages_included  rub_per_message  diff_mess  price_add_mess  \\\n",
       "0               1000                1        NaN             0.0   \n",
       "1               1000                1        NaN             0.0   \n",
       "2               1000                1        NaN             0.0   \n",
       "3               1000                1        NaN             0.0   \n",
       "4               1000                1      978.0             0.0   \n",
       "\n",
       "   internet_month  int_count  int_sum_MB  mb_per_month_included  rub_per_gb  \\\n",
       "0             NaN        NaN         NaN                  30720         150   \n",
       "1             NaN        NaN         NaN                  30720         150   \n",
       "2             NaN        NaN         NaN                  30720         150   \n",
       "3             NaN        NaN         NaN                  30720         150   \n",
       "4             5.0        4.0      2256.0                  30720         150   \n",
       "\n",
       "  tariff_name  diff_MB    diff_GB  diff_GB_round  price_add_GB  revenue  \n",
       "0       ultra      NaN        NaN            NaN           0.0      NaN  \n",
       "1       ultra      NaN        NaN            NaN           0.0      NaN  \n",
       "2       ultra      NaN        NaN            NaN           0.0      NaN  \n",
       "3       ultra      NaN        NaN            NaN           0.0      NaN  \n",
       "4       ultra  28464.0  27.796875           27.0           0.0   1950.0  "
      ]
     },
     "execution_count": 275,
     "metadata": {},
     "output_type": "execute_result"
    }
   ],
   "source": [
    "main.head()"
   ]
  },
  {
   "cell_type": "markdown",
   "metadata": {
    "id": "3lY_OLqMSmlQ"
   },
   "source": [
    "Все вычесления сделали верно"
   ]
  },
  {
   "cell_type": "code",
   "execution_count": 179,
   "metadata": {
    "colab": {
     "base_uri": "https://localhost:8080/",
     "height": 283
    },
    "id": "E5iv0yG7dJ7i",
    "outputId": "39bd74a2-9f8d-4850-8e47-f7d0cc932054"
   },
   "outputs": [
    {
     "data": {
      "text/plain": [
       "<AxesSubplot:>"
      ]
     },
     "execution_count": 179,
     "metadata": {},
     "output_type": "execute_result"
    },
    {
     "data": {
      "image/png": "[encoded data removed]",
      "text/plain": [
       "<Figure size 432x288 with 1 Axes>"
      ]
     },
     "metadata": {
      "needs_background": "light"
     },
     "output_type": "display_data"
    }
   ],
   "source": [
    "main.query('tariff==\"smart\"')['diff_MB'].hist(bins=50)"
   ]
  },
  {
   "cell_type": "markdown",
   "metadata": {
    "id": "whkMmolqdJ7i"
   },
   "source": [
    "По тарифу smart пользователи часто платят за дополнительные ГБ"
   ]
  },
  {
   "cell_type": "code",
   "execution_count": 180,
   "metadata": {
    "colab": {
     "base_uri": "https://localhost:8080/",
     "height": 286
    },
    "id": "7A1pwhubdJ7j",
    "outputId": "72ce35c2-472c-4166-b3e7-df91630c195a"
   },
   "outputs": [
    {
     "data": {
      "text/plain": [
       "<AxesSubplot:>"
      ]
     },
     "execution_count": 180,
     "metadata": {},
     "output_type": "execute_result"
    },
    {
     "data": {
      "image/png": "[encoded data removed]",
      "text/plain": [
       "<Figure size 432x288 with 1 Axes>"
      ]
     },
     "metadata": {
      "needs_background": "light"
     },
     "output_type": "display_data"
    }
   ],
   "source": [
    "main.query('tariff==\"ultra\"')['diff_MB'].hist(bins=50)"
   ]
  },
  {
   "cell_type": "markdown",
   "metadata": {
    "id": "TRMdp-GLdJ7j"
   },
   "source": [
    "По тарифу ultra пользователи иногда так же выходят за рамки их тарифа"
   ]
  },
  {
   "cell_type": "markdown",
   "metadata": {
    "id": "LWjlJImXQbdu"
   },
   "source": [
    "Посчитаем сколько денег пользователи потратили на дополнительные ГБ"
   ]
  },
  {
   "cell_type": "markdown",
   "metadata": {
    "id": "Ip0h0xBPVIPl"
   },
   "source": [
    "Для начала переведем МБ в ГБ"
   ]
  },
  {
   "cell_type": "code",
   "execution_count": 181,
   "metadata": {
    "id": "gjlwbba6eCNw"
   },
   "outputs": [],
   "source": [
    "main['diff_GB'] = main['diff_MB'] /1024"
   ]
  },
  {
   "cell_type": "markdown",
   "metadata": {
    "id": "Vf37anr6eMP5"
   },
   "source": [
    "Теперь округлим ГБ, ведь пользователь покупает каждый дополнительный ГБ, который может потратить весь или частично"
   ]
  },
  {
   "cell_type": "code",
   "execution_count": 182,
   "metadata": {
    "id": "DmzJWC_NeRj1"
   },
   "outputs": [],
   "source": [
    "main['diff_GB_round'] = main['diff_GB'].apply(np.floor)"
   ]
  },
  {
   "cell_type": "code",
   "execution_count": 183,
   "metadata": {
    "id": "lkRm-R86dJ7k"
   },
   "outputs": [],
   "source": [
    "main['price_add_GB'] = (main.apply(lambda x: abs(x['diff_GB_round']*x['rub_per_gb']) \n",
    "                                          if x['diff_GB_round'] < 0 else 0, axis=1 ))"
   ]
  },
  {
   "cell_type": "code",
   "execution_count": 276,
   "metadata": {
    "colab": {
     "base_uri": "https://localhost:8080/",
     "height": 487
    },
    "id": "m6XfkZ0IS8_K",
    "outputId": "a8fd20bf-e7d1-46eb-a85f-afaaedd1fe5c"
   },
   "outputs": [
    {
     "data": {
      "text/html": [
       "<div>\n",
       "<style scoped>\n",
       "    .dataframe tbody tr th:only-of-type {\n",
       "        vertical-align: middle;\n",
       "    }\n",
       "\n",
       "    .dataframe tbody tr th {\n",
       "        vertical-align: top;\n",
       "    }\n",
       "\n",
       "    .dataframe thead th {\n",
       "        text-align: right;\n",
       "    }\n",
       "</style>\n",
       "<table border=\"1\" class=\"dataframe\">\n",
       "  <thead>\n",
       "    <tr style=\"text-align: right;\">\n",
       "      <th></th>\n",
       "      <th>user_id</th>\n",
       "      <th>tariff</th>\n",
       "      <th>month</th>\n",
       "      <th>rub_monthly_fee</th>\n",
       "      <th>calls_count</th>\n",
       "      <th>minutes_sum</th>\n",
       "      <th>minutes_included</th>\n",
       "      <th>rub_per_minute</th>\n",
       "      <th>diff_min</th>\n",
       "      <th>price_add_min</th>\n",
       "      <th>mess_count</th>\n",
       "      <th>messages_included</th>\n",
       "      <th>rub_per_message</th>\n",
       "      <th>diff_mess</th>\n",
       "      <th>price_add_mess</th>\n",
       "      <th>internet_month</th>\n",
       "      <th>int_count</th>\n",
       "      <th>int_sum_MB</th>\n",
       "      <th>mb_per_month_included</th>\n",
       "      <th>rub_per_gb</th>\n",
       "      <th>tariff_name</th>\n",
       "      <th>diff_MB</th>\n",
       "      <th>diff_GB</th>\n",
       "      <th>diff_GB_round</th>\n",
       "      <th>price_add_GB</th>\n",
       "      <th>revenue</th>\n",
       "    </tr>\n",
       "  </thead>\n",
       "  <tbody>\n",
       "    <tr>\n",
       "      <th>0</th>\n",
       "      <td>1000</td>\n",
       "      <td>ultra</td>\n",
       "      <td>1</td>\n",
       "      <td>1950</td>\n",
       "      <td>NaN</td>\n",
       "      <td>NaN</td>\n",
       "      <td>3000</td>\n",
       "      <td>1</td>\n",
       "      <td>NaN</td>\n",
       "      <td>0.0</td>\n",
       "      <td>NaN</td>\n",
       "      <td>1000</td>\n",
       "      <td>1</td>\n",
       "      <td>NaN</td>\n",
       "      <td>0.0</td>\n",
       "      <td>NaN</td>\n",
       "      <td>NaN</td>\n",
       "      <td>NaN</td>\n",
       "      <td>30720</td>\n",
       "      <td>150</td>\n",
       "      <td>ultra</td>\n",
       "      <td>NaN</td>\n",
       "      <td>NaN</td>\n",
       "      <td>NaN</td>\n",
       "      <td>0.0</td>\n",
       "      <td>NaN</td>\n",
       "    </tr>\n",
       "    <tr>\n",
       "      <th>1</th>\n",
       "      <td>1000</td>\n",
       "      <td>ultra</td>\n",
       "      <td>2</td>\n",
       "      <td>1950</td>\n",
       "      <td>NaN</td>\n",
       "      <td>NaN</td>\n",
       "      <td>3000</td>\n",
       "      <td>1</td>\n",
       "      <td>NaN</td>\n",
       "      <td>0.0</td>\n",
       "      <td>NaN</td>\n",
       "      <td>1000</td>\n",
       "      <td>1</td>\n",
       "      <td>NaN</td>\n",
       "      <td>0.0</td>\n",
       "      <td>NaN</td>\n",
       "      <td>NaN</td>\n",
       "      <td>NaN</td>\n",
       "      <td>30720</td>\n",
       "      <td>150</td>\n",
       "      <td>ultra</td>\n",
       "      <td>NaN</td>\n",
       "      <td>NaN</td>\n",
       "      <td>NaN</td>\n",
       "      <td>0.0</td>\n",
       "      <td>NaN</td>\n",
       "    </tr>\n",
       "    <tr>\n",
       "      <th>2</th>\n",
       "      <td>1000</td>\n",
       "      <td>ultra</td>\n",
       "      <td>3</td>\n",
       "      <td>1950</td>\n",
       "      <td>NaN</td>\n",
       "      <td>NaN</td>\n",
       "      <td>3000</td>\n",
       "      <td>1</td>\n",
       "      <td>NaN</td>\n",
       "      <td>0.0</td>\n",
       "      <td>NaN</td>\n",
       "      <td>1000</td>\n",
       "      <td>1</td>\n",
       "      <td>NaN</td>\n",
       "      <td>0.0</td>\n",
       "      <td>NaN</td>\n",
       "      <td>NaN</td>\n",
       "      <td>NaN</td>\n",
       "      <td>30720</td>\n",
       "      <td>150</td>\n",
       "      <td>ultra</td>\n",
       "      <td>NaN</td>\n",
       "      <td>NaN</td>\n",
       "      <td>NaN</td>\n",
       "      <td>0.0</td>\n",
       "      <td>NaN</td>\n",
       "    </tr>\n",
       "    <tr>\n",
       "      <th>3</th>\n",
       "      <td>1000</td>\n",
       "      <td>ultra</td>\n",
       "      <td>4</td>\n",
       "      <td>1950</td>\n",
       "      <td>NaN</td>\n",
       "      <td>NaN</td>\n",
       "      <td>3000</td>\n",
       "      <td>1</td>\n",
       "      <td>NaN</td>\n",
       "      <td>0.0</td>\n",
       "      <td>NaN</td>\n",
       "      <td>1000</td>\n",
       "      <td>1</td>\n",
       "      <td>NaN</td>\n",
       "      <td>0.0</td>\n",
       "      <td>NaN</td>\n",
       "      <td>NaN</td>\n",
       "      <td>NaN</td>\n",
       "      <td>30720</td>\n",
       "      <td>150</td>\n",
       "      <td>ultra</td>\n",
       "      <td>NaN</td>\n",
       "      <td>NaN</td>\n",
       "      <td>NaN</td>\n",
       "      <td>0.0</td>\n",
       "      <td>NaN</td>\n",
       "    </tr>\n",
       "    <tr>\n",
       "      <th>4</th>\n",
       "      <td>1000</td>\n",
       "      <td>ultra</td>\n",
       "      <td>5</td>\n",
       "      <td>1950</td>\n",
       "      <td>17.0</td>\n",
       "      <td>159.0</td>\n",
       "      <td>3000</td>\n",
       "      <td>1</td>\n",
       "      <td>2841.0</td>\n",
       "      <td>0.0</td>\n",
       "      <td>22.0</td>\n",
       "      <td>1000</td>\n",
       "      <td>1</td>\n",
       "      <td>978.0</td>\n",
       "      <td>0.0</td>\n",
       "      <td>5.0</td>\n",
       "      <td>4.0</td>\n",
       "      <td>2256.0</td>\n",
       "      <td>30720</td>\n",
       "      <td>150</td>\n",
       "      <td>ultra</td>\n",
       "      <td>28464.0</td>\n",
       "      <td>27.796875</td>\n",
       "      <td>27.0</td>\n",
       "      <td>0.0</td>\n",
       "      <td>1950.0</td>\n",
       "    </tr>\n",
       "  </tbody>\n",
       "</table>\n",
       "</div>"
      ],
      "text/plain": [
       "   user_id tariff  month  rub_monthly_fee  calls_count  minutes_sum  \\\n",
       "0     1000  ultra      1             1950          NaN          NaN   \n",
       "1     1000  ultra      2             1950          NaN          NaN   \n",
       "2     1000  ultra      3             1950          NaN          NaN   \n",
       "3     1000  ultra      4             1950          NaN          NaN   \n",
       "4     1000  ultra      5             1950         17.0        159.0   \n",
       "\n",
       "   minutes_included  rub_per_minute  diff_min  price_add_min  mess_count  \\\n",
       "0              3000               1       NaN            0.0         NaN   \n",
       "1              3000               1       NaN            0.0         NaN   \n",
       "2              3000               1       NaN            0.0         NaN   \n",
       "3              3000               1       NaN            0.0         NaN   \n",
       "4              3000               1    2841.0            0.0        22.0   \n",
       "\n",
       "   messages_included  rub_per_message  diff_mess  price_add_mess  \\\n",
       "0               1000                1        NaN             0.0   \n",
       "1               1000                1        NaN             0.0   \n",
       "2               1000                1        NaN             0.0   \n",
       "3               1000                1        NaN             0.0   \n",
       "4               1000                1      978.0             0.0   \n",
       "\n",
       "   internet_month  int_count  int_sum_MB  mb_per_month_included  rub_per_gb  \\\n",
       "0             NaN        NaN         NaN                  30720         150   \n",
       "1             NaN        NaN         NaN                  30720         150   \n",
       "2             NaN        NaN         NaN                  30720         150   \n",
       "3             NaN        NaN         NaN                  30720         150   \n",
       "4             5.0        4.0      2256.0                  30720         150   \n",
       "\n",
       "  tariff_name  diff_MB    diff_GB  diff_GB_round  price_add_GB  revenue  \n",
       "0       ultra      NaN        NaN            NaN           0.0      NaN  \n",
       "1       ultra      NaN        NaN            NaN           0.0      NaN  \n",
       "2       ultra      NaN        NaN            NaN           0.0      NaN  \n",
       "3       ultra      NaN        NaN            NaN           0.0      NaN  \n",
       "4       ultra  28464.0  27.796875           27.0           0.0   1950.0  "
      ]
     },
     "execution_count": 276,
     "metadata": {},
     "output_type": "execute_result"
    }
   ],
   "source": [
    "main.head()"
   ]
  },
  {
   "cell_type": "markdown",
   "metadata": {
    "id": "aRm_hj5STA4b"
   },
   "source": [
    "Получили столбце price_add_GB - кол-во рублей, которые заплатили пользователи за дополнительные ГБ"
   ]
  },
  {
   "cell_type": "markdown",
   "metadata": {
    "id": "ovzocITofSLe"
   },
   "source": [
    "Убедимся, что все данные сходятся"
   ]
  },
  {
   "cell_type": "code",
   "execution_count": 185,
   "metadata": {
    "colab": {
     "base_uri": "https://localhost:8080/"
    },
    "id": "cgaz768ofUz2",
    "outputId": "85b69541-c97d-420d-93ca-58b43242799d"
   },
   "outputs": [
    {
     "data": {
      "text/plain": [
       "1450301.0"
      ]
     },
     "execution_count": 185,
     "metadata": {},
     "output_type": "execute_result"
    }
   ],
   "source": [
    "main['minutes_sum'].sum()"
   ]
  },
  {
   "cell_type": "code",
   "execution_count": 186,
   "metadata": {
    "colab": {
     "base_uri": "https://localhost:8080/"
    },
    "id": "TGFODGTufUz2",
    "outputId": "5624afe7-da53-4128-b313-aeeefc15a260"
   },
   "outputs": [
    {
     "data": {
      "text/plain": [
       "1450301.0"
      ]
     },
     "execution_count": 186,
     "metadata": {},
     "output_type": "execute_result"
    }
   ],
   "source": [
    "calls['duration'].sum()"
   ]
  },
  {
   "cell_type": "code",
   "execution_count": 187,
   "metadata": {
    "colab": {
     "base_uri": "https://localhost:8080/"
    },
    "id": "cWN15nPvfUz3",
    "outputId": "cf9f2e54-b694-48d2-bdf4-74fb7e49b090"
   },
   "outputs": [
    {
     "data": {
      "text/plain": [
       "123036.0"
      ]
     },
     "execution_count": 187,
     "metadata": {},
     "output_type": "execute_result"
    }
   ],
   "source": [
    "main['mess_count'].sum()"
   ]
  },
  {
   "cell_type": "code",
   "execution_count": 188,
   "metadata": {
    "colab": {
     "base_uri": "https://localhost:8080/"
    },
    "id": "Yz0XjM3_fUz4",
    "outputId": "51a46e8b-10a5-4ee5-8598-ec739b09be62"
   },
   "outputs": [
    {
     "data": {
      "text/plain": [
       "123036"
      ]
     },
     "execution_count": 188,
     "metadata": {},
     "output_type": "execute_result"
    }
   ],
   "source": [
    "len(messages)"
   ]
  },
  {
   "cell_type": "code",
   "execution_count": 189,
   "metadata": {
    "colab": {
     "base_uri": "https://localhost:8080/"
    },
    "id": "I8SQ7i-CfUz5",
    "outputId": "4ac6c51b-bf4c-4e53-dcfc-d2f03c2fbba4"
   },
   "outputs": [
    {
     "data": {
      "text/plain": [
       "55369459.0"
      ]
     },
     "execution_count": 189,
     "metadata": {},
     "output_type": "execute_result"
    }
   ],
   "source": [
    "main['int_sum_MB'].sum()"
   ]
  },
  {
   "cell_type": "code",
   "execution_count": 190,
   "metadata": {
    "colab": {
     "base_uri": "https://localhost:8080/"
    },
    "id": "qMOL354ZfUz6",
    "outputId": "c602e3af-1af2-4478-b600-720838681d04"
   },
   "outputs": [
    {
     "data": {
      "text/plain": [
       "55369459.0"
      ]
     },
     "execution_count": 190,
     "metadata": {},
     "output_type": "execute_result"
    }
   ],
   "source": [
    "internet['mb_used'].sum()"
   ]
  },
  {
   "cell_type": "markdown",
   "metadata": {
    "id": "eXh51rwyfUz7"
   },
   "source": [
    "Все сходится"
   ]
  },
  {
   "cell_type": "markdown",
   "metadata": {
    "id": "qxbuSsXHnxsO"
   },
   "source": [
    "## Подведем итоги"
   ]
  },
  {
   "cell_type": "markdown",
   "metadata": {
    "id": "Rs4Jg8VVoVmT"
   },
   "source": [
    "### Выручка"
   ]
  },
  {
   "cell_type": "markdown",
   "metadata": {
    "id": "rKRYNF9VThzF"
   },
   "source": [
    "Сохраняем таблицу main в result, чтобы в случае форматирования таблицы result данные в таблице main не изменились"
   ]
  },
  {
   "cell_type": "code",
   "execution_count": 191,
   "metadata": {
    "id": "ZB7Z3PlvkMqe"
   },
   "outputs": [],
   "source": [
    "result = main"
   ]
  },
  {
   "cell_type": "code",
   "execution_count": 192,
   "metadata": {
    "id": "F6Lw4E8xwIum"
   },
   "outputs": [],
   "source": [
    "result['revenue'] = result.apply(lambda x: x['rub_monthly_fee'] + x['price_add_min'] + x['price_add_mess'] + x['price_add_GB']\n",
    "             if np.isnan(x['calls_count']) == False else np.nan, axis=1)"
   ]
  },
  {
   "cell_type": "markdown",
   "metadata": {
    "id": "m6gJOpJtjphw"
   },
   "source": [
    "Посмотрим на соотношения абонентов использующие тариф smart и ultra"
   ]
  },
  {
   "cell_type": "code",
   "execution_count": 193,
   "metadata": {
    "id": "pomqGUojlAAI"
   },
   "outputs": [],
   "source": [
    "users = pd.read_csv('https://code.s3.yandex.net/datasets/users.csv')"
   ]
  },
  {
   "cell_type": "code",
   "execution_count": 194,
   "metadata": {
    "colab": {
     "base_uri": "https://localhost:8080/",
     "height": 143
    },
    "id": "A4I7VjyUjxLm",
    "outputId": "abb9d0b3-223c-4765-a453-ad10cc7f39cd"
   },
   "outputs": [
    {
     "data": {
      "text/html": [
       "<div>\n",
       "<style scoped>\n",
       "    .dataframe tbody tr th:only-of-type {\n",
       "        vertical-align: middle;\n",
       "    }\n",
       "\n",
       "    .dataframe tbody tr th {\n",
       "        vertical-align: top;\n",
       "    }\n",
       "\n",
       "    .dataframe thead th {\n",
       "        text-align: right;\n",
       "    }\n",
       "</style>\n",
       "<table border=\"1\" class=\"dataframe\">\n",
       "  <thead>\n",
       "    <tr style=\"text-align: right;\">\n",
       "      <th></th>\n",
       "      <th>count</th>\n",
       "    </tr>\n",
       "    <tr>\n",
       "      <th>tariff</th>\n",
       "      <th></th>\n",
       "    </tr>\n",
       "  </thead>\n",
       "  <tbody>\n",
       "    <tr>\n",
       "      <th>smart</th>\n",
       "      <td>351</td>\n",
       "    </tr>\n",
       "    <tr>\n",
       "      <th>ultra</th>\n",
       "      <td>149</td>\n",
       "    </tr>\n",
       "  </tbody>\n",
       "</table>\n",
       "</div>"
      ],
      "text/plain": [
       "        count\n",
       "tariff       \n",
       "smart     351\n",
       "ultra     149"
      ]
     },
     "execution_count": 194,
     "metadata": {},
     "output_type": "execute_result"
    }
   ],
   "source": [
    "users.groupby('tariff')['user_id'].agg(['count'])"
   ]
  },
  {
   "cell_type": "markdown",
   "metadata": {
    "id": "3ocK_-4tmIxB"
   },
   "source": [
    "Количество абонентов, использующие тариф smart, гораздо больше, чем пользователей тарифа ultra"
   ]
  },
  {
   "cell_type": "markdown",
   "metadata": {
    "id": "SPJgU21ukHGU"
   },
   "source": [
    "Посмотрим на соотношения прибылей"
   ]
  },
  {
   "cell_type": "code",
   "execution_count": 195,
   "metadata": {
    "id": "5HACPX6bl60p"
   },
   "outputs": [],
   "source": [
    "t = result.groupby(['month','tariff'])['revenue'].sum().unstack()"
   ]
  },
  {
   "cell_type": "code",
   "execution_count": 196,
   "metadata": {
    "colab": {
     "base_uri": "https://localhost:8080/",
     "height": 463
    },
    "id": "_wUrB8_ondR7",
    "outputId": "2e35646c-2e13-4f2f-bb5b-ae39a4939a8d"
   },
   "outputs": [
    {
     "data": {
      "text/plain": [
       "<AxesSubplot:xlabel='month'>"
      ]
     },
     "execution_count": 196,
     "metadata": {},
     "output_type": "execute_result"
    },
    {
     "data": {
      "image/png": "[encoded data removed]",
      "text/plain": [
       "<Figure size 720x504 with 1 Axes>"
      ]
     },
     "metadata": {
      "needs_background": "light"
     },
     "output_type": "display_data"
    }
   ],
   "source": [
    "t.plot(y=[\"smart\", \"ultra\"], kind=\"bar\", figsize=(10,7))"
   ]
  },
  {
   "cell_type": "markdown",
   "metadata": {
    "id": "TMMMRcQ1jeDE"
   },
   "source": [
    "График показывает общую выручку по тарифам за каждый месяц. Тариф smart каждый месяц приносил больше денег, однако это за счет того, что кол-во пользователей тарифом smart больше. Посмотрим на среднюю выручку по месяцам с каждого пользователя"
   ]
  },
  {
   "cell_type": "markdown",
   "metadata": {
    "id": "hMuWrUAhpdFw"
   },
   "source": [
    "P.S.: Почему с каждым месяцем столбцы графика возрастают? Компания представила такие данные, что в каждом месяце кол-во пользователей практически одинаково, тем самым кол-во операций наслаиваются друг на друга и у нас получается возрастающий график. Тех пользователей, которые сменили тариф достаточно мало, сменна происходила рандомно и, использования тарифа заканчивалось 12 месяцем, тем самым такие данные не повлияют на тенденцию графика"
   ]
  },
  {
   "cell_type": "code",
   "execution_count": 197,
   "metadata": {
    "id": "An2_Qcbkni8H"
   },
   "outputs": [],
   "source": [
    "t = result.groupby(['month','tariff'])['revenue'].mean().unstack()"
   ]
  },
  {
   "cell_type": "code",
   "execution_count": 198,
   "metadata": {
    "colab": {
     "base_uri": "https://localhost:8080/",
     "height": 463
    },
    "id": "lbsrW4Minp4i",
    "outputId": "7ee22e92-27bf-4199-9485-6bee10bfd637"
   },
   "outputs": [
    {
     "data": {
      "text/plain": [
       "<AxesSubplot:xlabel='month'>"
      ]
     },
     "execution_count": 198,
     "metadata": {},
     "output_type": "execute_result"
    },
    {
     "data": {
      "image/png": "[encoded data removed]",
      "text/plain": [
       "<Figure size 720x504 with 1 Axes>"
      ]
     },
     "metadata": {
      "needs_background": "light"
     },
     "output_type": "display_data"
    }
   ],
   "source": [
    "t.plot(y=[\"smart\", \"ultra\"], kind=\"bar\", figsize=(10,7))"
   ]
  },
  {
   "cell_type": "markdown",
   "metadata": {
    "id": "G1591_keVhJb"
   },
   "source": [
    "Средняя выручка по месяцам на одного пользователя сильно не менялась у тарифа ultra, для тарифа smart, мы видим колебания т.к. в разные месяцы пользователи тратили разное кол-во денег на покупку дополнительных минут, гб и т.д."
   ]
  },
  {
   "cell_type": "code",
   "execution_count": 199,
   "metadata": {
    "colab": {
     "base_uri": "https://localhost:8080/",
     "height": 143
    },
    "id": "S_anfr80UkHx",
    "outputId": "d2f223eb-fbd1-4455-821a-61ac4621f297"
   },
   "outputs": [
    {
     "data": {
      "text/html": [
       "<div>\n",
       "<style scoped>\n",
       "    .dataframe tbody tr th:only-of-type {\n",
       "        vertical-align: middle;\n",
       "    }\n",
       "\n",
       "    .dataframe tbody tr th {\n",
       "        vertical-align: top;\n",
       "    }\n",
       "\n",
       "    .dataframe thead th {\n",
       "        text-align: right;\n",
       "    }\n",
       "</style>\n",
       "<table border=\"1\" class=\"dataframe\">\n",
       "  <thead>\n",
       "    <tr style=\"text-align: right;\">\n",
       "      <th></th>\n",
       "      <th>mean</th>\n",
       "    </tr>\n",
       "    <tr>\n",
       "      <th>tariff</th>\n",
       "      <th></th>\n",
       "    </tr>\n",
       "  </thead>\n",
       "  <tbody>\n",
       "    <tr>\n",
       "      <th>smart</th>\n",
       "      <td>1295.790635</td>\n",
       "    </tr>\n",
       "    <tr>\n",
       "      <th>ultra</th>\n",
       "      <td>2072.439282</td>\n",
       "    </tr>\n",
       "  </tbody>\n",
       "</table>\n",
       "</div>"
      ],
      "text/plain": [
       "               mean\n",
       "tariff             \n",
       "smart   1295.790635\n",
       "ultra   2072.439282"
      ]
     },
     "execution_count": 199,
     "metadata": {},
     "output_type": "execute_result"
    }
   ],
   "source": [
    "result.groupby('tariff')['revenue'].agg(['mean'])"
   ]
  },
  {
   "cell_type": "markdown",
   "metadata": {
    "id": "o8PrW1UyVvJ3"
   },
   "source": [
    "Средняя выручка по пользователю за весь 2018 год по тарифу smart = 1295, для тарифа ultra = 2072"
   ]
  },
  {
   "cell_type": "code",
   "execution_count": 200,
   "metadata": {
    "colab": {
     "base_uri": "https://localhost:8080/",
     "height": 143
    },
    "id": "UDxZfbJqfmWK",
    "outputId": "733c1098-11fa-4a31-814c-f4c55c6c15fe"
   },
   "outputs": [
    {
     "data": {
      "text/html": [
       "<div>\n",
       "<style scoped>\n",
       "    .dataframe tbody tr th:only-of-type {\n",
       "        vertical-align: middle;\n",
       "    }\n",
       "\n",
       "    .dataframe tbody tr th {\n",
       "        vertical-align: top;\n",
       "    }\n",
       "\n",
       "    .dataframe thead th {\n",
       "        text-align: right;\n",
       "    }\n",
       "</style>\n",
       "<table border=\"1\" class=\"dataframe\">\n",
       "  <thead>\n",
       "    <tr style=\"text-align: right;\">\n",
       "      <th></th>\n",
       "      <th>sum</th>\n",
       "    </tr>\n",
       "    <tr>\n",
       "      <th>tariff</th>\n",
       "      <th></th>\n",
       "    </tr>\n",
       "  </thead>\n",
       "  <tbody>\n",
       "    <tr>\n",
       "      <th>smart</th>\n",
       "      <td>2877951.0</td>\n",
       "    </tr>\n",
       "    <tr>\n",
       "      <th>ultra</th>\n",
       "      <td>1962600.0</td>\n",
       "    </tr>\n",
       "  </tbody>\n",
       "</table>\n",
       "</div>"
      ],
      "text/plain": [
       "              sum\n",
       "tariff           \n",
       "smart   2877951.0\n",
       "ultra   1962600.0"
      ]
     },
     "execution_count": 200,
     "metadata": {},
     "output_type": "execute_result"
    }
   ],
   "source": [
    "result.groupby('tariff')['revenue'].agg(['sum'])"
   ]
  },
  {
   "cell_type": "markdown",
   "metadata": {
    "id": "mdaU5fSGfxUY"
   },
   "source": [
    "Тариф smart за 2018 год заработал 2 877951, когда тариф ultra 1 962600"
   ]
  },
  {
   "cell_type": "markdown",
   "metadata": {
    "id": "nenndhXFojHR"
   },
   "source": [
    "### Поведение пользователей"
   ]
  },
  {
   "cell_type": "code",
   "execution_count": 201,
   "metadata": {
    "id": "nIqJv8mSoFAj"
   },
   "outputs": [],
   "source": [
    "t = result.groupby(['month','tariff'])['minutes_sum'].mean().unstack()"
   ]
  },
  {
   "cell_type": "code",
   "execution_count": 202,
   "metadata": {
    "colab": {
     "base_uri": "https://localhost:8080/",
     "height": 463
    },
    "id": "HIQ9ssO-qdiC",
    "outputId": "ee25f479-bd1d-474f-86f0-0e07c2433156"
   },
   "outputs": [
    {
     "data": {
      "text/plain": [
       "<AxesSubplot:xlabel='month'>"
      ]
     },
     "execution_count": 202,
     "metadata": {},
     "output_type": "execute_result"
    },
    {
     "data": {
      "image/png": "[encoded data removed]",
      "text/plain": [
       "<Figure size 720x504 with 1 Axes>"
      ]
     },
     "metadata": {
      "needs_background": "light"
     },
     "output_type": "display_data"
    }
   ],
   "source": [
    "t.plot(y=[\"smart\", \"ultra\"], kind=\"bar\", figsize=(10,7))"
   ]
  },
  {
   "cell_type": "markdown",
   "metadata": {
    "id": "BzpRWxTZosHw"
   },
   "source": [
    "В каждом месяце больше в среднем общаются по телефону пользователи тарифа ultra"
   ]
  },
  {
   "cell_type": "code",
   "execution_count": 203,
   "metadata": {
    "id": "9pdVB7dcjpui"
   },
   "outputs": [],
   "source": [
    "total_sum = (result.groupby(['tariff'])['minutes_sum'].mean().values[1] +\n",
    "result.groupby(['tariff'])['minutes_sum'].mean().values[0])"
   ]
  },
  {
   "cell_type": "code",
   "execution_count": 204,
   "metadata": {
    "colab": {
     "base_uri": "https://localhost:8080/"
    },
    "id": "UPVPUkLAjpuj",
    "outputId": "cd5ecd12-3a67-47ca-958c-9fdc0729cac6"
   },
   "outputs": [
    {
     "data": {
      "text/plain": [
       "tariff\n",
       "smart    0.433667\n",
       "ultra    0.566333\n",
       "Name: minutes_sum, dtype: float64"
      ]
     },
     "execution_count": 204,
     "metadata": {},
     "output_type": "execute_result"
    }
   ],
   "source": [
    "(result.groupby(['tariff'])['minutes_sum']\n",
    " .apply(lambda x: (x.mean() / total_sum)))"
   ]
  },
  {
   "cell_type": "markdown",
   "metadata": {
    "id": "w8uPTZp_jpuk"
   },
   "source": [
    "Пользователи тарифа ultra разговаривают по телефону в среднем на 13% , чем пользователи тарифа smart"
   ]
  },
  {
   "cell_type": "markdown",
   "metadata": {
    "id": "nLJUYswQl0hz"
   },
   "source": [
    "PS: Здесь важно считать именно по среднему, тк общее кол-во минут будет больше у тарифа smart из-за большего кол-во пользователей"
   ]
  },
  {
   "cell_type": "code",
   "execution_count": 205,
   "metadata": {
    "id": "FNSIOYEtqmAh"
   },
   "outputs": [],
   "source": [
    "t = result.groupby(['month','tariff'])['mess_count'].mean().unstack()"
   ]
  },
  {
   "cell_type": "code",
   "execution_count": 206,
   "metadata": {
    "colab": {
     "base_uri": "https://localhost:8080/",
     "height": 463
    },
    "id": "ovyLl5JLqrUZ",
    "outputId": "157ff5d5-09ac-4533-a9ff-a4f73767a333"
   },
   "outputs": [
    {
     "data": {
      "text/plain": [
       "<AxesSubplot:xlabel='month'>"
      ]
     },
     "execution_count": 206,
     "metadata": {},
     "output_type": "execute_result"
    },
    {
     "data": {
      "image/png": "[encoded data removed]",
      "text/plain": [
       "<Figure size 720x504 with 1 Axes>"
      ]
     },
     "metadata": {
      "needs_background": "light"
     },
     "output_type": "display_data"
    }
   ],
   "source": [
    "t.plot(y=[\"smart\", \"ultra\"], kind=\"bar\", figsize=(10,7))"
   ]
  },
  {
   "cell_type": "markdown",
   "metadata": {
    "id": "gvzbkzJvquDX"
   },
   "source": [
    "В каждом месяце в среднем больше отправляют сообщения пользователи тарифа ultra"
   ]
  },
  {
   "cell_type": "code",
   "execution_count": 207,
   "metadata": {
    "id": "1womnqOxjPqa"
   },
   "outputs": [],
   "source": [
    "total_sum = (result.groupby(['tariff'])['mess_count'].mean().values[1] +\n",
    "result.groupby(['tariff'])['mess_count'].mean().values[0])"
   ]
  },
  {
   "cell_type": "code",
   "execution_count": 208,
   "metadata": {
    "colab": {
     "base_uri": "https://localhost:8080/"
    },
    "id": "uWadn_hajPqb",
    "outputId": "47952ee8-a8e1-4f40-bf14-8c2fd860ce06"
   },
   "outputs": [
    {
     "data": {
      "text/plain": [
       "tariff\n",
       "smart    0.387639\n",
       "ultra    0.612361\n",
       "Name: mess_count, dtype: float64"
      ]
     },
     "execution_count": 208,
     "metadata": {},
     "output_type": "execute_result"
    }
   ],
   "source": [
    "(result.groupby(['tariff'])['mess_count']\n",
    " .apply(lambda x: (x.mean() / total_sum)))"
   ]
  },
  {
   "cell_type": "markdown",
   "metadata": {
    "id": "DqlOqR6JjPqb"
   },
   "source": [
    "Пользователи тарифа ultra отправляют в среднем в 1,5 раза больше сообщений, чем пользователи тарифа smart"
   ]
  },
  {
   "cell_type": "code",
   "execution_count": 209,
   "metadata": {
    "id": "C1gGv7oxquNM"
   },
   "outputs": [],
   "source": [
    "t = result.groupby(['month','tariff'])['int_sum_MB'].mean().unstack()"
   ]
  },
  {
   "cell_type": "code",
   "execution_count": 210,
   "metadata": {
    "colab": {
     "base_uri": "https://localhost:8080/",
     "height": 463
    },
    "id": "Qf1MWibeq3R9",
    "outputId": "38757f39-75ce-451f-a067-8290da059699"
   },
   "outputs": [
    {
     "data": {
      "text/plain": [
       "<AxesSubplot:xlabel='month'>"
      ]
     },
     "execution_count": 210,
     "metadata": {},
     "output_type": "execute_result"
    },
    {
     "data": {
      "image/png": "[encoded data removed]",
      "text/plain": [
       "<Figure size 720x504 with 1 Axes>"
      ]
     },
     "metadata": {
      "needs_background": "light"
     },
     "output_type": "display_data"
    }
   ],
   "source": [
    "t.plot(y=[\"smart\", \"ultra\"], kind=\"bar\", figsize=(10,7))"
   ]
  },
  {
   "cell_type": "markdown",
   "metadata": {
    "id": "GcDbRGIBrXRC"
   },
   "source": [
    "В каждом месяце больше тратять интернет пользователи тарифа ultra"
   ]
  },
  {
   "cell_type": "code",
   "execution_count": 211,
   "metadata": {
    "id": "Q23KGufyhWRk"
   },
   "outputs": [],
   "source": [
    "total_sum = (result.groupby(['tariff'])['int_sum_MB'].mean().values[1] +\n",
    "result.groupby(['tariff'])['int_sum_MB'].mean().values[0])"
   ]
  },
  {
   "cell_type": "code",
   "execution_count": 212,
   "metadata": {
    "colab": {
     "base_uri": "https://localhost:8080/"
    },
    "id": "3siDtlangF7G",
    "outputId": "1f41f0d5-2f78-491c-91d3-ee05c063fa7a"
   },
   "outputs": [
    {
     "data": {
      "text/plain": [
       "tariff\n",
       "smart    0.451977\n",
       "ultra    0.548023\n",
       "Name: int_sum_MB, dtype: float64"
      ]
     },
     "execution_count": 212,
     "metadata": {},
     "output_type": "execute_result"
    }
   ],
   "source": [
    "(result.groupby(['tariff'])['int_sum_MB']\n",
    " .apply(lambda x: (x.mean() / total_sum)))"
   ]
  },
  {
   "cell_type": "markdown",
   "metadata": {
    "id": "d1ultnW8hPlw"
   },
   "source": [
    "Среднее значения расхода абонента интернета по тарифу ultra выше на 10%, чем среднее значение расхода по тарифу smart"
   ]
  },
  {
   "cell_type": "markdown",
   "metadata": {
    "id": "QufO8SNorB1R"
   },
   "source": [
    "# Проверка гипотез"
   ]
  },
  {
   "cell_type": "markdown",
   "metadata": {
    "id": "KBMbJvf1Wo2E"
   },
   "source": [
    "Подготовим данные для проведения статистических тестов"
   ]
  },
  {
   "cell_type": "code",
   "execution_count": 213,
   "metadata": {
    "id": "39rgjN_5gD5G"
   },
   "outputs": [],
   "source": [
    "smart_min = result.query('tariff==\"smart\"')['minutes_sum'].dropna()"
   ]
  },
  {
   "cell_type": "code",
   "execution_count": 214,
   "metadata": {
    "id": "bKuo1uz1gmYk"
   },
   "outputs": [],
   "source": [
    "ultra_min = result.query('tariff==\"ultra\"')['minutes_sum'].dropna()"
   ]
  },
  {
   "cell_type": "markdown",
   "metadata": {
    "id": "LiBaypUyjOmr"
   },
   "source": [
    "## Гипотеза о равенстве средних выборок тарифа smart и ultra"
   ]
  },
  {
   "cell_type": "markdown",
   "metadata": {
    "id": "vSVPE-UDjUIh"
   },
   "source": [
    "H0: нулевая гипотеза предпологает, что разницы нет между тарифами (это одна выборка, которая принадлежит к одной генеральной совокупности, а значит их средние равны)  \n",
    "H1: альтернативная гипотеза гласит, что это 2 разные выборки, а значит среднее генеральной сосовкупности каждой выборки отличается"
   ]
  },
  {
   "cell_type": "markdown",
   "metadata": {
    "id": "p-XhZKiFklUt"
   },
   "source": [
    "Проверим на нормальность распределения данных, для этого воспользуемся критерием Колмогорова-Смирнова и построим график Q-Q plot"
   ]
  },
  {
   "cell_type": "code",
   "execution_count": 215,
   "metadata": {
    "id": "3AHOwwqmla4J"
   },
   "outputs": [],
   "source": [
    "smart = result.query('tariff==\"smart\"')['revenue'].dropna()"
   ]
  },
  {
   "cell_type": "code",
   "execution_count": 216,
   "metadata": {
    "id": "qASk6g10oZlH"
   },
   "outputs": [],
   "source": [
    "ultra = result.query('tariff==\"ultra\"')['revenue'].dropna()"
   ]
  },
  {
   "cell_type": "markdown",
   "metadata": {
    "id": "6U-p03nVpu44"
   },
   "source": [
    "H0: нулевая гипотеза гласит, что данные распределены нормально  \n",
    "H1: альтернативная гипотеза гласит, что данные НЕ рапределены нормально"
   ]
  },
  {
   "cell_type": "code",
   "execution_count": 217,
   "metadata": {
    "colab": {
     "base_uri": "https://localhost:8080/"
    },
    "id": "Aa76YCK0pTcY",
    "outputId": "c884ba7a-cb01-4c1d-9d4e-d6a53b0d3038"
   },
   "outputs": [],
   "source": [
    "import statsmodels.api as sm\n",
    "import pylab\n",
    "import scipy.stats as stats"
   ]
  },
  {
   "cell_type": "code",
   "execution_count": 218,
   "metadata": {
    "colab": {
     "base_uri": "https://localhost:8080/"
    },
    "id": "rzf_Qe8UpU2c",
    "outputId": "a688e80d-d567-42c3-95ac-1823855c2a8d"
   },
   "outputs": [
    {
     "data": {
      "text/plain": [
       "(0.1820829309434887, 0.0009999999999998899)"
      ]
     },
     "execution_count": 218,
     "metadata": {},
     "output_type": "execute_result"
    }
   ],
   "source": [
    "sm.stats.lilliefors(smart)"
   ]
  },
  {
   "cell_type": "code",
   "execution_count": 219,
   "metadata": {
    "colab": {
     "base_uri": "https://localhost:8080/",
     "height": 295
    },
    "id": "0Fk6SFBnrmPZ",
    "outputId": "35f96f49-9553-47e9-a2c3-0a648a901006"
   },
   "outputs": [
    {
     "data": {
      "image/png": "[encoded data removed]",
      "text/plain": [
       "<Figure size 432x288 with 1 Axes>"
      ]
     },
     "metadata": {
      "needs_background": "light"
     },
     "output_type": "display_data"
    }
   ],
   "source": [
    "stats.probplot(smart, dist=\"norm\", plot=pylab)\n",
    "pylab.show()"
   ]
  },
  {
   "cell_type": "markdown",
   "metadata": {
    "id": "EKA09JAnqDxo"
   },
   "source": [
    "Как мы видим значение p-value гораздо меньше 0.05, а значит нулевую гипотезу можно отклонить. Эти выводы также подтверждает график Q-Q plot, что означает, что данные распределены не нормально для выборки smart"
   ]
  },
  {
   "cell_type": "code",
   "execution_count": 220,
   "metadata": {
    "colab": {
     "base_uri": "https://localhost:8080/"
    },
    "id": "gAUTyqFVskmG",
    "outputId": "ebea3075-9aae-4bef-a2ac-6cb307cbdfd8"
   },
   "outputs": [
    {
     "data": {
      "text/plain": [
       "(0.49028604706627316, 0.0009999999999998899)"
      ]
     },
     "execution_count": 220,
     "metadata": {},
     "output_type": "execute_result"
    }
   ],
   "source": [
    "sm.stats.lilliefors(ultra)"
   ]
  },
  {
   "cell_type": "code",
   "execution_count": 221,
   "metadata": {
    "colab": {
     "base_uri": "https://localhost:8080/",
     "height": 295
    },
    "id": "rhlJEi42skmH",
    "outputId": "7cb91485-4d75-4e97-b6d3-60cae6ca5c06"
   },
   "outputs": [
    {
     "data": {
      "image/png": "[encoded data removed]",
      "text/plain": [
       "<Figure size 432x288 with 1 Axes>"
      ]
     },
     "metadata": {
      "needs_background": "light"
     },
     "output_type": "display_data"
    }
   ],
   "source": [
    "stats.probplot(ultra, dist=\"norm\", plot=pylab)\n",
    "pylab.show()"
   ]
  },
  {
   "cell_type": "markdown",
   "metadata": {
    "id": "rgBLaKZPrwhf"
   },
   "source": [
    "По выборке ultra p-value = 0, значит мы отбрасываем нулевую гипотезу. Так же на графике видно, что выборка распределена не нормально"
   ]
  },
  {
   "cell_type": "markdown",
   "metadata": {
    "id": "mu8xNxh8sRB3"
   },
   "source": [
    "Так как распределения у нас не нормальные воспользуемся непараметрическим тестом Манна-Уитни "
   ]
  },
  {
   "cell_type": "code",
   "execution_count": 222,
   "metadata": {
    "colab": {
     "base_uri": "https://localhost:8080/"
    },
    "id": "Ww1ZbcnVsZyy",
    "outputId": "3f726169-cb2f-41e6-de57-491b8239d02a"
   },
   "outputs": [
    {
     "data": {
      "text/plain": [
       "MannwhitneyuResult(statistic=1716344.0, pvalue=1.1035244094624725e-179)"
      ]
     },
     "execution_count": 222,
     "metadata": {},
     "output_type": "execute_result"
    }
   ],
   "source": [
    "stats.mannwhitneyu(ultra, smart)"
   ]
  },
  {
   "cell_type": "markdown",
   "metadata": {
    "id": "TdnHsT7bsn-v"
   },
   "source": [
    "p-value < 0.05, значит мы отвергаем нулевую гипотезу и принимаем альтернативную, которая гласит, что выборки различаются друг от друга, а значит представленные данные являются статистичискими значимыми и выборки **явно** принадлежат к разным ГС"
   ]
  },
  {
   "cell_type": "markdown",
   "metadata": {
    "id": "v5Z__Ubm1Ljc"
   },
   "source": [
    "# Общий итог"
   ]
  },
  {
   "cell_type": "markdown",
   "metadata": {
    "id": "OVA58NPI3VY8"
   },
   "source": [
    "Напомним задание:  \n",
    "\n",
    "Вы аналитик компании «Мегалайн» — федерального оператора сотовой связи. Клиентам предлагают два тарифных плана: Смарт и Ультра. Чтобы скорректировать рекламный бюджет, коммерческий департамент хочет понять, какой тариф приносит больше денег. Вам предстоит сделать предварительный анализ тарифов на небольшой выборке клиентов. В вашем распоряжении данные 500 пользователей «Мегалайна»: кто они, откуда, каким тарифом пользуются, сколько звонков и сообщений каждый отправил за 2018 год. Нужно проанализировать поведение клиентов и сделать вывод — какой тариф лучше."
   ]
  },
  {
   "cell_type": "code",
   "execution_count": 239,
   "metadata": {
    "colab": {
     "base_uri": "https://localhost:8080/"
    },
    "id": "wufiaBHt5q_a",
    "outputId": "259db469-2d83-4d50-b9a4-e13a63c364e3"
   },
   "outputs": [
    {
     "data": {
      "text/plain": [
       "smart    0.702\n",
       "ultra    0.298\n",
       "Name: tariff, dtype: float64"
      ]
     },
     "execution_count": 239,
     "metadata": {},
     "output_type": "execute_result"
    }
   ],
   "source": [
    "users['tariff'].value_counts(normalize=True)"
   ]
  },
  {
   "cell_type": "markdown",
   "metadata": {
    "id": "e5kmlvKC-Xwx"
   },
   "source": [
    "Если наша выборка составлена независимо и является репрезентативной, то пользователей, которые предпочитают тариф smart являются 70% из всей выборки, то конверсия, при проведении маркетинговой кампании, была бы в 2.3 раза больше, чем у тарифа ultra и следовательно за счет этой большой конверсии, тариф smart будет приносить большую прибыль. Однако средняя вырочка на пользователя выше у тарифа *ultra*  \n",
    "Еще одним аргументом может являться то, что пользователи тарифа smart меньше тратят интернета, меньше отправляют сообщений и звонят по телефону, а значит нагрузка на инфраструктуру оператора будет меньше\n",
    "\n",
    " Однако пользователи часто доплачивают за услуги мобильной связи, интернета и сообщений, что может повлечь за собой репутационные риски, абоненты будут недовольны за постоянную переплату по тарифу smart. Попробуем расчитать новый тариф, который будет приносить прибыль сопоставимую со smart, но с большим лимитам по услугам"
   ]
  },
  {
   "cell_type": "markdown",
   "metadata": {
    "id": "kBllbKoLdYpA"
   },
   "source": [
    "Дополнительные выводы:  \n",
    "* Однако тарифом ultra, чаще пользуются женщины, чем мужчины. Конверсия для женщин больше на 10%\n",
    "* Тариф smart имееют большую географию (пользуюся в большем кол-во городов), чем тариф ultra. Клиенты в большей своей части находятся в европейской части России. В меньшей степени в городах расположенные вдоль транссибирской магистрали и на юге России\n",
    "* Средняя выручка по пользователю за весь 2018 год по тарифу smart = 1295, для тарифа ultra = 2072\n",
    "* Тариф smart за 2018 год заработал 2877951, когда тариф ultra 1962600\n",
    "* Пользователи тарифа ultra разговаривают по телефону больше в среднем на 13% , чем пользователи тарифа smart. Пользователи тарифа ultra отправляют в среднем в 1,5 раза больше сообщений, чем пользователи тарифа smart. Среднее значения расхода абонента интернета по тарифу ultra выше на 10%, чем среднее значение расхода по тарифу smart\n" 
   ]
  },
  {
   "cell_type": "markdown",
   "metadata": {
    "id": "ttWn9GJ_mmnw"
   },
   "source": [
    "Гипотезы для подтверждения, которых не хватает данных  \n",
    "1. Для расчета возрастов (какой возраст преобладает в том или ином тарифе), необходимо больше данных, отклонения между данными по возрастным категориям незначительны\n",
    "2. По какой причине прерывается доступ к интернету и мобильной связи (из-за чего получаем трат MB и продолжительностью звонков равных 0). Нужно поговорить с техническим отделом для генерации возможных гипотез и наличие других связанных проблем \n",
    "3. Проверка гипотезы, что у абонентов тарифа smart нет денег на счету, поэтому они не могут заплатить за дополнительные ГБ интернета. Чтобы проверить данную гипотезу необходимо данные об остатке на счету и включенной опции автопополнения"
   ]
  },
  {
   "cell_type": "markdown",
   "metadata": {
    "id": "tSbIOsCgbvOS"
   },
   "source": [
    "# Расчет нового тарифа"
   ]
  },
  {
   "cell_type": "code",
   "execution_count": 240,
   "metadata": {
    "colab": {
     "base_uri": "https://localhost:8080/",
     "height": 283
    },
    "id": "HXaEXaRpIhfm",
    "outputId": "f5cb8a50-9943-478c-98c0-05acb6aa6091"
   },
   "outputs": [
    {
     "data": {
      "text/plain": [
       "<AxesSubplot:>"
      ]
     },
     "execution_count": 240,
     "metadata": {},
     "output_type": "execute_result"
    },
    {
     "data": {
      "image/png": "[encoded data removed]",
      "text/plain": [
       "<Figure size 432x288 with 1 Axes>"
      ]
     },
     "metadata": {
      "needs_background": "light"
     },
     "output_type": "display_data"
    }
   ],
   "source": [
    "main.query('tariff==\"smart\"')['diff_min'].hist(bins=50)"
   ]
  },
  {
   "cell_type": "code",
   "execution_count": 241,
   "metadata": {
    "colab": {
     "base_uri": "https://localhost:8080/",
     "height": 283
    },
    "id": "fgtDZDF0Ihfo",
    "outputId": "b9b25881-aadc-4d7f-c16a-f5bad1da62da"
   },
   "outputs": [
    {
     "data": {
      "text/plain": [
       "<AxesSubplot:>"
      ]
     },
     "execution_count": 241,
     "metadata": {},
     "output_type": "execute_result"
    },
    {
     "data": {
      "image/png": "[encoded data removed]",
      "text/plain": [
       "<Figure size 432x288 with 1 Axes>"
      ]
     },
     "metadata": {
      "needs_background": "light"
     },
     "output_type": "display_data"
    }
   ],
   "source": [
    "main.query('tariff==\"smart\"')['diff_mess'].hist(bins=50)"
   ]
  },
  {
   "cell_type": "code",
   "execution_count": 242,
   "metadata": {
    "colab": {
     "base_uri": "https://localhost:8080/",
     "height": 283
    },
    "id": "x9zEbVtEIhfp",
    "outputId": "5beda948-bd12-493b-b24e-27e0e355f41b"
   },
   "outputs": [
    {
     "data": {
      "text/plain": [
       "<AxesSubplot:>"
      ]
     },
     "execution_count": 242,
     "metadata": {},
     "output_type": "execute_result"
    },
    {
     "data": {
      "image/png": "[encoded data removed]",
      "text/plain": [
       "<Figure size 432x288 with 1 Axes>"
      ]
     },
     "metadata": {
      "needs_background": "light"
     },
     "output_type": "display_data"
    }
   ],
   "source": [
    "main.query('tariff==\"smart\"')['diff_MB'].hist(bins=50)"
   ]
  },
  {
   "cell_type": "markdown",
   "metadata": {
    "id": "5vMIc45eImmT"
   },
   "source": [
    "Как мы видим пользователям тарифа smart особенно не хватает больших лимитов по интернету, минутам, в меньшей степени по сообщениям. Посчитаем медианное значение по тем пользователям, которым не хватает услуг"
   ]
  },
  {
   "cell_type": "code",
   "execution_count": 243,
   "metadata": {
    "colab": {
     "base_uri": "https://localhost:8080/"
    },
    "id": "uqCsm5NvJMl7",
    "outputId": "fc3af008-7386-4853-cd92-f3db2ca9f5f6"
   },
   "outputs": [
    {
     "data": {
      "text/plain": [
       "77.0"
      ]
     },
     "execution_count": 243,
     "metadata": {},
     "output_type": "execute_result"
    }
   ],
   "source": [
    "result[(result['diff_min'] < 0 ) | (result['tariff'] == 'smart')]['diff_min'].median()"
   ]
  },
  {
   "cell_type": "markdown",
   "metadata": {
    "id": "_vAJpajBJy5H"
   },
   "source": [
    "Видим, что пользователи, которым не хватает минут на звонки расходуют на 77 минут больше"
   ]
  },
  {
   "cell_type": "code",
   "execution_count": 244,
   "metadata": {
    "colab": {
     "base_uri": "https://localhost:8080/"
    },
    "id": "wMWWtzSYKYS-",
    "outputId": "c0c212ee-36d8-4dc9-f176-73a45538e783"
   },
   "outputs": [
    {
     "data": {
      "text/plain": [
       "16.0"
      ]
     },
     "execution_count": 244,
     "metadata": {},
     "output_type": "execute_result"
    }
   ],
   "source": [
    "result[(result['diff_mess'] < 0 ) | (result['tariff'] == 'smart')]['diff_mess'].median()"
   ]
  },
  {
   "cell_type": "markdown",
   "metadata": {
    "id": "99ioGl_fKfYu"
   },
   "source": [
    "Пользователям не хватает около 16 дополнительных сообщений"
   ]
  },
  {
   "cell_type": "code",
   "execution_count": 245,
   "metadata": {
    "colab": {
     "base_uri": "https://localhost:8080/"
    },
    "id": "xsK05t4HKjUy",
    "outputId": "2824d651-71a8-41a3-d9a2-c50fd19fb8c9"
   },
   "outputs": [
    {
     "data": {
      "text/plain": [
       "-2.0"
      ]
     },
     "execution_count": 245,
     "metadata": {},
     "output_type": "execute_result"
    }
   ],
   "source": [
    "result[(result['diff_GB_round'] < 0 ) | (result['tariff'] == 'smart')]['diff_GB_round'].median()"
   ]
  },
  {
   "cell_type": "markdown",
   "metadata": {
    "id": "tb9cRBtPLOMf"
   },
   "source": [
    "Абонентам не хватает 2 ГБ интернета"
   ]
  },
  {
   "cell_type": "markdown",
   "metadata": {
    "id": "tFjpx4t8Lf8e"
   },
   "source": [
    "Составим новый тариф и заменим выборку, вместо старого тарифа smart в предоставленной выборки абоненты будут пользоваться тарифом smart+. Мы посчитаем все значения выходящие за пределы тарифа, возьмем выручку суммарную по smart за каждый месяц и посчитаем, сколько должен стоить тариф smart+, чтобы он приносил такую же прибыль, но являлся более гибки для пользователей"
   ]
  },
  {
   "cell_type": "markdown",
   "metadata": {
    "id": "7GkZav9xMeU-"
   },
   "source": [
    "Тариф Смарт+:\n",
    "\n",
    "Ежемесячная плата: X рублей  \n",
    "Включено 630 минут разговора, 65 сообщений и 17 Гб интернет-трафика\n",
    "Стоимость услуг сверх тарифного пакета:\n",
    "\n",
    "минута разговора: 3 рубля\n",
    "сообщение: 3 рубля\n",
    "1 Гб интернет-трафика: 200 рублей"
   ]
  },
  {
   "cell_type": "code",
   "execution_count": 246,
   "metadata": {
    "id": "6WMpURuQI9AF"
   },
   "outputs": [],
   "source": [
    "smart_plus = result[result['tariff'] == 'smart'][['user_id','tariff','month','minutes_sum','mess_count','int_sum_MB','revenue']]"
   ]
  },
  {
   "cell_type": "markdown",
   "metadata": {
    "id": "PwiVR_jkNl5b"
   },
   "source": [
    "Создадим таблицу с тарифом smart+"
   ]
  },
  {
   "cell_type": "code",
   "execution_count": 247,
   "metadata": {
    "id": "5vq2kkosI81A"
   },
   "outputs": [],
   "source": [
    "tariffs_plus = pd.DataFrame([{'messages_included':65,'mb_per_month_included':17408,'minutes_included':630,\n",
    "                              'rub_per_gb':200,'rub_per_message':3 ,'rub_per_minute':3,'tariff':'smart_plus'}])"
   ]
  },
  {
   "cell_type": "code",
   "execution_count": 248,
   "metadata": {
    "colab": {
     "base_uri": "https://localhost:8080/",
     "height": 81
    },
    "id": "sF8oIKz5I8x1",
    "outputId": "74f0df15-3c72-44fe-9c05-64a5e96db36e"
   },
   "outputs": [
    {
     "data": {
      "text/html": [
       "<div>\n",
       "<style scoped>\n",
       "    .dataframe tbody tr th:only-of-type {\n",
       "        vertical-align: middle;\n",
       "    }\n",
       "\n",
       "    .dataframe tbody tr th {\n",
       "        vertical-align: top;\n",
       "    }\n",
       "\n",
       "    .dataframe thead th {\n",
       "        text-align: right;\n",
       "    }\n",
       "</style>\n",
       "<table border=\"1\" class=\"dataframe\">\n",
       "  <thead>\n",
       "    <tr style=\"text-align: right;\">\n",
       "      <th></th>\n",
       "      <th>messages_included</th>\n",
       "      <th>mb_per_month_included</th>\n",
       "      <th>minutes_included</th>\n",
       "      <th>rub_per_gb</th>\n",
       "      <th>rub_per_message</th>\n",
       "      <th>rub_per_minute</th>\n",
       "      <th>tariff</th>\n",
       "    </tr>\n",
       "  </thead>\n",
       "  <tbody>\n",
       "    <tr>\n",
       "      <th>0</th>\n",
       "      <td>65</td>\n",
       "      <td>17408</td>\n",
       "      <td>630</td>\n",
       "      <td>200</td>\n",
       "      <td>3</td>\n",
       "      <td>3</td>\n",
       "      <td>smart_plus</td>\n",
       "    </tr>\n",
       "  </tbody>\n",
       "</table>\n",
       "</div>"
      ],
      "text/plain": [
       "   messages_included  mb_per_month_included  minutes_included  rub_per_gb  \\\n",
       "0                 65                  17408               630         200   \n",
       "\n",
       "   rub_per_message  rub_per_minute      tariff  \n",
       "0                3               3  smart_plus  "
      ]
     },
     "execution_count": 248,
     "metadata": {},
     "output_type": "execute_result"
    }
   ],
   "source": [
    "tariffs_plus"
   ]
  },
  {
   "cell_type": "code",
   "execution_count": 249,
   "metadata": {
    "id": "swtJb6TwPawv"
   },
   "outputs": [],
   "source": [
    "smart_plus = smart_plus.replace('smart','smart_plus')"
   ]
  },
  {
   "cell_type": "code",
   "execution_count": 281,
   "metadata": {
    "colab": {
     "base_uri": "https://localhost:8080/",
     "height": 423
    },
    "id": "EevlE6GJQMb2",
    "outputId": "e0feae88-8bfc-48d4-85db-3a25737c044e"
   },
   "outputs": [
    {
     "data": {
      "text/html": [
       "<div>\n",
       "<style scoped>\n",
       "    .dataframe tbody tr th:only-of-type {\n",
       "        vertical-align: middle;\n",
       "    }\n",
       "\n",
       "    .dataframe tbody tr th {\n",
       "        vertical-align: top;\n",
       "    }\n",
       "\n",
       "    .dataframe thead th {\n",
       "        text-align: right;\n",
       "    }\n",
       "</style>\n",
       "<table border=\"1\" class=\"dataframe\">\n",
       "  <thead>\n",
       "    <tr style=\"text-align: right;\">\n",
       "      <th></th>\n",
       "      <th>user_id</th>\n",
       "      <th>tariff</th>\n",
       "      <th>month</th>\n",
       "      <th>minutes_sum</th>\n",
       "      <th>minutes_included</th>\n",
       "      <th>rub_per_minute</th>\n",
       "      <th>mess_count</th>\n",
       "      <th>messages_included</th>\n",
       "      <th>rub_per_message</th>\n",
       "      <th>int_sum_MB</th>\n",
       "      <th>mb_per_month_included</th>\n",
       "      <th>rub_per_gb</th>\n",
       "      <th>revenue</th>\n",
       "      <th>min_diff</th>\n",
       "      <th>mes_diff</th>\n",
       "      <th>int_diff</th>\n",
       "      <th>price_add_min</th>\n",
       "      <th>price_add_mes</th>\n",
       "      <th>GB_diff</th>\n",
       "      <th>GB_diff_round</th>\n",
       "      <th>price_add_GB</th>\n",
       "      <th>diff_revenue</th>\n",
       "    </tr>\n",
       "  </thead>\n",
       "  <tbody>\n",
       "    <tr>\n",
       "      <th>0</th>\n",
       "      <td>1001</td>\n",
       "      <td>smart_plus</td>\n",
       "      <td>1</td>\n",
       "      <td>NaN</td>\n",
       "      <td>630</td>\n",
       "      <td>3</td>\n",
       "      <td>NaN</td>\n",
       "      <td>65</td>\n",
       "      <td>3</td>\n",
       "      <td>NaN</td>\n",
       "      <td>17408</td>\n",
       "      <td>200</td>\n",
       "      <td>NaN</td>\n",
       "      <td>NaN</td>\n",
       "      <td>NaN</td>\n",
       "      <td>NaN</td>\n",
       "      <td>0.0</td>\n",
       "      <td>0.0</td>\n",
       "      <td>NaN</td>\n",
       "      <td>NaN</td>\n",
       "      <td>0.0</td>\n",
       "      <td>NaN</td>\n",
       "    </tr>\n",
       "    <tr>\n",
       "      <th>1</th>\n",
       "      <td>1001</td>\n",
       "      <td>smart_plus</td>\n",
       "      <td>2</td>\n",
       "      <td>NaN</td>\n",
       "      <td>630</td>\n",
       "      <td>3</td>\n",
       "      <td>NaN</td>\n",
       "      <td>65</td>\n",
       "      <td>3</td>\n",
       "      <td>NaN</td>\n",
       "      <td>17408</td>\n",
       "      <td>200</td>\n",
       "      <td>NaN</td>\n",
       "      <td>NaN</td>\n",
       "      <td>NaN</td>\n",
       "      <td>NaN</td>\n",
       "      <td>0.0</td>\n",
       "      <td>0.0</td>\n",
       "      <td>NaN</td>\n",
       "      <td>NaN</td>\n",
       "      <td>0.0</td>\n",
       "      <td>NaN</td>\n",
       "    </tr>\n",
       "    <tr>\n",
       "      <th>2</th>\n",
       "      <td>1001</td>\n",
       "      <td>smart_plus</td>\n",
       "      <td>3</td>\n",
       "      <td>NaN</td>\n",
       "      <td>630</td>\n",
       "      <td>3</td>\n",
       "      <td>NaN</td>\n",
       "      <td>65</td>\n",
       "      <td>3</td>\n",
       "      <td>NaN</td>\n",
       "      <td>17408</td>\n",
       "      <td>200</td>\n",
       "      <td>NaN</td>\n",
       "      <td>NaN</td>\n",
       "      <td>NaN</td>\n",
       "      <td>NaN</td>\n",
       "      <td>0.0</td>\n",
       "      <td>0.0</td>\n",
       "      <td>NaN</td>\n",
       "      <td>NaN</td>\n",
       "      <td>0.0</td>\n",
       "      <td>NaN</td>\n",
       "    </tr>\n",
       "    <tr>\n",
       "      <th>3</th>\n",
       "      <td>1001</td>\n",
       "      <td>smart_plus</td>\n",
       "      <td>4</td>\n",
       "      <td>NaN</td>\n",
       "      <td>630</td>\n",
       "      <td>3</td>\n",
       "      <td>NaN</td>\n",
       "      <td>65</td>\n",
       "      <td>3</td>\n",
       "      <td>NaN</td>\n",
       "      <td>17408</td>\n",
       "      <td>200</td>\n",
       "      <td>NaN</td>\n",
       "      <td>NaN</td>\n",
       "      <td>NaN</td>\n",
       "      <td>NaN</td>\n",
       "      <td>0.0</td>\n",
       "      <td>0.0</td>\n",
       "      <td>NaN</td>\n",
       "      <td>NaN</td>\n",
       "      <td>0.0</td>\n",
       "      <td>NaN</td>\n",
       "    </tr>\n",
       "    <tr>\n",
       "      <th>4</th>\n",
       "      <td>1001</td>\n",
       "      <td>smart_plus</td>\n",
       "      <td>5</td>\n",
       "      <td>NaN</td>\n",
       "      <td>630</td>\n",
       "      <td>3</td>\n",
       "      <td>NaN</td>\n",
       "      <td>65</td>\n",
       "      <td>3</td>\n",
       "      <td>NaN</td>\n",
       "      <td>17408</td>\n",
       "      <td>200</td>\n",
       "      <td>NaN</td>\n",
       "      <td>NaN</td>\n",
       "      <td>NaN</td>\n",
       "      <td>NaN</td>\n",
       "      <td>0.0</td>\n",
       "      <td>0.0</td>\n",
       "      <td>NaN</td>\n",
       "      <td>NaN</td>\n",
       "      <td>0.0</td>\n",
       "      <td>NaN</td>\n",
       "    </tr>\n",
       "  </tbody>\n",
       "</table>\n",
       "</div>"
      ],
      "text/plain": [
       "   user_id      tariff  month  minutes_sum  minutes_included  rub_per_minute  \\\n",
       "0     1001  smart_plus      1          NaN               630               3   \n",
       "1     1001  smart_plus      2          NaN               630               3   \n",
       "2     1001  smart_plus      3          NaN               630               3   \n",
       "3     1001  smart_plus      4          NaN               630               3   \n",
       "4     1001  smart_plus      5          NaN               630               3   \n",
       "\n",
       "   mess_count  messages_included  rub_per_message  int_sum_MB  \\\n",
       "0         NaN                 65                3         NaN   \n",
       "1         NaN                 65                3         NaN   \n",
       "2         NaN                 65                3         NaN   \n",
       "3         NaN                 65                3         NaN   \n",
       "4         NaN                 65                3         NaN   \n",
       "\n",
       "   mb_per_month_included  rub_per_gb  revenue  min_diff  mes_diff  int_diff  \\\n",
       "0                  17408         200      NaN       NaN       NaN       NaN   \n",
       "1                  17408         200      NaN       NaN       NaN       NaN   \n",
       "2                  17408         200      NaN       NaN       NaN       NaN   \n",
       "3                  17408         200      NaN       NaN       NaN       NaN   \n",
       "4                  17408         200      NaN       NaN       NaN       NaN   \n",
       "\n",
       "   price_add_min  price_add_mes  GB_diff  GB_diff_round  price_add_GB  \\\n",
       "0            0.0            0.0      NaN            NaN           0.0   \n",
       "1            0.0            0.0      NaN            NaN           0.0   \n",
       "2            0.0            0.0      NaN            NaN           0.0   \n",
       "3            0.0            0.0      NaN            NaN           0.0   \n",
       "4            0.0            0.0      NaN            NaN           0.0   \n",
       "\n",
       "   diff_revenue  \n",
       "0           NaN  \n",
       "1           NaN  \n",
       "2           NaN  \n",
       "3           NaN  \n",
       "4           NaN  "
      ]
     },
     "execution_count": 281,
     "metadata": {},
     "output_type": "execute_result"
    }
   ],
   "source": [
    "smart_plus.head()"
   ]
  },
  {
   "cell_type": "code",
   "execution_count": 251,
   "metadata": {
    "id": "dBbY2_WnQHDh"
   },
   "outputs": [],
   "source": [
    "smart_plus = pd.merge(smart_plus,tariffs_plus, how = 'inner', on='tariff')"
   ]
  },
  {
   "cell_type": "code",
   "execution_count": 252,
   "metadata": {
    "id": "xjKWuaIsQhvU"
   },
   "outputs": [],
   "source": [
    "smart_plus = smart_plus.reindex(columns=['user_id', 'tariff','month','minutes_sum','minutes_included',\n",
    "                             'rub_per_minute','mess_count','messages_included',\n",
    "                            'rub_per_message','int_sum_MB','mb_per_month_included',\n",
    "                            'rub_per_gb','revenue'])"
   ]
  },
  {
   "cell_type": "markdown",
   "metadata": {
    "id": "LOkO_mhiaKnI"
   },
   "source": [
    "Создали таблицу smart_plus и расположили столбцы удобным способом"
   ]
  },
  {
   "cell_type": "markdown",
   "metadata": {
    "id": "6FZ_OD2MaUPK"
   },
   "source": [
    "Посчитаем разницу между кол-во потраченных минут, сообщений и мб пользователей и лимитом тарифа smart+"
   ]
  },
  {
   "cell_type": "code",
   "execution_count": 253,
   "metadata": {
    "id": "q8x5mWNpRiSN"
   },
   "outputs": [],
   "source": [
    "smart_plus['min_diff'] = smart_plus['minutes_included'] - smart_plus['minutes_sum']"
   ]
  },
  {
   "cell_type": "code",
   "execution_count": 254,
   "metadata": {
    "id": "0Vb8--q1Qhsd"
   },
   "outputs": [],
   "source": [
    "smart_plus['mes_diff'] = smart_plus['messages_included'] - smart_plus['mess_count']"
   ]
  },
  {
   "cell_type": "code",
   "execution_count": 255,
   "metadata": {
    "id": "TjA_ZXrvR-jU"
   },
   "outputs": [],
   "source": [
    "smart_plus['int_diff'] = smart_plus['mb_per_month_included'] - smart_plus['int_sum_MB']"
   ]
  },
  {
   "cell_type": "markdown",
   "metadata": {
    "id": "K36-zIdqamcf"
   },
   "source": [
    "Посчитаем рубли, которые пользователи потратили за дополнительные услуги"
   ]
  },
  {
   "cell_type": "code",
   "execution_count": 256,
   "metadata": {
    "id": "LoGJZ5rGQhmG"
   },
   "outputs": [],
   "source": [
    "smart_plus['price_add_min'] = (smart_plus.apply(lambda x: abs(x['rub_per_minute']*x['min_diff']) \n",
    "                                          if x['min_diff'] < 0 else 0, axis=1 ))"
   ]
  },
  {
   "cell_type": "code",
   "execution_count": 257,
   "metadata": {
    "id": "oL6KJMndQhi3"
   },
   "outputs": [],
   "source": [
    "smart_plus['price_add_mes'] = (smart_plus.apply(lambda x: abs(x['rub_per_message']*x['mes_diff']) \n",
    "                                          if x['mes_diff'] < 0 else 0, axis=1 ))"
   ]
  },
  {
   "cell_type": "code",
   "execution_count": 258,
   "metadata": {
    "id": "qPBSJ5d4TIgy"
   },
   "outputs": [],
   "source": [
    "smart_plus['GB_diff'] = smart_plus['int_diff'] /1024"
   ]
  },
  {
   "cell_type": "code",
   "execution_count": 259,
   "metadata": {
    "id": "iLbmpwKwTIgz"
   },
   "outputs": [],
   "source": [
    "smart_plus['GB_diff_round'] = smart_plus['GB_diff'].apply(np.floor)"
   ]
  },
  {
   "cell_type": "code",
   "execution_count": 260,
   "metadata": {
    "id": "WwnZPXA-TIg0"
   },
   "outputs": [],
   "source": [
    "smart_plus['price_add_GB'] = (smart_plus.apply(lambda x: abs(x['GB_diff_round']*x['rub_per_gb']) \n",
    "                                          if x['GB_diff_round'] < 0 else 0, axis=1 ))"
   ]
  },
  {
   "cell_type": "markdown",
   "metadata": {
    "id": "40Rn70OBbBkQ"
   },
   "source": [
    "Расчитаем стоимось тарифа"
   ]
  },
  {
   "cell_type": "code",
   "execution_count": 261,
   "metadata": {
    "id": "6rjSe2SJTfDp"
   },
   "outputs": [],
   "source": [
    "smart_plus[\"diff_revenue\"] = smart_plus['revenue'] - (smart_plus['price_add_min'] + smart_plus['price_add_mes'] + smart_plus['price_add_GB'])"
   ]
  },
  {
   "cell_type": "code",
   "execution_count": 262,
   "metadata": {
    "colab": {
     "base_uri": "https://localhost:8080/"
    },
    "id": "qwwJmtVCTe-b",
    "outputId": "c7e7e8c8-a63c-42d7-89cc-6368136dc4df"
   },
   "outputs": [
    {
     "data": {
      "text/plain": [
       "865.3336334984241"
      ]
     },
     "execution_count": 262,
     "metadata": {},
     "output_type": "execute_result"
    }
   ],
   "source": [
    "smart_plus[\"diff_revenue\"].mean()"
   ]
  },
  {
   "cell_type": "markdown",
   "metadata": {
    "id": "ulVxzcxdUI5C"
   },
   "source": [
    "Данный тариф должен стоить около 865 рублей, чтобы он приносил те же деньги, однако **конверсия в тариф smart+ должна быть сопоставима с тарифом smart**"
   ]
  },
  {
   "cell_type": "markdown",
   "metadata": {
    "id": "oCJHJpNFb0At"
   },
   "source": [
    "## Соотношения затрат услуг в тарифах smart и smart+"
   ]
  },
  {
   "cell_type": "markdown",
   "metadata": {
    "id": "C6yJHiLkUWqd"
   },
   "source": [
    "Посмотрим на соотношения людей, в smart и smart+"
   ]
  },
  {
   "cell_type": "code",
   "execution_count": 263,
   "metadata": {
    "id": "oGy56b_TSgN6"
   },
   "outputs": [],
   "source": [
    "smart = result[result['tariff'] == 'smart']"
   ]
  },
  {
   "cell_type": "markdown",
   "metadata": {
    "id": "eOPYW0_McMsZ"
   },
   "source": [
    "Напишем функцию, которая считает процент месяцев, когда пользователь выходил за пределы тарифа"
   ]
  },
  {
   "cell_type": "code",
   "execution_count": 264,
   "metadata": {
    "id": "3qvG0JynZAqF"
   },
   "outputs": [],
   "source": [
    "def pct_out(table):\n",
    "  if table['tariff'].values[0] == 'smart':\n",
    "    cnt_diff_min_less = table[table['diff_min'] < 0 ]['diff_min'].count()\n",
    "    cnt_diff_min_greater = table[table['diff_min'] > 0]['diff_min'].count()\n",
    "    sum_count = cnt_diff_min_less + cnt_diff_min_greater\n",
    "    print('Тариф Smart')\n",
    "    print(\"\\n\")\n",
    "    print(f'Процент месяцев, когда абонент ВЫХОДИЛ за лимит тарифа по минутам: {round(cnt_diff_min_less/sum_count,2)*100}')\n",
    "    print(f'Процент месяцев, когда абонент НЕ ВЫХОДИЛ за лимит тарифа по минутам: {round(cnt_diff_min_greater/sum_count,2)*100}')\n",
    "    print('\\n')\n",
    "\n",
    "    cnt_diff_min_less = table[table['diff_mess'] < 0 ]['diff_mess'].count()\n",
    "    cnt_diff_min_greater = table[table['diff_mess'] > 0]['diff_mess'].count()\n",
    "    sum_count = cnt_diff_min_less + cnt_diff_min_greater\n",
    "    print(f'Процент месяцев, когда абонент ВЫХОДИЛ за лимит тарифа по сообщениям: {round(cnt_diff_min_less/sum_count,2)*100}')\n",
    "    print(f'Процент месяцев, когда абонент НЕ ВЫХОДИЛ за лимит тарифа по сообщениям: {round(cnt_diff_min_greater/sum_count,2)*100}')\n",
    "    print('\\n')\n",
    "\n",
    "    cnt_diff_min_less = table[table['diff_GB_round'] < 0 ]['diff_GB_round'].count()\n",
    "    cnt_diff_min_greater = table[table['diff_GB_round'] > 0]['diff_GB_round'].count()\n",
    "    sum_count = cnt_diff_min_less + cnt_diff_min_greater\n",
    "    print(f'Процент месяцев, когда абонент ВЫХОДИЛ за лимит тарифа по ГБ интернета: {round(cnt_diff_min_less/sum_count,2)*100}')\n",
    "    print(f'Процент месяцев, когда абонент НЕ ВЫХОДИЛ за лимит тарифа по ГБ интернета: {round(cnt_diff_min_greater/sum_count,2)*100}')\n",
    "    print('\\n')\n",
    "  elif table['tariff'].values[0] == 'smart_plus':\n",
    "    cnt_diff_min_less = table[table['min_diff'] < 0 ]['min_diff'].count()\n",
    "    cnt_diff_min_greater = table[table['min_diff'] > 0]['min_diff'].count()\n",
    "    sum_count = cnt_diff_min_less + cnt_diff_min_greater\n",
    "    print('Тариф Smart Plus')\n",
    "    print(\"\\n\")\n",
    "    print(f'Процент месяцев, когда абонент ВЫХОДИЛ за лимит тарифа по минутам: {round(cnt_diff_min_less/sum_count,2)*100}')\n",
    "    print(f'Процент месяцев, когда абонент НЕ ВЫХОДИЛ за лимит тарифа по минутам: {round(cnt_diff_min_greater/sum_count,2)*100}')\n",
    "    print('\\n')\n",
    "\n",
    "    cnt_diff_min_less = table[table['mes_diff'] < 0 ]['mes_diff'].count()\n",
    "    cnt_diff_min_greater = table[table['mes_diff'] > 0]['mes_diff'].count()\n",
    "    sum_count = cnt_diff_min_less + cnt_diff_min_greater\n",
    "    print(f'Процент месяцев, когда абонент ВЫХОДИЛ за лимит тарифа по сообщениям: {round(cnt_diff_min_less/sum_count,2)*100}')\n",
    "    print(f'Процент месяцев, когда абонент НЕ ВЫХОДИЛ за лимит тарифа по сообщениям: {round(cnt_diff_min_greater/sum_count,2)*100}')\n",
    "    print('\\n')\n",
    "\n",
    "    cnt_diff_min_less = table[table['GB_diff_round'] < 0 ]['GB_diff_round'].count()\n",
    "    cnt_diff_min_greater = table[table['GB_diff_round'] > 0]['GB_diff_round'].count()\n",
    "    sum_count = cnt_diff_min_less + cnt_diff_min_greater\n",
    "    print(f'Процент месяцев, когда абонент ВЫХОДИЛ за лимит тарифа по ГБ интернета: {round(cnt_diff_min_less/sum_count,2)*100}')\n",
    "    print(f'Процент месяцев, когда абонент НЕ ВЫХОДИЛ за лимит тарифа по ГБ интернета: {round(cnt_diff_min_greater/sum_count,2)*100}')\n",
    "    print('\\n')"
   ]
  },
  {
   "cell_type": "code",
   "execution_count": 265,
   "metadata": {
    "colab": {
     "base_uri": "https://localhost:8080/"
    },
    "id": "217SwdUiTes1",
    "outputId": "c5d60975-5935-4f53-edef-2c1efc63cd26"
   },
   "outputs": [
    {
     "name": "stdout",
     "output_type": "stream",
     "text": [
      "Тариф Smart Plus\n",
      "\n",
      "\n",
      "Процент месяцев, когда абонент ВЫХОДИЛ за лимит тарифа по минутам: 13.0\n",
      "Процент месяцев, когда абонент НЕ ВЫХОДИЛ за лимит тарифа по минутам: 87.0\n",
      "\n",
      "\n",
      "Процент месяцев, когда абонент ВЫХОДИЛ за лимит тарифа по сообщениям: 17.0\n",
      "Процент месяцев, когда абонент НЕ ВЫХОДИЛ за лимит тарифа по сообщениям: 83.0\n",
      "\n",
      "\n",
      "Процент месяцев, когда абонент ВЫХОДИЛ за лимит тарифа по ГБ интернета: 46.0\n",
      "Процент месяцев, когда абонент НЕ ВЫХОДИЛ за лимит тарифа по ГБ интернета: 54.0\n",
      "\n",
      "\n"
     ]
    }
   ],
   "source": [
    "pct_out(smart_plus)"
   ]
  },
  {
   "cell_type": "code",
   "execution_count": 266,
   "metadata": {
    "colab": {
     "base_uri": "https://localhost:8080/"
    },
    "id": "3wXv0czpVmLz",
    "outputId": "76229931-7376-4bd6-c603-fba2c8ee9134"
   },
   "outputs": [
    {
     "name": "stdout",
     "output_type": "stream",
     "text": [
      "Тариф Smart\n",
      "\n",
      "\n",
      "Процент месяцев, когда абонент ВЫХОДИЛ за лимит тарифа по минутам: 34.0\n",
      "Процент месяцев, когда абонент НЕ ВЫХОДИЛ за лимит тарифа по минутам: 66.0\n",
      "\n",
      "\n",
      "Процент месяцев, когда абонент ВЫХОДИЛ за лимит тарифа по сообщениям: 30.0\n",
      "Процент месяцев, когда абонент НЕ ВЫХОДИЛ за лимит тарифа по сообщениям: 70.0\n",
      "\n",
      "\n",
      "Процент месяцев, когда абонент ВЫХОДИЛ за лимит тарифа по ГБ интернета: 63.0\n",
      "Процент месяцев, когда абонент НЕ ВЫХОДИЛ за лимит тарифа по ГБ интернета: 37.0\n",
      "\n",
      "\n"
     ]
    }
   ],
   "source": [
    "pct_out(smart)"
   ]
  },
  {
   "cell_type": "markdown",
   "metadata": {
    "id": "1PHAKpM1cfho"
   },
   "source": [
    "По всем показателям тарифа smart_plus, кол-во месяцев, где пользователь вышел за пределы тарифа значительно уменьшилось по сообщениям и звонкам. По интернету мы имеем очень большой разброс данных, поэтому разница не так сильно бросается в глаза"
   ]
  }
 ],
 "metadata": {
  "colab": {
   "authorship_tag": "ABX9TyPrt2b63hMKwZNAov3RxtRi",
   "collapsed_sections": [],
   "include_colab_link": true,
   "name": "Analysis_Telecom_Tariff",
   "provenance": [],
   "toc_visible": true
  },
  "kernelspec": {
   "display_name": "Python 3 (ipykernel)",
   "language": "python",
   "name": "python3"
  },
  "language_info": {
   "codemirror_mode": {
    "name": "ipython",
    "version": 3
   },
   "file_extension": ".py",
   "mimetype": "text/x-python",
   "name": "python",
   "nbconvert_exporter": "python",
   "pygments_lexer": "ipython3",
   "version": "3.9.12"
  },
  "toc": {
   "base_numbering": 1,
   "nav_menu": {},
   "number_sections": true,
   "sideBar": true,
   "skip_h1_title": false,
   "title_cell": "Table of Contents",
   "title_sidebar": "Contents",
   "toc_cell": true,
   "toc_position": {},
   "toc_section_display": true,
   "toc_window_display": true
  }
 },
 "nbformat": 4,
 "nbformat_minor": 1
}
